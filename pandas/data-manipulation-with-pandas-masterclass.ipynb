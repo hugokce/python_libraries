

https://www.udemy.com/course/data-manipulation-with-pandas-masterclass/learn/lecture/26338542#overview
DataManipulationPandasMasterclass_1saat_FrancescoMosconi
zerotodeeplearning.com

titanic=pd.read_csv("data/titanic.csv)
titanic.to_excel('titanic.xlsx',sheet_name='passengers',index=False)

ages=titanic["Age]  series
age_sex=titanic[["Age","Sex"]]  dataframe

above_35=titanic[titanic["Age"]>35]
class_23=titanic[titanic["Pclass"].isin([2,3])]
class23=titanic[(titanic["Pclass"]==2) | (titanic["Pclass"]==3)]

adult_names=titanic.loc[titanic["Age"]>35,"Name"]
titanic.iloc[9:25,2:5]

titanic[["Age","Fare"]].median()
titanic[["Sex","Age"]].groupby("Sex").mean()

titanic["Pclass"].value_counts()
titanic.groupby("Pclass")["Pclass"].count()

titanic.sort_values(by="Age")
titanic.sort_values(by=["Pclass","Age"],ascending=False)

no2_subset.pivot(columns="location",values="value")
no_2=no2_pivoted.melt(id_vars="date.utc")

air_quality.pivot_table(
	values="value",
	index="location",
	columns="parameter",
	aggfunc="mean")


air_quality=pd.concat([air_quality_pm25,air_quality_no2],axis=0)
air_quality=pd.merge([air_quality, station_coord,how="left",on="location")

air_quality["datetime"]=pd.to_datetime(air_quality["datetime"])
air_quality["datetime"].max() - air_quality["datetime"].min()
pd.Timestamp
pd.Timedelta

ek komutlar
df.head(),df.tail(),df.info(),df.describe(), pd.get_dummies()
.isnull(),.isna(),notna(), .dropna(),.fillna()
.all(), .any() , .apply(), .rolling(), .expanding(), .ewm()
.str. , .cut()


air_quality.plot()
air_quality.plot.scatter(x="station_london",y="station_paris",alpha=0.5)

bit.ly/ztdl_pandas
https://github.com/zerotodeeplearning/ztdl-masterclasses/blob/master/notebooks/Data_Manipulation_with_Pandas.ipynb
https://github.com/zerotodeeplearning/ztdl-masterclasses  download ettim kısa eğitimler içinde var
ztdl-masterclasses-master.zip
Data_Manipulation_with_Pandas.ipynb  colabtan indirdim

çözümler
df.query('Survived==1').head()
df.query('Embarked=="S"').head()
df[df['Sex']=='male'].head()
df[(df.Fare<40000) & (df.Pclass==3)].head()
df.query('PassengerId==674')
df['Age'].mean()
df['Survived'].value_counts()
df['Sex'].value_counts()
df.pivot_table(index='Survived',columns='Sex',values='PassengerId',aggfunc='count')
df.pivot_table(index='Survived',columns='Pclass',values='Fare',aggfunc='mean')

lab2
top_countries=dfcountries.tail(1).transpose().iloc[:,0].sort_values(ascending=False).head(20)
top_countries

top_countries.sort_values().plot(kind='barh',title='Total cases',figsize=(15,10))
