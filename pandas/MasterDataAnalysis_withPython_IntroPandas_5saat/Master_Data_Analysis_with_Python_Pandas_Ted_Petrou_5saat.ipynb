{
 "cells": [
  {
   "cell_type": "code",
   "execution_count": 2,
   "id": "d345f1d5",
   "metadata": {},
   "outputs": [],
   "source": [
    "#https://www.udemy.com/course/draft/2259894/learn/lecture/13950026?start=0#overview\n",
    "#5 saat"
   ]
  },
  {
   "cell_type": "code",
   "execution_count": 1,
   "id": "8abda2b0",
   "metadata": {},
   "outputs": [],
   "source": [
    "import numpy as np\n",
    "import pandas as pd"
   ]
  },
  {
   "cell_type": "code",
   "execution_count": 4,
   "id": "4ff131d5",
   "metadata": {},
   "outputs": [],
   "source": [
    "#Master+Data+Analysis+with+Python+-+Intro+to+pandas.zip indirildi\n",
    "#Master Data Analysis with Python - Intro to Pandas.pdf kitabı var\n",
    "#bölümlerin notebookları var"
   ]
  },
  {
   "cell_type": "code",
   "execution_count": 5,
   "id": "8edfb7ff",
   "metadata": {},
   "outputs": [],
   "source": [
    "#What is pandas notebook ile başladık\n",
    "#filtering, aggregating, tidying, grouping\n",
    "#joining, timeseries işlemleri yapılabilir\n"
   ]
  },
  {
   "cell_type": "code",
   "execution_count": 6,
   "id": "19542183",
   "metadata": {},
   "outputs": [],
   "source": [
    "#notebookların sırasıyla not alındı çalıştırıldı"
   ]
  },
  {
   "cell_type": "code",
   "execution_count": 7,
   "id": "4953f74c",
   "metadata": {},
   "outputs": [],
   "source": [
    "#13 notebook tamamlandı"
   ]
  },
  {
   "cell_type": "code",
   "execution_count": null,
   "id": "4d6e0409",
   "metadata": {},
   "outputs": [],
   "source": []
  },
  {
   "cell_type": "code",
   "execution_count": null,
   "id": "f1b40612",
   "metadata": {},
   "outputs": [],
   "source": []
  },
  {
   "cell_type": "code",
   "execution_count": null,
   "id": "2e08ebd6",
   "metadata": {},
   "outputs": [],
   "source": []
  },
  {
   "cell_type": "code",
   "execution_count": null,
   "id": "0c34d806",
   "metadata": {},
   "outputs": [],
   "source": []
  },
  {
   "cell_type": "code",
   "execution_count": null,
   "id": "aaef493a",
   "metadata": {},
   "outputs": [],
   "source": []
  },
  {
   "cell_type": "code",
   "execution_count": null,
   "id": "1457a599",
   "metadata": {},
   "outputs": [],
   "source": []
  },
  {
   "cell_type": "code",
   "execution_count": null,
   "id": "307b2676",
   "metadata": {},
   "outputs": [],
   "source": []
  },
  {
   "cell_type": "code",
   "execution_count": null,
   "id": "fc37b7e6",
   "metadata": {},
   "outputs": [],
   "source": []
  },
  {
   "cell_type": "code",
   "execution_count": null,
   "id": "887cb85e",
   "metadata": {},
   "outputs": [],
   "source": []
  },
  {
   "cell_type": "code",
   "execution_count": null,
   "id": "0870a508",
   "metadata": {},
   "outputs": [],
   "source": []
  },
  {
   "cell_type": "code",
   "execution_count": null,
   "id": "94014b81",
   "metadata": {},
   "outputs": [],
   "source": []
  },
  {
   "cell_type": "code",
   "execution_count": null,
   "id": "7415f78f",
   "metadata": {},
   "outputs": [],
   "source": []
  },
  {
   "cell_type": "code",
   "execution_count": null,
   "id": "56cf0bb8",
   "metadata": {},
   "outputs": [],
   "source": []
  },
  {
   "cell_type": "code",
   "execution_count": null,
   "id": "94824f37",
   "metadata": {},
   "outputs": [],
   "source": []
  },
  {
   "cell_type": "code",
   "execution_count": null,
   "id": "df44f55b",
   "metadata": {},
   "outputs": [],
   "source": []
  },
  {
   "cell_type": "code",
   "execution_count": null,
   "id": "3202a04a",
   "metadata": {},
   "outputs": [],
   "source": []
  }
 ],
 "metadata": {
  "kernelspec": {
   "display_name": "Python 3",
   "language": "python",
   "name": "python3"
  },
  "language_info": {
   "codemirror_mode": {
    "name": "ipython",
    "version": 3
   },
   "file_extension": ".py",
   "mimetype": "text/x-python",
   "name": "python",
   "nbconvert_exporter": "python",
   "pygments_lexer": "ipython3",
   "version": "3.7.7"
  }
 },
 "nbformat": 4,
 "nbformat_minor": 5
}
