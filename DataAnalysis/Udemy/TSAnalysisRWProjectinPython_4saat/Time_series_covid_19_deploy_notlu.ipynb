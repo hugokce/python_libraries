{
 "cells": [
  {
   "cell_type": "code",
   "execution_count": null,
   "metadata": {
    "id": "C4DD5v06oddT"
   },
   "outputs": [],
   "source": [
    "#### Prblm statement-->> predict the total number of confirmed cases"
   ]
  },
  {
   "cell_type": "code",
   "execution_count": 1,
   "metadata": {
    "id": "VDWaFiKzoddW"
   },
   "outputs": [
    {
     "name": "stdout",
     "output_type": "stream",
     "text": [
      "Collecting pystan\n",
      "  Downloading pystan-3.3.0-py3-none-any.whl (13 kB)\n",
      "Collecting pysimdjson<4.0,>=3.2\n",
      "  Downloading pysimdjson-3.2.0-cp37-cp37m-win_amd64.whl (149 kB)\n",
      "Collecting clikit<0.7,>=0.6\n",
      "  Downloading clikit-0.6.2-py2.py3-none-any.whl (91 kB)\n",
      "Collecting aiohttp<4.0,>=3.6\n",
      "  Downloading aiohttp-3.8.3-cp37-cp37m-win_amd64.whl (322 kB)\n",
      "Collecting pystan\n",
      "  Downloading pystan-3.2.0-py3-none-any.whl (13 kB)\n",
      "  Downloading pystan-3.1.1-py3-none-any.whl (13 kB)\n",
      "  Downloading pystan-3.1.0-py3-none-any.whl (13 kB)\n",
      "  Downloading pystan-3.0.2-py3-none-any.whl (13 kB)\n",
      "  Downloading pystan-3.0.1-py3-none-any.whl (12 kB)\n",
      "  Downloading pystan-3.0.0-py3-none-any.whl (12 kB)\n",
      "  Downloading pystan-2.19.1.1-cp37-cp37m-win_amd64.whl (79.8 MB)\n",
      "Requirement already satisfied: Cython!=0.25.1,>=0.22 in c:\\users\\bootcamp\\anaconda3\\lib\\site-packages (from pystan) (0.29.28)\n",
      "Requirement already satisfied: numpy>=1.7 in c:\\users\\bootcamp\\anaconda3\\lib\\site-packages (from pystan) (1.21.6)\n",
      "Installing collected packages: pystan\n",
      "Successfully installed pystan-2.19.1.1\n"
     ]
    },
    {
     "name": "stderr",
     "output_type": "stream",
     "text": [
      "WARNING: Ignoring invalid distribution -tatsmodels (c:\\users\\bootcamp\\anaconda3\\lib\\site-packages)\n",
      "WARNING: Ignoring invalid distribution -tatsmodels (c:\\users\\bootcamp\\anaconda3\\lib\\site-packages)\n",
      "WARNING: Ignoring invalid distribution -tatsmodels (c:\\users\\bootcamp\\anaconda3\\lib\\site-packages)\n",
      "WARNING: Ignoring invalid distribution -tatsmodels (c:\\users\\bootcamp\\anaconda3\\lib\\site-packages)\n",
      "WARNING: Ignoring invalid distribution -tatsmodels (c:\\users\\bootcamp\\anaconda3\\lib\\site-packages)\n",
      "WARNING: Ignoring invalid distribution -tatsmodels (c:\\users\\bootcamp\\anaconda3\\lib\\site-packages)\n",
      "WARNING: Ignoring invalid distribution -tatsmodels (c:\\users\\bootcamp\\anaconda3\\lib\\site-packages)\n"
     ]
    },
    {
     "name": "stdout",
     "output_type": "stream",
     "text": [
      "Collecting fbprophet\n",
      "  Downloading fbprophet-0.7.1.tar.gz (64 kB)\n",
      "Requirement already satisfied: Cython>=0.22 in c:\\users\\bootcamp\\anaconda3\\lib\\site-packages (from fbprophet) (0.29.28)\n",
      "Collecting cmdstanpy==0.9.5\n",
      "  Downloading cmdstanpy-0.9.5-py3-none-any.whl (37 kB)\n",
      "Requirement already satisfied: pystan>=2.14 in c:\\users\\bootcamp\\anaconda3\\lib\\site-packages (from fbprophet) (2.19.1.1)\n",
      "Requirement already satisfied: numpy>=1.15.4 in c:\\users\\bootcamp\\anaconda3\\lib\\site-packages (from fbprophet) (1.21.6)\n",
      "Requirement already satisfied: pandas>=1.0.4 in c:\\users\\bootcamp\\anaconda3\\lib\\site-packages (from fbprophet) (1.3.5)\n",
      "Requirement already satisfied: matplotlib>=2.0.0 in c:\\users\\bootcamp\\anaconda3\\lib\\site-packages (from fbprophet) (3.5.3)\n",
      "Collecting LunarCalendar>=0.0.9\n",
      "  Downloading LunarCalendar-0.0.9-py2.py3-none-any.whl (18 kB)\n",
      "Collecting convertdate>=2.1.2\n",
      "  Downloading convertdate-2.4.0-py3-none-any.whl (47 kB)\n",
      "Collecting holidays>=0.10.2\n",
      "  Downloading holidays-0.19-py3-none-any.whl (208 kB)\n",
      "Collecting setuptools-git>=1.2\n",
      "  Downloading setuptools_git-1.2-py2.py3-none-any.whl (10 kB)\n",
      "Requirement already satisfied: python-dateutil>=2.8.0 in c:\\users\\bootcamp\\anaconda3\\lib\\site-packages (from fbprophet) (2.8.2)\n",
      "Requirement already satisfied: tqdm>=4.36.1 in c:\\users\\bootcamp\\anaconda3\\lib\\site-packages (from fbprophet) (4.64.0)\n",
      "Collecting pymeeus<=1,>=0.3.13\n",
      "  Downloading PyMeeus-0.5.12.tar.gz (5.8 MB)\n",
      "Collecting hijri-converter\n",
      "  Downloading hijri_converter-2.2.4-py3-none-any.whl (14 kB)\n",
      "Collecting korean-lunar-calendar\n",
      "  Downloading korean_lunar_calendar-0.3.1-py3-none-any.whl (9.0 kB)\n",
      "Collecting ephem>=3.7.5.3\n",
      "  Downloading ephem-4.1.4-cp37-cp37m-win_amd64.whl (1.4 MB)\n",
      "Requirement already satisfied: pytz in c:\\users\\bootcamp\\anaconda3\\lib\\site-packages (from LunarCalendar>=0.0.9->fbprophet) (2022.1)\n",
      "Requirement already satisfied: kiwisolver>=1.0.1 in c:\\users\\bootcamp\\anaconda3\\lib\\site-packages (from matplotlib>=2.0.0->fbprophet) (1.4.2)\n",
      "Requirement already satisfied: pyparsing>=2.2.1 in c:\\users\\bootcamp\\anaconda3\\lib\\site-packages (from matplotlib>=2.0.0->fbprophet) (3.0.4)\n",
      "Requirement already satisfied: fonttools>=4.22.0 in c:\\users\\bootcamp\\anaconda3\\lib\\site-packages (from matplotlib>=2.0.0->fbprophet) (4.36.0)\n",
      "Requirement already satisfied: cycler>=0.10 in c:\\users\\bootcamp\\anaconda3\\lib\\site-packages (from matplotlib>=2.0.0->fbprophet) (0.11.0)\n",
      "Requirement already satisfied: packaging>=20.0 in c:\\users\\bootcamp\\anaconda3\\lib\\site-packages (from matplotlib>=2.0.0->fbprophet) (21.3)\n",
      "Requirement already satisfied: pillow>=6.2.0 in c:\\users\\bootcamp\\anaconda3\\lib\\site-packages (from matplotlib>=2.0.0->fbprophet) (9.0.1)\n",
      "Requirement already satisfied: typing-extensions in c:\\users\\bootcamp\\anaconda3\\lib\\site-packages (from kiwisolver>=1.0.1->matplotlib>=2.0.0->fbprophet) (4.1.1)\n",
      "Requirement already satisfied: six>=1.5 in c:\\users\\bootcamp\\anaconda3\\lib\\site-packages (from python-dateutil>=2.8.0->fbprophet) (1.16.0)\n",
      "Requirement already satisfied: colorama in c:\\users\\bootcamp\\anaconda3\\lib\\site-packages (from tqdm>=4.36.1->fbprophet) (0.4.4)\n",
      "Building wheels for collected packages: fbprophet, pymeeus\n",
      "  Building wheel for fbprophet (setup.py): started\n",
      "  Building wheel for fbprophet (setup.py): finished with status 'error'\n",
      "  Running setup.py clean for fbprophet\n",
      "  Building wheel for pymeeus (setup.py): started\n",
      "  Building wheel for pymeeus (setup.py): finished with status 'done'\n",
      "  Created wheel for pymeeus: filename=PyMeeus-0.5.12-py3-none-any.whl size=732018 sha256=858bd8dff5c66d25d8aba1bf799180b022b4536cd5c2a3db2c8c14e3cf5df293\n",
      "  Stored in directory: c:\\users\\bootcamp\\appdata\\local\\pip\\cache\\wheels\\1e\\5a\\c0\\fca16a6d08089e38ac5a71f3f8ea7a9a12b3356ff3debd8c59\n",
      "Successfully built pymeeus\n",
      "Failed to build fbprophet\n",
      "Installing collected packages: pymeeus, korean-lunar-calendar, hijri-converter, ephem, convertdate, setuptools-git, LunarCalendar, holidays, cmdstanpy, fbprophet\n",
      "    Running setup.py install for fbprophet: started\n",
      "    Running setup.py install for fbprophet: finished with status 'error'\n"
     ]
    },
    {
     "name": "stderr",
     "output_type": "stream",
     "text": [
      "WARNING: Ignoring invalid distribution -tatsmodels (c:\\users\\bootcamp\\anaconda3\\lib\\site-packages)\n",
      "WARNING: Ignoring invalid distribution -tatsmodels (c:\\users\\bootcamp\\anaconda3\\lib\\site-packages)\n",
      "  ERROR: Command errored out with exit status 1:\n",
      "   command: 'C:\\Users\\Bootcamp\\Anaconda3\\python.exe' -u -c 'import io, os, sys, setuptools, tokenize; sys.argv[0] = '\"'\"'C:\\\\Users\\\\Bootcamp\\\\AppData\\\\Local\\\\Temp\\\\pip-install-yalcqyl7\\\\fbprophet_73503565b5934c36a8fc570fa93e18fb\\\\setup.py'\"'\"'; __file__='\"'\"'C:\\\\Users\\\\Bootcamp\\\\AppData\\\\Local\\\\Temp\\\\pip-install-yalcqyl7\\\\fbprophet_73503565b5934c36a8fc570fa93e18fb\\\\setup.py'\"'\"';f = getattr(tokenize, '\"'\"'open'\"'\"', open)(__file__) if os.path.exists(__file__) else io.StringIO('\"'\"'from setuptools import setup; setup()'\"'\"');code = f.read().replace('\"'\"'\\r\\n'\"'\"', '\"'\"'\\n'\"'\"');f.close();exec(compile(code, __file__, '\"'\"'exec'\"'\"'))' bdist_wheel -d 'C:\\Users\\Bootcamp\\AppData\\Local\\Temp\\pip-wheel-hfruomsb'\n",
      "       cwd: C:\\Users\\Bootcamp\\AppData\\Local\\Temp\\pip-install-yalcqyl7\\fbprophet_73503565b5934c36a8fc570fa93e18fb\\\n",
      "  Complete output (184 lines):\n",
      "  running bdist_wheel\n",
      "  running build\n",
      "  running build_py\n",
      "  creating build\n",
      "  creating build\\lib\n",
      "  creating build\\lib\\fbprophet\n",
      "  creating build\\lib\\fbprophet\\stan_model\n",
      "  --- Logging error ---\n",
      "  Traceback (most recent call last):\n",
      "    File \"C:\\Users\\Bootcamp\\Anaconda3\\lib\\logging\\__init__.py\", line 1028, in emit\n",
      "      stream.write(msg + self.terminator)\n",
      "  ValueError: underlying buffer has been detached\n",
      "  Call stack:\n",
      "    File \"<string>\", line 1, in <module>\n",
      "    File \"C:\\Users\\Bootcamp\\AppData\\Local\\Temp\\pip-install-yalcqyl7\\fbprophet_73503565b5934c36a8fc570fa93e18fb\\setup.py\", line 149, in <module>\n",
      "      long_description_content_type='text/markdown',\n",
      "    File \"C:\\Users\\Bootcamp\\Anaconda3\\lib\\site-packages\\setuptools\\__init__.py\", line 87, in setup\n",
      "      return distutils.core.setup(**attrs)\n",
      "    File \"C:\\Users\\Bootcamp\\Anaconda3\\lib\\site-packages\\setuptools\\_distutils\\core.py\", line 148, in setup\n",
      "      return run_commands(dist)\n",
      "    File \"C:\\Users\\Bootcamp\\Anaconda3\\lib\\site-packages\\setuptools\\_distutils\\core.py\", line 163, in run_commands\n",
      "      dist.run_commands()\n",
      "    File \"C:\\Users\\Bootcamp\\Anaconda3\\lib\\site-packages\\setuptools\\_distutils\\dist.py\", line 967, in run_commands\n",
      "      self.run_command(cmd)\n",
      "    File \"C:\\Users\\Bootcamp\\Anaconda3\\lib\\site-packages\\setuptools\\dist.py\", line 1214, in run_command\n",
      "      super().run_command(command)\n",
      "    File \"C:\\Users\\Bootcamp\\Anaconda3\\lib\\site-packages\\setuptools\\_distutils\\dist.py\", line 986, in run_command\n",
      "      cmd_obj.run()\n",
      "    File \"C:\\Users\\Bootcamp\\Anaconda3\\lib\\site-packages\\wheel\\bdist_wheel.py\", line 299, in run\n",
      "      self.run_command('build')\n",
      "    File \"C:\\Users\\Bootcamp\\Anaconda3\\lib\\site-packages\\setuptools\\_distutils\\cmd.py\", line 313, in run_command\n",
      "      self.distribution.run_command(command)\n",
      "    File \"C:\\Users\\Bootcamp\\Anaconda3\\lib\\site-packages\\setuptools\\dist.py\", line 1214, in run_command\n",
      "      super().run_command(command)\n",
      "    File \"C:\\Users\\Bootcamp\\Anaconda3\\lib\\site-packages\\setuptools\\_distutils\\dist.py\", line 986, in run_command\n",
      "      cmd_obj.run()\n",
      "    File \"C:\\Users\\Bootcamp\\Anaconda3\\lib\\site-packages\\setuptools\\_distutils\\command\\build.py\", line 135, in run\n",
      "      self.run_command(cmd_name)\n",
      "    File \"C:\\Users\\Bootcamp\\Anaconda3\\lib\\site-packages\\setuptools\\_distutils\\cmd.py\", line 313, in run_command\n",
      "      self.distribution.run_command(command)\n",
      "    File \"C:\\Users\\Bootcamp\\Anaconda3\\lib\\site-packages\\setuptools\\dist.py\", line 1214, in run_command\n",
      "      super().run_command(command)\n",
      "    File \"C:\\Users\\Bootcamp\\Anaconda3\\lib\\site-packages\\setuptools\\_distutils\\dist.py\", line 986, in run_command\n",
      "      cmd_obj.run()\n",
      "    File \"C:\\Users\\Bootcamp\\AppData\\Local\\Temp\\pip-install-yalcqyl7\\fbprophet_73503565b5934c36a8fc570fa93e18fb\\setup.py\", line 48, in run\n",
      "      build_models(target_dir)\n",
      "    File \"C:\\Users\\Bootcamp\\AppData\\Local\\Temp\\pip-install-yalcqyl7\\fbprophet_73503565b5934c36a8fc570fa93e18fb\\setup.py\", line 36, in build_models\n",
      "      from fbprophet.models import StanBackendEnum\n",
      "    File \"<frozen importlib._bootstrap>\", line 983, in _find_and_load\n",
      "    File \"<frozen importlib._bootstrap>\", line 953, in _find_and_load_unlocked\n",
      "    File \"<frozen importlib._bootstrap>\", line 219, in _call_with_frames_removed\n",
      "    File \"<frozen importlib._bootstrap>\", line 983, in _find_and_load\n",
      "    File \"<frozen importlib._bootstrap>\", line 967, in _find_and_load_unlocked\n",
      "    File \"<frozen importlib._bootstrap>\", line 677, in _load_unlocked\n",
      "    File \"<frozen importlib._bootstrap_external>\", line 728, in exec_module\n",
      "    File \"<frozen importlib._bootstrap>\", line 219, in _call_with_frames_removed\n",
      "    File \"C:\\Users\\Bootcamp\\AppData\\Local\\Temp\\pip-install-yalcqyl7\\fbprophet_73503565b5934c36a8fc570fa93e18fb\\fbprophet\\__init__.py\", line 8, in <module>\n",
      "      from fbprophet.forecaster import Prophet\n",
      "    File \"<frozen importlib._bootstrap>\", line 983, in _find_and_load\n",
      "    File \"<frozen importlib._bootstrap>\", line 967, in _find_and_load_unlocked\n",
      "    File \"<frozen importlib._bootstrap>\", line 677, in _load_unlocked\n",
      "    File \"<frozen importlib._bootstrap_external>\", line 728, in exec_module\n",
      "    File \"<frozen importlib._bootstrap>\", line 219, in _call_with_frames_removed\n",
      "    File \"C:\\Users\\Bootcamp\\AppData\\Local\\Temp\\pip-install-yalcqyl7\\fbprophet_73503565b5934c36a8fc570fa93e18fb\\fbprophet\\forecaster.py\", line 15, in <module>\n",
      "      import pandas as pd\n",
      "    File \"<frozen importlib._bootstrap>\", line 983, in _find_and_load\n",
      "    File \"<frozen importlib._bootstrap>\", line 967, in _find_and_load_unlocked\n",
      "    File \"<frozen importlib._bootstrap>\", line 677, in _load_unlocked\n",
      "    File \"<frozen importlib._bootstrap_external>\", line 728, in exec_module\n",
      "    File \"<frozen importlib._bootstrap>\", line 219, in _call_with_frames_removed\n",
      "    File \"C:\\Users\\Bootcamp\\Anaconda3\\lib\\site-packages\\pandas\\__init__.py\", line 50, in <module>\n",
      "      from pandas.core.api import (\n",
      "    File \"<frozen importlib._bootstrap>\", line 983, in _find_and_load\n",
      "    File \"<frozen importlib._bootstrap>\", line 967, in _find_and_load_unlocked\n",
      "    File \"<frozen importlib._bootstrap>\", line 677, in _load_unlocked\n",
      "    File \"<frozen importlib._bootstrap_external>\", line 728, in exec_module\n",
      "    File \"<frozen importlib._bootstrap>\", line 219, in _call_with_frames_removed\n",
      "    File \"C:\\Users\\Bootcamp\\Anaconda3\\lib\\site-packages\\pandas\\core\\api.py\", line 29, in <module>\n",
      "      from pandas.core.arrays import Categorical\n",
      "    File \"<frozen importlib._bootstrap>\", line 983, in _find_and_load\n",
      "    File \"<frozen importlib._bootstrap>\", line 967, in _find_and_load_unlocked\n",
      "    File \"<frozen importlib._bootstrap>\", line 677, in _load_unlocked\n",
      "    File \"<frozen importlib._bootstrap_external>\", line 728, in exec_module\n",
      "    File \"<frozen importlib._bootstrap>\", line 219, in _call_with_frames_removed\n",
      "    File \"C:\\Users\\Bootcamp\\Anaconda3\\lib\\site-packages\\pandas\\core\\arrays\\__init__.py\", line 1, in <module>\n",
      "      from pandas.core.arrays.base import (\n",
      "    File \"<frozen importlib._bootstrap>\", line 983, in _find_and_load\n",
      "    File \"<frozen importlib._bootstrap>\", line 967, in _find_and_load_unlocked\n",
      "    File \"<frozen importlib._bootstrap>\", line 677, in _load_unlocked\n",
      "    File \"<frozen importlib._bootstrap_external>\", line 728, in exec_module\n",
      "    File \"<frozen importlib._bootstrap>\", line 219, in _call_with_frames_removed\n",
      "    File \"C:\\Users\\Bootcamp\\Anaconda3\\lib\\site-packages\\pandas\\core\\arrays\\base.py\", line 60, in <module>\n",
      "      from pandas.core import (\n",
      "    File \"<frozen importlib._bootstrap>\", line 1035, in _handle_fromlist\n",
      "    File \"<frozen importlib._bootstrap>\", line 219, in _call_with_frames_removed\n",
      "    File \"<frozen importlib._bootstrap>\", line 983, in _find_and_load\n",
      "    File \"<frozen importlib._bootstrap>\", line 967, in _find_and_load_unlocked\n",
      "    File \"<frozen importlib._bootstrap>\", line 677, in _load_unlocked\n",
      "    File \"<frozen importlib._bootstrap_external>\", line 728, in exec_module\n",
      "    File \"<frozen importlib._bootstrap>\", line 219, in _call_with_frames_removed\n",
      "    File \"C:\\Users\\Bootcamp\\Anaconda3\\lib\\site-packages\\pandas\\core\\ops\\__init__.py\", line 32, in <module>\n",
      "      from pandas.core.ops.array_ops import (  # noqa:F401\n",
      "    File \"<frozen importlib._bootstrap>\", line 983, in _find_and_load\n",
      "    File \"<frozen importlib._bootstrap>\", line 967, in _find_and_load_unlocked\n",
      "    File \"<frozen importlib._bootstrap>\", line 677, in _load_unlocked\n",
      "    File \"<frozen importlib._bootstrap_external>\", line 728, in exec_module\n",
      "    File \"<frozen importlib._bootstrap>\", line 219, in _call_with_frames_removed\n",
      "    File \"C:\\Users\\Bootcamp\\Anaconda3\\lib\\site-packages\\pandas\\core\\ops\\array_ops.py\", line 48, in <module>\n",
      "      import pandas.core.computation.expressions as expressions\n",
      "    File \"<frozen importlib._bootstrap>\", line 983, in _find_and_load\n",
      "    File \"<frozen importlib._bootstrap>\", line 967, in _find_and_load_unlocked\n",
      "    File \"<frozen importlib._bootstrap>\", line 677, in _load_unlocked\n",
      "    File \"<frozen importlib._bootstrap_external>\", line 728, in exec_module\n",
      "    File \"<frozen importlib._bootstrap>\", line 219, in _call_with_frames_removed\n",
      "    File \"C:\\Users\\Bootcamp\\Anaconda3\\lib\\site-packages\\pandas\\core\\computation\\expressions.py\", line 19, in <module>\n",
      "      from pandas.core.computation.check import NUMEXPR_INSTALLED\n",
      "    File \"<frozen importlib._bootstrap>\", line 983, in _find_and_load\n",
      "    File \"<frozen importlib._bootstrap>\", line 967, in _find_and_load_unlocked\n",
      "    File \"<frozen importlib._bootstrap>\", line 677, in _load_unlocked\n",
      "    File \"<frozen importlib._bootstrap_external>\", line 728, in exec_module\n",
      "    File \"<frozen importlib._bootstrap>\", line 219, in _call_with_frames_removed\n",
      "    File \"C:\\Users\\Bootcamp\\Anaconda3\\lib\\site-packages\\pandas\\core\\computation\\check.py\", line 3, in <module>\n",
      "      ne = import_optional_dependency(\"numexpr\", errors=\"warn\")\n",
      "    File \"C:\\Users\\Bootcamp\\Anaconda3\\lib\\site-packages\\pandas\\compat\\_optional.py\", line 115, in import_optional_dependency\n",
      "      module = importlib.import_module(name)\n",
      "    File \"C:\\Users\\Bootcamp\\Anaconda3\\lib\\importlib\\__init__.py\", line 127, in import_module\n",
      "      return _bootstrap._gcd_import(name[level:], package, level)\n",
      "    File \"<frozen importlib._bootstrap>\", line 1006, in _gcd_import\n",
      "    File \"<frozen importlib._bootstrap>\", line 983, in _find_and_load\n",
      "    File \"<frozen importlib._bootstrap>\", line 967, in _find_and_load_unlocked\n",
      "    File \"<frozen importlib._bootstrap>\", line 677, in _load_unlocked\n",
      "    File \"<frozen importlib._bootstrap_external>\", line 728, in exec_module\n",
      "    File \"<frozen importlib._bootstrap>\", line 219, in _call_with_frames_removed\n",
      "    File \"C:\\Users\\Bootcamp\\Anaconda3\\lib\\site-packages\\numexpr\\__init__.py\", line 44, in <module>\n",
      "      nthreads = _init_num_threads()\n",
      "    File \"C:\\Users\\Bootcamp\\Anaconda3\\lib\\site-packages\\numexpr\\utils.py\", line 159, in _init_num_threads\n",
      "      log.info('NumExpr defaulting to %d threads.'%n_cores)\n",
      "  Message: 'NumExpr defaulting to 8 threads.'\n",
      "  Arguments: ()\n",
      "  Traceback (most recent call last):\n",
      "    File \"<string>\", line 1, in <module>\n",
      "    File \"C:\\Users\\Bootcamp\\AppData\\Local\\Temp\\pip-install-yalcqyl7\\fbprophet_73503565b5934c36a8fc570fa93e18fb\\setup.py\", line 149, in <module>\n",
      "      long_description_content_type='text/markdown',\n",
      "    File \"C:\\Users\\Bootcamp\\Anaconda3\\lib\\site-packages\\setuptools\\__init__.py\", line 87, in setup\n",
      "      return distutils.core.setup(**attrs)\n",
      "    File \"C:\\Users\\Bootcamp\\Anaconda3\\lib\\site-packages\\setuptools\\_distutils\\core.py\", line 148, in setup\n",
      "      return run_commands(dist)\n",
      "    File \"C:\\Users\\Bootcamp\\Anaconda3\\lib\\site-packages\\setuptools\\_distutils\\core.py\", line 163, in run_commands\n",
      "      dist.run_commands()\n",
      "    File \"C:\\Users\\Bootcamp\\Anaconda3\\lib\\site-packages\\setuptools\\_distutils\\dist.py\", line 967, in run_commands\n",
      "      self.run_command(cmd)\n",
      "    File \"C:\\Users\\Bootcamp\\Anaconda3\\lib\\site-packages\\setuptools\\dist.py\", line 1214, in run_command\n",
      "      super().run_command(command)\n",
      "    File \"C:\\Users\\Bootcamp\\Anaconda3\\lib\\site-packages\\setuptools\\_distutils\\dist.py\", line 986, in run_command\n",
      "      cmd_obj.run()\n",
      "    File \"C:\\Users\\Bootcamp\\Anaconda3\\lib\\site-packages\\wheel\\bdist_wheel.py\", line 299, in run\n",
      "      self.run_command('build')\n",
      "    File \"C:\\Users\\Bootcamp\\Anaconda3\\lib\\site-packages\\setuptools\\_distutils\\cmd.py\", line 313, in run_command\n",
      "      self.distribution.run_command(command)\n",
      "    File \"C:\\Users\\Bootcamp\\Anaconda3\\lib\\site-packages\\setuptools\\dist.py\", line 1214, in run_command\n",
      "      super().run_command(command)\n",
      "    File \"C:\\Users\\Bootcamp\\Anaconda3\\lib\\site-packages\\setuptools\\_distutils\\dist.py\", line 986, in run_command\n",
      "      cmd_obj.run()\n",
      "    File \"C:\\Users\\Bootcamp\\Anaconda3\\lib\\site-packages\\setuptools\\_distutils\\command\\build.py\", line 135, in run\n",
      "      self.run_command(cmd_name)\n",
      "    File \"C:\\Users\\Bootcamp\\Anaconda3\\lib\\site-packages\\setuptools\\_distutils\\cmd.py\", line 313, in run_command\n",
      "      self.distribution.run_command(command)\n",
      "    File \"C:\\Users\\Bootcamp\\Anaconda3\\lib\\site-packages\\setuptools\\dist.py\", line 1214, in run_command\n",
      "      super().run_command(command)\n",
      "    File \"C:\\Users\\Bootcamp\\Anaconda3\\lib\\site-packages\\setuptools\\_distutils\\dist.py\", line 986, in run_command\n",
      "      cmd_obj.run()\n",
      "    File \"C:\\Users\\Bootcamp\\AppData\\Local\\Temp\\pip-install-yalcqyl7\\fbprophet_73503565b5934c36a8fc570fa93e18fb\\setup.py\", line 48, in run\n",
      "      build_models(target_dir)\n",
      "    File \"C:\\Users\\Bootcamp\\AppData\\Local\\Temp\\pip-install-yalcqyl7\\fbprophet_73503565b5934c36a8fc570fa93e18fb\\setup.py\", line 36, in build_models\n",
      "      from fbprophet.models import StanBackendEnum\n",
      "    File \"C:\\Users\\Bootcamp\\AppData\\Local\\Temp\\pip-install-yalcqyl7\\fbprophet_73503565b5934c36a8fc570fa93e18fb\\fbprophet\\__init__.py\", line 8, in <module>\n",
      "      from fbprophet.forecaster import Prophet\n",
      "    File \"C:\\Users\\Bootcamp\\AppData\\Local\\Temp\\pip-install-yalcqyl7\\fbprophet_73503565b5934c36a8fc570fa93e18fb\\fbprophet\\forecaster.py\", line 17, in <module>\n",
      "      from fbprophet.make_holidays import get_holiday_names, make_holidays_df\n"
     ]
    },
    {
     "name": "stderr",
     "output_type": "stream",
     "text": [
      "    File \"C:\\Users\\Bootcamp\\AppData\\Local\\Temp\\pip-install-yalcqyl7\\fbprophet_73503565b5934c36a8fc570fa93e18fb\\fbprophet\\make_holidays.py\", line 14, in <module>\n",
      "      import fbprophet.hdays as hdays_part2\n",
      "    File \"C:\\Users\\Bootcamp\\AppData\\Local\\Temp\\pip-install-yalcqyl7\\fbprophet_73503565b5934c36a8fc570fa93e18fb\\fbprophet\\hdays.py\", line 13, in <module>\n",
      "      from convertdate.islamic import from_gregorian, to_gregorian\n",
      "  ModuleNotFoundError: No module named 'convertdate'\n",
      "  ----------------------------------------\n",
      "  ERROR: Failed building wheel for fbprophet\n",
      "WARNING: Ignoring invalid distribution -tatsmodels (c:\\users\\bootcamp\\anaconda3\\lib\\site-packages)\n",
      "    ERROR: Command errored out with exit status 1:\n",
      "     command: 'C:\\Users\\Bootcamp\\Anaconda3\\python.exe' -u -c 'import io, os, sys, setuptools, tokenize; sys.argv[0] = '\"'\"'C:\\\\Users\\\\Bootcamp\\\\AppData\\\\Local\\\\Temp\\\\pip-install-yalcqyl7\\\\fbprophet_73503565b5934c36a8fc570fa93e18fb\\\\setup.py'\"'\"'; __file__='\"'\"'C:\\\\Users\\\\Bootcamp\\\\AppData\\\\Local\\\\Temp\\\\pip-install-yalcqyl7\\\\fbprophet_73503565b5934c36a8fc570fa93e18fb\\\\setup.py'\"'\"';f = getattr(tokenize, '\"'\"'open'\"'\"', open)(__file__) if os.path.exists(__file__) else io.StringIO('\"'\"'from setuptools import setup; setup()'\"'\"');code = f.read().replace('\"'\"'\\r\\n'\"'\"', '\"'\"'\\n'\"'\"');f.close();exec(compile(code, __file__, '\"'\"'exec'\"'\"'))' install --record 'C:\\Users\\Bootcamp\\AppData\\Local\\Temp\\pip-record-wgjz8wbn\\install-record.txt' --single-version-externally-managed --compile --install-headers 'C:\\Users\\Bootcamp\\Anaconda3\\Include\\fbprophet'\n",
      "         cwd: C:\\Users\\Bootcamp\\AppData\\Local\\Temp\\pip-install-yalcqyl7\\fbprophet_73503565b5934c36a8fc570fa93e18fb\\\n",
      "    Complete output (194 lines):\n",
      "    running install\n",
      "    C:\\Users\\Bootcamp\\Anaconda3\\lib\\site-packages\\setuptools\\command\\install.py:37: SetuptoolsDeprecationWarning: setup.py install is deprecated. Use build and pip and other standards-based tools.\n",
      "      setuptools.SetuptoolsDeprecationWarning,\n",
      "    running build\n",
      "    running build_py\n",
      "    creating build\n",
      "    creating build\\lib\n",
      "    creating build\\lib\\fbprophet\n",
      "    creating build\\lib\\fbprophet\\stan_model\n",
      "    --- Logging error ---\n",
      "    Traceback (most recent call last):\n",
      "      File \"C:\\Users\\Bootcamp\\Anaconda3\\lib\\logging\\__init__.py\", line 1028, in emit\n",
      "        stream.write(msg + self.terminator)\n",
      "    ValueError: underlying buffer has been detached\n",
      "    Call stack:\n",
      "      File \"<string>\", line 1, in <module>\n",
      "      File \"C:\\Users\\Bootcamp\\AppData\\Local\\Temp\\pip-install-yalcqyl7\\fbprophet_73503565b5934c36a8fc570fa93e18fb\\setup.py\", line 149, in <module>\n",
      "        long_description_content_type='text/markdown',\n",
      "      File \"C:\\Users\\Bootcamp\\Anaconda3\\lib\\site-packages\\setuptools\\__init__.py\", line 87, in setup\n",
      "        return distutils.core.setup(**attrs)\n",
      "      File \"C:\\Users\\Bootcamp\\Anaconda3\\lib\\site-packages\\setuptools\\_distutils\\core.py\", line 148, in setup\n",
      "        return run_commands(dist)\n",
      "      File \"C:\\Users\\Bootcamp\\Anaconda3\\lib\\site-packages\\setuptools\\_distutils\\core.py\", line 163, in run_commands\n",
      "        dist.run_commands()\n",
      "      File \"C:\\Users\\Bootcamp\\Anaconda3\\lib\\site-packages\\setuptools\\_distutils\\dist.py\", line 967, in run_commands\n",
      "        self.run_command(cmd)\n",
      "      File \"C:\\Users\\Bootcamp\\Anaconda3\\lib\\site-packages\\setuptools\\dist.py\", line 1214, in run_command\n",
      "        super().run_command(command)\n",
      "      File \"C:\\Users\\Bootcamp\\Anaconda3\\lib\\site-packages\\setuptools\\_distutils\\dist.py\", line 986, in run_command\n",
      "        cmd_obj.run()\n",
      "      File \"C:\\Users\\Bootcamp\\Anaconda3\\lib\\site-packages\\setuptools\\command\\install.py\", line 68, in run\n",
      "        return orig.install.run(self)\n",
      "      File \"C:\\Users\\Bootcamp\\Anaconda3\\lib\\site-packages\\setuptools\\_distutils\\command\\install.py\", line 664, in run\n",
      "        self.run_command('build')\n",
      "      File \"C:\\Users\\Bootcamp\\Anaconda3\\lib\\site-packages\\setuptools\\_distutils\\cmd.py\", line 313, in run_command\n",
      "        self.distribution.run_command(command)\n",
      "      File \"C:\\Users\\Bootcamp\\Anaconda3\\lib\\site-packages\\setuptools\\dist.py\", line 1214, in run_command\n",
      "        super().run_command(command)\n",
      "      File \"C:\\Users\\Bootcamp\\Anaconda3\\lib\\site-packages\\setuptools\\_distutils\\dist.py\", line 986, in run_command\n",
      "        cmd_obj.run()\n",
      "      File \"C:\\Users\\Bootcamp\\Anaconda3\\lib\\site-packages\\setuptools\\_distutils\\command\\build.py\", line 135, in run\n",
      "        self.run_command(cmd_name)\n",
      "      File \"C:\\Users\\Bootcamp\\Anaconda3\\lib\\site-packages\\setuptools\\_distutils\\cmd.py\", line 313, in run_command\n",
      "        self.distribution.run_command(command)\n",
      "      File \"C:\\Users\\Bootcamp\\Anaconda3\\lib\\site-packages\\setuptools\\dist.py\", line 1214, in run_command\n",
      "        super().run_command(command)\n",
      "      File \"C:\\Users\\Bootcamp\\Anaconda3\\lib\\site-packages\\setuptools\\_distutils\\dist.py\", line 986, in run_command\n",
      "        cmd_obj.run()\n",
      "      File \"C:\\Users\\Bootcamp\\AppData\\Local\\Temp\\pip-install-yalcqyl7\\fbprophet_73503565b5934c36a8fc570fa93e18fb\\setup.py\", line 48, in run\n",
      "        build_models(target_dir)\n",
      "      File \"C:\\Users\\Bootcamp\\AppData\\Local\\Temp\\pip-install-yalcqyl7\\fbprophet_73503565b5934c36a8fc570fa93e18fb\\setup.py\", line 36, in build_models\n",
      "        from fbprophet.models import StanBackendEnum\n",
      "      File \"<frozen importlib._bootstrap>\", line 983, in _find_and_load\n",
      "      File \"<frozen importlib._bootstrap>\", line 953, in _find_and_load_unlocked\n",
      "      File \"<frozen importlib._bootstrap>\", line 219, in _call_with_frames_removed\n",
      "      File \"<frozen importlib._bootstrap>\", line 983, in _find_and_load\n",
      "      File \"<frozen importlib._bootstrap>\", line 967, in _find_and_load_unlocked\n",
      "      File \"<frozen importlib._bootstrap>\", line 677, in _load_unlocked\n",
      "      File \"<frozen importlib._bootstrap_external>\", line 728, in exec_module\n",
      "      File \"<frozen importlib._bootstrap>\", line 219, in _call_with_frames_removed\n",
      "      File \"C:\\Users\\Bootcamp\\AppData\\Local\\Temp\\pip-install-yalcqyl7\\fbprophet_73503565b5934c36a8fc570fa93e18fb\\fbprophet\\__init__.py\", line 8, in <module>\n",
      "        from fbprophet.forecaster import Prophet\n",
      "      File \"<frozen importlib._bootstrap>\", line 983, in _find_and_load\n",
      "      File \"<frozen importlib._bootstrap>\", line 967, in _find_and_load_unlocked\n",
      "      File \"<frozen importlib._bootstrap>\", line 677, in _load_unlocked\n",
      "      File \"<frozen importlib._bootstrap_external>\", line 728, in exec_module\n",
      "      File \"<frozen importlib._bootstrap>\", line 219, in _call_with_frames_removed\n",
      "      File \"C:\\Users\\Bootcamp\\AppData\\Local\\Temp\\pip-install-yalcqyl7\\fbprophet_73503565b5934c36a8fc570fa93e18fb\\fbprophet\\forecaster.py\", line 15, in <module>\n",
      "        import pandas as pd\n",
      "      File \"<frozen importlib._bootstrap>\", line 983, in _find_and_load\n",
      "      File \"<frozen importlib._bootstrap>\", line 967, in _find_and_load_unlocked\n",
      "      File \"<frozen importlib._bootstrap>\", line 677, in _load_unlocked\n",
      "      File \"<frozen importlib._bootstrap_external>\", line 728, in exec_module\n",
      "      File \"<frozen importlib._bootstrap>\", line 219, in _call_with_frames_removed\n",
      "      File \"C:\\Users\\Bootcamp\\Anaconda3\\lib\\site-packages\\pandas\\__init__.py\", line 50, in <module>\n",
      "        from pandas.core.api import (\n",
      "      File \"<frozen importlib._bootstrap>\", line 983, in _find_and_load\n",
      "      File \"<frozen importlib._bootstrap>\", line 967, in _find_and_load_unlocked\n",
      "      File \"<frozen importlib._bootstrap>\", line 677, in _load_unlocked\n",
      "      File \"<frozen importlib._bootstrap_external>\", line 728, in exec_module\n",
      "      File \"<frozen importlib._bootstrap>\", line 219, in _call_with_frames_removed\n",
      "      File \"C:\\Users\\Bootcamp\\Anaconda3\\lib\\site-packages\\pandas\\core\\api.py\", line 29, in <module>\n",
      "        from pandas.core.arrays import Categorical\n",
      "      File \"<frozen importlib._bootstrap>\", line 983, in _find_and_load\n",
      "      File \"<frozen importlib._bootstrap>\", line 967, in _find_and_load_unlocked\n",
      "      File \"<frozen importlib._bootstrap>\", line 677, in _load_unlocked\n",
      "      File \"<frozen importlib._bootstrap_external>\", line 728, in exec_module\n",
      "      File \"<frozen importlib._bootstrap>\", line 219, in _call_with_frames_removed\n",
      "      File \"C:\\Users\\Bootcamp\\Anaconda3\\lib\\site-packages\\pandas\\core\\arrays\\__init__.py\", line 1, in <module>\n",
      "        from pandas.core.arrays.base import (\n",
      "      File \"<frozen importlib._bootstrap>\", line 983, in _find_and_load\n",
      "      File \"<frozen importlib._bootstrap>\", line 967, in _find_and_load_unlocked\n",
      "      File \"<frozen importlib._bootstrap>\", line 677, in _load_unlocked\n",
      "      File \"<frozen importlib._bootstrap_external>\", line 728, in exec_module\n",
      "      File \"<frozen importlib._bootstrap>\", line 219, in _call_with_frames_removed\n",
      "      File \"C:\\Users\\Bootcamp\\Anaconda3\\lib\\site-packages\\pandas\\core\\arrays\\base.py\", line 60, in <module>\n",
      "        from pandas.core import (\n",
      "      File \"<frozen importlib._bootstrap>\", line 1035, in _handle_fromlist\n",
      "      File \"<frozen importlib._bootstrap>\", line 219, in _call_with_frames_removed\n",
      "      File \"<frozen importlib._bootstrap>\", line 983, in _find_and_load\n",
      "      File \"<frozen importlib._bootstrap>\", line 967, in _find_and_load_unlocked\n",
      "      File \"<frozen importlib._bootstrap>\", line 677, in _load_unlocked\n",
      "      File \"<frozen importlib._bootstrap_external>\", line 728, in exec_module\n",
      "      File \"<frozen importlib._bootstrap>\", line 219, in _call_with_frames_removed\n",
      "      File \"C:\\Users\\Bootcamp\\Anaconda3\\lib\\site-packages\\pandas\\core\\ops\\__init__.py\", line 32, in <module>\n",
      "        from pandas.core.ops.array_ops import (  # noqa:F401\n",
      "      File \"<frozen importlib._bootstrap>\", line 983, in _find_and_load\n",
      "      File \"<frozen importlib._bootstrap>\", line 967, in _find_and_load_unlocked\n",
      "      File \"<frozen importlib._bootstrap>\", line 677, in _load_unlocked\n",
      "      File \"<frozen importlib._bootstrap_external>\", line 728, in exec_module\n",
      "      File \"<frozen importlib._bootstrap>\", line 219, in _call_with_frames_removed\n",
      "      File \"C:\\Users\\Bootcamp\\Anaconda3\\lib\\site-packages\\pandas\\core\\ops\\array_ops.py\", line 48, in <module>\n",
      "        import pandas.core.computation.expressions as expressions\n",
      "      File \"<frozen importlib._bootstrap>\", line 983, in _find_and_load\n",
      "      File \"<frozen importlib._bootstrap>\", line 967, in _find_and_load_unlocked\n",
      "      File \"<frozen importlib._bootstrap>\", line 677, in _load_unlocked\n",
      "      File \"<frozen importlib._bootstrap_external>\", line 728, in exec_module\n",
      "      File \"<frozen importlib._bootstrap>\", line 219, in _call_with_frames_removed\n",
      "      File \"C:\\Users\\Bootcamp\\Anaconda3\\lib\\site-packages\\pandas\\core\\computation\\expressions.py\", line 19, in <module>\n",
      "        from pandas.core.computation.check import NUMEXPR_INSTALLED\n",
      "      File \"<frozen importlib._bootstrap>\", line 983, in _find_and_load\n",
      "      File \"<frozen importlib._bootstrap>\", line 967, in _find_and_load_unlocked\n",
      "      File \"<frozen importlib._bootstrap>\", line 677, in _load_unlocked\n",
      "      File \"<frozen importlib._bootstrap_external>\", line 728, in exec_module\n",
      "      File \"<frozen importlib._bootstrap>\", line 219, in _call_with_frames_removed\n",
      "      File \"C:\\Users\\Bootcamp\\Anaconda3\\lib\\site-packages\\pandas\\core\\computation\\check.py\", line 3, in <module>\n",
      "        ne = import_optional_dependency(\"numexpr\", errors=\"warn\")\n",
      "      File \"C:\\Users\\Bootcamp\\Anaconda3\\lib\\site-packages\\pandas\\compat\\_optional.py\", line 115, in import_optional_dependency\n",
      "        module = importlib.import_module(name)\n",
      "      File \"C:\\Users\\Bootcamp\\Anaconda3\\lib\\importlib\\__init__.py\", line 127, in import_module\n",
      "        return _bootstrap._gcd_import(name[level:], package, level)\n",
      "      File \"<frozen importlib._bootstrap>\", line 1006, in _gcd_import\n",
      "      File \"<frozen importlib._bootstrap>\", line 983, in _find_and_load\n",
      "      File \"<frozen importlib._bootstrap>\", line 967, in _find_and_load_unlocked\n",
      "      File \"<frozen importlib._bootstrap>\", line 677, in _load_unlocked\n",
      "      File \"<frozen importlib._bootstrap_external>\", line 728, in exec_module\n",
      "      File \"<frozen importlib._bootstrap>\", line 219, in _call_with_frames_removed\n",
      "      File \"C:\\Users\\Bootcamp\\Anaconda3\\lib\\site-packages\\numexpr\\__init__.py\", line 44, in <module>\n",
      "        nthreads = _init_num_threads()\n",
      "      File \"C:\\Users\\Bootcamp\\Anaconda3\\lib\\site-packages\\numexpr\\utils.py\", line 159, in _init_num_threads\n",
      "        log.info('NumExpr defaulting to %d threads.'%n_cores)\n",
      "    Message: 'NumExpr defaulting to 8 threads.'\n",
      "    Arguments: ()\n",
      "    --- Logging error ---\n",
      "    Traceback (most recent call last):\n",
      "      File \"C:\\Users\\Bootcamp\\Anaconda3\\lib\\logging\\__init__.py\", line 1028, in emit\n",
      "        stream.write(msg + self.terminator)\n",
      "    ValueError: underlying buffer has been detached\n",
      "    Call stack:\n",
      "      File \"<string>\", line 1, in <module>\n",
      "      File \"C:\\Users\\Bootcamp\\AppData\\Local\\Temp\\pip-install-yalcqyl7\\fbprophet_73503565b5934c36a8fc570fa93e18fb\\setup.py\", line 149, in <module>\n",
      "        long_description_content_type='text/markdown',\n",
      "      File \"C:\\Users\\Bootcamp\\Anaconda3\\lib\\site-packages\\setuptools\\__init__.py\", line 87, in setup\n",
      "        return distutils.core.setup(**attrs)\n",
      "      File \"C:\\Users\\Bootcamp\\Anaconda3\\lib\\site-packages\\setuptools\\_distutils\\core.py\", line 148, in setup\n",
      "        return run_commands(dist)\n",
      "      File \"C:\\Users\\Bootcamp\\Anaconda3\\lib\\site-packages\\setuptools\\_distutils\\core.py\", line 163, in run_commands\n",
      "        dist.run_commands()\n",
      "      File \"C:\\Users\\Bootcamp\\Anaconda3\\lib\\site-packages\\setuptools\\_distutils\\dist.py\", line 967, in run_commands\n",
      "        self.run_command(cmd)\n",
      "      File \"C:\\Users\\Bootcamp\\Anaconda3\\lib\\site-packages\\setuptools\\dist.py\", line 1214, in run_command\n",
      "        super().run_command(command)\n",
      "      File \"C:\\Users\\Bootcamp\\Anaconda3\\lib\\site-packages\\setuptools\\_distutils\\dist.py\", line 986, in run_command\n",
      "        cmd_obj.run()\n",
      "      File \"C:\\Users\\Bootcamp\\Anaconda3\\lib\\site-packages\\setuptools\\command\\install.py\", line 68, in run\n",
      "        return orig.install.run(self)\n",
      "      File \"C:\\Users\\Bootcamp\\Anaconda3\\lib\\site-packages\\setuptools\\_distutils\\command\\install.py\", line 664, in run\n",
      "        self.run_command('build')\n",
      "      File \"C:\\Users\\Bootcamp\\Anaconda3\\lib\\site-packages\\setuptools\\_distutils\\cmd.py\", line 313, in run_command\n",
      "        self.distribution.run_command(command)\n",
      "      File \"C:\\Users\\Bootcamp\\Anaconda3\\lib\\site-packages\\setuptools\\dist.py\", line 1214, in run_command\n",
      "        super().run_command(command)\n",
      "      File \"C:\\Users\\Bootcamp\\Anaconda3\\lib\\site-packages\\setuptools\\_distutils\\dist.py\", line 986, in run_command\n",
      "        cmd_obj.run()\n",
      "      File \"C:\\Users\\Bootcamp\\Anaconda3\\lib\\site-packages\\setuptools\\_distutils\\command\\build.py\", line 135, in run\n",
      "        self.run_command(cmd_name)\n",
      "      File \"C:\\Users\\Bootcamp\\Anaconda3\\lib\\site-packages\\setuptools\\_distutils\\cmd.py\", line 313, in run_command\n",
      "        self.distribution.run_command(command)\n",
      "      File \"C:\\Users\\Bootcamp\\Anaconda3\\lib\\site-packages\\setuptools\\dist.py\", line 1214, in run_command\n",
      "        super().run_command(command)\n",
      "      File \"C:\\Users\\Bootcamp\\Anaconda3\\lib\\site-packages\\setuptools\\_distutils\\dist.py\", line 986, in run_command\n",
      "        cmd_obj.run()\n",
      "      File \"C:\\Users\\Bootcamp\\AppData\\Local\\Temp\\pip-install-yalcqyl7\\fbprophet_73503565b5934c36a8fc570fa93e18fb\\setup.py\", line 48, in run\n",
      "        build_models(target_dir)\n",
      "      File \"C:\\Users\\Bootcamp\\AppData\\Local\\Temp\\pip-install-yalcqyl7\\fbprophet_73503565b5934c36a8fc570fa93e18fb\\setup.py\", line 38, in build_models\n",
      "        StanBackendEnum.get_backend_class(backend).build_model(target_dir, MODEL_DIR)\n",
      "      File \"C:\\Users\\Bootcamp\\AppData\\Local\\Temp\\pip-install-yalcqyl7\\fbprophet_73503565b5934c36a8fc570fa93e18fb\\fbprophet\\models.py\", line 214, in build_model\n",
      "        sm = pystan.StanModel(model_code=model_code)\n",
      "      File \"C:\\Users\\Bootcamp\\Anaconda3\\lib\\site-packages\\pystan\\model.py\", line 259, in __init__\n",
      "        logger.info(msg.format(self.model_name))\n",
      "    Message: 'COMPILING THE C++ CODE FOR MODEL anon_model_f5236004a3fd5b8429270d00efcc0cf9 NOW.'\n",
      "    Arguments: ()\n",
      "    MSVC compiler is not supported\n",
      "    error: Microsoft Visual C++ 14.0 or greater is required. Get it with \"Microsoft C++ Build Tools\": https://visualstudio.microsoft.com/visual-cpp-build-tools/\n",
      "    ----------------------------------------\n",
      "ERROR: Command errored out with exit status 1: 'C:\\Users\\Bootcamp\\Anaconda3\\python.exe' -u -c 'import io, os, sys, setuptools, tokenize; sys.argv[0] = '\"'\"'C:\\\\Users\\\\Bootcamp\\\\AppData\\\\Local\\\\Temp\\\\pip-install-yalcqyl7\\\\fbprophet_73503565b5934c36a8fc570fa93e18fb\\\\setup.py'\"'\"'; __file__='\"'\"'C:\\\\Users\\\\Bootcamp\\\\AppData\\\\Local\\\\Temp\\\\pip-install-yalcqyl7\\\\fbprophet_73503565b5934c36a8fc570fa93e18fb\\\\setup.py'\"'\"';f = getattr(tokenize, '\"'\"'open'\"'\"', open)(__file__) if os.path.exists(__file__) else io.StringIO('\"'\"'from setuptools import setup; setup()'\"'\"');code = f.read().replace('\"'\"'\\r\\n'\"'\"', '\"'\"'\\n'\"'\"');f.close();exec(compile(code, __file__, '\"'\"'exec'\"'\"'))' install --record 'C:\\Users\\Bootcamp\\AppData\\Local\\Temp\\pip-record-wgjz8wbn\\install-record.txt' --single-version-externally-managed --compile --install-headers 'C:\\Users\\Bootcamp\\Anaconda3\\Include\\fbprophet' Check the logs for full command output.\n",
      "WARNING: Ignoring invalid distribution -tatsmodels (c:\\users\\bootcamp\\anaconda3\\lib\\site-packages)\n",
      "WARNING: Ignoring invalid distribution -tatsmodels (c:\\users\\bootcamp\\anaconda3\\lib\\site-packages)\n",
      "WARNING: Ignoring invalid distribution -tatsmodels (c:\\users\\bootcamp\\anaconda3\\lib\\site-packages)\n"
     ]
    }
   ],
   "source": [
    "!pip install pystan\n",
    "#!pip install fbprophet adı değişmiş"
   ]
  },
  {
   "cell_type": "code",
   "execution_count": 4,
   "metadata": {},
   "outputs": [
    {
     "name": "stdout",
     "output_type": "stream",
     "text": [
      "Collecting prophet\n",
      "  Downloading prophet-1.1.2-py3-none-win_amd64.whl (12.1 MB)\n",
      "Requirement already satisfied: numpy>=1.15.4 in c:\\users\\bootcamp\\anaconda3\\lib\\site-packages (from prophet) (1.21.6)\n",
      "Requirement already satisfied: tqdm>=4.36.1 in c:\\users\\bootcamp\\anaconda3\\lib\\site-packages (from prophet) (4.64.0)\n",
      "Requirement already satisfied: holidays>=0.14.2 in c:\\users\\bootcamp\\anaconda3\\lib\\site-packages (from prophet) (0.19)\n",
      "Collecting cmdstanpy>=1.0.4\n",
      "  Downloading cmdstanpy-1.1.0-py3-none-any.whl (83 kB)\n",
      "Requirement already satisfied: pandas>=1.0.4 in c:\\users\\bootcamp\\anaconda3\\lib\\site-packages (from prophet) (1.3.5)\n",
      "Requirement already satisfied: python-dateutil>=2.8.0 in c:\\users\\bootcamp\\anaconda3\\lib\\site-packages (from prophet) (2.8.2)\n",
      "Requirement already satisfied: convertdate>=2.1.2 in c:\\users\\bootcamp\\anaconda3\\lib\\site-packages (from prophet) (2.4.0)\n",
      "Requirement already satisfied: matplotlib>=2.0.0 in c:\\users\\bootcamp\\anaconda3\\lib\\site-packages (from prophet) (3.5.3)\n",
      "Requirement already satisfied: LunarCalendar>=0.0.9 in c:\\users\\bootcamp\\anaconda3\\lib\\site-packages (from prophet) (0.0.9)\n",
      "Requirement already satisfied: pymeeus<=1,>=0.3.13 in c:\\users\\bootcamp\\anaconda3\\lib\\site-packages (from convertdate>=2.1.2->prophet) (0.5.12)\n",
      "Requirement already satisfied: korean-lunar-calendar in c:\\users\\bootcamp\\anaconda3\\lib\\site-packages (from holidays>=0.14.2->prophet) (0.3.1)\n",
      "Requirement already satisfied: hijri-converter in c:\\users\\bootcamp\\anaconda3\\lib\\site-packages (from holidays>=0.14.2->prophet) (2.2.4)\n",
      "Requirement already satisfied: pytz in c:\\users\\bootcamp\\anaconda3\\lib\\site-packages (from LunarCalendar>=0.0.9->prophet) (2022.1)\n",
      "Requirement already satisfied: ephem>=3.7.5.3 in c:\\users\\bootcamp\\anaconda3\\lib\\site-packages (from LunarCalendar>=0.0.9->prophet) (4.1.4)\n",
      "Requirement already satisfied: pillow>=6.2.0 in c:\\users\\bootcamp\\anaconda3\\lib\\site-packages (from matplotlib>=2.0.0->prophet) (9.0.1)\n",
      "Requirement already satisfied: pyparsing>=2.2.1 in c:\\users\\bootcamp\\anaconda3\\lib\\site-packages (from matplotlib>=2.0.0->prophet) (3.0.4)\n",
      "Requirement already satisfied: cycler>=0.10 in c:\\users\\bootcamp\\anaconda3\\lib\\site-packages (from matplotlib>=2.0.0->prophet) (0.11.0)\n",
      "Requirement already satisfied: kiwisolver>=1.0.1 in c:\\users\\bootcamp\\anaconda3\\lib\\site-packages (from matplotlib>=2.0.0->prophet) (1.4.2)\n",
      "Requirement already satisfied: fonttools>=4.22.0 in c:\\users\\bootcamp\\anaconda3\\lib\\site-packages (from matplotlib>=2.0.0->prophet) (4.36.0)\n",
      "Requirement already satisfied: packaging>=20.0 in c:\\users\\bootcamp\\anaconda3\\lib\\site-packages (from matplotlib>=2.0.0->prophet) (21.3)\n",
      "Requirement already satisfied: typing-extensions in c:\\users\\bootcamp\\anaconda3\\lib\\site-packages (from kiwisolver>=1.0.1->matplotlib>=2.0.0->prophet) (4.1.1)\n",
      "Requirement already satisfied: six>=1.5 in c:\\users\\bootcamp\\anaconda3\\lib\\site-packages (from python-dateutil>=2.8.0->prophet) (1.16.0)\n",
      "Requirement already satisfied: colorama in c:\\users\\bootcamp\\anaconda3\\lib\\site-packages (from tqdm>=4.36.1->prophet) (0.4.4)\n",
      "Installing collected packages: cmdstanpy, prophet\n",
      "  Attempting uninstall: cmdstanpy\n",
      "    Found existing installation: cmdstanpy 0.9.5\n",
      "    Uninstalling cmdstanpy-0.9.5:\n",
      "      Successfully uninstalled cmdstanpy-0.9.5\n",
      "Successfully installed cmdstanpy-1.1.0 prophet-1.1.2\n"
     ]
    },
    {
     "name": "stderr",
     "output_type": "stream",
     "text": [
      "WARNING: Ignoring invalid distribution -tatsmodels (c:\\users\\bootcamp\\anaconda3\\lib\\site-packages)\n",
      "WARNING: Ignoring invalid distribution -tatsmodels (c:\\users\\bootcamp\\anaconda3\\lib\\site-packages)\n",
      "WARNING: Ignoring invalid distribution -tatsmodels (c:\\users\\bootcamp\\anaconda3\\lib\\site-packages)\n",
      "    WARNING: Ignoring invalid distribution -tatsmodels (c:\\users\\bootcamp\\anaconda3\\lib\\site-packages)\n",
      "WARNING: Ignoring invalid distribution -tatsmodels (c:\\users\\bootcamp\\anaconda3\\lib\\site-packages)\n",
      "WARNING: Ignoring invalid distribution -tatsmodels (c:\\users\\bootcamp\\anaconda3\\lib\\site-packages)\n",
      "WARNING: Ignoring invalid distribution -tatsmodels (c:\\users\\bootcamp\\anaconda3\\lib\\site-packages)\n",
      "WARNING: Ignoring invalid distribution -tatsmodels (c:\\users\\bootcamp\\anaconda3\\lib\\site-packages)\n",
      "WARNING: Ignoring invalid distribution -tatsmodels (c:\\users\\bootcamp\\anaconda3\\lib\\site-packages)\n"
     ]
    }
   ],
   "source": [
    "!pip install prophet"
   ]
  },
  {
   "cell_type": "code",
   "execution_count": 8,
   "metadata": {
    "id": "eFE2B9n-oddX"
   },
   "outputs": [],
   "source": [
    "#pystan.version()"
   ]
  },
  {
   "cell_type": "code",
   "execution_count": 5,
   "metadata": {
    "id": "T35EwC1ioddX",
    "outputId": "0505f766-4e6c-4dd7-fbbc-989e77013666"
   },
   "outputs": [],
   "source": [
    "#import fbprophet\n",
    "import prophet"
   ]
  },
  {
   "cell_type": "code",
   "execution_count": 6,
   "metadata": {
    "id": "Q-E18R-noddY"
   },
   "outputs": [],
   "source": [
    "#from fbprophet import Prophet\n",
    "from prophet import Prophet"
   ]
  },
  {
   "cell_type": "code",
   "execution_count": 7,
   "metadata": {
    "id": "TJnJGK_qoddY",
    "outputId": "e190939d-f8ad-4120-abe7-ebf9a32ce44a"
   },
   "outputs": [
    {
     "data": {
      "text/plain": [
       "['__class__',\n",
       " '__delattr__',\n",
       " '__dict__',\n",
       " '__dir__',\n",
       " '__doc__',\n",
       " '__eq__',\n",
       " '__format__',\n",
       " '__ge__',\n",
       " '__getattribute__',\n",
       " '__gt__',\n",
       " '__hash__',\n",
       " '__init__',\n",
       " '__init_subclass__',\n",
       " '__le__',\n",
       " '__lt__',\n",
       " '__module__',\n",
       " '__ne__',\n",
       " '__new__',\n",
       " '__reduce__',\n",
       " '__reduce_ex__',\n",
       " '__repr__',\n",
       " '__setattr__',\n",
       " '__sizeof__',\n",
       " '__str__',\n",
       " '__subclasshook__',\n",
       " '__weakref__',\n",
       " '_load_stan_backend',\n",
       " '_logistic_uncertainty',\n",
       " '_make_historical_mat_time',\n",
       " '_make_trend_shift_matrix',\n",
       " '_sample_uncertainty',\n",
       " 'add_country_holidays',\n",
       " 'add_group_component',\n",
       " 'add_regressor',\n",
       " 'add_seasonality',\n",
       " 'construct_holiday_dataframe',\n",
       " 'fit',\n",
       " 'flat_growth_init',\n",
       " 'flat_trend',\n",
       " 'fourier_series',\n",
       " 'initialize_scales',\n",
       " 'linear_growth_init',\n",
       " 'logistic_growth_init',\n",
       " 'make_all_seasonality_features',\n",
       " 'make_future_dataframe',\n",
       " 'make_holiday_features',\n",
       " 'make_seasonality_features',\n",
       " 'parse_seasonality_args',\n",
       " 'percentile',\n",
       " 'piecewise_linear',\n",
       " 'piecewise_logistic',\n",
       " 'plot',\n",
       " 'plot_components',\n",
       " 'predict',\n",
       " 'predict_seasonal_components',\n",
       " 'predict_trend',\n",
       " 'predict_uncertainty',\n",
       " 'predictive_samples',\n",
       " 'regressor_column_matrix',\n",
       " 'sample_model',\n",
       " 'sample_model_vectorized',\n",
       " 'sample_posterior_predictive',\n",
       " 'sample_predictive_trend',\n",
       " 'sample_predictive_trend_vectorized',\n",
       " 'set_auto_seasonalities',\n",
       " 'set_changepoints',\n",
       " 'setup_dataframe',\n",
       " 'validate_column_name',\n",
       " 'validate_inputs']"
      ]
     },
     "execution_count": 7,
     "metadata": {},
     "output_type": "execute_result"
    }
   ],
   "source": [
    "### to check all the function & modules inside Prophet\n",
    "dir(Prophet)"
   ]
  },
  {
   "cell_type": "code",
   "execution_count": 9,
   "metadata": {
    "id": "zpLZHvmgoddZ"
   },
   "outputs": [],
   "source": [
    "import pandas as pd"
   ]
  },
  {
   "cell_type": "code",
   "execution_count": 11,
   "metadata": {
    "id": "tGQdH6IpoddZ"
   },
   "outputs": [],
   "source": [
    "#df=pd.read_csv(r'F:\\Time_Series Data Analysis\\Projects\\Covid-19/covid_19_clean_complete.csv')\n",
    "df=pd.read_csv(r'covid_19_clean_complete.csv')"
   ]
  },
  {
   "cell_type": "code",
   "execution_count": 12,
   "metadata": {
    "id": "kb3AL7Nuodda",
    "outputId": "c2d0e405-25d5-4c64-e8e7-6ef4e46fa6cc"
   },
   "outputs": [
    {
     "data": {
      "text/html": [
       "<div>\n",
       "<style scoped>\n",
       "    .dataframe tbody tr th:only-of-type {\n",
       "        vertical-align: middle;\n",
       "    }\n",
       "\n",
       "    .dataframe tbody tr th {\n",
       "        vertical-align: top;\n",
       "    }\n",
       "\n",
       "    .dataframe thead th {\n",
       "        text-align: right;\n",
       "    }\n",
       "</style>\n",
       "<table border=\"1\" class=\"dataframe\">\n",
       "  <thead>\n",
       "    <tr style=\"text-align: right;\">\n",
       "      <th></th>\n",
       "      <th>Province/State</th>\n",
       "      <th>Country/Region</th>\n",
       "      <th>Lat</th>\n",
       "      <th>Long</th>\n",
       "      <th>Date</th>\n",
       "      <th>Confirmed</th>\n",
       "      <th>Deaths</th>\n",
       "      <th>Recovered</th>\n",
       "      <th>Active</th>\n",
       "      <th>WHO Region</th>\n",
       "    </tr>\n",
       "  </thead>\n",
       "  <tbody>\n",
       "    <tr>\n",
       "      <th>0</th>\n",
       "      <td>NaN</td>\n",
       "      <td>Afghanistan</td>\n",
       "      <td>33.93911</td>\n",
       "      <td>67.709953</td>\n",
       "      <td>2020-01-22</td>\n",
       "      <td>0</td>\n",
       "      <td>0</td>\n",
       "      <td>0</td>\n",
       "      <td>0</td>\n",
       "      <td>Eastern Mediterranean</td>\n",
       "    </tr>\n",
       "    <tr>\n",
       "      <th>1</th>\n",
       "      <td>NaN</td>\n",
       "      <td>Albania</td>\n",
       "      <td>41.15330</td>\n",
       "      <td>20.168300</td>\n",
       "      <td>2020-01-22</td>\n",
       "      <td>0</td>\n",
       "      <td>0</td>\n",
       "      <td>0</td>\n",
       "      <td>0</td>\n",
       "      <td>Europe</td>\n",
       "    </tr>\n",
       "    <tr>\n",
       "      <th>2</th>\n",
       "      <td>NaN</td>\n",
       "      <td>Algeria</td>\n",
       "      <td>28.03390</td>\n",
       "      <td>1.659600</td>\n",
       "      <td>2020-01-22</td>\n",
       "      <td>0</td>\n",
       "      <td>0</td>\n",
       "      <td>0</td>\n",
       "      <td>0</td>\n",
       "      <td>Africa</td>\n",
       "    </tr>\n",
       "    <tr>\n",
       "      <th>3</th>\n",
       "      <td>NaN</td>\n",
       "      <td>Andorra</td>\n",
       "      <td>42.50630</td>\n",
       "      <td>1.521800</td>\n",
       "      <td>2020-01-22</td>\n",
       "      <td>0</td>\n",
       "      <td>0</td>\n",
       "      <td>0</td>\n",
       "      <td>0</td>\n",
       "      <td>Europe</td>\n",
       "    </tr>\n",
       "    <tr>\n",
       "      <th>4</th>\n",
       "      <td>NaN</td>\n",
       "      <td>Angola</td>\n",
       "      <td>-11.20270</td>\n",
       "      <td>17.873900</td>\n",
       "      <td>2020-01-22</td>\n",
       "      <td>0</td>\n",
       "      <td>0</td>\n",
       "      <td>0</td>\n",
       "      <td>0</td>\n",
       "      <td>Africa</td>\n",
       "    </tr>\n",
       "  </tbody>\n",
       "</table>\n",
       "</div>"
      ],
      "text/plain": [
       "  Province/State Country/Region       Lat       Long        Date  Confirmed  \\\n",
       "0            NaN    Afghanistan  33.93911  67.709953  2020-01-22          0   \n",
       "1            NaN        Albania  41.15330  20.168300  2020-01-22          0   \n",
       "2            NaN        Algeria  28.03390   1.659600  2020-01-22          0   \n",
       "3            NaN        Andorra  42.50630   1.521800  2020-01-22          0   \n",
       "4            NaN         Angola -11.20270  17.873900  2020-01-22          0   \n",
       "\n",
       "   Deaths  Recovered  Active             WHO Region  \n",
       "0       0          0       0  Eastern Mediterranean  \n",
       "1       0          0       0                 Europe  \n",
       "2       0          0       0                 Africa  \n",
       "3       0          0       0                 Europe  \n",
       "4       0          0       0                 Africa  "
      ]
     },
     "execution_count": 12,
     "metadata": {},
     "output_type": "execute_result"
    }
   ],
   "source": [
    "df.head()"
   ]
  },
  {
   "cell_type": "code",
   "execution_count": 13,
   "metadata": {
    "id": "JUykRHR7odda",
    "outputId": "c6e74282-bc64-4818-b309-29a59b004967"
   },
   "outputs": [
    {
     "data": {
      "text/plain": [
       "(49068, 10)"
      ]
     },
     "execution_count": 13,
     "metadata": {},
     "output_type": "execute_result"
    }
   ],
   "source": [
    "df.shape"
   ]
  },
  {
   "cell_type": "code",
   "execution_count": 14,
   "metadata": {
    "id": "i9TmCvxrodda",
    "outputId": "09125b88-b81c-42b4-c902-e5f6287cb030"
   },
   "outputs": [
    {
     "data": {
      "text/plain": [
       "Province/State     object\n",
       "Country/Region     object\n",
       "Lat               float64\n",
       "Long              float64\n",
       "Date               object\n",
       "Confirmed           int64\n",
       "Deaths              int64\n",
       "Recovered           int64\n",
       "Active              int64\n",
       "WHO Region         object\n",
       "dtype: object"
      ]
     },
     "execution_count": 14,
     "metadata": {},
     "output_type": "execute_result"
    }
   ],
   "source": [
    "df.dtypes"
   ]
  },
  {
   "cell_type": "code",
   "execution_count": 15,
   "metadata": {
    "id": "_B55SfVvodda"
   },
   "outputs": [],
   "source": [
    "df['Date']=pd.to_datetime(df['Date'])"
   ]
  },
  {
   "cell_type": "code",
   "execution_count": 16,
   "metadata": {
    "id": "dqwfXuRPoddb",
    "outputId": "2d8a92e5-d5b0-4327-be1c-9b2dd118cecc"
   },
   "outputs": [
    {
     "data": {
      "text/plain": [
       "Province/State            object\n",
       "Country/Region            object\n",
       "Lat                      float64\n",
       "Long                     float64\n",
       "Date              datetime64[ns]\n",
       "Confirmed                  int64\n",
       "Deaths                     int64\n",
       "Recovered                  int64\n",
       "Active                     int64\n",
       "WHO Region                object\n",
       "dtype: object"
      ]
     },
     "execution_count": 16,
     "metadata": {},
     "output_type": "execute_result"
    }
   ],
   "source": [
    "df.dtypes"
   ]
  },
  {
   "cell_type": "code",
   "execution_count": 17,
   "metadata": {
    "id": "wG4wTcP0oddb",
    "outputId": "82ae0e2a-66ae-4350-8c40-38ba34b6f108"
   },
   "outputs": [
    {
     "data": {
      "text/plain": [
       "Province/State    34404\n",
       "Country/Region        0\n",
       "Lat                   0\n",
       "Long                  0\n",
       "Date                  0\n",
       "Confirmed             0\n",
       "Deaths                0\n",
       "Recovered             0\n",
       "Active                0\n",
       "WHO Region            0\n",
       "dtype: int64"
      ]
     },
     "execution_count": 17,
     "metadata": {},
     "output_type": "execute_result"
    }
   ],
   "source": [
    "df.isnull().sum()"
   ]
  },
  {
   "cell_type": "code",
   "execution_count": 18,
   "metadata": {
    "id": "leFhCeoModdb",
    "outputId": "fbe4f107-3a64-4a10-eae6-9265b39d29d8"
   },
   "outputs": [
    {
     "data": {
      "text/plain": [
       "188"
      ]
     },
     "execution_count": 18,
     "metadata": {},
     "output_type": "execute_result"
    }
   ],
   "source": [
    "df['Date'].nunique()"
   ]
  },
  {
   "cell_type": "code",
   "execution_count": 19,
   "metadata": {
    "id": "jCS0iAfnoddb",
    "outputId": "14c65b60-0543-4668-cafd-28258df6e2f5"
   },
   "outputs": [
    {
     "name": "stderr",
     "output_type": "stream",
     "text": [
      "C:\\Users\\Bootcamp\\Anaconda3\\lib\\site-packages\\ipykernel_launcher.py:1: FutureWarning: Indexing with multiple keys (implicitly converted to a tuple of keys) will be deprecated, use a list instead.\n",
      "  \"\"\"Entry point for launching an IPython kernel.\n"
     ]
    }
   ],
   "source": [
    "total=df.groupby(['Date'])['Confirmed','Deaths','Recovered','Active'].sum().reset_index()"
   ]
  },
  {
   "cell_type": "code",
   "execution_count": 20,
   "metadata": {
    "id": "38p-Iyg1oddb",
    "outputId": "a8a6e073-a44d-48e5-aff0-e124f1e3f8fb"
   },
   "outputs": [
    {
     "data": {
      "text/html": [
       "<div>\n",
       "<style scoped>\n",
       "    .dataframe tbody tr th:only-of-type {\n",
       "        vertical-align: middle;\n",
       "    }\n",
       "\n",
       "    .dataframe tbody tr th {\n",
       "        vertical-align: top;\n",
       "    }\n",
       "\n",
       "    .dataframe thead th {\n",
       "        text-align: right;\n",
       "    }\n",
       "</style>\n",
       "<table border=\"1\" class=\"dataframe\">\n",
       "  <thead>\n",
       "    <tr style=\"text-align: right;\">\n",
       "      <th></th>\n",
       "      <th>Date</th>\n",
       "      <th>Confirmed</th>\n",
       "      <th>Deaths</th>\n",
       "      <th>Recovered</th>\n",
       "      <th>Active</th>\n",
       "    </tr>\n",
       "  </thead>\n",
       "  <tbody>\n",
       "    <tr>\n",
       "      <th>0</th>\n",
       "      <td>2020-01-22</td>\n",
       "      <td>555</td>\n",
       "      <td>17</td>\n",
       "      <td>28</td>\n",
       "      <td>510</td>\n",
       "    </tr>\n",
       "    <tr>\n",
       "      <th>1</th>\n",
       "      <td>2020-01-23</td>\n",
       "      <td>654</td>\n",
       "      <td>18</td>\n",
       "      <td>30</td>\n",
       "      <td>606</td>\n",
       "    </tr>\n",
       "    <tr>\n",
       "      <th>2</th>\n",
       "      <td>2020-01-24</td>\n",
       "      <td>941</td>\n",
       "      <td>26</td>\n",
       "      <td>36</td>\n",
       "      <td>879</td>\n",
       "    </tr>\n",
       "    <tr>\n",
       "      <th>3</th>\n",
       "      <td>2020-01-25</td>\n",
       "      <td>1434</td>\n",
       "      <td>42</td>\n",
       "      <td>39</td>\n",
       "      <td>1353</td>\n",
       "    </tr>\n",
       "    <tr>\n",
       "      <th>4</th>\n",
       "      <td>2020-01-26</td>\n",
       "      <td>2118</td>\n",
       "      <td>56</td>\n",
       "      <td>52</td>\n",
       "      <td>2010</td>\n",
       "    </tr>\n",
       "  </tbody>\n",
       "</table>\n",
       "</div>"
      ],
      "text/plain": [
       "        Date  Confirmed  Deaths  Recovered  Active\n",
       "0 2020-01-22        555      17         28     510\n",
       "1 2020-01-23        654      18         30     606\n",
       "2 2020-01-24        941      26         36     879\n",
       "3 2020-01-25       1434      42         39    1353\n",
       "4 2020-01-26       2118      56         52    2010"
      ]
     },
     "execution_count": 20,
     "metadata": {},
     "output_type": "execute_result"
    }
   ],
   "source": [
    "total.head()"
   ]
  },
  {
   "cell_type": "code",
   "execution_count": 21,
   "metadata": {
    "id": "vo2bdnY4oddc"
   },
   "outputs": [],
   "source": [
    "#modelleme yapmadan önce kolon adlarını ds date için y de diğer kolon için değiştirelim"
   ]
  },
  {
   "cell_type": "code",
   "execution_count": 22,
   "metadata": {
    "id": "3P9CJApmoddc"
   },
   "outputs": [],
   "source": [
    "df_prophet=total.rename(columns={'Date':'ds','Confirmed':'y'})"
   ]
  },
  {
   "cell_type": "code",
   "execution_count": 23,
   "metadata": {
    "id": "WwNDoT_qoddc",
    "outputId": "d80855e3-40a6-4d17-fc85-b7da1f9d0177"
   },
   "outputs": [
    {
     "data": {
      "text/html": [
       "<div>\n",
       "<style scoped>\n",
       "    .dataframe tbody tr th:only-of-type {\n",
       "        vertical-align: middle;\n",
       "    }\n",
       "\n",
       "    .dataframe tbody tr th {\n",
       "        vertical-align: top;\n",
       "    }\n",
       "\n",
       "    .dataframe thead th {\n",
       "        text-align: right;\n",
       "    }\n",
       "</style>\n",
       "<table border=\"1\" class=\"dataframe\">\n",
       "  <thead>\n",
       "    <tr style=\"text-align: right;\">\n",
       "      <th></th>\n",
       "      <th>ds</th>\n",
       "      <th>y</th>\n",
       "      <th>Deaths</th>\n",
       "      <th>Recovered</th>\n",
       "      <th>Active</th>\n",
       "    </tr>\n",
       "  </thead>\n",
       "  <tbody>\n",
       "    <tr>\n",
       "      <th>0</th>\n",
       "      <td>2020-01-22</td>\n",
       "      <td>555</td>\n",
       "      <td>17</td>\n",
       "      <td>28</td>\n",
       "      <td>510</td>\n",
       "    </tr>\n",
       "    <tr>\n",
       "      <th>1</th>\n",
       "      <td>2020-01-23</td>\n",
       "      <td>654</td>\n",
       "      <td>18</td>\n",
       "      <td>30</td>\n",
       "      <td>606</td>\n",
       "    </tr>\n",
       "    <tr>\n",
       "      <th>2</th>\n",
       "      <td>2020-01-24</td>\n",
       "      <td>941</td>\n",
       "      <td>26</td>\n",
       "      <td>36</td>\n",
       "      <td>879</td>\n",
       "    </tr>\n",
       "    <tr>\n",
       "      <th>3</th>\n",
       "      <td>2020-01-25</td>\n",
       "      <td>1434</td>\n",
       "      <td>42</td>\n",
       "      <td>39</td>\n",
       "      <td>1353</td>\n",
       "    </tr>\n",
       "    <tr>\n",
       "      <th>4</th>\n",
       "      <td>2020-01-26</td>\n",
       "      <td>2118</td>\n",
       "      <td>56</td>\n",
       "      <td>52</td>\n",
       "      <td>2010</td>\n",
       "    </tr>\n",
       "  </tbody>\n",
       "</table>\n",
       "</div>"
      ],
      "text/plain": [
       "          ds     y  Deaths  Recovered  Active\n",
       "0 2020-01-22   555      17         28     510\n",
       "1 2020-01-23   654      18         30     606\n",
       "2 2020-01-24   941      26         36     879\n",
       "3 2020-01-25  1434      42         39    1353\n",
       "4 2020-01-26  2118      56         52    2010"
      ]
     },
     "execution_count": 23,
     "metadata": {},
     "output_type": "execute_result"
    }
   ],
   "source": [
    "df_prophet.head()"
   ]
  },
  {
   "cell_type": "code",
   "execution_count": 36,
   "metadata": {},
   "outputs": [
    {
     "data": {
      "text/html": [
       "<div>\n",
       "<style scoped>\n",
       "    .dataframe tbody tr th:only-of-type {\n",
       "        vertical-align: middle;\n",
       "    }\n",
       "\n",
       "    .dataframe tbody tr th {\n",
       "        vertical-align: top;\n",
       "    }\n",
       "\n",
       "    .dataframe thead th {\n",
       "        text-align: right;\n",
       "    }\n",
       "</style>\n",
       "<table border=\"1\" class=\"dataframe\">\n",
       "  <thead>\n",
       "    <tr style=\"text-align: right;\">\n",
       "      <th></th>\n",
       "      <th>ds</th>\n",
       "      <th>y</th>\n",
       "      <th>Deaths</th>\n",
       "      <th>Recovered</th>\n",
       "      <th>Active</th>\n",
       "    </tr>\n",
       "  </thead>\n",
       "  <tbody>\n",
       "    <tr>\n",
       "      <th>183</th>\n",
       "      <td>2020-07-23</td>\n",
       "      <td>15510481</td>\n",
       "      <td>633506</td>\n",
       "      <td>8710969</td>\n",
       "      <td>6166006</td>\n",
       "    </tr>\n",
       "    <tr>\n",
       "      <th>184</th>\n",
       "      <td>2020-07-24</td>\n",
       "      <td>15791645</td>\n",
       "      <td>639650</td>\n",
       "      <td>8939705</td>\n",
       "      <td>6212290</td>\n",
       "    </tr>\n",
       "    <tr>\n",
       "      <th>185</th>\n",
       "      <td>2020-07-25</td>\n",
       "      <td>16047190</td>\n",
       "      <td>644517</td>\n",
       "      <td>9158743</td>\n",
       "      <td>6243930</td>\n",
       "    </tr>\n",
       "    <tr>\n",
       "      <th>186</th>\n",
       "      <td>2020-07-26</td>\n",
       "      <td>16251796</td>\n",
       "      <td>648621</td>\n",
       "      <td>9293464</td>\n",
       "      <td>6309711</td>\n",
       "    </tr>\n",
       "    <tr>\n",
       "      <th>187</th>\n",
       "      <td>2020-07-27</td>\n",
       "      <td>16480485</td>\n",
       "      <td>654036</td>\n",
       "      <td>9468087</td>\n",
       "      <td>6358362</td>\n",
       "    </tr>\n",
       "  </tbody>\n",
       "</table>\n",
       "</div>"
      ],
      "text/plain": [
       "            ds         y  Deaths  Recovered   Active\n",
       "183 2020-07-23  15510481  633506    8710969  6166006\n",
       "184 2020-07-24  15791645  639650    8939705  6212290\n",
       "185 2020-07-25  16047190  644517    9158743  6243930\n",
       "186 2020-07-26  16251796  648621    9293464  6309711\n",
       "187 2020-07-27  16480485  654036    9468087  6358362"
      ]
     },
     "execution_count": 36,
     "metadata": {},
     "output_type": "execute_result"
    }
   ],
   "source": [
    "df_prophet.tail()"
   ]
  },
  {
   "cell_type": "code",
   "execution_count": 24,
   "metadata": {
    "id": "EiGD9E7Loddc"
   },
   "outputs": [],
   "source": [
    "#şimdi modelleyelim"
   ]
  },
  {
   "cell_type": "code",
   "execution_count": 25,
   "metadata": {
    "id": "HfPtGVEToddc"
   },
   "outputs": [],
   "source": [
    "m=Prophet()"
   ]
  },
  {
   "cell_type": "code",
   "execution_count": 26,
   "metadata": {
    "id": "rlCz1syGoddc",
    "outputId": "b27831d2-7a38-4ddc-bd0f-b364c66895b5"
   },
   "outputs": [
    {
     "name": "stderr",
     "output_type": "stream",
     "text": [
      "16:28:06 - cmdstanpy - INFO - Chain [1] start processing\n",
      "16:28:11 - cmdstanpy - INFO - Chain [1] done processing\n"
     ]
    }
   ],
   "source": [
    "model=m.fit(df_prophet)"
   ]
  },
  {
   "cell_type": "code",
   "execution_count": null,
   "metadata": {
    "id": "B7zJEjuzoddd"
   },
   "outputs": [],
   "source": []
  },
  {
   "cell_type": "code",
   "execution_count": 27,
   "metadata": {
    "id": "LeIUJiQjoddd",
    "outputId": "4fc264ec-dead-4122-b239-873442a86e99"
   },
   "outputs": [
    {
     "data": {
      "text/plain": [
       "OrderedDict([('weekly',\n",
       "              {'period': 7,\n",
       "               'fourier_order': 3,\n",
       "               'prior_scale': 10.0,\n",
       "               'mode': 'additive',\n",
       "               'condition_name': None})])"
      ]
     },
     "execution_count": 27,
     "metadata": {},
     "output_type": "execute_result"
    }
   ],
   "source": [
    "model.seasonalities"
   ]
  },
  {
   "cell_type": "code",
   "execution_count": 28,
   "metadata": {
    "id": "61N6U_8foddd"
   },
   "outputs": [],
   "source": [
    "### ### now I am going to do forecasting so to do forecasting I need some Future Days \n",
    "future_global=model.make_future_dataframe(periods=30,freq='D')\n",
    "#30 günlük df oluşturduk"
   ]
  },
  {
   "cell_type": "code",
   "execution_count": 29,
   "metadata": {
    "id": "fN_R2O0voddd",
    "outputId": "0703d999-a89b-4670-82f4-ed8ae515824b"
   },
   "outputs": [
    {
     "data": {
      "text/html": [
       "<div>\n",
       "<style scoped>\n",
       "    .dataframe tbody tr th:only-of-type {\n",
       "        vertical-align: middle;\n",
       "    }\n",
       "\n",
       "    .dataframe tbody tr th {\n",
       "        vertical-align: top;\n",
       "    }\n",
       "\n",
       "    .dataframe thead th {\n",
       "        text-align: right;\n",
       "    }\n",
       "</style>\n",
       "<table border=\"1\" class=\"dataframe\">\n",
       "  <thead>\n",
       "    <tr style=\"text-align: right;\">\n",
       "      <th></th>\n",
       "      <th>ds</th>\n",
       "    </tr>\n",
       "  </thead>\n",
       "  <tbody>\n",
       "    <tr>\n",
       "      <th>0</th>\n",
       "      <td>2020-01-22</td>\n",
       "    </tr>\n",
       "    <tr>\n",
       "      <th>1</th>\n",
       "      <td>2020-01-23</td>\n",
       "    </tr>\n",
       "    <tr>\n",
       "      <th>2</th>\n",
       "      <td>2020-01-24</td>\n",
       "    </tr>\n",
       "    <tr>\n",
       "      <th>3</th>\n",
       "      <td>2020-01-25</td>\n",
       "    </tr>\n",
       "    <tr>\n",
       "      <th>4</th>\n",
       "      <td>2020-01-26</td>\n",
       "    </tr>\n",
       "  </tbody>\n",
       "</table>\n",
       "</div>"
      ],
      "text/plain": [
       "          ds\n",
       "0 2020-01-22\n",
       "1 2020-01-23\n",
       "2 2020-01-24\n",
       "3 2020-01-25\n",
       "4 2020-01-26"
      ]
     },
     "execution_count": 29,
     "metadata": {},
     "output_type": "execute_result"
    }
   ],
   "source": [
    "future_global.head()"
   ]
  },
  {
   "cell_type": "code",
   "execution_count": 30,
   "metadata": {
    "id": "lOuHbaYYoddd",
    "outputId": "0ea8f3d1-192d-4c7f-9c79-fcac90da3a91"
   },
   "outputs": [
    {
     "data": {
      "text/plain": [
       "(188, 5)"
      ]
     },
     "execution_count": 30,
     "metadata": {},
     "output_type": "execute_result"
    }
   ],
   "source": [
    "df_prophet.shape"
   ]
  },
  {
   "cell_type": "code",
   "execution_count": 31,
   "metadata": {
    "id": "mlCF4nEPodde",
    "outputId": "9587f409-e3d3-43f1-cd6a-86d9586c9a2e"
   },
   "outputs": [
    {
     "data": {
      "text/plain": [
       "(218, 1)"
      ]
     },
     "execution_count": 31,
     "metadata": {},
     "output_type": "execute_result"
    }
   ],
   "source": [
    "future_global.shape\n",
    "#üzerine 30 gün daha geldi"
   ]
  },
  {
   "cell_type": "code",
   "execution_count": 32,
   "metadata": {
    "id": "84GZStE2odde",
    "outputId": "7bbb159c-a5a4-46a8-9672-881172b1fbac"
   },
   "outputs": [
    {
     "data": {
      "text/plain": [
       "183   2020-07-23\n",
       "184   2020-07-24\n",
       "185   2020-07-25\n",
       "186   2020-07-26\n",
       "187   2020-07-27\n",
       "Name: ds, dtype: datetime64[ns]"
      ]
     },
     "execution_count": 32,
     "metadata": {},
     "output_type": "execute_result"
    }
   ],
   "source": [
    "df_prophet['ds'].tail()"
   ]
  },
  {
   "cell_type": "code",
   "execution_count": 33,
   "metadata": {
    "id": "F_nCPwDzodde",
    "outputId": "96fc1347-df0a-4127-8719-2f42f10002b4"
   },
   "outputs": [
    {
     "data": {
      "text/html": [
       "<div>\n",
       "<style scoped>\n",
       "    .dataframe tbody tr th:only-of-type {\n",
       "        vertical-align: middle;\n",
       "    }\n",
       "\n",
       "    .dataframe tbody tr th {\n",
       "        vertical-align: top;\n",
       "    }\n",
       "\n",
       "    .dataframe thead th {\n",
       "        text-align: right;\n",
       "    }\n",
       "</style>\n",
       "<table border=\"1\" class=\"dataframe\">\n",
       "  <thead>\n",
       "    <tr style=\"text-align: right;\">\n",
       "      <th></th>\n",
       "      <th>ds</th>\n",
       "    </tr>\n",
       "  </thead>\n",
       "  <tbody>\n",
       "    <tr>\n",
       "      <th>213</th>\n",
       "      <td>2020-08-22</td>\n",
       "    </tr>\n",
       "    <tr>\n",
       "      <th>214</th>\n",
       "      <td>2020-08-23</td>\n",
       "    </tr>\n",
       "    <tr>\n",
       "      <th>215</th>\n",
       "      <td>2020-08-24</td>\n",
       "    </tr>\n",
       "    <tr>\n",
       "      <th>216</th>\n",
       "      <td>2020-08-25</td>\n",
       "    </tr>\n",
       "    <tr>\n",
       "      <th>217</th>\n",
       "      <td>2020-08-26</td>\n",
       "    </tr>\n",
       "  </tbody>\n",
       "</table>\n",
       "</div>"
      ],
      "text/plain": [
       "            ds\n",
       "213 2020-08-22\n",
       "214 2020-08-23\n",
       "215 2020-08-24\n",
       "216 2020-08-25\n",
       "217 2020-08-26"
      ]
     },
     "execution_count": 33,
     "metadata": {},
     "output_type": "execute_result"
    }
   ],
   "source": [
    "future_global.tail()"
   ]
  },
  {
   "cell_type": "code",
   "execution_count": null,
   "metadata": {
    "id": "I2ouXfkXodde"
   },
   "outputs": [],
   "source": []
  },
  {
   "cell_type": "code",
   "execution_count": 34,
   "metadata": {
    "id": "lXr0_QCNodde",
    "outputId": "fa96ea7e-0085-45e5-90ea-5c4b20a6fd76"
   },
   "outputs": [
    {
     "data": {
      "text/html": [
       "<div>\n",
       "<style scoped>\n",
       "    .dataframe tbody tr th:only-of-type {\n",
       "        vertical-align: middle;\n",
       "    }\n",
       "\n",
       "    .dataframe tbody tr th {\n",
       "        vertical-align: top;\n",
       "    }\n",
       "\n",
       "    .dataframe thead th {\n",
       "        text-align: right;\n",
       "    }\n",
       "</style>\n",
       "<table border=\"1\" class=\"dataframe\">\n",
       "  <thead>\n",
       "    <tr style=\"text-align: right;\">\n",
       "      <th></th>\n",
       "      <th>ds</th>\n",
       "      <th>trend</th>\n",
       "      <th>yhat_lower</th>\n",
       "      <th>yhat_upper</th>\n",
       "      <th>trend_lower</th>\n",
       "      <th>trend_upper</th>\n",
       "      <th>additive_terms</th>\n",
       "      <th>additive_terms_lower</th>\n",
       "      <th>additive_terms_upper</th>\n",
       "      <th>weekly</th>\n",
       "      <th>weekly_lower</th>\n",
       "      <th>weekly_upper</th>\n",
       "      <th>multiplicative_terms</th>\n",
       "      <th>multiplicative_terms_lower</th>\n",
       "      <th>multiplicative_terms_upper</th>\n",
       "      <th>yhat</th>\n",
       "    </tr>\n",
       "  </thead>\n",
       "  <tbody>\n",
       "    <tr>\n",
       "      <th>0</th>\n",
       "      <td>2020-01-22</td>\n",
       "      <td>-9.445493e+03</td>\n",
       "      <td>-1.271050e+05</td>\n",
       "      <td>8.908231e+04</td>\n",
       "      <td>-9.445493e+03</td>\n",
       "      <td>-9.445493e+03</td>\n",
       "      <td>-10997.897085</td>\n",
       "      <td>-10997.897085</td>\n",
       "      <td>-10997.897085</td>\n",
       "      <td>-10997.897085</td>\n",
       "      <td>-10997.897085</td>\n",
       "      <td>-10997.897085</td>\n",
       "      <td>0.0</td>\n",
       "      <td>0.0</td>\n",
       "      <td>0.0</td>\n",
       "      <td>-2.044339e+04</td>\n",
       "    </tr>\n",
       "    <tr>\n",
       "      <th>1</th>\n",
       "      <td>2020-01-23</td>\n",
       "      <td>-6.740790e+03</td>\n",
       "      <td>-1.084375e+05</td>\n",
       "      <td>9.941388e+04</td>\n",
       "      <td>-6.740790e+03</td>\n",
       "      <td>-6.740790e+03</td>\n",
       "      <td>-1101.108996</td>\n",
       "      <td>-1101.108996</td>\n",
       "      <td>-1101.108996</td>\n",
       "      <td>-1101.108996</td>\n",
       "      <td>-1101.108996</td>\n",
       "      <td>-1101.108996</td>\n",
       "      <td>0.0</td>\n",
       "      <td>0.0</td>\n",
       "      <td>0.0</td>\n",
       "      <td>-7.841899e+03</td>\n",
       "    </tr>\n",
       "    <tr>\n",
       "      <th>2</th>\n",
       "      <td>2020-01-24</td>\n",
       "      <td>-4.036087e+03</td>\n",
       "      <td>-9.802730e+04</td>\n",
       "      <td>1.116097e+05</td>\n",
       "      <td>-4.036087e+03</td>\n",
       "      <td>-4.036087e+03</td>\n",
       "      <td>10060.657719</td>\n",
       "      <td>10060.657719</td>\n",
       "      <td>10060.657719</td>\n",
       "      <td>10060.657719</td>\n",
       "      <td>10060.657719</td>\n",
       "      <td>10060.657719</td>\n",
       "      <td>0.0</td>\n",
       "      <td>0.0</td>\n",
       "      <td>0.0</td>\n",
       "      <td>6.024571e+03</td>\n",
       "    </tr>\n",
       "    <tr>\n",
       "      <th>3</th>\n",
       "      <td>2020-01-25</td>\n",
       "      <td>-1.331384e+03</td>\n",
       "      <td>-7.725692e+04</td>\n",
       "      <td>1.260547e+05</td>\n",
       "      <td>-1.331384e+03</td>\n",
       "      <td>-1.331384e+03</td>\n",
       "      <td>13739.103217</td>\n",
       "      <td>13739.103217</td>\n",
       "      <td>13739.103217</td>\n",
       "      <td>13739.103217</td>\n",
       "      <td>13739.103217</td>\n",
       "      <td>13739.103217</td>\n",
       "      <td>0.0</td>\n",
       "      <td>0.0</td>\n",
       "      <td>0.0</td>\n",
       "      <td>1.240772e+04</td>\n",
       "    </tr>\n",
       "    <tr>\n",
       "      <th>4</th>\n",
       "      <td>2020-01-26</td>\n",
       "      <td>1.373319e+03</td>\n",
       "      <td>-1.024951e+05</td>\n",
       "      <td>1.208673e+05</td>\n",
       "      <td>1.373319e+03</td>\n",
       "      <td>1.373319e+03</td>\n",
       "      <td>7272.359551</td>\n",
       "      <td>7272.359551</td>\n",
       "      <td>7272.359551</td>\n",
       "      <td>7272.359551</td>\n",
       "      <td>7272.359551</td>\n",
       "      <td>7272.359551</td>\n",
       "      <td>0.0</td>\n",
       "      <td>0.0</td>\n",
       "      <td>0.0</td>\n",
       "      <td>8.645679e+03</td>\n",
       "    </tr>\n",
       "    <tr>\n",
       "      <th>...</th>\n",
       "      <td>...</td>\n",
       "      <td>...</td>\n",
       "      <td>...</td>\n",
       "      <td>...</td>\n",
       "      <td>...</td>\n",
       "      <td>...</td>\n",
       "      <td>...</td>\n",
       "      <td>...</td>\n",
       "      <td>...</td>\n",
       "      <td>...</td>\n",
       "      <td>...</td>\n",
       "      <td>...</td>\n",
       "      <td>...</td>\n",
       "      <td>...</td>\n",
       "      <td>...</td>\n",
       "      <td>...</td>\n",
       "    </tr>\n",
       "    <tr>\n",
       "      <th>213</th>\n",
       "      <td>2020-08-22</td>\n",
       "      <td>2.143724e+07</td>\n",
       "      <td>2.109531e+07</td>\n",
       "      <td>2.180078e+07</td>\n",
       "      <td>2.109906e+07</td>\n",
       "      <td>2.179339e+07</td>\n",
       "      <td>13739.103217</td>\n",
       "      <td>13739.103217</td>\n",
       "      <td>13739.103217</td>\n",
       "      <td>13739.103217</td>\n",
       "      <td>13739.103217</td>\n",
       "      <td>13739.103217</td>\n",
       "      <td>0.0</td>\n",
       "      <td>0.0</td>\n",
       "      <td>0.0</td>\n",
       "      <td>2.145098e+07</td>\n",
       "    </tr>\n",
       "    <tr>\n",
       "      <th>214</th>\n",
       "      <td>2020-08-23</td>\n",
       "      <td>2.164125e+07</td>\n",
       "      <td>2.125574e+07</td>\n",
       "      <td>2.204096e+07</td>\n",
       "      <td>2.128154e+07</td>\n",
       "      <td>2.201849e+07</td>\n",
       "      <td>7272.359551</td>\n",
       "      <td>7272.359551</td>\n",
       "      <td>7272.359551</td>\n",
       "      <td>7272.359551</td>\n",
       "      <td>7272.359551</td>\n",
       "      <td>7272.359551</td>\n",
       "      <td>0.0</td>\n",
       "      <td>0.0</td>\n",
       "      <td>0.0</td>\n",
       "      <td>2.164853e+07</td>\n",
       "    </tr>\n",
       "    <tr>\n",
       "      <th>215</th>\n",
       "      <td>2020-08-24</td>\n",
       "      <td>2.184527e+07</td>\n",
       "      <td>2.144457e+07</td>\n",
       "      <td>2.226614e+07</td>\n",
       "      <td>2.146048e+07</td>\n",
       "      <td>2.224244e+07</td>\n",
       "      <td>-2109.410773</td>\n",
       "      <td>-2109.410773</td>\n",
       "      <td>-2109.410773</td>\n",
       "      <td>-2109.410773</td>\n",
       "      <td>-2109.410773</td>\n",
       "      <td>-2109.410773</td>\n",
       "      <td>0.0</td>\n",
       "      <td>0.0</td>\n",
       "      <td>0.0</td>\n",
       "      <td>2.184316e+07</td>\n",
       "    </tr>\n",
       "    <tr>\n",
       "      <th>216</th>\n",
       "      <td>2020-08-25</td>\n",
       "      <td>2.204928e+07</td>\n",
       "      <td>2.159673e+07</td>\n",
       "      <td>2.245745e+07</td>\n",
       "      <td>2.163858e+07</td>\n",
       "      <td>2.246659e+07</td>\n",
       "      <td>-16863.703632</td>\n",
       "      <td>-16863.703632</td>\n",
       "      <td>-16863.703632</td>\n",
       "      <td>-16863.703632</td>\n",
       "      <td>-16863.703632</td>\n",
       "      <td>-16863.703632</td>\n",
       "      <td>0.0</td>\n",
       "      <td>0.0</td>\n",
       "      <td>0.0</td>\n",
       "      <td>2.203241e+07</td>\n",
       "    </tr>\n",
       "    <tr>\n",
       "      <th>217</th>\n",
       "      <td>2020-08-26</td>\n",
       "      <td>2.225329e+07</td>\n",
       "      <td>2.179733e+07</td>\n",
       "      <td>2.269276e+07</td>\n",
       "      <td>2.182432e+07</td>\n",
       "      <td>2.269752e+07</td>\n",
       "      <td>-10997.897085</td>\n",
       "      <td>-10997.897085</td>\n",
       "      <td>-10997.897085</td>\n",
       "      <td>-10997.897085</td>\n",
       "      <td>-10997.897085</td>\n",
       "      <td>-10997.897085</td>\n",
       "      <td>0.0</td>\n",
       "      <td>0.0</td>\n",
       "      <td>0.0</td>\n",
       "      <td>2.224229e+07</td>\n",
       "    </tr>\n",
       "  </tbody>\n",
       "</table>\n",
       "<p>218 rows × 16 columns</p>\n",
       "</div>"
      ],
      "text/plain": [
       "            ds         trend    yhat_lower    yhat_upper   trend_lower  \\\n",
       "0   2020-01-22 -9.445493e+03 -1.271050e+05  8.908231e+04 -9.445493e+03   \n",
       "1   2020-01-23 -6.740790e+03 -1.084375e+05  9.941388e+04 -6.740790e+03   \n",
       "2   2020-01-24 -4.036087e+03 -9.802730e+04  1.116097e+05 -4.036087e+03   \n",
       "3   2020-01-25 -1.331384e+03 -7.725692e+04  1.260547e+05 -1.331384e+03   \n",
       "4   2020-01-26  1.373319e+03 -1.024951e+05  1.208673e+05  1.373319e+03   \n",
       "..         ...           ...           ...           ...           ...   \n",
       "213 2020-08-22  2.143724e+07  2.109531e+07  2.180078e+07  2.109906e+07   \n",
       "214 2020-08-23  2.164125e+07  2.125574e+07  2.204096e+07  2.128154e+07   \n",
       "215 2020-08-24  2.184527e+07  2.144457e+07  2.226614e+07  2.146048e+07   \n",
       "216 2020-08-25  2.204928e+07  2.159673e+07  2.245745e+07  2.163858e+07   \n",
       "217 2020-08-26  2.225329e+07  2.179733e+07  2.269276e+07  2.182432e+07   \n",
       "\n",
       "      trend_upper  additive_terms  additive_terms_lower  additive_terms_upper  \\\n",
       "0   -9.445493e+03   -10997.897085         -10997.897085         -10997.897085   \n",
       "1   -6.740790e+03    -1101.108996          -1101.108996          -1101.108996   \n",
       "2   -4.036087e+03    10060.657719          10060.657719          10060.657719   \n",
       "3   -1.331384e+03    13739.103217          13739.103217          13739.103217   \n",
       "4    1.373319e+03     7272.359551           7272.359551           7272.359551   \n",
       "..            ...             ...                   ...                   ...   \n",
       "213  2.179339e+07    13739.103217          13739.103217          13739.103217   \n",
       "214  2.201849e+07     7272.359551           7272.359551           7272.359551   \n",
       "215  2.224244e+07    -2109.410773          -2109.410773          -2109.410773   \n",
       "216  2.246659e+07   -16863.703632         -16863.703632         -16863.703632   \n",
       "217  2.269752e+07   -10997.897085         -10997.897085         -10997.897085   \n",
       "\n",
       "           weekly  weekly_lower  weekly_upper  multiplicative_terms  \\\n",
       "0   -10997.897085 -10997.897085 -10997.897085                   0.0   \n",
       "1    -1101.108996  -1101.108996  -1101.108996                   0.0   \n",
       "2    10060.657719  10060.657719  10060.657719                   0.0   \n",
       "3    13739.103217  13739.103217  13739.103217                   0.0   \n",
       "4     7272.359551   7272.359551   7272.359551                   0.0   \n",
       "..            ...           ...           ...                   ...   \n",
       "213  13739.103217  13739.103217  13739.103217                   0.0   \n",
       "214   7272.359551   7272.359551   7272.359551                   0.0   \n",
       "215  -2109.410773  -2109.410773  -2109.410773                   0.0   \n",
       "216 -16863.703632 -16863.703632 -16863.703632                   0.0   \n",
       "217 -10997.897085 -10997.897085 -10997.897085                   0.0   \n",
       "\n",
       "     multiplicative_terms_lower  multiplicative_terms_upper          yhat  \n",
       "0                           0.0                         0.0 -2.044339e+04  \n",
       "1                           0.0                         0.0 -7.841899e+03  \n",
       "2                           0.0                         0.0  6.024571e+03  \n",
       "3                           0.0                         0.0  1.240772e+04  \n",
       "4                           0.0                         0.0  8.645679e+03  \n",
       "..                          ...                         ...           ...  \n",
       "213                         0.0                         0.0  2.145098e+07  \n",
       "214                         0.0                         0.0  2.164853e+07  \n",
       "215                         0.0                         0.0  2.184316e+07  \n",
       "216                         0.0                         0.0  2.203241e+07  \n",
       "217                         0.0                         0.0  2.224229e+07  \n",
       "\n",
       "[218 rows x 16 columns]"
      ]
     },
     "execution_count": 34,
     "metadata": {},
     "output_type": "execute_result"
    }
   ],
   "source": [
    "### now do Prediction on future_global\n",
    "prediction=model.predict(future_global)\n",
    "prediction"
   ]
  },
  {
   "cell_type": "code",
   "execution_count": 37,
   "metadata": {
    "id": "T1H_mlMModde",
    "outputId": "22e620ec-a838-4934-e6ef-688a809f82d4"
   },
   "outputs": [
    {
     "data": {
      "text/html": [
       "<div>\n",
       "<style scoped>\n",
       "    .dataframe tbody tr th:only-of-type {\n",
       "        vertical-align: middle;\n",
       "    }\n",
       "\n",
       "    .dataframe tbody tr th {\n",
       "        vertical-align: top;\n",
       "    }\n",
       "\n",
       "    .dataframe thead th {\n",
       "        text-align: right;\n",
       "    }\n",
       "</style>\n",
       "<table border=\"1\" class=\"dataframe\">\n",
       "  <thead>\n",
       "    <tr style=\"text-align: right;\">\n",
       "      <th></th>\n",
       "      <th>ds</th>\n",
       "      <th>yhat</th>\n",
       "      <th>yhat_lower</th>\n",
       "      <th>yhat_upper</th>\n",
       "    </tr>\n",
       "  </thead>\n",
       "  <tbody>\n",
       "    <tr>\n",
       "      <th>213</th>\n",
       "      <td>2020-08-22</td>\n",
       "      <td>2.145098e+07</td>\n",
       "      <td>2.109531e+07</td>\n",
       "      <td>2.180078e+07</td>\n",
       "    </tr>\n",
       "    <tr>\n",
       "      <th>214</th>\n",
       "      <td>2020-08-23</td>\n",
       "      <td>2.164853e+07</td>\n",
       "      <td>2.125574e+07</td>\n",
       "      <td>2.204096e+07</td>\n",
       "    </tr>\n",
       "    <tr>\n",
       "      <th>215</th>\n",
       "      <td>2020-08-24</td>\n",
       "      <td>2.184316e+07</td>\n",
       "      <td>2.144457e+07</td>\n",
       "      <td>2.226614e+07</td>\n",
       "    </tr>\n",
       "    <tr>\n",
       "      <th>216</th>\n",
       "      <td>2020-08-25</td>\n",
       "      <td>2.203241e+07</td>\n",
       "      <td>2.159673e+07</td>\n",
       "      <td>2.245745e+07</td>\n",
       "    </tr>\n",
       "    <tr>\n",
       "      <th>217</th>\n",
       "      <td>2020-08-26</td>\n",
       "      <td>2.224229e+07</td>\n",
       "      <td>2.179733e+07</td>\n",
       "      <td>2.269276e+07</td>\n",
       "    </tr>\n",
       "  </tbody>\n",
       "</table>\n",
       "</div>"
      ],
      "text/plain": [
       "            ds          yhat    yhat_lower    yhat_upper\n",
       "213 2020-08-22  2.145098e+07  2.109531e+07  2.180078e+07\n",
       "214 2020-08-23  2.164853e+07  2.125574e+07  2.204096e+07\n",
       "215 2020-08-24  2.184316e+07  2.144457e+07  2.226614e+07\n",
       "216 2020-08-25  2.203241e+07  2.159673e+07  2.245745e+07\n",
       "217 2020-08-26  2.224229e+07  2.179733e+07  2.269276e+07"
      ]
     },
     "execution_count": 37,
     "metadata": {},
     "output_type": "execute_result"
    }
   ],
   "source": [
    "prediction[['ds','yhat','yhat_lower','yhat_upper']].tail()"
   ]
  },
  {
   "cell_type": "code",
   "execution_count": null,
   "metadata": {
    "id": "a4WvcfXaodde"
   },
   "outputs": [],
   "source": []
  },
  {
   "cell_type": "code",
   "execution_count": 38,
   "metadata": {
    "id": "5qlGXxaCoddf",
    "outputId": "924e92f3-eca7-482e-da34-485aa57ff21d"
   },
   "outputs": [
    {
     "data": {
      "image/png": "[encoded data removed]",
      "text/plain": [
       "<Figure size 720x432 with 1 Axes>"
      ]
     },
     "execution_count": 38,
     "metadata": {},
     "output_type": "execute_result"
    },
    {
     "data": {
      "image/png": "[encoded data removed]",
      "text/plain": [
       "<Figure size 720x432 with 1 Axes>"
      ]
     },
     "metadata": {},
     "output_type": "display_data"
    }
   ],
   "source": [
    "#### plot the predictions u will see these are with respect to yhat\n",
    "model.plot(prediction)\n",
    "#koyu mavi renk olan predicted valuedur en sonda gördüğümüz\n",
    "#siyah renk olan actual valuedur"
   ]
  },
  {
   "cell_type": "markdown",
   "metadata": {
    "id": "Rk_xmcfIoddf"
   },
   "source": [
    "### Conclusion--> This is what our prediction looks like. The direction of overall case numbers is probably true, u will observe how cases rises exponentially"
   ]
  },
  {
   "cell_type": "code",
   "execution_count": null,
   "metadata": {
    "id": "6G8Sr-X5oddg"
   },
   "outputs": [],
   "source": []
  },
  {
   "cell_type": "code",
   "execution_count": 39,
   "metadata": {
    "id": "DJBsSEHUoddg",
    "outputId": "affb50d9-1a1e-4dfc-cd82-0365638079bc"
   },
   "outputs": [
    {
     "data": {
      "image/png": "[encoded data removed]",
      "text/plain": [
       "<Figure size 648x432 with 2 Axes>"
      ]
     },
     "execution_count": 39,
     "metadata": {},
     "output_type": "execute_result"
    },
    {
     "data": {
      "image/png": "[encoded data removed]",
      "text/plain": [
       "<Figure size 648x432 with 2 Axes>"
      ]
     },
     "metadata": {},
     "output_type": "display_data"
    }
   ],
   "source": [
    "##### Visualize Each Components[Trends,Weekly]\n",
    "model.plot_components(prediction)"
   ]
  },
  {
   "cell_type": "code",
   "execution_count": 41,
   "metadata": {
    "id": "SXpN4Rtaoddh"
   },
   "outputs": [],
   "source": [
    "#### The prophet model identifies points at which the trend changes and those can be plotted.¶\n",
    "#from fbprophet.plot import add_changepoints_to_plot\n",
    "from prophet.plot import add_changepoints_to_plot"
   ]
  },
  {
   "cell_type": "code",
   "execution_count": 42,
   "metadata": {
    "id": "j8peBXrNoddh",
    "outputId": "f7d8c2f1-7b58-4b92-d306-2b5b25f9cf5e"
   },
   "outputs": [
    {
     "data": {
      "image/png": "[encoded data removed]",
      "text/plain": [
       "<Figure size 720x432 with 1 Axes>"
      ]
     },
     "metadata": {},
     "output_type": "display_data"
    }
   ],
   "source": [
    "fig=model.plot(prediction)\n",
    "\n",
    "a=add_changepoints_to_plot(fig.gca(),model,prediction)"
   ]
  },
  {
   "cell_type": "code",
   "execution_count": null,
   "metadata": {
    "id": "lLDLq5MEoddh"
   },
   "outputs": [],
   "source": []
  },
  {
   "cell_type": "code",
   "execution_count": 43,
   "metadata": {
    "id": "3_lHiyhAoddh"
   },
   "outputs": [],
   "source": [
    "#from fbprophet.diagnostics import cross_validation\n",
    "from prophet.diagnostics import cross_validation"
   ]
  },
  {
   "cell_type": "code",
   "execution_count": 44,
   "metadata": {
    "id": "aUrCSAa9oddi",
    "outputId": "f795cfc9-22cd-4a4b-aeba-4e9db45b9b49"
   },
   "outputs": [
    {
     "data": {
      "application/vnd.jupyter.widget-view+json": {
       "model_id": "a39006c6c4574e1b9469d885984e5e03",
       "version_major": 2,
       "version_minor": 0
      },
      "text/plain": [
       "  0%|          | 0/5 [00:00<?, ?it/s]"
      ]
     },
     "metadata": {},
     "output_type": "display_data"
    },
    {
     "name": "stderr",
     "output_type": "stream",
     "text": [
      "16:49:31 - cmdstanpy - INFO - Chain [1] start processing\n",
      "16:49:31 - cmdstanpy - INFO - Chain [1] done processing\n",
      "16:49:32 - cmdstanpy - INFO - Chain [1] start processing\n",
      "16:49:32 - cmdstanpy - INFO - Chain [1] done processing\n",
      "16:49:32 - cmdstanpy - INFO - Chain [1] start processing\n",
      "16:49:32 - cmdstanpy - INFO - Chain [1] done processing\n",
      "16:49:32 - cmdstanpy - INFO - Chain [1] start processing\n",
      "16:49:32 - cmdstanpy - INFO - Chain [1] done processing\n",
      "16:49:33 - cmdstanpy - INFO - Chain [1] start processing\n",
      "16:49:33 - cmdstanpy - INFO - Chain [1] done processing\n"
     ]
    }
   ],
   "source": [
    "df_cv=cross_validation(model,horizon='30 days',period='15 days',initial='90 days')\n",
    "## horizon='365 days'--> for how many days we have to cross validate=====\n",
    "\n",
    "## Computes forecasts from historical cutoff points Beginning from..\n",
    "\n",
    "## (end - horizon) it means it is going to take that date that is (end - horizon) bcz on these date we have to just \n",
    "## cross-validate for the new dataset that we have to find out\n",
    "\n",
    "## period=180 as from documentation of func as period=0.5*365=180 or {period=1/2*horizon value}\n",
    "## initial -How many total no. of days we actually want-- 3*365 from documentation of function or  {initial=3*horizon}"
   ]
  },
  {
   "cell_type": "code",
   "execution_count": 45,
   "metadata": {
    "id": "KjPhbhCOoddi",
    "outputId": "eed2d7a1-4483-40f4-b6af-f3162667107d"
   },
   "outputs": [
    {
     "data": {
      "text/html": [
       "<div>\n",
       "<style scoped>\n",
       "    .dataframe tbody tr th:only-of-type {\n",
       "        vertical-align: middle;\n",
       "    }\n",
       "\n",
       "    .dataframe tbody tr th {\n",
       "        vertical-align: top;\n",
       "    }\n",
       "\n",
       "    .dataframe thead th {\n",
       "        text-align: right;\n",
       "    }\n",
       "</style>\n",
       "<table border=\"1\" class=\"dataframe\">\n",
       "  <thead>\n",
       "    <tr style=\"text-align: right;\">\n",
       "      <th></th>\n",
       "      <th>ds</th>\n",
       "      <th>yhat</th>\n",
       "      <th>yhat_lower</th>\n",
       "      <th>yhat_upper</th>\n",
       "      <th>y</th>\n",
       "      <th>cutoff</th>\n",
       "    </tr>\n",
       "  </thead>\n",
       "  <tbody>\n",
       "    <tr>\n",
       "      <th>0</th>\n",
       "      <td>2020-04-29</td>\n",
       "      <td>3.201064e+06</td>\n",
       "      <td>3.195943e+06</td>\n",
       "      <td>3.206352e+06</td>\n",
       "      <td>3185195</td>\n",
       "      <td>2020-04-28</td>\n",
       "    </tr>\n",
       "    <tr>\n",
       "      <th>1</th>\n",
       "      <td>2020-04-30</td>\n",
       "      <td>3.285432e+06</td>\n",
       "      <td>3.279392e+06</td>\n",
       "      <td>3.291665e+06</td>\n",
       "      <td>3268876</td>\n",
       "      <td>2020-04-28</td>\n",
       "    </tr>\n",
       "    <tr>\n",
       "      <th>2</th>\n",
       "      <td>2020-05-01</td>\n",
       "      <td>3.369640e+06</td>\n",
       "      <td>3.361898e+06</td>\n",
       "      <td>3.377454e+06</td>\n",
       "      <td>3355922</td>\n",
       "      <td>2020-04-28</td>\n",
       "    </tr>\n",
       "    <tr>\n",
       "      <th>3</th>\n",
       "      <td>2020-05-02</td>\n",
       "      <td>3.450902e+06</td>\n",
       "      <td>3.439751e+06</td>\n",
       "      <td>3.462995e+06</td>\n",
       "      <td>3437608</td>\n",
       "      <td>2020-04-28</td>\n",
       "    </tr>\n",
       "    <tr>\n",
       "      <th>4</th>\n",
       "      <td>2020-05-03</td>\n",
       "      <td>3.530365e+06</td>\n",
       "      <td>3.514337e+06</td>\n",
       "      <td>3.546968e+06</td>\n",
       "      <td>3515244</td>\n",
       "      <td>2020-04-28</td>\n",
       "    </tr>\n",
       "  </tbody>\n",
       "</table>\n",
       "</div>"
      ],
      "text/plain": [
       "          ds          yhat    yhat_lower    yhat_upper        y     cutoff\n",
       "0 2020-04-29  3.201064e+06  3.195943e+06  3.206352e+06  3185195 2020-04-28\n",
       "1 2020-04-30  3.285432e+06  3.279392e+06  3.291665e+06  3268876 2020-04-28\n",
       "2 2020-05-01  3.369640e+06  3.361898e+06  3.377454e+06  3355922 2020-04-28\n",
       "3 2020-05-02  3.450902e+06  3.439751e+06  3.462995e+06  3437608 2020-04-28\n",
       "4 2020-05-03  3.530365e+06  3.514337e+06  3.546968e+06  3515244 2020-04-28"
      ]
     },
     "execution_count": 45,
     "metadata": {},
     "output_type": "execute_result"
    }
   ],
   "source": [
    "df_cv.head()"
   ]
  },
  {
   "cell_type": "code",
   "execution_count": 46,
   "metadata": {
    "id": "XEQP5szvoddi",
    "outputId": "f285a15f-8288-4126-bc4b-ec6fef906435"
   },
   "outputs": [
    {
     "data": {
      "text/plain": [
       "(150, 6)"
      ]
     },
     "execution_count": 46,
     "metadata": {},
     "output_type": "execute_result"
    }
   ],
   "source": [
    "df_cv.shape"
   ]
  },
  {
   "cell_type": "markdown",
   "metadata": {
    "id": "Nik_02ljoddi"
   },
   "source": [
    "#### Obtaining the Performance Metrics\n",
    "    We use the performance_metrics utility to compute the Mean Squared Error(MSE), Root Mean Squared Error(RMSE),Mean Absolute Error(MAE), Mean Absolute Percentage Error(MAPE) and the coverage of the the yhat_lower and yhat_upper estimates.\n"
   ]
  },
  {
   "cell_type": "code",
   "execution_count": 47,
   "metadata": {
    "id": "Ia3Iksbdoddj"
   },
   "outputs": [],
   "source": [
    "#from fbprophet.diagnostics import performance_metrics\n",
    "from prophet.diagnostics import performance_metrics"
   ]
  },
  {
   "cell_type": "code",
   "execution_count": 48,
   "metadata": {
    "id": "B99wD1mRoddj",
    "outputId": "d739acce-3d37-4ba6-bb16-cc649e2ef016"
   },
   "outputs": [
    {
     "data": {
      "text/html": [
       "<div>\n",
       "<style scoped>\n",
       "    .dataframe tbody tr th:only-of-type {\n",
       "        vertical-align: middle;\n",
       "    }\n",
       "\n",
       "    .dataframe tbody tr th {\n",
       "        vertical-align: top;\n",
       "    }\n",
       "\n",
       "    .dataframe thead th {\n",
       "        text-align: right;\n",
       "    }\n",
       "</style>\n",
       "<table border=\"1\" class=\"dataframe\">\n",
       "  <thead>\n",
       "    <tr style=\"text-align: right;\">\n",
       "      <th></th>\n",
       "      <th>horizon</th>\n",
       "      <th>mse</th>\n",
       "      <th>rmse</th>\n",
       "      <th>mae</th>\n",
       "      <th>mape</th>\n",
       "      <th>mdape</th>\n",
       "      <th>smape</th>\n",
       "      <th>coverage</th>\n",
       "    </tr>\n",
       "  </thead>\n",
       "  <tbody>\n",
       "    <tr>\n",
       "      <th>0</th>\n",
       "      <td>3 days</td>\n",
       "      <td>2.714808e+10</td>\n",
       "      <td>164766.739697</td>\n",
       "      <td>129061.648488</td>\n",
       "      <td>0.016856</td>\n",
       "      <td>0.017600</td>\n",
       "      <td>0.017039</td>\n",
       "      <td>0.000000</td>\n",
       "    </tr>\n",
       "    <tr>\n",
       "      <th>1</th>\n",
       "      <td>4 days</td>\n",
       "      <td>3.761718e+10</td>\n",
       "      <td>193951.498633</td>\n",
       "      <td>151232.793398</td>\n",
       "      <td>0.019317</td>\n",
       "      <td>0.022389</td>\n",
       "      <td>0.019562</td>\n",
       "      <td>0.000000</td>\n",
       "    </tr>\n",
       "    <tr>\n",
       "      <th>2</th>\n",
       "      <td>5 days</td>\n",
       "      <td>5.159644e+10</td>\n",
       "      <td>227148.492934</td>\n",
       "      <td>175053.186331</td>\n",
       "      <td>0.021766</td>\n",
       "      <td>0.025749</td>\n",
       "      <td>0.022085</td>\n",
       "      <td>0.066667</td>\n",
       "    </tr>\n",
       "    <tr>\n",
       "      <th>3</th>\n",
       "      <td>6 days</td>\n",
       "      <td>6.924995e+10</td>\n",
       "      <td>263153.847114</td>\n",
       "      <td>202023.953238</td>\n",
       "      <td>0.024543</td>\n",
       "      <td>0.026747</td>\n",
       "      <td>0.024954</td>\n",
       "      <td>0.133333</td>\n",
       "    </tr>\n",
       "    <tr>\n",
       "      <th>4</th>\n",
       "      <td>7 days</td>\n",
       "      <td>8.998205e+10</td>\n",
       "      <td>299970.080270</td>\n",
       "      <td>232360.951899</td>\n",
       "      <td>0.027825</td>\n",
       "      <td>0.031309</td>\n",
       "      <td>0.028348</td>\n",
       "      <td>0.200000</td>\n",
       "    </tr>\n",
       "  </tbody>\n",
       "</table>\n",
       "</div>"
      ],
      "text/plain": [
       "  horizon           mse           rmse            mae      mape     mdape  \\\n",
       "0  3 days  2.714808e+10  164766.739697  129061.648488  0.016856  0.017600   \n",
       "1  4 days  3.761718e+10  193951.498633  151232.793398  0.019317  0.022389   \n",
       "2  5 days  5.159644e+10  227148.492934  175053.186331  0.021766  0.025749   \n",
       "3  6 days  6.924995e+10  263153.847114  202023.953238  0.024543  0.026747   \n",
       "4  7 days  8.998205e+10  299970.080270  232360.951899  0.027825  0.031309   \n",
       "\n",
       "      smape  coverage  \n",
       "0  0.017039  0.000000  \n",
       "1  0.019562  0.000000  \n",
       "2  0.022085  0.066667  \n",
       "3  0.024954  0.133333  \n",
       "4  0.028348  0.200000  "
      ]
     },
     "execution_count": 48,
     "metadata": {},
     "output_type": "execute_result"
    }
   ],
   "source": [
    "df_performance=performance_metrics(df_cv)\n",
    "df_performance.head()"
   ]
  },
  {
   "cell_type": "code",
   "execution_count": 49,
   "metadata": {
    "id": "zSjSTW0yoddj"
   },
   "outputs": [],
   "source": [
    "#from fbprophet.plot import plot_cross_validation_metric\n",
    "from prophet.plot import plot_cross_validation_metric"
   ]
  },
  {
   "cell_type": "code",
   "execution_count": 51,
   "metadata": {
    "id": "B4f_SoHFoddj",
    "outputId": "244e7e5b-b3b1-4400-f251-c666ffffce89"
   },
   "outputs": [
    {
     "data": {
      "image/png": "[encoded data removed]",
      "text/plain": [
       "<Figure size 720x432 with 1 Axes>"
      ]
     },
     "metadata": {},
     "output_type": "display_data"
    }
   ],
   "source": [
    "df_performance=plot_cross_validation_metric(df_cv,metric='rmse')"
   ]
  },
  {
   "cell_type": "code",
   "execution_count": 52,
   "metadata": {
    "id": "evk52E0Doddj",
    "outputId": "c80405cc-345c-4151-9848-0bfcd4a0e483"
   },
   "outputs": [
    {
     "data": {
      "image/png": "[encoded data removed]",
      "text/plain": [
       "<Figure size 720x432 with 1 Axes>"
      ]
     },
     "metadata": {},
     "output_type": "display_data"
    }
   ],
   "source": [
    "df_performance=plot_cross_validation_metric(df_cv,metric='mse')"
   ]
  },
  {
   "cell_type": "code",
   "execution_count": 53,
   "metadata": {
    "id": "RkNf8mSsoddk",
    "outputId": "e2c1f789-8aad-4bf2-8c7c-1ad9b19d55d3"
   },
   "outputs": [
    {
     "data": {
      "image/png": "[encoded data removed]",
      "text/plain": [
       "<Figure size 720x432 with 1 Axes>"
      ]
     },
     "metadata": {},
     "output_type": "display_data"
    }
   ],
   "source": [
    "df_performance=plot_cross_validation_metric(df_cv,metric='mape')"
   ]
  },
  {
   "cell_type": "code",
   "execution_count": null,
   "metadata": {
    "id": "ytuOqD5Moddk"
   },
   "outputs": [],
   "source": []
  },
  {
   "cell_type": "code",
   "execution_count": null,
   "metadata": {
    "id": "N8iw0v3Xoddk"
   },
   "outputs": [],
   "source": []
  }
 ],
 "metadata": {
  "colab": {
   "provenance": []
  },
  "kernelspec": {
   "display_name": "Python 3",
   "language": "python",
   "name": "python3"
  },
  "language_info": {
   "codemirror_mode": {
    "name": "ipython",
    "version": 3
   },
   "file_extension": ".py",
   "mimetype": "text/x-python",
   "name": "python",
   "nbconvert_exporter": "python",
   "pygments_lexer": "ipython3",
   "version": "3.7.7"
  }
 },
 "nbformat": 4,
 "nbformat_minor": 1
}
