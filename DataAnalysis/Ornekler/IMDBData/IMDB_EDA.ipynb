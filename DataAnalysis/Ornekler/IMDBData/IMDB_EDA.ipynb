{
 "cells": [
  {
   "cell_type": "code",
   "execution_count": 1,
   "id": "28a6de60",
   "metadata": {},
   "outputs": [],
   "source": [
    "import numpy as np\n",
    "import pandas as pd"
   ]
  },
  {
   "cell_type": "code",
   "execution_count": 2,
   "id": "ea383796",
   "metadata": {},
   "outputs": [],
   "source": [
    "imdbdata=pd.read_csv(\"imdb_1000.csv\")"
   ]
  },
  {
   "cell_type": "code",
   "execution_count": 4,
   "id": "feffa189",
   "metadata": {},
   "outputs": [
    {
     "data": {
      "text/html": [
       "<div>\n",
       "<style scoped>\n",
       "    .dataframe tbody tr th:only-of-type {\n",
       "        vertical-align: middle;\n",
       "    }\n",
       "\n",
       "    .dataframe tbody tr th {\n",
       "        vertical-align: top;\n",
       "    }\n",
       "\n",
       "    .dataframe thead th {\n",
       "        text-align: right;\n",
       "    }\n",
       "</style>\n",
       "<table border=\"1\" class=\"dataframe\">\n",
       "  <thead>\n",
       "    <tr style=\"text-align: right;\">\n",
       "      <th></th>\n",
       "      <th>star_rating</th>\n",
       "      <th>title</th>\n",
       "      <th>content_rating</th>\n",
       "      <th>genre</th>\n",
       "      <th>duration</th>\n",
       "      <th>actors_list</th>\n",
       "    </tr>\n",
       "  </thead>\n",
       "  <tbody>\n",
       "    <tr>\n",
       "      <th>0</th>\n",
       "      <td>9.3</td>\n",
       "      <td>The Shawshank Redemption</td>\n",
       "      <td>R</td>\n",
       "      <td>Crime</td>\n",
       "      <td>142</td>\n",
       "      <td>[u'Tim Robbins', u'Morgan Freeman', u'Bob Gunt...</td>\n",
       "    </tr>\n",
       "    <tr>\n",
       "      <th>1</th>\n",
       "      <td>9.2</td>\n",
       "      <td>The Godfather</td>\n",
       "      <td>R</td>\n",
       "      <td>Crime</td>\n",
       "      <td>175</td>\n",
       "      <td>[u'Marlon Brando', u'Al Pacino', u'James Caan']</td>\n",
       "    </tr>\n",
       "    <tr>\n",
       "      <th>2</th>\n",
       "      <td>9.1</td>\n",
       "      <td>The Godfather: Part II</td>\n",
       "      <td>R</td>\n",
       "      <td>Crime</td>\n",
       "      <td>200</td>\n",
       "      <td>[u'Al Pacino', u'Robert De Niro', u'Robert Duv...</td>\n",
       "    </tr>\n",
       "    <tr>\n",
       "      <th>3</th>\n",
       "      <td>9.0</td>\n",
       "      <td>The Dark Knight</td>\n",
       "      <td>PG-13</td>\n",
       "      <td>Action</td>\n",
       "      <td>152</td>\n",
       "      <td>[u'Christian Bale', u'Heath Ledger', u'Aaron E...</td>\n",
       "    </tr>\n",
       "    <tr>\n",
       "      <th>4</th>\n",
       "      <td>8.9</td>\n",
       "      <td>Pulp Fiction</td>\n",
       "      <td>R</td>\n",
       "      <td>Crime</td>\n",
       "      <td>154</td>\n",
       "      <td>[u'John Travolta', u'Uma Thurman', u'Samuel L....</td>\n",
       "    </tr>\n",
       "    <tr>\n",
       "      <th>5</th>\n",
       "      <td>8.9</td>\n",
       "      <td>12 Angry Men</td>\n",
       "      <td>NOT RATED</td>\n",
       "      <td>Drama</td>\n",
       "      <td>96</td>\n",
       "      <td>[u'Henry Fonda', u'Lee J. Cobb', u'Martin Bals...</td>\n",
       "    </tr>\n",
       "    <tr>\n",
       "      <th>6</th>\n",
       "      <td>8.9</td>\n",
       "      <td>The Good, the Bad and the Ugly</td>\n",
       "      <td>NOT RATED</td>\n",
       "      <td>Western</td>\n",
       "      <td>161</td>\n",
       "      <td>[u'Clint Eastwood', u'Eli Wallach', u'Lee Van ...</td>\n",
       "    </tr>\n",
       "    <tr>\n",
       "      <th>7</th>\n",
       "      <td>8.9</td>\n",
       "      <td>The Lord of the Rings: The Return of the King</td>\n",
       "      <td>PG-13</td>\n",
       "      <td>Adventure</td>\n",
       "      <td>201</td>\n",
       "      <td>[u'Elijah Wood', u'Viggo Mortensen', u'Ian McK...</td>\n",
       "    </tr>\n",
       "    <tr>\n",
       "      <th>8</th>\n",
       "      <td>8.9</td>\n",
       "      <td>Schindler's List</td>\n",
       "      <td>R</td>\n",
       "      <td>Biography</td>\n",
       "      <td>195</td>\n",
       "      <td>[u'Liam Neeson', u'Ralph Fiennes', u'Ben Kings...</td>\n",
       "    </tr>\n",
       "    <tr>\n",
       "      <th>9</th>\n",
       "      <td>8.9</td>\n",
       "      <td>Fight Club</td>\n",
       "      <td>R</td>\n",
       "      <td>Drama</td>\n",
       "      <td>139</td>\n",
       "      <td>[u'Brad Pitt', u'Edward Norton', u'Helena Bonh...</td>\n",
       "    </tr>\n",
       "  </tbody>\n",
       "</table>\n",
       "</div>"
      ],
      "text/plain": [
       "   star_rating                                          title content_rating  \\\n",
       "0          9.3                       The Shawshank Redemption              R   \n",
       "1          9.2                                  The Godfather              R   \n",
       "2          9.1                         The Godfather: Part II              R   \n",
       "3          9.0                                The Dark Knight          PG-13   \n",
       "4          8.9                                   Pulp Fiction              R   \n",
       "5          8.9                                   12 Angry Men      NOT RATED   \n",
       "6          8.9                 The Good, the Bad and the Ugly      NOT RATED   \n",
       "7          8.9  The Lord of the Rings: The Return of the King          PG-13   \n",
       "8          8.9                               Schindler's List              R   \n",
       "9          8.9                                     Fight Club              R   \n",
       "\n",
       "       genre  duration                                        actors_list  \n",
       "0      Crime       142  [u'Tim Robbins', u'Morgan Freeman', u'Bob Gunt...  \n",
       "1      Crime       175    [u'Marlon Brando', u'Al Pacino', u'James Caan']  \n",
       "2      Crime       200  [u'Al Pacino', u'Robert De Niro', u'Robert Duv...  \n",
       "3     Action       152  [u'Christian Bale', u'Heath Ledger', u'Aaron E...  \n",
       "4      Crime       154  [u'John Travolta', u'Uma Thurman', u'Samuel L....  \n",
       "5      Drama        96  [u'Henry Fonda', u'Lee J. Cobb', u'Martin Bals...  \n",
       "6    Western       161  [u'Clint Eastwood', u'Eli Wallach', u'Lee Van ...  \n",
       "7  Adventure       201  [u'Elijah Wood', u'Viggo Mortensen', u'Ian McK...  \n",
       "8  Biography       195  [u'Liam Neeson', u'Ralph Fiennes', u'Ben Kings...  \n",
       "9      Drama       139  [u'Brad Pitt', u'Edward Norton', u'Helena Bonh...  "
      ]
     },
     "execution_count": 4,
     "metadata": {},
     "output_type": "execute_result"
    }
   ],
   "source": [
    "imdbdata.head(10)"
   ]
  },
  {
   "cell_type": "code",
   "execution_count": 7,
   "id": "1225e734",
   "metadata": {},
   "outputs": [
    {
     "name": "stdout",
     "output_type": "stream",
     "text": [
      "     star_rating                                            title  \\\n",
      "974          7.4                                          Tootsie   \n",
      "975          7.4                      Back to the Future Part III   \n",
      "976          7.4  Master and Commander: The Far Side of the World   \n",
      "977          7.4                                      Poltergeist   \n",
      "978          7.4                                      Wall Street   \n",
      "\n",
      "    content_rating      genre  duration  \\\n",
      "974             PG     Comedy       116   \n",
      "975             PG  Adventure       118   \n",
      "976          PG-13     Action       138   \n",
      "977             PG     Horror       114   \n",
      "978              R      Crime       126   \n",
      "\n",
      "                                           actors_list  \n",
      "974  [u'Dustin Hoffman', u'Jessica Lange', u'Teri G...  \n",
      "975  [u'Michael J. Fox', u'Christopher Lloyd', u'Ma...  \n",
      "976  [u'Russell Crowe', u'Paul Bettany', u'Billy Bo...  \n",
      "977  [u'JoBeth Williams', u\"Heather O'Rourke\", u'Cr...  \n",
      "978  [u'Charlie Sheen', u'Michael Douglas', u'Tamar...  \n"
     ]
    }
   ],
   "source": [
    "print(imdbdata.tail())"
   ]
  },
  {
   "cell_type": "code",
   "execution_count": 8,
   "id": "ace8173a",
   "metadata": {},
   "outputs": [
    {
     "name": "stdout",
     "output_type": "stream",
     "text": [
      "Index(['star_rating', 'title', 'content_rating', 'genre', 'duration',\n",
      "       'actors_list'],\n",
      "      dtype='object')\n"
     ]
    }
   ],
   "source": [
    "print(imdbdata.columns)\n"
   ]
  },
  {
   "cell_type": "code",
   "execution_count": 9,
   "id": "977e6545",
   "metadata": {},
   "outputs": [
    {
     "name": "stdout",
     "output_type": "stream",
     "text": [
      "0    The Shawshank Redemption\n",
      "1               The Godfather\n",
      "2      The Godfather: Part II\n",
      "3             The Dark Knight\n",
      "4                Pulp Fiction\n",
      "Name: title, dtype: object\n"
     ]
    }
   ],
   "source": [
    "print(imdbdata['title'].head())\n"
   ]
  },
  {
   "cell_type": "code",
   "execution_count": 10,
   "id": "8e9bdcc8",
   "metadata": {},
   "outputs": [
    {
     "name": "stdout",
     "output_type": "stream",
     "text": [
      "                      title  star_rating\n",
      "0  The Shawshank Redemption          9.3\n",
      "1             The Godfather          9.2\n",
      "2    The Godfather: Part II          9.1\n",
      "3           The Dark Knight          9.0\n",
      "4              Pulp Fiction          8.9\n"
     ]
    }
   ],
   "source": [
    "print(imdbdata[['title','star_rating']].head())"
   ]
  },
  {
   "cell_type": "code",
   "execution_count": 11,
   "id": "8d0e8dec",
   "metadata": {},
   "outputs": [
    {
     "name": "stdout",
     "output_type": "stream",
     "text": [
      "                      title  star_rating\n",
      "0  The Shawshank Redemption          9.3\n",
      "1             The Godfather          9.2\n",
      "2    The Godfather: Part II          9.1\n",
      "3           The Dark Knight          9.0\n",
      "4              Pulp Fiction          8.9\n"
     ]
    }
   ],
   "source": [
    "print(imdbdata[:9][['title','star_rating']].head())"
   ]
  },
  {
   "cell_type": "code",
   "execution_count": 12,
   "id": "6444ce1e",
   "metadata": {},
   "outputs": [
    {
     "name": "stdout",
     "output_type": "stream",
     "text": [
      "                                                title  star_rating\n",
      "3                                     The Dark Knight          9.0\n",
      "4                                        Pulp Fiction          8.9\n",
      "5                                        12 Angry Men          8.9\n",
      "6                      The Good, the Bad and the Ugly          8.9\n",
      "7       The Lord of the Rings: The Return of the King          8.9\n",
      "8                                    Schindler's List          8.9\n",
      "9                                          Fight Club          8.9\n",
      "10  The Lord of the Rings: The Fellowship of the Ring          8.8\n",
      "11                                          Inception          8.8\n",
      "12     Star Wars: Episode V - The Empire Strikes Back          8.8\n",
      "13                                       Forrest Gump          8.8\n",
      "14              The Lord of the Rings: The Two Towers          8.8\n",
      "15                                       Interstellar          8.7\n",
      "16                    One Flew Over the Cuckoo's Nest          8.7\n",
      "17                                      Seven Samurai          8.7\n",
      "18                                         Goodfellas          8.7\n",
      "19                                          Star Wars          8.7\n",
      "20                                         The Matrix          8.7\n",
      "21                                        City of God          8.7\n",
      "22                              It's a Wonderful Life          8.7\n",
      "23                                 The Usual Suspects          8.7\n",
      "24                                              Se7en          8.7\n",
      "25                                  Life Is Beautiful          8.6\n",
      "26                       Once Upon a Time in the West          8.6\n",
      "27                           The Silence of the Lambs          8.6\n",
      "28                             Leon: The Professional          8.6\n",
      "29                                        City Lights          8.6\n",
      "30                                      Spirited Away          8.6\n",
      "31                                   The Intouchables          8.6\n",
      "32                                         Casablanca          8.6\n",
      "33                                           Whiplash          8.6\n",
      "34                                 American History X          8.6\n",
      "35                                       Modern Times          8.6\n",
      "36                                Saving Private Ryan          8.6\n",
      "37                            Raiders of the Lost Ark          8.6\n",
      "38                                        Rear Window          8.6\n",
      "39                                             Psycho          8.6\n",
      "40                                     The Green Mile          8.5\n",
      "41                                       Sunset Blvd.          8.5\n",
      "42                                        The Pianist          8.5\n",
      "43                              The Dark Knight Rises          8.5\n",
      "44                                          Gladiator          8.5\n",
      "45                         Terminator 2: Judgment Day          8.5\n",
      "46                                            Memento          8.5\n",
      "47                                   Taare Zameen Par          8.5\n",
      "48  Dr. Strangelove or: How I Learned to Stop Worr...          8.5\n",
      "49                                       The Departed          8.5\n",
      "50                                    Cinema Paradiso          8.5\n",
      "51                                     Apocalypse Now          8.5\n",
      "52                                 The Great Dictator          8.5\n",
      "53                                       The Prestige          8.5\n",
      "54                                 Back to the Future          8.5\n",
      "55                                      The Lion King          8.5\n",
      "56                                The Lives of Others          8.5\n",
      "57                                              Alien          8.5\n",
      "58                                     Paths of Glory          8.5\n",
      "59                                   Django Unchained          8.5\n",
      "60                                           3 Idiots          8.5\n",
      "61                             Grave of the Fireflies          8.5\n",
      "62                                        The Shining          8.5\n"
     ]
    }
   ],
   "source": [
    "print(imdbdata[\n",
    "        (imdbdata['star_rating']>=8.5)&(imdbdata['star_rating']<=9.0)\n",
    "        ][['title','star_rating']])"
   ]
  },
  {
   "cell_type": "code",
   "execution_count": 13,
   "id": "5ca23eb2",
   "metadata": {},
   "outputs": [
    {
     "name": "stdout",
     "output_type": "stream",
     "text": [
      "                                               title  star_rating\n",
      "0                           The Shawshank Redemption          9.3\n",
      "1                                      The Godfather          9.2\n",
      "2                             The Godfather: Part II          9.1\n",
      "3                                    The Dark Knight          9.0\n",
      "930                                  Man on the Moon          7.4\n",
      "931                                     Mean Streets          7.4\n",
      "932        Harry Potter and the Order of the Phoenix          7.4\n",
      "933                                      Beetlejuice          7.4\n",
      "934                             Crazy, Stupid, Love.          7.4\n",
      "935                                        Excalibur          7.4\n",
      "936                                        True Grit          7.4\n",
      "937                                        Labyrinth          7.4\n",
      "938                              Alice in Wonderland          7.4\n",
      "939                                   Predestination          7.4\n",
      "940                           Much Ado About Nothing          7.4\n",
      "941                                 A Bridge Too Far          7.4\n",
      "942                                  Raising Arizona          7.4\n",
      "943                                  The Bucket List          7.4\n",
      "944                              Terms of Endearment          7.4\n",
      "945                                     Take Shelter          7.4\n",
      "946                                  Far from Heaven          7.4\n",
      "947                                       Eraserhead          7.4\n",
      "948                                       Frances Ha          7.4\n",
      "949                                       Home Alone          7.4\n",
      "950                                            Bound          7.4\n",
      "951                                    Sleepy Hollow          7.4\n",
      "952                                     Pirate Radio          7.4\n",
      "953                            The NeverEnding Story          7.4\n",
      "954                                            X-Men          7.4\n",
      "955                                 Zero Dark Thirty          7.4\n",
      "956                         Manhattan Murder Mystery          7.4\n",
      "957                      National Lampoon's Vacation          7.4\n",
      "958                               My Sister's Keeper          7.4\n",
      "959                             Deconstructing Harry          7.4\n",
      "960                                 The Way Way Back          7.4\n",
      "961                                           Capote          7.4\n",
      "962                               Driving Miss Daisy          7.4\n",
      "963                                  La Femme Nikita          7.4\n",
      "964                                          Lincoln          7.4\n",
      "965                                        Limitless          7.4\n",
      "966                               The Simpsons Movie          7.4\n",
      "967                                         The Rock          7.4\n",
      "968                              The English Patient          7.4\n",
      "969                              Law Abiding Citizen          7.4\n",
      "970                                      Wonder Boys          7.4\n",
      "971                               Death at a Funeral          7.4\n",
      "972                                   Blue Valentine          7.4\n",
      "973                            The Cider House Rules          7.4\n",
      "974                                          Tootsie          7.4\n",
      "975                      Back to the Future Part III          7.4\n",
      "976  Master and Commander: The Far Side of the World          7.4\n",
      "977                                      Poltergeist          7.4\n",
      "978                                      Wall Street          7.4\n"
     ]
    }
   ],
   "source": [
    "print(imdbdata[\n",
    "        (imdbdata['star_rating']>=9.0)|(imdbdata['star_rating']<=7.4)\n",
    "        ][['title','star_rating']])"
   ]
  },
  {
   "cell_type": "code",
   "execution_count": 14,
   "id": "25c95de6",
   "metadata": {},
   "outputs": [
    {
     "name": "stdout",
     "output_type": "stream",
     "text": [
      "                    title  star_rating\n",
      "1           The Godfather          9.2\n",
      "2  The Godfather: Part II          9.1\n",
      "3         The Dark Knight          9.0\n"
     ]
    }
   ],
   "source": [
    "print(imdbdata.query('star_rating>=9.0 & star_rating<=9.2')\n",
    "                            [['title','star_rating']])"
   ]
  },
  {
   "cell_type": "code",
   "execution_count": null,
   "id": "189ba7ff",
   "metadata": {},
   "outputs": [],
   "source": []
  },
  {
   "cell_type": "code",
   "execution_count": null,
   "id": "db9620f6",
   "metadata": {},
   "outputs": [],
   "source": []
  },
  {
   "cell_type": "code",
   "execution_count": null,
   "id": "8770b20d",
   "metadata": {},
   "outputs": [],
   "source": []
  },
  {
   "cell_type": "code",
   "execution_count": null,
   "id": "9a854c49",
   "metadata": {},
   "outputs": [],
   "source": []
  }
 ],
 "metadata": {
  "kernelspec": {
   "display_name": "Python 3",
   "language": "python",
   "name": "python3"
  },
  "language_info": {
   "codemirror_mode": {
    "name": "ipython",
    "version": 3
   },
   "file_extension": ".py",
   "mimetype": "text/x-python",
   "name": "python",
   "nbconvert_exporter": "python",
   "pygments_lexer": "ipython3",
   "version": "3.7.7"
  }
 },
 "nbformat": 4,
 "nbformat_minor": 5
}
