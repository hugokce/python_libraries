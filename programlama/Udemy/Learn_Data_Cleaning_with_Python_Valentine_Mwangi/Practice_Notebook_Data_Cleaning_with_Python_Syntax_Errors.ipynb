{
  "nbformat": 4,
  "nbformat_minor": 0,
  "metadata": {
    "colab": {
      "name": "Practice Notebook: Data Cleaning with Python - Syntax Errors",
      "provenance": [],
      "collapsed_sections": [
        "AdqLGpdH_867",
        "o39LEL0PmKJa",
        "BMXTATeJmOGX",
        "jjWk6FgGmcFt",
        "uDUA4XhzmgeZ",
        "2gjU-yrmmo8I",
        "4eKKFvwwm0nk",
        "-2w3AIF3m7W7",
        "csNdeU7Rm-hc"
      ],
      "toc_visible": true
    },
    "kernelspec": {
      "name": "python3",
      "display_name": "Python 3"
    }
  },
  "cells": [
    {
      "cell_type": "markdown",
      "metadata": {
        "id": "wE1VnoSYSZ8N"
      },
      "source": [
        "<font color=\"blue\">To use this notebook on Colaboratory, you will need to make a copy of it. Go to File > Save a Copy in Drive. You can then use the new copy that will appear in the new tab.</font>\n"
      ]
    },
    {
      "cell_type": "markdown",
      "metadata": {
        "id": "_XzGFitQl60K"
      },
      "source": [
        "# Practice Notebook: Data Cleaning with Python - Syntax Errors\n"
      ]
    },
    {
      "cell_type": "markdown",
      "metadata": {
        "id": "8tAUAu98l-E6"
      },
      "source": [
        "## 2. Syntax Errors"
      ]
    },
    {
      "cell_type": "markdown",
      "metadata": {
        "id": "AdqLGpdH_867"
      },
      "source": [
        "#### <font color=\"blue\">Pre-requisites</font>"
      ]
    },
    {
      "cell_type": "code",
      "metadata": {
        "id": "tzG_vFPsAF9H"
      },
      "source": [
        "# Pre-requisite\n",
        "# ---\n",
        "# Importing pandas library\n",
        "# ---\n",
        "# OUR CODE GOES BELOW\n",
        "# \n",
        "import pandas as pd"
      ],
      "execution_count": null,
      "outputs": []
    },
    {
      "cell_type": "markdown",
      "metadata": {
        "id": "o39LEL0PmKJa"
      },
      "source": [
        "#### <font color=\"blue\">Examples</font>"
      ]
    },
    {
      "cell_type": "markdown",
      "metadata": {
        "id": "BMXTATeJmOGX"
      },
      "source": [
        "##### <font color=\"blue\">Example 1</font>"
      ]
    },
    {
      "cell_type": "code",
      "metadata": {
        "id": "Ql23JRMAlvv2"
      },
      "source": [
        "# Example 1\n",
        "# --- \n",
        "# Spelling mistakes/ Typos\n",
        "# ---\n",
        "# Dataset url = http://bit.ly/SampleDataset\n",
        "# ---\n",
        "# OUR CODE GOES BELOW\n",
        "# \n",
        "\n",
        "# Loading our dataset\n",
        "# ---\n",
        "# \n",
        "df = pd.read_csv('http://bit.ly/SampleDataset')\n",
        "\n",
        "# Previewing our dataset\n",
        "# ---\n",
        "# \n",
        "df.head()"
      ],
      "execution_count": null,
      "outputs": []
    },
    {
      "cell_type": "code",
      "metadata": {
        "id": "v9MqAA1ImLJA"
      },
      "source": [
        "# Replacing \"GERMANYY\" with \"GERMANY\"\n",
        "# ---\n",
        "# \n",
        "df['COUNTRY'] = df['COUNTRY'].str.replace('GERMANYY', 'GERMANY')\n",
        "df.head()"
      ],
      "execution_count": null,
      "outputs": []
    },
    {
      "cell_type": "markdown",
      "metadata": {
        "id": "jjWk6FgGmcFt"
      },
      "source": [
        "##### <font color=\"blue\">Example 2</font>"
      ]
    },
    {
      "cell_type": "code",
      "metadata": {
        "id": "7g_2_fG1md0X"
      },
      "source": [
        "# Example 2\n",
        "# ---\n",
        "# White spaces: Stripping the leading and trailing spaces\n",
        "# ---\n",
        "# Dataset = http://bit.ly/SampleDataset\n",
        "# ---\n",
        "# OUR CODE GOES BELOW\n",
        "# \n",
        "\n",
        "# Observing leading and trailing spaces in the city column\n",
        "# ---\n",
        "# \n",
        "df['CITY']"
      ],
      "execution_count": null,
      "outputs": []
    },
    {
      "cell_type": "code",
      "metadata": {
        "id": "u6hu9lJXnpPs"
      },
      "source": [
        "# Stripping the leading and trailing spaces\n",
        "# ---\n",
        "# \n",
        "df['CITY'] = df['CITY'].str.strip()\n",
        "df['CITY']"
      ],
      "execution_count": null,
      "outputs": []
    },
    {
      "cell_type": "markdown",
      "metadata": {
        "id": "uDUA4XhzmgeZ"
      },
      "source": [
        "##### <font color=\"blue\">Example 3</font>"
      ]
    },
    {
      "cell_type": "code",
      "metadata": {
        "id": "-hMBIw2YXW1U"
      },
      "source": [
        "# Example 3\n",
        "# ---\n",
        "# Pad Strings: We can also add pad strings as shown when added to the name column.\n",
        "# Padding refers to addding (whitespaces or other characters) to every string element in the dataframe column.\n",
        "# ---\n",
        "# Dataset url = http://bit.ly/SampleDataset\n",
        "# ---\n",
        "# OUR CODE GOES BELOW\n",
        "# \n",
        "\n",
        "# We remove null values to avoid errors while padding\n",
        "# ---\n",
        "# \n",
        "df.dropna(how ='all', inplace = True) \n",
        "  \n",
        "# We add white spaces to left side \n",
        "# ---\n",
        "# \n",
        "df[\"NAME\"]= df[\"NAME\"].str.pad(12, side ='right', fillchar ='_') \n",
        "\n",
        "# Previewing our resulting dataset\n",
        "# ---\n",
        "# \n",
        "df.head()"
      ],
      "execution_count": null,
      "outputs": []
    },
    {
      "cell_type": "markdown",
      "metadata": {
        "id": "2gjU-yrmmo8I"
      },
      "source": [
        "#### <font color=\"green\">Challenges</font> "
      ]
    },
    {
      "cell_type": "markdown",
      "metadata": {
        "id": "4eKKFvwwm0nk"
      },
      "source": [
        "##### <font color=\"green\">Challenge 1</font>"
      ]
    },
    {
      "cell_type": "code",
      "metadata": {
        "id": "CJ-T2bNMm0AZ"
      },
      "source": [
        "# Challenge 1\n",
        "# ---\n",
        "# Question: Fix the spelling errors in the Team variable within the following variable.\n",
        "# ---\n",
        "# Dataset url = http://bit.ly/NBABasketballDataset\n",
        "# ---\n",
        "# \n"
      ],
      "execution_count": null,
      "outputs": []
    },
    {
      "cell_type": "markdown",
      "metadata": {
        "id": "-2w3AIF3m7W7"
      },
      "source": [
        "##### <font color=\"green\">Challenge 2</font>"
      ]
    },
    {
      "cell_type": "code",
      "metadata": {
        "id": "UGSOBG7im9Ch"
      },
      "source": [
        "# Challenge 2\n",
        "# ---\n",
        "# Question: Deal with the leading and trailing whitespaces from variables in the following dataset.\n",
        "# ---\n",
        "# Dataset url = http://bit.ly/NBABasketballDataset\n",
        "# ---\n",
        "# OUR CODE GOES BELOW\n",
        "# \n"
      ],
      "execution_count": null,
      "outputs": []
    },
    {
      "cell_type": "markdown",
      "metadata": {
        "id": "csNdeU7Rm-hc"
      },
      "source": [
        "##### <font color=\"green\">Challenge 3</font>"
      ]
    },
    {
      "cell_type": "code",
      "metadata": {
        "id": "kYnaKax4nAEN"
      },
      "source": [
        "# Challenge 3\n",
        "# ---\n",
        "# Question: Add pad strings to the Team column in the given dataset.\n",
        "# ---\n",
        "# Dataset url = http://bit.ly/NBABasketballDataset\n",
        "# ---\n",
        "# OUR CODE GOES BELOW\n",
        "# \n"
      ],
      "execution_count": null,
      "outputs": []
    }
  ]
}