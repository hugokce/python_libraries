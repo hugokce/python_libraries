{
  "nbformat": 4,
  "nbformat_minor": 0,
  "metadata": {
    "colab": {
      "name": "Practice Notebook: Data Cleaning with Python - Duplicates",
      "provenance": [],
      "collapsed_sections": [
        "AdqLGpdH_867",
        "o39LEL0PmKJa",
        "BMXTATeJmOGX",
        "jjWk6FgGmcFt",
        "uDUA4XhzmgeZ",
        "2gjU-yrmmo8I",
        "4eKKFvwwm0nk",
        "-2w3AIF3m7W7"
      ],
      "toc_visible": true
    },
    "kernelspec": {
      "name": "python3",
      "display_name": "Python 3"
    }
  },
  "cells": [
    {
      "cell_type": "markdown",
      "metadata": {
        "id": "wE1VnoSYSZ8N"
      },
      "source": [
        "<font color=\"blue\">To use this notebook on Colaboratory, you will need to make a copy of it. Go to File > Save a Copy in Drive. You can then use the new copy that will appear in the new tab.</font>\n"
      ]
    },
    {
      "cell_type": "markdown",
      "metadata": {
        "id": "_XzGFitQl60K"
      },
      "source": [
        "# Practice Notebook: Data Cleaning with Python - Duplicates"
      ]
    },
    {
      "cell_type": "markdown",
      "metadata": {
        "id": "8tAUAu98l-E6"
      },
      "source": [
        "## 4. Duplicates"
      ]
    },
    {
      "cell_type": "markdown",
      "metadata": {
        "id": "AdqLGpdH_867"
      },
      "source": [
        "#### <font color=\"blue\">Pre-requisites</font>"
      ]
    },
    {
      "cell_type": "code",
      "metadata": {
        "id": "tzG_vFPsAF9H"
      },
      "source": [
        "# Pre-requisite 1\n",
        "# ---\n",
        "# Importing pandas library\n",
        "# ---\n",
        "# OUR CODE GOES BELOW\n",
        "# \n",
        "import pandas as pd"
      ],
      "execution_count": null,
      "outputs": []
    },
    {
      "cell_type": "markdown",
      "metadata": {
        "id": "o39LEL0PmKJa"
      },
      "source": [
        "#### <font color=\"blue\">Examples</font>"
      ]
    },
    {
      "cell_type": "markdown",
      "metadata": {
        "id": "BMXTATeJmOGX"
      },
      "source": [
        "##### <font color=\"blue\">Example 1</font>"
      ]
    },
    {
      "cell_type": "code",
      "metadata": {
        "id": "Ql23JRMAlvv2",
        "colab": {
          "base_uri": "https://localhost:8080/",
          "height": 297
        },
        "outputId": "6e8cd6e4-ffe7-432b-d23d-39efdddc6e92"
      },
      "source": [
        "# Example 1\n",
        "# --- \n",
        "# Finding duplicate records\n",
        "# -> Duplicate records are repeated records in a dataset.\n",
        "# ---\n",
        "# Dataset url = http://bit.ly/SampleDataset\n",
        "# ---\n",
        "# OUR CODE GOES BELOW\n",
        "# \n",
        "df = pd.read_csv('http://bit.ly/SampleDataset')\n",
        "\n",
        "# Previewing our dataset \n",
        "# ---\n",
        "# \n",
        "df"
      ],
      "execution_count": null,
      "outputs": [
        {
          "output_type": "execute_result",
          "data": {
            "text/html": [
              "<div>\n",
              "<style scoped>\n",
              "    .dataframe tbody tr th:only-of-type {\n",
              "        vertical-align: middle;\n",
              "    }\n",
              "\n",
              "    .dataframe tbody tr th {\n",
              "        vertical-align: top;\n",
              "    }\n",
              "\n",
              "    .dataframe thead th {\n",
              "        text-align: right;\n",
              "    }\n",
              "</style>\n",
              "<table border=\"1\" class=\"dataframe\">\n",
              "  <thead>\n",
              "    <tr style=\"text-align: right;\">\n",
              "      <th></th>\n",
              "      <th>NAME</th>\n",
              "      <th>CITY</th>\n",
              "      <th>COUNTRY</th>\n",
              "      <th>HEIGHT</th>\n",
              "      <th>WEIGHT</th>\n",
              "      <th>ACCOUNT A</th>\n",
              "      <th>ACCOUNT B</th>\n",
              "      <th>TOTAL ACCOUNT</th>\n",
              "    </tr>\n",
              "  </thead>\n",
              "  <tbody>\n",
              "    <tr>\n",
              "      <th>0</th>\n",
              "      <td>Adi Dako</td>\n",
              "      <td>LISBON</td>\n",
              "      <td>PORTUGAL</td>\n",
              "      <td>56</td>\n",
              "      <td>132.0</td>\n",
              "      <td>2390.0</td>\n",
              "      <td>4340</td>\n",
              "      <td>6730</td>\n",
              "    </tr>\n",
              "    <tr>\n",
              "      <th>1</th>\n",
              "      <td>John Paul</td>\n",
              "      <td>LONDON</td>\n",
              "      <td>UNITED KINGDOM</td>\n",
              "      <td>62</td>\n",
              "      <td>165.0</td>\n",
              "      <td>4500.0</td>\n",
              "      <td>34334</td>\n",
              "      <td>38834</td>\n",
              "    </tr>\n",
              "    <tr>\n",
              "      <th>2</th>\n",
              "      <td>Cindy Jules</td>\n",
              "      <td>Stockholm</td>\n",
              "      <td>Sweden</td>\n",
              "      <td>48</td>\n",
              "      <td>117.0</td>\n",
              "      <td>NaN</td>\n",
              "      <td>5504</td>\n",
              "      <td>8949</td>\n",
              "    </tr>\n",
              "    <tr>\n",
              "      <th>3</th>\n",
              "      <td>Arthur Kegels</td>\n",
              "      <td>BRUSSELS</td>\n",
              "      <td>BELGIUM</td>\n",
              "      <td>59</td>\n",
              "      <td>121.0</td>\n",
              "      <td>4344.0</td>\n",
              "      <td>8999</td>\n",
              "      <td>300</td>\n",
              "    </tr>\n",
              "    <tr>\n",
              "      <th>4</th>\n",
              "      <td>Freya Bismark</td>\n",
              "      <td>Berlin</td>\n",
              "      <td>GERMANYY</td>\n",
              "      <td>53</td>\n",
              "      <td>126.0</td>\n",
              "      <td>7000.0</td>\n",
              "      <td>19000</td>\n",
              "      <td>26000</td>\n",
              "    </tr>\n",
              "    <tr>\n",
              "      <th>5</th>\n",
              "      <td>Rena Filip</td>\n",
              "      <td>Brasilia</td>\n",
              "      <td>BRAZIL</td>\n",
              "      <td>50</td>\n",
              "      <td>167.0</td>\n",
              "      <td>4999.0</td>\n",
              "      <td>3999</td>\n",
              "      <td>3450</td>\n",
              "    </tr>\n",
              "    <tr>\n",
              "      <th>6</th>\n",
              "      <td>Cindy Jules</td>\n",
              "      <td>Stockholm</td>\n",
              "      <td>Sweden</td>\n",
              "      <td>48</td>\n",
              "      <td>117.0</td>\n",
              "      <td>3445.0</td>\n",
              "      <td>5504</td>\n",
              "      <td>8949</td>\n",
              "    </tr>\n",
              "    <tr>\n",
              "      <th>7</th>\n",
              "      <td>John Paul</td>\n",
              "      <td>LONDON</td>\n",
              "      <td>UNITED KINGDOM</td>\n",
              "      <td>62</td>\n",
              "      <td>NaN</td>\n",
              "      <td>4500.0</td>\n",
              "      <td>2300</td>\n",
              "      <td>6800</td>\n",
              "    </tr>\n",
              "  </tbody>\n",
              "</table>\n",
              "</div>"
            ],
            "text/plain": [
              "                NAME               CITY  ... ACCOUNT B  TOTAL ACCOUNT\n",
              "0          Adi Dako          LISBON      ...      4340           6730\n",
              "1          John Paul          LONDON     ...     34334          38834\n",
              "2        Cindy Jules          Stockholm  ...      5504           8949\n",
              "3      Arthur Kegels           BRUSSELS  ...      8999            300\n",
              "4      Freya Bismark             Berlin  ...     19000          26000\n",
              "5         Rena Filip       Brasilia      ...      3999           3450\n",
              "6        Cindy Jules          Stockholm  ...      5504           8949\n",
              "7          John Paul          LONDON     ...      2300           6800\n",
              "\n",
              "[8 rows x 8 columns]"
            ]
          },
          "metadata": {
            "tags": []
          },
          "execution_count": 7
        }
      ]
    },
    {
      "cell_type": "code",
      "metadata": {
        "id": "_6L77xTw8Skr",
        "colab": {
          "base_uri": "https://localhost:8080/",
          "height": 34
        },
        "outputId": "c42c675c-5f88-4963-ff27-bba679158e46"
      },
      "source": [
        "# Determining the shape of our dataset (records/instances, columns/variables)\n",
        "# ---\n",
        "# \n",
        "df.shape"
      ],
      "execution_count": null,
      "outputs": [
        {
          "output_type": "execute_result",
          "data": {
            "text/plain": [
              "(8, 8)"
            ]
          },
          "metadata": {
            "tags": []
          },
          "execution_count": 3
        }
      ]
    },
    {
      "cell_type": "code",
      "metadata": {
        "id": "XRdHqs9p1L8t",
        "colab": {
          "base_uri": "https://localhost:8080/",
          "height": 49
        },
        "outputId": "ea78ed3f-5eb4-46dc-fde8-5ed277fc3076"
      },
      "source": [
        "# We can then identify which observations are duplicates\n",
        "# through the duplicates function and sum() to know how many\n",
        "# duplicate records there are.\n",
        "# In our case we don't have any duplicate records.\n",
        "# Normally duplicate records are dropped from the dataset.\n",
        "# ---\n",
        "#\n",
        "df[df.duplicated()]"
      ],
      "execution_count": null,
      "outputs": [
        {
          "output_type": "execute_result",
          "data": {
            "text/html": [
              "<div>\n",
              "<style scoped>\n",
              "    .dataframe tbody tr th:only-of-type {\n",
              "        vertical-align: middle;\n",
              "    }\n",
              "\n",
              "    .dataframe tbody tr th {\n",
              "        vertical-align: top;\n",
              "    }\n",
              "\n",
              "    .dataframe thead th {\n",
              "        text-align: right;\n",
              "    }\n",
              "</style>\n",
              "<table border=\"1\" class=\"dataframe\">\n",
              "  <thead>\n",
              "    <tr style=\"text-align: right;\">\n",
              "      <th></th>\n",
              "      <th>NAME</th>\n",
              "      <th>CITY</th>\n",
              "      <th>COUNTRY</th>\n",
              "      <th>HEIGHT</th>\n",
              "      <th>WEIGHT</th>\n",
              "      <th>ACCOUNT A</th>\n",
              "      <th>ACCOUNT B</th>\n",
              "      <th>TOTAL ACCOUNT</th>\n",
              "    </tr>\n",
              "  </thead>\n",
              "  <tbody>\n",
              "  </tbody>\n",
              "</table>\n",
              "</div>"
            ],
            "text/plain": [
              "Empty DataFrame\n",
              "Columns: [NAME, CITY, COUNTRY, HEIGHT, WEIGHT, ACCOUNT A, ACCOUNT B, TOTAL ACCOUNT]\n",
              "Index: []"
            ]
          },
          "metadata": {
            "tags": []
          },
          "execution_count": 4
        }
      ]
    },
    {
      "cell_type": "code",
      "metadata": {
        "id": "Kd6R2AB77A1e",
        "colab": {
          "base_uri": "https://localhost:8080/",
          "height": 34
        },
        "outputId": "b74b4b87-cee6-46f4-bcc6-5a97c0c82f0c"
      },
      "source": [
        "# Finding the no. of duplicates\n",
        "# ---\n",
        "# \n",
        "sum(df.duplicated())  "
      ],
      "execution_count": null,
      "outputs": [
        {
          "output_type": "execute_result",
          "data": {
            "text/plain": [
              "0"
            ]
          },
          "metadata": {
            "tags": []
          },
          "execution_count": 5
        }
      ]
    },
    {
      "cell_type": "markdown",
      "metadata": {
        "id": "jjWk6FgGmcFt"
      },
      "source": [
        "##### <font color=\"blue\">Example 2</font>"
      ]
    },
    {
      "cell_type": "code",
      "metadata": {
        "id": "7g_2_fG1md0X"
      },
      "source": [
        "# Example 2\n",
        "# ---\n",
        "# Dropping duplicate columns\n",
        "# ---\n",
        "# Dataset = http://bit.ly/SampleDataset\n",
        "# ---\n",
        "# OUR CODE GOES BELOW\n",
        "# \n",
        "\n",
        "# In our previous dataset, if there were duplicates we\n",
        "# could have dropped the through the use of the drop_duplicates() function \n",
        "# as shown in this example \n",
        "# ---\n",
        "# \n",
        "df_duplicates = df.drop_duplicates()"
      ],
      "execution_count": null,
      "outputs": []
    },
    {
      "cell_type": "markdown",
      "metadata": {
        "id": "uDUA4XhzmgeZ"
      },
      "source": [
        "##### <font color=\"blue\">Example 3</font>"
      ]
    },
    {
      "cell_type": "code",
      "metadata": {
        "id": "-hMBIw2YXW1U",
        "colab": {
          "base_uri": "https://localhost:8080/",
          "height": 111
        },
        "outputId": "926b838e-483f-48c2-ce93-a7abc641f76f"
      },
      "source": [
        "# Example 3\n",
        "# ---\n",
        "# Dropping duplicates in a specific column\n",
        "# ---\n",
        "# Dataset url = http://bit.ly/SampleDataset\n",
        "# ---\n",
        "#\n",
        "\n",
        "# We can also consider records with repeated variables/columns \n",
        "# as duplicates and deal with them. For example, we can \n",
        "# identify duplicates in our dataset based on HEIGHT\n",
        "# ---\n",
        "#  \n",
        "duplicates_df = df[df.duplicated(['HEIGHT'])] \n",
        "duplicates_df"
      ],
      "execution_count": null,
      "outputs": [
        {
          "output_type": "execute_result",
          "data": {
            "text/html": [
              "<div>\n",
              "<style scoped>\n",
              "    .dataframe tbody tr th:only-of-type {\n",
              "        vertical-align: middle;\n",
              "    }\n",
              "\n",
              "    .dataframe tbody tr th {\n",
              "        vertical-align: top;\n",
              "    }\n",
              "\n",
              "    .dataframe thead th {\n",
              "        text-align: right;\n",
              "    }\n",
              "</style>\n",
              "<table border=\"1\" class=\"dataframe\">\n",
              "  <thead>\n",
              "    <tr style=\"text-align: right;\">\n",
              "      <th></th>\n",
              "      <th>NAME</th>\n",
              "      <th>CITY</th>\n",
              "      <th>COUNTRY</th>\n",
              "      <th>HEIGHT</th>\n",
              "      <th>WEIGHT</th>\n",
              "      <th>ACCOUNT A</th>\n",
              "      <th>ACCOUNT B</th>\n",
              "      <th>TOTAL ACCOUNT</th>\n",
              "    </tr>\n",
              "  </thead>\n",
              "  <tbody>\n",
              "    <tr>\n",
              "      <th>6</th>\n",
              "      <td>Cindy Jules</td>\n",
              "      <td>Stockholm</td>\n",
              "      <td>Sweden</td>\n",
              "      <td>48</td>\n",
              "      <td>117.0</td>\n",
              "      <td>3445.0</td>\n",
              "      <td>5504</td>\n",
              "      <td>8949</td>\n",
              "    </tr>\n",
              "    <tr>\n",
              "      <th>7</th>\n",
              "      <td>John Paul</td>\n",
              "      <td>LONDON</td>\n",
              "      <td>UNITED KINGDOM</td>\n",
              "      <td>62</td>\n",
              "      <td>NaN</td>\n",
              "      <td>4500.0</td>\n",
              "      <td>2300</td>\n",
              "      <td>6800</td>\n",
              "    </tr>\n",
              "  </tbody>\n",
              "</table>\n",
              "</div>"
            ],
            "text/plain": [
              "          NAME       CITY         COUNTRY  ...  ACCOUNT A  ACCOUNT B  TOTAL ACCOUNT\n",
              "6  Cindy Jules  Stockholm          Sweden  ...     3445.0       5504           8949\n",
              "7    John Paul  LONDON     UNITED KINGDOM  ...     4500.0       2300           6800\n",
              "\n",
              "[2 rows x 8 columns]"
            ]
          },
          "metadata": {
            "tags": []
          },
          "execution_count": 8
        }
      ]
    },
    {
      "cell_type": "code",
      "metadata": {
        "id": "D33CBMxu5agd",
        "colab": {
          "base_uri": "https://localhost:8080/",
          "height": 34
        },
        "outputId": "8b7de433-b441-4b84-d75c-630d615a2f07"
      },
      "source": [
        "# Then dropping the duplicates as shown below.\n",
        "# NB: We will save them in a new dataframe object which will contain our unique dataframe\n",
        "# --- \n",
        "# \n",
        "unique_df = df.drop_duplicates(['HEIGHT'])\n",
        "\n",
        "# Determining the size of our new dataset \n",
        "# We note that the two records were dropped from our original dataset\n",
        "# ---\n",
        "# \n",
        "unique_df.shape"
      ],
      "execution_count": null,
      "outputs": [
        {
          "output_type": "execute_result",
          "data": {
            "text/plain": [
              "(6, 8)"
            ]
          },
          "metadata": {
            "tags": []
          },
          "execution_count": 9
        }
      ]
    },
    {
      "cell_type": "markdown",
      "metadata": {
        "id": "2gjU-yrmmo8I"
      },
      "source": [
        "#### <font color=\"green\">Challenges</font> "
      ]
    },
    {
      "cell_type": "markdown",
      "metadata": {
        "id": "4eKKFvwwm0nk"
      },
      "source": [
        "##### <font color=\"green\">Challenge 1</font>"
      ]
    },
    {
      "cell_type": "code",
      "metadata": {
        "id": "CJ-T2bNMm0AZ"
      },
      "source": [
        "# Challenge 1\n",
        "# ---\n",
        "# Question: Find outliers in the following dataset.\n",
        "# ---\n",
        "# Dataset url = http://bit.ly/StaffDataset\n",
        "# ---\n",
        "# \n"
      ],
      "execution_count": null,
      "outputs": []
    },
    {
      "cell_type": "markdown",
      "metadata": {
        "id": "-2w3AIF3m7W7"
      },
      "source": [
        "##### <font color=\"green\">Challenge 2</font>"
      ]
    },
    {
      "cell_type": "code",
      "metadata": {
        "id": "UGSOBG7im9Ch"
      },
      "source": [
        "# Challenge 2\n",
        "# ---\n",
        "# Question: Deal with outliers in the given dataset.\n",
        "# ---\n",
        "# Dataset url = http://bit.ly/StaffDataset\n",
        "# ---\n",
        "# \n"
      ],
      "execution_count": null,
      "outputs": []
    }
  ]
}