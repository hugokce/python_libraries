{
  "nbformat": 4,
  "nbformat_minor": 0,
  "metadata": {
    "colab": {
      "name": "Practice Notebook: Data Cleaning with Python - Irrelevant Data",
      "provenance": [],
      "collapsed_sections": [
        "AdqLGpdH_867",
        "o39LEL0PmKJa",
        "BMXTATeJmOGX",
        "jjWk6FgGmcFt",
        "2gjU-yrmmo8I",
        "4eKKFvwwm0nk",
        "-2w3AIF3m7W7"
      ],
      "toc_visible": true
    },
    "kernelspec": {
      "name": "python3",
      "display_name": "Python 3"
    }
  },
  "cells": [
    {
      "cell_type": "markdown",
      "metadata": {
        "id": "wE1VnoSYSZ8N"
      },
      "source": [
        "<font color=\"blue\">To use this notebook on Colaboratory, you will need to make a copy of it. Go to File > Save a Copy in Drive. You can then use the new copy that will appear in the new tab.</font>\n"
      ]
    },
    {
      "cell_type": "markdown",
      "metadata": {
        "id": "_XzGFitQl60K"
      },
      "source": [
        "# Practice Notebook: Data Cleaning with Python - Irrelevant Data"
      ]
    },
    {
      "cell_type": "markdown",
      "metadata": {
        "id": "8tAUAu98l-E6"
      },
      "source": [
        "## 3. Irrelevant Data"
      ]
    },
    {
      "cell_type": "markdown",
      "metadata": {
        "id": "AdqLGpdH_867"
      },
      "source": [
        "#### <font color=\"blue\">Pre-requisites</font>"
      ]
    },
    {
      "cell_type": "code",
      "metadata": {
        "id": "tzG_vFPsAF9H"
      },
      "source": [
        "# Pre-requisites\n",
        "# ---\n",
        "# Importing pandas library\n",
        "# ---\n",
        "# OUR CODE GOES BELOW\n",
        "# \n",
        "import pandas as pd\n",
        "\n",
        "import numpy as np"
      ],
      "execution_count": null,
      "outputs": []
    },
    {
      "cell_type": "markdown",
      "metadata": {
        "id": "o39LEL0PmKJa"
      },
      "source": [
        "#### <font color=\"blue\">Examples</font>"
      ]
    },
    {
      "cell_type": "markdown",
      "metadata": {
        "id": "BMXTATeJmOGX"
      },
      "source": [
        "##### <font color=\"blue\">Example 1</font>"
      ]
    },
    {
      "cell_type": "code",
      "metadata": {
        "id": "Ql23JRMAlvv2"
      },
      "source": [
        "# Example 1\n",
        "# --- \n",
        "# Deleting irrelevant columns\n",
        "# ---\n",
        "# Dataset url = http://bit.ly/SampleDataset\n",
        "# ---\n",
        "# OUR CODE GOES BELOW\n",
        "# \n",
        "\n",
        "# Loading our dataset \n",
        "# ---\n",
        "#\n",
        "df = pd.read_csv('http://bit.ly/SampleDataset')\n",
        "\n",
        "# Previewing our dataset \n",
        "# ---\n",
        "# \n",
        "df.head()"
      ],
      "execution_count": null,
      "outputs": []
    },
    {
      "cell_type": "code",
      "metadata": {
        "id": "8HQKrpQDyHOP"
      },
      "source": [
        "# Determining the size of our dataset (records, columns)\n",
        "# ---\n",
        "# \n",
        "df.shape"
      ],
      "execution_count": null,
      "outputs": []
    },
    {
      "cell_type": "code",
      "metadata": {
        "id": "2oiYYzezq4Wr"
      },
      "source": [
        "# Deleting an Irrelevant Column i.e. if we didn't require the column CITY \n",
        "# to answer our research question.\n",
        "# ---\n",
        "# \n",
        "\n",
        "# Dropping/Deleting those two columns, we also note:\n",
        "# a) We set axis = 1: A dataframe has two axes: “axis 0” and “axis 1”. \n",
        "# “axis 0” represents rows and “axis 1” represents columns.\n",
        "# b)-> Inplace = True: This would mean the changes would be made in the original dataframe\n",
        "# ---\n",
        "# \n",
        "\n",
        "# Dropping the irrelevant columns i.e. Team and Weight\n",
        "# Those values were dropped since axis was set equal to 1 and \n",
        "# the changes were made in the original data frame since inplace was True.\n",
        "df.drop([\"CITY\"], axis = 1, inplace = True) \n",
        " \n",
        "# Previewing our resulting dataset\n",
        "# ---\n",
        "# \n",
        "df.head()"
      ],
      "execution_count": null,
      "outputs": []
    },
    {
      "cell_type": "code",
      "metadata": {
        "id": "naAOHnkNsz-y"
      },
      "source": [
        "# We can drop multiple columns as shown\n",
        "# ---\n",
        "# \n",
        "df.drop([\"HEIGHT\", \"WEIGHT\"], axis = 1, inplace = True) \n",
        "\n",
        "# Previewing our resulting dataset \n",
        "# --- \n",
        "# \n",
        "df.head()"
      ],
      "execution_count": null,
      "outputs": []
    },
    {
      "cell_type": "markdown",
      "metadata": {
        "id": "jjWk6FgGmcFt"
      },
      "source": [
        "##### <font color=\"blue\">Example 2</font>"
      ]
    },
    {
      "cell_type": "code",
      "metadata": {
        "id": "7g_2_fG1md0X"
      },
      "source": [
        "# Example 2\n",
        "# ---\n",
        "# In-record & cross-datasets errors\n",
        "# -> Such errors result from having two or more values in the same row or across datasets \n",
        "# contradicting with each other\n",
        "# ---\n",
        "# Dataset = http://bit.ly/SampleDataset\n",
        "# ---\n",
        "# OUR CODE GOES BELOW\n",
        "# \n",
        "\n",
        "df['TOTAL ACCOUNT 2'] = df['ACCOUNT A'] + df['ACCOUNT B']\n",
        "\n",
        "\n",
        "# Previewing our resulting dataset \n",
        "# ---\n",
        "#\n",
        "df.head()"
      ],
      "execution_count": null,
      "outputs": []
    },
    {
      "cell_type": "code",
      "metadata": {
        "id": "Zf0W-6fnvx0A"
      },
      "source": [
        "# Create another column to tell us whether if the two columns match.\n",
        "# We will use the numpy library through use of np.\n",
        "# ---\n",
        "# \n",
        "df['TOTAL ACCOUNT?'] = np.where(df['TOTAL ACCOUNT'] == df['TOTAL ACCOUNT 2'], 'True', 'False')\n",
        "\n",
        "# Previewing our resulting dataset \n",
        "# ---\n",
        "# \n",
        "df.head()"
      ],
      "execution_count": null,
      "outputs": []
    },
    {
      "cell_type": "code",
      "metadata": {
        "id": "DGxUgJJ4wilM"
      },
      "source": [
        "# Let's now select the records which don't match \n",
        "# ---\n",
        "# \n",
        "df.loc[df['TOTAL ACCOUNT?'] == \"False\"]\n"
      ],
      "execution_count": null,
      "outputs": []
    },
    {
      "cell_type": "code",
      "metadata": {
        "id": "1CeKrayqxQuL"
      },
      "source": [
        "# At this point we can do several things\n",
        "# -> Correct the values,\n",
        "# -> Drop/Delete the values,\n",
        "# -> Or even decide to leave them as they are for certain reasons\n",
        "# ---\n",
        "# If we had a large dataset, we could get the no. of records using len(),\n",
        "# this would help us in our decision making process.\n",
        "# ---\n",
        "# \n",
        "len(df.loc[df['TOTAL ACCOUNT?'] == \"False\"])"
      ],
      "execution_count": null,
      "outputs": []
    },
    {
      "cell_type": "markdown",
      "metadata": {
        "id": "2gjU-yrmmo8I"
      },
      "source": [
        "#### <font color=\"green\">Challenges</font> "
      ]
    },
    {
      "cell_type": "markdown",
      "metadata": {
        "id": "4eKKFvwwm0nk"
      },
      "source": [
        "##### <font color=\"green\">Challenge 1</font>"
      ]
    },
    {
      "cell_type": "code",
      "metadata": {
        "id": "CJ-T2bNMm0AZ"
      },
      "source": [
        "# Challenge 1\n",
        "# ---\n",
        "# Question: While perfoming some analysis for Project X, we realize that we don't need the team \n",
        "# and weight columns in our dataset. Your task is to drop those two columns below.\n",
        "# ---\n",
        "# Dataset url = http://bit.ly/NBABasketballDataset\n",
        "# ---\n",
        "# OUR CODE GOES BELOW\n",
        "# \n"
      ],
      "execution_count": null,
      "outputs": []
    },
    {
      "cell_type": "markdown",
      "metadata": {
        "id": "-2w3AIF3m7W7"
      },
      "source": [
        "##### <font color=\"green\">Challenge 2</font>"
      ]
    },
    {
      "cell_type": "code",
      "metadata": {
        "id": "UGSOBG7im9Ch"
      },
      "source": [
        "# Challenge 2\n",
        "# ---\n",
        "# Question: Check for in-record and cross-dataset errors given the following dataset\n",
        "# Hint: \n",
        "# -> Perform other data cleaning techniques that you have learned so far for ease of working.\n",
        "# -> Total_Budget_Supported__by_Donors_KES = Total_-_Loan_Budget_Est_KES + Total_-_Grant_Budget_Est_KES\n",
        "# ---\n",
        "# Dataset url = http://bit.ly/GVProjectsFundingDataset\n",
        "# ---\n",
        "# OUR CODE GOES BELOW\n",
        "# \n"
      ],
      "execution_count": null,
      "outputs": []
    }
  ]
}