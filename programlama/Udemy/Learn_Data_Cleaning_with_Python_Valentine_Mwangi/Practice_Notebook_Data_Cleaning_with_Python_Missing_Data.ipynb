{
  "nbformat": 4,
  "nbformat_minor": 0,
  "metadata": {
    "colab": {
      "name": "Practice Notebook: Data Cleaning with Python - Missing Data",
      "provenance": [],
      "collapsed_sections": [
        "AdqLGpdH_867",
        "o39LEL0PmKJa",
        "BMXTATeJmOGX",
        "jjWk6FgGmcFt",
        "XPbfZhY6rQrC",
        "2gjU-yrmmo8I",
        "4eKKFvwwm0nk",
        "-2w3AIF3m7W7"
      ],
      "toc_visible": true
    },
    "kernelspec": {
      "name": "python3",
      "display_name": "Python 3"
    }
  },
  "cells": [
    {
      "cell_type": "markdown",
      "metadata": {
        "id": "wE1VnoSYSZ8N"
      },
      "source": [
        "<font color=\"blue\">To use this notebook on Colaboratory, you will need to make a copy of it. Go to File > Save a Copy in Drive. You can then use the new copy that will appear in the new tab.</font>\n"
      ]
    },
    {
      "cell_type": "markdown",
      "metadata": {
        "id": "_XzGFitQl60K"
      },
      "source": [
        "# Practice Notebook: Data Cleaning with Python - Missing Data\n"
      ]
    },
    {
      "cell_type": "markdown",
      "metadata": {
        "id": "8tAUAu98l-E6"
      },
      "source": [
        "## 5. Missing Data"
      ]
    },
    {
      "cell_type": "markdown",
      "metadata": {
        "id": "AdqLGpdH_867"
      },
      "source": [
        "#### <font color=\"blue\">Pre-requisites</font>"
      ]
    },
    {
      "cell_type": "code",
      "metadata": {
        "id": "tzG_vFPsAF9H"
      },
      "source": [
        "# Pre-requisite\n",
        "# ---\n",
        "# Importing pandas library\n",
        "# ---\n",
        "# OUR CODE GOES BELOW\n",
        "# \n",
        "import pandas as pd"
      ],
      "execution_count": null,
      "outputs": []
    },
    {
      "cell_type": "markdown",
      "metadata": {
        "id": "o39LEL0PmKJa"
      },
      "source": [
        "#### <font color=\"blue\">Examples</font>"
      ]
    },
    {
      "cell_type": "markdown",
      "metadata": {
        "id": "BMXTATeJmOGX"
      },
      "source": [
        "##### <font color=\"blue\">Example 1</font>"
      ]
    },
    {
      "cell_type": "code",
      "metadata": {
        "id": "Ql23JRMAlvv2"
      },
      "source": [
        "# Example 1\n",
        "# --- \n",
        "# Finding records with missing data\n",
        "# ---\n",
        "# Dataset url = http://bit.ly/SampleDataset\n",
        "# ---\n",
        "# OUR CODE GOES BELOW\n",
        "# \n",
        "\n",
        "# Loading our dataset\n",
        "# ---\n",
        "# \n",
        "df = pd.read_csv('http://bit.ly/SampleDataset') \n",
        "\n",
        "# Previewing our dataset\n",
        "# ---\n",
        "# \n",
        "df.head()"
      ],
      "execution_count": null,
      "outputs": []
    },
    {
      "cell_type": "code",
      "metadata": {
        "id": "v7c5CQH4A3pC"
      },
      "source": [
        "# We can check if there is any missing values in the entire dataframe as shown\n",
        "# Let's uncomment the following line\n",
        "# NB: This method may not be the most convenient. Why?\n",
        "# ---\n",
        "# \n",
        "df.isnull()\n",
        "\n",
        "# We can also check for missing values in each column \n",
        "# NB: This method may not be the most convenient. Why?\n",
        "# Let's uncomment the following line\n",
        "# ---\n",
        "# \n",
        "df.isnull().any()\n",
        "\n",
        "# We can check how many missing values there are across each variable/column by\n",
        "# Let's uncomment the following line\n",
        "# ---\n",
        "# \n",
        "df.isnull().sum()\n",
        "\n",
        "# We can also check to see if we have any missing values in the dataframe by\n",
        "# Let's uncomment the following line\n",
        "# ---\n",
        "# \n",
        "df.isnull().values.any()\n",
        "\n",
        "# Lastly, We can also get a total count of missing values by\n",
        "# Let's uncomment the following line\n",
        "#\n",
        "# ---\n",
        "df.isnull().sum().sum()"
      ],
      "execution_count": null,
      "outputs": []
    },
    {
      "cell_type": "markdown",
      "metadata": {
        "id": "jjWk6FgGmcFt"
      },
      "source": [
        "##### <font color=\"blue\">Example 2</font>"
      ]
    },
    {
      "cell_type": "code",
      "metadata": {
        "id": "7g_2_fG1md0X"
      },
      "source": [
        "# Example 2\n",
        "# ---\n",
        "# Dealing with the missing data\n",
        "# ---\n",
        "# \n",
        "\n",
        "# We can drop rows where all cells in that row is NA\n",
        "# Let's uncomment the following line\n",
        "# NB: We don't have these rows in our dataset \n",
        "# ---\n",
        "#\n",
        "df_cleaned = df.dropna(how='all')\n",
        "df_cleaned"
      ],
      "execution_count": null,
      "outputs": []
    },
    {
      "cell_type": "code",
      "metadata": {
        "id": "2OWqJ6FJFmgw"
      },
      "source": [
        "# We can also drop columns if they only contain missing values\n",
        "# Let's uncomment the following line\n",
        "# NB: We don't have these rows in our dataset \n",
        "# ---\n",
        "# \n",
        "df_without_columns = df.dropna(axis=1, how='all')\n",
        "df_without_columns"
      ],
      "execution_count": null,
      "outputs": []
    },
    {
      "cell_type": "code",
      "metadata": {
        "id": "PT4fmeWyFtYg"
      },
      "source": [
        "# We can drop rows that contain less than five observations\n",
        "# NB: We don't have these rows in our dataset \n",
        "# ---\n",
        "# \n",
        "df.dropna(thresh=5)"
      ],
      "execution_count": null,
      "outputs": []
    },
    {
      "cell_type": "code",
      "metadata": {
        "id": "pyPzJuNgFwpw"
      },
      "source": [
        "# We can also fill in missing data with zeros\n",
        "# Let's uncomment the following line \n",
        "# ---\n",
        "# \n",
        "df2 = df.copy()\n",
        "df3 = df2.fillna(0)\n",
        "df3"
      ],
      "execution_count": null,
      "outputs": []
    },
    {
      "cell_type": "code",
      "metadata": {
        "id": "bfgdzPzNF35d"
      },
      "source": [
        "# Lastly, we can also drop the missing observations\n",
        "# Let's uncomment the following two lines\n",
        "# ---\n",
        "#\n",
        "df_no_missing = df.dropna()\n",
        "df_no_missing\n",
        "\n",
        "\n",
        "# There are many methods of dealing with missing data however, \n",
        "# we only dealt with the above basic ones due to time constraints."
      ],
      "execution_count": null,
      "outputs": []
    },
    {
      "cell_type": "markdown",
      "metadata": {
        "id": "XPbfZhY6rQrC"
      },
      "source": [
        "##### <font color=\"blue\">Example 3</font>"
      ]
    },
    {
      "cell_type": "code",
      "metadata": {
        "id": "dJf7iOj8rQrF"
      },
      "source": [
        "# Example 3\n",
        "# ---\n",
        "# Flag missing values\n",
        "# ---\n",
        "# Dataset url = http://bit.ly/SampleDataset\n",
        "# ---\n",
        "# \n",
        "\n",
        "# We can also fill in missing data with zeros as shown.\n",
        "# NB: We will create a copy of the original dataframe\n",
        "# Let's uncomment the following line \n",
        "# ---\n",
        "# \n",
        "df2 = df.copy()\n",
        "df3 = df2.fillna(0)\n",
        "df3"
      ],
      "execution_count": null,
      "outputs": []
    },
    {
      "cell_type": "markdown",
      "metadata": {
        "id": "2gjU-yrmmo8I"
      },
      "source": [
        "#### <font color=\"green\">Challenges</font> "
      ]
    },
    {
      "cell_type": "markdown",
      "metadata": {
        "id": "4eKKFvwwm0nk"
      },
      "source": [
        "##### <font color=\"green\">Challenge 1</font>"
      ]
    },
    {
      "cell_type": "code",
      "metadata": {
        "id": "CJ-T2bNMm0AZ"
      },
      "source": [
        "# Challenge 1\n",
        "# ---\n",
        "# Question: Find missing values in the following dataset.\n",
        "# ---\n",
        "# Dataset url = http://bit.ly/DCTitanicDataset\n",
        "# ---\n",
        "# \n"
      ],
      "execution_count": null,
      "outputs": []
    },
    {
      "cell_type": "markdown",
      "metadata": {
        "id": "-2w3AIF3m7W7"
      },
      "source": [
        "##### <font color=\"green\">Challenge 2</font>"
      ]
    },
    {
      "cell_type": "code",
      "metadata": {
        "id": "UGSOBG7im9Ch"
      },
      "source": [
        "# Challenge 2\n",
        "# ---\n",
        "# Question: Deal with the missing values found in the above dataset. \n",
        "# ---\n",
        "# Dataset url = \n",
        "# ---\n",
        "# \n"
      ],
      "execution_count": null,
      "outputs": []
    }
  ]
}