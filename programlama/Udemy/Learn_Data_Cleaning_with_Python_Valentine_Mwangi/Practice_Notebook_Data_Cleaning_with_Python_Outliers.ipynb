{
  "nbformat": 4,
  "nbformat_minor": 0,
  "metadata": {
    "colab": {
      "name": "Practice Notebook: Data Cleaning with Python - Outliers",
      "provenance": [],
      "collapsed_sections": [
        "AdqLGpdH_867",
        "o39LEL0PmKJa",
        "BMXTATeJmOGX",
        "jjWk6FgGmcFt",
        "2gjU-yrmmo8I",
        "4eKKFvwwm0nk",
        "-2w3AIF3m7W7"
      ],
      "toc_visible": true
    },
    "kernelspec": {
      "name": "python3",
      "display_name": "Python 3"
    }
  },
  "cells": [
    {
      "cell_type": "markdown",
      "metadata": {
        "id": "wE1VnoSYSZ8N"
      },
      "source": [
        "<font color=\"blue\">To use this notebook on Colaboratory, you will need to make a copy of it. Go to File > Save a Copy in Drive. You can then use the new copy that will appear in the new tab.</font>\n"
      ]
    },
    {
      "cell_type": "markdown",
      "metadata": {
        "id": "_XzGFitQl60K"
      },
      "source": [
        "# Practice Notebook: Data Cleaning with Python - Outliers\n"
      ]
    },
    {
      "cell_type": "markdown",
      "metadata": {
        "id": "8tAUAu98l-E6"
      },
      "source": [
        "## 6. Outliers"
      ]
    },
    {
      "cell_type": "markdown",
      "metadata": {
        "id": "AdqLGpdH_867"
      },
      "source": [
        "#### <font color=\"blue\">Pre-requisites</font>"
      ]
    },
    {
      "cell_type": "code",
      "metadata": {
        "id": "tzG_vFPsAF9H"
      },
      "source": [
        "# Pre-requisite 1\n",
        "# ---\n",
        "# Importing pandas library\n",
        "# ---\n",
        "# OUR CODE GOES BELOW\n",
        "# \n",
        "import pandas as pd"
      ],
      "execution_count": null,
      "outputs": []
    },
    {
      "cell_type": "code",
      "metadata": {
        "id": "-EGQivZnLii6"
      },
      "source": [
        "# Pre-requisite 2\n",
        "# ---\n",
        "# Importing the seaborn library\n",
        "# This is a visualisation library\n",
        "# ---\n",
        "# \n",
        "import seaborn as sns"
      ],
      "execution_count": null,
      "outputs": []
    },
    {
      "cell_type": "markdown",
      "metadata": {
        "id": "o39LEL0PmKJa"
      },
      "source": [
        "#### <font color=\"blue\">Examples</font>"
      ]
    },
    {
      "cell_type": "markdown",
      "metadata": {
        "id": "BMXTATeJmOGX"
      },
      "source": [
        "##### <font color=\"blue\">Example 1</font>"
      ]
    },
    {
      "cell_type": "code",
      "metadata": {
        "id": "Ql23JRMAlvv2"
      },
      "source": [
        "# Example 1\n",
        "# --- \n",
        "# Finding outliers\n",
        "# We can check for outliers with a box plot\n",
        "# ---\n",
        "# Dataset url = http://bit.ly/CountryDataset1\n",
        "# ---\n",
        "# OUR CODE GOES BELOW\n",
        "#  \n",
        "\n",
        "# Let's read data from url as dataframe\n",
        "# \n",
        "outliers_df = pd.read_csv(\"http://bit.ly/CountryDataset1\") \n",
        "\n",
        "# Lets preview our our dataframe below\n",
        "#\n",
        "outliers_df.head()\n",
        "\n",
        "# Then we will work with only data for the year 2007\n",
        "# Let's uncomment the line below \n",
        "# ---\n",
        "# \n",
        "outliers_df_2007 = outliers_df[outliers_df['year']==2007] \n",
        "outliers_df_2007.head()\n",
        "\n",
        "# We then specify from the multiple options to customize the boxplot with Seaborn.\n",
        "# We then choose color palette scheme for the boxplot with Seaborn. \n",
        "# Here, we chose colorblind friendly palette “colorblind”. \n",
        "# Other color palette options available include deep, muted, bright, pastel, and dark.\n",
        "# # The dots in the plot are outliers .\n",
        "# Let's uncomment the line below \n",
        "# ---\n",
        "#\n",
        "bplot = sns.boxplot(y='lifeExp', x='continent', data = outliers_df_2007, width=0.5, palette=\"colorblind\")\n",
        "\n",
        "# Boxplot alone is extremely useful in getting the summary of data within and between groups. \n",
        "# However, often, it is a good practice to overlay the actual data points on the boxplot.\n",
        "# We use jitter = True option to spread the data points horizontally and also \n",
        "# make boxplot with data points using stripplot.\n",
        "# Let's uncomment the line below \n",
        "# ---\n",
        "#\n",
        "bplot = sns.stripplot(y='lifeExp', x='continent',  data = outliers_df_2007, jitter=True, marker='o', alpha=0.5, color='black')\n",
        "\n",
        "# Naming and sizing our graph and axis\n",
        "# Let's uncomment the 3 lines below \n",
        "# ---\n",
        "#\n",
        "bplot.axes.set_title(\"Life expectancy in the World\", fontsize=13)\n",
        "bplot.set_xlabel(\"Continents\", fontsize=13)\n",
        "bplot.set_ylabel(\"Life Expectancy\", fontsize=13)"
      ],
      "execution_count": null,
      "outputs": []
    },
    {
      "cell_type": "markdown",
      "metadata": {
        "id": "jjWk6FgGmcFt"
      },
      "source": [
        "##### <font color=\"blue\">Example 2</font>"
      ]
    },
    {
      "cell_type": "code",
      "metadata": {
        "id": "eh8NtkoXszrr"
      },
      "source": [
        "outliers_df.shape"
      ],
      "execution_count": null,
      "outputs": []
    },
    {
      "cell_type": "code",
      "metadata": {
        "id": "7g_2_fG1md0X"
      },
      "source": [
        "# Example 2\n",
        "# ---\n",
        "# Dealing with Outliers using the Interquantile range\n",
        "# ---\n",
        "# \n",
        " \n",
        "# There are many ways of dealing with the outliers however in this session we wiil \n",
        "# use the interquartile range (IQR). This is the first quartile subtracted from the third quartile, \n",
        "# i.e. the range covered by the middle 50% of the data; \n",
        "# The first and third quartile can be clearly seen on a box plot on the data above. \n",
        "# It is a measure of the dispersion similar to standard deviation or variance, \n",
        "# but is much more robust against outliers. Now, calculating IQR for each column.\n",
        "# \n",
        "\n",
        "Q1 = outliers_df.quantile(0.25)\n",
        "Q3 = outliers_df.quantile(0.75)\n",
        "IQR = Q3 - Q1\n",
        "IQR\n",
        "\n",
        "# We now filter out outliers by keeping only valid values.\n",
        "# Let's uncomment the lines below\n",
        "# ---\n",
        "#\n",
        "outliers_df_iqr = outliers_df[~((outliers_df < (Q1 - 1.5 * IQR)) |(outliers_df > (Q3 + 1.5 * IQR))).any(axis=1)]\n",
        "outliers_df_iqr.shape\n",
        "\n",
        "# Checking the size of the dataset with outliers for cleaning purposes\n",
        "# ---\n",
        "#\n",
        "# outliers_df.shape"
      ],
      "execution_count": null,
      "outputs": []
    },
    {
      "cell_type": "markdown",
      "metadata": {
        "id": "2gjU-yrmmo8I"
      },
      "source": [
        "#### <font color=\"green\">Challenges</font> "
      ]
    },
    {
      "cell_type": "markdown",
      "metadata": {
        "id": "4eKKFvwwm0nk"
      },
      "source": [
        "##### <font color=\"green\">Challenge 1</font>"
      ]
    },
    {
      "cell_type": "code",
      "metadata": {
        "id": "CJ-T2bNMm0AZ"
      },
      "source": [
        "# Challenge 1\n",
        "# ---\n",
        "# Question: Find the outliers in the given dataset.\n",
        "# ---\n",
        "# Dataset url = http://bit.ly/SampleDataset\n",
        "# ---\n",
        "# OUR CODE GOES BELOW\n",
        "# \n"
      ],
      "execution_count": null,
      "outputs": []
    },
    {
      "cell_type": "markdown",
      "metadata": {
        "id": "-2w3AIF3m7W7"
      },
      "source": [
        "##### <font color=\"green\">Challenge 2</font>"
      ]
    },
    {
      "cell_type": "code",
      "metadata": {
        "id": "UGSOBG7im9Ch"
      },
      "source": [
        "# Challenge 2\n",
        "# ---\n",
        "# Question: Deal with the outliers in the given dataset.\n",
        "# ---\n",
        "# Dataset url = http://bit.ly/SampleDataset\n",
        "# ---\n",
        "# OUR CODE GOES BELOW\n",
        "# \n"
      ],
      "execution_count": null,
      "outputs": []
    }
  ]
}