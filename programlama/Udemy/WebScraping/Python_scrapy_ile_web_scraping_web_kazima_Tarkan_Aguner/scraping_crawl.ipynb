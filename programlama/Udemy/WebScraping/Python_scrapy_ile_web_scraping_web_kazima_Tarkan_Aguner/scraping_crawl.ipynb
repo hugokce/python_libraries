{
 "cells": [
  {
   "cell_type": "code",
   "execution_count": 1,
   "metadata": {},
   "outputs": [],
   "source": [
    "import scrapy"
   ]
  },
  {
   "cell_type": "code",
   "execution_count": 2,
   "metadata": {},
   "outputs": [
    {
     "name": "stdout",
     "output_type": "stream",
     "text": [
      "Scrapy 1.6.0 - no active project\n",
      "\n",
      "Usage:\n",
      "  scrapy <command> [options] [args]\n",
      "\n",
      "Available commands:\n",
      "  bench         Run quick benchmark test\n",
      "  fetch         Fetch a URL using the Scrapy downloader\n",
      "  genspider     Generate new spider using pre-defined templates\n",
      "  runspider     Run a self-contained spider (without creating a project)\n",
      "  settings      Get settings values\n",
      "  shell         Interactive scraping console\n",
      "  startproject  Create new project\n",
      "  version       Print Scrapy version\n",
      "  view          Open URL in browser, as seen by Scrapy\n",
      "\n",
      "  [ more ]      More commands available when run from project directory\n",
      "\n",
      "Use \"scrapy <command> -h\" to see more info about a command\n"
     ]
    }
   ],
   "source": [
    "!scrapy --version"
   ]
  },
  {
   "cell_type": "code",
   "execution_count": 3,
   "metadata": {},
   "outputs": [],
   "source": [
    "metin = '''\n",
    "<div class=\"sg-col-4-of-12 sg-col-8-of-16 sg-col-12-of-32 sg-col-12-of-20 sg-col-12-of-36 sg-col sg-col-12-of-24 sg-col-12-of-28\"><div class=\"sg-col-inner\">\n",
    "            <div class=\"a-section a-spacing-none\">\n",
    "              \n",
    "\n",
    "\n",
    "\n",
    "\n",
    "<h2 class=\"a-size-mini a-spacing-none a-color-base s-line-clamp-2\">\n",
    "    \n",
    "    \n",
    "        \n",
    "\n",
    "\n",
    "\n",
    "\n",
    "<a class=\"a-link-normal a-text-normal\" href=\"/Moto-G7-Alexa-Hands-Free-Unlocked/dp/B07N8ZTKHX/ref=sr_1_2?dchild=1&amp;keywords=smartphones&amp;qid=1599427775&amp;refinements=p_n_feature_twenty_browse-bin%3A17881876011&amp;rnid=2335752011&amp;s=mobile&amp;sr=1-2\">\n",
    "    \n",
    "        \n",
    "            \n",
    "                <span class=\"a-size-medium a-color-base a-text-normal\" dir=\"auto\">Moto G7 with Alexa Hands-Free – Unlocked – 64 GB – Clear White (US Warranty) – Verizon, AT&amp;T, T–Mobile, Sprint, Boost, Cricket, &amp; Metro</span>\n",
    "            \n",
    "        \n",
    "        \n",
    "    \n",
    "</a>\n",
    "\n",
    "    \n",
    "</h2>\n",
    "\n",
    "            </div>\n",
    "            \n",
    "              <div class=\"a-section a-spacing-none a-spacing-top-micro\">\n",
    "                <div class=\"a-row a-size-small\">\n",
    "\n",
    "\n",
    "<span aria-label=\"4.3 out of 5 stars\">\n",
    "    \n",
    "\n",
    "\n",
    "\n",
    "\n",
    "\n",
    "\n",
    "    \n",
    "        <span class=\"a-declarative\" data-action=\"a-popover\" data-a-popover=\"{&quot;max-width&quot;:&quot;700&quot;,&quot;closeButton&quot;:false,&quot;position&quot;:&quot;triggerBottom&quot;,&quot;url&quot;:&quot;/review/widgets/average-customer-review/popover/ref=acr_search__popover?ie=UTF8&amp;asin=B07N8ZTKHX&amp;ref=acr_search__popover&amp;contextId=search&quot;}\">\n",
    "            \n",
    "            <a href=\"javascript:void(0)\" class=\"a-popover-trigger a-declarative\"><i class=\"a-icon a-icon-star-small a-star-small-4-5 aok-align-bottom\"><span class=\"a-icon-alt\">4.3 out of 5 stars</span></i><i class=\"a-icon a-icon-popover\"></i></a>\n",
    "        </span>\n",
    "    \n",
    "    \n",
    "\n",
    "\n",
    "</span>\n",
    "\n",
    "\n",
    "\n",
    "<span aria-label=\"3,488\">\n",
    "    \n",
    "\n",
    "\n",
    "\n",
    "\n",
    "<a class=\"a-link-normal\" href=\"/Moto-G7-Alexa-Hands-Free-Unlocked/dp/B07N8ZTKHX/ref=sr_1_2?dchild=1&amp;keywords=smartphones&amp;qid=1599427775&amp;refinements=p_n_feature_twenty_browse-bin%3A17881876011&amp;rnid=2335752011&amp;s=mobile&amp;sr=1-2#customerReviews\">\n",
    "    \n",
    "        \n",
    "            \n",
    "                <span class=\"a-size-base\" dir=\"auto\">3,488</span>\n",
    "            \n",
    "        \n",
    "        \n",
    "    \n",
    "</a>\n",
    "\n",
    "</span>\n",
    "</div>\n",
    "              </div>\n",
    "            \n",
    "          </div></div>\n",
    "\n",
    "\n",
    "'''"
   ]
  },
  {
   "cell_type": "code",
   "execution_count": 4,
   "metadata": {},
   "outputs": [],
   "source": [
    "selektor = scrapy.Selector(text=metin)"
   ]
  },
  {
   "cell_type": "code",
   "execution_count": 5,
   "metadata": {},
   "outputs": [
    {
     "data": {
      "text/plain": [
       "<Selector xpath=None data='<html><body><div class=\"sg-col-4-of-1...'>"
      ]
     },
     "execution_count": 5,
     "metadata": {},
     "output_type": "execute_result"
    }
   ],
   "source": [
    "selektor"
   ]
  },
  {
   "cell_type": "code",
   "execution_count": 6,
   "metadata": {},
   "outputs": [
    {
     "data": {
      "text/plain": [
       "[<Selector xpath='.//span[@class=\"a-size-medium a-color-base a-text-normal\"]/text()' data='Moto G7 with Alexa Hands-Free – Unloc...'>]"
      ]
     },
     "execution_count": 6,
     "metadata": {},
     "output_type": "execute_result"
    }
   ],
   "source": [
    "selektor.xpath('.//span[@class=\"a-size-medium a-color-base a-text-normal\"]/text()')"
   ]
  },
  {
   "cell_type": "code",
   "execution_count": 7,
   "metadata": {},
   "outputs": [
    {
     "data": {
      "text/plain": [
       "['Moto G7 with Alexa Hands-Free – Unlocked – 64 GB – Clear White (US Warranty) – Verizon, AT&T, T–Mobile, Sprint, Boost, Cricket, & Metro']"
      ]
     },
     "execution_count": 7,
     "metadata": {},
     "output_type": "execute_result"
    }
   ],
   "source": [
    "selektor.xpath('.//span[@class=\"a-size-medium a-color-base a-text-normal\"]/text()').extract()"
   ]
  },
  {
   "cell_type": "code",
   "execution_count": 8,
   "metadata": {},
   "outputs": [
    {
     "ename": "NameError",
     "evalue": "name 'response' is not defined",
     "output_type": "error",
     "traceback": [
      "\u001b[1;31m---------------------------------------------------------------------------\u001b[0m",
      "\u001b[1;31mNameError\u001b[0m                                 Traceback (most recent call last)",
      "\u001b[1;32m<ipython-input-8-dbe77a7b5192>\u001b[0m in \u001b[0;36m<module>\u001b[1;34m\u001b[0m\n\u001b[0;32m      1\u001b[0m \u001b[1;31m#selektor yerine response dersek hepsini çekeriz bu alttaki seçip belirlediğimiz kodu amazonsp.py içine ekleriz\u001b[0m\u001b[1;33m\u001b[0m\u001b[1;33m\u001b[0m\u001b[1;33m\u001b[0m\u001b[0m\n\u001b[0;32m      2\u001b[0m \u001b[1;33m\u001b[0m\u001b[0m\n\u001b[1;32m----> 3\u001b[1;33m \u001b[0mresponse\u001b[0m\u001b[1;33m.\u001b[0m\u001b[0mxpath\u001b[0m\u001b[1;33m(\u001b[0m\u001b[1;34m'.//span[@class=\"a-size-medium a-color-base a-text-normal\"]/text()'\u001b[0m\u001b[1;33m)\u001b[0m\u001b[1;33m.\u001b[0m\u001b[0mextract\u001b[0m\u001b[1;33m(\u001b[0m\u001b[1;33m)\u001b[0m\u001b[1;33m\u001b[0m\u001b[1;33m\u001b[0m\u001b[0m\n\u001b[0m",
      "\u001b[1;31mNameError\u001b[0m: name 'response' is not defined"
     ]
    }
   ],
   "source": [
    "#selektor yerine response dersek hepsini çekeriz bu alttaki seçip belirlediğimiz kodu amazonsp.py içine ekleriz\n",
    "\n",
    "response.xpath('.//span[@class=\"a-size-medium a-color-base a-text-normal\"]/text()').extract()"
   ]
  },
  {
   "cell_type": "code",
   "execution_count": null,
   "metadata": {},
   "outputs": [],
   "source": []
  }
 ],
 "metadata": {
  "kernelspec": {
   "display_name": "Python 3",
   "language": "python",
   "name": "python3"
  },
  "language_info": {
   "codemirror_mode": {
    "name": "ipython",
    "version": 3
   },
   "file_extension": ".py",
   "mimetype": "text/x-python",
   "name": "python",
   "nbconvert_exporter": "python",
   "pygments_lexer": "ipython3",
   "version": "3.7.7"
  }
 },
 "nbformat": 4,
 "nbformat_minor": 4
}
