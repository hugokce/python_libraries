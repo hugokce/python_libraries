{
 "cells": [
  {
   "cell_type": "code",
   "execution_count": 1,
   "metadata": {},
   "outputs": [],
   "source": [
    "#Shift + Enter    çalıştırma için kullanılır."
   ]
  },
  {
   "cell_type": "code",
   "execution_count": 2,
   "metadata": {},
   "outputs": [],
   "source": [
    "#PEMDAS   #Parentheses, Exponents, Multiplication, Division, Addition, Substraction"
   ]
  },
  {
   "cell_type": "code",
   "execution_count": 3,
   "metadata": {},
   "outputs": [],
   "source": [
    "#List.append(\"eklenecek terim\")  "
   ]
  },
  {
   "cell_type": "code",
   "execution_count": 4,
   "metadata": {},
   "outputs": [],
   "source": [
    "#List.remove(\"silinecek terim\")  "
   ]
  },
  {
   "cell_type": "code",
   "execution_count": 5,
   "metadata": {},
   "outputs": [],
   "source": [
    "#List.count(\"sayılacak terim\")  "
   ]
  },
  {
   "cell_type": "code",
   "execution_count": 6,
   "metadata": {},
   "outputs": [],
   "source": [
    "#Demetlerde tuple .remove() çalışmaz"
   ]
  },
  {
   "cell_type": "code",
   "execution_count": 7,
   "metadata": {},
   "outputs": [],
   "source": [
    "#Demetlerde tuple [] indis verilebilir."
   ]
  },
  {
   "cell_type": "code",
   "execution_count": 8,
   "metadata": {},
   "outputs": [],
   "source": [
    "#sözlüklere dictionary dict[\"lastname\"]=\"Sanders\"  şeklinde ekleme yapılabilir."
   ]
  },
  {
   "cell_type": "code",
   "execution_count": 9,
   "metadata": {},
   "outputs": [],
   "source": [
    "#dict.pop(\"Name\")   komutu ile Name adlı kolon silinir."
   ]
  },
  {
   "cell_type": "code",
   "execution_count": 10,
   "metadata": {},
   "outputs": [],
   "source": [
    "#dict.clear() ile dictionary içi temizlenir."
   ]
  },
  {
   "cell_type": "code",
   "execution_count": null,
   "metadata": {},
   "outputs": [],
   "source": [
    "number = 0\n",
    "question = \"What is the meaning of life?\"\n",
    "\n",
    "while 0 != 42:\n",
    "    number = input(question)\n",
    "#Sonsuz loopa girer."
   ]
  },
  {
   "cell_type": "code",
   "execution_count": 4,
   "metadata": {},
   "outputs": [
    {
     "name": "stdout",
     "output_type": "stream",
     "text": [
      "Guess a number between 1 and 30\n",
      "15\n",
      "Unfortunately, your guess is too low!\n",
      "What a bummer! The correct number was18\n",
      "Guess a number between 1 and 30\n",
      "12\n",
      "Unfortunately, your guess is too low!\n",
      "What a bummer! The correct number was18\n",
      "Guess a number between 1 and 30\n",
      "17\n",
      "Unfortunately, your guess is too low!\n",
      "What a bummer! The correct number was18\n",
      "Guess a number between 1 and 30\n",
      "18\n"
     ]
    }
   ],
   "source": [
    "import random\n",
    "\n",
    "integer = random.randint(1,30)\n",
    "\n",
    "amount_of_guesses = 0\n",
    "\n",
    "while amount_of_guesses < 5:\n",
    "    print(\"Guess a number between 1 and 30\")\n",
    "    guess = input()\n",
    "    guess = int(guess)\n",
    "    \n",
    "    amount_of_guesses +=1\n",
    "    #amount_of_guesses = amount_of_guesses+1\n",
    "    if guess < integer :\n",
    "        print(\"Unfortunately, your guess is too low!\")\n",
    "    if guess > integer :\n",
    "        print(\"Unfortunately, your guess is too high!\")\n",
    "    if guess == integer :\n",
    "        break\n",
    "    if guess == integer:\n",
    "        print(\"You guessed the number in \"+ str(amount_of_guesses)+\" tries\")\n",
    "    else:\n",
    "        print(\"What a bummer! The correct number was\" + str(integer))\n"
   ]
  },
  {
   "cell_type": "code",
   "execution_count": null,
   "metadata": {},
   "outputs": [],
   "source": [
    "#Rock Paper Scissors Game"
   ]
  },
  {
   "cell_type": "code",
   "execution_count": null,
   "metadata": {},
   "outputs": [
    {
     "name": "stdout",
     "output_type": "stream",
     "text": [
      "Rock, Paper, Scissors?Rock\n",
      "Congrats, you've won! Rock annihilates Scissors\n",
      "Rock, Paper, Scissors?Paper\n",
      "It's a tie !\n",
      "Rock, Paper, Scissors?Scissors\n",
      "What a bummer, you lost! Rock annihilates Scissors like a burrito!\n",
      "Rock, Paper, Scissors?t\n",
      "What do you mean? I don't understand!\n",
      "Rock, Paper, Scissors?t\n",
      "What do you mean? I don't understand!\n"
     ]
    }
   ],
   "source": [
    "from random import randint\n",
    "\n",
    "our_list = [\"Rock\", \"Paper\", \"Scissors\"]\n",
    "\n",
    "opponent = our_list[randint(0,2)]\n",
    "\n",
    "player = False\n",
    "\n",
    "while player == False:\n",
    "    player = input(\"Rock, Paper, Scissors?\")\n",
    "    if player == opponent:\n",
    "        print(\"It's a tie !\")\n",
    "    elif player ==\"Rock\":\n",
    "        if opponent ==\"Paper\":\n",
    "            print(\"What a bummer, you lost!\" ,opponent, \"wraps\", player, \"like a burrito!\" )\n",
    "        else:\n",
    "            print(\"Congrats, you've won!\",player,\"annihilates\",opponent)\n",
    "    elif player == \"Paper\":\n",
    "        if opponent == \"Scissors\":\n",
    "            print(\"What a bummer, you lost!\" ,opponent, \"cuts\", player )\n",
    "        else:\n",
    "            print(\"Congrats, you've won!\",player,\"wraps\",opponent,\"like a burrito!\")\n",
    "            \n",
    "    elif player == \"Scissors\":\n",
    "        if opponent == \"Rock\":\n",
    "            print(\"What a bummer, you lost!\" ,opponent, \"annihilates\", player,\"like a burrito!\" )\n",
    "        else:\n",
    "            print(\"Congrats, you've won!\",player,\"cuts\",opponent)\n",
    "    else:\n",
    "        print(\"What do you mean? I don't understand!\")\n",
    "    player =False\n",
    "    opponent = our_list[randint(0,2)]"
   ]
  },
  {
   "cell_type": "code",
   "execution_count": null,
   "metadata": {},
   "outputs": [],
   "source": []
  }
 ],
 "metadata": {
  "kernelspec": {
   "display_name": "Python 3",
   "language": "python",
   "name": "python3"
  },
  "language_info": {
   "codemirror_mode": {
    "name": "ipython",
    "version": 3
   },
   "file_extension": ".py",
   "mimetype": "text/x-python",
   "name": "python",
   "nbconvert_exporter": "python",
   "pygments_lexer": "ipython3",
   "version": "3.7.4"
  }
 },
 "nbformat": 4,
 "nbformat_minor": 2
}
