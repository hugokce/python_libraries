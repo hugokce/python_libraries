{
 "cells": [
  {
   "cell_type": "code",
   "execution_count": 1,
   "metadata": {},
   "outputs": [],
   "source": [
    "#https://www.udemy.com/course/hic-bilmeyenler-icin-python/learn/lecture/13763920#overview\n",
    "#3saat egitim"
   ]
  },
  {
   "cell_type": "code",
   "execution_count": 2,
   "metadata": {},
   "outputs": [],
   "source": [
    "#9/4 float 9//4  tam sayı çıktı verir"
   ]
  },
  {
   "cell_type": "code",
   "execution_count": 3,
   "metadata": {},
   "outputs": [],
   "source": [
    "#2*5 10  2**5 32 verir"
   ]
  },
  {
   "cell_type": "code",
   "execution_count": 6,
   "metadata": {},
   "outputs": [
    {
     "data": {
      "text/plain": [
       "94"
      ]
     },
     "execution_count": 6,
     "metadata": {},
     "output_type": "execute_result"
    }
   ],
   "source": [
    "c=94\n",
    "c"
   ]
  },
  {
   "cell_type": "code",
   "execution_count": 7,
   "metadata": {},
   "outputs": [
    {
     "data": {
      "text/plain": [
       "100"
      ]
     },
     "execution_count": 7,
     "metadata": {},
     "output_type": "execute_result"
    }
   ],
   "source": [
    "d=6+_   #_ ile en son hesapladığı değeri alır\n",
    "d"
   ]
  },
  {
   "cell_type": "code",
   "execution_count": 8,
   "metadata": {},
   "outputs": [
    {
     "name": "stdout",
     "output_type": "stream",
     "text": [
      "testtest\n"
     ]
    }
   ],
   "source": [
    "print(\"test\"+\"test\")  # + ile birleştirebiliriz"
   ]
  },
  {
   "cell_type": "code",
   "execution_count": 10,
   "metadata": {},
   "outputs": [
    {
     "name": "stdout",
     "output_type": "stream",
     "text": [
      "merhaba bugun kodlamalı\n"
     ]
    }
   ],
   "source": [
    "print(\"merhaba\",\"bugun\",\"kodlamalı\") #virgül olunca\n",
    "#araya boşluk ekliyor"
   ]
  },
  {
   "cell_type": "code",
   "execution_count": 11,
   "metadata": {},
   "outputs": [],
   "source": [
    "#print() içinde virgül ile birleştirince \n",
    "#önce string sonra int verirsek çalışır ama\n",
    "#+ ile birleştirmek istersek ikisinide str yapmamız lazım"
   ]
  },
  {
   "cell_type": "code",
   "execution_count": 12,
   "metadata": {},
   "outputs": [
    {
     "name": "stdout",
     "output_type": "stream",
     "text": [
      "Kimya notu: 40\n"
     ]
    }
   ],
   "source": [
    "print(\"Kimya notu:\",40)"
   ]
  },
  {
   "cell_type": "code",
   "execution_count": 15,
   "metadata": {},
   "outputs": [
    {
     "name": "stdout",
     "output_type": "stream",
     "text": [
      "Kimya notu: 40\n"
     ]
    }
   ],
   "source": [
    "print(\"Kimya notu: \"+str(40))"
   ]
  },
  {
   "cell_type": "code",
   "execution_count": 16,
   "metadata": {},
   "outputs": [
    {
     "name": "stdout",
     "output_type": "stream",
     "text": [
      "Kimya notu:-->40-->Fizik notu:-->45\n"
     ]
    }
   ],
   "source": [
    "print(\"Kimya notu:\",40,\"Fizik notu:\",45,sep=\"-->\")"
   ]
  },
  {
   "cell_type": "code",
   "execution_count": 17,
   "metadata": {},
   "outputs": [
    {
     "name": "stdout",
     "output_type": "stream",
     "text": [
      "x1 değişkeninin değeri: 98\n"
     ]
    }
   ],
   "source": [
    "x1=98\n",
    "print(\"x1 değişkeninin değeri:\",x1)"
   ]
  },
  {
   "cell_type": "code",
   "execution_count": 20,
   "metadata": {},
   "outputs": [
    {
     "name": "stdout",
     "output_type": "stream",
     "text": [
      "a= 0000.50\n"
     ]
    }
   ],
   "source": [
    "a=50\n",
    "print(\"a= \",a,sep=\"0000.\")"
   ]
  },
  {
   "cell_type": "code",
   "execution_count": 21,
   "metadata": {},
   "outputs": [
    {
     "name": "stdout",
     "output_type": "stream",
     "text": [
      "a= 0000.50 "
     ]
    }
   ],
   "source": [
    "a=50\n",
    "print(\"a= \",a,sep=\"0000.\",end=\" \")"
   ]
  },
  {
   "cell_type": "code",
   "execution_count": 22,
   "metadata": {},
   "outputs": [
    {
     "name": "stdout",
     "output_type": "stream",
     "text": [
      "a= 0000.50 \n",
      "\n",
      "\n"
     ]
    }
   ],
   "source": [
    "a=50\n",
    "print(\"a= \",a,sep=\"0000.\",end=\" \\n\\n\\n\")"
   ]
  },
  {
   "cell_type": "code",
   "execution_count": 23,
   "metadata": {},
   "outputs": [
    {
     "name": "stdout",
     "output_type": "stream",
     "text": [
      "a= 0000.50-->"
     ]
    }
   ],
   "source": [
    "a=50\n",
    "print(\"a= \",a,sep=\"0000.\",end=\"-->\")"
   ]
  },
  {
   "cell_type": "code",
   "execution_count": 24,
   "metadata": {},
   "outputs": [
    {
     "name": "stdout",
     "output_type": "stream",
     "text": [
      "a= 0000.50 \t\t"
     ]
    }
   ],
   "source": [
    "a=50\n",
    "print(\"a= \",a,sep=\"0000.\",end=\" \\t\\t\")"
   ]
  },
  {
   "cell_type": "code",
   "execution_count": 25,
   "metadata": {},
   "outputs": [],
   "source": [
    "#Stringler"
   ]
  },
  {
   "cell_type": "code",
   "execution_count": 27,
   "metadata": {},
   "outputs": [
    {
     "data": {
      "text/plain": [
       "\"Ahmet Aksoy'un kitabı\""
      ]
     },
     "execution_count": 27,
     "metadata": {},
     "output_type": "execute_result"
    }
   ],
   "source": [
    "'Ahmet Aksoy\\'un kitabı'  #\\ ekleyince doğruluyor"
   ]
  },
  {
   "cell_type": "code",
   "execution_count": 28,
   "metadata": {},
   "outputs": [
    {
     "data": {
      "text/plain": [
       "\"Ahmet Aksoy'un kitabı\""
      ]
     },
     "execution_count": 28,
     "metadata": {},
     "output_type": "execute_result"
    }
   ],
   "source": [
    "\"Ahmet Aksoy'un kitabı\""
   ]
  },
  {
   "cell_type": "code",
   "execution_count": 29,
   "metadata": {},
   "outputs": [
    {
     "data": {
      "text/plain": [
       "'\"Eyvallah\", dedi ve gitti'"
      ]
     },
     "execution_count": 29,
     "metadata": {},
     "output_type": "execute_result"
    }
   ],
   "source": [
    "\"\\\"Eyvallah\\\", dedi ve gitti\""
   ]
  },
  {
   "cell_type": "code",
   "execution_count": 30,
   "metadata": {},
   "outputs": [
    {
     "data": {
      "text/plain": [
       "'İlk satır \\n ikinci satır'"
      ]
     },
     "execution_count": 30,
     "metadata": {},
     "output_type": "execute_result"
    }
   ],
   "source": [
    "a='İlk satır \\n ikinci satır'\n",
    "a"
   ]
  },
  {
   "cell_type": "code",
   "execution_count": 32,
   "metadata": {},
   "outputs": [
    {
     "name": "stdout",
     "output_type": "stream",
     "text": [
      "İlk satır \n",
      "ikinci satır\n"
     ]
    }
   ],
   "source": [
    "print('İlk satır \\nikinci satır')"
   ]
  },
  {
   "cell_type": "code",
   "execution_count": 33,
   "metadata": {},
   "outputs": [
    {
     "data": {
      "text/plain": [
       "'abcabc'"
      ]
     },
     "execution_count": 33,
     "metadata": {},
     "output_type": "execute_result"
    }
   ],
   "source": [
    "'abc'*2"
   ]
  },
  {
   "cell_type": "code",
   "execution_count": 35,
   "metadata": {},
   "outputs": [
    {
     "data": {
      "text/plain": [
       "'anneannemin babası hala yaşıyor.'"
      ]
     },
     "execution_count": 35,
     "metadata": {},
     "output_type": "execute_result"
    }
   ],
   "source": [
    "'anne'*2+'min babası hala yaşıyor.'"
   ]
  },
  {
   "cell_type": "code",
   "execution_count": 36,
   "metadata": {},
   "outputs": [
    {
     "data": {
      "text/plain": [
       "'Python'"
      ]
     },
     "execution_count": 36,
     "metadata": {},
     "output_type": "execute_result"
    }
   ],
   "source": [
    "#+ koymadan da string geliyorsa ard arda yine birleştirir\n",
    "'Py''thon'"
   ]
  },
  {
   "cell_type": "code",
   "execution_count": 39,
   "metadata": {},
   "outputs": [],
   "source": [
    "#len(),"
   ]
  },
  {
   "cell_type": "code",
   "execution_count": 40,
   "metadata": {},
   "outputs": [
    {
     "data": {
      "text/plain": [
       "''"
      ]
     },
     "execution_count": 40,
     "metadata": {},
     "output_type": "execute_result"
    }
   ],
   "source": [
    "kelime=' Eyvallah '\n",
    "kelime[-2:-4]  #ilerleme geriye doğru değil \n",
    "#ileriye doğru gider -2:-1 olsa olur"
   ]
  },
  {
   "cell_type": "code",
   "execution_count": 41,
   "metadata": {},
   "outputs": [
    {
     "data": {
      "text/plain": [
       "'Eyvallah'"
      ]
     },
     "execution_count": 41,
     "metadata": {},
     "output_type": "execute_result"
    }
   ],
   "source": [
    "kelime[1:5]+kelime[5:9]"
   ]
  },
  {
   "cell_type": "code",
   "execution_count": 42,
   "metadata": {},
   "outputs": [],
   "source": [
    "#Listeler"
   ]
  },
  {
   "cell_type": "code",
   "execution_count": 43,
   "metadata": {},
   "outputs": [],
   "source": [
    "#len(liste)  ile kaç değer var bulabiliriz"
   ]
  },
  {
   "cell_type": "code",
   "execution_count": 44,
   "metadata": {},
   "outputs": [],
   "source": [
    "#listeyi integer tanımlarsak aritmetik işlemler yapılabilir"
   ]
  },
  {
   "cell_type": "code",
   "execution_count": 45,
   "metadata": {},
   "outputs": [],
   "source": [
    "#liste[:], liste[:2]"
   ]
  },
  {
   "cell_type": "code",
   "execution_count": 46,
   "metadata": {},
   "outputs": [],
   "source": [
    "#2 listeyi string birleştirmek için + kullanabiliriz\n",
    "#ad+sehir\n",
    "# + ile [3,4,5] listeyi de birleştirebiliriz\n",
    "# ad+[\"Mete\"] dersek string liste sonuna eklenir"
   ]
  },
  {
   "cell_type": "code",
   "execution_count": 47,
   "metadata": {},
   "outputs": [
    {
     "data": {
      "text/plain": [
       "['Ahmet', 'Mehmet', 'Ali']"
      ]
     },
     "execution_count": 47,
     "metadata": {},
     "output_type": "execute_result"
    }
   ],
   "source": [
    "ad=[\"Ahmet\",\"Mehmet\"]\n",
    "ad.append(\"Ali\")\n",
    "ad"
   ]
  },
  {
   "cell_type": "code",
   "execution_count": 48,
   "metadata": {},
   "outputs": [],
   "source": [
    "#kimlik=[liste1,liste2,liste3] şeklinde listeleri iç içe koyabiliriz"
   ]
  },
  {
   "cell_type": "code",
   "execution_count": 49,
   "metadata": {},
   "outputs": [],
   "source": [
    "#bu halde len(kimlik) dersek 3 verir"
   ]
  },
  {
   "cell_type": "code",
   "execution_count": 50,
   "metadata": {},
   "outputs": [
    {
     "name": "stdout",
     "output_type": "stream",
     "text": [
      "Adınızı yazar mısınız: Adınız\n"
     ]
    },
    {
     "data": {
      "text/plain": [
       "'Adınız'"
      ]
     },
     "execution_count": 50,
     "metadata": {},
     "output_type": "execute_result"
    }
   ],
   "source": [
    "input(\"Adınızı yazar mısınız: \")"
   ]
  },
  {
   "cell_type": "code",
   "execution_count": 52,
   "metadata": {},
   "outputs": [
    {
     "name": "stdout",
     "output_type": "stream",
     "text": [
      "Bir sayı yazar mısınız: 9\n"
     ]
    },
    {
     "data": {
      "text/plain": [
       "9"
      ]
     },
     "execution_count": 52,
     "metadata": {},
     "output_type": "execute_result"
    }
   ],
   "source": [
    "int(input(\"Bir sayı yazar mısınız: \"))\n",
    "#int vermezsek string alır"
   ]
  },
  {
   "cell_type": "code",
   "execution_count": 1,
   "metadata": {},
   "outputs": [],
   "source": [
    "#Karar Yapıları if"
   ]
  },
  {
   "cell_type": "code",
   "execution_count": 2,
   "metadata": {},
   "outputs": [
    {
     "name": "stdout",
     "output_type": "stream",
     "text": [
      "Lutfen bir tam sayı giriniz: 78\n"
     ]
    }
   ],
   "source": [
    "#kullanıcıdan iki sayı alalım büyük olanı seçelim\n",
    "a=int(input(\"Lutfen bir tam sayı giriniz: \"))"
   ]
  },
  {
   "cell_type": "code",
   "execution_count": 3,
   "metadata": {},
   "outputs": [
    {
     "name": "stdout",
     "output_type": "stream",
     "text": [
      "Lutfen bir tam sayı daha giriniz: -13\n"
     ]
    }
   ],
   "source": [
    "b=int(input(\"Lutfen bir tam sayı daha giriniz: \"))"
   ]
  },
  {
   "cell_type": "code",
   "execution_count": 4,
   "metadata": {},
   "outputs": [
    {
     "data": {
      "text/plain": [
       "78"
      ]
     },
     "execution_count": 4,
     "metadata": {},
     "output_type": "execute_result"
    }
   ],
   "source": [
    "a"
   ]
  },
  {
   "cell_type": "code",
   "execution_count": 5,
   "metadata": {},
   "outputs": [
    {
     "data": {
      "text/plain": [
       "-13"
      ]
     },
     "execution_count": 5,
     "metadata": {},
     "output_type": "execute_result"
    }
   ],
   "source": [
    "b"
   ]
  },
  {
   "cell_type": "code",
   "execution_count": 6,
   "metadata": {},
   "outputs": [
    {
     "name": "stdout",
     "output_type": "stream",
     "text": [
      "a, b'den büyüktür.\n"
     ]
    }
   ],
   "source": [
    "if a>b:\n",
    "    print(\"a, b'den büyüktür.\")\n",
    "elif b<a:\n",
    "    print(\"b, a'dan büyüktür.\")\n",
    "else:\n",
    "    print(\"a, b'ye eşittir.\")"
   ]
  },
  {
   "cell_type": "code",
   "execution_count": 7,
   "metadata": {},
   "outputs": [
    {
     "name": "stdout",
     "output_type": "stream",
     "text": [
      "Bir sayı giriniz: 0\n"
     ]
    }
   ],
   "source": [
    "x=int(input(\"Bir sayı giriniz: \"))"
   ]
  },
  {
   "cell_type": "code",
   "execution_count": 8,
   "metadata": {},
   "outputs": [
    {
     "name": "stdout",
     "output_type": "stream",
     "text": [
      "Bir sayı giriniz: 9\n"
     ]
    }
   ],
   "source": [
    "y=int(input(\"Bir sayı giriniz: \"))"
   ]
  },
  {
   "cell_type": "code",
   "execution_count": 9,
   "metadata": {},
   "outputs": [
    {
     "name": "stdout",
     "output_type": "stream",
     "text": [
      "İki sayı birbirine eşit değildir\n"
     ]
    }
   ],
   "source": [
    "if x==y:\n",
    "    print(\"İki sayı birbirine eşittir.\")\n",
    "elif x!=y:\n",
    "    print(\"İki sayı birbirine eşit değildir\")"
   ]
  },
  {
   "cell_type": "code",
   "execution_count": 12,
   "metadata": {},
   "outputs": [],
   "source": [
    "#IDLE 64 bit olanı çalıştırdık\n",
    "#Integrated Development Environment"
   ]
  },
  {
   "cell_type": "code",
   "execution_count": 16,
   "metadata": {},
   "outputs": [
    {
     "name": "stdout",
     "output_type": "stream",
     "text": [
      "a\n",
      "b\n",
      "c\n",
      "ç\n",
      "d\n",
      "e\n",
      "f\n"
     ]
    }
   ],
   "source": [
    "#for döngüsü\n",
    "#harfler listesini yazmak istesek örneğin \n",
    "#tek tek yapmamak için for döngüsü kullanılır\n",
    "#tekrarlı işleri yapar\n",
    "harfler = ['a','b','c','ç','d','e','f']\n",
    "for x in harfler:\n",
    "    print(x)\n",
    "\n",
    "#x harfler listesindeki her bir elemanı temsil eder\n",
    "#harfler de içinde  dolanmak istediğimiz listedir"
   ]
  },
  {
   "cell_type": "code",
   "execution_count": 17,
   "metadata": {},
   "outputs": [
    {
     "data": {
      "text/plain": [
       "range(0, 8)"
      ]
     },
     "execution_count": 17,
     "metadata": {},
     "output_type": "execute_result"
    }
   ],
   "source": [
    "#range() fonksiyonu\n",
    "range(8)  #0dan 8e"
   ]
  },
  {
   "cell_type": "code",
   "execution_count": 18,
   "metadata": {},
   "outputs": [
    {
     "data": {
      "text/plain": [
       "range(2, 8)"
      ]
     },
     "execution_count": 18,
     "metadata": {},
     "output_type": "execute_result"
    }
   ],
   "source": [
    "range(2,8)  #2den 8e birer birer"
   ]
  },
  {
   "cell_type": "code",
   "execution_count": 19,
   "metadata": {},
   "outputs": [
    {
     "data": {
      "text/plain": [
       "range(2, 8, 3)"
      ]
     },
     "execution_count": 19,
     "metadata": {},
     "output_type": "execute_result"
    }
   ],
   "source": [
    "range(2,8,3)  #üçer üçer"
   ]
  },
  {
   "cell_type": "code",
   "execution_count": 21,
   "metadata": {},
   "outputs": [
    {
     "name": "stdout",
     "output_type": "stream",
     "text": [
      "range(0, 5)\n"
     ]
    }
   ],
   "source": [
    "print(range(5)) #yine yazdıramadık \n",
    "#o halde for kullanırız"
   ]
  },
  {
   "cell_type": "code",
   "execution_count": 23,
   "metadata": {},
   "outputs": [
    {
     "name": "stdout",
     "output_type": "stream",
     "text": [
      "0\n",
      "1\n",
      "2\n",
      "3\n",
      "4\n"
     ]
    }
   ],
   "source": [
    "for x in range(5):\n",
    "    print(x)"
   ]
  },
  {
   "cell_type": "code",
   "execution_count": 24,
   "metadata": {},
   "outputs": [
    {
     "name": "stdout",
     "output_type": "stream",
     "text": [
      "2\n",
      "13\n",
      "24\n",
      "35\n",
      "46\n",
      "57\n",
      "68\n"
     ]
    }
   ],
   "source": [
    "for x in range(2,72,11):\n",
    "    print(x)"
   ]
  },
  {
   "cell_type": "code",
   "execution_count": 25,
   "metadata": {},
   "outputs": [
    {
     "name": "stdout",
     "output_type": "stream",
     "text": [
      "-2\n",
      "9\n",
      "20\n",
      "31\n",
      "42\n",
      "53\n",
      "64\n"
     ]
    }
   ],
   "source": [
    "for x in range(-2,72,11):\n",
    "    print(x)"
   ]
  },
  {
   "cell_type": "code",
   "execution_count": 27,
   "metadata": {},
   "outputs": [
    {
     "name": "stdout",
     "output_type": "stream",
     "text": [
      "2\n",
      "-9\n",
      "-20\n",
      "-31\n",
      "-42\n",
      "-53\n",
      "-64\n"
     ]
    }
   ],
   "source": [
    "for x in range(2,-72,-11):\n",
    "    print(x)"
   ]
  },
  {
   "cell_type": "code",
   "execution_count": 30,
   "metadata": {},
   "outputs": [
    {
     "name": "stdout",
     "output_type": "stream",
     "text": [
      "Güncel harf:  A\n",
      "Güncel harf:  B\n",
      "Güncel harf:  C\n"
     ]
    }
   ],
   "source": [
    "#break komutu\n",
    "#hali hazırda devam eden döngüyü durmayı sağlar\n",
    "#while ve for içinde kullanılır\n",
    "for harfler in 'ABCÇD':\n",
    "    if harfler =='Ç':\n",
    "        break\n",
    "    print(\"Güncel harf: \",harfler)"
   ]
  },
  {
   "cell_type": "code",
   "execution_count": 35,
   "metadata": {},
   "outputs": [
    {
     "name": "stdout",
     "output_type": "stream",
     "text": [
      "Güncel sıcaklık:  20 makine çalışmaya devam ediyor...\n",
      "Güncel sıcaklık:  21 makine çalışmaya devam ediyor...\n",
      "Güncel sıcaklık:  22 makine çalışmaya devam ediyor...\n",
      "Güncel sıcaklık:  23 makine çalışmaya devam ediyor...\n",
      "Güncel sıcaklık:  24 makine çalışmaya devam ediyor...\n",
      "Uyarı sıcaklık:  25  Makine durduruldu...\n"
     ]
    }
   ],
   "source": [
    "#break komutu while döngüsünde\n",
    "#makine 30 derece kapansın çalışmasın diyelim\n",
    "odaSicakligi=20\n",
    "while odaSicakligi<30:\n",
    "    print(\"Güncel sıcaklık: \",odaSicakligi,\"makine çalışmaya devam ediyor...\")\n",
    "    odaSicakligi=odaSicakligi+1\n",
    "    if odaSicakligi==25:\n",
    "        break\n",
    "print(\"Uyarı sıcaklık: \",odaSicakligi,\" Makine durduruldu...\")"
   ]
  },
  {
   "cell_type": "code",
   "execution_count": 36,
   "metadata": {},
   "outputs": [
    {
     "name": "stdout",
     "output_type": "stream",
     "text": [
      "Güncel harf : P\n",
      "Güncel harf : y\n",
      "Güncel harf : h\n",
      "Güncel harf : o\n",
      "Güncel harf : n\n"
     ]
    }
   ],
   "source": [
    "#continue komutu\n",
    "#döngüyü başa döndürür o satır pas geçer\n",
    "for harf in \"Python\":\n",
    "    if harf=='t':\n",
    "        continue\n",
    "    print(\"Güncel harf :\",harf)"
   ]
  },
  {
   "cell_type": "code",
   "execution_count": 41,
   "metadata": {},
   "outputs": [
    {
     "name": "stdout",
     "output_type": "stream",
     "text": [
      "Güncel sayı:  1\n",
      "Güncel sayı:  2\n",
      "Güncel sayı:  3\n",
      "Güncel sayı:  4\n",
      "Güncel sayı:  6\n",
      "Güncel sayı:  7\n",
      "Güncel sayı:  8\n",
      "Güncel sayı:  9\n",
      "Güncel sayı:  11\n",
      "Güncel sayı:  12\n",
      "Güncel sayı:  13\n",
      "Güncel sayı:  14\n",
      "Güncel sayı:  16\n",
      "Güncel sayı:  17\n",
      "Güncel sayı:  18\n",
      "Güncel sayı:  19\n",
      "Güncel sayı:  21\n",
      "Güncel sayı:  22\n",
      "Güncel sayı:  23\n",
      "Güncel sayı:  24\n",
      "Güncel sayı:  26\n",
      "Güncel sayı:  27\n",
      "Güncel sayı:  28\n",
      "Güncel sayı:  29\n",
      "Güncel sayı:  31\n",
      "Güncel sayı:  32\n",
      "Güncel sayı:  33\n",
      "Güncel sayı:  34\n",
      "Güncel sayı:  36\n",
      "Güncel sayı:  37\n",
      "Güncel sayı:  38\n",
      "Güncel sayı:  39\n",
      "Güncel sayı:  41\n",
      "Güncel sayı:  42\n",
      "Güncel sayı:  43\n",
      "Güncel sayı:  44\n",
      "Güncel sayı:  46\n",
      "Güncel sayı:  47\n",
      "Güncel sayı:  48\n",
      "Güncel sayı:  49\n",
      "Güncel sayı:  51\n",
      "Güncel sayı:  52\n",
      "Güncel sayı:  53\n",
      "Güncel sayı:  54\n",
      "Güncel sayı:  56\n",
      "Güncel sayı:  57\n",
      "Güncel sayı:  58\n",
      "Güncel sayı:  59\n",
      "Güncel sayı:  61\n",
      "Güncel sayı:  62\n",
      "Güncel sayı:  63\n",
      "Güncel sayı:  64\n",
      "Güncel sayı:  66\n",
      "Güncel sayı:  67\n",
      "Güncel sayı:  68\n",
      "Güncel sayı:  69\n",
      "Güncel sayı:  71\n",
      "Güncel sayı:  72\n",
      "Güncel sayı:  73\n",
      "Güncel sayı:  74\n",
      "Güncel sayı:  76\n",
      "Güncel sayı:  77\n",
      "Güncel sayı:  78\n",
      "Güncel sayı:  79\n",
      "Güncel sayı:  81\n",
      "Güncel sayı:  82\n",
      "Güncel sayı:  83\n",
      "Güncel sayı:  84\n",
      "Güncel sayı:  86\n",
      "Güncel sayı:  87\n",
      "Güncel sayı:  88\n",
      "Güncel sayı:  89\n",
      "Güncel sayı:  91\n",
      "Güncel sayı:  92\n",
      "Güncel sayı:  93\n",
      "Güncel sayı:  94\n",
      "Güncel sayı:  96\n",
      "Güncel sayı:  97\n",
      "Güncel sayı:  98\n",
      "Güncel sayı:  99\n",
      "İşlem başarıyla tamamlandı\n"
     ]
    }
   ],
   "source": [
    "#continue while içinde\n",
    "#1den 100e kadar 5in katları dışındakileri yazdıran program\n",
    "a=1\n",
    "while a<100:\n",
    "    print(\"Güncel sayı: \",a)\n",
    "    a=a+1\n",
    "    if a%5==0:\n",
    "        a=a+1\n",
    "        continue\n",
    "print(\"İşlem başarıyla tamamlandı\")"
   ]
  },
  {
   "cell_type": "code",
   "execution_count": 42,
   "metadata": {},
   "outputs": [
    {
     "name": "stdout",
     "output_type": "stream",
     "text": [
      "Güncel harf: P\n",
      "Güncel harf: y\n",
      "Güncel harf: t\n",
      "Güncel harf: h\n",
      "Güncel harf: o\n",
      "Güncel harf: n\n"
     ]
    }
   ],
   "source": [
    "#pass komutu\n",
    "#kodlarda hata almamak için yazdığımız koddur\n",
    "\n",
    "for harf in 'Python':\n",
    "    if harf=='o':\n",
    "        pass\n",
    "    print(\"Güncel harf:\",harf)"
   ]
  },
  {
   "cell_type": "code",
   "execution_count": 43,
   "metadata": {},
   "outputs": [],
   "source": [
    "#Fonksiyonlar\n",
    "#görevinini yerine getiren bir makinedir\n",
    "#def ile tanımlanır definition\n",
    "def kare(x):  #f(x)=x^2\n",
    "    print(x**2)"
   ]
  },
  {
   "cell_type": "code",
   "execution_count": 44,
   "metadata": {},
   "outputs": [
    {
     "name": "stdout",
     "output_type": "stream",
     "text": [
      "9\n"
     ]
    }
   ],
   "source": [
    "kare(3)"
   ]
  },
  {
   "cell_type": "code",
   "execution_count": 45,
   "metadata": {},
   "outputs": [],
   "source": [
    "def kare(x):  #f(x)=x^2\n",
    "    if x<5:\n",
    "        print(\"Çok küçük bir değerdir\")\n",
    "    else:\n",
    "        print(x**2)"
   ]
  },
  {
   "cell_type": "code",
   "execution_count": 46,
   "metadata": {},
   "outputs": [
    {
     "name": "stdout",
     "output_type": "stream",
     "text": [
      "Çok küçük bir değerdir\n"
     ]
    }
   ],
   "source": [
    "kare(3)"
   ]
  },
  {
   "cell_type": "code",
   "execution_count": 47,
   "metadata": {},
   "outputs": [
    {
     "name": "stdout",
     "output_type": "stream",
     "text": [
      "81\n"
     ]
    }
   ],
   "source": [
    "kare(9)"
   ]
  },
  {
   "cell_type": "code",
   "execution_count": 50,
   "metadata": {},
   "outputs": [],
   "source": [
    "#return kullanımı  return döndür demektir\n",
    "def kare(x):  #f(x)=x^2\n",
    "    return x**2"
   ]
  },
  {
   "cell_type": "code",
   "execution_count": 51,
   "metadata": {},
   "outputs": [
    {
     "data": {
      "text/plain": [
       "81"
      ]
     },
     "execution_count": 51,
     "metadata": {},
     "output_type": "execute_result"
    }
   ],
   "source": [
    "kare(9)"
   ]
  },
  {
   "cell_type": "code",
   "execution_count": 52,
   "metadata": {},
   "outputs": [
    {
     "name": "stdout",
     "output_type": "stream",
     "text": [
      "81\n"
     ]
    }
   ],
   "source": [
    "#ekrana basmazsa print kullanılır\n",
    "print(kare(9))"
   ]
  },
  {
   "cell_type": "code",
   "execution_count": 53,
   "metadata": {},
   "outputs": [],
   "source": [
    "#keyword argument kullanımı\n",
    "#fonksiyona birden fazla değer koyabiliriz\n",
    "def baykus(tur='cizgili baykus',ort_agirlik=720,beslenme_turu='Etcil',kanat_acikligi=112):\n",
    "    print(\"Tür :\",tur)\n",
    "    print(\"Ortalama Ağırlığı: \",ort_agirlik)\n",
    "    print(\"Beslenme Türü: \",beslenme_turu)\n",
    "    print(\"Kanat Açıklığı:\",kanat_acikligi)"
   ]
  },
  {
   "cell_type": "code",
   "execution_count": 54,
   "metadata": {},
   "outputs": [
    {
     "name": "stdout",
     "output_type": "stream",
     "text": [
      "Tür : cizgili baykus\n",
      "Ortalama Ağırlığı:  720\n",
      "Beslenme Türü:  Etcil\n",
      "Kanat Açıklığı: 112\n"
     ]
    }
   ],
   "source": [
    "baykus()"
   ]
  },
  {
   "cell_type": "code",
   "execution_count": 55,
   "metadata": {},
   "outputs": [
    {
     "name": "stdout",
     "output_type": "stream",
     "text": [
      "(1, 2, 3, 4)\n"
     ]
    }
   ],
   "source": [
    "#Demetler tuples\n",
    "#python shell açtık\n",
    "#demetler listelerdir \n",
    "tup1=(1,2,3,4,)\n",
    "print(tup1)  #içindeki elemanı değiştiremeyiz"
   ]
  },
  {
   "cell_type": "code",
   "execution_count": 57,
   "metadata": {},
   "outputs": [
    {
     "name": "stdout",
     "output_type": "stream",
     "text": [
      "(1, 2, 3, 4, 'oguz', '18')\n"
     ]
    }
   ],
   "source": [
    "demet=(1,2,3,4,\"oguz\",\"18\")\n",
    "print(demet)"
   ]
  },
  {
   "cell_type": "code",
   "execution_count": null,
   "metadata": {},
   "outputs": [],
   "source": [
    "demet=(1,2,3,4,\"oguz\",\"18\",)  #sonuna parantez koyunca çalışır ayrıntı\n",
    "print(demet)\n",
    "# sonudaki virgül ile tuple olduğunu anlıyor"
   ]
  },
  {
   "cell_type": "code",
   "execution_count": 58,
   "metadata": {},
   "outputs": [
    {
     "name": "stdout",
     "output_type": "stream",
     "text": [
      "('betik', 'oguz', '18')\n"
     ]
    }
   ],
   "source": [
    "demet=(\"betik\",\"oguz\",\"18\")\n",
    "print(demet)"
   ]
  },
  {
   "cell_type": "code",
   "execution_count": 60,
   "metadata": {},
   "outputs": [
    {
     "data": {
      "text/plain": [
       "'18'"
      ]
     },
     "execution_count": 60,
     "metadata": {},
     "output_type": "execute_result"
    }
   ],
   "source": [
    "demet[2]"
   ]
  },
  {
   "cell_type": "code",
   "execution_count": 61,
   "metadata": {},
   "outputs": [
    {
     "ename": "TypeError",
     "evalue": "'tuple' object does not support item assignment",
     "output_type": "error",
     "traceback": [
      "\u001b[1;31m---------------------------------------------------------------------------\u001b[0m",
      "\u001b[1;31mTypeError\u001b[0m                                 Traceback (most recent call last)",
      "\u001b[1;32m<ipython-input-61-c4506b1ee710>\u001b[0m in \u001b[0;36m<module>\u001b[1;34m\u001b[0m\n\u001b[1;32m----> 1\u001b[1;33m \u001b[0mdemet\u001b[0m\u001b[1;33m[\u001b[0m\u001b[1;36m2\u001b[0m\u001b[1;33m]\u001b[0m\u001b[1;33m=\u001b[0m\u001b[1;34m\"19\"\u001b[0m  \u001b[1;31m#hata verir atama yapamayız\u001b[0m\u001b[1;33m\u001b[0m\u001b[1;33m\u001b[0m\u001b[0m\n\u001b[0m",
      "\u001b[1;31mTypeError\u001b[0m: 'tuple' object does not support item assignment"
     ]
    }
   ],
   "source": [
    "demet[2]=\"19\"  #hata verir atama yapamayız"
   ]
  },
  {
   "cell_type": "code",
   "execution_count": 63,
   "metadata": {},
   "outputs": [
    {
     "name": "stdout",
     "output_type": "stream",
     "text": [
      "()\n"
     ]
    }
   ],
   "source": [
    "ikinciDemet=()\n",
    "print(ikinciDemet)\n",
    "#neden boş tuple var. sonradan birşeyler eklemek isteyebiliriz"
   ]
  },
  {
   "cell_type": "code",
   "execution_count": 65,
   "metadata": {},
   "outputs": [],
   "source": [
    "demet=(\"betik\",\"oguz\",\"18\")\n",
    "birDemet=(\"okul\",\"drone\",\"yazılım\")"
   ]
  },
  {
   "cell_type": "code",
   "execution_count": 66,
   "metadata": {},
   "outputs": [
    {
     "name": "stdout",
     "output_type": "stream",
     "text": [
      "('betik', 'oguz', '18', 'okul', 'drone', 'yazılım')\n"
     ]
    }
   ],
   "source": [
    "x=demet+birDemet\n",
    "print(x)"
   ]
  },
  {
   "cell_type": "code",
   "execution_count": 67,
   "metadata": {},
   "outputs": [
    {
     "data": {
      "text/plain": [
       "(1, 2, 3, 4, 5)"
      ]
     },
     "execution_count": 67,
     "metadata": {},
     "output_type": "execute_result"
    }
   ],
   "source": [
    "demet=(1,2,3,4,5)\n",
    "demet"
   ]
  },
  {
   "cell_type": "code",
   "execution_count": 68,
   "metadata": {},
   "outputs": [
    {
     "data": {
      "text/plain": [
       "1"
      ]
     },
     "execution_count": 68,
     "metadata": {},
     "output_type": "execute_result"
    }
   ],
   "source": [
    "demet[0]"
   ]
  },
  {
   "cell_type": "code",
   "execution_count": 69,
   "metadata": {},
   "outputs": [
    {
     "data": {
      "text/plain": [
       "3"
      ]
     },
     "execution_count": 69,
     "metadata": {},
     "output_type": "execute_result"
    }
   ],
   "source": [
    "demet[2]"
   ]
  },
  {
   "cell_type": "code",
   "execution_count": 70,
   "metadata": {},
   "outputs": [
    {
     "data": {
      "text/plain": [
       "(1, 2, 3, 4, 5)"
      ]
     },
     "execution_count": 70,
     "metadata": {},
     "output_type": "execute_result"
    }
   ],
   "source": [
    "demet[0:]"
   ]
  },
  {
   "cell_type": "code",
   "execution_count": 71,
   "metadata": {},
   "outputs": [
    {
     "data": {
      "text/plain": [
       "(1, 2, 3)"
      ]
     },
     "execution_count": 71,
     "metadata": {},
     "output_type": "execute_result"
    }
   ],
   "source": [
    "demet[0:3]"
   ]
  },
  {
   "cell_type": "code",
   "execution_count": 72,
   "metadata": {},
   "outputs": [
    {
     "name": "stdout",
     "output_type": "stream",
     "text": [
      "(1, 2, 3, 4, 5)\n"
     ]
    }
   ],
   "source": [
    "print(demet)"
   ]
  },
  {
   "cell_type": "code",
   "execution_count": 73,
   "metadata": {},
   "outputs": [
    {
     "ename": "NameError",
     "evalue": "name 'demet' is not defined",
     "output_type": "error",
     "traceback": [
      "\u001b[1;31m---------------------------------------------------------------------------\u001b[0m",
      "\u001b[1;31mNameError\u001b[0m                                 Traceback (most recent call last)",
      "\u001b[1;32m<ipython-input-73-a080abfa83ff>\u001b[0m in \u001b[0;36m<module>\u001b[1;34m\u001b[0m\n\u001b[0;32m      1\u001b[0m \u001b[1;31m#herhangi bir elemanı silmek istersek\u001b[0m\u001b[1;33m\u001b[0m\u001b[1;33m\u001b[0m\u001b[1;33m\u001b[0m\u001b[0m\n\u001b[0;32m      2\u001b[0m \u001b[1;32mdel\u001b[0m \u001b[0mdemet\u001b[0m\u001b[1;33m\u001b[0m\u001b[1;33m\u001b[0m\u001b[0m\n\u001b[1;32m----> 3\u001b[1;33m \u001b[0mdemet\u001b[0m\u001b[1;33m\u001b[0m\u001b[1;33m\u001b[0m\u001b[0m\n\u001b[0m",
      "\u001b[1;31mNameError\u001b[0m: name 'demet' is not defined"
     ]
    }
   ],
   "source": [
    " #herhangi bir elemanı silmek istersek\n",
    "del demet\n",
    "demet"
   ]
  },
  {
   "cell_type": "code",
   "execution_count": 74,
   "metadata": {},
   "outputs": [
    {
     "data": {
      "text/plain": [
       "3"
      ]
     },
     "execution_count": 74,
     "metadata": {},
     "output_type": "execute_result"
    }
   ],
   "source": [
    "#len \n",
    "len((1,2,3))"
   ]
  },
  {
   "cell_type": "code",
   "execution_count": 75,
   "metadata": {},
   "outputs": [
    {
     "data": {
      "text/plain": [
       "'EsenliklerEsenlikler'"
      ]
     },
     "execution_count": 75,
     "metadata": {},
     "output_type": "execute_result"
    }
   ],
   "source": [
    "(\"Esenlikler\")*2"
   ]
  },
  {
   "cell_type": "code",
   "execution_count": 76,
   "metadata": {},
   "outputs": [
    {
     "data": {
      "text/plain": [
       "'Esenlikler Esenlikler '"
      ]
     },
     "execution_count": 76,
     "metadata": {},
     "output_type": "execute_result"
    }
   ],
   "source": [
    "(\"Esenlikler \")*2"
   ]
  },
  {
   "cell_type": "code",
   "execution_count": 78,
   "metadata": {},
   "outputs": [
    {
     "data": {
      "text/plain": [
       "False"
      ]
     },
     "execution_count": 78,
     "metadata": {},
     "output_type": "execute_result"
    }
   ],
   "source": [
    "x = (\"a\",\"b\",\"c\",\"d\")\n",
    "\"ç\" in x"
   ]
  },
  {
   "cell_type": "code",
   "execution_count": 79,
   "metadata": {},
   "outputs": [
    {
     "data": {
      "text/plain": [
       "True"
      ]
     },
     "execution_count": 79,
     "metadata": {},
     "output_type": "execute_result"
    }
   ],
   "source": [
    "\"a\" in x"
   ]
  },
  {
   "cell_type": "code",
   "execution_count": 80,
   "metadata": {},
   "outputs": [
    {
     "name": "stdout",
     "output_type": "stream",
     "text": [
      "a\n",
      "b\n",
      "c\n",
      "d\n"
     ]
    }
   ],
   "source": [
    "for gezgin in x:\n",
    "    print(gezgin)"
   ]
  },
  {
   "cell_type": "code",
   "execution_count": 81,
   "metadata": {},
   "outputs": [],
   "source": [
    "#Sözlükler\n",
    "#key(anahtar): value(deger)\n",
    "sozluk={\"Ad\":\"Oguz\",\"Yas\":\"22\",\"Okul\":\"Universite\"}"
   ]
  },
  {
   "cell_type": "code",
   "execution_count": 84,
   "metadata": {},
   "outputs": [
    {
     "name": "stdout",
     "output_type": "stream",
     "text": [
      "Oguz\n",
      "22\n",
      "Universite\n"
     ]
    }
   ],
   "source": [
    "print(sozluk[\"Ad\"])\n",
    "print(sozluk[\"Yas\"])\n",
    "print(sozluk[\"Okul\"])"
   ]
  },
  {
   "cell_type": "code",
   "execution_count": 85,
   "metadata": {},
   "outputs": [
    {
     "name": "stdout",
     "output_type": "stream",
     "text": [
      "Asya\n"
     ]
    }
   ],
   "source": [
    "sozluk[\"Ad\"]=\"Asya\"\n",
    "print(sozluk['Ad'])"
   ]
  },
  {
   "cell_type": "code",
   "execution_count": 86,
   "metadata": {},
   "outputs": [],
   "source": [
    "#sozlukten birşey silelim\n",
    "sozluk={\"Ad\":\"Oguz\",\"Yas\":\"22\",\"Okul\":\"Universite\"}"
   ]
  },
  {
   "cell_type": "code",
   "execution_count": 87,
   "metadata": {},
   "outputs": [
    {
     "name": "stdout",
     "output_type": "stream",
     "text": [
      "{'Yas': '22', 'Okul': 'Universite'}\n"
     ]
    }
   ],
   "source": [
    "del sozluk['Ad']\n",
    "print(sozluk)"
   ]
  },
  {
   "cell_type": "code",
   "execution_count": 88,
   "metadata": {},
   "outputs": [
    {
     "data": {
      "text/plain": [
       "{}"
      ]
     },
     "execution_count": 88,
     "metadata": {},
     "output_type": "execute_result"
    }
   ],
   "source": [
    "sozluk.clear()  \n",
    "sozluk  #içini boşalttı"
   ]
  },
  {
   "cell_type": "code",
   "execution_count": 89,
   "metadata": {},
   "outputs": [
    {
     "ename": "NameError",
     "evalue": "name 'sozluk' is not defined",
     "output_type": "error",
     "traceback": [
      "\u001b[1;31m---------------------------------------------------------------------------\u001b[0m",
      "\u001b[1;31mNameError\u001b[0m                                 Traceback (most recent call last)",
      "\u001b[1;32m<ipython-input-89-868c4e9abda1>\u001b[0m in \u001b[0;36m<module>\u001b[1;34m\u001b[0m\n\u001b[0;32m      1\u001b[0m \u001b[1;32mdel\u001b[0m \u001b[0msozluk\u001b[0m\u001b[1;33m\u001b[0m\u001b[1;33m\u001b[0m\u001b[0m\n\u001b[1;32m----> 2\u001b[1;33m \u001b[0msozluk\u001b[0m\u001b[1;33m\u001b[0m\u001b[1;33m\u001b[0m\u001b[0m\n\u001b[0m",
      "\u001b[1;31mNameError\u001b[0m: name 'sozluk' is not defined"
     ]
    }
   ],
   "source": [
    "del sozluk\n",
    "sozluk  #komple sildi"
   ]
  },
  {
   "cell_type": "code",
   "execution_count": 91,
   "metadata": {},
   "outputs": [],
   "source": [
    "#Modul  moduller sadece dosyadır çeşitli kodlar vardır içinde\n",
    "#python modüller üzerine çalışır\n",
    "#modullerle işlevsiz gövdeyi işlevli hale getiriyoruz\n",
    "#modul tanımlayalım\n",
    "def selam():\n",
    "    print(\"Esenlikler!\")\n",
    "    return"
   ]
  },
  {
   "cell_type": "code",
   "execution_count": 92,
   "metadata": {},
   "outputs": [
    {
     "name": "stdout",
     "output_type": "stream",
     "text": [
      "Esenlikler!\n"
     ]
    }
   ],
   "source": [
    "selam() #üstteki selam fonksiyonunu dosyaya kaydedip çağırdık"
   ]
  },
  {
   "cell_type": "code",
   "execution_count": 93,
   "metadata": {},
   "outputs": [],
   "source": [
    "#büyük projede ise import ile o modülün adını çağırıp\n",
    "#dahil edip yapabiliyoruz import modul"
   ]
  },
  {
   "cell_type": "code",
   "execution_count": null,
   "metadata": {},
   "outputs": [],
   "source": []
  },
  {
   "cell_type": "code",
   "execution_count": null,
   "metadata": {},
   "outputs": [],
   "source": []
  },
  {
   "cell_type": "code",
   "execution_count": null,
   "metadata": {},
   "outputs": [],
   "source": []
  },
  {
   "cell_type": "code",
   "execution_count": null,
   "metadata": {},
   "outputs": [],
   "source": []
  },
  {
   "cell_type": "code",
   "execution_count": null,
   "metadata": {},
   "outputs": [],
   "source": []
  }
 ],
 "metadata": {
  "kernelspec": {
   "display_name": "Python 3",
   "language": "python",
   "name": "python3"
  },
  "language_info": {
   "codemirror_mode": {
    "name": "ipython",
    "version": 3
   },
   "file_extension": ".py",
   "mimetype": "text/x-python",
   "name": "python",
   "nbconvert_exporter": "python",
   "pygments_lexer": "ipython3",
   "version": "3.7.7"
  }
 },
 "nbformat": 4,
 "nbformat_minor": 4
}
