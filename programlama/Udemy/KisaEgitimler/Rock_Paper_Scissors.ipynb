{
 "cells": [
  {
   "cell_type": "code",
   "execution_count": 1,
   "metadata": {},
   "outputs": [],
   "source": [
    "import time\n",
    "loose = (\"The computer wins\")\n",
    "win = (\"You Win\")\n",
    "lives = 5\n",
    "score = 0\n",
    "drew = 0\n",
    "computer_lives = 7\n",
    "password_list = []"
   ]
  },
  {
   "cell_type": "code",
   "execution_count": null,
   "metadata": {},
   "outputs": [
    {
     "name": "stdout",
     "output_type": "stream",
     "text": [
      "Rock, Paper, Scissors?   scissors\n",
      "You win\n",
      "Rock, Paper, Scissors?   scissors\n",
      "You win\n",
      "Rock, Paper, Scissors?   scissors\n",
      "You win\n",
      "Rock, Paper, Scissors?   scissors\n",
      "You win\n",
      "Rock, Paper, Scissors?   scissors\n",
      "You win\n",
      "Rock, Paper, Scissors?   scissors\n",
      "You win\n",
      "Rock, Paper, Scissors?   rock\n",
      "You win\n",
      "Rock, Paper, Scissors?   rock\n",
      "You drew\n",
      "Rock, Paper, Scissors?   rock\n",
      "You win\n",
      "Rock, Paper, Scissors?   scissors\n",
      "You drew\n"
     ]
    }
   ],
   "source": [
    "while True:\n",
    "    rps = input(\"Rock, Paper, Scissors?   \")\n",
    "    import random\n",
    "    computer = (\"rock\",\"paper\",\"scissors\")\n",
    "    computer = random.choice(computer)\n",
    "    #rock if statement\n",
    "    if rps ==\"rock\" and computer == \"paper\":\n",
    "        print(\"You loose\")\n",
    "        lives = -1\n",
    "    if rps == \"rock\" and computer == \"scissors\":\n",
    "        print(\"You win\")\n",
    "        score = +1\n",
    "     #paper if statement\n",
    "    if rps ==\"paper\" and computer == \"rock\":\n",
    "        print(\"You win\")\n",
    "        score = +1\n",
    "    if rps == \"paper\" and computer == \"scissors\":\n",
    "        print(\"You loose\")\n",
    "        lives = -1\n",
    "     #scissors if statement\n",
    "    if rps ==\"scissors\" and computer == \"paper\":\n",
    "        print(\"You win\")\n",
    "        score = +1\n",
    "    if rps == \"scissors\" and computer == \"rock\":\n",
    "        print(\"You win\")\n",
    "        score = -1\n",
    "      #duplicates\n",
    "    if rps ==\"rock\" and computer == \"rock\":\n",
    "        print(\"You drew\")\n",
    "        drew = +1\n",
    "    if rps == \"paper\" and computer == \"paper\":\n",
    "        print(\"You drew\")\n",
    "        drew = +1 \n",
    "    if rps == \"scissors\" and computer == \"scissors\":\n",
    "        print(\"You drew\")\n",
    "        drew = +1\n",
    "#system\n",
    "    if rps == \"rules\":                        \n",
    "        print(\"-Rock looses against Paper\")\n",
    "        print(\"-Rock beats Scissors\")\n",
    "        print(\"-Paper beats Rock\")\n",
    "        print(\"-Paper looses against Scissors\")\n",
    "        print(\"-Scissors beats Paper\")\n",
    "        print(\"-Scissors looses against Rock\")\n",
    "    if rps == \"display lives\":\n",
    "        print(lives)\n",
    "    if rps == \"display score\":\n",
    "        print(score)\n",
    "    if rps == \"display drew\":\n",
    "        print(drew)\n",
    "                    #lives\n",
    "    if lives == 0 or rps == \"test\":\n",
    "        print(\"Thanks for playing.\")\n",
    "        print(\"You have run out of lives\")\n",
    "        print(\"You got\",score,\"correct\")\n",
    "        print(\"You drew\",drew,\"times\")\n",
    "        stop = input(\"Press enter to exit.\")\n",
    "        exit()\n",
    "    if computer_lives == 0:\n",
    "        print(\"Thanks for playing.\")\n",
    "        print(\"The computer lost all it's lives. You Win.\")\n",
    "        print(\"You got\",score,\"correct\")\n",
    "        print(\"You drew\",drew,\"times\")\n",
    "        stop = input(\"Press enter to exit.\")\n",
    "        exit()\n",
    "    #exit\n",
    "    if rps == \"exit\":\n",
    "        break    \n",
    "    "
   ]
  },
  {
   "cell_type": "code",
   "execution_count": null,
   "metadata": {},
   "outputs": [],
   "source": []
  },
  {
   "cell_type": "code",
   "execution_count": null,
   "metadata": {},
   "outputs": [],
   "source": []
  }
 ],
 "metadata": {
  "kernelspec": {
   "display_name": "Python 3",
   "language": "python",
   "name": "python3"
  },
  "language_info": {
   "codemirror_mode": {
    "name": "ipython",
    "version": 3
   },
   "file_extension": ".py",
   "mimetype": "text/x-python",
   "name": "python",
   "nbconvert_exporter": "python",
   "pygments_lexer": "ipython3",
   "version": "3.7.7"
  }
 },
 "nbformat": 4,
 "nbformat_minor": 4
}
