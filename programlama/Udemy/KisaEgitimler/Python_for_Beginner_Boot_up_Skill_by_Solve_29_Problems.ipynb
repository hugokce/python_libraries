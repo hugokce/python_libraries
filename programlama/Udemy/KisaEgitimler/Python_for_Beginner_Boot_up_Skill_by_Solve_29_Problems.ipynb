{
 "cells": [
  {
   "cell_type": "markdown",
   "metadata": {},
   "source": [
    "First-Reverse"
   ]
  },
  {
   "cell_type": "code",
   "execution_count": 19,
   "metadata": {},
   "outputs": [],
   "source": [
    "input_str='helloworld'"
   ]
  },
  {
   "cell_type": "code",
   "execution_count": 20,
   "metadata": {},
   "outputs": [],
   "source": [
    "rev_list=reversed(list(input_str))"
   ]
  },
  {
   "cell_type": "code",
   "execution_count": 21,
   "metadata": {},
   "outputs": [
    {
     "name": "stdout",
     "output_type": "stream",
     "text": [
      "d\n",
      "l\n",
      "r\n",
      "o\n",
      "w\n",
      "o\n",
      "l\n",
      "l\n",
      "e\n",
      "h\n"
     ]
    }
   ],
   "source": [
    "for letter in rev_list:\n",
    "    print(letter)"
   ]
  },
  {
   "cell_type": "code",
   "execution_count": 30,
   "metadata": {},
   "outputs": [
    {
     "name": "stdout",
     "output_type": "stream",
     "text": [
      "\n"
     ]
    }
   ],
   "source": [
    "output_str=''\n",
    "\n",
    "for letter in rev_list:\n",
    "    output_str = output_str + letter\n",
    "    \n",
    "print(output_str)"
   ]
  },
  {
   "cell_type": "code",
   "execution_count": 31,
   "metadata": {},
   "outputs": [
    {
     "name": "stdout",
     "output_type": "stream",
     "text": [
      "dlrowolleh\n"
     ]
    }
   ],
   "source": [
    "input_str ='helloworld'\n",
    "\n",
    "def FirstReverse(input_str):\n",
    "    rev_list = reversed(list(input_str))\n",
    "    \n",
    "    output_str=''\n",
    "    \n",
    "    for letter in rev_list:\n",
    "        output_str = output_str + letter\n",
    "\n",
    "    return output_str\n",
    "\n",
    "print(FirstReverse(input_str))"
   ]
  },
  {
   "cell_type": "code",
   "execution_count": 32,
   "metadata": {},
   "outputs": [
    {
     "name": "stdout",
     "output_type": "stream",
     "text": [
      "dlrowolleh\n"
     ]
    }
   ],
   "source": [
    "print('helloworld'[::-1])"
   ]
  },
  {
   "cell_type": "code",
   "execution_count": 33,
   "metadata": {},
   "outputs": [
    {
     "name": "stdout",
     "output_type": "stream",
     "text": [
      "dlrowolleh\n"
     ]
    }
   ],
   "source": [
    "input_str='helloworld'\n",
    "print(input_str[::-1])"
   ]
  },
  {
   "cell_type": "code",
   "execution_count": null,
   "metadata": {},
   "outputs": [],
   "source": []
  },
  {
   "cell_type": "markdown",
   "metadata": {},
   "source": [
    "First-Factorial"
   ]
  },
  {
   "cell_type": "code",
   "execution_count": 34,
   "metadata": {},
   "outputs": [
    {
     "name": "stdout",
     "output_type": "stream",
     "text": [
      "1\n",
      "2\n",
      "3\n",
      "4\n"
     ]
    }
   ],
   "source": [
    "num = 4\n",
    "fac = 1\n",
    "\n",
    "for i in range(1,num+1):\n",
    "    print(i)"
   ]
  },
  {
   "cell_type": "code",
   "execution_count": 35,
   "metadata": {},
   "outputs": [
    {
     "name": "stdout",
     "output_type": "stream",
     "text": [
      "24\n"
     ]
    }
   ],
   "source": [
    "num = 4\n",
    "fac = 1\n",
    "\n",
    "for i in range(1,num+1):\n",
    "    fac = fac*i\n",
    "print(fac)"
   ]
  },
  {
   "cell_type": "code",
   "execution_count": 37,
   "metadata": {},
   "outputs": [
    {
     "name": "stdout",
     "output_type": "stream",
     "text": [
      "24\n"
     ]
    }
   ],
   "source": [
    "num = 4\n",
    "\n",
    "def FirstFactorial(num):\n",
    "    fac = 1 \n",
    "    for i in range(1,num+1):\n",
    "        fac = fac*i\n",
    "    return fac\n",
    "print(FirstFactorial(num))"
   ]
  },
  {
   "cell_type": "code",
   "execution_count": null,
   "metadata": {},
   "outputs": [],
   "source": []
  },
  {
   "cell_type": "markdown",
   "metadata": {},
   "source": [
    "Longest-Word"
   ]
  },
  {
   "cell_type": "code",
   "execution_count": 38,
   "metadata": {},
   "outputs": [],
   "source": [
    "#Longest-Word\n",
    "# Using the Python language, have the function LongestWord(sen) \n",
    "#take the sen parameter being passed and return the largest word in the string. \n",
    "# If there are two or more words that are the same length, \n",
    "#return the first word from the string with that length. \n",
    "# Ignore punctuation and assume sen will not be empty.\n",
    "\n",
    "def LongestWord(sen):\n",
    "  longest = \"\" \n",
    "  longestCount = 0\n",
    "  for x in sen.split():\n",
    "      tempCount = 0\n",
    "      for y in x:\n",
    "         if y.isalpha():\n",
    "            tempCount += 1 \n",
    "      if tempCount > longestCount:\n",
    "          longestCount = tempCount\n",
    "          longest = x\n",
    "  return longest"
   ]
  },
  {
   "cell_type": "code",
   "execution_count": 39,
   "metadata": {},
   "outputs": [
    {
     "name": "stdout",
     "output_type": "stream",
     "text": [
      "aşldkasşdkasşdkaşldkal\n"
     ]
    }
   ],
   "source": [
    "sen = 'aşldkasşdkasşdkaşldkal'\n",
    "print(LongestWord(sen))"
   ]
  },
  {
   "cell_type": "code",
   "execution_count": null,
   "metadata": {},
   "outputs": [],
   "source": []
  },
  {
   "cell_type": "markdown",
   "metadata": {},
   "source": [
    "Letter-Changes"
   ]
  },
  {
   "cell_type": "code",
   "execution_count": 40,
   "metadata": {},
   "outputs": [],
   "source": [
    "# Using the Python language, have the function LetterChanges(str) \n",
    "#take the str parameter being passed and modify it using the following algorithm. \n",
    "# Replace every letter in the string with the letter following it in the alphabet \n",
    "# (ie. c becomes d, z becomes a). Then capitalize every vowel in this new string (a, e, i, o, u) \n",
    "#and finally return this modified string. \n",
    "\n",
    "def LetterChanges(str):\n",
    "  result = \"\"\n",
    "\n",
    "  for x in str:\n",
    "    if x == \"z\": \n",
    "      newChar = \"a\"\n",
    "    elif x == \"Z\":\n",
    "      newChar = \"A\"\n",
    "    elif x.isalpha():\n",
    "      newChar = chr(ord(x) + 1)\n",
    "    else:\n",
    "      newChar = x\n",
    "\n",
    "    if newChar in \"aeiou\":\n",
    "      newChar = newChar.upper()\n",
    "    result = result + newChar\n",
    "\n",
    "  return result"
   ]
  },
  {
   "cell_type": "code",
   "execution_count": null,
   "metadata": {},
   "outputs": [],
   "source": []
  },
  {
   "cell_type": "markdown",
   "metadata": {},
   "source": [
    "Simple-Adding"
   ]
  },
  {
   "cell_type": "code",
   "execution_count": 41,
   "metadata": {},
   "outputs": [
    {
     "name": "stdout",
     "output_type": "stream",
     "text": [
      "15\n"
     ]
    }
   ],
   "source": [
    "sum_result = 0\n",
    "num = 5\n",
    "\n",
    "for i in range(1,num+1):\n",
    "    sum_result = sum_result+i\n",
    "\n",
    "print(sum_result)"
   ]
  },
  {
   "cell_type": "code",
   "execution_count": 43,
   "metadata": {},
   "outputs": [
    {
     "name": "stdout",
     "output_type": "stream",
     "text": [
      "15\n"
     ]
    }
   ],
   "source": [
    "num = 5\n",
    "\n",
    "def SimpleAdding(num):\n",
    "    sum_result = 0\n",
    "    for i in range(1,num+1):\n",
    "        sum_result = sum_result+i\n",
    "    return sum_result\n",
    "print(SimpleAdding(num))"
   ]
  },
  {
   "cell_type": "code",
   "execution_count": null,
   "metadata": {},
   "outputs": [],
   "source": []
  },
  {
   "cell_type": "markdown",
   "metadata": {},
   "source": [
    "Letter-Capitalize"
   ]
  },
  {
   "cell_type": "code",
   "execution_count": 44,
   "metadata": {},
   "outputs": [
    {
     "name": "stdout",
     "output_type": "stream",
     "text": [
      "['hello', 'world']\n"
     ]
    }
   ],
   "source": [
    "input_sen = \"hello world\"\n",
    "\n",
    "print(input_sen.split())\n",
    "\n",
    "#output_sen = \"Hello World\""
   ]
  },
  {
   "cell_type": "code",
   "execution_count": 46,
   "metadata": {},
   "outputs": [
    {
     "name": "stdout",
     "output_type": "stream",
     "text": [
      "H\n",
      "W\n"
     ]
    }
   ],
   "source": [
    "input_sen = \"hello world\"\n",
    "\n",
    "for word in input_sen.split():\n",
    "    print(word[0].upper())\n",
    "    \n",
    "#    print(input_sen.split())\n",
    "\n",
    "#output_sen = \"Hello World\""
   ]
  },
  {
   "cell_type": "code",
   "execution_count": 47,
   "metadata": {},
   "outputs": [
    {
     "name": "stdout",
     "output_type": "stream",
     "text": [
      " Hello World\n"
     ]
    }
   ],
   "source": [
    "input_sen = \"hello world\"\n",
    "\n",
    "output_sen = ''\n",
    "\n",
    "for word in input_sen.split():\n",
    "    output_sen = output_sen + ' ' + word[0].upper() + word[1:]\n",
    "    \n",
    "print(output_sen)\n",
    "\n",
    "#output_sen = \"Hello World\""
   ]
  },
  {
   "cell_type": "code",
   "execution_count": 48,
   "metadata": {},
   "outputs": [
    {
     "name": "stdout",
     "output_type": "stream",
     "text": [
      "Hello World\n"
     ]
    }
   ],
   "source": [
    "input_sen = \"hello world\"\n",
    "\n",
    "output_sen = ''\n",
    "\n",
    "for word in input_sen.split():\n",
    "    output_sen = output_sen + ' ' + word[0].upper() + word[1:]\n",
    "\n",
    "output_sen = output_sen[1:]\n",
    "print(output_sen)\n",
    "\n",
    "#output_sen = \"Hello World\""
   ]
  },
  {
   "cell_type": "code",
   "execution_count": 49,
   "metadata": {},
   "outputs": [
    {
     "name": "stdout",
     "output_type": "stream",
     "text": [
      "Hello World\n"
     ]
    }
   ],
   "source": [
    "input_sen = \"hello world\"\n",
    "\n",
    "def LetterCapitalize(input_sen):\n",
    "    output_sen = ''\n",
    "\n",
    "    for word in input_sen.split():\n",
    "        output_sen = output_sen + ' ' + word[0].upper() + word[1:]\n",
    "\n",
    "    output_sen = output_sen[1:]\n",
    "    return output_sen\n",
    "\n",
    "print(LetterCapitalize(input_sen))\n",
    "\n",
    "#output_sen = \"Hello World\""
   ]
  },
  {
   "cell_type": "code",
   "execution_count": null,
   "metadata": {},
   "outputs": [],
   "source": []
  },
  {
   "cell_type": "markdown",
   "metadata": {},
   "source": [
    "Simple-Symbols"
   ]
  },
  {
   "cell_type": "code",
   "execution_count": null,
   "metadata": {},
   "outputs": [],
   "source": [
    "# Using the Python language, have the function SimpleSymbols(str) take the str parameter being passed \n",
    "# and determine if it is an acceptable sequence by either returning the string true or false. \n",
    "# The str parameter will be composed of + and = symbols with several letters between them \n",
    "# (ie. ++d+===+c++==a) and for the string to be true each letter must be surrounded by a + symbol. \n",
    "# So the string to the left would be false. The string will not be empty and will have at least one letter. \n",
    "\n",
    "def SimpleSymbols(str):\n",
    "    flag = True\n",
    "    if len(str) < 3:\n",
    "        return \"false\"\n",
    "    for x in range(1,len(str)):\n",
    "        if str[x].isalpha() and (str[x-1] != \"+\" or str[x+1] != \"+\"):\n",
    "            flag = False\n",
    "    if flag:\n",
    "        return \"true\"\n",
    "    else:\n",
    "        return \"false\""
   ]
  },
  {
   "cell_type": "code",
   "execution_count": null,
   "metadata": {},
   "outputs": [],
   "source": []
  },
  {
   "cell_type": "markdown",
   "metadata": {},
   "source": [
    "Check-Nums"
   ]
  },
  {
   "cell_type": "code",
   "execution_count": 50,
   "metadata": {},
   "outputs": [],
   "source": [
    "# Using the Python language, have the function CheckNums(num1,num2) take both parameters being passed and \n",
    "# return the string true if num2 is greater than num1, otherwise return the string false. \n",
    "# If the parameter values are equal to each other then return the string -1. \n",
    "\n",
    "def CheckNums(num1, num2):\n",
    "    if num2 > num1:\n",
    "        return \"true\"\n",
    "    elif num1 > num2:\n",
    "        return \"false\"\n",
    "    else:\n",
    "        return -1"
   ]
  },
  {
   "cell_type": "code",
   "execution_count": null,
   "metadata": {},
   "outputs": [],
   "source": []
  },
  {
   "cell_type": "markdown",
   "metadata": {},
   "source": [
    "Time-Convert"
   ]
  },
  {
   "cell_type": "code",
   "execution_count": 52,
   "metadata": {},
   "outputs": [],
   "source": [
    "# Using the Python language, have the function TimeConvert(num) take the num parameter being passed \n",
    "# and return the number of hours and minutes the parameter converts to \n",
    "# (ie. if num = 63 then the output should be 1:3). Separate the number of hours and minutes with a colon. \n",
    "\n",
    "def TimeConvert(num):\n",
    "    minutes = num % 60\n",
    "    hours = (num - minutes)/60\n",
    "    res = str(hours) + \":\" + str(minutes)\n",
    "    return res"
   ]
  },
  {
   "cell_type": "code",
   "execution_count": null,
   "metadata": {},
   "outputs": [],
   "source": []
  },
  {
   "cell_type": "markdown",
   "metadata": {},
   "source": [
    "Alphabet-Soup"
   ]
  },
  {
   "cell_type": "code",
   "execution_count": 53,
   "metadata": {},
   "outputs": [],
   "source": [
    "# Using the Python language, have the function AlphabetSoup(str) take the str string parameter being passed \n",
    "# and return the string with the letters in alphabetical order \n",
    "# (ie. hello becomes ehllo). Assume numbers and punctuation symbols will not be included in the string. \n",
    "\n",
    "def AlphabetSoup(str):\n",
    "    return ''.join(sorted(list(str)))"
   ]
  },
  {
   "cell_type": "code",
   "execution_count": null,
   "metadata": {},
   "outputs": [],
   "source": []
  },
  {
   "cell_type": "markdown",
   "metadata": {},
   "source": [
    "AB-Check"
   ]
  },
  {
   "cell_type": "code",
   "execution_count": 55,
   "metadata": {},
   "outputs": [],
   "source": [
    "# Using the Python language, have the function ABCheck(str) take the str parameter being passed and \n",
    "# return the string true if the characters a and b are separated by exactly 3 places anywhere in the string at least once \n",
    "# (ie. \"lane borrowed\" would result in true because there is exactly three characters between a and b). \n",
    "#Otherwise return the string false. \n",
    "\n",
    "def ABCheck(str):\n",
    "    ls = list(str)\n",
    "    l = len(str)\n",
    "    for x in range(l):\n",
    "        if ls[x] == \"a\":\n",
    "            if l - x >= 4:\n",
    "                if ls[x + 4] == \"b\":\n",
    "                    return \"true\"\n",
    "        elif ls[x] == \"b\":\n",
    "            if l - x >= 4:\n",
    "                if ls[x + 4] == \"a\":\n",
    "                    return \"true\"\n",
    "    return \"false\""
   ]
  },
  {
   "cell_type": "code",
   "execution_count": null,
   "metadata": {},
   "outputs": [],
   "source": []
  },
  {
   "cell_type": "markdown",
   "metadata": {},
   "source": [
    "Vowel-Count"
   ]
  },
  {
   "cell_type": "code",
   "execution_count": 57,
   "metadata": {},
   "outputs": [],
   "source": [
    "# Using the Python language, have the function VowelCount(str) take the str string parameter \n",
    "#being passed and return the number of vowels the string contains \n",
    "# (ie. \"All cows eat grass\" would return 5). Do not count y as a vowel for this challenge.\n",
    "\n",
    "def VowelCount(str):\n",
    "    count = 0\n",
    "    vowels = \"aeiou\"\n",
    "    for letter in str:\n",
    "        if letter.lower() in vowels:\n",
    "            count += 1\n",
    "    return count"
   ]
  },
  {
   "cell_type": "code",
   "execution_count": null,
   "metadata": {},
   "outputs": [],
   "source": []
  },
  {
   "cell_type": "markdown",
   "metadata": {},
   "source": [
    "Word-Count"
   ]
  },
  {
   "cell_type": "code",
   "execution_count": 58,
   "metadata": {},
   "outputs": [],
   "source": [
    "# Using the Python language, have the function WordCount(str) take the str string parameter being passed \n",
    "# and return the number of words the string contains \n",
    "#(ie. \"Never eat shredded wheat\" would return 4). Words will be separated by single spaces. \n",
    "def WordCount(str):\n",
    "    return len(str.split())"
   ]
  },
  {
   "cell_type": "code",
   "execution_count": null,
   "metadata": {},
   "outputs": [],
   "source": []
  },
  {
   "cell_type": "markdown",
   "metadata": {},
   "source": [
    "Ex-Oh"
   ]
  },
  {
   "cell_type": "code",
   "execution_count": 59,
   "metadata": {},
   "outputs": [],
   "source": [
    "# Using the Python language, have the function ExOh(str) take the str parameter being passed \n",
    "# and return the string true if there is an equal number of x's and o's, otherwise return the string false. \n",
    "# Only these two letters will be entered in the string, no punctuation or numbers. \n",
    "# For example: if str is \"xooxxxxooxo\" then the output should return false because there are 6 x's and 5 o's. \n",
    "\n",
    "def ExOh(str):\n",
    "    ex = 0\n",
    "    oh = 0\n",
    "    for letter in str:\n",
    "        if letter.lower() == \"x\":\n",
    "            ex += 1\n",
    "        elif letter.lower() == \"o\": \n",
    "            oh += 1\n",
    "    if ex == oh:\n",
    "        return \"true\"\n",
    "    else:\n",
    "        return \"false\""
   ]
  },
  {
   "cell_type": "code",
   "execution_count": null,
   "metadata": {},
   "outputs": [],
   "source": []
  },
  {
   "cell_type": "markdown",
   "metadata": {},
   "source": [
    "Palindrome"
   ]
  },
  {
   "cell_type": "code",
   "execution_count": 60,
   "metadata": {},
   "outputs": [],
   "source": [
    "# Using the Python language, have the function Palindrome(str) take the str parameter being passed \n",
    "# and return the string true if the parameter is a palindrome, \n",
    "#(the string is the same forward as it is backward) otherwise return the string false. \n",
    "# For example: \"racecar\" is also \"racecar\" backwards. Punctuation and numbers will not be part of the string. \n",
    "\n",
    "def Palindrome(str):\n",
    "    str = str.replace(\" \", \"\")\n",
    "    ls = list(str)\n",
    "    rev = reversed(ls)\n",
    "    if ''.join(rev) == str:\n",
    "        return \"true\" \n",
    "    return \"false\""
   ]
  },
  {
   "cell_type": "code",
   "execution_count": null,
   "metadata": {},
   "outputs": [],
   "source": []
  },
  {
   "cell_type": "markdown",
   "metadata": {},
   "source": [
    "Arith-Geo"
   ]
  },
  {
   "cell_type": "code",
   "execution_count": 61,
   "metadata": {},
   "outputs": [],
   "source": [
    "# Using the Python language, have the function ArithGeo(arr) take the array of numbers stored in arr \n",
    "# and return the string \"Arithmetic\" if the sequence follows an arithmetic pattern or return \n",
    "#\"Geometric\" if it follows a geometric pattern. \n",
    "# If the sequence doesn't follow either pattern return -1. \n",
    "# An arithmetic sequence is one where the difference between each of the numbers is consistent, \n",
    "# where as in a geometric sequence, each term after the first is multiplied by some constant or common ratio. \n",
    "# Arithmetic example: [2, 4, 6, 8] and Geometric example: [2, 6, 18, 54]. Negative numbers may be entered as parameters, \n",
    "# 0 will not be entered, and no array will contain all the same elements. \n",
    "\n",
    "def ArithGeo(arr):\n",
    "    arith,geo = True, True\n",
    "    for num in range(1, len(arr) - 1):\n",
    "        if arr[num + 1] - arr[num] != arr[num] - arr[num-1]:\n",
    "            arith = False\n",
    "        if arr[num +1] / arr[num] != arr[num] / arr[num-1]:\n",
    "            geo = False\n",
    "    return \"Arithmetic\" if arith else \"Geometric\" if geo else -1"
   ]
  },
  {
   "cell_type": "code",
   "execution_count": null,
   "metadata": {},
   "outputs": [],
   "source": []
  },
  {
   "cell_type": "markdown",
   "metadata": {},
   "source": [
    "Array-Addition-I"
   ]
  },
  {
   "cell_type": "code",
   "execution_count": 63,
   "metadata": {},
   "outputs": [
    {
     "name": "stdout",
     "output_type": "stream",
     "text": [
      "True\n"
     ]
    }
   ],
   "source": [
    "# Using the Python language, have the function ArrayAdditionI(arr) take the array of numbers stored in arr\n",
    "# and return the string true if any combination of numbers in the array ca be\n",
    "# added up to equal the largest number in the array, otherwise return the string false. \n",
    "# For example: if arr contains [4, 6, 23, 10, 1, 3] the output should return true  \n",
    "# because 4 + 6 + 10 + 3 = 23. The array will not be empty, will not contain all\n",
    "# the same elements, and may contain negative numbers\n",
    "\n",
    "def ArrayAdditionI(arr):\n",
    "  arr.sort()\n",
    "  largest = arr.pop()\n",
    "  result = [False]\n",
    "  def findCombo(sum=0,i=0):\n",
    "    if sum is largest:\n",
    "      result[0] = True\n",
    "      return\n",
    "    while i < len(arr):\n",
    "      sum += arr[i]\n",
    "      findCombo(sum,i+1)\n",
    "      sum -= arr[i]\n",
    "      i += 1\n",
    "  findCombo()\n",
    "  return result[0]\n",
    "print(ArrayAdditionI([5,4,3,1,9]))"
   ]
  },
  {
   "cell_type": "code",
   "execution_count": null,
   "metadata": {},
   "outputs": [],
   "source": []
  },
  {
   "cell_type": "markdown",
   "metadata": {},
   "source": [
    "Letter-Count-I"
   ]
  },
  {
   "cell_type": "code",
   "execution_count": 64,
   "metadata": {},
   "outputs": [],
   "source": [
    "# Using the Python language, have the function LetterCountI(str) take the str parameter being passed \n",
    "# and return the first word with the greatest number of repeated letters. \n",
    "# For example: \"Today, is the greatest day ever!\" should return greatest because it has 2 e's (and 2 t's) \n",
    "# and it comes before ever which also has 2 e's. \n",
    "#If there are no words with repeating letters return -1. Words will be separated by spaces. \n",
    "\n",
    "def LetterCountI(str):\n",
    "    greatest = \"-1\"\n",
    "    greatestCount = 0;\n",
    "\n",
    "    def findRepeats(word):\n",
    "        storage = {}\n",
    "        rep = 0\n",
    "        for letter in list(word):\n",
    "            try:\n",
    "                storage[letter] = storage[letter] + 1\n",
    "            except: \n",
    "                storage[letter] = 1\n",
    "        for n in storage:\n",
    "            if storage[n] > 1:\n",
    "                rep = rep + storage[n]\n",
    "        return rep\n",
    "\n",
    "    arr = str.split()\n",
    "\n",
    "    for word in arr:\n",
    "        c = findRepeats(word)\n",
    "        if c > greatestCount:\n",
    "            greatest = word\n",
    "            greatestCount = c\n",
    "\n",
    "    return greatest"
   ]
  },
  {
   "cell_type": "code",
   "execution_count": null,
   "metadata": {},
   "outputs": [],
   "source": []
  },
  {
   "cell_type": "markdown",
   "metadata": {},
   "source": [
    "Second-Great-Low"
   ]
  },
  {
   "cell_type": "code",
   "execution_count": 66,
   "metadata": {},
   "outputs": [
    {
     "ename": "NameError",
     "evalue": "name 'raw_input' is not defined",
     "output_type": "error",
     "traceback": [
      "\u001b[1;31m---------------------------------------------------------------------------\u001b[0m",
      "\u001b[1;31mNameError\u001b[0m                                 Traceback (most recent call last)",
      "\u001b[1;32m<ipython-input-66-ce51b6089d4f>\u001b[0m in \u001b[0;36m<module>\u001b[1;34m\u001b[0m\n\u001b[0;32m     20\u001b[0m \u001b[1;31m# keep this function call here\u001b[0m\u001b[1;33m\u001b[0m\u001b[1;33m\u001b[0m\u001b[1;33m\u001b[0m\u001b[0m\n\u001b[0;32m     21\u001b[0m \u001b[1;31m# to see how to enter arguments in Python scroll down\u001b[0m\u001b[1;33m\u001b[0m\u001b[1;33m\u001b[0m\u001b[1;33m\u001b[0m\u001b[0m\n\u001b[1;32m---> 22\u001b[1;33m \u001b[0mprint\u001b[0m\u001b[1;33m(\u001b[0m\u001b[0mSecondGreatLow\u001b[0m\u001b[1;33m(\u001b[0m\u001b[0mraw_input\u001b[0m\u001b[1;33m(\u001b[0m\u001b[1;33m)\u001b[0m\u001b[1;33m)\u001b[0m\u001b[1;33m)\u001b[0m\u001b[1;33m\u001b[0m\u001b[1;33m\u001b[0m\u001b[0m\n\u001b[0m",
      "\u001b[1;31mNameError\u001b[0m: name 'raw_input' is not defined"
     ]
    }
   ],
   "source": [
    "# Second Great Low                                                                    \n",
    "\n",
    "# SecondGreatLow(arr) take the array \n",
    "# of numbers stored in arr and return the second lowest and second greatest numbers,  \n",
    "# respectively, separated by a space. For example: if arr contains                    \n",
    "# [7, 7, 12, 98, 106] the output should be 12 98. The array will not be empty and     \n",
    "# will contain at least 2 numbers. It can get tricky if there's just two numbers!     \n",
    "\n",
    "def SecondGreatLow(arr): \n",
    "  arr = sorted(arr)\n",
    "\n",
    "  for i in range(0, len(arr)-1):\n",
    "        if arr[i] == arr[i+1]:\n",
    "            low = i+1\n",
    "        elif arr[i] < arr[i+1]:\n",
    "            low = i+1\n",
    "            break          \n",
    "  return str(arr[low]) + ' ' + str(arr[-2]) \n",
    "    \n",
    "# keep this function call here  \n",
    "# to see how to enter arguments in Python scroll down\n",
    "print(SecondGreatLow(raw_input()))"
   ]
  },
  {
   "cell_type": "code",
   "execution_count": null,
   "metadata": {},
   "outputs": [],
   "source": []
  },
  {
   "cell_type": "markdown",
   "metadata": {},
   "source": [
    "Counting-Minutes-I"
   ]
  },
  {
   "cell_type": "code",
   "execution_count": 67,
   "metadata": {},
   "outputs": [],
   "source": [
    "# Using the Python language, have the function CountingMinutesI(str) take the str parameter being passed \n",
    "# which will be two times (each properly formatted with a colon and am or pm) separated by a hyphen \n",
    "# and return the total number of minutes between the two times. \n",
    "# The time will be in a 12 hour clock format. For example: if str is 9:00am-10:00am then the output should be 60. \n",
    "# If str is 1:00pm-11:00am the output should be 1320. \n",
    "\n",
    "def CountingMinutesI(str):\n",
    "    times = str.split(\"-\")\n",
    "    time1 = times[0][:-2], times[0][-2:]\n",
    "    time2 = times[1][:-2], times[1][-2:]\n",
    "    hours12 = 720\n",
    "    hours24 = 1440\n",
    "\n",
    "    def getMinutes(time, amOrPm):\n",
    "        arr = time.split(\":\")\n",
    "        hours = arr[0]\n",
    "        minutes = arr[1]\n",
    "        res = 0\n",
    "        if amOrPm == \"pm\":\n",
    "            res = int(hours) * 60 + hours12 + int(minutes)\n",
    "        if amOrPm == \"am\":\n",
    "            res = int(hours) * 60 + int(minutes)\n",
    "        return res\n",
    "\n",
    "    min1 = getMinutes(*time1)\n",
    "    min2 = getMinutes(*time2)\n",
    "\n",
    "    if min2 > min1:\n",
    "        return min2 - min1\n",
    "    elif min1 > min2:\n",
    "        return hours24 - min1 + min2"
   ]
  },
  {
   "cell_type": "code",
   "execution_count": null,
   "metadata": {},
   "outputs": [],
   "source": []
  },
  {
   "cell_type": "markdown",
   "metadata": {},
   "source": [
    "Mean-Mode"
   ]
  },
  {
   "cell_type": "code",
   "execution_count": 68,
   "metadata": {},
   "outputs": [],
   "source": [
    "# Using the Python language, have the function MeanMode(arr) take the array of numbers stored in arr \n",
    "# and return 1 if the mode equals the mean, 0 if they don't equal each other\n",
    "# (ie. [5, 3, 3, 3, 1] should return 1 because the mode (3) equals the mean (3)). \n",
    "# The array will not be empty, will only contain positive integers, and will not contain more than one mode. \n",
    "\n",
    "def MeanMode(arr):\n",
    "  mean = reduce(lambda x,y: x + y, arr)/float(len(arr))\n",
    "  def getMode(arr):\n",
    "      storage = {}\n",
    "      for num in arr:\n",
    "        try:\n",
    "            storage[num] = storage[num] + 1\n",
    "        except: storage[num] = 1\n",
    "      tempMode = max(storage, key=lambda k: storage[k])\n",
    "      return tempMode   \n",
    "  mode = getMode(arr)\n",
    "  return 1 if mean == mode else 0 "
   ]
  },
  {
   "cell_type": "code",
   "execution_count": null,
   "metadata": {},
   "outputs": [],
   "source": []
  },
  {
   "cell_type": "markdown",
   "metadata": {},
   "source": [
    "Dash-Insert"
   ]
  },
  {
   "cell_type": "code",
   "execution_count": 69,
   "metadata": {},
   "outputs": [],
   "source": [
    "# Using the Python language, have the function DashInsert(str) insert dashes ('-') between each two odd numbers in str. \n",
    "# For example: if str is 454793 the output should be 4547-9-3. Don't count zero as an odd number. \n",
    "\n",
    "def DashInsert(str):\n",
    "  res = list()\n",
    "  for i in range(len(str)):\n",
    "     num = str[i]\n",
    "     res.append(num)\n",
    "     if int(num) % 2 != 0 and i != len(str) - 1 and int(str[i + 1]) % 2 != 0:\n",
    "         res.append(\"-\")\n",
    "\n",
    "  return ''.join(res)\n",
    "\n",
    "  "
   ]
  },
  {
   "cell_type": "code",
   "execution_count": null,
   "metadata": {},
   "outputs": [],
   "source": []
  },
  {
   "cell_type": "markdown",
   "metadata": {},
   "source": [
    "SwapCase"
   ]
  },
  {
   "cell_type": "code",
   "execution_count": 70,
   "metadata": {},
   "outputs": [],
   "source": [
    "# *  Swap Case                                                                           *\n",
    "# *  have the function SwapCase(str) take the str         *\n",
    "# *  parameter and swap the case of each character. For example: if str is \"Hello World\" *\n",
    "# *  the output should be hELLO wORLD. Let numbers and symbols stay the way they are.    *    \n",
    "\n",
    "def SwapCase(str):\n",
    "    res = []\n",
    "    for l in list(str):\n",
    "        if l == l.upper():\n",
    "            res.append(l.lower())\n",
    "        else:\n",
    "            res.append(l.upper())\n",
    "    return ''.join(res)"
   ]
  },
  {
   "cell_type": "code",
   "execution_count": null,
   "metadata": {},
   "outputs": [],
   "source": []
  },
  {
   "cell_type": "markdown",
   "metadata": {},
   "source": [
    "Number-Addition"
   ]
  },
  {
   "cell_type": "code",
   "execution_count": 71,
   "metadata": {},
   "outputs": [],
   "source": [
    "# Using the Python language, have the function NumberSearch(str) take the str parameter, \n",
    "# search for all the numbers in the string, add them together, then return that final number. \n",
    "# For example: if str is \"88Hello 3World!\" the output should be 91. \n",
    "# You will have to differentiate between single digit numbers and multiple digit numbers like in the example above. \n",
    "# So \"55Hello\" and \"5Hello 5\" should return two different answers. Each string will contain at least one letter or symbol. \n",
    "\n",
    "import re\n",
    "def NumberAddition(str):\n",
    "    list = re.split(\"[^0-9]\", str)  \n",
    "    numbers = filter(None, list)\n",
    "    total = reduce(lambda x,y: int(x) + int(y), numbers)\n",
    "    return total"
   ]
  },
  {
   "cell_type": "code",
   "execution_count": null,
   "metadata": {},
   "outputs": [],
   "source": []
  },
  {
   "cell_type": "markdown",
   "metadata": {},
   "source": [
    "Third-Greatest"
   ]
  },
  {
   "cell_type": "code",
   "execution_count": 72,
   "metadata": {},
   "outputs": [],
   "source": [
    "# Using the Python language, have the function ThirdGreatest(strArr) take the array of strings stored in strArr\n",
    "# and return the third largest word within in. So for example:\n",
    "# if strArr is [\"hello\", \"world\", \"before\", \"all\"] your output should be world because \"before\" is 6 letters long,\n",
    "# and \"hello\" and \"world\" are both 5, but the output should be world because it appeared as the last 5 letter word in the array.\n",
    "# If strArr was [\"hello\", \"world\", \"after\", \"all\"] the output should be after because the first three words are all 5 letters long, so return the last one.\n",
    "# The array will have at least three strings and each string will only contain letters.\n",
    "\n",
    "def ThirdGreatest(strArr):\n",
    "    strArr.sort(key=len, reverse=True)\n",
    "    return strArr[2]"
   ]
  },
  {
   "cell_type": "code",
   "execution_count": null,
   "metadata": {},
   "outputs": [],
   "source": []
  },
  {
   "cell_type": "markdown",
   "metadata": {},
   "source": [
    "Powers-of-Two"
   ]
  },
  {
   "cell_type": "code",
   "execution_count": 73,
   "metadata": {},
   "outputs": [],
   "source": [
    "# Using the Python language, have the function PowersofTwo(num) take the num parameter being passed \n",
    "# which will be an integer and return the string true if it's a power of two. \n",
    "# If it's not return the string false. For example if the input is 16 then your program should return the string true \n",
    "# but if the input is 22 then the output should be the string false. \n",
    "\n",
    "def PowersOfTwo(num):\n",
    "    while num > 1:\n",
    "        if num == 2.0:\n",
    "            return \"true\"\n",
    "        else:\n",
    "            num = float(num)/float(2)\n",
    "    return \"false\""
   ]
  },
  {
   "cell_type": "code",
   "execution_count": null,
   "metadata": {},
   "outputs": [],
   "source": []
  },
  {
   "cell_type": "markdown",
   "metadata": {},
   "source": [
    "Additive-Persistence"
   ]
  },
  {
   "cell_type": "code",
   "execution_count": 74,
   "metadata": {},
   "outputs": [],
   "source": [
    "# Using the Python language, have the function AdditivePersistence(num) take the num parameter being passed \n",
    "# which will always be a positive integer and return its additive persistence \n",
    "# which is the number of times you must add the digits in num until you reach a single digit. \n",
    "# For example: if num is 2718 then your program should return 2 because 2 + 7 + 1 + 8 = 18 and 1 + 8 = 9 and you stop at 9. \n",
    "\n",
    "def AdditivePersistence(num):\n",
    "    count = 0\n",
    "    ls = list(str(num))\n",
    "    while len(ls) > 1:\n",
    "        newNum = reduce(lambda x,y: int(x) + int(y), ls)\n",
    "        ls = list(str(newNum))\n",
    "        count += 1\n",
    "    return count"
   ]
  },
  {
   "cell_type": "code",
   "execution_count": null,
   "metadata": {},
   "outputs": [],
   "source": []
  },
  {
   "cell_type": "markdown",
   "metadata": {},
   "source": [
    "Multiplicative-Persistence"
   ]
  },
  {
   "cell_type": "code",
   "execution_count": 75,
   "metadata": {},
   "outputs": [],
   "source": [
    "# *  Multiplicative Persistence                                                          *\n",
    "# *  have the function FirstFactorial(num) take the num   *\n",
    "# *  parameter being passed and return the factorial of it (ie. if num = 4,              *\n",
    "# *  return (4 * 3 * 2 * 1)). For the test cases, the range will be between 1 and 18.    *    \n",
    "\n",
    "def MultiplicativePersistence(num):\n",
    "    count = 0\n",
    "    ls = list(str(num))\n",
    "    while len(ls) > 1:\n",
    "        n = reduce(lambda x,y: int(x) * int(y), ls)\n",
    "        ls = list(str(n))\n",
    "        num = str(n)\n",
    "        count += 1\n",
    "    return count"
   ]
  },
  {
   "cell_type": "code",
   "execution_count": null,
   "metadata": {},
   "outputs": [],
   "source": []
  },
  {
   "cell_type": "markdown",
   "metadata": {},
   "source": [
    "Off-Line-Minimum"
   ]
  },
  {
   "cell_type": "code",
   "execution_count": 76,
   "metadata": {},
   "outputs": [],
   "source": [
    "# *  OffLine Minimum                                                                     *\n",
    "\n",
    "# *  have the function OffLineMinimum(strArr) take the    *\n",
    "# *  strArr parameter being passed which will be an array of integers ranging from       *\n",
    "# *  1...n and the letter \"E\" and return the correct subset based on the following       *\n",
    "# *  rules. The input will be in the following format: [\"I\",\"I\",\"E\",\"I\",...,\"E\",...,\"I\"] *\n",
    "# *  where the I's stand for integers and the E means take out the smallest integer      *\n",
    "# *  currently in the whole set. When finished, your program should return that new set  *\n",
    "# *  with integers separated by commas. For example: if strArr is                        *\n",
    "# *  [\"5\",\"4\",\"6\",\"E\",\"1\",\"7\",\"E\",\"E\",\"3\",\"2\"] then your program should return 4,1,5.    * \n",
    "\n",
    "def OffLineMinimum(strArr):\n",
    "    currentNumbers = list()\n",
    "    result = list()\n",
    "    for idx,ch in enumerate(strArr):\n",
    "        if unicode(ch).isnumeric():\n",
    "            currentNumbers.append(int(ch))\n",
    "        elif ch == \"E\":\n",
    "            currentNumbers = sorted(currentNumbers)\n",
    "            result.append(currentNumbers[0])\n",
    "            currentNumbers.pop(0)\n",
    "            \n",
    "    return result        "
   ]
  },
  {
   "cell_type": "code",
   "execution_count": 77,
   "metadata": {},
   "outputs": [],
   "source": [
    "#20191128 tamamlandı."
   ]
  },
  {
   "cell_type": "code",
   "execution_count": null,
   "metadata": {},
   "outputs": [],
   "source": []
  }
 ],
 "metadata": {
  "kernelspec": {
   "display_name": "Python 3",
   "language": "python",
   "name": "python3"
  },
  "language_info": {
   "codemirror_mode": {
    "name": "ipython",
    "version": 3
   },
   "file_extension": ".py",
   "mimetype": "text/x-python",
   "name": "python",
   "nbconvert_exporter": "python",
   "pygments_lexer": "ipython3",
   "version": "3.7.4"
  }
 },
 "nbformat": 4,
 "nbformat_minor": 2
}
