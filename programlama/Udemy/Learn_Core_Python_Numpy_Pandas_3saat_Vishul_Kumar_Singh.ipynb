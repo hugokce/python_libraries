{
 "cells": [
  {
   "cell_type": "code",
   "execution_count": 1,
   "id": "a5cc98f9",
   "metadata": {},
   "outputs": [],
   "source": [
    "#https://www.udemy.com/course/learn-core-python-numpy-and-pandas/learn/lecture/14484446?start=15#overview\n",
    "#3 saat\n",
    "\n",
    "#colab dokümanları indirilemedi"
   ]
  },
  {
   "cell_type": "code",
   "execution_count": 1,
   "id": "74d1f00c",
   "metadata": {},
   "outputs": [],
   "source": [
    "import numpy as np"
   ]
  },
  {
   "cell_type": "code",
   "execution_count": 4,
   "id": "f4d19f93",
   "metadata": {},
   "outputs": [
    {
     "name": "stdout",
     "output_type": "stream",
     "text": [
      "1\n",
      "3\n",
      "5\n",
      "7\n",
      "9\n",
      "11\n",
      "13\n",
      "15\n",
      "17\n",
      "19\n"
     ]
    }
   ],
   "source": [
    "i=0\n",
    "while i<20:\n",
    "    if(i%2==0):\n",
    "        i=i+1\n",
    "        continue\n",
    "    print(i)\n",
    "    i=i+1\n",
    "\n",
    "#1 3 5 7 9 11 13 15 17 19 verir"
   ]
  },
  {
   "cell_type": "code",
   "execution_count": 5,
   "id": "bf634826",
   "metadata": {},
   "outputs": [
    {
     "name": "stdout",
     "output_type": "stream",
     "text": [
      "True\n"
     ]
    }
   ],
   "source": [
    "words = [\"The\",\"age\",\"of\",\"reason\"]\n",
    "x=\"The\" in words\n",
    "print(x) # True döner\n",
    "\n"
   ]
  },
  {
   "cell_type": "code",
   "execution_count": 6,
   "id": "91c1e981",
   "metadata": {},
   "outputs": [
    {
     "name": "stdout",
     "output_type": "stream",
     "text": [
      "True\n"
     ]
    }
   ],
   "source": [
    "nums = [3,4,8]\n",
    "x= 10 not in nums\n",
    "print(x) # True döner\n",
    "\n"
   ]
  },
  {
   "cell_type": "code",
   "execution_count": null,
   "id": "0b990a2d",
   "metadata": {},
   "outputs": [],
   "source": [
    "nums.append(14)\n",
    "len(nums)\n",
    "nums.insert(2,100) #2.index 100 ekler\n",
    "nums.index(10) #ilk olarak kaçıncı indexte yer aldığını verir\n",
    "max(nums)\n",
    "min(nums)\n",
    "nums.reverse() #matrisin tersini gösterir\n",
    "nums.remove() #sondan siler\n",
    "\n"
   ]
  },
  {
   "cell_type": "code",
   "execution_count": null,
   "id": "b657b5c5",
   "metadata": {},
   "outputs": [],
   "source": [
    "num=[5,8,10,12,10]\n",
    "while 10 in nums:\n",
    "    nums.remove(10)\n",
    "#tüm 10ları sil dedik\n",
    "\n"
   ]
  },
  {
   "cell_type": "code",
   "execution_count": 8,
   "id": "f628fdb2",
   "metadata": {},
   "outputs": [
    {
     "name": "stdout",
     "output_type": "stream",
     "text": [
      "Russell UK\n"
     ]
    }
   ],
   "source": [
    "#Functions:\n",
    "def name_of_philospher(name,country):\n",
    "    print(name,country)\n",
    "\n",
    "name_of_philospher(\"Russell\",\"UK\")"
   ]
  },
  {
   "cell_type": "code",
   "execution_count": 9,
   "id": "0b608c05",
   "metadata": {},
   "outputs": [
    {
     "name": "stdout",
     "output_type": "stream",
     "text": [
      "The philo Russell lived in country UK\n"
     ]
    }
   ],
   "source": [
    "def name_of_philospher(name,country):\n",
    "    str = \"The philo {} lived in country {}\".format(name,country)\n",
    "    return str\n",
    "\n",
    "str = name_of_philospher(\"Russell\",\"UK\")\n",
    "print(str)\n",
    "\n",
    "\n"
   ]
  },
  {
   "cell_type": "code",
   "execution_count": 10,
   "id": "154984a9",
   "metadata": {},
   "outputs": [
    {
     "name": "stdout",
     "output_type": "stream",
     "text": [
      "The sum is = 12\n",
      "The difference is = 8\n"
     ]
    }
   ],
   "source": [
    "def add_and_subtract(num1,num2):\n",
    "    add=num1+num2\n",
    "    diff=num1-num2\n",
    "    return add,diff\n",
    "\n",
    "add,diff = add_and_subtract(10,2)\n",
    "print(\"The sum is =\", add)\n",
    "print(\"The difference is =\",diff)"
   ]
  },
  {
   "cell_type": "code",
   "execution_count": 12,
   "id": "8d6e8358",
   "metadata": {},
   "outputs": [
    {
     "name": "stdout",
     "output_type": "stream",
     "text": [
      "The sum is = 12\n",
      "The difference is = 8\n"
     ]
    }
   ],
   "source": [
    "add,diff = add_and_subtract(num1=10,num2=2)\n",
    "print(\"The sum is =\", add)\n",
    "print(\"The difference is =\",diff)"
   ]
  },
  {
   "cell_type": "code",
   "execution_count": 14,
   "id": "6e31dde7",
   "metadata": {},
   "outputs": [
    {
     "name": "stdout",
     "output_type": "stream",
     "text": [
      "The sum is = 12\n",
      "The difference is = 8\n"
     ]
    }
   ],
   "source": [
    "add,diff = add_and_subtract(num2=2,num1=10)\n",
    "print(\"The sum is =\", add)\n",
    "print(\"The difference is =\",diff)"
   ]
  },
  {
   "cell_type": "code",
   "execution_count": 15,
   "id": "e6fbf2bd",
   "metadata": {},
   "outputs": [],
   "source": [
    "#return kelimesinden sonraki kodlar çalıştırılmaz"
   ]
  },
  {
   "cell_type": "code",
   "execution_count": 16,
   "id": "a9fab0c1",
   "metadata": {},
   "outputs": [],
   "source": [
    "def add_sum_diff(func,num1,num2):\n",
    "    x,y=func(num1,num2)\n",
    "    return x+y"
   ]
  },
  {
   "cell_type": "code",
   "execution_count": 18,
   "id": "9503356f",
   "metadata": {},
   "outputs": [
    {
     "name": "stdout",
     "output_type": "stream",
     "text": [
      "20\n"
     ]
    }
   ],
   "source": [
    "val=add_sum_diff(add_and_subtract,10,3)\n",
    "print(val)\n",
    "#10+3 = 13 \n",
    "#10-3=7\n",
    "#13+7=20"
   ]
  },
  {
   "cell_type": "code",
   "execution_count": 21,
   "id": "8b4a3be5",
   "metadata": {},
   "outputs": [
    {
     "name": "stdout",
     "output_type": "stream",
     "text": [
      "1\n",
      "2\n",
      "3\n",
      "4\n",
      "5\n"
     ]
    }
   ],
   "source": [
    "def add_numbers(*args):\n",
    "    for i in args:\n",
    "        print(i)\n",
    "        \n",
    "add_numbers(1,2,3,4,5)"
   ]
  },
  {
   "cell_type": "code",
   "execution_count": 22,
   "id": "65b50798",
   "metadata": {},
   "outputs": [
    {
     "name": "stdout",
     "output_type": "stream",
     "text": [
      "another keyword arg: num1: 1\n",
      "another keyword arg: num2: 2\n",
      "another keyword arg: num3: 3\n",
      "another keyword arg: num4: 4\n",
      "another keyword arg: num5: 5\n"
     ]
    }
   ],
   "source": [
    "def add_numbers(**kwargs):\n",
    "    for key in kwargs:\n",
    "        print(\"another keyword arg: {}: {}\".format(key, kwargs[key]))\n",
    "        \n",
    "add_numbers(num1=1,num2=2,num3=3,num4=4,num5=5)"
   ]
  },
  {
   "cell_type": "code",
   "execution_count": 23,
   "id": "4c4f536a",
   "metadata": {},
   "outputs": [],
   "source": [
    "#Python Modules"
   ]
  },
  {
   "cell_type": "code",
   "execution_count": 24,
   "id": "e0bddbde",
   "metadata": {},
   "outputs": [
    {
     "name": "stdout",
     "output_type": "stream",
     "text": [
      "4\n",
      "2\n",
      "3\n",
      "3\n",
      "6\n",
      "4\n"
     ]
    }
   ],
   "source": [
    "import random\n",
    "\n",
    "for i in range(6):\n",
    "    value=random.randint(1,8)\n",
    "    print(value)"
   ]
  },
  {
   "cell_type": "code",
   "execution_count": 26,
   "id": "94dcb7f3",
   "metadata": {},
   "outputs": [
    {
     "name": "stdout",
     "output_type": "stream",
     "text": [
      "1\n",
      "8\n",
      "6\n",
      "6\n",
      "2\n",
      "7\n"
     ]
    }
   ],
   "source": [
    "from random import randint\n",
    "\n",
    "for i in range(6):\n",
    "    value=randint(1,8)\n",
    "    print(value)"
   ]
  },
  {
   "cell_type": "code",
   "execution_count": 27,
   "id": "4ddeeb73",
   "metadata": {},
   "outputs": [
    {
     "name": "stdout",
     "output_type": "stream",
     "text": [
      "8\n",
      "5\n",
      "8\n",
      "3\n",
      "7\n",
      "7\n"
     ]
    }
   ],
   "source": [
    "from random import randint as my_rand_func\n",
    "\n",
    "for i in range(6):\n",
    "    value=my_rand_func(1,8)\n",
    "    print(value)"
   ]
  },
  {
   "cell_type": "code",
   "execution_count": 31,
   "id": "24802487",
   "metadata": {},
   "outputs": [
    {
     "name": "stdout",
     "output_type": "stream",
     "text": [
      "Requirement already satisfied: google-api-python-client in c:\\users\\bootcamp\\anaconda3\\lib\\site-packages (2.56.0)\n",
      "Requirement already satisfied: httplib2<1dev,>=0.15.0 in c:\\users\\bootcamp\\anaconda3\\lib\\site-packages (from google-api-python-client) (0.20.4)\n",
      "Requirement already satisfied: uritemplate<5,>=3.0.1 in c:\\users\\bootcamp\\anaconda3\\lib\\site-packages (from google-api-python-client) (4.1.1)\n",
      "Requirement already satisfied: google-auth<3.0.0dev,>=1.19.0 in c:\\users\\bootcamp\\anaconda3\\lib\\site-packages (from google-api-python-client) (2.3.3)\n",
      "Requirement already satisfied: google-auth-httplib2>=0.1.0 in c:\\users\\bootcamp\\anaconda3\\lib\\site-packages (from google-api-python-client) (0.1.0)\n",
      "Requirement already satisfied: google-api-core!=2.0.*,!=2.1.*,!=2.2.*,!=2.3.0,<3.0.0dev,>=1.31.5 in c:\\users\\bootcamp\\anaconda3\\lib\\site-packages (from google-api-python-client) (2.8.2)\n",
      "Requirement already satisfied: googleapis-common-protos<2.0dev,>=1.56.2 in c:\\users\\bootcamp\\anaconda3\\lib\\site-packages (from google-api-core!=2.0.*,!=2.1.*,!=2.2.*,!=2.3.0,<3.0.0dev,>=1.31.5->google-api-python-client) (1.56.4)\n",
      "Requirement already satisfied: requests<3.0.0dev,>=2.18.0 in c:\\users\\bootcamp\\anaconda3\\lib\\site-packages (from google-api-core!=2.0.*,!=2.1.*,!=2.2.*,!=2.3.0,<3.0.0dev,>=1.31.5->google-api-python-client) (2.27.1)\n",
      "Requirement already satisfied: protobuf<5.0.0dev,>=3.15.0 in c:\\users\\bootcamp\\anaconda3\\lib\\site-packages (from google-api-core!=2.0.*,!=2.1.*,!=2.2.*,!=2.3.0,<3.0.0dev,>=1.31.5->google-api-python-client) (3.19.3)\n",
      "Requirement already satisfied: rsa<5,>=3.1.4 in c:\\users\\bootcamp\\anaconda3\\lib\\site-packages (from google-auth<3.0.0dev,>=1.19.0->google-api-python-client) (4.8)\n",
      "Requirement already satisfied: cachetools<5.0,>=2.0.0 in c:\\users\\bootcamp\\anaconda3\\lib\\site-packages (from google-auth<3.0.0dev,>=1.19.0->google-api-python-client) (4.2.4)\n",
      "Requirement already satisfied: pyasn1-modules>=0.2.1 in c:\\users\\bootcamp\\anaconda3\\lib\\site-packages (from google-auth<3.0.0dev,>=1.19.0->google-api-python-client) (0.2.8)\n",
      "Requirement already satisfied: six>=1.9.0 in c:\\users\\bootcamp\\anaconda3\\lib\\site-packages (from google-auth<3.0.0dev,>=1.19.0->google-api-python-client) (1.16.0)\n",
      "Requirement already satisfied: setuptools>=40.3.0 in c:\\users\\bootcamp\\anaconda3\\lib\\site-packages (from google-auth<3.0.0dev,>=1.19.0->google-api-python-client) (61.2.0)\n",
      "Requirement already satisfied: pyparsing!=3.0.0,!=3.0.1,!=3.0.2,!=3.0.3,<4,>=2.4.2 in c:\\users\\bootcamp\\anaconda3\\lib\\site-packages (from httplib2<1dev,>=0.15.0->google-api-python-client) (3.0.4)\n",
      "Requirement already satisfied: pyasn1<0.5.0,>=0.4.6 in c:\\users\\bootcamp\\anaconda3\\lib\\site-packages (from pyasn1-modules>=0.2.1->google-auth<3.0.0dev,>=1.19.0->google-api-python-client) (0.4.8)\n",
      "Requirement already satisfied: urllib3<1.27,>=1.21.1 in c:\\users\\bootcamp\\anaconda3\\lib\\site-packages (from requests<3.0.0dev,>=2.18.0->google-api-core!=2.0.*,!=2.1.*,!=2.2.*,!=2.3.0,<3.0.0dev,>=1.31.5->google-api-python-client) (1.26.9)\n",
      "Requirement already satisfied: idna<4,>=2.5 in c:\\users\\bootcamp\\anaconda3\\lib\\site-packages (from requests<3.0.0dev,>=2.18.0->google-api-core!=2.0.*,!=2.1.*,!=2.2.*,!=2.3.0,<3.0.0dev,>=1.31.5->google-api-python-client) (3.3)\n",
      "Requirement already satisfied: certifi>=2017.4.17 in c:\\users\\bootcamp\\anaconda3\\lib\\site-packages (from requests<3.0.0dev,>=2.18.0->google-api-core!=2.0.*,!=2.1.*,!=2.2.*,!=2.3.0,<3.0.0dev,>=1.31.5->google-api-python-client) (2022.6.15)\n",
      "Requirement already satisfied: charset-normalizer~=2.0.0 in c:\\users\\bootcamp\\anaconda3\\lib\\site-packages (from requests<3.0.0dev,>=2.18.0->google-api-core!=2.0.*,!=2.1.*,!=2.2.*,!=2.3.0,<3.0.0dev,>=1.31.5->google-api-python-client) (2.0.4)\n"
     ]
    }
   ],
   "source": [
    "!pip install google-api-python-client"
   ]
  },
  {
   "cell_type": "code",
   "execution_count": 29,
   "id": "8db3eedd",
   "metadata": {},
   "outputs": [],
   "source": [
    "#Python Exceptions"
   ]
  },
  {
   "cell_type": "code",
   "execution_count": 32,
   "id": "703d8663",
   "metadata": {},
   "outputs": [],
   "source": [
    "num1=4\n",
    "num2=0\n",
    "#print(num1/num2)  hata verecek o yüzden kapalı\n",
    "#print(\"Exiting\")"
   ]
  },
  {
   "cell_type": "code",
   "execution_count": 33,
   "id": "351cf77e",
   "metadata": {},
   "outputs": [],
   "source": [
    "#ImportError\n",
    "#IndexError   out of range\n",
    "#SyntaxError  \n",
    "#TypeError    fonksiyon yanlış tip variable ile çağrılırsa\n",
    "#ValueError  istenen değerle çağrılmazsa bu uyarı gelir"
   ]
  },
  {
   "cell_type": "code",
   "execution_count": null,
   "id": "8d387d39",
   "metadata": {},
   "outputs": [],
   "source": [
    "#import nump1  \n",
    "#list=[1,2,3]  list[4]\n",
    "#liste={1,2,3]\n",
    "#x=int('One')\n",
    "#def add_num(num1,num2):\n",
    "#    return int(num1)+int(num2)  #value error\n",
    "#add_num(\"One\",\"Two\")"
   ]
  },
  {
   "cell_type": "code",
   "execution_count": 35,
   "id": "a0bbae6b",
   "metadata": {},
   "outputs": [
    {
     "name": "stdout",
     "output_type": "stream",
     "text": [
      "This statement will not be printed\n"
     ]
    }
   ],
   "source": [
    "try:\n",
    "    num1=8\n",
    "    num2=4  #0 yaparsak excepte gider\n",
    "    x=num1/num2\n",
    "    print(\"This statement will not be printed\")\n",
    "except ZeroDivisionError:\n",
    "    print(\"Zero Division Error\")"
   ]
  },
  {
   "cell_type": "code",
   "execution_count": 36,
   "id": "29eae4a7",
   "metadata": {},
   "outputs": [
    {
     "name": "stdout",
     "output_type": "stream",
     "text": [
      "Error Occured\n"
     ]
    }
   ],
   "source": [
    "try:\n",
    "    variable=10\n",
    "    print(variable+\"Hello\")\n",
    "    print(variable/2)\n",
    "    \n",
    "except ZeroDivisionError:\n",
    "    print(\"Divided by Zero\")\n",
    "except(ValueError,TypeError):\n",
    "    print(\"Error Occured\")"
   ]
  },
  {
   "cell_type": "code",
   "execution_count": 37,
   "id": "cb225d27",
   "metadata": {},
   "outputs": [
    {
     "name": "stdout",
     "output_type": "stream",
     "text": [
      "Error Occured\n"
     ]
    }
   ],
   "source": [
    "try:\n",
    "    4/0\n",
    "except:\n",
    "    print(\"Error Occured\")"
   ]
  },
  {
   "cell_type": "code",
   "execution_count": 38,
   "id": "a2a82ab1",
   "metadata": {},
   "outputs": [
    {
     "name": "stdout",
     "output_type": "stream",
     "text": [
      "Step 1\n",
      "Divided by Zero\n",
      "This will be always executed\n"
     ]
    }
   ],
   "source": [
    "try:\n",
    "    print(\"Step 1\")\n",
    "    4/0    \n",
    "except ZeroDivisionError:\n",
    "    print(\"Divided by Zero\")\n",
    "\n",
    "finally:\n",
    "    print(\"This will be always executed\")"
   ]
  },
  {
   "cell_type": "code",
   "execution_count": 42,
   "id": "0f030336",
   "metadata": {},
   "outputs": [
    {
     "name": "stdout",
     "output_type": "stream",
     "text": [
      "\n",
      "This will be always executed\n"
     ]
    }
   ],
   "source": [
    "try:\n",
    "    print(8/0)    \n",
    "except ZeroDivisionError:\n",
    "    print()#print(unknown_data) geniş hata bunu açınca olur \n",
    "    #print() boşluk oluşsun diye ekledim\n",
    "finally:\n",
    "    print(\"This will be always executed\")"
   ]
  },
  {
   "cell_type": "code",
   "execution_count": 44,
   "id": "4e5b0403",
   "metadata": {},
   "outputs": [
    {
     "name": "stdout",
     "output_type": "stream",
     "text": [
      "data1\n",
      "2\n"
     ]
    }
   ],
   "source": [
    "print(\"data1\")\n",
    "#raise ValueError #kod açılınca ValueError görünür\n",
    "print(\"2\")"
   ]
  },
  {
   "cell_type": "code",
   "execution_count": 46,
   "id": "1aab00a1",
   "metadata": {},
   "outputs": [],
   "source": [
    "name=\"123\"\n",
    "#raise NameError(\"Invalid Name\") #kod açılınca ValueError görünür"
   ]
  },
  {
   "cell_type": "code",
   "execution_count": 49,
   "id": "40a8572d",
   "metadata": {},
   "outputs": [
    {
     "data": {
      "text/plain": [
       "'try:\\n    num=5/0\\nexcept:\\n    print(\"Error occured\")\\n    raise\\n'"
      ]
     },
     "execution_count": 49,
     "metadata": {},
     "output_type": "execute_result"
    }
   ],
   "source": [
    "\"\"\"try:\n",
    "    num=5/0\n",
    "except:\n",
    "    print(\"Error occured\")\n",
    "    raise\n",
    "\"\"\" #kod açılınca division by zero görünür"
   ]
  },
  {
   "cell_type": "code",
   "execution_count": 51,
   "id": "debf07e7",
   "metadata": {},
   "outputs": [
    {
     "name": "stdout",
     "output_type": "stream",
     "text": [
      "An exception of type ZeroDivisionError occured. Arguments:\n",
      "('division by zero',)\n",
      "Error\n"
     ]
    }
   ],
   "source": [
    "def my_func():\n",
    "    try:\n",
    "        4/0  #ZeroDivisionError fırlatır\n",
    "    except Exception as ex:\n",
    "        template=\"An exception of type {0} occured. Arguments:\\n{1!r}\"\n",
    "        message=template.format(type(ex).__name__,ex.args)\n",
    "        print(message)\n",
    "        raise # The ZeroDivisionError is propogated out\n",
    "        \n",
    "def another_func():\n",
    "    try:\n",
    "        my_func()\n",
    "    except ZeroDivisionError: #The ZeroDivisionError is caught\n",
    "        print('Error')\n",
    "        \n",
    "another_func()"
   ]
  },
  {
   "cell_type": "code",
   "execution_count": 52,
   "id": "ab6e472c",
   "metadata": {},
   "outputs": [],
   "source": [
    "#File Handling "
   ]
  },
  {
   "cell_type": "code",
   "execution_count": 2,
   "id": "3e964ad5",
   "metadata": {},
   "outputs": [],
   "source": [
    "my_file = open(\"philosphers.txt\",\"w\")"
   ]
  },
  {
   "cell_type": "code",
   "execution_count": 3,
   "id": "62857989",
   "metadata": {},
   "outputs": [],
   "source": [
    "lines=['The great philosphers of the world\\n','John Locke\\n','Kant\\n']\n",
    "my_file.writelines(lines)\n",
    "my_file.close()"
   ]
  },
  {
   "cell_type": "code",
   "execution_count": 4,
   "id": "42ed2202",
   "metadata": {},
   "outputs": [
    {
     "name": "stdout",
     "output_type": "stream",
     "text": [
      "The great philosphers of the world\n",
      "John Locke\n",
      "Kant\n",
      "\n"
     ]
    }
   ],
   "source": [
    "my_file=open(\"philosphers.txt\",\"r\")\n",
    "file_data=my_file.read()\n",
    "print(file_data)\n",
    "my_file.close()"
   ]
  },
  {
   "cell_type": "code",
   "execution_count": 5,
   "id": "42fbaca6",
   "metadata": {},
   "outputs": [],
   "source": [
    "my_file=open(\"philosphers.txt\",\"w\")\n",
    "my_file.write(\"John Locke\\n\")\n",
    "my_file.close()\n",
    "#üstüne yazdı eskisini sildi"
   ]
  },
  {
   "cell_type": "code",
   "execution_count": 6,
   "id": "0b57223f",
   "metadata": {},
   "outputs": [
    {
     "name": "stdout",
     "output_type": "stream",
     "text": [
      "John Locke\n",
      "\n"
     ]
    }
   ],
   "source": [
    "my_file=open(\"philosphers.txt\",\"r\")\n",
    "file_data=my_file.read()\n",
    "print(file_data)\n",
    "my_file.close()"
   ]
  },
  {
   "cell_type": "code",
   "execution_count": 7,
   "id": "2906efd0",
   "metadata": {},
   "outputs": [],
   "source": [
    "my_file=open(\"philosphers.txt\",\"a\")\n",
    "my_file.write(\"Immanuel Kant\\n\")\n",
    "my_file.close()"
   ]
  },
  {
   "cell_type": "code",
   "execution_count": 8,
   "id": "2e635aba",
   "metadata": {},
   "outputs": [
    {
     "name": "stdout",
     "output_type": "stream",
     "text": [
      "John Locke\n",
      "Immanuel Kant\n",
      "\n"
     ]
    }
   ],
   "source": [
    "my_file=open(\"philosphers.txt\",\"r\")\n",
    "file_data=my_file.read()\n",
    "print(file_data)\n",
    "my_file.close()"
   ]
  },
  {
   "cell_type": "code",
   "execution_count": 10,
   "id": "5c01cf10",
   "metadata": {},
   "outputs": [],
   "source": [
    "try:\n",
    "    my_file=open(\"philosphers.txt\",\"w\")\n",
    "    my_file.write(\"The great philosphers of the world\")\n",
    "finally:\n",
    "    my_file.close()"
   ]
  },
  {
   "cell_type": "code",
   "execution_count": 11,
   "id": "7a4267b3",
   "metadata": {},
   "outputs": [
    {
     "name": "stdout",
     "output_type": "stream",
     "text": [
      "The great philosphers of the world\n"
     ]
    }
   ],
   "source": [
    "with open(\"philosphers.txt\") as f:\n",
    "    print(f.read())"
   ]
  },
  {
   "cell_type": "code",
   "execution_count": 12,
   "id": "5deeb883",
   "metadata": {},
   "outputs": [
    {
     "name": "stdout",
     "output_type": "stream",
     "text": [
      "True\n"
     ]
    }
   ],
   "source": [
    "x=(None==None)\n",
    "print(x)"
   ]
  },
  {
   "cell_type": "code",
   "execution_count": 13,
   "id": "084a6ba4",
   "metadata": {},
   "outputs": [
    {
     "name": "stdout",
     "output_type": "stream",
     "text": [
      "False\n"
     ]
    }
   ],
   "source": [
    "x=(None==True)\n",
    "print(x)"
   ]
  },
  {
   "cell_type": "code",
   "execution_count": 14,
   "id": "3fde1ca3",
   "metadata": {},
   "outputs": [
    {
     "name": "stdout",
     "output_type": "stream",
     "text": [
      "False\n"
     ]
    }
   ],
   "source": [
    "x=(None==False)\n",
    "print(x)"
   ]
  },
  {
   "cell_type": "code",
   "execution_count": 15,
   "id": "31a65685",
   "metadata": {},
   "outputs": [],
   "source": [
    "def afunc():\n",
    "    print(\"Hello\")"
   ]
  },
  {
   "cell_type": "code",
   "execution_count": 16,
   "id": "58908f81",
   "metadata": {},
   "outputs": [
    {
     "name": "stdout",
     "output_type": "stream",
     "text": [
      "Hello\n",
      "None\n"
     ]
    }
   ],
   "source": [
    "print(afunc())"
   ]
  },
  {
   "cell_type": "code",
   "execution_count": 17,
   "id": "dc655bfc",
   "metadata": {},
   "outputs": [],
   "source": [
    "#Dictionaries"
   ]
  },
  {
   "cell_type": "code",
   "execution_count": 18,
   "id": "b584bf1d",
   "metadata": {},
   "outputs": [
    {
     "name": "stdout",
     "output_type": "stream",
     "text": [
      "Russell\n"
     ]
    }
   ],
   "source": [
    "philosphers={\"UK\":\"Russell\",\"Germany\":\"Karl Marx\"}\n",
    "print(philosphers[\"UK\"])"
   ]
  },
  {
   "cell_type": "code",
   "execution_count": 19,
   "id": "ef04c4a4",
   "metadata": {},
   "outputs": [
    {
     "name": "stdout",
     "output_type": "stream",
     "text": [
      "Karl Marx\n"
     ]
    }
   ],
   "source": [
    "print(philosphers[\"Germany\"])"
   ]
  },
  {
   "cell_type": "code",
   "execution_count": 20,
   "id": "c120050b",
   "metadata": {},
   "outputs": [],
   "source": [
    "#philosphers[\"India\"] hata döndürür keyerror"
   ]
  },
  {
   "cell_type": "code",
   "execution_count": 22,
   "id": "4cbd7ac6",
   "metadata": {},
   "outputs": [],
   "source": [
    "#d={[1,2,3,]:\"One Two Three\"}\n",
    "#print(d) type hatası verir"
   ]
  },
  {
   "cell_type": "code",
   "execution_count": 23,
   "id": "7f566fd5",
   "metadata": {},
   "outputs": [
    {
     "name": "stdout",
     "output_type": "stream",
     "text": [
      "{'UK': 'John Stuart Mill', 'Germany': 'Karl Marx', 'India': 'AryaBhatt', 'USA': 'John Dewey'}\n"
     ]
    }
   ],
   "source": [
    "philosphers={\"UK\":\"Russell\",\"Germany\":\"Karl Marx\",\"India\":\"None\"}\n",
    "philosphers[\"India\"]=\"AryaBhatt\"\n",
    "philosphers[\"UK\"]=\"John Stuart Mill\"\n",
    "philosphers[\"USA\"]=\"John Dewey\"\n",
    "\n",
    "print(philosphers)"
   ]
  },
  {
   "cell_type": "code",
   "execution_count": 28,
   "id": "c5afb8c3",
   "metadata": {},
   "outputs": [
    {
     "name": "stdout",
     "output_type": "stream",
     "text": [
      "True\n",
      "False\n",
      "True\n"
     ]
    }
   ],
   "source": [
    "philosphers={\"UK\":\"Russell\",\"Germany\":\"Karl Marx\",\"India\":\"Arya Bhatt\"}\n",
    "print(\"India\" in philosphers)\n",
    "print(\"Brazil\" in philosphers)\n",
    "print(\"Brazil\" not in philosphers)"
   ]
  },
  {
   "cell_type": "code",
   "execution_count": 30,
   "id": "94daba91",
   "metadata": {},
   "outputs": [
    {
     "name": "stdout",
     "output_type": "stream",
     "text": [
      "No philospher set for Russia\n",
      "None\n"
     ]
    }
   ],
   "source": [
    "philosphers={\"UK\":\"Russell\",\"Germany\":\"Karl Marx\",\"India\":\"Arya Bhatt\"}\n",
    "print(philosphers.get(\"Russia\",\"No philospher set for Russia\"))\n",
    "print(philosphers.get(\"Russia\"))\n",
    "#print(philosphers[\"Russia\"]) #keyerror verir"
   ]
  },
  {
   "cell_type": "code",
   "execution_count": 31,
   "id": "9cab2a8f",
   "metadata": {},
   "outputs": [],
   "source": [
    "#Tuples"
   ]
  },
  {
   "cell_type": "code",
   "execution_count": 32,
   "id": "3d016107",
   "metadata": {},
   "outputs": [
    {
     "name": "stdout",
     "output_type": "stream",
     "text": [
      "Russell\n"
     ]
    }
   ],
   "source": [
    "philosphers=(\"Russell\",\"Karl Marx\",\"Arya Bhatt\")\n",
    "print(philosphers[0])"
   ]
  },
  {
   "cell_type": "code",
   "execution_count": 34,
   "id": "5bdbb219",
   "metadata": {},
   "outputs": [],
   "source": [
    "#philosphers[0]=\"John Locke\" #atama yapılamaz"
   ]
  },
  {
   "cell_type": "code",
   "execution_count": 35,
   "id": "e02e9787",
   "metadata": {},
   "outputs": [],
   "source": [
    "def multiple_ret_params():\n",
    "    return 1,2,3"
   ]
  },
  {
   "cell_type": "code",
   "execution_count": 36,
   "id": "c2500977",
   "metadata": {},
   "outputs": [
    {
     "name": "stdout",
     "output_type": "stream",
     "text": [
      "<class 'tuple'>\n"
     ]
    }
   ],
   "source": [
    "x=multiple_ret_params()\n",
    "print(type(x))"
   ]
  },
  {
   "cell_type": "code",
   "execution_count": 37,
   "id": "b0b381c7",
   "metadata": {},
   "outputs": [],
   "source": [
    "def func(*arg):\n",
    "    print(\"The argument type is\", type(arg))\n",
    "    pass"
   ]
  },
  {
   "cell_type": "code",
   "execution_count": 38,
   "id": "75673842",
   "metadata": {},
   "outputs": [
    {
     "name": "stdout",
     "output_type": "stream",
     "text": [
      "The argument type is <class 'tuple'>\n"
     ]
    }
   ],
   "source": [
    "func(1,2,3)"
   ]
  },
  {
   "cell_type": "code",
   "execution_count": 39,
   "id": "314c6679",
   "metadata": {},
   "outputs": [
    {
     "name": "stdout",
     "output_type": "stream",
     "text": [
      "Arya Bhatt\n"
     ]
    }
   ],
   "source": [
    "#PArantezsiz de oluşturulabilir\n",
    "philosphers=\"Russell\",\"Karl Marx\",\"Arya Bhatt\"\n",
    "print(philosphers[2])"
   ]
  },
  {
   "cell_type": "code",
   "execution_count": 44,
   "id": "5357c64b",
   "metadata": {},
   "outputs": [
    {
     "name": "stdout",
     "output_type": "stream",
     "text": [
      "[4, 9, 16, 25]\n",
      "[0]\n"
     ]
    }
   ],
   "source": [
    "#List Slices\n",
    "squared=[0,1,4,9,16,25,36,49,64,81]\n",
    "print(squared[2:6])\n",
    "print(squared[0:1])"
   ]
  },
  {
   "cell_type": "code",
   "execution_count": 45,
   "id": "b5a163db",
   "metadata": {},
   "outputs": [
    {
     "name": "stdout",
     "output_type": "stream",
     "text": [
      "[0, 4, 16, 36, 64]\n"
     ]
    }
   ],
   "source": [
    "print(squared[::2])"
   ]
  },
  {
   "cell_type": "code",
   "execution_count": 46,
   "id": "555f667c",
   "metadata": {},
   "outputs": [
    {
     "name": "stdout",
     "output_type": "stream",
     "text": [
      "[4, 25]\n"
     ]
    }
   ],
   "source": [
    "print(squared[2:8:3])"
   ]
  },
  {
   "cell_type": "code",
   "execution_count": 47,
   "id": "2a5a354b",
   "metadata": {},
   "outputs": [
    {
     "name": "stdout",
     "output_type": "stream",
     "text": [
      "[1, 4, 9, 16, 25, 36, 49, 64]\n"
     ]
    }
   ],
   "source": [
    "print(squared[1:-1])"
   ]
  },
  {
   "cell_type": "code",
   "execution_count": 48,
   "id": "b8cf7dd3",
   "metadata": {},
   "outputs": [
    {
     "name": "stdout",
     "output_type": "stream",
     "text": [
      "[0, 1, 4, 9, 16, 25, 36, 49, 64]\n"
     ]
    }
   ],
   "source": [
    "print(squared[:-1])"
   ]
  },
  {
   "cell_type": "code",
   "execution_count": 49,
   "id": "64730a40",
   "metadata": {},
   "outputs": [
    {
     "name": "stdout",
     "output_type": "stream",
     "text": [
      "[0, 4, 16, 36, 64]\n"
     ]
    }
   ],
   "source": [
    "print(squared[:-1:2])"
   ]
  },
  {
   "cell_type": "code",
   "execution_count": 50,
   "id": "9570ead8",
   "metadata": {},
   "outputs": [],
   "source": [
    "#List comprehensions"
   ]
  },
  {
   "cell_type": "code",
   "execution_count": 53,
   "id": "0fc8ee2a",
   "metadata": {},
   "outputs": [
    {
     "name": "stdout",
     "output_type": "stream",
     "text": [
      "[0, 1, 4, 9, 16]\n"
     ]
    }
   ],
   "source": [
    "square=[a*a for a in range(5)]\n",
    "print(square)"
   ]
  },
  {
   "cell_type": "code",
   "execution_count": 54,
   "id": "95977d29",
   "metadata": {},
   "outputs": [
    {
     "name": "stdout",
     "output_type": "stream",
     "text": [
      "[0, 9]\n"
     ]
    }
   ],
   "source": [
    "square=[a*a for a in range(5) if a%3==0]\n",
    "print(square)"
   ]
  },
  {
   "cell_type": "code",
   "execution_count": 55,
   "id": "7a6b2220",
   "metadata": {},
   "outputs": [],
   "source": [
    "#String Functions"
   ]
  },
  {
   "cell_type": "code",
   "execution_count": 56,
   "id": "4cd4b732",
   "metadata": {},
   "outputs": [
    {
     "name": "stdout",
     "output_type": "stream",
     "text": [
      "The numbers are 1,2,3\n"
     ]
    }
   ],
   "source": [
    "nums=[1,2,3]\n",
    "out=\"The numbers are {},{},{}\".format(nums[0],nums[1],nums[2])\n",
    "print(out)"
   ]
  },
  {
   "cell_type": "code",
   "execution_count": 57,
   "id": "2e836a5d",
   "metadata": {},
   "outputs": [
    {
     "name": "stdout",
     "output_type": "stream",
     "text": [
      "The numbers are 1,2,3\n"
     ]
    }
   ],
   "source": [
    "out=\"The numbers are {a},{b},{c}\".format(b=nums[1],a=nums[0],c=nums[2])\n",
    "print(out)"
   ]
  },
  {
   "cell_type": "code",
   "execution_count": 58,
   "id": "299d850a",
   "metadata": {},
   "outputs": [
    {
     "name": "stdout",
     "output_type": "stream",
     "text": [
      "Life,is,good\n"
     ]
    }
   ],
   "source": [
    "str=\",\".join([\"Life\", \"is\", \"good\"])\n",
    "print(str)"
   ]
  },
  {
   "cell_type": "code",
   "execution_count": 59,
   "id": "191770dc",
   "metadata": {},
   "outputs": [
    {
     "name": "stdout",
     "output_type": "stream",
     "text": [
      "('Life', 'is', 'strange')\n"
     ]
    }
   ],
   "source": [
    "str=\"Life\", \"is\", \"good\".replace(\"good\",\"strange\")\n",
    "print(str)"
   ]
  },
  {
   "cell_type": "code",
   "execution_count": 60,
   "id": "c682f436",
   "metadata": {},
   "outputs": [
    {
     "name": "stdout",
     "output_type": "stream",
     "text": [
      "Namaste World. Namaste Python\n"
     ]
    }
   ],
   "source": [
    "str=\"Hello World. Hello Python\".replace(\"Hello\",\"Namaste\")\n",
    "print(str)"
   ]
  },
  {
   "cell_type": "code",
   "execution_count": 63,
   "id": "0d139428",
   "metadata": {},
   "outputs": [
    {
     "name": "stdout",
     "output_type": "stream",
     "text": [
      "True\n"
     ]
    }
   ],
   "source": [
    "bool=\"Hello World. Hello Python\".startswith(\"Hello\")\n",
    "print(bool)"
   ]
  },
  {
   "cell_type": "code",
   "execution_count": 65,
   "id": "5c3d3b26",
   "metadata": {},
   "outputs": [
    {
     "name": "stdout",
     "output_type": "stream",
     "text": [
      "True\n"
     ]
    }
   ],
   "source": [
    "bool=\"Hello World. Hello Python\".endswith(\"Python\")\n",
    "print(bool)"
   ]
  },
  {
   "cell_type": "code",
   "execution_count": 66,
   "id": "a50a7583",
   "metadata": {},
   "outputs": [
    {
     "name": "stdout",
     "output_type": "stream",
     "text": [
      "HELLO WORLD\n"
     ]
    }
   ],
   "source": [
    "upper=\"hello world\".upper()\n",
    "print(upper)"
   ]
  },
  {
   "cell_type": "code",
   "execution_count": 67,
   "id": "fd66e9da",
   "metadata": {},
   "outputs": [
    {
     "name": "stdout",
     "output_type": "stream",
     "text": [
      "hello world\n"
     ]
    }
   ],
   "source": [
    "lower=\"HELLO world\".lower()\n",
    "print(lower)"
   ]
  },
  {
   "cell_type": "code",
   "execution_count": 68,
   "id": "b68a40b3",
   "metadata": {},
   "outputs": [
    {
     "name": "stdout",
     "output_type": "stream",
     "text": [
      "['Lion', 'Tiger', 'Elephant']\n"
     ]
    }
   ],
   "source": [
    "list=\"Lion,Tiger,Elephant\".split(\",\")\n",
    "print(list)"
   ]
  },
  {
   "cell_type": "code",
   "execution_count": 69,
   "id": "99623054",
   "metadata": {},
   "outputs": [
    {
     "data": {
      "text/plain": [
       "'Tiger'"
      ]
     },
     "execution_count": 69,
     "metadata": {},
     "output_type": "execute_result"
    }
   ],
   "source": [
    "list[1]"
   ]
  },
  {
   "cell_type": "code",
   "execution_count": 70,
   "id": "5dd07c59",
   "metadata": {},
   "outputs": [],
   "source": [
    "#Numeric Functions"
   ]
  },
  {
   "cell_type": "code",
   "execution_count": 72,
   "id": "1df951e2",
   "metadata": {},
   "outputs": [
    {
     "name": "stdout",
     "output_type": "stream",
     "text": [
      "1\n",
      "7\n",
      "18\n",
      "10\n"
     ]
    }
   ],
   "source": [
    "list=[1,4,6,7]\n",
    "print(min(list))\n",
    "print(max(list))\n",
    "print(sum(list))\n",
    "print(abs(-10))"
   ]
  },
  {
   "cell_type": "code",
   "execution_count": 73,
   "id": "cea7482b",
   "metadata": {},
   "outputs": [],
   "source": [
    "#List Functions"
   ]
  },
  {
   "cell_type": "code",
   "execution_count": 74,
   "id": "b078831d",
   "metadata": {},
   "outputs": [
    {
     "name": "stdout",
     "output_type": "stream",
     "text": [
      "True\n"
     ]
    }
   ],
   "source": [
    "l=[22,33,45,67,54]\n",
    "print(any(l))"
   ]
  },
  {
   "cell_type": "code",
   "execution_count": 75,
   "id": "10ef8a60",
   "metadata": {},
   "outputs": [
    {
     "name": "stdout",
     "output_type": "stream",
     "text": [
      "False\n"
     ]
    }
   ],
   "source": [
    "l=[0]\n",
    "print(any(l))"
   ]
  },
  {
   "cell_type": "code",
   "execution_count": 76,
   "id": "893ab3d5",
   "metadata": {},
   "outputs": [
    {
     "name": "stdout",
     "output_type": "stream",
     "text": [
      "True\n"
     ]
    }
   ],
   "source": [
    "l=[-1]\n",
    "print(any(l))"
   ]
  },
  {
   "cell_type": "code",
   "execution_count": 77,
   "id": "9095700d",
   "metadata": {},
   "outputs": [
    {
     "name": "stdout",
     "output_type": "stream",
     "text": [
      "False\n"
     ]
    }
   ],
   "source": [
    "l=[0,False]\n",
    "print(any(l))"
   ]
  },
  {
   "cell_type": "code",
   "execution_count": 78,
   "id": "96fd8e0e",
   "metadata": {},
   "outputs": [
    {
     "name": "stdout",
     "output_type": "stream",
     "text": [
      "True\n"
     ]
    }
   ],
   "source": [
    "l=[0,False,5]\n",
    "print(any(l))"
   ]
  },
  {
   "cell_type": "code",
   "execution_count": 79,
   "id": "e3776db8",
   "metadata": {},
   "outputs": [
    {
     "name": "stdout",
     "output_type": "stream",
     "text": [
      "False\n"
     ]
    }
   ],
   "source": [
    "l=[]\n",
    "print(any(l))"
   ]
  },
  {
   "cell_type": "code",
   "execution_count": 81,
   "id": "1fb6380c",
   "metadata": {},
   "outputs": [
    {
     "name": "stdout",
     "output_type": "stream",
     "text": [
      "[False, True, True, True, True]\n"
     ]
    }
   ],
   "source": [
    "l=[22,33,45,67,54]\n",
    "print([i>30 for i in l])"
   ]
  },
  {
   "cell_type": "code",
   "execution_count": 82,
   "id": "1d499f84",
   "metadata": {},
   "outputs": [
    {
     "data": {
      "text/plain": [
       "True"
      ]
     },
     "execution_count": 82,
     "metadata": {},
     "output_type": "execute_result"
    }
   ],
   "source": [
    "any([i>30 for i in l])"
   ]
  },
  {
   "cell_type": "code",
   "execution_count": 83,
   "id": "40bf059b",
   "metadata": {},
   "outputs": [
    {
     "name": "stdout",
     "output_type": "stream",
     "text": [
      "True\n"
     ]
    }
   ],
   "source": [
    "s=\"This is good\"\n",
    "print(any(s))"
   ]
  },
  {
   "cell_type": "code",
   "execution_count": 84,
   "id": "63ff3936",
   "metadata": {},
   "outputs": [
    {
     "name": "stdout",
     "output_type": "stream",
     "text": [
      "True\n"
     ]
    }
   ],
   "source": [
    "s=\"000\"\n",
    "print(any(s))"
   ]
  },
  {
   "cell_type": "code",
   "execution_count": 85,
   "id": "84c2486a",
   "metadata": {},
   "outputs": [
    {
     "name": "stdout",
     "output_type": "stream",
     "text": [
      "False\n"
     ]
    }
   ],
   "source": [
    "s=''\n",
    "print(any(s))"
   ]
  },
  {
   "cell_type": "code",
   "execution_count": 86,
   "id": "28ad94c6",
   "metadata": {},
   "outputs": [],
   "source": [
    "#Any with dictionaries"
   ]
  },
  {
   "cell_type": "code",
   "execution_count": 87,
   "id": "60867ba1",
   "metadata": {},
   "outputs": [
    {
     "name": "stdout",
     "output_type": "stream",
     "text": [
      "False\n"
     ]
    }
   ],
   "source": [
    "d={0:\"False\"}\n",
    "print(any(d))"
   ]
  },
  {
   "cell_type": "code",
   "execution_count": 89,
   "id": "98f2bae9",
   "metadata": {},
   "outputs": [
    {
     "name": "stdout",
     "output_type": "stream",
     "text": [
      "True\n"
     ]
    }
   ],
   "source": [
    "d={0:\"False\",1:\"True\"}\n",
    "print(any(d))"
   ]
  },
  {
   "cell_type": "code",
   "execution_count": 90,
   "id": "c644d5e5",
   "metadata": {},
   "outputs": [
    {
     "name": "stdout",
     "output_type": "stream",
     "text": [
      "False\n"
     ]
    }
   ],
   "source": [
    "d={0:\"False\",False:0}\n",
    "print(any(d))"
   ]
  },
  {
   "cell_type": "code",
   "execution_count": 91,
   "id": "fbcb862a",
   "metadata": {},
   "outputs": [
    {
     "name": "stdout",
     "output_type": "stream",
     "text": [
      "False\n"
     ]
    }
   ],
   "source": [
    "d={}\n",
    "print(any(d))"
   ]
  },
  {
   "cell_type": "code",
   "execution_count": 92,
   "id": "493b656f",
   "metadata": {},
   "outputs": [
    {
     "name": "stdout",
     "output_type": "stream",
     "text": [
      "True\n"
     ]
    }
   ],
   "source": [
    "d={\"0\":\"False\"}\n",
    "print(any(d))"
   ]
  },
  {
   "cell_type": "code",
   "execution_count": 93,
   "id": "c867da58",
   "metadata": {},
   "outputs": [],
   "source": [
    "#All function"
   ]
  },
  {
   "cell_type": "code",
   "execution_count": 94,
   "id": "fca145c5",
   "metadata": {},
   "outputs": [
    {
     "name": "stdout",
     "output_type": "stream",
     "text": [
      "True\n"
     ]
    }
   ],
   "source": [
    "l=[1,3,4,5]\n",
    "print(all(l))"
   ]
  },
  {
   "cell_type": "code",
   "execution_count": 95,
   "id": "87000066",
   "metadata": {},
   "outputs": [
    {
     "name": "stdout",
     "output_type": "stream",
     "text": [
      "False\n"
     ]
    }
   ],
   "source": [
    "l=[0,False]\n",
    "print(all(l))"
   ]
  },
  {
   "cell_type": "code",
   "execution_count": 96,
   "id": "6d4532a6",
   "metadata": {},
   "outputs": [
    {
     "name": "stdout",
     "output_type": "stream",
     "text": [
      "False\n"
     ]
    }
   ],
   "source": [
    "l=[1,3,4,0]\n",
    "print(all(l))"
   ]
  },
  {
   "cell_type": "code",
   "execution_count": 97,
   "id": "1d7d3f90",
   "metadata": {},
   "outputs": [
    {
     "name": "stdout",
     "output_type": "stream",
     "text": [
      "False\n"
     ]
    }
   ],
   "source": [
    "l=[0,False,5]\n",
    "print(all(l))"
   ]
  },
  {
   "cell_type": "code",
   "execution_count": 98,
   "id": "795d24b1",
   "metadata": {},
   "outputs": [
    {
     "name": "stdout",
     "output_type": "stream",
     "text": [
      "True\n"
     ]
    }
   ],
   "source": [
    "l=[]\n",
    "print(all(l))"
   ]
  },
  {
   "cell_type": "code",
   "execution_count": 99,
   "id": "9d3b45f1",
   "metadata": {},
   "outputs": [
    {
     "name": "stdout",
     "output_type": "stream",
     "text": [
      "True\n"
     ]
    }
   ],
   "source": [
    "s=\"This is good\"\n",
    "print(all(s))"
   ]
  },
  {
   "cell_type": "code",
   "execution_count": 100,
   "id": "d647a27e",
   "metadata": {},
   "outputs": [
    {
     "name": "stdout",
     "output_type": "stream",
     "text": [
      "True\n"
     ]
    }
   ],
   "source": [
    "s='000'\n",
    "print(all(s))"
   ]
  },
  {
   "cell_type": "code",
   "execution_count": 101,
   "id": "be58ab8d",
   "metadata": {},
   "outputs": [
    {
     "name": "stdout",
     "output_type": "stream",
     "text": [
      "True\n"
     ]
    }
   ],
   "source": [
    "s=''\n",
    "print(all(s))"
   ]
  },
  {
   "cell_type": "code",
   "execution_count": 106,
   "id": "e8363a11",
   "metadata": {},
   "outputs": [
    {
     "name": "stdout",
     "output_type": "stream",
     "text": [
      "False\n"
     ]
    }
   ],
   "source": [
    "d={0:\"False\",1:\"False\"}\n",
    "print(all(d))"
   ]
  },
  {
   "cell_type": "code",
   "execution_count": 102,
   "id": "29e37813",
   "metadata": {},
   "outputs": [
    {
     "name": "stdout",
     "output_type": "stream",
     "text": [
      "True\n"
     ]
    }
   ],
   "source": [
    "d={1:\"True\",2:\"True\"}\n",
    "print(all(d))"
   ]
  },
  {
   "cell_type": "code",
   "execution_count": 103,
   "id": "67fd8351",
   "metadata": {},
   "outputs": [
    {
     "name": "stdout",
     "output_type": "stream",
     "text": [
      "False\n"
     ]
    }
   ],
   "source": [
    "d={1:\"True\",False:0}\n",
    "print(all(d))"
   ]
  },
  {
   "cell_type": "code",
   "execution_count": 104,
   "id": "d5b56762",
   "metadata": {},
   "outputs": [
    {
     "name": "stdout",
     "output_type": "stream",
     "text": [
      "True\n"
     ]
    }
   ],
   "source": [
    "d={}\n",
    "print(all(d))"
   ]
  },
  {
   "cell_type": "code",
   "execution_count": 105,
   "id": "7f89bff6",
   "metadata": {},
   "outputs": [
    {
     "name": "stdout",
     "output_type": "stream",
     "text": [
      "True\n"
     ]
    }
   ],
   "source": [
    "d={'0':\"True\"}\n",
    "print(all(d))"
   ]
  },
  {
   "cell_type": "code",
   "execution_count": 107,
   "id": "21c27bc0",
   "metadata": {},
   "outputs": [
    {
     "name": "stdout",
     "output_type": "stream",
     "text": [
      "(0, 4)\n",
      "(1, 8)\n",
      "(2, 12)\n",
      "(3, 16)\n"
     ]
    }
   ],
   "source": [
    "#enumerate function\n",
    "nums=[4,8,12,16]\n",
    "for t in enumerate(nums):\n",
    "    print(t)"
   ]
  },
  {
   "cell_type": "code",
   "execution_count": 110,
   "id": "a5cc1272",
   "metadata": {},
   "outputs": [
    {
     "data": {
      "text/plain": [
       "(3, 16)"
      ]
     },
     "execution_count": 110,
     "metadata": {},
     "output_type": "execute_result"
    }
   ],
   "source": [
    "t[0],t[1]"
   ]
  },
  {
   "cell_type": "code",
   "execution_count": 111,
   "id": "7d9c48e8",
   "metadata": {},
   "outputs": [],
   "source": [
    "#OOP Object Oriented Programming"
   ]
  },
  {
   "cell_type": "code",
   "execution_count": 112,
   "id": "39c1cffe",
   "metadata": {},
   "outputs": [],
   "source": [
    "#Class oluşturalım bu class 2 özelliğe sahip name ve country"
   ]
  },
  {
   "cell_type": "code",
   "execution_count": 114,
   "id": "32503102",
   "metadata": {},
   "outputs": [
    {
     "name": "stdout",
     "output_type": "stream",
     "text": [
      "Russell UK\n"
     ]
    }
   ],
   "source": [
    "class Philospher:\n",
    "    \n",
    "    def __init__(self,name,country):\n",
    "        self.name=name\n",
    "        self.country=country\n",
    "        \n",
    "russell=Philospher(\"Russell\",\"UK\")\n",
    "print(russell.name,russell.country)"
   ]
  },
  {
   "cell_type": "code",
   "execution_count": 115,
   "id": "ef4723e3",
   "metadata": {},
   "outputs": [
    {
     "name": "stdout",
     "output_type": "stream",
     "text": [
      "Panini India\n"
     ]
    }
   ],
   "source": [
    "panini=Philospher(\"Panini\",\"India\")\n",
    "print(panini.name,panini.country)"
   ]
  },
  {
   "cell_type": "code",
   "execution_count": 119,
   "id": "f3f1282c",
   "metadata": {},
   "outputs": [],
   "source": [
    "#Methods and Class Level Attributes"
   ]
  },
  {
   "cell_type": "code",
   "execution_count": 121,
   "id": "e24cd26b",
   "metadata": {},
   "outputs": [
    {
     "name": "stdout",
     "output_type": "stream",
     "text": [
      "name = Russell,country=UK\n"
     ]
    }
   ],
   "source": [
    "class Philospher:\n",
    "    \n",
    "    def __init__(self,name,country):   #Bu constructordır\n",
    "        self.name=name\n",
    "        self.country=country\n",
    "        \n",
    "    def show_details(self):\n",
    "        print(\"name = {},country={}\".format(self.name,self.country))\n",
    "        \n",
    "russell=Philospher(\"Russell\",\"UK\")\n",
    "russell.show_details()"
   ]
  },
  {
   "cell_type": "code",
   "execution_count": 3,
   "id": "5510c746",
   "metadata": {},
   "outputs": [],
   "source": [
    "class Philospher:\n",
    "    count=0\n",
    "    \n",
    "    def __init__(self,name,country):   #Bu constructordır\n",
    "        self.name=name\n",
    "        self.country=country\n",
    "        Philospher.count=Philospher.count+1 #class level attr artıyor\n",
    "        \n",
    "    def show_details(self):\n",
    "        print(\"name = {},country={}\".format(self.name,self.country))\n",
    "        \n",
    "russell=Philospher(\"Russell\",\"UK\")\n",
    "panini =Philospher('Panini','India')"
   ]
  },
  {
   "cell_type": "code",
   "execution_count": 4,
   "id": "3a80f305",
   "metadata": {},
   "outputs": [
    {
     "name": "stdout",
     "output_type": "stream",
     "text": [
      "The Philospher count is  2\n"
     ]
    }
   ],
   "source": [
    "print(\"The Philospher count is \",Philospher.count)"
   ]
  },
  {
   "cell_type": "code",
   "execution_count": 5,
   "id": "4b9ec681",
   "metadata": {},
   "outputs": [
    {
     "name": "stdout",
     "output_type": "stream",
     "text": [
      "The Philospher count is  2\n"
     ]
    }
   ],
   "source": [
    "print(\"The Philospher count is \",russell.count)"
   ]
  },
  {
   "cell_type": "code",
   "execution_count": 6,
   "id": "ab7beafa",
   "metadata": {},
   "outputs": [
    {
     "name": "stdout",
     "output_type": "stream",
     "text": [
      "The Philospher count is  2\n"
     ]
    }
   ],
   "source": [
    "print(\"The Philospher count is \",panini.count)"
   ]
  },
  {
   "cell_type": "code",
   "execution_count": 7,
   "id": "f766b45a",
   "metadata": {},
   "outputs": [],
   "source": [
    "class Philospher:\n",
    "    count=0\n",
    "    \n",
    "    def __init__(self,name,country):   #Bu constructordır\n",
    "        self.name=name\n",
    "        self.country=country\n",
    "        Philospher.count=Philospher.count+1 #class level attr artıyor\n",
    "        \n",
    "    def show_details(self):\n",
    "        print(\"name = {},country={}\".format(self.name,self.country))\n",
    "        \n",
    "russell=Philospher(\"Russell\",\"UK\")\n",
    "#russell.town #bunu çalıştırınca attribute error verir"
   ]
  },
  {
   "cell_type": "code",
   "execution_count": 8,
   "id": "5286dd79",
   "metadata": {},
   "outputs": [],
   "source": [
    "#Inheritance"
   ]
  },
  {
   "cell_type": "code",
   "execution_count": 9,
   "id": "27749ad1",
   "metadata": {},
   "outputs": [
    {
     "name": "stdout",
     "output_type": "stream",
     "text": [
      "name = Plato,country=Greece,philosophy=After Death Philosophy \n"
     ]
    }
   ],
   "source": [
    "class Philospher:\n",
    "    count=0\n",
    "    \n",
    "    def __init__(self,name,country):   #Bu constructordır\n",
    "        self.name=name\n",
    "        self.country=country\n",
    "        Philospher.count=Philospher.count+1 #class level attr artıyor\n",
    "    \n",
    "    def show_details(self):\n",
    "        print(\"name = {},country={}\".format(self.name,self.country))\n",
    "        \n",
    "class GreekPhilospher(Philospher):\n",
    "    def __init__(self,name,country,details):   #Bu constructordır\n",
    "        Philospher.__init__(self,name,country)  #base class constructor oluşturuldu\n",
    "        self.details=details\n",
    "    \n",
    "    def show_details(self):\n",
    "        print(\"name = {},country={},philosophy={} \".format(self.name,self.country,self.details))\n",
    "        \n",
    "plato=GreekPhilospher(\"Plato\",\"Greece\",\"After Death Philosophy\")\n",
    "plato.show_details()"
   ]
  },
  {
   "cell_type": "code",
   "execution_count": 10,
   "id": "e8761e93",
   "metadata": {},
   "outputs": [
    {
     "name": "stdout",
     "output_type": "stream",
     "text": [
      "name = Plato,country=Greece\n",
      "The special philosophy is After Death Philosophy\n"
     ]
    }
   ],
   "source": [
    "#Super parent class function çağırmak için kullanılabilir\n",
    "class Philospher:\n",
    "    count=0\n",
    "    \n",
    "    def __init__(self,name,country):   #Bu constructordır\n",
    "        self.name=name\n",
    "        self.country=country\n",
    "        Philospher.count=Philospher.count+1 #class level attr artıyor\n",
    "    \n",
    "    def show_details(self):\n",
    "        print(\"name = {},country={}\".format(self.name,self.country))\n",
    "        \n",
    "class GreekPhilospher(Philospher):\n",
    "    def __init__(self,name,country,details):   #Bu constructordır\n",
    "        Philospher.__init__(self,name,country)  #base class constructor oluşturuldu\n",
    "        self.details=details\n",
    "    \n",
    "    def show_details(self):\n",
    "        super().show_details()  #Parenttaki show detaili çağırır\n",
    "        print(\"The special philosophy is {}\".format(self.details))\n",
    "        \n",
    "plato=GreekPhilospher(\"Plato\",\"Greece\",\"After Death Philosophy\")\n",
    "plato.show_details()"
   ]
  },
  {
   "cell_type": "code",
   "execution_count": 12,
   "id": "8afcfa3a",
   "metadata": {},
   "outputs": [
    {
     "name": "stdout",
     "output_type": "stream",
     "text": [
      "30 52\n"
     ]
    }
   ],
   "source": [
    "#Magic Methods\n",
    "class MegaNumber:\n",
    "    def __init__(self,x,y):\n",
    "        self.x=x\n",
    "        self.y=y\n",
    "        \n",
    "    def __add__(self,othermeganumber):\n",
    "        return MegaNumber(self.x+othermeganumber.x,self.y+othermeganumber.y)\n",
    "\n",
    "\n",
    "first=MegaNumber(10,12)\n",
    "second=MegaNumber(20,40)\n",
    "third=first+second\n",
    "print(third.x,third.y)\n"
   ]
  },
  {
   "cell_type": "code",
   "execution_count": 13,
   "id": "bdae80d0",
   "metadata": {},
   "outputs": [
    {
     "name": "stdout",
     "output_type": "stream",
     "text": [
      "Executing __new__\n",
      "Inside Constructor\n",
      "Russell UK\n"
     ]
    }
   ],
   "source": [
    "#Python Object LifeCycle\n",
    "\n",
    "class Philospher:\n",
    "        \n",
    "    def __init__(self,name,country):   #Bu constructordır\n",
    "        self.name=name\n",
    "        self.country=country\n",
    "        print(\"Inside Constructor\")\n",
    "    \n",
    "    def __new__(cls,*args,**kwargs):\n",
    "        print(\"Executing __new__\")\n",
    "        instance=super(Philospher,cls).__new__(cls)\n",
    "        return instance\n",
    "    \n",
    "russell=Philospher(\"Russell\",\"UK\")\n",
    "print(russell.name,russell.country)\n",
    "        "
   ]
  },
  {
   "cell_type": "code",
   "execution_count": 14,
   "id": "b581a09a",
   "metadata": {},
   "outputs": [
    {
     "name": "stdout",
     "output_type": "stream",
     "text": [
      "90\n"
     ]
    }
   ],
   "source": [
    "#Garbage Collection\n",
    "b=90\n",
    "print(b)"
   ]
  },
  {
   "cell_type": "code",
   "execution_count": 15,
   "id": "9787b86f",
   "metadata": {},
   "outputs": [
    {
     "name": "stdout",
     "output_type": "stream",
     "text": [
      "90\n"
     ]
    }
   ],
   "source": [
    "c=b\n",
    "print(c)"
   ]
  },
  {
   "cell_type": "code",
   "execution_count": 16,
   "id": "d5cecfb4",
   "metadata": {},
   "outputs": [
    {
     "name": "stdout",
     "output_type": "stream",
     "text": [
      "[90]\n"
     ]
    }
   ],
   "source": [
    "d=[b]\n",
    "print(d)"
   ]
  },
  {
   "cell_type": "code",
   "execution_count": 17,
   "id": "101f671c",
   "metadata": {},
   "outputs": [],
   "source": [
    "del b"
   ]
  },
  {
   "cell_type": "code",
   "execution_count": 18,
   "id": "3ceec6a8",
   "metadata": {},
   "outputs": [
    {
     "name": "stdout",
     "output_type": "stream",
     "text": [
      "90\n"
     ]
    }
   ],
   "source": [
    "print(c)"
   ]
  },
  {
   "cell_type": "code",
   "execution_count": 19,
   "id": "b9767f2f",
   "metadata": {},
   "outputs": [
    {
     "name": "stdout",
     "output_type": "stream",
     "text": [
      "[90]\n"
     ]
    }
   ],
   "source": [
    "print(d)"
   ]
  },
  {
   "cell_type": "code",
   "execution_count": 20,
   "id": "2a94d6d9",
   "metadata": {},
   "outputs": [],
   "source": [
    "c=80\n",
    "d[0]=-1"
   ]
  },
  {
   "cell_type": "code",
   "execution_count": 25,
   "id": "de1411b0",
   "metadata": {},
   "outputs": [
    {
     "name": "stdout",
     "output_type": "stream",
     "text": [
      "Name=Russell, Country=UK\n",
      "Russell UK\n"
     ]
    }
   ],
   "source": [
    "#Object data hiding , weak method private method\n",
    "\n",
    "class Philospher:\n",
    "        \n",
    "    def __init__(self,name,country):   #Bu constructordır\n",
    "        self._name=name\n",
    "        self._country=country\n",
    "    \n",
    "    def __repr__(self):\n",
    "        str=\"Name={}, Country={}\".format(self._name,self._country)\n",
    "        return str\n",
    "    \n",
    "russell=Philospher(\"Russell\",\"UK\")\n",
    "print(russell)\n",
    "print(russell._name,russell._country)\n",
    "        "
   ]
  },
  {
   "cell_type": "code",
   "execution_count": 31,
   "id": "994aaedc",
   "metadata": {},
   "outputs": [
    {
     "name": "stdout",
     "output_type": "stream",
     "text": [
      "Russell\n"
     ]
    }
   ],
   "source": [
    "class Philospher:\n",
    "        \n",
    "    def __init__(self,name,country):   #Bu constructordır\n",
    "        self.__name=name   #çift altçizgi underscore var\n",
    "        self.__country=country\n",
    "    \n",
    "    def __repr__(self):\n",
    "        str=\"Name={}, Country={}\".format(self.__name,self.__country)\n",
    "        return str\n",
    "    \n",
    "russell=Philospher(\"Russell\",\"UK\")\n",
    "print(russell._Philospher__name)\n",
    "#print(russell.__name)  #dışarıdan ulaşılamaz"
   ]
  },
  {
   "cell_type": "code",
   "execution_count": 32,
   "id": "fa85c34e",
   "metadata": {},
   "outputs": [],
   "source": [
    "#Classic and static methods\n",
    "\n",
    "class Philospher:\n",
    "    count=0\n",
    "    \n",
    "    def __init__(self,name,country):   #Bu constructordır\n",
    "        self.name=name\n",
    "        self.country=country\n",
    "        Philospher.count=Philospher.count+1 #class level attr artıyor\n",
    "    \n",
    "    @classmethod\n",
    "    def show_count(cls):\n",
    "        print(\"The number of philosphers are {}\".format(cls.count))\n",
    "\n",
    "    def print_in_fancy_style(philospher):  #static method\n",
    "        print(\"******** The philosphers name is {} ***\".format(philosphers.name))\n",
    "   \n",
    "    def show_count_static():\n",
    "        print(\"The number of philosphers are {}\".format(count))\n"
   ]
  },
  {
   "cell_type": "code",
   "execution_count": 33,
   "id": "88d8b209",
   "metadata": {},
   "outputs": [],
   "source": [
    "#Numpy"
   ]
  },
  {
   "cell_type": "code",
   "execution_count": 1,
   "id": "6baa91a7",
   "metadata": {},
   "outputs": [],
   "source": [
    "import numpy as np"
   ]
  },
  {
   "cell_type": "code",
   "execution_count": 2,
   "id": "9867ecd3",
   "metadata": {},
   "outputs": [
    {
     "name": "stdout",
     "output_type": "stream",
     "text": [
      "<class 'numpy.ndarray'>\n",
      "(3,)\n",
      "1\n"
     ]
    }
   ],
   "source": [
    "a=np.array([100,200,300])\n",
    "print(type(a))\n",
    "print(a.shape)\n",
    "print(a.ndim)"
   ]
  },
  {
   "cell_type": "code",
   "execution_count": 3,
   "id": "303a96aa",
   "metadata": {},
   "outputs": [
    {
     "name": "stdout",
     "output_type": "stream",
     "text": [
      "100 200 300\n"
     ]
    }
   ],
   "source": [
    "print(a[0],a[1],a[2])"
   ]
  },
  {
   "cell_type": "code",
   "execution_count": 4,
   "id": "5938c15b",
   "metadata": {},
   "outputs": [
    {
     "name": "stdout",
     "output_type": "stream",
     "text": [
      "[500 200 300]\n"
     ]
    }
   ],
   "source": [
    "a[0]=500\n",
    "print(a)"
   ]
  },
  {
   "cell_type": "code",
   "execution_count": 5,
   "id": "07c41d1a",
   "metadata": {},
   "outputs": [
    {
     "name": "stdout",
     "output_type": "stream",
     "text": [
      "(2, 3)\n",
      "2\n",
      "1 2 4\n"
     ]
    }
   ],
   "source": [
    "b=np.array([[1,2,3],[4,5,6]])\n",
    "print(b.shape)\n",
    "print(b.ndim)\n",
    "print(b[0,0],b[0,1],b[1,0])"
   ]
  },
  {
   "cell_type": "code",
   "execution_count": null,
   "id": "1bb6e675",
   "metadata": {},
   "outputs": [],
   "source": [
    "#Scalar 42 değeri 0D arraydir\n",
    "#[41,pi,pow(2,0.5)]  1D arraydir\n",
    "#[[41,pi,3],\n",
    "#[1,2,3],\n",
    "#[10,20,30]]  2D arraydir\n"
   ]
  },
  {
   "cell_type": "code",
   "execution_count": 6,
   "id": "f2b7d1de",
   "metadata": {},
   "outputs": [],
   "source": [
    "#Add Subtract Multiply\n",
    "x=np.array([[1,2],[3,4]],dtype=np.float64)\n",
    "y=np.array([[5,6],[7,8]],dtype=np.float64)"
   ]
  },
  {
   "cell_type": "code",
   "execution_count": 7,
   "id": "d67e8767",
   "metadata": {},
   "outputs": [
    {
     "name": "stdout",
     "output_type": "stream",
     "text": [
      "[[ 6.  8.]\n",
      " [10. 12.]]\n"
     ]
    }
   ],
   "source": [
    "print(x+y)"
   ]
  },
  {
   "cell_type": "code",
   "execution_count": 8,
   "id": "8d2ee84b",
   "metadata": {},
   "outputs": [
    {
     "name": "stdout",
     "output_type": "stream",
     "text": [
      "[[ 6.  8.]\n",
      " [10. 12.]]\n"
     ]
    }
   ],
   "source": [
    "print(np.add(x,y))"
   ]
  },
  {
   "cell_type": "code",
   "execution_count": 9,
   "id": "cac6fdaa",
   "metadata": {},
   "outputs": [
    {
     "name": "stdout",
     "output_type": "stream",
     "text": [
      "[[-4. -4.]\n",
      " [-4. -4.]]\n"
     ]
    }
   ],
   "source": [
    "print(x-y)"
   ]
  },
  {
   "cell_type": "code",
   "execution_count": 10,
   "id": "1251e5c3",
   "metadata": {},
   "outputs": [
    {
     "name": "stdout",
     "output_type": "stream",
     "text": [
      "[[-4. -4.]\n",
      " [-4. -4.]]\n"
     ]
    }
   ],
   "source": [
    "print(np.subtract(x,y))"
   ]
  },
  {
   "cell_type": "code",
   "execution_count": 11,
   "id": "949a4dcb",
   "metadata": {},
   "outputs": [
    {
     "name": "stdout",
     "output_type": "stream",
     "text": [
      "[[ 5. 12.]\n",
      " [21. 32.]]\n"
     ]
    }
   ],
   "source": [
    "print(x*y)"
   ]
  },
  {
   "cell_type": "code",
   "execution_count": 12,
   "id": "bf824b49",
   "metadata": {},
   "outputs": [
    {
     "name": "stdout",
     "output_type": "stream",
     "text": [
      "[[ 5. 12.]\n",
      " [21. 32.]]\n"
     ]
    }
   ],
   "source": [
    "print(np.multiply(x,y))"
   ]
  },
  {
   "cell_type": "code",
   "execution_count": 13,
   "id": "b7fb6586",
   "metadata": {},
   "outputs": [
    {
     "name": "stdout",
     "output_type": "stream",
     "text": [
      "[[0.2        0.33333333]\n",
      " [0.42857143 0.5       ]]\n"
     ]
    }
   ],
   "source": [
    "print(x/y)"
   ]
  },
  {
   "cell_type": "code",
   "execution_count": 14,
   "id": "a5151f0f",
   "metadata": {},
   "outputs": [
    {
     "name": "stdout",
     "output_type": "stream",
     "text": [
      "[[0.2        0.33333333]\n",
      " [0.42857143 0.5       ]]\n"
     ]
    }
   ],
   "source": [
    "print(np.divide(x,y))"
   ]
  },
  {
   "cell_type": "code",
   "execution_count": 15,
   "id": "0f88a439",
   "metadata": {},
   "outputs": [
    {
     "name": "stdout",
     "output_type": "stream",
     "text": [
      "[[1.         1.41421356]\n",
      " [1.73205081 2.        ]]\n"
     ]
    }
   ],
   "source": [
    "print(np.sqrt(x))"
   ]
  },
  {
   "cell_type": "code",
   "execution_count": 16,
   "id": "bdce9929",
   "metadata": {},
   "outputs": [],
   "source": [
    "#Numpy Dot Product"
   ]
  },
  {
   "cell_type": "code",
   "execution_count": 17,
   "id": "f0394bf4",
   "metadata": {},
   "outputs": [],
   "source": [
    "x=np.array([[1,2],[3,4]])\n",
    "y=np.array([[5,6],[7,8]])\n",
    "\n",
    "v=np.array([9,10])\n",
    "w=np.array([11,12])"
   ]
  },
  {
   "cell_type": "code",
   "execution_count": 18,
   "id": "223a634e",
   "metadata": {},
   "outputs": [
    {
     "name": "stdout",
     "output_type": "stream",
     "text": [
      "219\n"
     ]
    }
   ],
   "source": [
    "print(v.dot(w))"
   ]
  },
  {
   "cell_type": "code",
   "execution_count": 19,
   "id": "b0efb9cd",
   "metadata": {},
   "outputs": [
    {
     "name": "stdout",
     "output_type": "stream",
     "text": [
      "219\n"
     ]
    }
   ],
   "source": [
    "print(np.dot(v,w))"
   ]
  },
  {
   "cell_type": "code",
   "execution_count": 21,
   "id": "d505bcc9",
   "metadata": {},
   "outputs": [
    {
     "name": "stdout",
     "output_type": "stream",
     "text": [
      "[29 67]\n"
     ]
    }
   ],
   "source": [
    "print(x.dot(v))"
   ]
  },
  {
   "cell_type": "code",
   "execution_count": 22,
   "id": "f2a29788",
   "metadata": {},
   "outputs": [
    {
     "name": "stdout",
     "output_type": "stream",
     "text": [
      "[29 67]\n"
     ]
    }
   ],
   "source": [
    "print(np.dot(x,v))"
   ]
  },
  {
   "cell_type": "code",
   "execution_count": 23,
   "id": "b2ca8044",
   "metadata": {},
   "outputs": [
    {
     "name": "stdout",
     "output_type": "stream",
     "text": [
      "[[19 22]\n",
      " [43 50]]\n"
     ]
    }
   ],
   "source": [
    "print(x.dot(y))"
   ]
  },
  {
   "cell_type": "code",
   "execution_count": 24,
   "id": "7880105e",
   "metadata": {},
   "outputs": [
    {
     "name": "stdout",
     "output_type": "stream",
     "text": [
      "[[19 22]\n",
      " [43 50]]\n"
     ]
    }
   ],
   "source": [
    "print(np.dot(x,y))"
   ]
  },
  {
   "cell_type": "code",
   "execution_count": 25,
   "id": "6cc042a7",
   "metadata": {},
   "outputs": [],
   "source": [
    "#Slicing"
   ]
  },
  {
   "cell_type": "code",
   "execution_count": 26,
   "id": "e25506e7",
   "metadata": {},
   "outputs": [],
   "source": [
    "a=np.array([[1,2,3,4],[5,6,7,8],[9,10,11,12]])"
   ]
  },
  {
   "cell_type": "code",
   "execution_count": 28,
   "id": "44c98384",
   "metadata": {},
   "outputs": [
    {
     "name": "stdout",
     "output_type": "stream",
     "text": [
      "[[2 3]\n",
      " [6 7]] \n",
      "\n"
     ]
    }
   ],
   "source": [
    "b=a[:2,1:3]\n",
    "print(b,'\\n')"
   ]
  },
  {
   "cell_type": "code",
   "execution_count": 29,
   "id": "a03c6d42",
   "metadata": {},
   "outputs": [
    {
     "name": "stdout",
     "output_type": "stream",
     "text": [
      "2\n"
     ]
    }
   ],
   "source": [
    "print(a[0,1])"
   ]
  },
  {
   "cell_type": "code",
   "execution_count": 30,
   "id": "5769c55e",
   "metadata": {},
   "outputs": [
    {
     "name": "stdout",
     "output_type": "stream",
     "text": [
      "77 \n",
      "\n"
     ]
    }
   ],
   "source": [
    "b[0,0]=77\n",
    "print(a[0,1],'\\n')"
   ]
  },
  {
   "cell_type": "code",
   "execution_count": 31,
   "id": "a7431d80",
   "metadata": {},
   "outputs": [
    {
     "name": "stdout",
     "output_type": "stream",
     "text": [
      "[[77  3]\n",
      " [ 6  7]] \n",
      "\n"
     ]
    }
   ],
   "source": [
    "print(b,'\\n')"
   ]
  },
  {
   "cell_type": "code",
   "execution_count": 32,
   "id": "05794305",
   "metadata": {},
   "outputs": [
    {
     "name": "stdout",
     "output_type": "stream",
     "text": [
      "[[ 1 77  3  4]\n",
      " [ 5  6  7  8]\n",
      " [ 9 10 11 12]] \n",
      "\n"
     ]
    }
   ],
   "source": [
    "print(a,'\\n')"
   ]
  },
  {
   "cell_type": "code",
   "execution_count": 33,
   "id": "a0cf02da",
   "metadata": {},
   "outputs": [],
   "source": [
    "#Indexing and Slicing"
   ]
  },
  {
   "cell_type": "code",
   "execution_count": 34,
   "id": "5b337fd8",
   "metadata": {},
   "outputs": [],
   "source": [
    "a=np.array([[1,2,3,4],[5,6,7,8],[9,10,11,12]])"
   ]
  },
  {
   "cell_type": "code",
   "execution_count": 35,
   "id": "ca0eb494",
   "metadata": {},
   "outputs": [
    {
     "name": "stdout",
     "output_type": "stream",
     "text": [
      "[5 6 7 8] (4,)\n",
      "[[5 6 7 8]] (1, 4)\n"
     ]
    }
   ],
   "source": [
    "row_r1=a[1,:]\n",
    "row_r2=a[1:2,:]\n",
    "print(row_r1,row_r1.shape)\n",
    "print(row_r2,row_r2.shape)"
   ]
  },
  {
   "cell_type": "code",
   "execution_count": 36,
   "id": "bd40a618",
   "metadata": {},
   "outputs": [
    {
     "name": "stdout",
     "output_type": "stream",
     "text": [
      "[ 2  6 10] (3,)\n",
      "[[ 2]\n",
      " [ 6]\n",
      " [10]] (3, 1)\n"
     ]
    }
   ],
   "source": [
    "col_r1=a[:,1]\n",
    "col_r2=a[:,1:2]\n",
    "print(col_r1,col_r1.shape)\n",
    "print(col_r2,col_r2.shape)"
   ]
  },
  {
   "cell_type": "code",
   "execution_count": 37,
   "id": "ef4ed964",
   "metadata": {},
   "outputs": [],
   "source": [
    "#Array Indexing"
   ]
  },
  {
   "cell_type": "code",
   "execution_count": 38,
   "id": "2ab9382a",
   "metadata": {},
   "outputs": [],
   "source": [
    "a=np.array([[1,2],[3,4],[5,6]])"
   ]
  },
  {
   "cell_type": "code",
   "execution_count": 39,
   "id": "fb781d1a",
   "metadata": {},
   "outputs": [
    {
     "name": "stdout",
     "output_type": "stream",
     "text": [
      "[1 4 5]\n"
     ]
    }
   ],
   "source": [
    "print(a[[0,1,2],[0,1,0]])\n",
    "#0,1,2 hepsini ver sonra 1,4,5i ver diyoruz"
   ]
  },
  {
   "cell_type": "code",
   "execution_count": 42,
   "id": "3fca9c9a",
   "metadata": {},
   "outputs": [
    {
     "name": "stdout",
     "output_type": "stream",
     "text": [
      "[1 4 5]\n"
     ]
    }
   ],
   "source": [
    "print(np.array([a[0,0],a[1,1],a[2,0]]))"
   ]
  },
  {
   "cell_type": "code",
   "execution_count": 43,
   "id": "c6f7e624",
   "metadata": {},
   "outputs": [
    {
     "name": "stdout",
     "output_type": "stream",
     "text": [
      "[2 2]\n"
     ]
    }
   ],
   "source": [
    "print(a[[0,0],[1,1]])"
   ]
  },
  {
   "cell_type": "code",
   "execution_count": 44,
   "id": "67ffd823",
   "metadata": {},
   "outputs": [
    {
     "name": "stdout",
     "output_type": "stream",
     "text": [
      "[2 2]\n"
     ]
    }
   ],
   "source": [
    "print(np.array([a[0,1],a[0,1]]))"
   ]
  },
  {
   "cell_type": "code",
   "execution_count": 46,
   "id": "421ba38b",
   "metadata": {},
   "outputs": [],
   "source": [
    "a=np.array([[1,2,3],[4,5,6],[7,8,9],[10,11,12]])"
   ]
  },
  {
   "cell_type": "code",
   "execution_count": 47,
   "id": "085e25d7",
   "metadata": {},
   "outputs": [
    {
     "name": "stdout",
     "output_type": "stream",
     "text": [
      "[[ 1  2  3]\n",
      " [ 4  5  6]\n",
      " [ 7  8  9]\n",
      " [10 11 12]]\n"
     ]
    }
   ],
   "source": [
    "print(a)"
   ]
  },
  {
   "cell_type": "code",
   "execution_count": 48,
   "id": "8fc0cd2a",
   "metadata": {},
   "outputs": [
    {
     "name": "stdout",
     "output_type": "stream",
     "text": [
      "(4, 3)\n"
     ]
    }
   ],
   "source": [
    "print(a.shape)"
   ]
  },
  {
   "cell_type": "code",
   "execution_count": 49,
   "id": "68623eab",
   "metadata": {},
   "outputs": [],
   "source": [
    "b=np.array([0,2,0,1])"
   ]
  },
  {
   "cell_type": "code",
   "execution_count": 51,
   "id": "c991c02b",
   "metadata": {},
   "outputs": [
    {
     "name": "stdout",
     "output_type": "stream",
     "text": [
      "[ 1  6  7 11]\n"
     ]
    }
   ],
   "source": [
    "print(a[np.arange(4),b])\n",
    "#([[1,2,3],[4,5,6],[7,8,9],[10,11,12]])\n",
    "#  0            2   0           1       1,6,7,11"
   ]
  },
  {
   "cell_type": "code",
   "execution_count": 52,
   "id": "a695fa65",
   "metadata": {},
   "outputs": [
    {
     "name": "stdout",
     "output_type": "stream",
     "text": [
      "[[11  2  3]\n",
      " [ 4  5 16]\n",
      " [17  8  9]\n",
      " [10 21 12]]\n"
     ]
    }
   ],
   "source": [
    "a[np.arange(4),b]+=10\n",
    "print(a)"
   ]
  },
  {
   "cell_type": "code",
   "execution_count": 55,
   "id": "d917a4aa",
   "metadata": {},
   "outputs": [],
   "source": [
    "#Boolean Array Indexing"
   ]
  },
  {
   "cell_type": "code",
   "execution_count": 61,
   "id": "5679aaa3",
   "metadata": {},
   "outputs": [],
   "source": [
    "a=np.array([[1,2],[3,4],[5,6]])"
   ]
  },
  {
   "cell_type": "code",
   "execution_count": 62,
   "id": "5a6886d0",
   "metadata": {},
   "outputs": [],
   "source": [
    "bool_idx=(a>2)"
   ]
  },
  {
   "cell_type": "code",
   "execution_count": 63,
   "id": "368157ed",
   "metadata": {},
   "outputs": [
    {
     "name": "stdout",
     "output_type": "stream",
     "text": [
      "[[False False]\n",
      " [ True  True]\n",
      " [ True  True]]\n"
     ]
    }
   ],
   "source": [
    "print(bool_idx)"
   ]
  },
  {
   "cell_type": "code",
   "execution_count": 64,
   "id": "c865afca",
   "metadata": {},
   "outputs": [],
   "source": [
    "#Numpy Sum\n",
    "x=np.array([[1,2],[3,4]])"
   ]
  },
  {
   "cell_type": "code",
   "execution_count": 65,
   "id": "1e396d27",
   "metadata": {},
   "outputs": [
    {
     "name": "stdout",
     "output_type": "stream",
     "text": [
      "10\n",
      "[4 6]\n",
      "[3 7]\n"
     ]
    }
   ],
   "source": [
    "print(np.sum(x))\n",
    "print(np.sum(x,axis=0))\n",
    "print(np.sum(x,axis=1))"
   ]
  },
  {
   "cell_type": "code",
   "execution_count": 66,
   "id": "332a9176",
   "metadata": {},
   "outputs": [],
   "source": [
    "#Reshape"
   ]
  },
  {
   "cell_type": "code",
   "execution_count": 71,
   "id": "4fae05f0",
   "metadata": {},
   "outputs": [
    {
     "name": "stdout",
     "output_type": "stream",
     "text": [
      "Original array: \n",
      " [0 1 2 3 4 5 6 7]\n"
     ]
    }
   ],
   "source": [
    "array=np.arange(8)\n",
    "print('Original array: \\n',array)"
   ]
  },
  {
   "cell_type": "code",
   "execution_count": 72,
   "id": "dbc2c913",
   "metadata": {},
   "outputs": [
    {
     "name": "stdout",
     "output_type": "stream",
     "text": [
      " array: \n",
      " [[0 1]\n",
      " [2 3]]\n"
     ]
    }
   ],
   "source": [
    "array=np.arange(4).reshape(2,2)\n",
    "print(' array: \\n',array)"
   ]
  },
  {
   "cell_type": "code",
   "execution_count": 73,
   "id": "5aeb24cb",
   "metadata": {},
   "outputs": [
    {
     "name": "stdout",
     "output_type": "stream",
     "text": [
      " array: \n",
      " [[0 1]\n",
      " [2 3]\n",
      " [4 5]\n",
      " [6 7]]\n"
     ]
    }
   ],
   "source": [
    "array=np.arange(8).reshape(4,2)\n",
    "print(' array: \\n',array)"
   ]
  },
  {
   "cell_type": "code",
   "execution_count": 74,
   "id": "a3faa54c",
   "metadata": {},
   "outputs": [
    {
     "name": "stdout",
     "output_type": "stream",
     "text": [
      " array: \n",
      " [[[0 1]\n",
      "  [2 3]]\n",
      "\n",
      " [[4 5]\n",
      "  [6 7]]]\n"
     ]
    }
   ],
   "source": [
    "array=np.arange(8).reshape(2,2,2)\n",
    "print(' array: \\n',array)"
   ]
  },
  {
   "cell_type": "code",
   "execution_count": 77,
   "id": "634f497c",
   "metadata": {},
   "outputs": [
    {
     "name": "stdout",
     "output_type": "stream",
     "text": [
      "rows:  3\n",
      "columns:  2\n"
     ]
    }
   ],
   "source": [
    "from numpy import array\n",
    "data = [[11,22],\n",
    "       [33,44],\n",
    "       [55,66]]\n",
    "data=array(data)\n",
    "print(\"rows: \",data.shape[0])\n",
    "print(\"columns: \",data.shape[1])"
   ]
  },
  {
   "cell_type": "code",
   "execution_count": 78,
   "id": "509ce7ba",
   "metadata": {},
   "outputs": [
    {
     "name": "stdout",
     "output_type": "stream",
     "text": [
      "(5,)\n"
     ]
    }
   ],
   "source": [
    "#reshape 1D array to 2D array\n",
    "from numpy import array\n",
    "from numpy import reshape\n",
    "data=array([11,22,33,44,55])\n",
    "print(data.shape)"
   ]
  },
  {
   "cell_type": "code",
   "execution_count": 79,
   "id": "538c9296",
   "metadata": {},
   "outputs": [
    {
     "name": "stdout",
     "output_type": "stream",
     "text": [
      "5\n",
      "(5, 1)\n"
     ]
    }
   ],
   "source": [
    "#reshape\n",
    "print(data.shape[0])\n",
    "data=data.reshape((data.shape[0],1))\n",
    "print(data.shape)"
   ]
  },
  {
   "cell_type": "code",
   "execution_count": 80,
   "id": "eb9f42a9",
   "metadata": {},
   "outputs": [
    {
     "name": "stdout",
     "output_type": "stream",
     "text": [
      "[[11]\n",
      " [22]\n",
      " [33]\n",
      " [44]\n",
      " [55]]\n"
     ]
    }
   ],
   "source": [
    "print(data)"
   ]
  },
  {
   "cell_type": "code",
   "execution_count": 81,
   "id": "84284f3d",
   "metadata": {},
   "outputs": [],
   "source": [
    "#Numpy Tensors 1D, 2D, 3D"
   ]
  },
  {
   "cell_type": "code",
   "execution_count": 82,
   "id": "7d7966b9",
   "metadata": {},
   "outputs": [
    {
     "name": "stdout",
     "output_type": "stream",
     "text": [
      "0\n"
     ]
    }
   ],
   "source": [
    "#Tensor 1 sayı içeriyorsa scalar olarak adlandırılır 0D Tensor\n",
    "x=np.array(12)\n",
    "print(x.ndim)"
   ]
  },
  {
   "cell_type": "code",
   "execution_count": 83,
   "id": "d9adca12",
   "metadata": {},
   "outputs": [
    {
     "name": "stdout",
     "output_type": "stream",
     "text": [
      "1\n"
     ]
    }
   ],
   "source": [
    "#Sayılardan oluşan array vector olarak adlandırılır 1D Tensordur\n",
    "a=np.array([100,200,300])\n",
    "print(a.ndim)"
   ]
  },
  {
   "cell_type": "code",
   "execution_count": 84,
   "id": "ab5cad78",
   "metadata": {},
   "outputs": [
    {
     "name": "stdout",
     "output_type": "stream",
     "text": [
      "2\n"
     ]
    }
   ],
   "source": [
    "#Matrisler 2D tensorlardır. Vector arrayleri matrixtir\n",
    "#2 axesi vardor rows and columns\n",
    "x=np.array([[5,78,2,34,0],\n",
    "           [6,79,3,35,1],\n",
    "           [7,80,4,36,2]])\n",
    "print(x.ndim)"
   ]
  },
  {
   "cell_type": "code",
   "execution_count": 85,
   "id": "28771b10",
   "metadata": {},
   "outputs": [
    {
     "name": "stdout",
     "output_type": "stream",
     "text": [
      "[[[ 5 78  2 34  0]\n",
      "  [ 6 79  3 35  1]\n",
      "  [ 7 80  4 36  2]]\n",
      "\n",
      " [[ 5 78  2 34  0]\n",
      "  [ 6 79  3 35  1]\n",
      "  [ 7 80  4 36  2]]\n",
      "\n",
      " [[ 5 78  2 34  0]\n",
      "  [ 6 79  3 35  1]\n",
      "  [ 7 80  4 36  2]]]\n",
      "3\n"
     ]
    }
   ],
   "source": [
    "#3D tensor\n",
    "x=np.array([[[5,78,2,34,0],\n",
    "           [6,79,3,35,1],\n",
    "           [7,80,4,36,2]],\n",
    "            [[5,78,2,34,0],\n",
    "            [6,79,3,35,1],\n",
    "           [7,80,4,36,2]],\n",
    "            [[5,78,2,34,0],\n",
    "            [6,79,3,35,1],\n",
    "           [7,80,4,36,2]]] )\n",
    "print(x)\n",
    "print(x.ndim)"
   ]
  },
  {
   "cell_type": "code",
   "execution_count": 86,
   "id": "f69b94d0",
   "metadata": {},
   "outputs": [],
   "source": [
    "#Deep Learningte 0D'den 4D'ye tensorları manipule edeceğiz"
   ]
  },
  {
   "cell_type": "code",
   "execution_count": 87,
   "id": "4d1b2831",
   "metadata": {},
   "outputs": [
    {
     "name": "stdout",
     "output_type": "stream",
     "text": [
      "Downloading data from https://storage.googleapis.com/tensorflow/tf-keras-datasets/mnist.npz\n",
      "11493376/11490434 [==============================] - 5s 0us/step\n",
      "11501568/11490434 [==============================] - 5s 0us/step\n",
      "3\n",
      "(60000, 28, 28)\n",
      "uint8\n"
     ]
    }
   ],
   "source": [
    "from keras.datasets import mnist\n",
    "(train_images,train_labels),(test_images,test_labels)=mnist.load_data()\n",
    "print(train_images.ndim)\n",
    "print(train_images.shape)\n",
    "print(train_images.dtype)"
   ]
  },
  {
   "cell_type": "code",
   "execution_count": 88,
   "id": "62c0898c",
   "metadata": {},
   "outputs": [],
   "source": [
    "#Vector data 2D tensors of shape (samples,features)\n",
    "#Timeseries data or sequence data 3D tensors of shape (samples,timesteps, features)\n",
    "#Images 4D tensors of shape (samples,height,width,channels) or (samples,channels,height,width)\n",
    "#Video 5D tensors of shape (samples, frames, height, width, channels)"
   ]
  },
  {
   "cell_type": "code",
   "execution_count": 89,
   "id": "fbe8d517",
   "metadata": {},
   "outputs": [],
   "source": [
    "#Transposing"
   ]
  },
  {
   "cell_type": "code",
   "execution_count": 90,
   "id": "cf149ff9",
   "metadata": {},
   "outputs": [
    {
     "name": "stdout",
     "output_type": "stream",
     "text": [
      "[[1 2]\n",
      " [3 4]]\n"
     ]
    }
   ],
   "source": [
    "x=np.array([[1,2],[3,4]])\n",
    "print(x)"
   ]
  },
  {
   "cell_type": "code",
   "execution_count": 91,
   "id": "d40a91bd",
   "metadata": {},
   "outputs": [
    {
     "name": "stdout",
     "output_type": "stream",
     "text": [
      "[[1 3]\n",
      " [2 4]]\n"
     ]
    }
   ],
   "source": [
    "print(x.T)"
   ]
  },
  {
   "cell_type": "code",
   "execution_count": 92,
   "id": "d47d9b1e",
   "metadata": {},
   "outputs": [
    {
     "name": "stdout",
     "output_type": "stream",
     "text": [
      "[1 2 3]\n",
      "[1 2 3]\n"
     ]
    }
   ],
   "source": [
    "v=np.array([1,2,3])\n",
    "print(v)\n",
    "print(v.T)"
   ]
  },
  {
   "cell_type": "code",
   "execution_count": 93,
   "id": "bde6f101",
   "metadata": {},
   "outputs": [
    {
     "name": "stdout",
     "output_type": "stream",
     "text": [
      "[[0 0 0]\n",
      " [0 0 0]\n",
      " [0 0 0]\n",
      " [0 0 0]]\n"
     ]
    }
   ],
   "source": [
    "#Numpy Broadcasting\n",
    "\n",
    "x=np.array([[1,2,3],[4,5,6],[7,8,9],[10,11,12]])\n",
    "v=np.array([1,0,1])\n",
    "y=np.empty_like(x)\n",
    "print(y)"
   ]
  },
  {
   "cell_type": "code",
   "execution_count": 94,
   "id": "c3aed214",
   "metadata": {},
   "outputs": [
    {
     "name": "stdout",
     "output_type": "stream",
     "text": [
      "[[ 2  2  4]\n",
      " [ 5  5  7]\n",
      " [ 8  8 10]\n",
      " [11 11 13]]\n"
     ]
    }
   ],
   "source": [
    "for i in range(4):\n",
    "    y[i,:]=x[i,:]+v\n",
    "\n",
    "print(y)"
   ]
  },
  {
   "cell_type": "code",
   "execution_count": 95,
   "id": "e712284b",
   "metadata": {},
   "outputs": [
    {
     "name": "stdout",
     "output_type": "stream",
     "text": [
      "[[ 2  2  4]\n",
      " [ 5  5  7]\n",
      " [ 8  8 10]\n",
      " [11 11 13]]\n"
     ]
    }
   ],
   "source": [
    "x=np.array([[1,2,3],[4,5,6],[7,8,9],[10,11,12]])\n",
    "v=np.array([1,0,1])\n",
    "y=x+v\n",
    "print(y)"
   ]
  },
  {
   "cell_type": "code",
   "execution_count": 96,
   "id": "a946c77e",
   "metadata": {},
   "outputs": [],
   "source": [
    "#Pandas"
   ]
  },
  {
   "cell_type": "code",
   "execution_count": 98,
   "id": "dfbc271f",
   "metadata": {},
   "outputs": [],
   "source": [
    "import numpy as np\n",
    "import pandas as pd"
   ]
  },
  {
   "cell_type": "code",
   "execution_count": 99,
   "id": "b9ff2a18",
   "metadata": {},
   "outputs": [
    {
     "name": "stdout",
     "output_type": "stream",
     "text": [
      "count    4.000000\n",
      "mean     2.500000\n",
      "std      1.290994\n",
      "min      1.000000\n",
      "25%      1.750000\n",
      "50%      2.500000\n",
      "75%      3.250000\n",
      "max      4.000000\n",
      "dtype: float64 \n",
      "\n"
     ]
    }
   ],
   "source": [
    "a=np.array([1,2,3,4])\n",
    "series=pd.Series([1,2,3,4])\n",
    "print(series.describe(),'\\n')"
   ]
  },
  {
   "cell_type": "code",
   "execution_count": 100,
   "id": "23fffa61",
   "metadata": {},
   "outputs": [
    {
     "name": "stdout",
     "output_type": "stream",
     "text": [
      "1 \n",
      "\n",
      "0    1\n",
      "1    2\n",
      "dtype: int64 \n",
      "\n"
     ]
    }
   ],
   "source": [
    "series=pd.Series([1,2,3,4])\n",
    "print(series[0],'\\n')\n",
    "print(series[:2],'\\n')"
   ]
  },
  {
   "cell_type": "code",
   "execution_count": 103,
   "id": "88e350d6",
   "metadata": {},
   "outputs": [
    {
     "name": "stdout",
     "output_type": "stream",
     "text": [
      "1\n",
      "2\n",
      "3\n",
      "4\n"
     ]
    }
   ],
   "source": [
    "series=pd.Series([1,2,3,4])\n",
    "for d in series:\n",
    "    print(d)"
   ]
  },
  {
   "cell_type": "code",
   "execution_count": 104,
   "id": "a10a57ed",
   "metadata": {},
   "outputs": [
    {
     "name": "stdout",
     "output_type": "stream",
     "text": [
      "mean 2.5\n",
      "std 1.2909944487358056\n",
      "max 4\n"
     ]
    }
   ],
   "source": [
    "series=pd.Series([1,2,3,4])\n",
    "print('mean',series.mean())\n",
    "print('std',series.std())\n",
    "print('max',series.max())"
   ]
  },
  {
   "cell_type": "code",
   "execution_count": 105,
   "id": "e327cc57",
   "metadata": {},
   "outputs": [
    {
     "name": "stdout",
     "output_type": "stream",
     "text": [
      "0    2\n",
      "1    4\n",
      "2    4\n",
      "3    6\n",
      "dtype: int64\n",
      "0    2\n",
      "1    4\n",
      "2    6\n",
      "3    8\n",
      "dtype: int64\n",
      "0    False\n",
      "1    False\n",
      "2     True\n",
      "3     True\n",
      "dtype: bool\n",
      "2    3\n",
      "3    4\n",
      "dtype: int64\n"
     ]
    }
   ],
   "source": [
    "a=pd.Series([1,2,3,4])\n",
    "b=pd.Series([1,2,1,2])\n",
    "print(a+b)\n",
    "print(a*2)\n",
    "print(a>=3)\n",
    "print(a[a>=3])"
   ]
  },
  {
   "cell_type": "code",
   "execution_count": 106,
   "id": "cc5f65a1",
   "metadata": {},
   "outputs": [
    {
     "name": "stdout",
     "output_type": "stream",
     "text": [
      "China    1415045928\n",
      "India    1354051854\n",
      "USA       326766748\n",
      "dtype: int64 \n",
      "\n"
     ]
    }
   ],
   "source": [
    "#Panda Series Index\n",
    "\n",
    "population = pd.Series([1415045928,1354051854,326766748],index=[\"China\",\"India\",\"USA\"])\n",
    "print(population,'\\n')\n"
   ]
  },
  {
   "cell_type": "code",
   "execution_count": 110,
   "id": "f47896b6",
   "metadata": {},
   "outputs": [
    {
     "name": "stdout",
     "output_type": "stream",
     "text": [
      "Population[0]= 1415045928 \n",
      "\n",
      "Population['India']= 1354051854\n"
     ]
    }
   ],
   "source": [
    "print('Population[0]=',population[0],'\\n')\n",
    "print('Population[\\'India\\']=',population['India'])"
   ]
  },
  {
   "cell_type": "code",
   "execution_count": 112,
   "id": "1b56f42e",
   "metadata": {},
   "outputs": [
    {
     "name": "stdout",
     "output_type": "stream",
     "text": [
      "[1415045928 1354051854  326766748] \n",
      "\n",
      "Population of India is 1354051854\n"
     ]
    }
   ],
   "source": [
    "#Aynı işlemleri numpy array ile yapsaydık 2 array oluşturmak\n",
    "#zorunda kalacaktık\n",
    "\n",
    "population = np.array([1415045928,1354051854,326766748])\n",
    "index=np.array([\"China\",\"India\",\"USA\"])\n",
    "print(population,'\\n')\n",
    "print('Population of {} is {}'.format(index[1],population[1]))\n"
   ]
  },
  {
   "cell_type": "code",
   "execution_count": 115,
   "id": "4cf4f892",
   "metadata": {},
   "outputs": [
    {
     "name": "stdout",
     "output_type": "stream",
     "text": [
      "1415045928\n",
      "1415045928\n",
      "1415045928\n"
     ]
    }
   ],
   "source": [
    "#Pandas Loc and iloc\n",
    "\n",
    "population = pd.Series([1415045928,1354051854,326766748],index=[\"China\",\"India\",\"USA\"])\n",
    "print(population[0])\n",
    "print(population.iloc[0])\n",
    "print(population.loc['China'])"
   ]
  },
  {
   "cell_type": "code",
   "execution_count": 116,
   "id": "32af80f2",
   "metadata": {},
   "outputs": [
    {
     "name": "stdout",
     "output_type": "stream",
     "text": [
      "Country with maximum population =  0\n",
      "The max population is of country = China and population = 1415045928\n"
     ]
    }
   ],
   "source": [
    "#Finding Max\n",
    "\n",
    "population = pd.Series([1415045928,1354051854,326766748],index=[\"China\",\"India\",\"USA\"])\n",
    "print('Country with maximum population = ',population.values.argmax())\n",
    "print(\"The max population is of country = {} and population = {}\".format(index[population.values.argmax()],\n",
    "                                                                        population.iloc[population.values.argmax()]))"
   ]
  },
  {
   "cell_type": "code",
   "execution_count": 118,
   "id": "63ff84fb",
   "metadata": {},
   "outputs": [
    {
     "name": "stdout",
     "output_type": "stream",
     "text": [
      "a    101\n",
      "b    202\n",
      "c    303\n",
      "d    404\n",
      "dtype: int64\n"
     ]
    }
   ],
   "source": [
    "#Pandas series Addition\n",
    "\n",
    "#Addition when indexes are the same\n",
    "s1=pd.Series([1,2,3,4],index=['a','b','c','d'])\n",
    "s2=pd.Series([100,200,300,400],index=['a','b','c','d'])\n",
    "print(s1+s2)"
   ]
  },
  {
   "cell_type": "code",
   "execution_count": 119,
   "id": "3b93cdc4",
   "metadata": {},
   "outputs": [
    {
     "name": "stdout",
     "output_type": "stream",
     "text": [
      "a      NaN\n",
      "b      NaN\n",
      "c    103.0\n",
      "d    204.0\n",
      "e      NaN\n",
      "f      NaN\n",
      "dtype: float64\n"
     ]
    }
   ],
   "source": [
    "#Indexler aynı element değillerse\n",
    "s1=pd.Series([1,2,3,4],index=['a','b','c','d'])\n",
    "s2=pd.Series([100,200,300,400],index=['c','d','e','f'])\n",
    "print(s1+s2)"
   ]
  },
  {
   "cell_type": "code",
   "execution_count": 120,
   "id": "18d39b4c",
   "metadata": {},
   "outputs": [
    {
     "name": "stdout",
     "output_type": "stream",
     "text": [
      "a   NaN\n",
      "b   NaN\n",
      "c   NaN\n",
      "d   NaN\n",
      "e   NaN\n",
      "f   NaN\n",
      "g   NaN\n",
      "h   NaN\n",
      "dtype: float64\n"
     ]
    }
   ],
   "source": [
    "s1=pd.Series([1,2,3,4],index=['a','b','c','d'])\n",
    "s2=pd.Series([100,200,300,400],index=['e','f','g','h'])\n",
    "print(s1+s2)"
   ]
  },
  {
   "cell_type": "code",
   "execution_count": 121,
   "id": "7c0de69e",
   "metadata": {},
   "outputs": [
    {
     "name": "stdout",
     "output_type": "stream",
     "text": [
      "a    11.0\n",
      "b    22.0\n",
      "c     NaN\n",
      "d     NaN\n",
      "g     NaN\n",
      "h     NaN\n",
      "dtype: float64\n",
      "a    11.0\n",
      "b    22.0\n",
      "dtype: float64\n"
     ]
    }
   ],
   "source": [
    "#dropna kullanımı\n",
    "s1=pd.Series([1,2,3,4],index=['a','b','c','d'])\n",
    "s2=pd.Series([10,20,30,40],index=['a','b','g','h'])\n",
    "result=s1+s2\n",
    "print(result)\n",
    "print(result.dropna())"
   ]
  },
  {
   "cell_type": "code",
   "execution_count": 122,
   "id": "b31d8cdb",
   "metadata": {},
   "outputs": [
    {
     "name": "stdout",
     "output_type": "stream",
     "text": [
      "a    11.0\n",
      "b    22.0\n",
      "c     3.0\n",
      "d     4.0\n",
      "g    30.0\n",
      "h    40.0\n",
      "dtype: float64\n"
     ]
    }
   ],
   "source": [
    "s1=pd.Series([1,2,3,4],index=['a','b','c','d'])\n",
    "s2=pd.Series([10,20,30,40],index=['a','b','g','h'])\n",
    "result=s1.add(s2,fill_value=0)\n",
    "print(result.dropna())"
   ]
  },
  {
   "cell_type": "code",
   "execution_count": 123,
   "id": "145953b4",
   "metadata": {},
   "outputs": [
    {
     "name": "stdout",
     "output_type": "stream",
     "text": [
      "a     India\n",
      "b     China\n",
      "c    Brazil\n",
      "dtype: object\n"
     ]
    }
   ],
   "source": [
    "#Pandas Apply kullanımı\n",
    "def make_capital(str):\n",
    "    return str.capitalize()\n",
    "\n",
    "s1=pd.Series(['india','china','brazil'],index=['a','b','c'])\n",
    "s2=s1.apply(make_capital)\n",
    "print(s2)"
   ]
  },
  {
   "cell_type": "code",
   "execution_count": 124,
   "id": "7b5ff47d",
   "metadata": {},
   "outputs": [
    {
     "name": "stdout",
     "output_type": "stream",
     "text": [
      "  country  population capital\n",
      "0   India  1415045928   Delhi\n",
      "1   China  1354051854  Bejing\n",
      "2     USA   326766748     WDC\n",
      "population    1.031955e+09\n",
      "dtype: float64\n"
     ]
    },
    {
     "name": "stderr",
     "output_type": "stream",
     "text": [
      "C:\\Users\\Bootcamp\\Anaconda3\\lib\\site-packages\\ipykernel_launcher.py:10: FutureWarning: Dropping of nuisance columns in DataFrame reductions (with 'numeric_only=None') is deprecated; in a future version this will raise TypeError.  Select only valid columns before calling the reduction.\n",
      "  # Remove the CWD from sys.path while we load stuff.\n"
     ]
    }
   ],
   "source": [
    "#Dataframe Introduction\n",
    "#2 boyutlu arraydir\n",
    "country_df=pd.DataFrame({\n",
    "    'country':['India','China','USA'],\n",
    "    'population':[1415045928,1354051854,326766748],\n",
    "    'capital':['Delhi','Bejing','WDC']\n",
    "})\n",
    "\n",
    "print(country_df)\n",
    "print(country_df.mean())"
   ]
  },
  {
   "cell_type": "code",
   "execution_count": 125,
   "id": "e76cdffb",
   "metadata": {},
   "outputs": [
    {
     "name": "stdout",
     "output_type": "stream",
     "text": [
      "       population capital       gdp\n",
      "India  1415045928   Delhi   2848231\n",
      "China  1354051854  Bejing  14092514\n",
      "USA     326766748     WDC  20412870\n",
      "population    1415045928\n",
      "capital            Delhi\n",
      "gdp              2848231\n",
      "Name: India, dtype: object\n",
      "population    1415045928\n",
      "capital            Delhi\n",
      "gdp              2848231\n",
      "Name: India, dtype: object\n"
     ]
    }
   ],
   "source": [
    "#Pandas Datagrame Index , Loc , iloc\n",
    "\n",
    "country_df=pd.DataFrame({\n",
    "    'population':[1415045928,1354051854,326766748],\n",
    "    'capital':['Delhi','Bejing','WDC'],\n",
    "     'gdp':[2848231,14092514,20412870]\n",
    "},\n",
    "index=['India','China','USA'],)\n",
    "\n",
    "print(country_df)\n",
    "print(country_df.loc['India'])\n",
    "print(country_df.iloc[0])\n",
    "#Data frameler collection of series olarak da tanımlanabilir"
   ]
  },
  {
   "cell_type": "code",
   "execution_count": 126,
   "id": "0a6ccd72",
   "metadata": {},
   "outputs": [
    {
     "name": "stdout",
     "output_type": "stream",
     "text": [
      "[[1415045928 'Delhi' 2848231]\n",
      " [1354051854 'Bejing' 14092514]\n",
      " [326766748 'WDC' 20412870]]\n"
     ]
    }
   ],
   "source": [
    "#Pandas Sum along axis\n",
    "\n",
    "country_df=pd.DataFrame({\n",
    "    'population':[1415045928,1354051854,326766748],\n",
    "    'capital':['Delhi','Bejing','WDC'],\n",
    "     'gdp':[2848231,14092514,20412870]\n",
    "},\n",
    "index=['India','China','USA'],)\n",
    "\n",
    "print(country_df.values)\n"
   ]
  },
  {
   "cell_type": "code",
   "execution_count": 130,
   "id": "07f2f4b1",
   "metadata": {},
   "outputs": [
    {
     "name": "stdout",
     "output_type": "stream",
     "text": [
      "   A  B\n",
      "0  0  3\n",
      "1  1  4\n",
      "2  2  5\n",
      "\n",
      "A     3\n",
      "B    12\n",
      "dtype: int64\n",
      "\n",
      "A     3\n",
      "B    12\n",
      "dtype: int64 \n",
      "\n",
      "0    3\n",
      "1    5\n",
      "2    7\n",
      "dtype: int64 \n",
      "\n"
     ]
    }
   ],
   "source": [
    "df=pd.DataFrame({'A':[0,1,2],'B':[3,4,5]})\n",
    "print(df)\n",
    "print()\n",
    "print(df.sum())\n",
    "print()\n",
    "print(df.sum(axis=0),'\\n')\n",
    "print(df.sum(axis=1),'\\n')"
   ]
  },
  {
   "cell_type": "code",
   "execution_count": 131,
   "id": "243dfbba",
   "metadata": {},
   "outputs": [
    {
     "name": "stdout",
     "output_type": "stream",
     "text": [
      "    a   b   c\n",
      "0  11  44  77\n",
      "1  22  55  88\n",
      "2  33  66  99\n"
     ]
    }
   ],
   "source": [
    "#Pandas DataFrame Addition\n",
    "\n",
    "df1=pd.DataFrame({'a':[1,2,3],'b':[4,5,6],'c':[7,8,9]})\n",
    "df2=pd.DataFrame({'a':[10,20,30],'b':[40,50,60],'c':[70,80,90]})\n",
    "print(df1+df2)"
   ]
  },
  {
   "cell_type": "code",
   "execution_count": 132,
   "id": "a606635b",
   "metadata": {},
   "outputs": [
    {
     "name": "stdout",
     "output_type": "stream",
     "text": [
      "    a   b   c   d\n",
      "0 NaN  74  47 NaN\n",
      "1 NaN  85  58 NaN\n",
      "2 NaN  96  69 NaN\n"
     ]
    }
   ],
   "source": [
    "df1=pd.DataFrame({'a':[1,2,3],'b':[4,5,6],'c':[7,8,9]})\n",
    "df2=pd.DataFrame({'d':[10,20,30],'c':[40,50,60],'b':[70,80,90]})\n",
    "print(df1+df2)"
   ]
  },
  {
   "cell_type": "code",
   "execution_count": 134,
   "id": "484803fa",
   "metadata": {},
   "outputs": [
    {
     "name": "stdout",
     "output_type": "stream",
     "text": [
      "         a     b     c\n",
      "row1   NaN   NaN   NaN\n",
      "row2  32.0  65.0  98.0\n",
      "row3  23.0  56.0  89.0\n",
      "row4   NaN   NaN   NaN\n"
     ]
    }
   ],
   "source": [
    "df1=pd.DataFrame({'a':[1,2,3],'b':[4,5,6],'c':[7,8,9]},\n",
    "                index=['row1','row2','row3'])\n",
    "df2=pd.DataFrame({'a':[10,20,30],'b':[40,50,60],'c':[70,80,90]},\n",
    "                index=['row4','row3','row2'])\n",
    "print(df1+df2)"
   ]
  },
  {
   "cell_type": "code",
   "execution_count": 135,
   "id": "294f9897",
   "metadata": {},
   "outputs": [
    {
     "name": "stdout",
     "output_type": "stream",
     "text": [
      "   a   b   c\n",
      "0  2  11   6\n",
      "1  3  21  11\n",
      "2  4  31  16\n"
     ]
    }
   ],
   "source": [
    "#Pandas DataFrame ApplyMap\n",
    "\n",
    "df= pd.DataFrame({\n",
    "    'a':[1,2,3],\n",
    "    'b':[10,20,30],\n",
    "    'c':[5,10,15]\n",
    "})\n",
    "\n",
    "def add_one(x):\n",
    "    return x+1\n",
    "\n",
    "print(df.applymap(add_one))"
   ]
  },
  {
   "cell_type": "code",
   "execution_count": 136,
   "id": "50875277",
   "metadata": {},
   "outputs": [
    {
     "name": "stderr",
     "output_type": "stream",
     "text": [
      "C:\\Users\\Bootcamp\\Anaconda3\\lib\\site-packages\\IPython\\core\\interactiveshell.py:3331: FutureWarning: The error_bad_lines argument has been deprecated and will be removed in a future version.\n",
      "\n",
      "\n",
      "  exec(code_obj, self.user_global_ns, self.user_ns)\n"
     ]
    },
    {
     "name": "stdout",
     "output_type": "stream",
     "text": [
      "  itemcode           date  amount\n",
      "0      MAG  01-April-2018    1000\n",
      "1      MAG  02-April-2018     100\n",
      "2      ALP  01-April-2018    1000\n",
      "3      ALP  02-April-2018    1000 \n",
      "\n"
     ]
    }
   ],
   "source": [
    "#Pandas Reading a CSV file\n",
    "df=pd.read_csv('https://raw.githubusercontent.com/datasciencemastery/pandas-numpy-tutorial/master/data_sheet.csv',sep=',',error_bad_lines=False)\n",
    "print(df,'\\n')"
   ]
  },
  {
   "cell_type": "code",
   "execution_count": 138,
   "id": "632cfcc1",
   "metadata": {},
   "outputs": [
    {
     "name": "stdout",
     "output_type": "stream",
     "text": [
      "  itemcode           date  amount\n",
      "0      MAG  01-April-2018    1000\n",
      "1      MAG  02-April-2018     100 \n",
      "\n"
     ]
    }
   ],
   "source": [
    "print(df[df.itemcode=='MAG'],'\\n')"
   ]
  },
  {
   "cell_type": "code",
   "execution_count": 144,
   "id": "abc10b3b",
   "metadata": {},
   "outputs": [
    {
     "name": "stdout",
     "output_type": "stream",
     "text": [
      "0     True\n",
      "1    False\n",
      "2    False\n",
      "3    False\n",
      "dtype: bool \n",
      "\n"
     ]
    }
   ],
   "source": [
    "print((df.itemcode=='MAG') & (df.amount>100),'\\n')"
   ]
  },
  {
   "cell_type": "code",
   "execution_count": 145,
   "id": "1435da9a",
   "metadata": {},
   "outputs": [
    {
     "name": "stdout",
     "output_type": "stream",
     "text": [
      "  itemcode           date  amount\n",
      "0      MAG  01-April-2018    1000\n"
     ]
    }
   ],
   "source": [
    "print(df[(df.itemcode=='MAG') & (df.amount>100)])"
   ]
  },
  {
   "cell_type": "code",
   "execution_count": null,
   "id": "b6fa4d08",
   "metadata": {},
   "outputs": [],
   "source": [
    "#bitti"
   ]
  },
  {
   "cell_type": "code",
   "execution_count": null,
   "id": "459d6e20",
   "metadata": {},
   "outputs": [],
   "source": []
  }
 ],
 "metadata": {
  "kernelspec": {
   "display_name": "Python 3",
   "language": "python",
   "name": "python3"
  },
  "language_info": {
   "codemirror_mode": {
    "name": "ipython",
    "version": 3
   },
   "file_extension": ".py",
   "mimetype": "text/x-python",
   "name": "python",
   "nbconvert_exporter": "python",
   "pygments_lexer": "ipython3",
   "version": "3.7.7"
  }
 },
 "nbformat": 4,
 "nbformat_minor": 5
}
