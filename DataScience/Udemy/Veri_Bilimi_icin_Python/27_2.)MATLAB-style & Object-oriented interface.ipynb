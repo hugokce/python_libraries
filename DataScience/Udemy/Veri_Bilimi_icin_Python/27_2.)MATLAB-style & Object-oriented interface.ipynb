{
 "cells": [
  {
   "cell_type": "markdown",
   "metadata": {},
   "source": [
    "# MATLAB-style & Object-oriented interface"
   ]
  },
  {
   "cell_type": "markdown",
   "metadata": {},
   "source": [
    "Daha fazla grafik çizmek için farklı yollara geçmemiz gerekir. Burada 2 metot var:\n",
    "\n",
    "        1)MATLAB-style Interface\n",
    "        2)Object-oriented interface\n",
    "        \n",
    "Birden fazla çizimler için, hangi stilin kullanılacağının seçimi büyük ölçüde bir **tercih meselesidir**, ancak nesneler daha karmaşık hale geldikçe **nesne yönelimli yaklaşım bir gereklilik haline gelebilir**. Bu bölümde, en uygun olana bağlı olarak MATLAB stili ve nesne yönelimli arayüzler arasında geçiş yapabiliriz. Çoğu durumda, **fark plt.plot () ile ax.plot () arasında geçiş yapmak kadar küçüktür**, "
   ]
  },
  {
   "cell_type": "code",
   "execution_count": 1,
   "metadata": {},
   "outputs": [],
   "source": [
    "import matplotlib.pyplot as plt\n",
    "import numpy as np"
   ]
  },
  {
   "cell_type": "code",
   "execution_count": 2,
   "metadata": {},
   "outputs": [],
   "source": [
    "%matplotlib inline"
   ]
  },
  {
   "cell_type": "code",
   "execution_count": 3,
   "metadata": {},
   "outputs": [],
   "source": [
    "x_dizi=np.arange(1,5,1)\n",
    "y_dizi=np.arange(1,5,1)\n",
    "\n",
    "x_dizi_kare = x_dizi\n",
    "y_dizi_kare = y_dizi**2\n",
    "\n",
    "x_dizi_küp = x_dizi\n",
    "y_dizi_küp = y_dizi**3"
   ]
  },
  {
   "cell_type": "code",
   "execution_count": 4,
   "metadata": {},
   "outputs": [
    {
     "data": {
      "text/plain": [
       "(array([1, 2, 3, 4]), array([1, 2, 3, 4]))"
      ]
     },
     "execution_count": 4,
     "metadata": {},
     "output_type": "execute_result"
    }
   ],
   "source": [
    "x_dizi,y_dizi"
   ]
  },
  {
   "cell_type": "code",
   "execution_count": 5,
   "metadata": {},
   "outputs": [
    {
     "data": {
      "text/plain": [
       "(array([1, 2, 3, 4]), array([ 1,  4,  9, 16], dtype=int32))"
      ]
     },
     "execution_count": 5,
     "metadata": {},
     "output_type": "execute_result"
    }
   ],
   "source": [
    "x_dizi_kare,y_dizi_kare"
   ]
  },
  {
   "cell_type": "code",
   "execution_count": 6,
   "metadata": {},
   "outputs": [
    {
     "data": {
      "text/plain": [
       "(array([1, 2, 3, 4]), array([ 1,  8, 27, 64], dtype=int32))"
      ]
     },
     "execution_count": 6,
     "metadata": {},
     "output_type": "execute_result"
    }
   ],
   "source": [
    "x_dizi_küp,y_dizi_küp"
   ]
  },
  {
   "cell_type": "markdown",
   "metadata": {},
   "source": [
    "## 1)MATLAB-style Interface"
   ]
  },
  {
   "cell_type": "code",
   "execution_count": 7,
   "metadata": {},
   "outputs": [
    {
     "data": {
      "image/png": "[encoded data removed]",
      "text/plain": [
       "<Figure size 432x288 with 3 Axes>"
      ]
     },
     "metadata": {
      "needs_background": "light"
     },
     "output_type": "display_data"
    }
   ],
   "source": [
    "plt.figure() \n",
    "\n",
    "# rows x columns =  toplam nesne\n",
    "plt.subplot(3, 1, 1) # (rows, columns, panel number)\n",
    "plt.plot(x_dizi,y_dizi,'bs')\n",
    "\n",
    "\n",
    "plt.subplot(3, 1, 2) \n",
    "plt.plot(x_dizi_kare,y_dizi_kare, 'ro')\n",
    "\n",
    "\n",
    "plt.subplot(3, 1, 3)\n",
    "plt.plot(x_dizi_küp,y_dizi_küp, '^g')\n",
    "\n",
    "\n",
    "plt.show()"
   ]
  },
  {
   "cell_type": "code",
   "execution_count": 8,
   "metadata": {},
   "outputs": [
    {
     "data": {
      "image/png": "[encoded data removed]",
      "text/plain": [
       "<Figure size 432x288 with 3 Axes>"
      ]
     },
     "metadata": {
      "needs_background": "light"
     },
     "output_type": "display_data"
    }
   ],
   "source": [
    "plt.figure()\n",
    "\n",
    "# rows x columns =  toplam eksen\n",
    "plt.subplot(1, 3, 1) # (rows, columns, panel number)\n",
    "plt.plot(x_dizi,y_dizi,'bs')\n",
    "\n",
    "\n",
    "plt.subplot(1, 3, 2) \n",
    "plt.plot(x_dizi_kare,y_dizi_kare, 'ro')\n",
    "\n",
    "\n",
    "plt.subplot(1, 3, 3)\n",
    "plt.plot(x_dizi_küp,y_dizi_küp, '^g')\n",
    "\n",
    "plt.show()"
   ]
  },
  {
   "cell_type": "markdown",
   "metadata": {},
   "source": [
    "## 2)Object-oriented interface"
   ]
  },
  {
   "cell_type": "code",
   "execution_count": 9,
   "metadata": {},
   "outputs": [
    {
     "data": {
      "image/png": "[encoded data removed]",
      "text/plain": [
       "<Figure size 432x288 with 3 Axes>"
      ]
     },
     "metadata": {
      "needs_background": "light"
     },
     "output_type": "display_data"
    }
   ],
   "source": [
    "\n",
    "\n",
    "fig, ax = plt.subplots(3,1)# ax = Axes nesneleri\n",
    "\n",
    "# Uygun nesne üzerinde plot () yöntemini çağırıyoruz.\n",
    "\n",
    "ax[0].plot(x_dizi,y_dizi,'bs')\n",
    "ax[1].plot(x_dizi_kare,y_dizi_kare, 'ro')\n",
    "ax[2].plot(x_dizi_küp,y_dizi_küp, '^g')\n",
    "\n",
    "plt.show()\n",
    "\n"
   ]
  },
  {
   "cell_type": "code",
   "execution_count": 10,
   "metadata": {},
   "outputs": [
    {
     "data": {
      "image/png": "[encoded data removed]",
      "text/plain": [
       "<Figure size 720x72 with 3 Axes>"
      ]
     },
     "metadata": {
      "needs_background": "light"
     },
     "output_type": "display_data"
    }
   ],
   "source": [
    "\n",
    "fig, ax = plt.subplots(1,3,figsize=(10, 1)) # boyut ayarlamayı figsize ile yapıyoruz\n",
    "\n",
    "\n",
    "ax[0].plot(x_dizi,y_dizi,'bs')\n",
    "ax[1].plot(x_dizi_kare,y_dizi_kare, 'ro')\n",
    "ax[2].plot(x_dizi_küp,y_dizi_küp, '^g')\n",
    "\n",
    "plt.show()\n",
    "\n"
   ]
  },
  {
   "cell_type": "code",
   "execution_count": null,
   "metadata": {},
   "outputs": [],
   "source": []
  }
 ],
 "metadata": {
  "kernelspec": {
   "display_name": "Python 3",
   "language": "python",
   "name": "python3"
  },
  "language_info": {
   "codemirror_mode": {
    "name": "ipython",
    "version": 3
   },
   "file_extension": ".py",
   "mimetype": "text/x-python",
   "name": "python",
   "nbconvert_exporter": "python",
   "pygments_lexer": "ipython3",
   "version": "3.7.7"
  }
 },
 "nbformat": 4,
 "nbformat_minor": 2
}
