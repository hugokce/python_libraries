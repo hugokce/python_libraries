{
 "cells": [
  {
   "cell_type": "code",
   "execution_count": 3,
   "id": "54561bb2",
   "metadata": {},
   "outputs": [],
   "source": [
    "#https://www.udemy.com/course/draft/2756336/learn/lecture/17648106?start=0#overview\n",
    "\n",
    "#3saat\n",
    "#anaconda ile çalışıyor\n",
    "#code.zip var"
   ]
  },
  {
   "cell_type": "code",
   "execution_count": 2,
   "id": "2bdfb582",
   "metadata": {},
   "outputs": [],
   "source": [
    "import numpy as np"
   ]
  },
  {
   "cell_type": "code",
   "execution_count": 30,
   "id": "6ba8a26b",
   "metadata": {},
   "outputs": [
    {
     "data": {
      "text/plain": [
       "numpy.ndarray"
      ]
     },
     "execution_count": 30,
     "metadata": {},
     "output_type": "execute_result"
    }
   ],
   "source": [
    "mylist = [2,3,4]\n",
    "my_arr_1d = np.array(mylist)\n",
    "type(my_arr_id)"
   ]
  },
  {
   "cell_type": "code",
   "execution_count": 6,
   "id": "caadcabc",
   "metadata": {},
   "outputs": [
    {
     "data": {
      "text/plain": [
       "array([[ 2,  5,  6],\n",
       "       [ 4,  0, -3]])"
      ]
     },
     "execution_count": 6,
     "metadata": {},
     "output_type": "execute_result"
    }
   ],
   "source": [
    "my_arr_2d = np.array([[2,5,6],[4,0,-3]])\n",
    "my_arr_2d"
   ]
  },
  {
   "cell_type": "code",
   "execution_count": 7,
   "id": "5f45541f",
   "metadata": {},
   "outputs": [
    {
     "data": {
      "text/plain": [
       "array([[ 2.,  5.,  6.],\n",
       "       [ 4.,  0., -3.]])"
      ]
     },
     "execution_count": 7,
     "metadata": {},
     "output_type": "execute_result"
    }
   ],
   "source": [
    "np.array([[2,5,6],[4,0,-3.0]])"
   ]
  },
  {
   "cell_type": "code",
   "execution_count": 9,
   "id": "ea02f758",
   "metadata": {},
   "outputs": [
    {
     "name": "stderr",
     "output_type": "stream",
     "text": [
      "C:\\Users\\Bootcamp\\Anaconda3\\lib\\site-packages\\ipykernel_launcher.py:1: DeprecationWarning: `np.float` is a deprecated alias for the builtin `float`. To silence this warning, use `float` by itself. Doing this will not modify any behavior and is safe. If you specifically wanted the numpy scalar type, use `np.float64` here.\n",
      "Deprecated in NumPy 1.20; for more details and guidance: https://numpy.org/devdocs/release/1.20.0-notes.html#deprecations\n",
      "  \"\"\"Entry point for launching an IPython kernel.\n"
     ]
    },
    {
     "data": {
      "text/plain": [
       "array([[ 2.,  5.,  6.],\n",
       "       [ 4.,  0., -3.]])"
      ]
     },
     "execution_count": 9,
     "metadata": {},
     "output_type": "execute_result"
    }
   ],
   "source": [
    "np.array([[2,5,6],[4, 0, -3.0]],dtype=np.float)"
   ]
  },
  {
   "cell_type": "code",
   "execution_count": 10,
   "id": "05ecc1bf",
   "metadata": {},
   "outputs": [
    {
     "name": "stderr",
     "output_type": "stream",
     "text": [
      "C:\\Users\\Bootcamp\\Anaconda3\\lib\\site-packages\\ipykernel_launcher.py:1: DeprecationWarning: `np.complex` is a deprecated alias for the builtin `complex`. To silence this warning, use `complex` by itself. Doing this will not modify any behavior and is safe. If you specifically wanted the numpy scalar type, use `np.complex128` here.\n",
      "Deprecated in NumPy 1.20; for more details and guidance: https://numpy.org/devdocs/release/1.20.0-notes.html#deprecations\n",
      "  \"\"\"Entry point for launching an IPython kernel.\n"
     ]
    },
    {
     "data": {
      "text/plain": [
       "array([[ 2.+0.j,  5.+0.j,  6.+0.j],\n",
       "       [ 4.+0.j,  0.+0.j, -3.+0.j]])"
      ]
     },
     "execution_count": 10,
     "metadata": {},
     "output_type": "execute_result"
    }
   ],
   "source": [
    "np.array([[2,5,6],[4, 0, -3.0]],dtype=np.complex)"
   ]
  },
  {
   "cell_type": "code",
   "execution_count": 11,
   "id": "6e6bb331",
   "metadata": {},
   "outputs": [
    {
     "name": "stderr",
     "output_type": "stream",
     "text": [
      "C:\\Users\\Bootcamp\\Anaconda3\\lib\\site-packages\\ipykernel_launcher.py:1: DeprecationWarning: `np.bool` is a deprecated alias for the builtin `bool`. To silence this warning, use `bool` by itself. Doing this will not modify any behavior and is safe. If you specifically wanted the numpy scalar type, use `np.bool_` here.\n",
      "Deprecated in NumPy 1.20; for more details and guidance: https://numpy.org/devdocs/release/1.20.0-notes.html#deprecations\n",
      "  \"\"\"Entry point for launching an IPython kernel.\n"
     ]
    },
    {
     "data": {
      "text/plain": [
       "array([[ True,  True,  True],\n",
       "       [ True, False,  True]])"
      ]
     },
     "execution_count": 11,
     "metadata": {},
     "output_type": "execute_result"
    }
   ],
   "source": [
    "np.array([[2,5,6],[4, 0, -3.0]],dtype=np.bool)"
   ]
  },
  {
   "cell_type": "code",
   "execution_count": 12,
   "id": "ff253515",
   "metadata": {},
   "outputs": [
    {
     "data": {
      "text/plain": [
       "array(['hello', 'True', '23', '5.6'], dtype='<U32')"
      ]
     },
     "execution_count": 12,
     "metadata": {},
     "output_type": "execute_result"
    }
   ],
   "source": [
    "np.array([\"hello\",True,23,5.6])"
   ]
  },
  {
   "cell_type": "code",
   "execution_count": 16,
   "id": "0023a13d",
   "metadata": {},
   "outputs": [],
   "source": [
    "my_arr_3d = np.array([[[2,3],[1,4],\n",
    "          [2,0],[1,5],\n",
    "          [2,1],[1,2]]])"
   ]
  },
  {
   "cell_type": "code",
   "execution_count": 17,
   "id": "7d540d80",
   "metadata": {},
   "outputs": [],
   "source": [
    "#Array Attributes"
   ]
  },
  {
   "cell_type": "code",
   "execution_count": 31,
   "id": "142eb02c",
   "metadata": {},
   "outputs": [
    {
     "name": "stdout",
     "output_type": "stream",
     "text": [
      "[2 3 4]\n",
      "[[ 2  5  6]\n",
      " [ 4  0 -3]]\n",
      "[[[2 3]\n",
      "  [1 4]\n",
      "  [2 0]\n",
      "  [1 5]\n",
      "  [2 1]\n",
      "  [1 2]]]\n"
     ]
    }
   ],
   "source": [
    "print(my_arr_1d)\n",
    "print(my_arr_2d)\n",
    "print(my_arr_3d)"
   ]
  },
  {
   "cell_type": "code",
   "execution_count": 32,
   "id": "61eb6d5e",
   "metadata": {},
   "outputs": [
    {
     "data": {
      "text/plain": [
       "((3,), (2, 3), (1, 6, 2))"
      ]
     },
     "execution_count": 32,
     "metadata": {},
     "output_type": "execute_result"
    }
   ],
   "source": [
    "my_arr_1d.shape, my_arr_2d.shape, my_arr_3d.shape"
   ]
  },
  {
   "cell_type": "code",
   "execution_count": 33,
   "id": "b805095c",
   "metadata": {},
   "outputs": [
    {
     "data": {
      "text/plain": [
       "(3, 2, 1)"
      ]
     },
     "execution_count": 33,
     "metadata": {},
     "output_type": "execute_result"
    }
   ],
   "source": [
    "len(my_arr_1d), len(my_arr_2d), len(my_arr_3d)"
   ]
  },
  {
   "cell_type": "code",
   "execution_count": 34,
   "id": "187be857",
   "metadata": {},
   "outputs": [
    {
     "data": {
      "text/plain": [
       "(3, 6, 12)"
      ]
     },
     "execution_count": 34,
     "metadata": {},
     "output_type": "execute_result"
    }
   ],
   "source": [
    "my_arr_1d.size, my_arr_2d.size, my_arr_3d.size"
   ]
  },
  {
   "cell_type": "code",
   "execution_count": 35,
   "id": "2d41a517",
   "metadata": {},
   "outputs": [
    {
     "data": {
      "text/plain": [
       "(dtype('int32'), dtype('int32'), dtype('int32'))"
      ]
     },
     "execution_count": 35,
     "metadata": {},
     "output_type": "execute_result"
    }
   ],
   "source": [
    "my_arr_1d.dtype, my_arr_2d.dtype, my_arr_3d.dtype"
   ]
  },
  {
   "cell_type": "code",
   "execution_count": 28,
   "id": "2284df4b",
   "metadata": {},
   "outputs": [
    {
     "data": {
      "text/plain": [
       "dtype('float64')"
      ]
     },
     "execution_count": 28,
     "metadata": {},
     "output_type": "execute_result"
    }
   ],
   "source": [
    "np.array([[2,5,6],[4, 0, -3.0]]).dtype"
   ]
  },
  {
   "cell_type": "code",
   "execution_count": 37,
   "id": "53bcd757",
   "metadata": {},
   "outputs": [
    {
     "data": {
      "text/plain": [
       "dtype('complex128')"
      ]
     },
     "execution_count": 37,
     "metadata": {},
     "output_type": "execute_result"
    }
   ],
   "source": [
    "np.array([[2,5,6],[4, 0, -3.0]],dtype=complex).dtype"
   ]
  },
  {
   "cell_type": "code",
   "execution_count": 36,
   "id": "9c784227",
   "metadata": {},
   "outputs": [
    {
     "data": {
      "text/plain": [
       "(1, 2, 3)"
      ]
     },
     "execution_count": 36,
     "metadata": {},
     "output_type": "execute_result"
    }
   ],
   "source": [
    "my_arr_1d.ndim, my_arr_2d.ndim, my_arr_3d.ndim"
   ]
  },
  {
   "cell_type": "code",
   "execution_count": 38,
   "id": "f17327ae",
   "metadata": {},
   "outputs": [
    {
     "data": {
      "text/plain": [
       "array([0, 1, 2, 3, 4, 5, 6, 7, 8, 9])"
      ]
     },
     "execution_count": 38,
     "metadata": {},
     "output_type": "execute_result"
    }
   ],
   "source": [
    "np.arange(10)"
   ]
  },
  {
   "cell_type": "code",
   "execution_count": 39,
   "id": "045d24ed",
   "metadata": {},
   "outputs": [
    {
     "data": {
      "text/plain": [
       "array([5, 6, 7, 8, 9])"
      ]
     },
     "execution_count": 39,
     "metadata": {},
     "output_type": "execute_result"
    }
   ],
   "source": [
    "np.arange(5,10)"
   ]
  },
  {
   "cell_type": "code",
   "execution_count": 40,
   "id": "378e0234",
   "metadata": {},
   "outputs": [
    {
     "data": {
      "text/plain": [
       "array([ 5,  7,  9, 11, 13, 15, 17, 19])"
      ]
     },
     "execution_count": 40,
     "metadata": {},
     "output_type": "execute_result"
    }
   ],
   "source": [
    "np.arange(5,20,2)"
   ]
  },
  {
   "cell_type": "code",
   "execution_count": 41,
   "id": "6eb31537",
   "metadata": {},
   "outputs": [
    {
     "data": {
      "text/plain": [
       "array([-10,  -7,  -4,  -1,   2])"
      ]
     },
     "execution_count": 41,
     "metadata": {},
     "output_type": "execute_result"
    }
   ],
   "source": [
    "np.arange(-10,5,3)"
   ]
  },
  {
   "cell_type": "code",
   "execution_count": 42,
   "id": "d6bfa483",
   "metadata": {},
   "outputs": [
    {
     "data": {
      "text/plain": [
       "array([ 0.        ,  0.20408163,  0.40816327,  0.6122449 ,  0.81632653,\n",
       "        1.02040816,  1.2244898 ,  1.42857143,  1.63265306,  1.83673469,\n",
       "        2.04081633,  2.24489796,  2.44897959,  2.65306122,  2.85714286,\n",
       "        3.06122449,  3.26530612,  3.46938776,  3.67346939,  3.87755102,\n",
       "        4.08163265,  4.28571429,  4.48979592,  4.69387755,  4.89795918,\n",
       "        5.10204082,  5.30612245,  5.51020408,  5.71428571,  5.91836735,\n",
       "        6.12244898,  6.32653061,  6.53061224,  6.73469388,  6.93877551,\n",
       "        7.14285714,  7.34693878,  7.55102041,  7.75510204,  7.95918367,\n",
       "        8.16326531,  8.36734694,  8.57142857,  8.7755102 ,  8.97959184,\n",
       "        9.18367347,  9.3877551 ,  9.59183673,  9.79591837, 10.        ])"
      ]
     },
     "execution_count": 42,
     "metadata": {},
     "output_type": "execute_result"
    }
   ],
   "source": [
    "np.linspace(0,10)"
   ]
  },
  {
   "cell_type": "code",
   "execution_count": 43,
   "id": "488a72b7",
   "metadata": {},
   "outputs": [
    {
     "data": {
      "text/plain": [
       "array([ 0.,  5., 10.])"
      ]
     },
     "execution_count": 43,
     "metadata": {},
     "output_type": "execute_result"
    }
   ],
   "source": [
    "np.linspace(0,10,3)"
   ]
  },
  {
   "cell_type": "code",
   "execution_count": 44,
   "id": "a62d3c27",
   "metadata": {},
   "outputs": [
    {
     "data": {
      "text/plain": [
       "array([-10.        ,  -7.77777778,  -5.55555556,  -3.33333333,\n",
       "        -1.11111111,   1.11111111,   3.33333333,   5.55555556,\n",
       "         7.77777778,  10.        ])"
      ]
     },
     "execution_count": 44,
     "metadata": {},
     "output_type": "execute_result"
    }
   ],
   "source": [
    "np.linspace(-10,10,10)"
   ]
  },
  {
   "cell_type": "code",
   "execution_count": 45,
   "id": "242aca8a",
   "metadata": {},
   "outputs": [
    {
     "data": {
      "text/plain": [
       "array([1.e+01, 1.e+02, 1.e+03, 1.e+04, 1.e+05, 1.e+06, 1.e+07, 1.e+08,\n",
       "       1.e+09, 1.e+10])"
      ]
     },
     "execution_count": 45,
     "metadata": {},
     "output_type": "execute_result"
    }
   ],
   "source": [
    "np.logspace(1,10,10)"
   ]
  },
  {
   "cell_type": "code",
   "execution_count": 46,
   "id": "cc06dc93",
   "metadata": {},
   "outputs": [
    {
     "data": {
      "text/plain": [
       "array([   2.        ,    9.51365692,   45.254834  ,  215.2694823 ,\n",
       "       1024.        ])"
      ]
     },
     "execution_count": 46,
     "metadata": {},
     "output_type": "execute_result"
    }
   ],
   "source": [
    "np.logspace(1,10,num=5,base=2)"
   ]
  },
  {
   "cell_type": "code",
   "execution_count": 47,
   "id": "637e4d6f",
   "metadata": {},
   "outputs": [
    {
     "data": {
      "text/plain": [
       "array([   2.,    4.,    8.,   16.,   32.,   64.,  128.,  256.,  512.,\n",
       "       1024.])"
      ]
     },
     "execution_count": 47,
     "metadata": {},
     "output_type": "execute_result"
    }
   ],
   "source": [
    "np.logspace(1,10,num=10,base=2)"
   ]
  },
  {
   "cell_type": "code",
   "execution_count": 48,
   "id": "4cc55c3e",
   "metadata": {},
   "outputs": [
    {
     "data": {
      "text/plain": [
       "array([0., 0., 0.])"
      ]
     },
     "execution_count": 48,
     "metadata": {},
     "output_type": "execute_result"
    }
   ],
   "source": [
    "np.zeros(3)"
   ]
  },
  {
   "cell_type": "code",
   "execution_count": 49,
   "id": "7ed9a68a",
   "metadata": {},
   "outputs": [
    {
     "data": {
      "text/plain": [
       "array([[0., 0., 0., 0., 0.],\n",
       "       [0., 0., 0., 0., 0.],\n",
       "       [0., 0., 0., 0., 0.]])"
      ]
     },
     "execution_count": 49,
     "metadata": {},
     "output_type": "execute_result"
    }
   ],
   "source": [
    "np.zeros((3,5))"
   ]
  },
  {
   "cell_type": "code",
   "execution_count": 50,
   "id": "33e4883e",
   "metadata": {},
   "outputs": [
    {
     "data": {
      "text/plain": [
       "array([1., 1., 1.])"
      ]
     },
     "execution_count": 50,
     "metadata": {},
     "output_type": "execute_result"
    }
   ],
   "source": [
    "np.ones(3)"
   ]
  },
  {
   "cell_type": "code",
   "execution_count": 51,
   "id": "14cd4131",
   "metadata": {},
   "outputs": [
    {
     "data": {
      "text/plain": [
       "array([[[1., 1., 1., 1., 1.],\n",
       "        [1., 1., 1., 1., 1.],\n",
       "        [1., 1., 1., 1., 1.],\n",
       "        [1., 1., 1., 1., 1.]],\n",
       "\n",
       "       [[1., 1., 1., 1., 1.],\n",
       "        [1., 1., 1., 1., 1.],\n",
       "        [1., 1., 1., 1., 1.],\n",
       "        [1., 1., 1., 1., 1.]],\n",
       "\n",
       "       [[1., 1., 1., 1., 1.],\n",
       "        [1., 1., 1., 1., 1.],\n",
       "        [1., 1., 1., 1., 1.],\n",
       "        [1., 1., 1., 1., 1.]]])"
      ]
     },
     "execution_count": 51,
     "metadata": {},
     "output_type": "execute_result"
    }
   ],
   "source": [
    "np.ones((3,4,5))"
   ]
  },
  {
   "cell_type": "code",
   "execution_count": 52,
   "id": "6dff5f45",
   "metadata": {},
   "outputs": [
    {
     "data": {
      "text/plain": [
       "array([[5, 5, 5],\n",
       "       [5, 5, 5]])"
      ]
     },
     "execution_count": 52,
     "metadata": {},
     "output_type": "execute_result"
    }
   ],
   "source": [
    "np.full((2,3),5)"
   ]
  },
  {
   "cell_type": "code",
   "execution_count": 54,
   "id": "3880291d",
   "metadata": {},
   "outputs": [
    {
     "data": {
      "text/plain": [
       "array([[ 2.,  0.,  5.,  0.],\n",
       "       [ 6.,  0.,  4.,  0.],\n",
       "       [ 0.,  0., -3.,  0.]])"
      ]
     },
     "execution_count": 54,
     "metadata": {},
     "output_type": "execute_result"
    }
   ],
   "source": [
    "np.empty((3,4))"
   ]
  },
  {
   "cell_type": "code",
   "execution_count": 55,
   "id": "b809c898",
   "metadata": {},
   "outputs": [
    {
     "data": {
      "text/plain": [
       "array([[ 2.,  5.],\n",
       "       [ 6.,  4.],\n",
       "       [ 0., -3.]])"
      ]
     },
     "execution_count": 55,
     "metadata": {},
     "output_type": "execute_result"
    }
   ],
   "source": [
    "np.empty((3,2))"
   ]
  },
  {
   "cell_type": "code",
   "execution_count": 56,
   "id": "9492788c",
   "metadata": {},
   "outputs": [
    {
     "data": {
      "text/plain": [
       "array([[6.23042070e-307, 4.67296746e-307, 1.69121096e-306,\n",
       "        1.37962117e-306, 1.29060871e-306, 1.11256817e-306],\n",
       "       [1.06811422e-306, 1.42417221e-306, 1.11260619e-306,\n",
       "        8.90094053e-307, 1.86919378e-306, 1.06809792e-306],\n",
       "       [1.37962456e-306, 1.69111861e-306, 1.78020169e-306,\n",
       "        1.37961777e-306, 7.56599807e-307, 1.42410974e-306]])"
      ]
     },
     "execution_count": 56,
     "metadata": {},
     "output_type": "execute_result"
    }
   ],
   "source": [
    "np.empty((3,6))"
   ]
  },
  {
   "cell_type": "code",
   "execution_count": 57,
   "id": "fb806375",
   "metadata": {},
   "outputs": [],
   "source": [
    "#Random number array"
   ]
  },
  {
   "cell_type": "code",
   "execution_count": 58,
   "id": "611f1062",
   "metadata": {},
   "outputs": [
    {
     "data": {
      "text/plain": [
       "38"
      ]
     },
     "execution_count": 58,
     "metadata": {},
     "output_type": "execute_result"
    }
   ],
   "source": [
    "np.random.randint(0,50)"
   ]
  },
  {
   "cell_type": "code",
   "execution_count": 72,
   "id": "23e99a2a",
   "metadata": {},
   "outputs": [
    {
     "data": {
      "text/plain": [
       "array([27,  6, 49,  2,  3,  3, 12, 48, 22, 49])"
      ]
     },
     "execution_count": 72,
     "metadata": {},
     "output_type": "execute_result"
    }
   ],
   "source": [
    "np.random.seed(12)\n",
    "np.random.randint(0,50)  #artık hep aynı değeri verecek\n",
    "np.random.randint(0,50,10)"
   ]
  },
  {
   "cell_type": "code",
   "execution_count": 67,
   "id": "9a17ec4a",
   "metadata": {},
   "outputs": [
    {
     "data": {
      "text/plain": [
       "27"
      ]
     },
     "execution_count": 67,
     "metadata": {},
     "output_type": "execute_result"
    }
   ],
   "source": [
    "np.random.randint(0,50)"
   ]
  },
  {
   "cell_type": "code",
   "execution_count": 73,
   "id": "19ab47f6",
   "metadata": {},
   "outputs": [
    {
     "data": {
      "text/plain": [
       "array([ 5, 13, 25, 34, 11, 10,  0, 40, 12, 13])"
      ]
     },
     "execution_count": 73,
     "metadata": {},
     "output_type": "execute_result"
    }
   ],
   "source": [
    "np.random.randint(0,50,10)"
   ]
  },
  {
   "cell_type": "code",
   "execution_count": 87,
   "id": "16419390",
   "metadata": {},
   "outputs": [
    {
     "data": {
      "text/plain": [
       "array([0.81758637, 0.7258615 , 0.01449862])"
      ]
     },
     "execution_count": 87,
     "metadata": {},
     "output_type": "execute_result"
    }
   ],
   "source": [
    "np.random.rand(3)"
   ]
  },
  {
   "cell_type": "code",
   "execution_count": 88,
   "id": "3c2c0f46",
   "metadata": {},
   "outputs": [
    {
     "data": {
      "text/plain": [
       "array([[0.44319957, 0.5687257 ],\n",
       "       [0.5006968 , 0.80478954],\n",
       "       [0.41022121, 0.04858847]])"
      ]
     },
     "execution_count": 88,
     "metadata": {},
     "output_type": "execute_result"
    }
   ],
   "source": [
    "np.random.rand(3,2)"
   ]
  },
  {
   "cell_type": "code",
   "execution_count": 89,
   "id": "2e55103b",
   "metadata": {},
   "outputs": [
    {
     "data": {
      "text/plain": [
       "array([[[0.57132489, 0.26408712, 0.69352745, 0.90983867, 0.57339315],\n",
       "        [0.63653014, 0.58076778, 0.31378165, 0.52633754, 0.64573941]],\n",
       "\n",
       "       [[0.23321867, 0.06113486, 0.59184349, 0.55198752, 0.84801561],\n",
       "        [0.76153991, 0.37399105, 0.5433146 , 0.95449111, 0.12939582]],\n",
       "\n",
       "       [[0.01797596, 0.56273716, 0.34934631, 0.64410884, 0.28178616],\n",
       "        [0.42525636, 0.37945046, 0.12939229, 0.60332683, 0.07200462]]])"
      ]
     },
     "execution_count": 89,
     "metadata": {},
     "output_type": "execute_result"
    }
   ],
   "source": [
    "np.random.rand(3,2,5)"
   ]
  },
  {
   "cell_type": "code",
   "execution_count": 90,
   "id": "7b98f128",
   "metadata": {},
   "outputs": [
    {
     "data": {
      "text/plain": [
       "array([-0.69286348, -2.11214848, -0.27152602])"
      ]
     },
     "execution_count": 90,
     "metadata": {},
     "output_type": "execute_result"
    }
   ],
   "source": [
    "np.random.randn(3)"
   ]
  },
  {
   "cell_type": "code",
   "execution_count": 91,
   "id": "e3f3eaf8",
   "metadata": {},
   "outputs": [
    {
     "data": {
      "text/plain": [
       "array([[ 0.47432981,  0.27070428],\n",
       "       [-0.56552576, -0.25913338],\n",
       "       [ 0.10814353,  0.5772195 ]])"
      ]
     },
     "execution_count": 91,
     "metadata": {},
     "output_type": "execute_result"
    }
   ],
   "source": [
    "np.random.randn(3,2)"
   ]
  },
  {
   "cell_type": "code",
   "execution_count": 92,
   "id": "bb0dd1c1",
   "metadata": {},
   "outputs": [
    {
     "data": {
      "text/plain": [
       "array([[[-2.52382862e-01,  7.26476643e-02,  1.06467549e+00,\n",
       "         -5.11390004e-01, -3.66523182e-01],\n",
       "        [ 1.05609244e+00,  1.32990244e-01, -8.94924545e-01,\n",
       "          1.91507209e+00,  1.36142470e+00]],\n",
       "\n",
       "       [[-4.31179475e-01, -8.98183680e-01, -9.69906152e-01,\n",
       "          1.18605736e+00,  8.51527303e-01],\n",
       "        [-5.76262284e-01,  1.30166071e-01,  9.81515668e-01,\n",
       "         -8.49678016e-01, -1.05377151e+00]],\n",
       "\n",
       "       [[-2.46805265e-01, -1.21559622e+00,  8.41429639e-04,\n",
       "          3.58225075e-02, -1.29648177e+00],\n",
       "        [ 1.79513184e-01, -1.38328976e+00, -5.40614244e-01,\n",
       "          5.17033823e-01, -5.42401825e-01]]])"
      ]
     },
     "execution_count": 92,
     "metadata": {},
     "output_type": "execute_result"
    }
   ],
   "source": [
    "np.random.randn(3,2,5)"
   ]
  },
  {
   "cell_type": "code",
   "execution_count": 93,
   "id": "ea06b619",
   "metadata": {},
   "outputs": [],
   "source": [
    "import matplotlib.pyplot as plt"
   ]
  },
  {
   "cell_type": "code",
   "execution_count": 94,
   "id": "4cb532b5",
   "metadata": {},
   "outputs": [
    {
     "data": {
      "text/plain": [
       "(array([1., 1., 1., 0., 2., 2., 0., 0., 0., 3.]),\n",
       " array([0.24747547, 0.31401252, 0.38054957, 0.44708662, 0.51362367,\n",
       "        0.58016072, 0.64669777, 0.71323482, 0.77977187, 0.84630892,\n",
       "        0.91284597]),\n",
       " <a list of 10 Patch objects>)"
      ]
     },
     "execution_count": 94,
     "metadata": {},
     "output_type": "execute_result"
    },
    {
     "data": {
      "image/png": "[encoded data removed]",
      "text/plain": [
       "<Figure size 432x288 with 1 Axes>"
      ]
     },
     "metadata": {
      "needs_background": "light"
     },
     "output_type": "display_data"
    }
   ],
   "source": [
    "plt.hist(np.random.rand(10))"
   ]
  },
  {
   "cell_type": "code",
   "execution_count": 95,
   "id": "72c1b217",
   "metadata": {},
   "outputs": [
    {
     "data": {
      "text/plain": [
       "(array([ 8., 12., 10., 11.,  9., 10., 11., 12.,  5., 12.]),\n",
       " array([4.22237415e-04, 9.93382386e-02, 1.98254240e-01, 2.97170241e-01,\n",
       "        3.96086242e-01, 4.95002243e-01, 5.93918245e-01, 6.92834246e-01,\n",
       "        7.91750247e-01, 8.90666248e-01, 9.89582249e-01]),\n",
       " <a list of 10 Patch objects>)"
      ]
     },
     "execution_count": 95,
     "metadata": {},
     "output_type": "execute_result"
    },
    {
     "data": {
      "image/png": "[encoded data removed]",
      "text/plain": [
       "<Figure size 432x288 with 1 Axes>"
      ]
     },
     "metadata": {
      "needs_background": "light"
     },
     "output_type": "display_data"
    }
   ],
   "source": [
    "plt.hist(np.random.rand(100))"
   ]
  },
  {
   "cell_type": "code",
   "execution_count": 97,
   "id": "11eb273a",
   "metadata": {},
   "outputs": [
    {
     "data": {
      "text/plain": [
       "(array([ 89., 113., 105.,  85., 113.,  97., 104.,  97.,  95., 102.]),\n",
       " array([2.32912992e-05, 9.98241582e-02, 1.99625025e-01, 2.99425892e-01,\n",
       "        3.99226759e-01, 4.99027626e-01, 5.98828493e-01, 6.98629360e-01,\n",
       "        7.98430226e-01, 8.98231093e-01, 9.98031960e-01]),\n",
       " <a list of 10 Patch objects>)"
      ]
     },
     "execution_count": 97,
     "metadata": {},
     "output_type": "execute_result"
    },
    {
     "data": {
      "image/png": "[encoded data removed]",
      "text/plain": [
       "<Figure size 432x288 with 1 Axes>"
      ]
     },
     "metadata": {
      "needs_background": "light"
     },
     "output_type": "display_data"
    }
   ],
   "source": [
    "plt.hist(np.random.rand(1000))"
   ]
  },
  {
   "cell_type": "code",
   "execution_count": 98,
   "id": "6562dba5",
   "metadata": {},
   "outputs": [
    {
     "data": {
      "text/plain": [
       "(array([1025.,  960.,  964., 1016.,  970.,  949., 1014., 1031., 1017.,\n",
       "        1054.]),\n",
       " array([1.73471603e-05, 1.00004149e-01, 1.99990951e-01, 2.99977753e-01,\n",
       "        3.99964555e-01, 4.99951357e-01, 5.99938158e-01, 6.99924960e-01,\n",
       "        7.99911762e-01, 8.99898564e-01, 9.99885366e-01]),\n",
       " <a list of 10 Patch objects>)"
      ]
     },
     "execution_count": 98,
     "metadata": {},
     "output_type": "execute_result"
    },
    {
     "data": {
      "image/png": "[encoded data removed]",
      "text/plain": [
       "<Figure size 432x288 with 1 Axes>"
      ]
     },
     "metadata": {
      "needs_background": "light"
     },
     "output_type": "display_data"
    }
   ],
   "source": [
    "plt.hist(np.random.rand(10000))"
   ]
  },
  {
   "cell_type": "code",
   "execution_count": 99,
   "id": "a3efda47",
   "metadata": {},
   "outputs": [
    {
     "data": {
      "text/plain": [
       "(array([195., 198., 205., 214., 199., 198., 190., 191., 210., 208., 191.,\n",
       "        194., 206., 232., 223., 208., 217., 191., 209., 219., 211., 191.,\n",
       "        196., 197., 181., 194., 206., 191., 208., 198., 188., 226., 185.,\n",
       "        178., 186., 183., 194., 198., 221., 204., 210., 201., 181., 198.,\n",
       "        212., 205., 209., 209., 172., 169.]),\n",
       " array([2.09691396e-05, 2.00165145e-02, 4.00120598e-02, 6.00076051e-02,\n",
       "        8.00031504e-02, 9.99986957e-02, 1.19994241e-01, 1.39989786e-01,\n",
       "        1.59985332e-01, 1.79980877e-01, 1.99976422e-01, 2.19971968e-01,\n",
       "        2.39967513e-01, 2.59963058e-01, 2.79958604e-01, 2.99954149e-01,\n",
       "        3.19949694e-01, 3.39945239e-01, 3.59940785e-01, 3.79936330e-01,\n",
       "        3.99931875e-01, 4.19927421e-01, 4.39922966e-01, 4.59918511e-01,\n",
       "        4.79914057e-01, 4.99909602e-01, 5.19905147e-01, 5.39900693e-01,\n",
       "        5.59896238e-01, 5.79891783e-01, 5.99887328e-01, 6.19882874e-01,\n",
       "        6.39878419e-01, 6.59873964e-01, 6.79869510e-01, 6.99865055e-01,\n",
       "        7.19860600e-01, 7.39856146e-01, 7.59851691e-01, 7.79847236e-01,\n",
       "        7.99842782e-01, 8.19838327e-01, 8.39833872e-01, 8.59829418e-01,\n",
       "        8.79824963e-01, 8.99820508e-01, 9.19816053e-01, 9.39811599e-01,\n",
       "        9.59807144e-01, 9.79802689e-01, 9.99798235e-01]),\n",
       " <a list of 50 Patch objects>)"
      ]
     },
     "execution_count": 99,
     "metadata": {},
     "output_type": "execute_result"
    },
    {
     "data": {
      "image/png": "[encoded data removed]",
      "text/plain": [
       "<Figure size 432x288 with 1 Axes>"
      ]
     },
     "metadata": {
      "needs_background": "light"
     },
     "output_type": "display_data"
    }
   ],
   "source": [
    "plt.hist(np.random.rand(10000),bins=50)"
   ]
  },
  {
   "cell_type": "code",
   "execution_count": 100,
   "id": "247a9363",
   "metadata": {},
   "outputs": [
    {
     "data": {
      "text/plain": [
       "(array([1., 0., 1., 1., 0., 3., 1., 2., 0., 1.]),\n",
       " array([-1.81677003, -1.53028191, -1.24379379, -0.95730567, -0.67081755,\n",
       "        -0.38432944, -0.09784132,  0.1886468 ,  0.47513492,  0.76162304,\n",
       "         1.04811116]),\n",
       " <a list of 10 Patch objects>)"
      ]
     },
     "execution_count": 100,
     "metadata": {},
     "output_type": "execute_result"
    },
    {
     "data": {
      "image/png": "[encoded data removed]",
      "text/plain": [
       "<Figure size 432x288 with 1 Axes>"
      ]
     },
     "metadata": {
      "needs_background": "light"
     },
     "output_type": "display_data"
    }
   ],
   "source": [
    "plt.hist(np.random.randn(10))"
   ]
  },
  {
   "cell_type": "code",
   "execution_count": 101,
   "id": "45e685cc",
   "metadata": {},
   "outputs": [
    {
     "data": {
      "text/plain": [
       "(array([ 2.,  6.,  5., 17., 19., 15., 19., 10.,  1.,  6.]),\n",
       " array([-2.14857039, -1.73396979, -1.31936919, -0.90476859, -0.490168  ,\n",
       "        -0.0755674 ,  0.3390332 ,  0.7536338 ,  1.1682344 ,  1.582835  ,\n",
       "         1.9974356 ]),\n",
       " <a list of 10 Patch objects>)"
      ]
     },
     "execution_count": 101,
     "metadata": {},
     "output_type": "execute_result"
    },
    {
     "data": {
      "image/png": "[encoded data removed]",
      "text/plain": [
       "<Figure size 432x288 with 1 Axes>"
      ]
     },
     "metadata": {
      "needs_background": "light"
     },
     "output_type": "display_data"
    }
   ],
   "source": [
    "plt.hist(np.random.randn(100))"
   ]
  },
  {
   "cell_type": "code",
   "execution_count": 102,
   "id": "dbd66607",
   "metadata": {},
   "outputs": [
    {
     "data": {
      "text/plain": [
       "(array([  4.,   3.,  29., 113., 250., 249., 215.,  96.,  36.,   5.]),\n",
       " array([-3.86969124, -3.15792913, -2.44616703, -1.73440492, -1.02264282,\n",
       "        -0.31088071,  0.40088139,  1.11264349,  1.8244056 ,  2.5361677 ,\n",
       "         3.24792981]),\n",
       " <a list of 10 Patch objects>)"
      ]
     },
     "execution_count": 102,
     "metadata": {},
     "output_type": "execute_result"
    },
    {
     "data": {
      "image/png": "[encoded data removed]",
      "text/plain": [
       "<Figure size 432x288 with 1 Axes>"
      ]
     },
     "metadata": {
      "needs_background": "light"
     },
     "output_type": "display_data"
    }
   ],
   "source": [
    "plt.hist(np.random.randn(1000))"
   ]
  },
  {
   "cell_type": "code",
   "execution_count": 103,
   "id": "ab2d7642",
   "metadata": {},
   "outputs": [
    {
     "data": {
      "text/plain": [
       "(array([  32.,  181.,  622., 1650., 2579., 2549., 1600.,  613.,  146.,\n",
       "          28.]),\n",
       " array([-3.4306389 , -2.74015227, -2.04966564, -1.35917902, -0.66869239,\n",
       "         0.02179424,  0.71228087,  1.4027675 ,  2.09325413,  2.78374076,\n",
       "         3.47422738]),\n",
       " <a list of 10 Patch objects>)"
      ]
     },
     "execution_count": 103,
     "metadata": {},
     "output_type": "execute_result"
    },
    {
     "data": {
      "image/png": "[encoded data removed]",
      "text/plain": [
       "<Figure size 432x288 with 1 Axes>"
      ]
     },
     "metadata": {
      "needs_background": "light"
     },
     "output_type": "display_data"
    }
   ],
   "source": [
    "plt.hist(np.random.randn(10000))"
   ]
  },
  {
   "cell_type": "code",
   "execution_count": 104,
   "id": "ebeba925",
   "metadata": {},
   "outputs": [
    {
     "data": {
      "text/plain": [
       "(array([  1.,   2.,   6.,   6.,   9.,  15.,  17.,  27.,  54.,  45.,  73.,\n",
       "         88., 125., 139., 208., 248., 308., 370., 383., 506., 522., 555.,\n",
       "        567., 604., 559., 626., 544., 516., 460., 439., 399., 321., 294.,\n",
       "        241., 185., 170., 109.,  91.,  52.,  42.,  31.,  13.,  11.,  11.,\n",
       "          4.,   1.,   2.,   0.,   0.,   1.]),\n",
       " array([-3.62469494, -3.47515403, -3.32561311, -3.1760722 , -3.02653128,\n",
       "        -2.87699037, -2.72744945, -2.57790854, -2.42836762, -2.27882671,\n",
       "        -2.12928579, -1.97974488, -1.83020396, -1.68066305, -1.53112213,\n",
       "        -1.38158122, -1.2320403 , -1.08249939, -0.93295847, -0.78341756,\n",
       "        -0.63387664, -0.48433573, -0.33479481, -0.1852539 , -0.03571298,\n",
       "         0.11382794,  0.26336885,  0.41290977,  0.56245068,  0.7119916 ,\n",
       "         0.86153251,  1.01107343,  1.16061434,  1.31015526,  1.45969617,\n",
       "         1.60923709,  1.758778  ,  1.90831892,  2.05785983,  2.20740075,\n",
       "         2.35694166,  2.50648258,  2.65602349,  2.80556441,  2.95510532,\n",
       "         3.10464624,  3.25418715,  3.40372807,  3.55326898,  3.7028099 ,\n",
       "         3.85235081]),\n",
       " <a list of 50 Patch objects>)"
      ]
     },
     "execution_count": 104,
     "metadata": {},
     "output_type": "execute_result"
    },
    {
     "data": {
      "image/png": "[encoded data removed]",
      "text/plain": [
       "<Figure size 432x288 with 1 Axes>"
      ]
     },
     "metadata": {
      "needs_background": "light"
     },
     "output_type": "display_data"
    }
   ],
   "source": [
    "plt.hist(np.random.randn(10000),bins=50)"
   ]
  },
  {
   "cell_type": "code",
   "execution_count": 106,
   "id": "85e9261c",
   "metadata": {},
   "outputs": [
    {
     "data": {
      "text/plain": [
       "array([3.61935354, 4.09845191, 3.58459543, 3.81905577, 3.91509308,\n",
       "       4.8640094 , 4.08485949, 3.52692381, 3.92662583, 3.07887612])"
      ]
     },
     "execution_count": 106,
     "metadata": {},
     "output_type": "execute_result"
    }
   ],
   "source": [
    "np.random.uniform(3,5,10)"
   ]
  },
  {
   "cell_type": "code",
   "execution_count": 107,
   "id": "9055d889",
   "metadata": {},
   "outputs": [
    {
     "data": {
      "text/plain": [
       "(array([1., 0., 1., 1., 1., 2., 0., 1., 1., 2.]),\n",
       " array([3.10437153, 3.24454361, 3.38471569, 3.52488777, 3.66505986,\n",
       "        3.80523194, 3.94540402, 4.0855761 , 4.22574818, 4.36592027,\n",
       "        4.50609235]),\n",
       " <a list of 10 Patch objects>)"
      ]
     },
     "execution_count": 107,
     "metadata": {},
     "output_type": "execute_result"
    },
    {
     "data": {
      "image/png": "[encoded data removed]",
      "text/plain": [
       "<Figure size 432x288 with 1 Axes>"
      ]
     },
     "metadata": {
      "needs_background": "light"
     },
     "output_type": "display_data"
    }
   ],
   "source": [
    "plt.hist(np.random.uniform(3,5,10))"
   ]
  },
  {
   "cell_type": "code",
   "execution_count": 108,
   "id": "fe85d99b",
   "metadata": {},
   "outputs": [
    {
     "data": {
      "text/plain": [
       "(array([12.,  4., 16.,  7., 13., 14.,  5.,  5., 12., 12.]),\n",
       " array([3.04789435, 3.24287172, 3.4378491 , 3.63282648, 3.82780385,\n",
       "        4.02278123, 4.21775861, 4.41273598, 4.60771336, 4.80269074,\n",
       "        4.99766811]),\n",
       " <a list of 10 Patch objects>)"
      ]
     },
     "execution_count": 108,
     "metadata": {},
     "output_type": "execute_result"
    },
    {
     "data": {
      "image/png": "[encoded data removed]",
      "text/plain": [
       "<Figure size 432x288 with 1 Axes>"
      ]
     },
     "metadata": {
      "needs_background": "light"
     },
     "output_type": "display_data"
    }
   ],
   "source": [
    "plt.hist(np.random.uniform(3,5,100))"
   ]
  },
  {
   "cell_type": "code",
   "execution_count": 109,
   "id": "ccf3c803",
   "metadata": {},
   "outputs": [
    {
     "data": {
      "text/plain": [
       "(array([1011., 1026., 1022., 1031.,  993.,  986.,  972.,  957., 1015.,\n",
       "         987.]),\n",
       " array([3.00024381, 3.20021811, 3.40019241, 3.60016671, 3.80014101,\n",
       "        4.00011532, 4.20008962, 4.40006392, 4.60003822, 4.80001252,\n",
       "        4.99998682]),\n",
       " <a list of 10 Patch objects>)"
      ]
     },
     "execution_count": 109,
     "metadata": {},
     "output_type": "execute_result"
    },
    {
     "data": {
      "image/png": "[encoded data removed]",
      "text/plain": [
       "<Figure size 432x288 with 1 Axes>"
      ]
     },
     "metadata": {
      "needs_background": "light"
     },
     "output_type": "display_data"
    }
   ],
   "source": [
    "plt.hist(np.random.uniform(3,5,10000))"
   ]
  },
  {
   "cell_type": "code",
   "execution_count": 110,
   "id": "fd320cde",
   "metadata": {},
   "outputs": [
    {
     "data": {
      "text/plain": [
       "(array([10178., 10004., 10085.,  9918., 10047., 10049., 10011.,  9869.,\n",
       "         9970.,  9869.]),\n",
       " array([3.00006326, 3.20004638, 3.40002949, 3.6000126 , 3.79999572,\n",
       "        3.99997883, 4.19996194, 4.39994506, 4.59992817, 4.79991129,\n",
       "        4.9998944 ]),\n",
       " <a list of 10 Patch objects>)"
      ]
     },
     "execution_count": 110,
     "metadata": {},
     "output_type": "execute_result"
    },
    {
     "data": {
      "image/png": "[encoded data removed]",
      "text/plain": [
       "<Figure size 432x288 with 1 Axes>"
      ]
     },
     "metadata": {
      "needs_background": "light"
     },
     "output_type": "display_data"
    }
   ],
   "source": [
    "plt.hist(np.random.uniform(3,5,100000))"
   ]
  },
  {
   "cell_type": "code",
   "execution_count": 111,
   "id": "eb50a562",
   "metadata": {},
   "outputs": [
    {
     "data": {
      "text/plain": [
       "(array([4.4000e+01, 6.6800e+02, 4.4890e+03, 1.6571e+04, 3.0526e+04,\n",
       "        2.9468e+04, 1.4241e+04, 3.5130e+03, 4.5000e+02, 3.0000e+01]),\n",
       " array([-17.80322   , -13.57515253,  -9.34708506,  -5.11901759,\n",
       "         -0.89095012,   3.33711734,   7.56518481,  11.79325228,\n",
       "         16.02131975,  20.24938722,  24.47745469]),\n",
       " <a list of 10 Patch objects>)"
      ]
     },
     "execution_count": 111,
     "metadata": {},
     "output_type": "execute_result"
    },
    {
     "data": {
      "image/png": "[encoded data removed]",
      "text/plain": [
       "<Figure size 432x288 with 1 Axes>"
      ]
     },
     "metadata": {
      "needs_background": "light"
     },
     "output_type": "display_data"
    }
   ],
   "source": [
    "plt.hist(np.random.normal(3,5,100000))"
   ]
  },
  {
   "cell_type": "code",
   "execution_count": 112,
   "id": "7015c1a3",
   "metadata": {},
   "outputs": [
    {
     "data": {
      "text/plain": [
       "(array([1.5000e+01, 4.0000e+01, 1.5700e+02, 5.3900e+02, 1.6240e+03,\n",
       "        3.4910e+03, 6.9060e+03, 1.1096e+04, 1.4702e+04, 1.6535e+04,\n",
       "        1.5970e+04, 1.2586e+04, 8.2260e+03, 4.6970e+03, 2.2130e+03,\n",
       "        8.4100e+02, 2.6600e+02, 7.6000e+01, 1.7000e+01, 3.0000e+00]),\n",
       " array([-17.59471341, -15.46872784, -13.34274227, -11.2167567 ,\n",
       "         -9.09077113,  -6.96478556,  -4.83879999,  -2.71281442,\n",
       "         -0.58682885,   1.53915672,   3.66514229,   5.79112786,\n",
       "          7.91711343,  10.043099  ,  12.16908457,  14.29507014,\n",
       "         16.42105571,  18.54704128,  20.67302685,  22.79901242,\n",
       "         24.92499799]),\n",
       " <a list of 20 Patch objects>)"
      ]
     },
     "execution_count": 112,
     "metadata": {},
     "output_type": "execute_result"
    },
    {
     "data": {
      "image/png": "[encoded data removed]",
      "text/plain": [
       "<Figure size 432x288 with 1 Axes>"
      ]
     },
     "metadata": {
      "needs_background": "light"
     },
     "output_type": "display_data"
    }
   ],
   "source": [
    "plt.hist(np.random.normal(3,5,100000),bins=20)"
   ]
  },
  {
   "cell_type": "code",
   "execution_count": 114,
   "id": "6fe59e69",
   "metadata": {},
   "outputs": [
    {
     "data": {
      "text/plain": [
       "(array([4.0000e+00, 2.0000e+00, 3.1000e+01, 1.5800e+02, 6.1700e+02,\n",
       "        1.7160e+03, 4.2710e+03, 8.5960e+03, 1.3880e+04, 1.7747e+04,\n",
       "        1.8444e+04, 1.5402e+04, 1.0171e+04, 5.4950e+03, 2.3160e+03,\n",
       "        8.4300e+02, 2.2800e+02, 6.8000e+01, 1.0000e+01, 1.0000e+00]),\n",
       " array([-1.79114088, -1.3190632 , -0.84698551, -0.37490783,  0.09716985,\n",
       "         0.56924753,  1.04132522,  1.5134029 ,  1.98548058,  2.45755827,\n",
       "         2.92963595,  3.40171363,  3.87379131,  4.345869  ,  4.81794668,\n",
       "         5.29002436,  5.76210205,  6.23417973,  6.70625741,  7.17833509,\n",
       "         7.65041278]),\n",
       " <a list of 20 Patch objects>)"
      ]
     },
     "execution_count": 114,
     "metadata": {},
     "output_type": "execute_result"
    },
    {
     "data": {
      "image/png": "[encoded data removed]",
      "text/plain": [
       "<Figure size 432x288 with 1 Axes>"
      ]
     },
     "metadata": {
      "needs_background": "light"
     },
     "output_type": "display_data"
    }
   ],
   "source": [
    "plt.hist(np.random.uniform(3,5,100000))\n",
    "plt.hist(np.random.normal(3,1,100000),bins=20)"
   ]
  },
  {
   "cell_type": "code",
   "execution_count": 115,
   "id": "e61a3787",
   "metadata": {},
   "outputs": [
    {
     "data": {
      "text/plain": [
       "array([0, 1, 2, 3, 4, 5, 6, 7, 8, 9])"
      ]
     },
     "execution_count": 115,
     "metadata": {},
     "output_type": "execute_result"
    }
   ],
   "source": [
    "arr=np.arange(10)\n",
    "arr"
   ]
  },
  {
   "cell_type": "code",
   "execution_count": 119,
   "id": "8942ccd6",
   "metadata": {},
   "outputs": [
    {
     "data": {
      "text/plain": [
       "array([8, 0, 2, 4, 3, 7, 1, 5, 6, 9])"
      ]
     },
     "execution_count": 119,
     "metadata": {},
     "output_type": "execute_result"
    }
   ],
   "source": [
    "np.random.shuffle(arr)\n",
    "arr"
   ]
  },
  {
   "cell_type": "code",
   "execution_count": 120,
   "id": "820f0b07",
   "metadata": {},
   "outputs": [
    {
     "data": {
      "text/plain": [
       "array([14, 16, 18, 20, 22])"
      ]
     },
     "execution_count": 120,
     "metadata": {},
     "output_type": "execute_result"
    }
   ],
   "source": [
    "import numpy as np\n",
    "a=np.arange(14,24,2)\n",
    "a "
   ]
  },
  {
   "cell_type": "code",
   "execution_count": 1,
   "id": "d1b7a3c4",
   "metadata": {},
   "outputs": [],
   "source": [
    "#Indexing and Slicing"
   ]
  },
  {
   "cell_type": "code",
   "execution_count": 3,
   "id": "426a911f",
   "metadata": {},
   "outputs": [
    {
     "data": {
      "text/plain": [
       "array([ 5,  6,  7,  8,  9, 10, 11, 12, 13, 14, 15, 16, 17, 18, 19])"
      ]
     },
     "execution_count": 3,
     "metadata": {},
     "output_type": "execute_result"
    }
   ],
   "source": [
    "a=np.arange(5,20)\n",
    "a"
   ]
  },
  {
   "cell_type": "code",
   "execution_count": 4,
   "id": "e5e6a2ef",
   "metadata": {},
   "outputs": [
    {
     "data": {
      "text/plain": [
       "10"
      ]
     },
     "execution_count": 4,
     "metadata": {},
     "output_type": "execute_result"
    }
   ],
   "source": [
    "a[5]"
   ]
  },
  {
   "cell_type": "code",
   "execution_count": 5,
   "id": "bcdc6b92",
   "metadata": {},
   "outputs": [
    {
     "data": {
      "text/plain": [
       "5"
      ]
     },
     "execution_count": 5,
     "metadata": {},
     "output_type": "execute_result"
    }
   ],
   "source": [
    "a[0]"
   ]
  },
  {
   "cell_type": "code",
   "execution_count": 7,
   "id": "bf2fa7da",
   "metadata": {},
   "outputs": [
    {
     "data": {
      "text/plain": [
       "19"
      ]
     },
     "execution_count": 7,
     "metadata": {},
     "output_type": "execute_result"
    }
   ],
   "source": [
    "a[14]"
   ]
  },
  {
   "cell_type": "code",
   "execution_count": 8,
   "id": "78f6bc9c",
   "metadata": {},
   "outputs": [
    {
     "data": {
      "text/plain": [
       "array([ 8,  9, 10, 11, 12])"
      ]
     },
     "execution_count": 8,
     "metadata": {},
     "output_type": "execute_result"
    }
   ],
   "source": [
    "a[3:8]"
   ]
  },
  {
   "cell_type": "code",
   "execution_count": 9,
   "id": "74c55f01",
   "metadata": {},
   "outputs": [
    {
     "data": {
      "text/plain": [
       "array([6, 7])"
      ]
     },
     "execution_count": 9,
     "metadata": {},
     "output_type": "execute_result"
    }
   ],
   "source": [
    "a[1:3]"
   ]
  },
  {
   "cell_type": "code",
   "execution_count": 10,
   "id": "9c6183ac",
   "metadata": {},
   "outputs": [
    {
     "data": {
      "text/plain": [
       "19"
      ]
     },
     "execution_count": 10,
     "metadata": {},
     "output_type": "execute_result"
    }
   ],
   "source": [
    "a[-1]"
   ]
  },
  {
   "cell_type": "code",
   "execution_count": 11,
   "id": "a92244bc",
   "metadata": {},
   "outputs": [
    {
     "data": {
      "text/plain": [
       "18"
      ]
     },
     "execution_count": 11,
     "metadata": {},
     "output_type": "execute_result"
    }
   ],
   "source": [
    "a[-2]"
   ]
  },
  {
   "cell_type": "code",
   "execution_count": 12,
   "id": "7aaa9bd1",
   "metadata": {},
   "outputs": [
    {
     "data": {
      "text/plain": [
       "array([12, 13, 14, 15, 16])"
      ]
     },
     "execution_count": 12,
     "metadata": {},
     "output_type": "execute_result"
    }
   ],
   "source": [
    "a[-8:-3]"
   ]
  },
  {
   "cell_type": "code",
   "execution_count": 13,
   "id": "366c6bd2",
   "metadata": {},
   "outputs": [
    {
     "data": {
      "text/plain": [
       "array([ 9, 10, 11, 12, 13, 14, 15, 16, 17, 18, 19])"
      ]
     },
     "execution_count": 13,
     "metadata": {},
     "output_type": "execute_result"
    }
   ],
   "source": [
    "a[4:15]"
   ]
  },
  {
   "cell_type": "code",
   "execution_count": 14,
   "id": "dac358ae",
   "metadata": {},
   "outputs": [
    {
     "data": {
      "text/plain": [
       "array([ 9, 10, 11, 12, 13, 14, 15, 16, 17, 18, 19])"
      ]
     },
     "execution_count": 14,
     "metadata": {},
     "output_type": "execute_result"
    }
   ],
   "source": [
    "a[4:]"
   ]
  },
  {
   "cell_type": "code",
   "execution_count": 15,
   "id": "6602cd2a",
   "metadata": {},
   "outputs": [
    {
     "data": {
      "text/plain": [
       "array([5, 6, 7, 8])"
      ]
     },
     "execution_count": 15,
     "metadata": {},
     "output_type": "execute_result"
    }
   ],
   "source": [
    "a[:4]"
   ]
  },
  {
   "cell_type": "code",
   "execution_count": 18,
   "id": "79b7d69a",
   "metadata": {},
   "outputs": [
    {
     "data": {
      "text/plain": [
       "array([[50, 51, 52, 53, 54],\n",
       "       [55, 56, 57, 58, 59],\n",
       "       [60, 61, 62, 63, 64],\n",
       "       [65, 66, 67, 68, 69],\n",
       "       [70, 71, 72, 73, 74]])"
      ]
     },
     "execution_count": 18,
     "metadata": {},
     "output_type": "execute_result"
    }
   ],
   "source": [
    "b=np.arange(50,75).reshape(5,5)\n",
    "b"
   ]
  },
  {
   "cell_type": "code",
   "execution_count": 19,
   "id": "fe695ac6",
   "metadata": {},
   "outputs": [
    {
     "data": {
      "text/plain": [
       "array([50, 51, 52, 53, 54])"
      ]
     },
     "execution_count": 19,
     "metadata": {},
     "output_type": "execute_result"
    }
   ],
   "source": [
    "b[0]"
   ]
  },
  {
   "cell_type": "code",
   "execution_count": 20,
   "id": "a42e64ad",
   "metadata": {},
   "outputs": [
    {
     "data": {
      "text/plain": [
       "array([65, 66, 67, 68, 69])"
      ]
     },
     "execution_count": 20,
     "metadata": {},
     "output_type": "execute_result"
    }
   ],
   "source": [
    "b[3]"
   ]
  },
  {
   "cell_type": "code",
   "execution_count": 21,
   "id": "bc08f910",
   "metadata": {},
   "outputs": [
    {
     "data": {
      "text/plain": [
       "array([50, 55, 60, 65, 70])"
      ]
     },
     "execution_count": 21,
     "metadata": {},
     "output_type": "execute_result"
    }
   ],
   "source": [
    "#b[row start:end, column start:end]\n",
    "b[:,0]"
   ]
  },
  {
   "cell_type": "code",
   "execution_count": 22,
   "id": "57ff14fc",
   "metadata": {},
   "outputs": [
    {
     "data": {
      "text/plain": [
       "array([54, 59, 64, 69, 74])"
      ]
     },
     "execution_count": 22,
     "metadata": {},
     "output_type": "execute_result"
    }
   ],
   "source": [
    "b[:,4]"
   ]
  },
  {
   "cell_type": "code",
   "execution_count": 23,
   "id": "d50d6d99",
   "metadata": {},
   "outputs": [
    {
     "data": {
      "text/plain": [
       "array([[60, 61, 62, 63, 64],\n",
       "       [65, 66, 67, 68, 69]])"
      ]
     },
     "execution_count": 23,
     "metadata": {},
     "output_type": "execute_result"
    }
   ],
   "source": [
    "b[2:4]"
   ]
  },
  {
   "cell_type": "code",
   "execution_count": 24,
   "id": "e29d4b71",
   "metadata": {},
   "outputs": [
    {
     "data": {
      "text/plain": [
       "array([[60, 61, 62, 63, 64],\n",
       "       [70, 71, 72, 73, 74]])"
      ]
     },
     "execution_count": 24,
     "metadata": {},
     "output_type": "execute_result"
    }
   ],
   "source": [
    "b[[2,4]]"
   ]
  },
  {
   "cell_type": "code",
   "execution_count": 25,
   "id": "2b60a435",
   "metadata": {},
   "outputs": [
    {
     "data": {
      "text/plain": [
       "array([[52, 53],\n",
       "       [57, 58],\n",
       "       [62, 63],\n",
       "       [67, 68],\n",
       "       [72, 73]])"
      ]
     },
     "execution_count": 25,
     "metadata": {},
     "output_type": "execute_result"
    }
   ],
   "source": [
    "b[:,2:4]"
   ]
  },
  {
   "cell_type": "code",
   "execution_count": 26,
   "id": "f1b0c8ea",
   "metadata": {},
   "outputs": [
    {
     "data": {
      "text/plain": [
       "array([[52, 54],\n",
       "       [57, 59],\n",
       "       [62, 64],\n",
       "       [67, 69],\n",
       "       [72, 74]])"
      ]
     },
     "execution_count": 26,
     "metadata": {},
     "output_type": "execute_result"
    }
   ],
   "source": [
    "b[:,[2,4]]"
   ]
  },
  {
   "cell_type": "code",
   "execution_count": 27,
   "id": "9e227417",
   "metadata": {},
   "outputs": [
    {
     "data": {
      "text/plain": [
       "array([[57, 58],\n",
       "       [62, 63]])"
      ]
     },
     "execution_count": 27,
     "metadata": {},
     "output_type": "execute_result"
    }
   ],
   "source": [
    "b[1:3,2:4]"
   ]
  },
  {
   "cell_type": "code",
   "execution_count": 29,
   "id": "22f6e198",
   "metadata": {},
   "outputs": [
    {
     "data": {
      "text/plain": [
       "array([[57, 59],\n",
       "       [62, 64]])"
      ]
     },
     "execution_count": 29,
     "metadata": {},
     "output_type": "execute_result"
    }
   ],
   "source": [
    "b[1:3,[2,4]]"
   ]
  },
  {
   "cell_type": "code",
   "execution_count": 32,
   "id": "c49fa8bf",
   "metadata": {},
   "outputs": [
    {
     "data": {
      "text/plain": [
       "array([ 5,  6,  7,  8,  9, 10, 11, 12, 13, 14, 15, 16, 17, 18, 19])"
      ]
     },
     "execution_count": 32,
     "metadata": {},
     "output_type": "execute_result"
    }
   ],
   "source": [
    "a"
   ]
  },
  {
   "cell_type": "code",
   "execution_count": 30,
   "id": "778c7aa8",
   "metadata": {},
   "outputs": [
    {
     "data": {
      "text/plain": [
       "array([False, False, False, False, False, False,  True,  True,  True,\n",
       "        True,  True,  True,  True,  True,  True])"
      ]
     },
     "execution_count": 30,
     "metadata": {},
     "output_type": "execute_result"
    }
   ],
   "source": [
    "a>10"
   ]
  },
  {
   "cell_type": "code",
   "execution_count": 31,
   "id": "051fba23",
   "metadata": {},
   "outputs": [
    {
     "data": {
      "text/plain": [
       "array([11, 12, 13, 14, 15, 16, 17, 18, 19])"
      ]
     },
     "execution_count": 31,
     "metadata": {},
     "output_type": "execute_result"
    }
   ],
   "source": [
    "mask=a>10\n",
    "a[mask]"
   ]
  },
  {
   "cell_type": "code",
   "execution_count": 33,
   "id": "9b397dba",
   "metadata": {},
   "outputs": [
    {
     "data": {
      "text/plain": [
       "array([ True, False, False, False, False, False, False, False, False,\n",
       "       False, False, False, False, False, False])"
      ]
     },
     "execution_count": 33,
     "metadata": {},
     "output_type": "execute_result"
    }
   ],
   "source": [
    "a==5"
   ]
  },
  {
   "cell_type": "code",
   "execution_count": 34,
   "id": "304ba732",
   "metadata": {},
   "outputs": [
    {
     "data": {
      "text/plain": [
       "array([5])"
      ]
     },
     "execution_count": 34,
     "metadata": {},
     "output_type": "execute_result"
    }
   ],
   "source": [
    "a[a==5]"
   ]
  },
  {
   "cell_type": "code",
   "execution_count": 35,
   "id": "43b4eaa7",
   "metadata": {},
   "outputs": [],
   "source": [
    "#Array Broadcasting"
   ]
  },
  {
   "cell_type": "code",
   "execution_count": 37,
   "id": "85ca7229",
   "metadata": {},
   "outputs": [],
   "source": [
    "a=np.array([1,2,3])\n",
    "b=np.array([3,4,5])"
   ]
  },
  {
   "cell_type": "code",
   "execution_count": 38,
   "id": "432f4d0f",
   "metadata": {},
   "outputs": [
    {
     "data": {
      "text/plain": [
       "(array([1, 2, 3]), array([3, 4, 5]))"
      ]
     },
     "execution_count": 38,
     "metadata": {},
     "output_type": "execute_result"
    }
   ],
   "source": [
    "a,b"
   ]
  },
  {
   "cell_type": "code",
   "execution_count": 39,
   "id": "88f4d37c",
   "metadata": {},
   "outputs": [
    {
     "data": {
      "text/plain": [
       "array([4, 6, 8])"
      ]
     },
     "execution_count": 39,
     "metadata": {},
     "output_type": "execute_result"
    }
   ],
   "source": [
    "a+b"
   ]
  },
  {
   "cell_type": "code",
   "execution_count": 40,
   "id": "9786a268",
   "metadata": {},
   "outputs": [],
   "source": [
    "a=np.arange(12).reshape(4,3)\n",
    "b=np.array([3,4,5])"
   ]
  },
  {
   "cell_type": "code",
   "execution_count": 41,
   "id": "576b9c62",
   "metadata": {},
   "outputs": [
    {
     "data": {
      "text/plain": [
       "(array([[ 0,  1,  2],\n",
       "        [ 3,  4,  5],\n",
       "        [ 6,  7,  8],\n",
       "        [ 9, 10, 11]]),\n",
       " array([3, 4, 5]))"
      ]
     },
     "execution_count": 41,
     "metadata": {},
     "output_type": "execute_result"
    }
   ],
   "source": [
    "a,b"
   ]
  },
  {
   "cell_type": "code",
   "execution_count": 42,
   "id": "4b5cca0f",
   "metadata": {},
   "outputs": [
    {
     "data": {
      "text/plain": [
       "array([[ 3,  5,  7],\n",
       "       [ 6,  8, 10],\n",
       "       [ 9, 11, 13],\n",
       "       [12, 14, 16]])"
      ]
     },
     "execution_count": 42,
     "metadata": {},
     "output_type": "execute_result"
    }
   ],
   "source": [
    "a+b"
   ]
  },
  {
   "cell_type": "code",
   "execution_count": 43,
   "id": "e7d301d4",
   "metadata": {},
   "outputs": [
    {
     "data": {
      "text/plain": [
       "array([[-3, -3, -3],\n",
       "       [ 0,  0,  0],\n",
       "       [ 3,  3,  3],\n",
       "       [ 6,  6,  6]])"
      ]
     },
     "execution_count": 43,
     "metadata": {},
     "output_type": "execute_result"
    }
   ],
   "source": [
    "a-b"
   ]
  },
  {
   "cell_type": "code",
   "execution_count": 44,
   "id": "e4c1e5c0",
   "metadata": {},
   "outputs": [],
   "source": [
    "#Iterating Over Array"
   ]
  },
  {
   "cell_type": "code",
   "execution_count": 45,
   "id": "83231970",
   "metadata": {},
   "outputs": [],
   "source": [
    "a=np.array([2,4,5])"
   ]
  },
  {
   "cell_type": "code",
   "execution_count": 46,
   "id": "213bb9ba",
   "metadata": {},
   "outputs": [
    {
     "name": "stdout",
     "output_type": "stream",
     "text": [
      "2\n",
      "4\n",
      "5\n"
     ]
    }
   ],
   "source": [
    "for ele in np.nditer(a):\n",
    "    print(ele)"
   ]
  },
  {
   "cell_type": "code",
   "execution_count": 47,
   "id": "0638305a",
   "metadata": {},
   "outputs": [],
   "source": [
    "a=np.arange(0,100,5).reshape(4,5)"
   ]
  },
  {
   "cell_type": "code",
   "execution_count": 49,
   "id": "fdf81436",
   "metadata": {},
   "outputs": [
    {
     "name": "stdout",
     "output_type": "stream",
     "text": [
      "0\n",
      "5\n",
      "10\n",
      "15\n",
      "20\n",
      "25\n",
      "30\n",
      "35\n",
      "40\n",
      "45\n",
      "50\n",
      "55\n",
      "60\n",
      "65\n",
      "70\n",
      "75\n",
      "80\n",
      "85\n",
      "90\n",
      "95\n"
     ]
    }
   ],
   "source": [
    "for ele in np.nditer(a):\n",
    "    print(ele)"
   ]
  },
  {
   "cell_type": "code",
   "execution_count": 50,
   "id": "e3adbaca",
   "metadata": {},
   "outputs": [
    {
     "name": "stdout",
     "output_type": "stream",
     "text": [
      "3\n",
      "8\n",
      "13\n",
      "18\n",
      "23\n",
      "28\n",
      "33\n",
      "38\n",
      "43\n",
      "48\n",
      "53\n",
      "58\n",
      "63\n",
      "68\n",
      "73\n",
      "78\n",
      "83\n",
      "88\n",
      "93\n",
      "98\n"
     ]
    }
   ],
   "source": [
    "for ele in np.nditer(a):\n",
    "    print(ele+3)"
   ]
  },
  {
   "cell_type": "code",
   "execution_count": 51,
   "id": "afa7492b",
   "metadata": {},
   "outputs": [],
   "source": [
    "#Array Manipulation"
   ]
  },
  {
   "cell_type": "code",
   "execution_count": 52,
   "id": "cb714c9c",
   "metadata": {},
   "outputs": [
    {
     "data": {
      "text/plain": [
       "array([ 0,  1,  2,  3,  4,  5,  6,  7,  8,  9, 10, 11, 12, 13, 14, 15, 16,\n",
       "       17, 18, 19, 20, 21, 22, 23, 24, 25, 26, 27, 28, 29])"
      ]
     },
     "execution_count": 52,
     "metadata": {},
     "output_type": "execute_result"
    }
   ],
   "source": [
    "a= np.arange(30)\n",
    "a"
   ]
  },
  {
   "cell_type": "code",
   "execution_count": 53,
   "id": "24f0e891",
   "metadata": {},
   "outputs": [
    {
     "data": {
      "text/plain": [
       "array([[ 0,  1,  2,  3,  4,  5],\n",
       "       [ 6,  7,  8,  9, 10, 11],\n",
       "       [12, 13, 14, 15, 16, 17],\n",
       "       [18, 19, 20, 21, 22, 23],\n",
       "       [24, 25, 26, 27, 28, 29]])"
      ]
     },
     "execution_count": 53,
     "metadata": {},
     "output_type": "execute_result"
    }
   ],
   "source": [
    "b=a.reshape(5,6)\n",
    "b"
   ]
  },
  {
   "cell_type": "code",
   "execution_count": 54,
   "id": "3f9e703d",
   "metadata": {},
   "outputs": [
    {
     "data": {
      "text/plain": [
       "array([[ 0,  1,  2,  3,  4,  5,  6,  7,  8,  9],\n",
       "       [10, 11, 12, 13, 14, 15, 16, 17, 18, 19],\n",
       "       [20, 21, 22, 23, 24, 25, 26, 27, 28, 29]])"
      ]
     },
     "execution_count": 54,
     "metadata": {},
     "output_type": "execute_result"
    }
   ],
   "source": [
    "a.reshape(3,10)"
   ]
  },
  {
   "cell_type": "code",
   "execution_count": 55,
   "id": "59791539",
   "metadata": {},
   "outputs": [
    {
     "data": {
      "text/plain": [
       "(5, 6)"
      ]
     },
     "execution_count": 55,
     "metadata": {},
     "output_type": "execute_result"
    }
   ],
   "source": [
    "b.shape"
   ]
  },
  {
   "cell_type": "code",
   "execution_count": 56,
   "id": "f0c95118",
   "metadata": {},
   "outputs": [
    {
     "data": {
      "text/plain": [
       "array([ 0,  1,  2,  3,  4,  5,  6,  7,  8,  9, 10, 11, 12, 13, 14, 15, 16,\n",
       "       17, 18, 19, 20, 21, 22, 23, 24, 25, 26, 27, 28, 29])"
      ]
     },
     "execution_count": 56,
     "metadata": {},
     "output_type": "execute_result"
    }
   ],
   "source": [
    "b.flatten()"
   ]
  },
  {
   "cell_type": "code",
   "execution_count": 58,
   "id": "d340719a",
   "metadata": {},
   "outputs": [
    {
     "data": {
      "text/plain": [
       "array([[ 0,  1,  2,  3,  4,  5],\n",
       "       [ 6,  7,  8,  9, 10, 11],\n",
       "       [12, 13, 14, 15, 16, 17],\n",
       "       [18, 19, 20, 21, 22, 23],\n",
       "       [24, 25, 26, 27, 28, 29]])"
      ]
     },
     "execution_count": 58,
     "metadata": {},
     "output_type": "execute_result"
    }
   ],
   "source": [
    "b"
   ]
  },
  {
   "cell_type": "code",
   "execution_count": 59,
   "id": "d27653e1",
   "metadata": {},
   "outputs": [
    {
     "name": "stdout",
     "output_type": "stream",
     "text": [
      "0\n",
      "1\n",
      "2\n",
      "3\n",
      "4\n",
      "5\n",
      "6\n",
      "7\n",
      "8\n",
      "9\n",
      "10\n",
      "11\n",
      "12\n",
      "13\n",
      "14\n",
      "15\n",
      "16\n",
      "17\n",
      "18\n",
      "19\n",
      "20\n",
      "21\n",
      "22\n",
      "23\n",
      "24\n",
      "25\n",
      "26\n",
      "27\n",
      "28\n",
      "29\n"
     ]
    }
   ],
   "source": [
    "for ele in b.flat:\n",
    "    print(ele)"
   ]
  },
  {
   "cell_type": "code",
   "execution_count": 60,
   "id": "ea66db81",
   "metadata": {},
   "outputs": [
    {
     "data": {
      "text/plain": [
       "array([ 0,  1,  2,  3,  4,  5,  6,  7,  8,  9, 10, 11, 12, 13, 14, 15, 16,\n",
       "       17, 18, 19, 20, 21, 22, 23, 24, 25, 26, 27, 28, 29])"
      ]
     },
     "execution_count": 60,
     "metadata": {},
     "output_type": "execute_result"
    }
   ],
   "source": [
    "b.ravel()"
   ]
  },
  {
   "cell_type": "code",
   "execution_count": 61,
   "id": "887b146d",
   "metadata": {},
   "outputs": [
    {
     "data": {
      "text/plain": [
       "array([ 0,  1,  2,  3,  4,  5,  6,  7,  8,  9, 10, 11, 12, 13, 14, 15, 16,\n",
       "       17, 18, 19, 20, 21, 22, 23, 24, 25, 26, 27, 28, 29])"
      ]
     },
     "execution_count": 61,
     "metadata": {},
     "output_type": "execute_result"
    }
   ],
   "source": [
    "b.ravel('C')"
   ]
  },
  {
   "cell_type": "code",
   "execution_count": 62,
   "id": "f4406b2b",
   "metadata": {},
   "outputs": [
    {
     "data": {
      "text/plain": [
       "array([ 0,  6, 12, 18, 24,  1,  7, 13, 19, 25,  2,  8, 14, 20, 26,  3,  9,\n",
       "       15, 21, 27,  4, 10, 16, 22, 28,  5, 11, 17, 23, 29])"
      ]
     },
     "execution_count": 62,
     "metadata": {},
     "output_type": "execute_result"
    }
   ],
   "source": [
    "b.ravel('F')"
   ]
  },
  {
   "cell_type": "code",
   "execution_count": 63,
   "id": "b7994c15",
   "metadata": {},
   "outputs": [
    {
     "data": {
      "text/plain": [
       "array([[ 0,  6, 12, 18, 24],\n",
       "       [ 1,  7, 13, 19, 25],\n",
       "       [ 2,  8, 14, 20, 26],\n",
       "       [ 3,  9, 15, 21, 27],\n",
       "       [ 4, 10, 16, 22, 28],\n",
       "       [ 5, 11, 17, 23, 29]])"
      ]
     },
     "execution_count": 63,
     "metadata": {},
     "output_type": "execute_result"
    }
   ],
   "source": [
    "b.transpose()"
   ]
  },
  {
   "cell_type": "code",
   "execution_count": 64,
   "id": "0c4613ef",
   "metadata": {},
   "outputs": [
    {
     "data": {
      "text/plain": [
       "array([[ 0,  6, 12, 18, 24],\n",
       "       [ 1,  7, 13, 19, 25],\n",
       "       [ 2,  8, 14, 20, 26],\n",
       "       [ 3,  9, 15, 21, 27],\n",
       "       [ 4, 10, 16, 22, 28],\n",
       "       [ 5, 11, 17, 23, 29]])"
      ]
     },
     "execution_count": 64,
     "metadata": {},
     "output_type": "execute_result"
    }
   ],
   "source": [
    "b.T"
   ]
  },
  {
   "cell_type": "code",
   "execution_count": 66,
   "id": "219a8a21",
   "metadata": {},
   "outputs": [],
   "source": [
    "a=np.array([[1,2],[3,4]])\n",
    "b=np.array([[5,6],[7,8]])"
   ]
  },
  {
   "cell_type": "code",
   "execution_count": 67,
   "id": "1949c064",
   "metadata": {},
   "outputs": [
    {
     "name": "stdout",
     "output_type": "stream",
     "text": [
      "[[1 2]\n",
      " [3 4]]\n",
      "[[5 6]\n",
      " [7 8]]\n"
     ]
    },
    {
     "data": {
      "text/plain": [
       "(None, None)"
      ]
     },
     "execution_count": 67,
     "metadata": {},
     "output_type": "execute_result"
    }
   ],
   "source": [
    "print(a),print(b)"
   ]
  },
  {
   "cell_type": "code",
   "execution_count": 70,
   "id": "99fc3457",
   "metadata": {},
   "outputs": [
    {
     "data": {
      "text/plain": [
       "array([[1, 2],\n",
       "       [3, 4],\n",
       "       [5, 6],\n",
       "       [7, 8]])"
      ]
     },
     "execution_count": 70,
     "metadata": {},
     "output_type": "execute_result"
    }
   ],
   "source": [
    "np.concatenate((a,b))"
   ]
  },
  {
   "cell_type": "code",
   "execution_count": 72,
   "id": "e7bfcc33",
   "metadata": {},
   "outputs": [
    {
     "data": {
      "text/plain": [
       "array([[1, 2],\n",
       "       [3, 4],\n",
       "       [5, 6],\n",
       "       [7, 8]])"
      ]
     },
     "execution_count": 72,
     "metadata": {},
     "output_type": "execute_result"
    }
   ],
   "source": [
    "np.vstack((a,b))"
   ]
  },
  {
   "cell_type": "code",
   "execution_count": 73,
   "id": "6da2c297",
   "metadata": {
    "scrolled": true
   },
   "outputs": [
    {
     "data": {
      "text/plain": [
       "array([[1, 2, 5, 6],\n",
       "       [3, 4, 7, 8]])"
      ]
     },
     "execution_count": 73,
     "metadata": {},
     "output_type": "execute_result"
    }
   ],
   "source": [
    "np.hstack((a,b))"
   ]
  },
  {
   "cell_type": "code",
   "execution_count": 74,
   "id": "26a9adc2",
   "metadata": {},
   "outputs": [
    {
     "data": {
      "text/plain": [
       "array([0, 1, 2, 3, 4, 5, 6, 7, 8, 9])"
      ]
     },
     "execution_count": 74,
     "metadata": {},
     "output_type": "execute_result"
    }
   ],
   "source": [
    "a=np.arange(10)\n",
    "a"
   ]
  },
  {
   "cell_type": "code",
   "execution_count": 75,
   "id": "c2558a18",
   "metadata": {},
   "outputs": [
    {
     "data": {
      "text/plain": [
       "[array([0, 1]), array([2, 3]), array([4, 5]), array([6, 7]), array([8, 9])]"
      ]
     },
     "execution_count": 75,
     "metadata": {},
     "output_type": "execute_result"
    }
   ],
   "source": [
    "np.split(a,5)"
   ]
  },
  {
   "cell_type": "code",
   "execution_count": 76,
   "id": "3d15d7b9",
   "metadata": {},
   "outputs": [
    {
     "data": {
      "text/plain": [
       "array([[ 0,  1,  2,  3],\n",
       "       [ 4,  5,  6,  7],\n",
       "       [ 8,  9, 10, 11],\n",
       "       [12, 13, 14, 15]])"
      ]
     },
     "execution_count": 76,
     "metadata": {},
     "output_type": "execute_result"
    }
   ],
   "source": [
    "b = np.arange(16).reshape(4,4)\n",
    "b"
   ]
  },
  {
   "cell_type": "code",
   "execution_count": 77,
   "id": "46d13426",
   "metadata": {},
   "outputs": [
    {
     "data": {
      "text/plain": [
       "[array([[ 0,  1],\n",
       "        [ 4,  5],\n",
       "        [ 8,  9],\n",
       "        [12, 13]]),\n",
       " array([[ 2,  3],\n",
       "        [ 6,  7],\n",
       "        [10, 11],\n",
       "        [14, 15]])]"
      ]
     },
     "execution_count": 77,
     "metadata": {},
     "output_type": "execute_result"
    }
   ],
   "source": [
    "np.hsplit(b,2)"
   ]
  },
  {
   "cell_type": "code",
   "execution_count": 78,
   "id": "3ab1283a",
   "metadata": {},
   "outputs": [
    {
     "data": {
      "text/plain": [
       "[array([[0, 1, 2, 3],\n",
       "        [4, 5, 6, 7]]),\n",
       " array([[ 8,  9, 10, 11],\n",
       "        [12, 13, 14, 15]])]"
      ]
     },
     "execution_count": 78,
     "metadata": {},
     "output_type": "execute_result"
    }
   ],
   "source": [
    "np.vsplit(b,2)"
   ]
  },
  {
   "cell_type": "code",
   "execution_count": 79,
   "id": "bf6db8cf",
   "metadata": {},
   "outputs": [
    {
     "data": {
      "text/plain": [
       "array([0, 1, 2, 3, 4, 5, 6, 7, 8, 9])"
      ]
     },
     "execution_count": 79,
     "metadata": {},
     "output_type": "execute_result"
    }
   ],
   "source": [
    "a=np.arange(10)\n",
    "a"
   ]
  },
  {
   "cell_type": "code",
   "execution_count": 80,
   "id": "4c5a9f79",
   "metadata": {},
   "outputs": [
    {
     "data": {
      "text/plain": [
       "array([ 0,  1,  2,  3,  4,  5,  6,  7,  8,  9, 23])"
      ]
     },
     "execution_count": 80,
     "metadata": {},
     "output_type": "execute_result"
    }
   ],
   "source": [
    "np.append(a,23)"
   ]
  },
  {
   "cell_type": "code",
   "execution_count": 81,
   "id": "918bcf60",
   "metadata": {},
   "outputs": [
    {
     "data": {
      "text/plain": [
       "array([0, 1, 2, 3, 4, 5, 6, 7, 8, 9])"
      ]
     },
     "execution_count": 81,
     "metadata": {},
     "output_type": "execute_result"
    }
   ],
   "source": [
    "a"
   ]
  },
  {
   "cell_type": "code",
   "execution_count": 82,
   "id": "3ffd3718",
   "metadata": {},
   "outputs": [
    {
     "data": {
      "text/plain": [
       "array([[ 0,  1,  2,  3],\n",
       "       [ 4,  5,  6,  7],\n",
       "       [ 8,  9, 10, 11],\n",
       "       [12, 13, 14, 15]])"
      ]
     },
     "execution_count": 82,
     "metadata": {},
     "output_type": "execute_result"
    }
   ],
   "source": [
    "b"
   ]
  },
  {
   "cell_type": "code",
   "execution_count": 83,
   "id": "cdc81b76",
   "metadata": {},
   "outputs": [
    {
     "data": {
      "text/plain": [
       "array([  0,   1,   2,   3,   4,   5,   6,   7,   8,   9,  10,  11,  12,\n",
       "        13,  14,  15, 100, 101, 102, 103])"
      ]
     },
     "execution_count": 83,
     "metadata": {},
     "output_type": "execute_result"
    }
   ],
   "source": [
    "np.append(b,[100,101,102,103])"
   ]
  },
  {
   "cell_type": "code",
   "execution_count": 85,
   "id": "25c6f55e",
   "metadata": {},
   "outputs": [
    {
     "data": {
      "text/plain": [
       "array([[  0,   1,   2,   3],\n",
       "       [  4,   5,   6,   7],\n",
       "       [  8,   9,  10,  11],\n",
       "       [ 12,  13,  14,  15],\n",
       "       [100, 101, 102, 103]])"
      ]
     },
     "execution_count": 85,
     "metadata": {},
     "output_type": "execute_result"
    }
   ],
   "source": [
    "np.append(b,[[100,101,102,103]],axis=0)"
   ]
  },
  {
   "cell_type": "code",
   "execution_count": 86,
   "id": "a0ca79d0",
   "metadata": {},
   "outputs": [
    {
     "data": {
      "text/plain": [
       "array([  0,   1,   2,   3,   4, 100,   5,   6,   7,   8,   9])"
      ]
     },
     "execution_count": 86,
     "metadata": {},
     "output_type": "execute_result"
    }
   ],
   "source": [
    "np.insert(a,5,100)"
   ]
  },
  {
   "cell_type": "code",
   "execution_count": 87,
   "id": "0b3af51f",
   "metadata": {},
   "outputs": [
    {
     "data": {
      "text/plain": [
       "array([0, 1, 2, 3, 4, 5, 6, 7, 8, 9])"
      ]
     },
     "execution_count": 87,
     "metadata": {},
     "output_type": "execute_result"
    }
   ],
   "source": [
    "a"
   ]
  },
  {
   "cell_type": "code",
   "execution_count": 88,
   "id": "65f86467",
   "metadata": {},
   "outputs": [
    {
     "data": {
      "text/plain": [
       "array([0, 1, 2, 3, 4, 5, 6, 7, 9])"
      ]
     },
     "execution_count": 88,
     "metadata": {},
     "output_type": "execute_result"
    }
   ],
   "source": [
    "np.delete(a,8)"
   ]
  },
  {
   "cell_type": "code",
   "execution_count": 89,
   "id": "65ac9abf",
   "metadata": {},
   "outputs": [
    {
     "data": {
      "text/plain": [
       "array([0, 1, 2, 3, 4, 5, 6, 7, 8, 9])"
      ]
     },
     "execution_count": 89,
     "metadata": {},
     "output_type": "execute_result"
    }
   ],
   "source": [
    "a"
   ]
  },
  {
   "cell_type": "code",
   "execution_count": 90,
   "id": "c643a714",
   "metadata": {},
   "outputs": [],
   "source": [
    "#Binary Operations"
   ]
  },
  {
   "cell_type": "code",
   "execution_count": 91,
   "id": "847e9651",
   "metadata": {},
   "outputs": [
    {
     "data": {
      "text/plain": [
       "'100'"
      ]
     },
     "execution_count": 91,
     "metadata": {},
     "output_type": "execute_result"
    }
   ],
   "source": [
    "np.binary_repr(4)  #2^2*1 + 2^1*0 + 2^0*0  = 4"
   ]
  },
  {
   "cell_type": "code",
   "execution_count": 92,
   "id": "9959bffc",
   "metadata": {},
   "outputs": [
    {
     "data": {
      "text/plain": [
       "'0000000000000000000000000000000000000100'"
      ]
     },
     "execution_count": 92,
     "metadata": {},
     "output_type": "execute_result"
    }
   ],
   "source": [
    "np.binary_repr(4,40) "
   ]
  },
  {
   "cell_type": "code",
   "execution_count": 93,
   "id": "9b3d95b3",
   "metadata": {},
   "outputs": [
    {
     "data": {
      "text/plain": [
       "15"
      ]
     },
     "execution_count": 93,
     "metadata": {},
     "output_type": "execute_result"
    }
   ],
   "source": [
    "np.bitwise_and(15,15)"
   ]
  },
  {
   "cell_type": "code",
   "execution_count": 94,
   "id": "6d704f1c",
   "metadata": {},
   "outputs": [
    {
     "data": {
      "text/plain": [
       "43"
      ]
     },
     "execution_count": 94,
     "metadata": {},
     "output_type": "execute_result"
    }
   ],
   "source": [
    "np.bitwise_or(3,40)"
   ]
  },
  {
   "cell_type": "code",
   "execution_count": 95,
   "id": "2daf913c",
   "metadata": {},
   "outputs": [
    {
     "data": {
      "text/plain": [
       "-11"
      ]
     },
     "execution_count": 95,
     "metadata": {},
     "output_type": "execute_result"
    }
   ],
   "source": [
    "np.invert(10)"
   ]
  },
  {
   "cell_type": "code",
   "execution_count": 96,
   "id": "09513dc8",
   "metadata": {},
   "outputs": [
    {
     "data": {
      "text/plain": [
       "-1"
      ]
     },
     "execution_count": 96,
     "metadata": {},
     "output_type": "execute_result"
    }
   ],
   "source": [
    "np.invert(0)"
   ]
  },
  {
   "cell_type": "code",
   "execution_count": 97,
   "id": "fc35001e",
   "metadata": {},
   "outputs": [
    {
     "data": {
      "text/plain": [
       "128"
      ]
     },
     "execution_count": 97,
     "metadata": {},
     "output_type": "execute_result"
    }
   ],
   "source": [
    "np.left_shift(8,4)"
   ]
  },
  {
   "cell_type": "code",
   "execution_count": 98,
   "id": "56ea2c78",
   "metadata": {},
   "outputs": [
    {
     "data": {
      "text/plain": [
       "7"
      ]
     },
     "execution_count": 98,
     "metadata": {},
     "output_type": "execute_result"
    }
   ],
   "source": [
    "np.right_shift(30,2)"
   ]
  },
  {
   "cell_type": "code",
   "execution_count": 99,
   "id": "b610fdcb",
   "metadata": {},
   "outputs": [],
   "source": [
    "#Mathematical Functions"
   ]
  },
  {
   "cell_type": "code",
   "execution_count": 100,
   "id": "ec998e04",
   "metadata": {},
   "outputs": [
    {
     "data": {
      "text/plain": [
       "3.141592653589793"
      ]
     },
     "execution_count": 100,
     "metadata": {},
     "output_type": "execute_result"
    }
   ],
   "source": [
    "np.pi"
   ]
  },
  {
   "cell_type": "code",
   "execution_count": 101,
   "id": "3d83136c",
   "metadata": {},
   "outputs": [
    {
     "data": {
      "text/plain": [
       "180.0"
      ]
     },
     "execution_count": 101,
     "metadata": {},
     "output_type": "execute_result"
    }
   ],
   "source": [
    "np.degrees(np.pi)"
   ]
  },
  {
   "cell_type": "code",
   "execution_count": 102,
   "id": "6af12978",
   "metadata": {},
   "outputs": [
    {
     "data": {
      "text/plain": [
       "3.141592653589793"
      ]
     },
     "execution_count": 102,
     "metadata": {},
     "output_type": "execute_result"
    }
   ],
   "source": [
    "np.deg2rad(180)"
   ]
  },
  {
   "cell_type": "code",
   "execution_count": 104,
   "id": "cf4c7670",
   "metadata": {},
   "outputs": [
    {
     "data": {
      "text/plain": [
       "array([0, 1, 2, 3, 4])"
      ]
     },
     "execution_count": 104,
     "metadata": {},
     "output_type": "execute_result"
    }
   ],
   "source": [
    "a=np.arange(5)\n",
    "a"
   ]
  },
  {
   "cell_type": "code",
   "execution_count": 105,
   "id": "d99384ab",
   "metadata": {},
   "outputs": [
    {
     "data": {
      "text/plain": [
       "array([ 0.        ,  0.84147098,  0.90929743,  0.14112001, -0.7568025 ])"
      ]
     },
     "execution_count": 105,
     "metadata": {},
     "output_type": "execute_result"
    }
   ],
   "source": [
    "np.sin(a)"
   ]
  },
  {
   "cell_type": "code",
   "execution_count": 106,
   "id": "d64b1654",
   "metadata": {},
   "outputs": [
    {
     "data": {
      "text/plain": [
       "array([ 1.        ,  0.54030231, -0.41614684, -0.9899925 , -0.65364362])"
      ]
     },
     "execution_count": 106,
     "metadata": {},
     "output_type": "execute_result"
    }
   ],
   "source": [
    "np.cos(a)"
   ]
  },
  {
   "cell_type": "code",
   "execution_count": 107,
   "id": "70967781",
   "metadata": {},
   "outputs": [
    {
     "data": {
      "text/plain": [
       "array([ 0.        ,  1.55740772, -2.18503986, -0.14254654,  1.15782128])"
      ]
     },
     "execution_count": 107,
     "metadata": {},
     "output_type": "execute_result"
    }
   ],
   "source": [
    "np.tan(a)"
   ]
  },
  {
   "cell_type": "code",
   "execution_count": 108,
   "id": "43f2c9b1",
   "metadata": {},
   "outputs": [
    {
     "name": "stderr",
     "output_type": "stream",
     "text": [
      "C:\\Users\\Bootcamp\\Anaconda3\\lib\\site-packages\\ipykernel_launcher.py:1: RuntimeWarning: invalid value encountered in arcsin\n",
      "  \"\"\"Entry point for launching an IPython kernel.\n"
     ]
    },
    {
     "data": {
      "text/plain": [
       "array([0.        , 1.57079633,        nan,        nan,        nan])"
      ]
     },
     "execution_count": 108,
     "metadata": {},
     "output_type": "execute_result"
    }
   ],
   "source": [
    "np.arcsin(a)"
   ]
  },
  {
   "cell_type": "code",
   "execution_count": 109,
   "id": "660c555e",
   "metadata": {},
   "outputs": [
    {
     "data": {
      "text/plain": [
       "5.0"
      ]
     },
     "execution_count": 109,
     "metadata": {},
     "output_type": "execute_result"
    }
   ],
   "source": [
    "np.round(4.6)"
   ]
  },
  {
   "cell_type": "code",
   "execution_count": 110,
   "id": "cdb7ef08",
   "metadata": {},
   "outputs": [
    {
     "data": {
      "text/plain": [
       "4.0"
      ]
     },
     "execution_count": 110,
     "metadata": {},
     "output_type": "execute_result"
    }
   ],
   "source": [
    "np.round(4.2)"
   ]
  },
  {
   "cell_type": "code",
   "execution_count": 111,
   "id": "e64b63ae",
   "metadata": {},
   "outputs": [
    {
     "data": {
      "text/plain": [
       "3.0"
      ]
     },
     "execution_count": 111,
     "metadata": {},
     "output_type": "execute_result"
    }
   ],
   "source": [
    "np.ceil(2.4)"
   ]
  },
  {
   "cell_type": "code",
   "execution_count": 112,
   "id": "f2e12ee3",
   "metadata": {},
   "outputs": [
    {
     "data": {
      "text/plain": [
       "3.0"
      ]
     },
     "execution_count": 112,
     "metadata": {},
     "output_type": "execute_result"
    }
   ],
   "source": [
    "np.floor(3.2)"
   ]
  },
  {
   "cell_type": "code",
   "execution_count": 113,
   "id": "5869706a",
   "metadata": {},
   "outputs": [
    {
     "data": {
      "text/plain": [
       "5"
      ]
     },
     "execution_count": 113,
     "metadata": {},
     "output_type": "execute_result"
    }
   ],
   "source": [
    "np.abs(-5)"
   ]
  },
  {
   "cell_type": "code",
   "execution_count": 114,
   "id": "81a6a0c9",
   "metadata": {},
   "outputs": [],
   "source": [
    "#Arithmetic Operations"
   ]
  },
  {
   "cell_type": "code",
   "execution_count": 115,
   "id": "48074d84",
   "metadata": {},
   "outputs": [],
   "source": [
    "a=np.array([2,3,4])\n",
    "b=np.array([5,3,2])"
   ]
  },
  {
   "cell_type": "code",
   "execution_count": 116,
   "id": "fe733748",
   "metadata": {},
   "outputs": [
    {
     "data": {
      "text/plain": [
       "array([7, 6, 6])"
      ]
     },
     "execution_count": 116,
     "metadata": {},
     "output_type": "execute_result"
    }
   ],
   "source": [
    "a+b"
   ]
  },
  {
   "cell_type": "code",
   "execution_count": 117,
   "id": "416b1590",
   "metadata": {},
   "outputs": [
    {
     "data": {
      "text/plain": [
       "array([-3,  0,  2])"
      ]
     },
     "execution_count": 117,
     "metadata": {},
     "output_type": "execute_result"
    }
   ],
   "source": [
    "a-b"
   ]
  },
  {
   "cell_type": "code",
   "execution_count": 118,
   "id": "4e48cc78",
   "metadata": {},
   "outputs": [
    {
     "data": {
      "text/plain": [
       "array([10,  9,  8])"
      ]
     },
     "execution_count": 118,
     "metadata": {},
     "output_type": "execute_result"
    }
   ],
   "source": [
    "a*b"
   ]
  },
  {
   "cell_type": "code",
   "execution_count": 119,
   "id": "476be285",
   "metadata": {},
   "outputs": [
    {
     "data": {
      "text/plain": [
       "array([0.4, 1. , 2. ])"
      ]
     },
     "execution_count": 119,
     "metadata": {},
     "output_type": "execute_result"
    }
   ],
   "source": [
    "a/b"
   ]
  },
  {
   "cell_type": "code",
   "execution_count": 120,
   "id": "a52e0475",
   "metadata": {},
   "outputs": [
    {
     "data": {
      "text/plain": [
       "array([7, 6, 6])"
      ]
     },
     "execution_count": 120,
     "metadata": {},
     "output_type": "execute_result"
    }
   ],
   "source": [
    "np.add(a,b)"
   ]
  },
  {
   "cell_type": "code",
   "execution_count": 121,
   "id": "1b1236dc",
   "metadata": {},
   "outputs": [
    {
     "data": {
      "text/plain": [
       "array([-3,  0,  2])"
      ]
     },
     "execution_count": 121,
     "metadata": {},
     "output_type": "execute_result"
    }
   ],
   "source": [
    "np.subtract(a,b)"
   ]
  },
  {
   "cell_type": "code",
   "execution_count": 122,
   "id": "60676394",
   "metadata": {},
   "outputs": [
    {
     "data": {
      "text/plain": [
       "array([10,  9,  8])"
      ]
     },
     "execution_count": 122,
     "metadata": {},
     "output_type": "execute_result"
    }
   ],
   "source": [
    "np.multiply(a,b)"
   ]
  },
  {
   "cell_type": "code",
   "execution_count": 124,
   "id": "67674a8d",
   "metadata": {},
   "outputs": [
    {
     "data": {
      "text/plain": [
       "array([0.4, 1. , 2. ])"
      ]
     },
     "execution_count": 124,
     "metadata": {},
     "output_type": "execute_result"
    }
   ],
   "source": [
    "np.divide(a,b)"
   ]
  },
  {
   "cell_type": "code",
   "execution_count": 125,
   "id": "ecd35c4f",
   "metadata": {},
   "outputs": [
    {
     "data": {
      "text/plain": [
       "array([0, 0, 0], dtype=int32)"
      ]
     },
     "execution_count": 125,
     "metadata": {},
     "output_type": "execute_result"
    }
   ],
   "source": [
    "np.reciprocal(a)"
   ]
  },
  {
   "cell_type": "code",
   "execution_count": 126,
   "id": "f83d5f66",
   "metadata": {},
   "outputs": [
    {
     "data": {
      "text/plain": [
       "array([0.5       , 0.33333333, 2.5       ])"
      ]
     },
     "execution_count": 126,
     "metadata": {},
     "output_type": "execute_result"
    }
   ],
   "source": [
    "np.reciprocal([2,3,0.4])"
   ]
  },
  {
   "cell_type": "code",
   "execution_count": 127,
   "id": "598507e4",
   "metadata": {},
   "outputs": [
    {
     "data": {
      "text/plain": [
       "array([100, 400], dtype=int32)"
      ]
     },
     "execution_count": 127,
     "metadata": {},
     "output_type": "execute_result"
    }
   ],
   "source": [
    "np.power([10,20],2)"
   ]
  },
  {
   "cell_type": "code",
   "execution_count": 128,
   "id": "cc7016e4",
   "metadata": {},
   "outputs": [
    {
     "data": {
      "text/plain": [
       "array([ 100, 8000], dtype=int32)"
      ]
     },
     "execution_count": 128,
     "metadata": {},
     "output_type": "execute_result"
    }
   ],
   "source": [
    "np.power([10,20],[2,3])"
   ]
  },
  {
   "cell_type": "code",
   "execution_count": 129,
   "id": "cd3da1d7",
   "metadata": {},
   "outputs": [
    {
     "data": {
      "text/plain": [
       "array([3, 6, 2], dtype=int32)"
      ]
     },
     "execution_count": 129,
     "metadata": {},
     "output_type": "execute_result"
    }
   ],
   "source": [
    "np.mod([10,20,30],7)"
   ]
  },
  {
   "cell_type": "code",
   "execution_count": 130,
   "id": "83e18911",
   "metadata": {},
   "outputs": [
    {
     "data": {
      "text/plain": [
       "array([0, 2, 0], dtype=int32)"
      ]
     },
     "execution_count": 130,
     "metadata": {},
     "output_type": "execute_result"
    }
   ],
   "source": [
    "np.mod([10,20,30],[2,3,5])"
   ]
  },
  {
   "cell_type": "code",
   "execution_count": 131,
   "id": "e7ffd390",
   "metadata": {},
   "outputs": [],
   "source": [
    "#Statistical Functions"
   ]
  },
  {
   "cell_type": "code",
   "execution_count": 132,
   "id": "0386d87c",
   "metadata": {},
   "outputs": [
    {
     "data": {
      "text/plain": [
       "array([[ 0,  1,  2,  3],\n",
       "       [ 4,  5,  6,  7],\n",
       "       [ 8,  9, 10, 11],\n",
       "       [12, 13, 14, 15]])"
      ]
     },
     "execution_count": 132,
     "metadata": {},
     "output_type": "execute_result"
    }
   ],
   "source": [
    "a=np.arange(16).reshape(4,4)\n",
    "a"
   ]
  },
  {
   "cell_type": "code",
   "execution_count": 133,
   "id": "7220a077",
   "metadata": {},
   "outputs": [
    {
     "data": {
      "text/plain": [
       "15"
      ]
     },
     "execution_count": 133,
     "metadata": {},
     "output_type": "execute_result"
    }
   ],
   "source": [
    "np.amax(a)"
   ]
  },
  {
   "cell_type": "code",
   "execution_count": 134,
   "id": "e2f9b021",
   "metadata": {},
   "outputs": [
    {
     "data": {
      "text/plain": [
       "array([12, 13, 14, 15])"
      ]
     },
     "execution_count": 134,
     "metadata": {},
     "output_type": "execute_result"
    }
   ],
   "source": [
    "np.amax(a,axis=0)"
   ]
  },
  {
   "cell_type": "code",
   "execution_count": 135,
   "id": "3fb78c0a",
   "metadata": {},
   "outputs": [
    {
     "data": {
      "text/plain": [
       "array([ 3,  7, 11, 15])"
      ]
     },
     "execution_count": 135,
     "metadata": {},
     "output_type": "execute_result"
    }
   ],
   "source": [
    "np.amax(a,axis=1)"
   ]
  },
  {
   "cell_type": "code",
   "execution_count": 136,
   "id": "c8f6e065",
   "metadata": {},
   "outputs": [
    {
     "data": {
      "text/plain": [
       "0"
      ]
     },
     "execution_count": 136,
     "metadata": {},
     "output_type": "execute_result"
    }
   ],
   "source": [
    "np.amin(a)"
   ]
  },
  {
   "cell_type": "code",
   "execution_count": 137,
   "id": "94054b39",
   "metadata": {},
   "outputs": [
    {
     "data": {
      "text/plain": [
       "array([0, 1, 2, 3])"
      ]
     },
     "execution_count": 137,
     "metadata": {},
     "output_type": "execute_result"
    }
   ],
   "source": [
    "np.amin(a,axis=0)"
   ]
  },
  {
   "cell_type": "code",
   "execution_count": 138,
   "id": "8f661d1b",
   "metadata": {},
   "outputs": [
    {
     "data": {
      "text/plain": [
       "array([ 0,  4,  8, 12])"
      ]
     },
     "execution_count": 138,
     "metadata": {},
     "output_type": "execute_result"
    }
   ],
   "source": [
    "np.amin(a,axis=1)"
   ]
  },
  {
   "cell_type": "code",
   "execution_count": 139,
   "id": "2975c0f7",
   "metadata": {},
   "outputs": [
    {
     "data": {
      "text/plain": [
       "15"
      ]
     },
     "execution_count": 139,
     "metadata": {},
     "output_type": "execute_result"
    }
   ],
   "source": [
    "np.ptp(a)"
   ]
  },
  {
   "cell_type": "code",
   "execution_count": 140,
   "id": "5716a6fd",
   "metadata": {
    "scrolled": true
   },
   "outputs": [
    {
     "data": {
      "text/plain": [
       "7.5"
      ]
     },
     "execution_count": 140,
     "metadata": {},
     "output_type": "execute_result"
    }
   ],
   "source": [
    "np.mean(a)"
   ]
  },
  {
   "cell_type": "code",
   "execution_count": 141,
   "id": "1dfa7344",
   "metadata": {},
   "outputs": [
    {
     "data": {
      "text/plain": [
       "array([6., 7., 8., 9.])"
      ]
     },
     "execution_count": 141,
     "metadata": {},
     "output_type": "execute_result"
    }
   ],
   "source": [
    "np.mean(a,axis=0)"
   ]
  },
  {
   "cell_type": "code",
   "execution_count": 142,
   "id": "55a52912",
   "metadata": {},
   "outputs": [
    {
     "data": {
      "text/plain": [
       "array([ 1.5,  5.5,  9.5, 13.5])"
      ]
     },
     "execution_count": 142,
     "metadata": {},
     "output_type": "execute_result"
    }
   ],
   "source": [
    "np.mean(a,axis=1)"
   ]
  },
  {
   "cell_type": "code",
   "execution_count": 143,
   "id": "3d7ec9f7",
   "metadata": {},
   "outputs": [
    {
     "data": {
      "text/plain": [
       "7.5"
      ]
     },
     "execution_count": 143,
     "metadata": {},
     "output_type": "execute_result"
    }
   ],
   "source": [
    "np.median(a)"
   ]
  },
  {
   "cell_type": "code",
   "execution_count": 144,
   "id": "6ae30230",
   "metadata": {},
   "outputs": [
    {
     "data": {
      "text/plain": [
       "array([6., 7., 8., 9.])"
      ]
     },
     "execution_count": 144,
     "metadata": {},
     "output_type": "execute_result"
    }
   ],
   "source": [
    "np.median(a,axis=0)"
   ]
  },
  {
   "cell_type": "code",
   "execution_count": 145,
   "id": "cf1ed25d",
   "metadata": {},
   "outputs": [
    {
     "data": {
      "text/plain": [
       "array([ 1.5,  5.5,  9.5, 13.5])"
      ]
     },
     "execution_count": 145,
     "metadata": {},
     "output_type": "execute_result"
    }
   ],
   "source": [
    "np.median(a,axis=1)"
   ]
  },
  {
   "cell_type": "code",
   "execution_count": 146,
   "id": "816871e9",
   "metadata": {},
   "outputs": [
    {
     "data": {
      "text/plain": [
       "3.75"
      ]
     },
     "execution_count": 146,
     "metadata": {},
     "output_type": "execute_result"
    }
   ],
   "source": [
    "np.percentile(a,25)"
   ]
  },
  {
   "cell_type": "code",
   "execution_count": 147,
   "id": "ec7a1a13",
   "metadata": {},
   "outputs": [
    {
     "data": {
      "text/plain": [
       "4.6097722286464435"
      ]
     },
     "execution_count": 147,
     "metadata": {},
     "output_type": "execute_result"
    }
   ],
   "source": [
    "np.std(a)"
   ]
  },
  {
   "cell_type": "code",
   "execution_count": 148,
   "id": "3cfc8b72",
   "metadata": {},
   "outputs": [
    {
     "data": {
      "text/plain": [
       "21.25"
      ]
     },
     "execution_count": 148,
     "metadata": {},
     "output_type": "execute_result"
    }
   ],
   "source": [
    "np.var(a)"
   ]
  },
  {
   "cell_type": "code",
   "execution_count": 149,
   "id": "42a579ea",
   "metadata": {},
   "outputs": [],
   "source": [
    "#Sorting and Searching"
   ]
  },
  {
   "cell_type": "code",
   "execution_count": 150,
   "id": "c235d872",
   "metadata": {},
   "outputs": [
    {
     "data": {
      "text/plain": [
       "array([ 2,  4,  8, -5,  5,  0, -1])"
      ]
     },
     "execution_count": 150,
     "metadata": {},
     "output_type": "execute_result"
    }
   ],
   "source": [
    "a=np.array([2,4,8,-5,5,0,-1])\n",
    "a"
   ]
  },
  {
   "cell_type": "code",
   "execution_count": 151,
   "id": "3eb0daaf",
   "metadata": {},
   "outputs": [
    {
     "data": {
      "text/plain": [
       "array([-5, -1,  0,  2,  4,  5,  8])"
      ]
     },
     "execution_count": 151,
     "metadata": {},
     "output_type": "execute_result"
    }
   ],
   "source": [
    "np.sort(a)"
   ]
  },
  {
   "cell_type": "code",
   "execution_count": 152,
   "id": "4dc3cdc1",
   "metadata": {},
   "outputs": [
    {
     "data": {
      "text/plain": [
       "array([ 2,  4,  8, -5,  5,  0, -1])"
      ]
     },
     "execution_count": 152,
     "metadata": {},
     "output_type": "execute_result"
    }
   ],
   "source": [
    "a"
   ]
  },
  {
   "cell_type": "code",
   "execution_count": 153,
   "id": "5e9bed7c",
   "metadata": {},
   "outputs": [
    {
     "data": {
      "text/plain": [
       "array([3, 6, 5, 0, 1, 4, 2], dtype=int64)"
      ]
     },
     "execution_count": 153,
     "metadata": {},
     "output_type": "execute_result"
    }
   ],
   "source": [
    "np.argsort(a)"
   ]
  },
  {
   "cell_type": "code",
   "execution_count": 154,
   "id": "5b8fe710",
   "metadata": {},
   "outputs": [
    {
     "data": {
      "text/plain": [
       "2"
      ]
     },
     "execution_count": 154,
     "metadata": {},
     "output_type": "execute_result"
    }
   ],
   "source": [
    "np.argmax(a)"
   ]
  },
  {
   "cell_type": "code",
   "execution_count": 155,
   "id": "f6036cbe",
   "metadata": {},
   "outputs": [
    {
     "data": {
      "text/plain": [
       "3"
      ]
     },
     "execution_count": 155,
     "metadata": {},
     "output_type": "execute_result"
    }
   ],
   "source": [
    "np.argmin(a)"
   ]
  },
  {
   "cell_type": "code",
   "execution_count": 156,
   "id": "451559c2",
   "metadata": {},
   "outputs": [
    {
     "data": {
      "text/plain": [
       "(array([0, 1, 2, 3, 4, 6], dtype=int64),)"
      ]
     },
     "execution_count": 156,
     "metadata": {},
     "output_type": "execute_result"
    }
   ],
   "source": [
    "np.nonzero(a)"
   ]
  },
  {
   "cell_type": "code",
   "execution_count": 158,
   "id": "c2a6bbad",
   "metadata": {},
   "outputs": [
    {
     "data": {
      "text/plain": [
       "(array([1, 2, 4], dtype=int64),)"
      ]
     },
     "execution_count": 158,
     "metadata": {},
     "output_type": "execute_result"
    }
   ],
   "source": [
    "np.where(a>2)"
   ]
  },
  {
   "cell_type": "code",
   "execution_count": 160,
   "id": "8632f306",
   "metadata": {},
   "outputs": [
    {
     "data": {
      "text/plain": [
       "array([ 2,  4,  8, -5,  5,  0, -1])"
      ]
     },
     "execution_count": 160,
     "metadata": {},
     "output_type": "execute_result"
    }
   ],
   "source": [
    "a"
   ]
  },
  {
   "cell_type": "code",
   "execution_count": 161,
   "id": "4d31d6ef",
   "metadata": {},
   "outputs": [
    {
     "data": {
      "text/plain": [
       "array([4, 8, 5])"
      ]
     },
     "execution_count": 161,
     "metadata": {},
     "output_type": "execute_result"
    }
   ],
   "source": [
    "np.extract(a>2,a)"
   ]
  },
  {
   "cell_type": "code",
   "execution_count": 162,
   "id": "c666e243",
   "metadata": {},
   "outputs": [],
   "source": [
    "#Copy and Views"
   ]
  },
  {
   "cell_type": "code",
   "execution_count": 163,
   "id": "1f53a988",
   "metadata": {},
   "outputs": [
    {
     "data": {
      "text/plain": [
       "array([2, 3, 4])"
      ]
     },
     "execution_count": 163,
     "metadata": {},
     "output_type": "execute_result"
    }
   ],
   "source": [
    "a=np.array([2,3,4])\n",
    "a"
   ]
  },
  {
   "cell_type": "code",
   "execution_count": 164,
   "id": "20932190",
   "metadata": {},
   "outputs": [
    {
     "data": {
      "text/plain": [
       "2001715421808"
      ]
     },
     "execution_count": 164,
     "metadata": {},
     "output_type": "execute_result"
    }
   ],
   "source": [
    "id(a)"
   ]
  },
  {
   "cell_type": "code",
   "execution_count": 165,
   "id": "5530b364",
   "metadata": {},
   "outputs": [],
   "source": [
    "b=a"
   ]
  },
  {
   "cell_type": "code",
   "execution_count": 166,
   "id": "30e94a97",
   "metadata": {},
   "outputs": [
    {
     "data": {
      "text/plain": [
       "2001715421808"
      ]
     },
     "execution_count": 166,
     "metadata": {},
     "output_type": "execute_result"
    }
   ],
   "source": [
    "id(b)"
   ]
  },
  {
   "cell_type": "code",
   "execution_count": 167,
   "id": "74d2425d",
   "metadata": {},
   "outputs": [],
   "source": [
    "a[0]=-5"
   ]
  },
  {
   "cell_type": "code",
   "execution_count": 170,
   "id": "45633350",
   "metadata": {},
   "outputs": [
    {
     "data": {
      "text/plain": [
       "(array([-5,  3,  4]), array([-5,  3,  4]))"
      ]
     },
     "execution_count": 170,
     "metadata": {},
     "output_type": "execute_result"
    }
   ],
   "source": [
    "a,b"
   ]
  },
  {
   "cell_type": "code",
   "execution_count": 169,
   "id": "55f25e93",
   "metadata": {},
   "outputs": [
    {
     "data": {
      "text/plain": [
       "array([-5,  3,  4])"
      ]
     },
     "execution_count": 169,
     "metadata": {},
     "output_type": "execute_result"
    }
   ],
   "source": [
    "b"
   ]
  },
  {
   "cell_type": "code",
   "execution_count": 171,
   "id": "10fc460c",
   "metadata": {},
   "outputs": [
    {
     "data": {
      "text/plain": [
       "array([2, 3, 4])"
      ]
     },
     "execution_count": 171,
     "metadata": {},
     "output_type": "execute_result"
    }
   ],
   "source": [
    "a=np.array([2,3,4])\n",
    "a"
   ]
  },
  {
   "cell_type": "code",
   "execution_count": 172,
   "id": "ae1e322b",
   "metadata": {},
   "outputs": [
    {
     "data": {
      "text/plain": [
       "2001719328080"
      ]
     },
     "execution_count": 172,
     "metadata": {},
     "output_type": "execute_result"
    }
   ],
   "source": [
    "id(a)"
   ]
  },
  {
   "cell_type": "code",
   "execution_count": 173,
   "id": "d6f77364",
   "metadata": {},
   "outputs": [],
   "source": [
    "b=a.view()"
   ]
  },
  {
   "cell_type": "code",
   "execution_count": 174,
   "id": "d5972733",
   "metadata": {},
   "outputs": [
    {
     "data": {
      "text/plain": [
       "2001715569264"
      ]
     },
     "execution_count": 174,
     "metadata": {},
     "output_type": "execute_result"
    }
   ],
   "source": [
    "id(b)"
   ]
  },
  {
   "cell_type": "code",
   "execution_count": 175,
   "id": "3b9850bc",
   "metadata": {},
   "outputs": [],
   "source": [
    "a[0]=-5"
   ]
  },
  {
   "cell_type": "code",
   "execution_count": 176,
   "id": "f5f1b645",
   "metadata": {},
   "outputs": [
    {
     "data": {
      "text/plain": [
       "(array([-5,  3,  4]), array([-5,  3,  4]))"
      ]
     },
     "execution_count": 176,
     "metadata": {},
     "output_type": "execute_result"
    }
   ],
   "source": [
    "a,b"
   ]
  },
  {
   "cell_type": "code",
   "execution_count": 177,
   "id": "ce27777a",
   "metadata": {},
   "outputs": [
    {
     "data": {
      "text/plain": [
       "array([2, 3, 4])"
      ]
     },
     "execution_count": 177,
     "metadata": {},
     "output_type": "execute_result"
    }
   ],
   "source": [
    "a=np.array([2,3,4])\n",
    "a"
   ]
  },
  {
   "cell_type": "code",
   "execution_count": 178,
   "id": "e79cf1fe",
   "metadata": {},
   "outputs": [
    {
     "data": {
      "text/plain": [
       "2001715571760"
      ]
     },
     "execution_count": 178,
     "metadata": {},
     "output_type": "execute_result"
    }
   ],
   "source": [
    "id(a)"
   ]
  },
  {
   "cell_type": "code",
   "execution_count": 179,
   "id": "9bdfdce4",
   "metadata": {},
   "outputs": [
    {
     "data": {
      "text/plain": [
       "array([2, 3, 4])"
      ]
     },
     "execution_count": 179,
     "metadata": {},
     "output_type": "execute_result"
    }
   ],
   "source": [
    "b=a.copy()\n",
    "b"
   ]
  },
  {
   "cell_type": "code",
   "execution_count": 180,
   "id": "0e12a8ba",
   "metadata": {},
   "outputs": [
    {
     "data": {
      "text/plain": [
       "2001715388752"
      ]
     },
     "execution_count": 180,
     "metadata": {},
     "output_type": "execute_result"
    }
   ],
   "source": [
    "id(b)"
   ]
  },
  {
   "cell_type": "code",
   "execution_count": 181,
   "id": "cd78f248",
   "metadata": {},
   "outputs": [],
   "source": [
    "a[0]=-5"
   ]
  },
  {
   "cell_type": "code",
   "execution_count": 182,
   "id": "c78a0003",
   "metadata": {},
   "outputs": [
    {
     "data": {
      "text/plain": [
       "(array([-5,  3,  4]), array([2, 3, 4]))"
      ]
     },
     "execution_count": 182,
     "metadata": {},
     "output_type": "execute_result"
    }
   ],
   "source": [
    "a,b"
   ]
  },
  {
   "cell_type": "code",
   "execution_count": 183,
   "id": "c95c62ca",
   "metadata": {},
   "outputs": [],
   "source": [
    "b[1]=400"
   ]
  },
  {
   "cell_type": "code",
   "execution_count": 184,
   "id": "8ede7fcd",
   "metadata": {},
   "outputs": [
    {
     "data": {
      "text/plain": [
       "(array([-5,  3,  4]), array([  2, 400,   4]))"
      ]
     },
     "execution_count": 184,
     "metadata": {},
     "output_type": "execute_result"
    }
   ],
   "source": [
    "a,b"
   ]
  },
  {
   "cell_type": "code",
   "execution_count": 185,
   "id": "96b78e07",
   "metadata": {},
   "outputs": [],
   "source": [
    "#Linear Algebra Functions"
   ]
  },
  {
   "cell_type": "code",
   "execution_count": 186,
   "id": "f456e842",
   "metadata": {},
   "outputs": [
    {
     "data": {
      "text/plain": [
       "array([[ 2,  5,  7],\n",
       "       [ 0,  9,  7],\n",
       "       [ 1, -5,  8]])"
      ]
     },
     "execution_count": 186,
     "metadata": {},
     "output_type": "execute_result"
    }
   ],
   "source": [
    "a=np.array([[2,5,7],[0,9,7],[1,-5,8]])\n",
    "a"
   ]
  },
  {
   "cell_type": "code",
   "execution_count": 187,
   "id": "21859088",
   "metadata": {},
   "outputs": [
    {
     "data": {
      "text/plain": [
       "3"
      ]
     },
     "execution_count": 187,
     "metadata": {},
     "output_type": "execute_result"
    }
   ],
   "source": [
    "np.linalg.matrix_rank(a)"
   ]
  },
  {
   "cell_type": "code",
   "execution_count": 188,
   "id": "8730aa10",
   "metadata": {},
   "outputs": [
    {
     "data": {
      "text/plain": [
       "19"
      ]
     },
     "execution_count": 188,
     "metadata": {},
     "output_type": "execute_result"
    }
   ],
   "source": [
    "np.trace(a)"
   ]
  },
  {
   "cell_type": "code",
   "execution_count": 189,
   "id": "a2a87753",
   "metadata": {},
   "outputs": [
    {
     "data": {
      "text/plain": [
       "186.00000000000009"
      ]
     },
     "execution_count": 189,
     "metadata": {},
     "output_type": "execute_result"
    }
   ],
   "source": [
    "np.linalg.det(a)"
   ]
  },
  {
   "cell_type": "code",
   "execution_count": 190,
   "id": "90ed8632",
   "metadata": {},
   "outputs": [
    {
     "data": {
      "text/plain": [
       "array([[ 0.57526882, -0.40322581, -0.15053763],\n",
       "       [ 0.03763441,  0.0483871 , -0.07526882],\n",
       "       [-0.0483871 ,  0.08064516,  0.09677419]])"
      ]
     },
     "execution_count": 190,
     "metadata": {},
     "output_type": "execute_result"
    }
   ],
   "source": [
    "np.linalg.inv(a)"
   ]
  },
  {
   "cell_type": "code",
   "execution_count": 191,
   "id": "5fa43564",
   "metadata": {},
   "outputs": [
    {
     "data": {
      "text/plain": [
       "array([[ 127, -290, 1057],\n",
       "       [ 133, -146, 1323],\n",
       "       [  56, -850, -202]])"
      ]
     },
     "execution_count": 191,
     "metadata": {},
     "output_type": "execute_result"
    }
   ],
   "source": [
    "np.linalg.matrix_power(a,3)"
   ]
  },
  {
   "cell_type": "code",
   "execution_count": 192,
   "id": "8446625d",
   "metadata": {},
   "outputs": [
    {
     "data": {
      "text/plain": [
       "(array([1.80701898+0.j        , 8.59649051+5.38816368j,\n",
       "        8.59649051-5.38816368j]),\n",
       " array([[ 0.99213348+0.j        , -0.54097002-0.09822029j,\n",
       "         -0.54097002+0.09822029j],\n",
       "        [ 0.08730715+0.j        , -0.66121678+0.j        ,\n",
       "         -0.66121678-0.j        ],\n",
       "        [-0.0897141 +0.j        ,  0.03811532-0.50896346j,\n",
       "          0.03811532+0.50896346j]]))"
      ]
     },
     "execution_count": 192,
     "metadata": {},
     "output_type": "execute_result"
    }
   ],
   "source": [
    "np.linalg.eig(a)"
   ]
  },
  {
   "cell_type": "code",
   "execution_count": 193,
   "id": "1ced4535",
   "metadata": {},
   "outputs": [
    {
     "data": {
      "text/plain": [
       "(array([[-0.60628635,  0.03765492, -0.79435444],\n",
       "        [-0.75847232, -0.32761986,  0.56336931],\n",
       "        [-0.23903266,  0.94405897,  0.22719166]]),\n",
       " array([14.44319001,  9.35408353,  1.37672937]),\n",
       " array([[-0.10050448, -0.59976496, -0.7938393 ],\n",
       "        [ 0.10897581, -0.79971479,  0.59040709],\n",
       "        [-0.98895052, -0.02717072,  0.14573479]]))"
      ]
     },
     "execution_count": 193,
     "metadata": {},
     "output_type": "execute_result"
    }
   ],
   "source": [
    "np.linalg.svd(a)"
   ]
  },
  {
   "cell_type": "code",
   "execution_count": null,
   "id": "87314421",
   "metadata": {},
   "outputs": [],
   "source": [
    "x+y=5\n",
    "2x-5=10"
   ]
  },
  {
   "cell_type": "code",
   "execution_count": 194,
   "id": "6b2aeccd",
   "metadata": {},
   "outputs": [],
   "source": [
    "a=np.array([[1,1],[2,-5]])\n",
    "b=np.array([5,10])"
   ]
  },
  {
   "cell_type": "code",
   "execution_count": 195,
   "id": "29da0780",
   "metadata": {},
   "outputs": [
    {
     "data": {
      "text/plain": [
       "array([5., 0.])"
      ]
     },
     "execution_count": 195,
     "metadata": {},
     "output_type": "execute_result"
    }
   ],
   "source": [
    "np.linalg.solve(a,b)"
   ]
  },
  {
   "cell_type": "code",
   "execution_count": 196,
   "id": "e62dfea3",
   "metadata": {},
   "outputs": [],
   "source": [
    "#I/O with Numpy"
   ]
  },
  {
   "cell_type": "code",
   "execution_count": 197,
   "id": "491fd280",
   "metadata": {},
   "outputs": [],
   "source": [
    "a=np.array([2,5,7])"
   ]
  },
  {
   "cell_type": "code",
   "execution_count": 198,
   "id": "b5ceed92",
   "metadata": {},
   "outputs": [],
   "source": [
    "np.save('out.bin',a)"
   ]
  },
  {
   "cell_type": "code",
   "execution_count": 199,
   "id": "1e115552",
   "metadata": {},
   "outputs": [
    {
     "data": {
      "text/plain": [
       "array([2, 5, 7])"
      ]
     },
     "execution_count": 199,
     "metadata": {},
     "output_type": "execute_result"
    }
   ],
   "source": [
    "np.load('out.bin.npy')"
   ]
  },
  {
   "cell_type": "code",
   "execution_count": 202,
   "id": "cd6eed90",
   "metadata": {},
   "outputs": [],
   "source": [
    "np.savetxt('data.txt',a)"
   ]
  },
  {
   "cell_type": "code",
   "execution_count": 204,
   "id": "9a319f82",
   "metadata": {},
   "outputs": [
    {
     "data": {
      "text/plain": [
       "array([2., 5., 7.])"
      ]
     },
     "execution_count": 204,
     "metadata": {},
     "output_type": "execute_result"
    }
   ],
   "source": [
    "np.loadtxt('data.txt')"
   ]
  },
  {
   "cell_type": "code",
   "execution_count": 1,
   "id": "399aa268",
   "metadata": {},
   "outputs": [],
   "source": [
    "#Numpy+Exercise+Problem.zip indirildi"
   ]
  },
  {
   "cell_type": "code",
   "execution_count": null,
   "id": "c100c9bc",
   "metadata": {},
   "outputs": [],
   "source": [
    "#Negatif değerleri 1000 ile değiştir"
   ]
  },
  {
   "cell_type": "code",
   "execution_count": 3,
   "id": "18ef6054",
   "metadata": {},
   "outputs": [],
   "source": [
    "arr=np.array([5,0,-3,9,10,-5,-1])"
   ]
  },
  {
   "cell_type": "code",
   "execution_count": 5,
   "id": "4e51f5d1",
   "metadata": {},
   "outputs": [
    {
     "data": {
      "text/plain": [
       "array([False, False,  True, False, False,  True,  True])"
      ]
     },
     "execution_count": 5,
     "metadata": {},
     "output_type": "execute_result"
    }
   ],
   "source": [
    "arr<0"
   ]
  },
  {
   "cell_type": "code",
   "execution_count": 6,
   "id": "6ab7ec10",
   "metadata": {},
   "outputs": [
    {
     "data": {
      "text/plain": [
       "array([-3, -5, -1])"
      ]
     },
     "execution_count": 6,
     "metadata": {},
     "output_type": "execute_result"
    }
   ],
   "source": [
    "arr[arr<0]"
   ]
  },
  {
   "cell_type": "code",
   "execution_count": 7,
   "id": "670a2c2a",
   "metadata": {},
   "outputs": [],
   "source": [
    "arr[arr<0]=1000"
   ]
  },
  {
   "cell_type": "code",
   "execution_count": 8,
   "id": "44a87733",
   "metadata": {},
   "outputs": [
    {
     "data": {
      "text/plain": [
       "array([   5,    0, 1000,    9,   10, 1000, 1000])"
      ]
     },
     "execution_count": 8,
     "metadata": {},
     "output_type": "execute_result"
    }
   ],
   "source": [
    "arr"
   ]
  },
  {
   "cell_type": "code",
   "execution_count": 9,
   "id": "1314e853",
   "metadata": {},
   "outputs": [],
   "source": [
    "#Count how many ones in array"
   ]
  },
  {
   "cell_type": "code",
   "execution_count": 15,
   "id": "ce649dde",
   "metadata": {},
   "outputs": [],
   "source": [
    "arr=np.array([[1,1,0,0,0,1,1,1,1,0],[0,1,1,1,1,0,1,1,1,0]])"
   ]
  },
  {
   "cell_type": "code",
   "execution_count": 16,
   "id": "a62d6446",
   "metadata": {
    "scrolled": false
   },
   "outputs": [
    {
     "data": {
      "text/plain": [
       "array([[1, 1, 0, 0, 0, 1, 1, 1, 1, 0],\n",
       "       [0, 1, 1, 1, 1, 0, 1, 1, 1, 0]])"
      ]
     },
     "execution_count": 16,
     "metadata": {},
     "output_type": "execute_result"
    }
   ],
   "source": [
    "arr"
   ]
  },
  {
   "cell_type": "code",
   "execution_count": 17,
   "id": "1d154b1e",
   "metadata": {},
   "outputs": [
    {
     "data": {
      "text/plain": [
       "array([1, 2, 1, 1, 1, 1, 2, 2, 2, 0])"
      ]
     },
     "execution_count": 17,
     "metadata": {},
     "output_type": "execute_result"
    }
   ],
   "source": [
    "sum(arr)"
   ]
  },
  {
   "cell_type": "code",
   "execution_count": 18,
   "id": "ca3802ee",
   "metadata": {},
   "outputs": [
    {
     "data": {
      "text/plain": [
       "13"
      ]
     },
     "execution_count": 18,
     "metadata": {},
     "output_type": "execute_result"
    }
   ],
   "source": [
    "sum(sum(arr))"
   ]
  },
  {
   "cell_type": "code",
   "execution_count": 19,
   "id": "355889e2",
   "metadata": {},
   "outputs": [
    {
     "data": {
      "text/plain": [
       "13"
      ]
     },
     "execution_count": 19,
     "metadata": {},
     "output_type": "execute_result"
    }
   ],
   "source": [
    "np.sum(arr)"
   ]
  },
  {
   "cell_type": "code",
   "execution_count": 20,
   "id": "b71c5341",
   "metadata": {},
   "outputs": [
    {
     "data": {
      "text/plain": [
       "array([6, 7])"
      ]
     },
     "execution_count": 20,
     "metadata": {},
     "output_type": "execute_result"
    }
   ],
   "source": [
    "np.sum(arr,axis=1)"
   ]
  },
  {
   "cell_type": "code",
   "execution_count": 21,
   "id": "2035a95e",
   "metadata": {},
   "outputs": [
    {
     "data": {
      "text/plain": [
       "13"
      ]
     },
     "execution_count": 21,
     "metadata": {},
     "output_type": "execute_result"
    }
   ],
   "source": [
    "np.sum(np.sum(arr,axis=1))"
   ]
  },
  {
   "cell_type": "code",
   "execution_count": 22,
   "id": "517943fe",
   "metadata": {},
   "outputs": [],
   "source": [
    "#Create numpy array of values between 1000 and 2000, all number\n",
    "#divisible by 5 butnot 15"
   ]
  },
  {
   "cell_type": "code",
   "execution_count": 25,
   "id": "da255bfe",
   "metadata": {},
   "outputs": [
    {
     "name": "stdout",
     "output_type": "stream",
     "text": [
      "1000\n",
      "1010\n",
      "1015\n",
      "1025\n",
      "1030\n",
      "1040\n",
      "1045\n",
      "1055\n",
      "1060\n",
      "1070\n",
      "1075\n",
      "1085\n",
      "1090\n",
      "1100\n",
      "1105\n",
      "1115\n",
      "1120\n",
      "1130\n",
      "1135\n",
      "1145\n",
      "1150\n",
      "1160\n",
      "1165\n",
      "1175\n",
      "1180\n",
      "1190\n",
      "1195\n",
      "1205\n",
      "1210\n",
      "1220\n",
      "1225\n",
      "1235\n",
      "1240\n",
      "1250\n",
      "1255\n",
      "1265\n",
      "1270\n",
      "1280\n",
      "1285\n",
      "1295\n",
      "1300\n",
      "1310\n",
      "1315\n",
      "1325\n",
      "1330\n",
      "1340\n",
      "1345\n",
      "1355\n",
      "1360\n",
      "1370\n",
      "1375\n",
      "1385\n",
      "1390\n",
      "1400\n",
      "1405\n",
      "1415\n",
      "1420\n",
      "1430\n",
      "1435\n",
      "1445\n",
      "1450\n",
      "1460\n",
      "1465\n",
      "1475\n",
      "1480\n",
      "1490\n",
      "1495\n",
      "1505\n",
      "1510\n",
      "1520\n",
      "1525\n",
      "1535\n",
      "1540\n",
      "1550\n",
      "1555\n",
      "1565\n",
      "1570\n",
      "1580\n",
      "1585\n",
      "1595\n",
      "1600\n",
      "1610\n",
      "1615\n",
      "1625\n",
      "1630\n",
      "1640\n",
      "1645\n",
      "1655\n",
      "1660\n",
      "1670\n",
      "1675\n",
      "1685\n",
      "1690\n",
      "1700\n",
      "1705\n",
      "1715\n",
      "1720\n",
      "1730\n",
      "1735\n",
      "1745\n",
      "1750\n",
      "1760\n",
      "1765\n",
      "1775\n",
      "1780\n",
      "1790\n",
      "1795\n",
      "1805\n",
      "1810\n",
      "1820\n",
      "1825\n",
      "1835\n",
      "1840\n",
      "1850\n",
      "1855\n",
      "1865\n",
      "1870\n",
      "1880\n",
      "1885\n",
      "1895\n",
      "1900\n",
      "1910\n",
      "1915\n",
      "1925\n",
      "1930\n",
      "1940\n",
      "1945\n",
      "1955\n",
      "1960\n",
      "1970\n",
      "1975\n",
      "1985\n",
      "1990\n"
     ]
    }
   ],
   "source": [
    "for i in range(1000,2000,5):\n",
    "    if (i%15!=0):\n",
    "        print(i)"
   ]
  },
  {
   "cell_type": "code",
   "execution_count": 27,
   "id": "9e3332d4",
   "metadata": {},
   "outputs": [
    {
     "data": {
      "text/plain": [
       "67.0"
      ]
     },
     "execution_count": 27,
     "metadata": {},
     "output_type": "execute_result"
    }
   ],
   "source": [
    "1005/15"
   ]
  },
  {
   "cell_type": "code",
   "execution_count": 28,
   "id": "de645fbd",
   "metadata": {},
   "outputs": [
    {
     "data": {
      "text/plain": [
       "array([1000, 1001, 1002, 1003, 1004, 1005, 1006, 1007, 1008, 1009, 1010,\n",
       "       1011, 1012, 1013, 1014, 1015, 1016, 1017, 1018, 1019, 1020, 1021,\n",
       "       1022, 1023, 1024, 1025, 1026, 1027, 1028, 1029, 1030, 1031, 1032,\n",
       "       1033, 1034, 1035, 1036, 1037, 1038, 1039, 1040, 1041, 1042, 1043,\n",
       "       1044, 1045, 1046, 1047, 1048, 1049, 1050, 1051, 1052, 1053, 1054,\n",
       "       1055, 1056, 1057, 1058, 1059, 1060, 1061, 1062, 1063, 1064, 1065,\n",
       "       1066, 1067, 1068, 1069, 1070, 1071, 1072, 1073, 1074, 1075, 1076,\n",
       "       1077, 1078, 1079, 1080, 1081, 1082, 1083, 1084, 1085, 1086, 1087,\n",
       "       1088, 1089, 1090, 1091, 1092, 1093, 1094, 1095, 1096, 1097, 1098,\n",
       "       1099, 1100, 1101, 1102, 1103, 1104, 1105, 1106, 1107, 1108, 1109,\n",
       "       1110, 1111, 1112, 1113, 1114, 1115, 1116, 1117, 1118, 1119, 1120,\n",
       "       1121, 1122, 1123, 1124, 1125, 1126, 1127, 1128, 1129, 1130, 1131,\n",
       "       1132, 1133, 1134, 1135, 1136, 1137, 1138, 1139, 1140, 1141, 1142,\n",
       "       1143, 1144, 1145, 1146, 1147, 1148, 1149, 1150, 1151, 1152, 1153,\n",
       "       1154, 1155, 1156, 1157, 1158, 1159, 1160, 1161, 1162, 1163, 1164,\n",
       "       1165, 1166, 1167, 1168, 1169, 1170, 1171, 1172, 1173, 1174, 1175,\n",
       "       1176, 1177, 1178, 1179, 1180, 1181, 1182, 1183, 1184, 1185, 1186,\n",
       "       1187, 1188, 1189, 1190, 1191, 1192, 1193, 1194, 1195, 1196, 1197,\n",
       "       1198, 1199, 1200, 1201, 1202, 1203, 1204, 1205, 1206, 1207, 1208,\n",
       "       1209, 1210, 1211, 1212, 1213, 1214, 1215, 1216, 1217, 1218, 1219,\n",
       "       1220, 1221, 1222, 1223, 1224, 1225, 1226, 1227, 1228, 1229, 1230,\n",
       "       1231, 1232, 1233, 1234, 1235, 1236, 1237, 1238, 1239, 1240, 1241,\n",
       "       1242, 1243, 1244, 1245, 1246, 1247, 1248, 1249, 1250, 1251, 1252,\n",
       "       1253, 1254, 1255, 1256, 1257, 1258, 1259, 1260, 1261, 1262, 1263,\n",
       "       1264, 1265, 1266, 1267, 1268, 1269, 1270, 1271, 1272, 1273, 1274,\n",
       "       1275, 1276, 1277, 1278, 1279, 1280, 1281, 1282, 1283, 1284, 1285,\n",
       "       1286, 1287, 1288, 1289, 1290, 1291, 1292, 1293, 1294, 1295, 1296,\n",
       "       1297, 1298, 1299, 1300, 1301, 1302, 1303, 1304, 1305, 1306, 1307,\n",
       "       1308, 1309, 1310, 1311, 1312, 1313, 1314, 1315, 1316, 1317, 1318,\n",
       "       1319, 1320, 1321, 1322, 1323, 1324, 1325, 1326, 1327, 1328, 1329,\n",
       "       1330, 1331, 1332, 1333, 1334, 1335, 1336, 1337, 1338, 1339, 1340,\n",
       "       1341, 1342, 1343, 1344, 1345, 1346, 1347, 1348, 1349, 1350, 1351,\n",
       "       1352, 1353, 1354, 1355, 1356, 1357, 1358, 1359, 1360, 1361, 1362,\n",
       "       1363, 1364, 1365, 1366, 1367, 1368, 1369, 1370, 1371, 1372, 1373,\n",
       "       1374, 1375, 1376, 1377, 1378, 1379, 1380, 1381, 1382, 1383, 1384,\n",
       "       1385, 1386, 1387, 1388, 1389, 1390, 1391, 1392, 1393, 1394, 1395,\n",
       "       1396, 1397, 1398, 1399, 1400, 1401, 1402, 1403, 1404, 1405, 1406,\n",
       "       1407, 1408, 1409, 1410, 1411, 1412, 1413, 1414, 1415, 1416, 1417,\n",
       "       1418, 1419, 1420, 1421, 1422, 1423, 1424, 1425, 1426, 1427, 1428,\n",
       "       1429, 1430, 1431, 1432, 1433, 1434, 1435, 1436, 1437, 1438, 1439,\n",
       "       1440, 1441, 1442, 1443, 1444, 1445, 1446, 1447, 1448, 1449, 1450,\n",
       "       1451, 1452, 1453, 1454, 1455, 1456, 1457, 1458, 1459, 1460, 1461,\n",
       "       1462, 1463, 1464, 1465, 1466, 1467, 1468, 1469, 1470, 1471, 1472,\n",
       "       1473, 1474, 1475, 1476, 1477, 1478, 1479, 1480, 1481, 1482, 1483,\n",
       "       1484, 1485, 1486, 1487, 1488, 1489, 1490, 1491, 1492, 1493, 1494,\n",
       "       1495, 1496, 1497, 1498, 1499, 1500, 1501, 1502, 1503, 1504, 1505,\n",
       "       1506, 1507, 1508, 1509, 1510, 1511, 1512, 1513, 1514, 1515, 1516,\n",
       "       1517, 1518, 1519, 1520, 1521, 1522, 1523, 1524, 1525, 1526, 1527,\n",
       "       1528, 1529, 1530, 1531, 1532, 1533, 1534, 1535, 1536, 1537, 1538,\n",
       "       1539, 1540, 1541, 1542, 1543, 1544, 1545, 1546, 1547, 1548, 1549,\n",
       "       1550, 1551, 1552, 1553, 1554, 1555, 1556, 1557, 1558, 1559, 1560,\n",
       "       1561, 1562, 1563, 1564, 1565, 1566, 1567, 1568, 1569, 1570, 1571,\n",
       "       1572, 1573, 1574, 1575, 1576, 1577, 1578, 1579, 1580, 1581, 1582,\n",
       "       1583, 1584, 1585, 1586, 1587, 1588, 1589, 1590, 1591, 1592, 1593,\n",
       "       1594, 1595, 1596, 1597, 1598, 1599, 1600, 1601, 1602, 1603, 1604,\n",
       "       1605, 1606, 1607, 1608, 1609, 1610, 1611, 1612, 1613, 1614, 1615,\n",
       "       1616, 1617, 1618, 1619, 1620, 1621, 1622, 1623, 1624, 1625, 1626,\n",
       "       1627, 1628, 1629, 1630, 1631, 1632, 1633, 1634, 1635, 1636, 1637,\n",
       "       1638, 1639, 1640, 1641, 1642, 1643, 1644, 1645, 1646, 1647, 1648,\n",
       "       1649, 1650, 1651, 1652, 1653, 1654, 1655, 1656, 1657, 1658, 1659,\n",
       "       1660, 1661, 1662, 1663, 1664, 1665, 1666, 1667, 1668, 1669, 1670,\n",
       "       1671, 1672, 1673, 1674, 1675, 1676, 1677, 1678, 1679, 1680, 1681,\n",
       "       1682, 1683, 1684, 1685, 1686, 1687, 1688, 1689, 1690, 1691, 1692,\n",
       "       1693, 1694, 1695, 1696, 1697, 1698, 1699, 1700, 1701, 1702, 1703,\n",
       "       1704, 1705, 1706, 1707, 1708, 1709, 1710, 1711, 1712, 1713, 1714,\n",
       "       1715, 1716, 1717, 1718, 1719, 1720, 1721, 1722, 1723, 1724, 1725,\n",
       "       1726, 1727, 1728, 1729, 1730, 1731, 1732, 1733, 1734, 1735, 1736,\n",
       "       1737, 1738, 1739, 1740, 1741, 1742, 1743, 1744, 1745, 1746, 1747,\n",
       "       1748, 1749, 1750, 1751, 1752, 1753, 1754, 1755, 1756, 1757, 1758,\n",
       "       1759, 1760, 1761, 1762, 1763, 1764, 1765, 1766, 1767, 1768, 1769,\n",
       "       1770, 1771, 1772, 1773, 1774, 1775, 1776, 1777, 1778, 1779, 1780,\n",
       "       1781, 1782, 1783, 1784, 1785, 1786, 1787, 1788, 1789, 1790, 1791,\n",
       "       1792, 1793, 1794, 1795, 1796, 1797, 1798, 1799, 1800, 1801, 1802,\n",
       "       1803, 1804, 1805, 1806, 1807, 1808, 1809, 1810, 1811, 1812, 1813,\n",
       "       1814, 1815, 1816, 1817, 1818, 1819, 1820, 1821, 1822, 1823, 1824,\n",
       "       1825, 1826, 1827, 1828, 1829, 1830, 1831, 1832, 1833, 1834, 1835,\n",
       "       1836, 1837, 1838, 1839, 1840, 1841, 1842, 1843, 1844, 1845, 1846,\n",
       "       1847, 1848, 1849, 1850, 1851, 1852, 1853, 1854, 1855, 1856, 1857,\n",
       "       1858, 1859, 1860, 1861, 1862, 1863, 1864, 1865, 1866, 1867, 1868,\n",
       "       1869, 1870, 1871, 1872, 1873, 1874, 1875, 1876, 1877, 1878, 1879,\n",
       "       1880, 1881, 1882, 1883, 1884, 1885, 1886, 1887, 1888, 1889, 1890,\n",
       "       1891, 1892, 1893, 1894, 1895, 1896, 1897, 1898, 1899, 1900, 1901,\n",
       "       1902, 1903, 1904, 1905, 1906, 1907, 1908, 1909, 1910, 1911, 1912,\n",
       "       1913, 1914, 1915, 1916, 1917, 1918, 1919, 1920, 1921, 1922, 1923,\n",
       "       1924, 1925, 1926, 1927, 1928, 1929, 1930, 1931, 1932, 1933, 1934,\n",
       "       1935, 1936, 1937, 1938, 1939, 1940, 1941, 1942, 1943, 1944, 1945,\n",
       "       1946, 1947, 1948, 1949, 1950, 1951, 1952, 1953, 1954, 1955, 1956,\n",
       "       1957, 1958, 1959, 1960, 1961, 1962, 1963, 1964, 1965, 1966, 1967,\n",
       "       1968, 1969, 1970, 1971, 1972, 1973, 1974, 1975, 1976, 1977, 1978,\n",
       "       1979, 1980, 1981, 1982, 1983, 1984, 1985, 1986, 1987, 1988, 1989,\n",
       "       1990, 1991, 1992, 1993, 1994, 1995, 1996, 1997, 1998, 1999])"
      ]
     },
     "execution_count": 28,
     "metadata": {},
     "output_type": "execute_result"
    }
   ],
   "source": [
    "np.arange(1000,2000)"
   ]
  },
  {
   "cell_type": "code",
   "execution_count": 29,
   "id": "7d6de809",
   "metadata": {},
   "outputs": [
    {
     "data": {
      "text/plain": [
       "array([1000, 1005, 1010, 1015, 1020, 1025, 1030, 1035, 1040, 1045, 1050,\n",
       "       1055, 1060, 1065, 1070, 1075, 1080, 1085, 1090, 1095, 1100, 1105,\n",
       "       1110, 1115, 1120, 1125, 1130, 1135, 1140, 1145, 1150, 1155, 1160,\n",
       "       1165, 1170, 1175, 1180, 1185, 1190, 1195, 1200, 1205, 1210, 1215,\n",
       "       1220, 1225, 1230, 1235, 1240, 1245, 1250, 1255, 1260, 1265, 1270,\n",
       "       1275, 1280, 1285, 1290, 1295, 1300, 1305, 1310, 1315, 1320, 1325,\n",
       "       1330, 1335, 1340, 1345, 1350, 1355, 1360, 1365, 1370, 1375, 1380,\n",
       "       1385, 1390, 1395, 1400, 1405, 1410, 1415, 1420, 1425, 1430, 1435,\n",
       "       1440, 1445, 1450, 1455, 1460, 1465, 1470, 1475, 1480, 1485, 1490,\n",
       "       1495, 1500, 1505, 1510, 1515, 1520, 1525, 1530, 1535, 1540, 1545,\n",
       "       1550, 1555, 1560, 1565, 1570, 1575, 1580, 1585, 1590, 1595, 1600,\n",
       "       1605, 1610, 1615, 1620, 1625, 1630, 1635, 1640, 1645, 1650, 1655,\n",
       "       1660, 1665, 1670, 1675, 1680, 1685, 1690, 1695, 1700, 1705, 1710,\n",
       "       1715, 1720, 1725, 1730, 1735, 1740, 1745, 1750, 1755, 1760, 1765,\n",
       "       1770, 1775, 1780, 1785, 1790, 1795, 1800, 1805, 1810, 1815, 1820,\n",
       "       1825, 1830, 1835, 1840, 1845, 1850, 1855, 1860, 1865, 1870, 1875,\n",
       "       1880, 1885, 1890, 1895, 1900, 1905, 1910, 1915, 1920, 1925, 1930,\n",
       "       1935, 1940, 1945, 1950, 1955, 1960, 1965, 1970, 1975, 1980, 1985,\n",
       "       1990, 1995])"
      ]
     },
     "execution_count": 29,
     "metadata": {},
     "output_type": "execute_result"
    }
   ],
   "source": [
    "np.arange(1000,2000,5)"
   ]
  },
  {
   "cell_type": "code",
   "execution_count": 30,
   "id": "42172502",
   "metadata": {},
   "outputs": [],
   "source": [
    "arr=np.arange(1000,2000,5)"
   ]
  },
  {
   "cell_type": "code",
   "execution_count": 31,
   "id": "ef9cadf8",
   "metadata": {},
   "outputs": [
    {
     "data": {
      "text/plain": [
       "array([ True, False,  True,  True, False,  True,  True, False,  True,\n",
       "        True, False,  True,  True, False,  True,  True, False,  True,\n",
       "        True, False,  True,  True, False,  True,  True, False,  True,\n",
       "        True, False,  True,  True, False,  True,  True, False,  True,\n",
       "        True, False,  True,  True, False,  True,  True, False,  True,\n",
       "        True, False,  True,  True, False,  True,  True, False,  True,\n",
       "        True, False,  True,  True, False,  True,  True, False,  True,\n",
       "        True, False,  True,  True, False,  True,  True, False,  True,\n",
       "        True, False,  True,  True, False,  True,  True, False,  True,\n",
       "        True, False,  True,  True, False,  True,  True, False,  True,\n",
       "        True, False,  True,  True, False,  True,  True, False,  True,\n",
       "        True, False,  True,  True, False,  True,  True, False,  True,\n",
       "        True, False,  True,  True, False,  True,  True, False,  True,\n",
       "        True, False,  True,  True, False,  True,  True, False,  True,\n",
       "        True, False,  True,  True, False,  True,  True, False,  True,\n",
       "        True, False,  True,  True, False,  True,  True, False,  True,\n",
       "        True, False,  True,  True, False,  True,  True, False,  True,\n",
       "        True, False,  True,  True, False,  True,  True, False,  True,\n",
       "        True, False,  True,  True, False,  True,  True, False,  True,\n",
       "        True, False,  True,  True, False,  True,  True, False,  True,\n",
       "        True, False,  True,  True, False,  True,  True, False,  True,\n",
       "        True, False,  True,  True, False,  True,  True, False,  True,\n",
       "        True, False])"
      ]
     },
     "execution_count": 31,
     "metadata": {},
     "output_type": "execute_result"
    }
   ],
   "source": [
    "arr%15 !=0"
   ]
  },
  {
   "cell_type": "code",
   "execution_count": 32,
   "id": "93ba538e",
   "metadata": {},
   "outputs": [
    {
     "data": {
      "text/plain": [
       "array([1000, 1010, 1015, 1025, 1030, 1040, 1045, 1055, 1060, 1070, 1075,\n",
       "       1085, 1090, 1100, 1105, 1115, 1120, 1130, 1135, 1145, 1150, 1160,\n",
       "       1165, 1175, 1180, 1190, 1195, 1205, 1210, 1220, 1225, 1235, 1240,\n",
       "       1250, 1255, 1265, 1270, 1280, 1285, 1295, 1300, 1310, 1315, 1325,\n",
       "       1330, 1340, 1345, 1355, 1360, 1370, 1375, 1385, 1390, 1400, 1405,\n",
       "       1415, 1420, 1430, 1435, 1445, 1450, 1460, 1465, 1475, 1480, 1490,\n",
       "       1495, 1505, 1510, 1520, 1525, 1535, 1540, 1550, 1555, 1565, 1570,\n",
       "       1580, 1585, 1595, 1600, 1610, 1615, 1625, 1630, 1640, 1645, 1655,\n",
       "       1660, 1670, 1675, 1685, 1690, 1700, 1705, 1715, 1720, 1730, 1735,\n",
       "       1745, 1750, 1760, 1765, 1775, 1780, 1790, 1795, 1805, 1810, 1820,\n",
       "       1825, 1835, 1840, 1850, 1855, 1865, 1870, 1880, 1885, 1895, 1900,\n",
       "       1910, 1915, 1925, 1930, 1940, 1945, 1955, 1960, 1970, 1975, 1985,\n",
       "       1990])"
      ]
     },
     "execution_count": 32,
     "metadata": {},
     "output_type": "execute_result"
    }
   ],
   "source": [
    "arr[arr%15 !=0]"
   ]
  },
  {
   "cell_type": "code",
   "execution_count": null,
   "id": "4a457ebd",
   "metadata": {},
   "outputs": [],
   "source": [
    "#write a function which calculate standard deviation of 1-D array\n",
    "# and compare result with inbuilt function\n",
    "#SD = (SUM((X-Xmean)^2)/n)^1/2"
   ]
  },
  {
   "cell_type": "code",
   "execution_count": 33,
   "id": "210c2e9f",
   "metadata": {},
   "outputs": [
    {
     "data": {
      "text/plain": [
       "array([ -1.81274696,  13.16888315,  16.64319695,  11.97043103,\n",
       "         1.75762643, -15.96164482,  -6.02323834, -16.25547391,\n",
       "         5.42705628,   8.07471837,  -1.5624054 ,   1.13839684,\n",
       "         7.07283467, -15.76392025, -13.62222592,   5.66701013,\n",
       "        -4.03797252,   2.83171867,   7.16139805,   3.22093029,\n",
       "       -15.09782123,  11.18668141,   0.45664635,  -6.6151322 ,\n",
       "        -4.99653056,   8.61137065,  13.49464274,   0.97244659,\n",
       "       -14.38240337,  -4.93514155,  -0.99668273,  16.51555963,\n",
       "        13.23395377,  -6.29534509,  -8.36139725,   9.61321452,\n",
       "        11.4588967 ,  13.77345131,   5.4714139 ,  20.22240365,\n",
       "         2.91993047,  -8.12461522,   2.44832607,   8.45045105,\n",
       "         6.93877542,  -2.62351394,  10.39849205,  -9.60285082,\n",
       "        -1.46937484,   3.47532092, -16.05645596,   7.79634032,\n",
       "         5.61284772,  10.73023159,  15.07858666,  -7.41898531,\n",
       "         2.73999751,   9.83481234,   9.49271178,   4.73502399,\n",
       "        11.94727218,   1.80918408, -20.12771335,  17.23413764,\n",
       "        -2.14346639,  -4.88965921,   8.51522478,   2.86880938,\n",
       "        -6.44686744,   8.72673946,  -1.93113137,  -5.22168716,\n",
       "        -7.78685074,   0.66575451,   0.91936101,   4.34584653,\n",
       "         6.13375071,  -9.01430218,  20.36311387,  14.00047639,\n",
       "         0.75302109,   3.80291641,  15.9732084 ,   1.88970755,\n",
       "        14.91323733,  23.61528155,  -7.78757303,   6.9655067 ,\n",
       "        -3.10532303, -10.89460569,  -0.29592226,   2.474373  ,\n",
       "        -2.06813869,  -7.76985907,  -2.89039316,   2.41951519,\n",
       "         3.42793019,  11.9438097 ,  -5.2390027 , -11.95133028])"
      ]
     },
     "execution_count": 33,
     "metadata": {},
     "output_type": "execute_result"
    }
   ],
   "source": [
    "a=np.random.normal(0,10,100)\n",
    "a"
   ]
  },
  {
   "cell_type": "code",
   "execution_count": 34,
   "id": "45878e9c",
   "metadata": {},
   "outputs": [
    {
     "data": {
      "text/plain": [
       "9.36204525307376"
      ]
     },
     "execution_count": 34,
     "metadata": {},
     "output_type": "execute_result"
    }
   ],
   "source": [
    "np.std(a)"
   ]
  },
  {
   "cell_type": "code",
   "execution_count": 36,
   "id": "ca1b48b3",
   "metadata": {},
   "outputs": [],
   "source": [
    "def cal_std(arr):\n",
    "    mean = np.mean(a)\n",
    "    diff=a-mean\n",
    "    square=np.sum(np.power(diff,2))/len(a)\n",
    "    root=np.power(square,0.5)\n",
    "    return root"
   ]
  },
  {
   "cell_type": "code",
   "execution_count": 37,
   "id": "4ddc0430",
   "metadata": {},
   "outputs": [
    {
     "data": {
      "text/plain": [
       "9.36204525307376"
      ]
     },
     "execution_count": 37,
     "metadata": {},
     "output_type": "execute_result"
    }
   ],
   "source": [
    "cal_std(a)"
   ]
  },
  {
   "cell_type": "code",
   "execution_count": 38,
   "id": "1d642c75",
   "metadata": {},
   "outputs": [
    {
     "data": {
      "text/plain": [
       "(0,)"
      ]
     },
     "execution_count": 38,
     "metadata": {},
     "output_type": "execute_result"
    }
   ],
   "source": [
    "import numpy as np\n",
    "arr = np.array([])\n",
    "arr.shape"
   ]
  },
  {
   "cell_type": "code",
   "execution_count": 44,
   "id": "4d9fa0cd",
   "metadata": {},
   "outputs": [
    {
     "name": "stdout",
     "output_type": "stream",
     "text": [
      "[[200 190]\n",
      " [180 170]\n",
      " [160 150]\n",
      " [140 130]\n",
      " [120 110]]\n"
     ]
    }
   ],
   "source": [
    "arr = np.arange(200, 100, -10)\n",
    "arr = arr.reshape(5,2)\n",
    "print(arr)\n",
    "#10 verdiği için shape error verdi hata vermesin diye - verdim azalan\n",
    "#şeklinde göstersin diye."
   ]
  },
  {
   "cell_type": "code",
   "execution_count": 45,
   "id": "bfcee422",
   "metadata": {},
   "outputs": [
    {
     "name": "stdout",
     "output_type": "stream",
     "text": [
      "[9 8 7 6 5]\n"
     ]
    }
   ],
   "source": [
    "x = np.arange(5, 10)\n",
    "x = x[::-1]\n",
    "print(x)"
   ]
  },
  {
   "cell_type": "code",
   "execution_count": 50,
   "id": "fa1e6a12",
   "metadata": {},
   "outputs": [
    {
     "data": {
      "text/plain": [
       "dtype('float64')"
      ]
     },
     "execution_count": 50,
     "metadata": {},
     "output_type": "execute_result"
    }
   ],
   "source": [
    "np.array([2,2]).dtype  #int\n",
    "np.array([2,'2']).dtype #<U11\n",
    "np.array([2,2.0]).dtype float"
   ]
  },
  {
   "cell_type": "code",
   "execution_count": 51,
   "id": "dac4b885",
   "metadata": {},
   "outputs": [
    {
     "data": {
      "text/plain": [
       "array([ 1,  2,  2,  3,  4,  5,  7,  7,  8,  9, 10])"
      ]
     },
     "execution_count": 51,
     "metadata": {},
     "output_type": "execute_result"
    }
   ],
   "source": [
    "arr = np.array([1,2,2,3,4,5,7,7,8,9,10])\n",
    "arr"
   ]
  },
  {
   "cell_type": "code",
   "execution_count": 52,
   "id": "be8270db",
   "metadata": {},
   "outputs": [
    {
     "data": {
      "text/plain": [
       "array([3, 4, 5, 7])"
      ]
     },
     "execution_count": 52,
     "metadata": {},
     "output_type": "execute_result"
    }
   ],
   "source": [
    "arr[3:7]"
   ]
  },
  {
   "cell_type": "code",
   "execution_count": 53,
   "id": "d9866790",
   "metadata": {},
   "outputs": [
    {
     "data": {
      "text/plain": [
       "array([[ 0,  1,  2,  3,  4],\n",
       "       [ 5,  6,  7,  8,  9],\n",
       "       [10, 11, 12, 13, 14],\n",
       "       [15, 16, 17, 18, 19]])"
      ]
     },
     "execution_count": 53,
     "metadata": {},
     "output_type": "execute_result"
    }
   ],
   "source": [
    "x = np.arange(20).reshape(4,5)\n",
    "x"
   ]
  },
  {
   "cell_type": "code",
   "execution_count": 54,
   "id": "f61cf980",
   "metadata": {},
   "outputs": [],
   "source": [
    "#One hot encoding with Numpy"
   ]
  },
  {
   "cell_type": "code",
   "execution_count": 55,
   "id": "87b56fd0",
   "metadata": {},
   "outputs": [
    {
     "data": {
      "text/plain": [
       "array([4, 5, 0, 3, 3, 3, 1, 3, 5, 2])"
      ]
     },
     "execution_count": 55,
     "metadata": {},
     "output_type": "execute_result"
    }
   ],
   "source": [
    "A=np.array([4,5,0,3,3,3,1,3,5,2])\n",
    "A"
   ]
  },
  {
   "cell_type": "code",
   "execution_count": 57,
   "id": "c03a559b",
   "metadata": {},
   "outputs": [
    {
     "data": {
      "text/plain": [
       "array([[0., 0., 0., 0., 0., 0.],\n",
       "       [0., 0., 0., 0., 0., 0.],\n",
       "       [0., 0., 0., 0., 0., 0.],\n",
       "       [0., 0., 0., 0., 0., 0.],\n",
       "       [0., 0., 0., 0., 0., 0.],\n",
       "       [0., 0., 0., 0., 0., 0.],\n",
       "       [0., 0., 0., 0., 0., 0.],\n",
       "       [0., 0., 0., 0., 0., 0.],\n",
       "       [0., 0., 0., 0., 0., 0.],\n",
       "       [0., 0., 0., 0., 0., 0.]])"
      ]
     },
     "execution_count": 57,
     "metadata": {},
     "output_type": "execute_result"
    }
   ],
   "source": [
    "arr=np.zeros((10,6))\n",
    "arr"
   ]
  },
  {
   "cell_type": "code",
   "execution_count": 58,
   "id": "590d6fce",
   "metadata": {},
   "outputs": [
    {
     "name": "stdout",
     "output_type": "stream",
     "text": [
      "0 4\n",
      "1 5\n",
      "2 0\n",
      "3 3\n",
      "4 3\n",
      "5 3\n",
      "6 1\n",
      "7 3\n",
      "8 5\n",
      "9 2\n"
     ]
    }
   ],
   "source": [
    "for i,ele in enumerate(A):\n",
    "    print(i,ele)"
   ]
  },
  {
   "cell_type": "code",
   "execution_count": 59,
   "id": "944de644",
   "metadata": {},
   "outputs": [],
   "source": [
    "for i,ele in enumerate(A):\n",
    "    #print(i,ele)\n",
    "    arr[i,ele]=1"
   ]
  },
  {
   "cell_type": "code",
   "execution_count": 60,
   "id": "4b6f5b4a",
   "metadata": {},
   "outputs": [
    {
     "data": {
      "text/plain": [
       "array([[0., 0., 0., 0., 1., 0.],\n",
       "       [0., 0., 0., 0., 0., 1.],\n",
       "       [1., 0., 0., 0., 0., 0.],\n",
       "       [0., 0., 0., 1., 0., 0.],\n",
       "       [0., 0., 0., 1., 0., 0.],\n",
       "       [0., 0., 0., 1., 0., 0.],\n",
       "       [0., 1., 0., 0., 0., 0.],\n",
       "       [0., 0., 0., 1., 0., 0.],\n",
       "       [0., 0., 0., 0., 0., 1.],\n",
       "       [0., 0., 1., 0., 0., 0.]])"
      ]
     },
     "execution_count": 60,
     "metadata": {},
     "output_type": "execute_result"
    }
   ],
   "source": [
    "arr"
   ]
  },
  {
   "cell_type": "code",
   "execution_count": 61,
   "id": "5afef194",
   "metadata": {},
   "outputs": [],
   "source": [
    "#Image to Numpy Array"
   ]
  },
  {
   "cell_type": "code",
   "execution_count": 62,
   "id": "bd6a0cde",
   "metadata": {},
   "outputs": [],
   "source": [
    "#numpy.png indirdik"
   ]
  },
  {
   "cell_type": "code",
   "execution_count": 63,
   "id": "6226dc30",
   "metadata": {},
   "outputs": [],
   "source": [
    "from matplotlib.image import imread"
   ]
  },
  {
   "cell_type": "code",
   "execution_count": 64,
   "id": "3e9a939c",
   "metadata": {},
   "outputs": [],
   "source": [
    "nmpy = imread('numpy.png')"
   ]
  },
  {
   "cell_type": "code",
   "execution_count": 65,
   "id": "f7baa84f",
   "metadata": {},
   "outputs": [
    {
     "data": {
      "text/plain": [
       "numpy.ndarray"
      ]
     },
     "execution_count": 65,
     "metadata": {},
     "output_type": "execute_result"
    }
   ],
   "source": [
    "type(nmpy)"
   ]
  },
  {
   "cell_type": "code",
   "execution_count": 67,
   "id": "016cacb0",
   "metadata": {},
   "outputs": [
    {
     "data": {
      "text/plain": [
       "150750"
      ]
     },
     "execution_count": 67,
     "metadata": {},
     "output_type": "execute_result"
    }
   ],
   "source": [
    "nmpy.size"
   ]
  },
  {
   "cell_type": "code",
   "execution_count": 68,
   "id": "bb26577e",
   "metadata": {},
   "outputs": [
    {
     "data": {
      "text/plain": [
       "3"
      ]
     },
     "execution_count": 68,
     "metadata": {},
     "output_type": "execute_result"
    }
   ],
   "source": [
    "nmpy.ndim"
   ]
  },
  {
   "cell_type": "code",
   "execution_count": 69,
   "id": "54087e53",
   "metadata": {},
   "outputs": [
    {
     "data": {
      "text/plain": [
       "(150, 335, 3)"
      ]
     },
     "execution_count": 69,
     "metadata": {},
     "output_type": "execute_result"
    }
   ],
   "source": [
    "nmpy.shape"
   ]
  },
  {
   "cell_type": "code",
   "execution_count": 70,
   "id": "3162178d",
   "metadata": {},
   "outputs": [
    {
     "data": {
      "text/plain": [
       "array([[1., 1., 1., ..., 1., 1., 1.],\n",
       "       [1., 1., 1., ..., 1., 1., 1.],\n",
       "       [1., 1., 1., ..., 1., 1., 1.],\n",
       "       ...,\n",
       "       [1., 1., 1., ..., 1., 1., 1.],\n",
       "       [1., 1., 1., ..., 1., 1., 1.],\n",
       "       [1., 1., 1., ..., 1., 1., 1.]], dtype=float32)"
      ]
     },
     "execution_count": 70,
     "metadata": {},
     "output_type": "execute_result"
    }
   ],
   "source": [
    "nmpy[:,:,0]"
   ]
  },
  {
   "cell_type": "code",
   "execution_count": 73,
   "id": "87258620",
   "metadata": {},
   "outputs": [
    {
     "data": {
      "text/plain": [
       "array([0.24313726, 0.6509804 , 0.8       ], dtype=float32)"
      ]
     },
     "execution_count": 73,
     "metadata": {},
     "output_type": "execute_result"
    }
   ],
   "source": [
    "#nmpy[200,200,:]  #egitimdeki ornek \n",
    "nmpy[100,100,:]"
   ]
  },
  {
   "cell_type": "code",
   "execution_count": 74,
   "id": "1ea9c694",
   "metadata": {},
   "outputs": [],
   "source": [
    "#Image Procession operation with Numpy Array"
   ]
  },
  {
   "cell_type": "code",
   "execution_count": 75,
   "id": "83bb7a01",
   "metadata": {},
   "outputs": [],
   "source": [
    "#cat.jpg indirdik"
   ]
  },
  {
   "cell_type": "code",
   "execution_count": 97,
   "id": "e60acb47",
   "metadata": {},
   "outputs": [],
   "source": [
    "catImg = imread('cat.jpg')"
   ]
  },
  {
   "cell_type": "code",
   "execution_count": 98,
   "id": "4c29e04c",
   "metadata": {},
   "outputs": [
    {
     "data": {
      "text/plain": [
       "(183, 275, 3)"
      ]
     },
     "execution_count": 98,
     "metadata": {},
     "output_type": "execute_result"
    }
   ],
   "source": [
    "catImg.shape"
   ]
  },
  {
   "cell_type": "code",
   "execution_count": 78,
   "id": "e2b402a6",
   "metadata": {},
   "outputs": [],
   "source": [
    "#Convert it into GrayScale Image  \n",
    "#Gray = (R + G + B) / 3\n",
    "#Gray = ((0.3*R)+(0.59*G)+(0.11*B))"
   ]
  },
  {
   "cell_type": "code",
   "execution_count": 99,
   "id": "5de82e48",
   "metadata": {},
   "outputs": [
    {
     "data": {
      "text/plain": [
       "array([255, 255, 255], dtype=uint8)"
      ]
     },
     "execution_count": 99,
     "metadata": {},
     "output_type": "execute_result"
    }
   ],
   "source": [
    "catImg[0][0]"
   ]
  },
  {
   "cell_type": "code",
   "execution_count": 100,
   "id": "8a836b6a",
   "metadata": {},
   "outputs": [
    {
     "data": {
      "text/plain": [
       "255.0"
      ]
     },
     "execution_count": 100,
     "metadata": {},
     "output_type": "execute_result"
    }
   ],
   "source": [
    "(255+255+255)/3"
   ]
  },
  {
   "cell_type": "code",
   "execution_count": 101,
   "id": "08d2b78e",
   "metadata": {},
   "outputs": [
    {
     "data": {
      "text/plain": [
       "array([255, 255, 255], dtype=uint8)"
      ]
     },
     "execution_count": 101,
     "metadata": {},
     "output_type": "execute_result"
    }
   ],
   "source": [
    "catImg[0][1]"
   ]
  },
  {
   "cell_type": "code",
   "execution_count": 102,
   "id": "0c426e6b",
   "metadata": {},
   "outputs": [
    {
     "data": {
      "text/plain": [
       "252.45000000000002"
      ]
     },
     "execution_count": 102,
     "metadata": {},
     "output_type": "execute_result"
    }
   ],
   "source": [
    "np.dot(catImg[0][0],[0.33,0.33,0.33])"
   ]
  },
  {
   "cell_type": "code",
   "execution_count": 103,
   "id": "9429377b",
   "metadata": {},
   "outputs": [
    {
     "data": {
      "text/plain": [
       "255.00000000000003"
      ]
     },
     "execution_count": 103,
     "metadata": {},
     "output_type": "execute_result"
    }
   ],
   "source": [
    "np.dot(catImg[0][1],[0.34,0.33,0.33])"
   ]
  },
  {
   "cell_type": "code",
   "execution_count": 104,
   "id": "4b336efd",
   "metadata": {},
   "outputs": [
    {
     "data": {
      "text/plain": [
       "array([[255., 255., 255., ..., 255., 255., 255.],\n",
       "       [255., 255., 255., ..., 255., 255., 255.],\n",
       "       [255., 255., 255., ..., 255., 255., 255.],\n",
       "       ...,\n",
       "       [255., 255., 255., ..., 255., 255., 255.],\n",
       "       [255., 255., 255., ..., 255., 255., 255.],\n",
       "       [255., 255., 255., ..., 255., 255., 255.]])"
      ]
     },
     "execution_count": 104,
     "metadata": {},
     "output_type": "execute_result"
    }
   ],
   "source": [
    "np.dot(catImg[:,:,:3],[0.34,0.33,0.33])"
   ]
  },
  {
   "cell_type": "code",
   "execution_count": 105,
   "id": "c26249a4",
   "metadata": {
    "scrolled": true
   },
   "outputs": [
    {
     "data": {
      "text/plain": [
       "array([[[255, 255, 255],\n",
       "        [255, 255, 255],\n",
       "        [255, 255, 255],\n",
       "        ...,\n",
       "        [255, 255, 255],\n",
       "        [255, 255, 255],\n",
       "        [255, 255, 255]],\n",
       "\n",
       "       [[255, 255, 255],\n",
       "        [255, 255, 255],\n",
       "        [255, 255, 255],\n",
       "        ...,\n",
       "        [255, 255, 255],\n",
       "        [255, 255, 255],\n",
       "        [255, 255, 255]],\n",
       "\n",
       "       [[255, 255, 255],\n",
       "        [255, 255, 255],\n",
       "        [255, 255, 255],\n",
       "        ...,\n",
       "        [255, 255, 255],\n",
       "        [255, 255, 255],\n",
       "        [255, 255, 255]],\n",
       "\n",
       "       ...,\n",
       "\n",
       "       [[255, 255, 255],\n",
       "        [255, 255, 255],\n",
       "        [255, 255, 255],\n",
       "        ...,\n",
       "        [255, 255, 255],\n",
       "        [255, 255, 255],\n",
       "        [255, 255, 255]],\n",
       "\n",
       "       [[255, 255, 255],\n",
       "        [255, 255, 255],\n",
       "        [255, 255, 255],\n",
       "        ...,\n",
       "        [255, 255, 255],\n",
       "        [255, 255, 255],\n",
       "        [255, 255, 255]],\n",
       "\n",
       "       [[255, 255, 255],\n",
       "        [255, 255, 255],\n",
       "        [255, 255, 255],\n",
       "        ...,\n",
       "        [255, 255, 255],\n",
       "        [255, 255, 255],\n",
       "        [255, 255, 255]]], dtype=uint8)"
      ]
     },
     "execution_count": 105,
     "metadata": {},
     "output_type": "execute_result"
    }
   ],
   "source": [
    "catImg[:,:,:3]"
   ]
  },
  {
   "cell_type": "code",
   "execution_count": 106,
   "id": "7bfbca4b",
   "metadata": {},
   "outputs": [],
   "source": [
    "grayscale_image = np.dot(catImg[:,:,:3],[0.3,0.59,0.11])"
   ]
  },
  {
   "cell_type": "code",
   "execution_count": 107,
   "id": "f4e97ab8",
   "metadata": {},
   "outputs": [
    {
     "data": {
      "text/plain": [
       "(183, 275)"
      ]
     },
     "execution_count": 107,
     "metadata": {},
     "output_type": "execute_result"
    }
   ],
   "source": [
    "grayscale_image.shape"
   ]
  },
  {
   "cell_type": "code",
   "execution_count": 108,
   "id": "053f7bc3",
   "metadata": {},
   "outputs": [],
   "source": [
    "import matplotlib.pyplot as plt"
   ]
  },
  {
   "cell_type": "code",
   "execution_count": 109,
   "id": "738838bb",
   "metadata": {},
   "outputs": [],
   "source": [
    "plt.imsave(\"gray.jpg\",grayscale_image,cmap=plt.get_cmap(\"gray\"))"
   ]
  },
  {
   "cell_type": "code",
   "execution_count": 112,
   "id": "d01fee95",
   "metadata": {},
   "outputs": [],
   "source": [
    "invert_image = 255 - grayscale_image\n",
    "plt.imsave(\"invert.jpg\",invert_image,cmap=plt.get_cmap(\"gray\"))"
   ]
  },
  {
   "cell_type": "code",
   "execution_count": 113,
   "id": "d7858b58",
   "metadata": {},
   "outputs": [
    {
     "data": {
      "text/plain": [
       "255.0"
      ]
     },
     "execution_count": 113,
     "metadata": {},
     "output_type": "execute_result"
    }
   ],
   "source": [
    "np.max(grayscale_image)\n"
   ]
  },
  {
   "cell_type": "code",
   "execution_count": 114,
   "id": "f6a8d35a",
   "metadata": {},
   "outputs": [
    {
     "data": {
      "text/plain": [
       "0.0"
      ]
     },
     "execution_count": 114,
     "metadata": {},
     "output_type": "execute_result"
    }
   ],
   "source": [
    "np.min(grayscale_image)"
   ]
  },
  {
   "cell_type": "code",
   "execution_count": 115,
   "id": "1d1a403e",
   "metadata": {},
   "outputs": [
    {
     "data": {
      "text/plain": [
       "127.5"
      ]
     },
     "execution_count": 115,
     "metadata": {},
     "output_type": "execute_result"
    }
   ],
   "source": [
    "255/2"
   ]
  },
  {
   "cell_type": "code",
   "execution_count": 116,
   "id": "f764fca8",
   "metadata": {},
   "outputs": [
    {
     "data": {
      "text/plain": [
       "array([[ True,  True,  True, ...,  True,  True,  True],\n",
       "       [ True,  True,  True, ...,  True,  True,  True],\n",
       "       [ True,  True,  True, ...,  True,  True,  True],\n",
       "       ...,\n",
       "       [ True,  True,  True, ...,  True,  True,  True],\n",
       "       [ True,  True,  True, ...,  True,  True,  True],\n",
       "       [ True,  True,  True, ...,  True,  True,  True]])"
      ]
     },
     "execution_count": 116,
     "metadata": {},
     "output_type": "execute_result"
    }
   ],
   "source": [
    "binary = grayscale_image>127\n",
    "binary"
   ]
  },
  {
   "cell_type": "code",
   "execution_count": 117,
   "id": "77a6cc79",
   "metadata": {},
   "outputs": [],
   "source": [
    "plt.imsave(\"binary.jpg\",binary,cmap=plt.get_cmap(\"gray\"))"
   ]
  },
  {
   "cell_type": "code",
   "execution_count": 118,
   "id": "a590d870",
   "metadata": {},
   "outputs": [],
   "source": [
    "#Apply Image Filter with Numpy"
   ]
  },
  {
   "cell_type": "code",
   "execution_count": 119,
   "id": "f1b66ab0",
   "metadata": {},
   "outputs": [
    {
     "data": {
      "text/plain": [
       "array([[255., 255., 255., ..., 255., 255., 255.],\n",
       "       [255., 255., 255., ..., 255., 255., 255.],\n",
       "       [255., 255., 255., ..., 255., 255., 255.],\n",
       "       ...,\n",
       "       [255., 255., 255., ..., 255., 255., 255.],\n",
       "       [255., 255., 255., ..., 255., 255., 255.],\n",
       "       [255., 255., 255., ..., 255., 255., 255.]])"
      ]
     },
     "execution_count": 119,
     "metadata": {},
     "output_type": "execute_result"
    }
   ],
   "source": [
    "grayscale_image"
   ]
  },
  {
   "cell_type": "code",
   "execution_count": 121,
   "id": "64361e78",
   "metadata": {},
   "outputs": [],
   "source": [
    "avg_filter = 0.11 * np.ones([3,3])"
   ]
  },
  {
   "cell_type": "code",
   "execution_count": 120,
   "id": "1c4f620d",
   "metadata": {},
   "outputs": [
    {
     "data": {
      "text/plain": [
       "0.1111111111111111"
      ]
     },
     "execution_count": 120,
     "metadata": {},
     "output_type": "execute_result"
    }
   ],
   "source": [
    "1/9"
   ]
  },
  {
   "cell_type": "code",
   "execution_count": 122,
   "id": "434e41ac",
   "metadata": {},
   "outputs": [
    {
     "data": {
      "text/plain": [
       "array([[0.11, 0.11, 0.11],\n",
       "       [0.11, 0.11, 0.11],\n",
       "       [0.11, 0.11, 0.11]])"
      ]
     },
     "execution_count": 122,
     "metadata": {},
     "output_type": "execute_result"
    }
   ],
   "source": [
    "avg_filter"
   ]
  },
  {
   "cell_type": "code",
   "execution_count": 123,
   "id": "bea70c5e",
   "metadata": {},
   "outputs": [
    {
     "data": {
      "text/plain": [
       "(183, 275)"
      ]
     },
     "execution_count": 123,
     "metadata": {},
     "output_type": "execute_result"
    }
   ],
   "source": [
    "grayscale_image.shape"
   ]
  },
  {
   "cell_type": "code",
   "execution_count": 124,
   "id": "ee2cc55d",
   "metadata": {},
   "outputs": [],
   "source": [
    "filtered_image = np.empty((grayscale_image.shape[0]-2,grayscale_image.shape[1]-2))"
   ]
  },
  {
   "cell_type": "code",
   "execution_count": 125,
   "id": "871dabfb",
   "metadata": {},
   "outputs": [
    {
     "data": {
      "text/plain": [
       "array([[9.65235809e-312, 9.65401410e-312, 6.80595190e-319, ...,\n",
       "        1.43899131e+228, 5.98131461e-154, 1.23044166e+224],\n",
       "       [3.36427753e+069, 5.41631112e-111, 1.38759998e+219, ...,\n",
       "        6.23543081e+228, 2.14728848e+243, 8.03410089e-095],\n",
       "       [2.26709970e+161, 1.81596891e-152, 9.78188318e+199, ...,\n",
       "        5.98737266e+247, 2.79811523e+262, 6.01346953e-154],\n",
       "       ...,\n",
       "       [5.41108927e-312, 1.25986740e-321, 0.00000000e+000, ...,\n",
       "        0.00000000e+000, 0.00000000e+000, 5.41108927e-312],\n",
       "       [1.25986740e-321, 0.00000000e+000, 0.00000000e+000, ...,\n",
       "        5.41108927e-312, 5.41108927e-312, 0.00000000e+000],\n",
       "       [0.00000000e+000, 5.41108927e-312, 5.41108927e-312, ...,\n",
       "        5.41108927e-312, 5.41108927e-312, 5.41108927e-312]])"
      ]
     },
     "execution_count": 125,
     "metadata": {},
     "output_type": "execute_result"
    }
   ],
   "source": [
    "filtered_image"
   ]
  },
  {
   "cell_type": "code",
   "execution_count": 126,
   "id": "ff8f93b2",
   "metadata": {},
   "outputs": [
    {
     "data": {
      "text/plain": [
       "(181, 273)"
      ]
     },
     "execution_count": 126,
     "metadata": {},
     "output_type": "execute_result"
    }
   ],
   "source": [
    "filtered_image.shape"
   ]
  },
  {
   "cell_type": "code",
   "execution_count": 128,
   "id": "3673e841",
   "metadata": {},
   "outputs": [],
   "source": [
    "for i in range(filtered_image.shape[0]):\n",
    "    for j in range(filtered_image.shape[1]):\n",
    "        subpart = grayscale_image[i : i+3, j: j+3]\n",
    "        pixel = np.sum(np.multiply(subpart,avg_filter))\n",
    "        filtered_image[i,j]=pixel"
   ]
  },
  {
   "cell_type": "code",
   "execution_count": 129,
   "id": "e87ee755",
   "metadata": {},
   "outputs": [
    {
     "data": {
      "text/plain": [
       "array([[252.45, 252.45, 252.45, ..., 252.45, 252.45, 252.45],\n",
       "       [252.45, 252.45, 252.45, ..., 252.45, 252.45, 252.45],\n",
       "       [252.45, 252.45, 252.45, ..., 252.45, 252.45, 252.45],\n",
       "       ...,\n",
       "       [252.45, 252.45, 252.45, ..., 252.45, 252.45, 252.45],\n",
       "       [252.45, 252.45, 252.45, ..., 252.45, 252.45, 252.45],\n",
       "       [252.45, 252.45, 252.45, ..., 252.45, 252.45, 252.45]])"
      ]
     },
     "execution_count": 129,
     "metadata": {},
     "output_type": "execute_result"
    }
   ],
   "source": [
    "filtered_image"
   ]
  },
  {
   "cell_type": "code",
   "execution_count": 130,
   "id": "119c4d2d",
   "metadata": {},
   "outputs": [],
   "source": [
    "plt.imsave(\"avg_filter.jpg\",filtered_image,cmap=plt.get_cmap(\"gray\"))"
   ]
  },
  {
   "cell_type": "code",
   "execution_count": 131,
   "id": "83441fa7",
   "metadata": {},
   "outputs": [],
   "source": [
    "def apply_filter(srcImage,kernal):\n",
    "\n",
    "    filtered_image = np.empty((srcImage.shape[0]-2,srcImage.shape[1]-2))\n",
    "    \n",
    "    for i in range(filtered_image.shape[0]):\n",
    "        for j in range(filtered_image.shape[1]):\n",
    "            subpart = srcImage[i : i+3, j: j+3]\n",
    "            pixel = np.sum(np.multiply(subpart,kernal))\n",
    "            filtered_image[i,j]=pixel\n",
    "    return filtered_image"
   ]
  },
  {
   "cell_type": "code",
   "execution_count": 132,
   "id": "de71094a",
   "metadata": {},
   "outputs": [],
   "source": [
    "edge_filter = np.array([[-1,0,1],[-2,0,2],[-1,0,1]])"
   ]
  },
  {
   "cell_type": "code",
   "execution_count": 134,
   "id": "7a89a68c",
   "metadata": {},
   "outputs": [],
   "source": [
    "edge_image =apply_filter(grayscale_image,edge_filter)"
   ]
  },
  {
   "cell_type": "code",
   "execution_count": 135,
   "id": "e712a399",
   "metadata": {},
   "outputs": [],
   "source": [
    "plt.imsave(\"edge_filter.jpg\",edge_image,cmap=plt.get_cmap(\"gray\"))"
   ]
  },
  {
   "cell_type": "code",
   "execution_count": null,
   "id": "f210d8a0",
   "metadata": {},
   "outputs": [],
   "source": [
    "#sertifikası var"
   ]
  },
  {
   "cell_type": "code",
   "execution_count": null,
   "id": "c10b6c57",
   "metadata": {},
   "outputs": [],
   "source": [
    "#bitti"
   ]
  },
  {
   "cell_type": "code",
   "execution_count": null,
   "id": "23b3496d",
   "metadata": {},
   "outputs": [],
   "source": []
  },
  {
   "cell_type": "code",
   "execution_count": null,
   "id": "ab8901ec",
   "metadata": {},
   "outputs": [],
   "source": []
  },
  {
   "cell_type": "code",
   "execution_count": null,
   "id": "c002d45b",
   "metadata": {},
   "outputs": [],
   "source": []
  },
  {
   "cell_type": "code",
   "execution_count": null,
   "id": "de802f68",
   "metadata": {},
   "outputs": [],
   "source": []
  }
 ],
 "metadata": {
  "kernelspec": {
   "display_name": "Python 3",
   "language": "python",
   "name": "python3"
  },
  "language_info": {
   "codemirror_mode": {
    "name": "ipython",
    "version": 3
   },
   "file_extension": ".py",
   "mimetype": "text/x-python",
   "name": "python",
   "nbconvert_exporter": "python",
   "pygments_lexer": "ipython3",
   "version": "3.7.7"
  }
 },
 "nbformat": 4,
 "nbformat_minor": 5
}
