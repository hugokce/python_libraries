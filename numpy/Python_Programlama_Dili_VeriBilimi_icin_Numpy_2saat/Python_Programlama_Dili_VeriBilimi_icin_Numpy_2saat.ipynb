{
 "cells": [
  {
   "cell_type": "code",
   "execution_count": 1,
   "id": "f2f823e0",
   "metadata": {},
   "outputs": [
    {
     "data": {
      "text/plain": [
       "'\\nhttps://www.udemy.com/course/python-programlama-dili-sifirdan-veri-bilimi-icin-giris/learn/lecture/24646138?start=0#overview\\n2 saat\\n\\nonline python için\\n\\nhttps://www.python.org/shell/\\nhttps://trinket.io/python3\\nhttps://www.onlinegdb.com/online_python_interpreter\\n\\nconda list\\n\\npip install tensorflow\\n\\nFindall ile email filtreleme:\\n\\n'"
      ]
     },
     "execution_count": 1,
     "metadata": {},
     "output_type": "execute_result"
    }
   ],
   "source": [
    "\"\"\"\n",
    "https://www.udemy.com/course/python-programlama-dili-sifirdan-veri-bilimi-icin-giris/learn/lecture/24646138?start=0#overview\n",
    "2 saat\n",
    "\n",
    "online python için\n",
    "\n",
    "https://www.python.org/shell/\n",
    "https://trinket.io/python3\n",
    "https://www.onlinegdb.com/online_python_interpreter\n",
    "\n",
    "conda list\n",
    "\n",
    "pip install tensorflow\n",
    "\n",
    "Findall ile email filtreleme:\n",
    "\n",
    "\"\"\""
   ]
  },
  {
   "cell_type": "code",
   "execution_count": 3,
   "id": "c539c71a",
   "metadata": {},
   "outputs": [],
   "source": [
    "#Metinden Mail Adresini çıkarma\n",
    "#re regular expression"
   ]
  },
  {
   "cell_type": "code",
   "execution_count": 1,
   "id": "812116ea",
   "metadata": {},
   "outputs": [],
   "source": [
    "import re"
   ]
  },
  {
   "cell_type": "code",
   "execution_count": 2,
   "id": "238df0f8",
   "metadata": {},
   "outputs": [
    {
     "name": "stdout",
     "output_type": "stream",
     "text": [
      " Python is a great object-oriented, interpreted, and interactive programming language. It is often compared (favorably of course :-) ) to Lisp, Tcl, Perl, Ruby, C#, Visual Basic, Visual Fox Pro, Scheme or Java... and it's much more fun. jamuir@yahoo.com Welcome to the Python Wiki, a user-editable compendium of knowledge based around the Python programming language. Some pages are protected against casual editing - see WikiEditingGuidelines for more information about editing content.\n",
      "\n",
      "Python is a great object-oriented, interpreted, and interactive programming language. It is often compared (favorably of course :-) ) to Lisp, Tcl, Perl, Ruby, C#, Visual Basic, Visual Fox Pro, Scheme or Java... and it's much more fun.\n",
      "\n",
      "Python combines remarkable power with very clear syntax. It has modules, classes, exceptions, very high level dynamic data types, and dynamic typing. There are interfaces to many system calls and libraries, as well as to various windowing systems. New built-in modules are easily written in C or C++ (or other languages, depending on the chosen implementation). Python is also usable as an extension language for applications written in other languages that need easy-to-use scripting or automation interfaces.\n",
      "\n",
      " miyop@msn.com Python is a great object-oriented, interpreted, and interactive programming language. It is often compared (favorably of course :-) ) to Lisp, Tcl, Perl, Ruby, C#, Visual Basic, Visual Fox Pro, Scheme or Java... and it's much more fun. absrtfffffaa@comcast.net Python is a great object-oriented, interpreted, and interactive programming language. It is often compared (favorably of course :-) ) to Lisp, Tcl, Perl, Ruby, C#, Visual Basic, Visual Fox Pro, Scheme or Java... and it's much more fun. jshirley@mac.com seebs@optonline.net cgcra@mac.com fukuchi@icloud.com Python is a great object-oriented, interpreted, and interactive programming language. It is often compared (favorably of course :-) ) to Lisp, Tcl, Perl, Ruby, C#, Visual Basic, Visual Fox Pro, Scheme or Java... and it's much more fun. arathi@mac.com godeke@yahoo.com drhyde@comcast.net Python is a great object-oriented, interpreted, and interactive programming language. It is often compared (favorably of course :-) ) to Lisp, Tcl, Perl, Ruby, C#, Visual Basic, Visual Fox Pro, Scheme or Java... and it's much more fun. denism@hotmail.com Python is a great object-oriented, interpreted, and interactive programming language. It is often compared (favorably of course :-) ) to Lisp, Tcl, Perl, Ruby, C#, Visual Basic, Visual Fox Pro, Scheme or Java... and it's much more fun. phish@optonline.net\n"
     ]
    }
   ],
   "source": [
    "data = open('data.txt')\n",
    "oku=data.read()\n",
    "print(oku)"
   ]
  },
  {
   "cell_type": "code",
   "execution_count": 3,
   "id": "cadb81e1",
   "metadata": {},
   "outputs": [
    {
     "name": "stdout",
     "output_type": "stream",
     "text": [
      "['jamuir@yahoo.com', 'miyop@msn.com', 'absrtfffffaa@comcast.net', 'jshirley@mac.com', 'seebs@optonline.net', 'cgcra@mac.com', 'fukuchi@icloud.com', 'arathi@mac.com', 'godeke@yahoo.com', 'drhyde@comcast.net', 'denism@hotmail.com', 'phish@optonline.net']\n"
     ]
    }
   ],
   "source": [
    "mail_listesi=re.findall(\"\\S+@\\S+\",oku)\n",
    "print(mail_listesi)\n",
    "#S ler spaceten geliyor. 2 tane boşluk olacak merkezinde \n",
    "#de @ olacak başında sonunda birer boşluk\n",
    "#tüm metin oku değişkeni içinde yer alıyor"
   ]
  },
  {
   "cell_type": "code",
   "execution_count": 4,
   "id": "9121964e",
   "metadata": {},
   "outputs": [],
   "source": [
    "#bir metinde yapılan harcamaları filtrelemek"
   ]
  },
  {
   "cell_type": "code",
   "execution_count": 5,
   "id": "fda00cf5",
   "metadata": {},
   "outputs": [
    {
     "name": "stdout",
     "output_type": "stream",
     "text": [
      "['$20000', '$25000']\n"
     ]
    }
   ],
   "source": [
    "import re\n",
    "x=\"2020 yılında ortalama fiyat $20000 olurken 2021'de $25000'a yükselir\"\n",
    "y=re.findall(\"\\$[0-9.]+\",x)\n",
    "print(y)\n",
    "# $ ile başlayan 0dan9a sayıları al"
   ]
  },
  {
   "cell_type": "code",
   "execution_count": 6,
   "id": "85c11d5f",
   "metadata": {},
   "outputs": [],
   "source": [
    "#re kutuphanesi ve findall"
   ]
  },
  {
   "cell_type": "code",
   "execution_count": 7,
   "id": "853250e5",
   "metadata": {},
   "outputs": [],
   "source": [
    "import re"
   ]
  },
  {
   "cell_type": "code",
   "execution_count": 10,
   "id": "f2e052eb",
   "metadata": {},
   "outputs": [],
   "source": [
    "x=\"Bu resimde 5 farklı rengin 39 farklı tonu 12 defa tekrarlanmıştır.\""
   ]
  },
  {
   "cell_type": "code",
   "execution_count": 11,
   "id": "c40b96b4",
   "metadata": {},
   "outputs": [
    {
     "name": "stdout",
     "output_type": "stream",
     "text": [
      "['5', '39', '12']\n"
     ]
    }
   ],
   "source": [
    "y=re.findall(\"[0-9]+\",x)  #x ifadesini kullan diyoruz. bu x ifadesinde 0 ile\n",
    "#9 arasındaki rakamları çek diyoruz\n",
    "print(y)"
   ]
  },
  {
   "cell_type": "code",
   "execution_count": 12,
   "id": "d8887f78",
   "metadata": {},
   "outputs": [
    {
     "data": {
      "text/plain": [
       "'5'"
      ]
     },
     "execution_count": 12,
     "metadata": {},
     "output_type": "execute_result"
    }
   ],
   "source": [
    "y[0]"
   ]
  },
  {
   "cell_type": "code",
   "execution_count": null,
   "id": "9495e906",
   "metadata": {},
   "outputs": [],
   "source": [
    "\"\"\"\n",
    "numpay vektör ve matrisleri kullanır\n",
    "yatay ve düşey eksende kopyalayabilir ve birleştirebilir\n",
    "[1,2,3]  liste\n",
    "([1,2,3])  array(Dizi)  liste dışına () ile Dizi elde ediyoruz\n",
    "([1,2,3],[4,5,6])  tuple (demet ya da dizin)\n",
    "{'bir':1,'iki':2}  dict(Sözlük)\n",
    "\"\"\""
   ]
  },
  {
   "cell_type": "code",
   "execution_count": 14,
   "id": "5891df10",
   "metadata": {},
   "outputs": [
    {
     "data": {
      "text/plain": [
       "array([1, 2, 3])"
      ]
     },
     "execution_count": 14,
     "metadata": {},
     "output_type": "execute_result"
    }
   ],
   "source": [
    "import numpy as np\n",
    "liste=[1,2,3]\n",
    "dizi=np.array(liste)\n",
    "dizi"
   ]
  },
  {
   "cell_type": "code",
   "execution_count": 16,
   "id": "c2034763",
   "metadata": {},
   "outputs": [
    {
     "data": {
      "text/plain": [
       "array([ 1,  2,  3,  4,  5,  6,  7,  8,  9, 10, 11, 12, 13, 14, 15, 16])"
      ]
     },
     "execution_count": 16,
     "metadata": {},
     "output_type": "execute_result"
    }
   ],
   "source": [
    "liste2=[1,2,3,4,5,6,7,8,9,10,11,12,13,14,15,16]\n",
    "a=np.array(liste2)\n",
    "a"
   ]
  },
  {
   "cell_type": "code",
   "execution_count": 17,
   "id": "35ef15c2",
   "metadata": {},
   "outputs": [
    {
     "data": {
      "text/plain": [
       "array([[ 1,  2,  3,  4],\n",
       "       [ 5,  6,  7,  8],\n",
       "       [ 9, 10, 11, 12],\n",
       "       [13, 14, 15, 16]])"
      ]
     },
     "execution_count": 17,
     "metadata": {},
     "output_type": "execute_result"
    }
   ],
   "source": [
    "a=a.reshape(4,4)\n",
    "a"
   ]
  },
  {
   "cell_type": "code",
   "execution_count": 18,
   "id": "d8892a2e",
   "metadata": {},
   "outputs": [
    {
     "data": {
      "text/html": [
       "<div>\n",
       "<style scoped>\n",
       "    .dataframe tbody tr th:only-of-type {\n",
       "        vertical-align: middle;\n",
       "    }\n",
       "\n",
       "    .dataframe tbody tr th {\n",
       "        vertical-align: top;\n",
       "    }\n",
       "\n",
       "    .dataframe thead th {\n",
       "        text-align: right;\n",
       "    }\n",
       "</style>\n",
       "<table border=\"1\" class=\"dataframe\">\n",
       "  <thead>\n",
       "    <tr style=\"text-align: right;\">\n",
       "      <th></th>\n",
       "      <th>0</th>\n",
       "      <th>1</th>\n",
       "      <th>2</th>\n",
       "      <th>3</th>\n",
       "    </tr>\n",
       "  </thead>\n",
       "  <tbody>\n",
       "    <tr>\n",
       "      <th>0</th>\n",
       "      <td>1</td>\n",
       "      <td>2</td>\n",
       "      <td>3</td>\n",
       "      <td>4</td>\n",
       "    </tr>\n",
       "    <tr>\n",
       "      <th>1</th>\n",
       "      <td>5</td>\n",
       "      <td>6</td>\n",
       "      <td>7</td>\n",
       "      <td>8</td>\n",
       "    </tr>\n",
       "    <tr>\n",
       "      <th>2</th>\n",
       "      <td>9</td>\n",
       "      <td>10</td>\n",
       "      <td>11</td>\n",
       "      <td>12</td>\n",
       "    </tr>\n",
       "    <tr>\n",
       "      <th>3</th>\n",
       "      <td>13</td>\n",
       "      <td>14</td>\n",
       "      <td>15</td>\n",
       "      <td>16</td>\n",
       "    </tr>\n",
       "  </tbody>\n",
       "</table>\n",
       "</div>"
      ],
      "text/plain": [
       "    0   1   2   3\n",
       "0   1   2   3   4\n",
       "1   5   6   7   8\n",
       "2   9  10  11  12\n",
       "3  13  14  15  16"
      ]
     },
     "execution_count": 18,
     "metadata": {},
     "output_type": "execute_result"
    }
   ],
   "source": [
    "import pandas as pd\n",
    "tablo=pd.DataFrame(a)\n",
    "tablo"
   ]
  },
  {
   "cell_type": "code",
   "execution_count": 19,
   "id": "674bf940",
   "metadata": {},
   "outputs": [
    {
     "data": {
      "text/html": [
       "<div>\n",
       "<style scoped>\n",
       "    .dataframe tbody tr th:only-of-type {\n",
       "        vertical-align: middle;\n",
       "    }\n",
       "\n",
       "    .dataframe tbody tr th {\n",
       "        vertical-align: top;\n",
       "    }\n",
       "\n",
       "    .dataframe thead th {\n",
       "        text-align: right;\n",
       "    }\n",
       "</style>\n",
       "<table border=\"1\" class=\"dataframe\">\n",
       "  <thead>\n",
       "    <tr style=\"text-align: right;\">\n",
       "      <th></th>\n",
       "      <th>X</th>\n",
       "      <th>Y</th>\n",
       "      <th>Z</th>\n",
       "      <th>T</th>\n",
       "    </tr>\n",
       "  </thead>\n",
       "  <tbody>\n",
       "    <tr>\n",
       "      <th>A</th>\n",
       "      <td>1</td>\n",
       "      <td>2</td>\n",
       "      <td>3</td>\n",
       "      <td>4</td>\n",
       "    </tr>\n",
       "    <tr>\n",
       "      <th>B</th>\n",
       "      <td>5</td>\n",
       "      <td>6</td>\n",
       "      <td>7</td>\n",
       "      <td>8</td>\n",
       "    </tr>\n",
       "    <tr>\n",
       "      <th>C</th>\n",
       "      <td>9</td>\n",
       "      <td>10</td>\n",
       "      <td>11</td>\n",
       "      <td>12</td>\n",
       "    </tr>\n",
       "    <tr>\n",
       "      <th>D</th>\n",
       "      <td>13</td>\n",
       "      <td>14</td>\n",
       "      <td>15</td>\n",
       "      <td>16</td>\n",
       "    </tr>\n",
       "  </tbody>\n",
       "</table>\n",
       "</div>"
      ],
      "text/plain": [
       "    X   Y   Z   T\n",
       "A   1   2   3   4\n",
       "B   5   6   7   8\n",
       "C   9  10  11  12\n",
       "D  13  14  15  16"
      ]
     },
     "execution_count": 19,
     "metadata": {},
     "output_type": "execute_result"
    }
   ],
   "source": [
    "tablo=pd.DataFrame(a,index=[\"A\",\"B\",\"C\",\"D\"],columns=[\"X\",\"Y\",\"Z\",\"T\"])\n",
    "tablo"
   ]
  },
  {
   "cell_type": "code",
   "execution_count": 20,
   "id": "b0ba3088",
   "metadata": {},
   "outputs": [],
   "source": [
    "tablo.to_excel(\"Tablo1.xlsx\")"
   ]
  },
  {
   "cell_type": "code",
   "execution_count": 21,
   "id": "3e645ed0",
   "metadata": {},
   "outputs": [
    {
     "data": {
      "text/plain": [
       "list"
      ]
     },
     "execution_count": 21,
     "metadata": {},
     "output_type": "execute_result"
    }
   ],
   "source": [
    "liste=[]\n",
    "type(liste)"
   ]
  },
  {
   "cell_type": "code",
   "execution_count": 22,
   "id": "ae7d587d",
   "metadata": {},
   "outputs": [
    {
     "data": {
      "text/plain": [
       "[1, 2, 3]"
      ]
     },
     "execution_count": 22,
     "metadata": {},
     "output_type": "execute_result"
    }
   ],
   "source": [
    "liste=[1,2,3]\n",
    "liste"
   ]
  },
  {
   "cell_type": "code",
   "execution_count": 23,
   "id": "409b36b6",
   "metadata": {},
   "outputs": [
    {
     "ename": "TypeError",
     "evalue": "'int' object is not iterable",
     "output_type": "error",
     "traceback": [
      "\u001b[1;31m---------------------------------------------------------------------------\u001b[0m",
      "\u001b[1;31mTypeError\u001b[0m                                 Traceback (most recent call last)",
      "\u001b[1;32m<ipython-input-23-3eb3c050104e>\u001b[0m in \u001b[0;36m<module>\u001b[1;34m\u001b[0m\n\u001b[1;32m----> 1\u001b[1;33m \u001b[0mliste\u001b[0m\u001b[1;33m+=\u001b[0m\u001b[1;36m1\u001b[0m\u001b[1;33m\u001b[0m\u001b[1;33m\u001b[0m\u001b[0m\n\u001b[0m\u001b[0;32m      2\u001b[0m \u001b[0mliste\u001b[0m\u001b[1;33m\u001b[0m\u001b[1;33m\u001b[0m\u001b[0m\n",
      "\u001b[1;31mTypeError\u001b[0m: 'int' object is not iterable"
     ]
    }
   ],
   "source": [
    "liste+=1\n",
    "liste #iterable olmadığı hatasını fırlatır"
   ]
  },
  {
   "cell_type": "code",
   "execution_count": 24,
   "id": "d1b7c3b7",
   "metadata": {},
   "outputs": [],
   "source": [
    "import numpy as np"
   ]
  },
  {
   "cell_type": "code",
   "execution_count": 25,
   "id": "8a693422",
   "metadata": {},
   "outputs": [
    {
     "data": {
      "text/plain": [
       "array([2, 3, 4])"
      ]
     },
     "execution_count": 25,
     "metadata": {},
     "output_type": "execute_result"
    }
   ],
   "source": [
    "liste2=np.array(liste)\n",
    "liste2+=1\n",
    "liste2"
   ]
  },
  {
   "cell_type": "code",
   "execution_count": 26,
   "id": "7a03b71e",
   "metadata": {},
   "outputs": [
    {
     "data": {
      "text/plain": [
       "array([10, 15, 20])"
      ]
     },
     "execution_count": 26,
     "metadata": {},
     "output_type": "execute_result"
    }
   ],
   "source": [
    "liste2*5"
   ]
  },
  {
   "cell_type": "code",
   "execution_count": 27,
   "id": "10fb5478",
   "metadata": {},
   "outputs": [
    {
     "data": {
      "text/plain": [
       "list"
      ]
     },
     "execution_count": 27,
     "metadata": {},
     "output_type": "execute_result"
    }
   ],
   "source": [
    "liste=[1,2,3,\"4\"]\n",
    "type(liste)"
   ]
  },
  {
   "cell_type": "code",
   "execution_count": 29,
   "id": "7e377213",
   "metadata": {},
   "outputs": [
    {
     "data": {
      "text/plain": [
       "array(['1', '2', '3', '4'], dtype='<U11')"
      ]
     },
     "execution_count": 29,
     "metadata": {},
     "output_type": "execute_result"
    }
   ],
   "source": [
    "dizi=np.array(liste)\n",
    "dizi"
   ]
  },
  {
   "cell_type": "code",
   "execution_count": 30,
   "id": "48fee9b1",
   "metadata": {},
   "outputs": [
    {
     "data": {
      "text/plain": [
       "numpy.ndarray"
      ]
     },
     "execution_count": 30,
     "metadata": {},
     "output_type": "execute_result"
    }
   ],
   "source": [
    "type(dizi)"
   ]
  },
  {
   "cell_type": "code",
   "execution_count": 31,
   "id": "43f05f71",
   "metadata": {},
   "outputs": [
    {
     "data": {
      "text/plain": [
       "(4,)"
      ]
     },
     "execution_count": 31,
     "metadata": {},
     "output_type": "execute_result"
    }
   ],
   "source": [
    "dizi.shape"
   ]
  },
  {
   "cell_type": "code",
   "execution_count": 32,
   "id": "95d674e0",
   "metadata": {},
   "outputs": [
    {
     "data": {
      "text/plain": [
       "1"
      ]
     },
     "execution_count": 32,
     "metadata": {},
     "output_type": "execute_result"
    }
   ],
   "source": [
    "dizi.ndim"
   ]
  },
  {
   "cell_type": "code",
   "execution_count": 33,
   "id": "5944a814",
   "metadata": {},
   "outputs": [
    {
     "data": {
      "text/plain": [
       "[1, 2]"
      ]
     },
     "execution_count": 33,
     "metadata": {},
     "output_type": "execute_result"
    }
   ],
   "source": [
    "liste2=([1,2])\n",
    "liste2"
   ]
  },
  {
   "cell_type": "code",
   "execution_count": 34,
   "id": "e1dcfa9c",
   "metadata": {},
   "outputs": [
    {
     "data": {
      "text/plain": [
       "list"
      ]
     },
     "execution_count": 34,
     "metadata": {},
     "output_type": "execute_result"
    }
   ],
   "source": [
    "type(liste2)"
   ]
  },
  {
   "cell_type": "code",
   "execution_count": 35,
   "id": "54dd3895",
   "metadata": {},
   "outputs": [
    {
     "data": {
      "text/plain": [
       "([1, 2], [3, 4])"
      ]
     },
     "execution_count": 35,
     "metadata": {},
     "output_type": "execute_result"
    }
   ],
   "source": [
    "liste2=([1,2],[3,4])\n",
    "liste2  #bize verilen cevap () içinde ise tupledır"
   ]
  },
  {
   "cell_type": "code",
   "execution_count": 36,
   "id": "225ea077",
   "metadata": {},
   "outputs": [
    {
     "data": {
      "text/plain": [
       "tuple"
      ]
     },
     "execution_count": 36,
     "metadata": {},
     "output_type": "execute_result"
    }
   ],
   "source": [
    "type(liste2)"
   ]
  },
  {
   "cell_type": "code",
   "execution_count": 37,
   "id": "8e67c840",
   "metadata": {},
   "outputs": [
    {
     "data": {
      "text/plain": [
       "array([[1, 2],\n",
       "       [3, 4]])"
      ]
     },
     "execution_count": 37,
     "metadata": {},
     "output_type": "execute_result"
    }
   ],
   "source": [
    "dizi2=np.array(liste2)\n",
    "dizi2  #2*2 matris formatında cevap veriyor"
   ]
  },
  {
   "cell_type": "code",
   "execution_count": 38,
   "id": "d59e1494",
   "metadata": {},
   "outputs": [
    {
     "data": {
      "text/plain": [
       "2"
      ]
     },
     "execution_count": 38,
     "metadata": {},
     "output_type": "execute_result"
    }
   ],
   "source": [
    "dizi2.ndim  #2 boyutlu"
   ]
  },
  {
   "cell_type": "code",
   "execution_count": 39,
   "id": "fe6eb21f",
   "metadata": {},
   "outputs": [
    {
     "data": {
      "text/plain": [
       "(2, 2)"
      ]
     },
     "execution_count": 39,
     "metadata": {},
     "output_type": "execute_result"
    }
   ],
   "source": [
    "dizi2.shape"
   ]
  },
  {
   "cell_type": "code",
   "execution_count": 40,
   "id": "c4b871a7",
   "metadata": {},
   "outputs": [
    {
     "data": {
      "text/plain": [
       "array([[5, 5],\n",
       "       [5, 5]])"
      ]
     },
     "execution_count": 40,
     "metadata": {},
     "output_type": "execute_result"
    }
   ],
   "source": [
    "dizi2.fill(5)\n",
    "dizi2  #tüm elemanları 5 ile doldurduk"
   ]
  },
  {
   "cell_type": "code",
   "execution_count": 41,
   "id": "c1686a4d",
   "metadata": {},
   "outputs": [],
   "source": [
    "#Matrisler"
   ]
  },
  {
   "cell_type": "code",
   "execution_count": 42,
   "id": "0b9d56e7",
   "metadata": {},
   "outputs": [
    {
     "data": {
      "text/plain": [
       "array([[1, 2, 3],\n",
       "       [4, 5, 6],\n",
       "       [7, 8, 9]])"
      ]
     },
     "execution_count": 42,
     "metadata": {},
     "output_type": "execute_result"
    }
   ],
   "source": [
    "matris=np.array([[1,2,3],[4,5,6],[7,8,9]])\n",
    "matris"
   ]
  },
  {
   "cell_type": "code",
   "execution_count": 44,
   "id": "fcbab481",
   "metadata": {},
   "outputs": [
    {
     "data": {
      "text/plain": [
       "9"
      ]
     },
     "execution_count": 44,
     "metadata": {},
     "output_type": "execute_result"
    }
   ],
   "source": [
    "matris.size  #9 elemanı var"
   ]
  },
  {
   "cell_type": "code",
   "execution_count": 45,
   "id": "23b6d80d",
   "metadata": {},
   "outputs": [
    {
     "data": {
      "text/plain": [
       "2"
      ]
     },
     "execution_count": 45,
     "metadata": {},
     "output_type": "execute_result"
    }
   ],
   "source": [
    "matris.ndim"
   ]
  },
  {
   "cell_type": "code",
   "execution_count": 46,
   "id": "cd78f395",
   "metadata": {},
   "outputs": [
    {
     "data": {
      "text/plain": [
       "(3, 3)"
      ]
     },
     "execution_count": 46,
     "metadata": {},
     "output_type": "execute_result"
    }
   ],
   "source": [
    "matris.shape"
   ]
  },
  {
   "cell_type": "code",
   "execution_count": 47,
   "id": "8c1d6b8d",
   "metadata": {},
   "outputs": [
    {
     "data": {
      "text/plain": [
       "1"
      ]
     },
     "execution_count": 47,
     "metadata": {},
     "output_type": "execute_result"
    }
   ],
   "source": [
    "matris[0,0]"
   ]
  },
  {
   "cell_type": "code",
   "execution_count": 48,
   "id": "994a191f",
   "metadata": {},
   "outputs": [
    {
     "data": {
      "text/plain": [
       "9"
      ]
     },
     "execution_count": 48,
     "metadata": {},
     "output_type": "execute_result"
    }
   ],
   "source": [
    "matris[2,2]"
   ]
  },
  {
   "cell_type": "code",
   "execution_count": 51,
   "id": "309344d8",
   "metadata": {},
   "outputs": [
    {
     "data": {
      "text/plain": [
       "6"
      ]
     },
     "execution_count": 51,
     "metadata": {},
     "output_type": "execute_result"
    }
   ],
   "source": [
    "matris[1,2]"
   ]
  },
  {
   "cell_type": "code",
   "execution_count": 52,
   "id": "978a3117",
   "metadata": {},
   "outputs": [
    {
     "data": {
      "text/plain": [
       "array([[1, 2, 3],\n",
       "       [4, 5, 6],\n",
       "       [7, 8, 9]])"
      ]
     },
     "execution_count": 52,
     "metadata": {},
     "output_type": "execute_result"
    }
   ],
   "source": [
    "matris[:]"
   ]
  },
  {
   "cell_type": "code",
   "execution_count": 53,
   "id": "a59edb8c",
   "metadata": {},
   "outputs": [
    {
     "data": {
      "text/plain": [
       "array([[4, 5, 6],\n",
       "       [7, 8, 9]])"
      ]
     },
     "execution_count": 53,
     "metadata": {},
     "output_type": "execute_result"
    }
   ],
   "source": [
    "matris[1:]"
   ]
  },
  {
   "cell_type": "code",
   "execution_count": 55,
   "id": "c7b4cd36",
   "metadata": {},
   "outputs": [
    {
     "data": {
      "text/plain": [
       "array([[2, 3],\n",
       "       [5, 6],\n",
       "       [8, 9]])"
      ]
     },
     "execution_count": 55,
     "metadata": {},
     "output_type": "execute_result"
    }
   ],
   "source": [
    "matris[:,1:]"
   ]
  },
  {
   "cell_type": "code",
   "execution_count": 56,
   "id": "c28af292",
   "metadata": {},
   "outputs": [
    {
     "data": {
      "text/plain": [
       "array([[2],\n",
       "       [5],\n",
       "       [8]])"
      ]
     },
     "execution_count": 56,
     "metadata": {},
     "output_type": "execute_result"
    }
   ],
   "source": [
    "matris[:,1:2]"
   ]
  },
  {
   "cell_type": "code",
   "execution_count": 58,
   "id": "2466006b",
   "metadata": {},
   "outputs": [
    {
     "data": {
      "text/plain": [
       "8"
      ]
     },
     "execution_count": 58,
     "metadata": {},
     "output_type": "execute_result"
    }
   ],
   "source": [
    "matris[2,1]"
   ]
  },
  {
   "cell_type": "code",
   "execution_count": 59,
   "id": "bc0fa656",
   "metadata": {},
   "outputs": [
    {
     "data": {
      "text/plain": [
       "35"
      ]
     },
     "execution_count": 59,
     "metadata": {},
     "output_type": "execute_result"
    }
   ],
   "source": [
    "matris[2,1]=35\n",
    "matris[2,1]"
   ]
  },
  {
   "cell_type": "code",
   "execution_count": 60,
   "id": "32ea81e2",
   "metadata": {},
   "outputs": [],
   "source": [
    "#Copy , arange , random"
   ]
  },
  {
   "cell_type": "code",
   "execution_count": 61,
   "id": "9ff18dec",
   "metadata": {},
   "outputs": [
    {
     "data": {
      "text/plain": [
       "array([[1],\n",
       "       [4],\n",
       "       [7]])"
      ]
     },
     "execution_count": 61,
     "metadata": {},
     "output_type": "execute_result"
    }
   ],
   "source": [
    "matris=np.array([[1],[4],[7]])\n",
    "matris"
   ]
  },
  {
   "cell_type": "code",
   "execution_count": 62,
   "id": "0459061f",
   "metadata": {},
   "outputs": [
    {
     "data": {
      "text/plain": [
       "(3, 1)"
      ]
     },
     "execution_count": 62,
     "metadata": {},
     "output_type": "execute_result"
    }
   ],
   "source": [
    "matris.shape"
   ]
  },
  {
   "cell_type": "code",
   "execution_count": 63,
   "id": "7c3586f8",
   "metadata": {},
   "outputs": [
    {
     "data": {
      "text/plain": [
       "array([[1, 2, 3],\n",
       "       [4, 5, 6],\n",
       "       [7, 8, 9]])"
      ]
     },
     "execution_count": 63,
     "metadata": {},
     "output_type": "execute_result"
    }
   ],
   "source": [
    "matris=np.array([[1,2,3],[4,5,6],[7,8,9]])\n",
    "matris"
   ]
  },
  {
   "cell_type": "code",
   "execution_count": 64,
   "id": "2334d1cd",
   "metadata": {},
   "outputs": [
    {
     "data": {
      "text/plain": [
       "(3, 3)"
      ]
     },
     "execution_count": 64,
     "metadata": {},
     "output_type": "execute_result"
    }
   ],
   "source": [
    "matris.shape"
   ]
  },
  {
   "cell_type": "code",
   "execution_count": null,
   "id": "3721f2bc",
   "metadata": {},
   "outputs": [],
   "source": [
    "#matris2 = matris dersek matristeki değişiklik matris2yi\n",
    "#değiştirmiş olur değişiklik yansımasın istersek copy kullanırız"
   ]
  },
  {
   "cell_type": "code",
   "execution_count": 65,
   "id": "4ffbf643",
   "metadata": {},
   "outputs": [
    {
     "data": {
      "text/plain": [
       "array([[1, 2, 3],\n",
       "       [4, 5, 6],\n",
       "       [7, 8, 9]])"
      ]
     },
     "execution_count": 65,
     "metadata": {},
     "output_type": "execute_result"
    }
   ],
   "source": [
    "m1=np.array([[1,2,3],[4,5,6],[7,8,9]])\n",
    "m1"
   ]
  },
  {
   "cell_type": "code",
   "execution_count": 66,
   "id": "4f9f3ab8",
   "metadata": {},
   "outputs": [],
   "source": [
    "m2=m1.copy()"
   ]
  },
  {
   "cell_type": "code",
   "execution_count": 67,
   "id": "fe54836c",
   "metadata": {},
   "outputs": [
    {
     "data": {
      "text/plain": [
       "array([[  1,   2,   3],\n",
       "       [  4, 150,   6],\n",
       "       [  7,   8,   9]])"
      ]
     },
     "execution_count": 67,
     "metadata": {},
     "output_type": "execute_result"
    }
   ],
   "source": [
    "m1[1,1]=150\n",
    "m1"
   ]
  },
  {
   "cell_type": "code",
   "execution_count": 68,
   "id": "251329f2",
   "metadata": {},
   "outputs": [
    {
     "data": {
      "text/plain": [
       "array([[1, 2, 3],\n",
       "       [4, 5, 6],\n",
       "       [7, 8, 9]])"
      ]
     },
     "execution_count": 68,
     "metadata": {},
     "output_type": "execute_result"
    }
   ],
   "source": [
    "m2  #değişiklik olmadı"
   ]
  },
  {
   "cell_type": "code",
   "execution_count": 69,
   "id": "822b7137",
   "metadata": {},
   "outputs": [
    {
     "data": {
      "text/plain": [
       "array([0, 2, 4, 6, 8])"
      ]
     },
     "execution_count": 69,
     "metadata": {},
     "output_type": "execute_result"
    }
   ],
   "source": [
    "m3=np.arange(0,10,2)\n",
    "m3"
   ]
  },
  {
   "cell_type": "code",
   "execution_count": 70,
   "id": "3404de97",
   "metadata": {},
   "outputs": [
    {
     "data": {
      "text/plain": [
       "array([ 5,  9, 13, 17, 21, 25, 29, 33, 37, 41, 45, 49, 53, 57, 61, 65, 69])"
      ]
     },
     "execution_count": 70,
     "metadata": {},
     "output_type": "execute_result"
    }
   ],
   "source": [
    "m4=np.arange(5,73,4)\n",
    "m4"
   ]
  },
  {
   "cell_type": "code",
   "execution_count": 71,
   "id": "0ec56a1a",
   "metadata": {},
   "outputs": [
    {
     "data": {
      "text/plain": [
       "array([0.26208794])"
      ]
     },
     "execution_count": 71,
     "metadata": {},
     "output_type": "execute_result"
    }
   ],
   "source": [
    "m5=np.random.rand(1)  # 2 yazarsak 2 2,2 dersek 2*2 verir\n",
    "m5"
   ]
  },
  {
   "cell_type": "code",
   "execution_count": 72,
   "id": "9e5b473a",
   "metadata": {},
   "outputs": [
    {
     "data": {
      "text/plain": [
       "array([[ 5, 15, 25],\n",
       "       [35, 45, 55]])"
      ]
     },
     "execution_count": 72,
     "metadata": {},
     "output_type": "execute_result"
    }
   ],
   "source": [
    "dizi=np.array([[5,15,25],[35,45,55]])\n",
    "dizi"
   ]
  },
  {
   "cell_type": "code",
   "execution_count": 73,
   "id": "49bf3203",
   "metadata": {},
   "outputs": [
    {
     "data": {
      "text/plain": [
       "180"
      ]
     },
     "execution_count": 73,
     "metadata": {},
     "output_type": "execute_result"
    }
   ],
   "source": [
    "np.sum(dizi)"
   ]
  },
  {
   "cell_type": "code",
   "execution_count": 74,
   "id": "5bbfb81f",
   "metadata": {},
   "outputs": [
    {
     "data": {
      "text/plain": [
       "162421875"
      ]
     },
     "execution_count": 74,
     "metadata": {},
     "output_type": "execute_result"
    }
   ],
   "source": [
    "np.prod(dizi)  #yanyana koyup çarptı"
   ]
  },
  {
   "cell_type": "code",
   "execution_count": 75,
   "id": "cee74be3",
   "metadata": {},
   "outputs": [
    {
     "data": {
      "text/plain": [
       "array([ 45, 135])"
      ]
     },
     "execution_count": 75,
     "metadata": {},
     "output_type": "execute_result"
    }
   ],
   "source": [
    "np.sum(dizi,axis=1) #satırlardaki kolon değerlerini topladı"
   ]
  },
  {
   "cell_type": "code",
   "execution_count": 76,
   "id": "e9775f2f",
   "metadata": {},
   "outputs": [
    {
     "data": {
      "text/plain": [
       "array([ 1875, 86625])"
      ]
     },
     "execution_count": 76,
     "metadata": {},
     "output_type": "execute_result"
    }
   ],
   "source": [
    "np.prod(dizi,axis=1)"
   ]
  },
  {
   "cell_type": "code",
   "execution_count": 77,
   "id": "34442a67",
   "metadata": {},
   "outputs": [
    {
     "data": {
      "text/plain": [
       "1875"
      ]
     },
     "execution_count": 77,
     "metadata": {},
     "output_type": "execute_result"
    }
   ],
   "source": [
    "5*15*25"
   ]
  },
  {
   "cell_type": "code",
   "execution_count": 78,
   "id": "ef7cc70a",
   "metadata": {},
   "outputs": [
    {
     "data": {
      "text/plain": [
       "86625"
      ]
     },
     "execution_count": 78,
     "metadata": {},
     "output_type": "execute_result"
    }
   ],
   "source": [
    "35*45*55"
   ]
  },
  {
   "cell_type": "code",
   "execution_count": 79,
   "id": "b0f9dc4b",
   "metadata": {},
   "outputs": [
    {
     "data": {
      "text/plain": [
       "array([40, 60, 80])"
      ]
     },
     "execution_count": 79,
     "metadata": {},
     "output_type": "execute_result"
    }
   ],
   "source": [
    "np.sum(dizi,axis=0)"
   ]
  },
  {
   "cell_type": "code",
   "execution_count": 81,
   "id": "f8bfa0d3",
   "metadata": {},
   "outputs": [
    {
     "data": {
      "text/plain": [
       "array([ 175,  675, 1375])"
      ]
     },
     "execution_count": 81,
     "metadata": {},
     "output_type": "execute_result"
    }
   ],
   "source": [
    "np.prod(dizi,axis=0)"
   ]
  },
  {
   "cell_type": "code",
   "execution_count": 82,
   "id": "39c9a7cb",
   "metadata": {},
   "outputs": [
    {
     "data": {
      "text/plain": [
       "array([[1, 2, 3],\n",
       "       [4, 5, 6],\n",
       "       [7, 8, 9]])"
      ]
     },
     "execution_count": 82,
     "metadata": {},
     "output_type": "execute_result"
    }
   ],
   "source": [
    "dizi=np.array([[1,2,3],\n",
    "              [4,5,6],\n",
    "              [7,8,9]])\n",
    "dizi"
   ]
  },
  {
   "cell_type": "code",
   "execution_count": 83,
   "id": "2793b441",
   "metadata": {},
   "outputs": [
    {
     "data": {
      "text/plain": [
       "1"
      ]
     },
     "execution_count": 83,
     "metadata": {},
     "output_type": "execute_result"
    }
   ],
   "source": [
    "np.min(dizi)"
   ]
  },
  {
   "cell_type": "code",
   "execution_count": 86,
   "id": "34aeae4b",
   "metadata": {},
   "outputs": [
    {
     "data": {
      "text/plain": [
       "1"
      ]
     },
     "execution_count": 86,
     "metadata": {},
     "output_type": "execute_result"
    }
   ],
   "source": [
    "dizi.min()"
   ]
  },
  {
   "cell_type": "code",
   "execution_count": 84,
   "id": "d408f23a",
   "metadata": {},
   "outputs": [
    {
     "data": {
      "text/plain": [
       "9"
      ]
     },
     "execution_count": 84,
     "metadata": {},
     "output_type": "execute_result"
    }
   ],
   "source": [
    "np.max(dizi)"
   ]
  },
  {
   "cell_type": "code",
   "execution_count": 87,
   "id": "18347f5b",
   "metadata": {},
   "outputs": [
    {
     "data": {
      "text/plain": [
       "9"
      ]
     },
     "execution_count": 87,
     "metadata": {},
     "output_type": "execute_result"
    }
   ],
   "source": [
    "dizi.max()"
   ]
  },
  {
   "cell_type": "code",
   "execution_count": 88,
   "id": "303ffb56",
   "metadata": {},
   "outputs": [
    {
     "data": {
      "text/plain": [
       "0"
      ]
     },
     "execution_count": 88,
     "metadata": {},
     "output_type": "execute_result"
    }
   ],
   "source": [
    "#bir fonksiyonun dizinin min noktası\n",
    "dizi.argmin()"
   ]
  },
  {
   "cell_type": "code",
   "execution_count": 89,
   "id": "b2f54e23",
   "metadata": {},
   "outputs": [
    {
     "data": {
      "text/plain": [
       "45"
      ]
     },
     "execution_count": 89,
     "metadata": {},
     "output_type": "execute_result"
    }
   ],
   "source": [
    "dizi.sum()"
   ]
  },
  {
   "cell_type": "code",
   "execution_count": 90,
   "id": "510283c0",
   "metadata": {},
   "outputs": [
    {
     "data": {
      "text/plain": [
       "5.0"
      ]
     },
     "execution_count": 90,
     "metadata": {},
     "output_type": "execute_result"
    }
   ],
   "source": [
    "ortalama = 45/9\n",
    "ortalama"
   ]
  },
  {
   "cell_type": "code",
   "execution_count": 91,
   "id": "3c043994",
   "metadata": {},
   "outputs": [
    {
     "data": {
      "text/plain": [
       "5.0"
      ]
     },
     "execution_count": 91,
     "metadata": {},
     "output_type": "execute_result"
    }
   ],
   "source": [
    "dizi.mean()"
   ]
  },
  {
   "cell_type": "code",
   "execution_count": 92,
   "id": "2455b1b2",
   "metadata": {},
   "outputs": [
    {
     "data": {
      "text/plain": [
       "array([4., 5., 6.])"
      ]
     },
     "execution_count": 92,
     "metadata": {},
     "output_type": "execute_result"
    }
   ],
   "source": [
    "dizi.mean(axis=0)  #her kolonun ortalamasını verir"
   ]
  },
  {
   "cell_type": "code",
   "execution_count": 93,
   "id": "4a253232",
   "metadata": {},
   "outputs": [
    {
     "data": {
      "text/plain": [
       "array([2., 5., 8.])"
      ]
     },
     "execution_count": 93,
     "metadata": {},
     "output_type": "execute_result"
    }
   ],
   "source": [
    "dizi.mean(axis=1) #her satırın ortalaması"
   ]
  },
  {
   "cell_type": "code",
   "execution_count": 94,
   "id": "1731a1b6",
   "metadata": {},
   "outputs": [
    {
     "data": {
      "text/plain": [
       "array([[1, 2, 3],\n",
       "       [4, 5, 6],\n",
       "       [7, 8, 9]])"
      ]
     },
     "execution_count": 94,
     "metadata": {},
     "output_type": "execute_result"
    }
   ],
   "source": [
    "dizi"
   ]
  },
  {
   "cell_type": "code",
   "execution_count": 95,
   "id": "8dbd24dd",
   "metadata": {},
   "outputs": [
    {
     "data": {
      "text/plain": [
       "2.581988897471611"
      ]
     },
     "execution_count": 95,
     "metadata": {},
     "output_type": "execute_result"
    }
   ],
   "source": [
    "dizi.std()"
   ]
  },
  {
   "cell_type": "code",
   "execution_count": 96,
   "id": "b2c118c2",
   "metadata": {},
   "outputs": [
    {
     "data": {
      "text/plain": [
       "array([2.44948974, 2.44948974, 2.44948974])"
      ]
     },
     "execution_count": 96,
     "metadata": {},
     "output_type": "execute_result"
    }
   ],
   "source": [
    "dizi.std(axis=0)"
   ]
  },
  {
   "cell_type": "code",
   "execution_count": 97,
   "id": "bec474aa",
   "metadata": {},
   "outputs": [
    {
     "data": {
      "text/plain": [
       "array([0.81649658, 0.81649658, 0.81649658])"
      ]
     },
     "execution_count": 97,
     "metadata": {},
     "output_type": "execute_result"
    }
   ],
   "source": [
    "dizi.std(axis=1)"
   ]
  },
  {
   "cell_type": "code",
   "execution_count": 98,
   "id": "1b54753f",
   "metadata": {},
   "outputs": [
    {
     "data": {
      "text/plain": [
       "6.666666666666667"
      ]
     },
     "execution_count": 98,
     "metadata": {},
     "output_type": "execute_result"
    }
   ],
   "source": [
    "dizi.var()"
   ]
  },
  {
   "cell_type": "code",
   "execution_count": 99,
   "id": "4efdb4f1",
   "metadata": {},
   "outputs": [
    {
     "data": {
      "text/plain": [
       "array([[2, 2, 3],\n",
       "       [4, 5, 5],\n",
       "       [5, 5, 5]])"
      ]
     },
     "execution_count": 99,
     "metadata": {},
     "output_type": "execute_result"
    }
   ],
   "source": [
    "dizi.clip(2,5)  #2 değer arasında elemanlardan oluşsun\n",
    "#diğerleri o değerlere dönüşür  1 2ye dönüştü\n",
    "#6 5e dönüştü  7,8,9 5e dönüştü"
   ]
  },
  {
   "cell_type": "code",
   "execution_count": 100,
   "id": "a6c0c12b",
   "metadata": {},
   "outputs": [
    {
     "data": {
      "text/plain": [
       "array([[0.28478178, 0.76141108, 0.97085588],\n",
       "       [0.08308829, 0.57615646, 0.60086619],\n",
       "       [0.22945375, 0.91659556, 0.39695504]])"
      ]
     },
     "execution_count": 100,
     "metadata": {},
     "output_type": "execute_result"
    }
   ],
   "source": [
    "dizi2=np.random.rand(3,3)\n",
    "dizi2"
   ]
  },
  {
   "cell_type": "code",
   "execution_count": 101,
   "id": "7a552c3f",
   "metadata": {},
   "outputs": [
    {
     "data": {
      "text/plain": [
       "array([[8.08911252, 4.71690481, 3.36029205],\n",
       "       [5.38515916, 3.40678941, 3.01577737],\n",
       "       [5.24190778, 9.83171454, 0.39867587]])"
      ]
     },
     "execution_count": 101,
     "metadata": {},
     "output_type": "execute_result"
    }
   ],
   "source": [
    "dizi2=np.random.rand(3,3)*10\n",
    "dizi2"
   ]
  },
  {
   "cell_type": "code",
   "execution_count": 102,
   "id": "a80f3431",
   "metadata": {},
   "outputs": [
    {
     "data": {
      "text/plain": [
       "array([[ 8.,  5.,  3.],\n",
       "       [ 5.,  3.,  3.],\n",
       "       [ 5., 10.,  0.]])"
      ]
     },
     "execution_count": 102,
     "metadata": {},
     "output_type": "execute_result"
    }
   ],
   "source": [
    "dizi2.round()  #yuvarladı"
   ]
  },
  {
   "cell_type": "code",
   "execution_count": 103,
   "id": "10523623",
   "metadata": {},
   "outputs": [
    {
     "data": {
      "text/plain": [
       "array([[8.08911252, 4.71690481, 3.36029205],\n",
       "       [5.38515916, 3.40678941, 3.01577737],\n",
       "       [5.24190778, 9.83171454, 0.39867587]])"
      ]
     },
     "execution_count": 103,
     "metadata": {},
     "output_type": "execute_result"
    }
   ],
   "source": [
    "dizi2"
   ]
  },
  {
   "cell_type": "code",
   "execution_count": 104,
   "id": "26b634d3",
   "metadata": {},
   "outputs": [
    {
     "data": {
      "text/plain": [
       "array([[ 8.,  5.,  3.],\n",
       "       [ 5.,  3.,  3.],\n",
       "       [ 5., 10.,  0.]])"
      ]
     },
     "execution_count": 104,
     "metadata": {},
     "output_type": "execute_result"
    }
   ],
   "source": [
    "dizi2=dizi2.round()\n",
    "dizi2"
   ]
  },
  {
   "cell_type": "code",
   "execution_count": 105,
   "id": "4ae9a2e5",
   "metadata": {},
   "outputs": [
    {
     "data": {
      "text/plain": [
       "array([[0.84862547, 1.52791192, 8.2906809 ],\n",
       "       [6.73541674, 5.17733676, 7.01272626],\n",
       "       [8.51382472, 4.48380741, 9.96260457]])"
      ]
     },
     "execution_count": 105,
     "metadata": {},
     "output_type": "execute_result"
    }
   ],
   "source": [
    "dizi3=np.random.rand(3,3)*10\n",
    "dizi3"
   ]
  },
  {
   "cell_type": "code",
   "execution_count": 106,
   "id": "11751cc5",
   "metadata": {},
   "outputs": [
    {
     "data": {
      "text/plain": [
       "array([[0.85, 1.53, 8.29],\n",
       "       [6.74, 5.18, 7.01],\n",
       "       [8.51, 4.48, 9.96]])"
      ]
     },
     "execution_count": 106,
     "metadata": {},
     "output_type": "execute_result"
    }
   ],
   "source": [
    "#virgülden sonraki 2 basamağı gösterelim\n",
    "dizi3.round(decimals=2)"
   ]
  },
  {
   "cell_type": "code",
   "execution_count": 107,
   "id": "536f5d87",
   "metadata": {},
   "outputs": [
    {
     "data": {
      "text/plain": [
       "array([0, 1, 2, 3, 4])"
      ]
     },
     "execution_count": 107,
     "metadata": {},
     "output_type": "execute_result"
    }
   ],
   "source": [
    "dizi=np.arange(5)\n",
    "dizi"
   ]
  },
  {
   "cell_type": "code",
   "execution_count": 109,
   "id": "45a54c52",
   "metadata": {},
   "outputs": [
    {
     "data": {
      "text/plain": [
       "(5,)"
      ]
     },
     "execution_count": 109,
     "metadata": {},
     "output_type": "execute_result"
    }
   ],
   "source": [
    "dizi.shape"
   ]
  },
  {
   "cell_type": "code",
   "execution_count": 115,
   "id": "0ab02c84",
   "metadata": {},
   "outputs": [
    {
     "data": {
      "text/plain": [
       "array([[0, 1, 2, 3, 4, 5]])"
      ]
     },
     "execution_count": 115,
     "metadata": {},
     "output_type": "execute_result"
    }
   ],
   "source": [
    "dizi2=np.array([[0, 1, 2, 3, 4,5]])\n",
    "dizi2"
   ]
  },
  {
   "cell_type": "code",
   "execution_count": 116,
   "id": "bcd9ad1a",
   "metadata": {},
   "outputs": [
    {
     "data": {
      "text/plain": [
       "(1, 6)"
      ]
     },
     "execution_count": 116,
     "metadata": {},
     "output_type": "execute_result"
    }
   ],
   "source": [
    "dizi2.shape"
   ]
  },
  {
   "cell_type": "code",
   "execution_count": 118,
   "id": "2e60d080",
   "metadata": {},
   "outputs": [
    {
     "data": {
      "text/plain": [
       "array([[0, 1],\n",
       "       [2, 3],\n",
       "       [4, 5]])"
      ]
     },
     "execution_count": 118,
     "metadata": {},
     "output_type": "execute_result"
    }
   ],
   "source": [
    "dizi2.shape=3,2\n",
    "dizi2"
   ]
  },
  {
   "cell_type": "code",
   "execution_count": 119,
   "id": "44ad19c7",
   "metadata": {},
   "outputs": [
    {
     "data": {
      "text/plain": [
       "array([[0, 1, 2, 3, 4, 5]])"
      ]
     },
     "execution_count": 119,
     "metadata": {},
     "output_type": "execute_result"
    }
   ],
   "source": [
    "dizi2.reshape(1,6)"
   ]
  },
  {
   "cell_type": "code",
   "execution_count": 120,
   "id": "3493f3c7",
   "metadata": {},
   "outputs": [
    {
     "data": {
      "text/plain": [
       "array([[1, 2, 3],\n",
       "       [4, 5, 6],\n",
       "       [7, 8, 9]])"
      ]
     },
     "execution_count": 120,
     "metadata": {},
     "output_type": "execute_result"
    }
   ],
   "source": [
    "#transpoze\n",
    "matris=np.array([[1,2,3],[4,5,6],[7,8,9]])\n",
    "matris"
   ]
  },
  {
   "cell_type": "code",
   "execution_count": 121,
   "id": "9f030a3f",
   "metadata": {},
   "outputs": [
    {
     "data": {
      "text/plain": [
       "array([[1, 4, 7],\n",
       "       [2, 5, 8],\n",
       "       [3, 6, 9]])"
      ]
     },
     "execution_count": 121,
     "metadata": {},
     "output_type": "execute_result"
    }
   ],
   "source": [
    "matris.T"
   ]
  },
  {
   "cell_type": "code",
   "execution_count": 122,
   "id": "271c2b64",
   "metadata": {},
   "outputs": [
    {
     "data": {
      "text/plain": [
       "array([[10, 20, 30],\n",
       "       [40, 50, 60],\n",
       "       [70, 80, 90]])"
      ]
     },
     "execution_count": 122,
     "metadata": {},
     "output_type": "execute_result"
    }
   ],
   "source": [
    "matris2=np.array([[10,20,30],[40,50,60],[70,80,90]])\n",
    "matris2"
   ]
  },
  {
   "cell_type": "code",
   "execution_count": 124,
   "id": "6cb95d07",
   "metadata": {},
   "outputs": [
    {
     "data": {
      "text/plain": [
       "array([[ 1,  2,  3],\n",
       "       [ 4,  5,  6],\n",
       "       [ 7,  8,  9],\n",
       "       [10, 20, 30],\n",
       "       [40, 50, 60],\n",
       "       [70, 80, 90]])"
      ]
     },
     "execution_count": 124,
     "metadata": {},
     "output_type": "execute_result"
    }
   ],
   "source": [
    "matris4=np.concatenate((matris,matris2))\n",
    "matris4"
   ]
  },
  {
   "cell_type": "code",
   "execution_count": 125,
   "id": "25465c68",
   "metadata": {},
   "outputs": [
    {
     "data": {
      "text/plain": [
       "array([[ 1,  2,  3, 10, 20, 30],\n",
       "       [ 4,  5,  6, 40, 50, 60],\n",
       "       [ 7,  8,  9, 70, 80, 90]])"
      ]
     },
     "execution_count": 125,
     "metadata": {},
     "output_type": "execute_result"
    }
   ],
   "source": [
    "matris4=np.concatenate((matris,matris2),axis=1)\n",
    "matris4"
   ]
  },
  {
   "cell_type": "code",
   "execution_count": 126,
   "id": "4e398837",
   "metadata": {},
   "outputs": [
    {
     "data": {
      "text/plain": [
       "array([[ 1,  2,  3],\n",
       "       [ 4,  5,  6],\n",
       "       [ 7,  8,  9],\n",
       "       [10, 20, 30],\n",
       "       [40, 50, 60],\n",
       "       [70, 80, 90]])"
      ]
     },
     "execution_count": 126,
     "metadata": {},
     "output_type": "execute_result"
    }
   ],
   "source": [
    "np.vstack((matris,matris2))"
   ]
  },
  {
   "cell_type": "code",
   "execution_count": 127,
   "id": "b05c54ec",
   "metadata": {},
   "outputs": [
    {
     "data": {
      "text/plain": [
       "array([[ 1,  2,  3, 10, 20, 30],\n",
       "       [ 4,  5,  6, 40, 50, 60],\n",
       "       [ 7,  8,  9, 70, 80, 90]])"
      ]
     },
     "execution_count": 127,
     "metadata": {},
     "output_type": "execute_result"
    }
   ],
   "source": [
    "np.hstack((matris,matris2))"
   ]
  },
  {
   "cell_type": "code",
   "execution_count": 128,
   "id": "43d5bedd",
   "metadata": {},
   "outputs": [
    {
     "data": {
      "text/plain": [
       "array([ 0. ,  2.5,  5. ,  7.5, 10. ])"
      ]
     },
     "execution_count": 128,
     "metadata": {},
     "output_type": "execute_result"
    }
   ],
   "source": [
    "np.linspace(0,10,5)"
   ]
  },
  {
   "cell_type": "code",
   "execution_count": 129,
   "id": "e3ead61b",
   "metadata": {},
   "outputs": [
    {
     "data": {
      "text/plain": [
       "array([ 3.        ,  7.33333333, 11.66666667, 16.        , 20.33333333,\n",
       "       24.66666667, 29.        ])"
      ]
     },
     "execution_count": 129,
     "metadata": {},
     "output_type": "execute_result"
    }
   ],
   "source": [
    "np.linspace(3,29,7)"
   ]
  },
  {
   "cell_type": "code",
   "execution_count": 130,
   "id": "b9604f83",
   "metadata": {},
   "outputs": [],
   "source": [
    "#mantık işlemleri"
   ]
  },
  {
   "cell_type": "code",
   "execution_count": 134,
   "id": "2b8470db",
   "metadata": {},
   "outputs": [],
   "source": [
    "dizi=np.array([\"a\",\"b\"])\n",
    "dizi2=np.array([\"a\",\"b\"])\n",
    "dizi3=np.array([1,2])\n",
    "dizi4=np.array([\"a\",2])"
   ]
  },
  {
   "cell_type": "code",
   "execution_count": 135,
   "id": "58479d87",
   "metadata": {},
   "outputs": [
    {
     "data": {
      "text/plain": [
       "array([ True,  True])"
      ]
     },
     "execution_count": 135,
     "metadata": {},
     "output_type": "execute_result"
    }
   ],
   "source": [
    "dizi==dizi2"
   ]
  },
  {
   "cell_type": "code",
   "execution_count": 136,
   "id": "07a6b7c7",
   "metadata": {},
   "outputs": [
    {
     "name": "stderr",
     "output_type": "stream",
     "text": [
      "C:\\Users\\Bootcamp\\Anaconda3\\lib\\site-packages\\ipykernel_launcher.py:1: FutureWarning: elementwise comparison failed; returning scalar instead, but in the future will perform elementwise comparison\n",
      "  \"\"\"Entry point for launching an IPython kernel.\n"
     ]
    },
    {
     "data": {
      "text/plain": [
       "False"
      ]
     },
     "execution_count": 136,
     "metadata": {},
     "output_type": "execute_result"
    }
   ],
   "source": [
    "dizi==dizi3"
   ]
  },
  {
   "cell_type": "code",
   "execution_count": 137,
   "id": "4488e3e5",
   "metadata": {},
   "outputs": [
    {
     "data": {
      "text/plain": [
       "array([ True, False])"
      ]
     },
     "execution_count": 137,
     "metadata": {},
     "output_type": "execute_result"
    }
   ],
   "source": [
    "dizi==dizi4"
   ]
  },
  {
   "cell_type": "code",
   "execution_count": 138,
   "id": "e3ed4ddb",
   "metadata": {},
   "outputs": [
    {
     "data": {
      "text/plain": [
       "array([False,  True])"
      ]
     },
     "execution_count": 138,
     "metadata": {},
     "output_type": "execute_result"
    }
   ],
   "source": [
    "dizi!=dizi4"
   ]
  },
  {
   "cell_type": "code",
   "execution_count": 139,
   "id": "b43623ac",
   "metadata": {},
   "outputs": [],
   "source": [
    "d1=np.array([1,2])\n",
    "d2=np.array([0,5])"
   ]
  },
  {
   "cell_type": "code",
   "execution_count": 140,
   "id": "6ba88dbc",
   "metadata": {},
   "outputs": [
    {
     "data": {
      "text/plain": [
       "array([False,  True])"
      ]
     },
     "execution_count": 140,
     "metadata": {},
     "output_type": "execute_result"
    }
   ],
   "source": [
    "d1<d2"
   ]
  },
  {
   "cell_type": "code",
   "execution_count": 142,
   "id": "e2ac8bf1",
   "metadata": {},
   "outputs": [
    {
     "data": {
      "text/plain": [
       "array([[1, 2, 3],\n",
       "       [4, 5, 6]])"
      ]
     },
     "execution_count": 142,
     "metadata": {},
     "output_type": "execute_result"
    }
   ],
   "source": [
    "#Problem1\n",
    "#2*3 lük A ile 3*2lik B matrisini çarpın Cye eşitleyin\n",
    "\n",
    "A= np.array(([1,2,3],[4,5,6]))\n",
    "A"
   ]
  },
  {
   "cell_type": "code",
   "execution_count": 143,
   "id": "09933d20",
   "metadata": {},
   "outputs": [
    {
     "data": {
      "text/plain": [
       "array([[10, 20],\n",
       "       [30, 40],\n",
       "       [50, 60]])"
      ]
     },
     "execution_count": 143,
     "metadata": {},
     "output_type": "execute_result"
    }
   ],
   "source": [
    "B= np.array(([10,20],[30,40],[50,60]))\n",
    "B"
   ]
  },
  {
   "cell_type": "code",
   "execution_count": 144,
   "id": "1120cacc",
   "metadata": {},
   "outputs": [
    {
     "data": {
      "text/plain": [
       "array([[220, 280],\n",
       "       [490, 640]])"
      ]
     },
     "execution_count": 144,
     "metadata": {},
     "output_type": "execute_result"
    }
   ],
   "source": [
    "C=np.dot(A,B)\n",
    "C"
   ]
  },
  {
   "cell_type": "code",
   "execution_count": null,
   "id": "54e82e18",
   "metadata": {},
   "outputs": [],
   "source": [
    "#Problem2\n",
    "#iki basamaklı rastgele tamsayı 3*3 matris oluştur\n",
    "#transpoze al"
   ]
  },
  {
   "cell_type": "code",
   "execution_count": 151,
   "id": "b2921e46",
   "metadata": {},
   "outputs": [
    {
     "data": {
      "text/plain": [
       "array([[72., 51.,  5.],\n",
       "       [10., 13., 62.],\n",
       "       [67., 72., 39.]])"
      ]
     },
     "execution_count": 151,
     "metadata": {},
     "output_type": "execute_result"
    }
   ],
   "source": [
    "x=(np.random.rand(3,3)*100).round()\n",
    "x"
   ]
  },
  {
   "cell_type": "code",
   "execution_count": 152,
   "id": "ea28f0be",
   "metadata": {},
   "outputs": [
    {
     "data": {
      "text/plain": [
       "array([[72., 10., 67.],\n",
       "       [51., 13., 72.],\n",
       "       [ 5., 62., 39.]])"
      ]
     },
     "execution_count": 152,
     "metadata": {},
     "output_type": "execute_result"
    }
   ],
   "source": [
    "x.T"
   ]
  },
  {
   "cell_type": "code",
   "execution_count": 153,
   "id": "2508c5e4",
   "metadata": {},
   "outputs": [],
   "source": [
    "#Problem3\n",
    "#Ocak 2021 tüm günlerini yıl ay gün formatında array içine yazın"
   ]
  },
  {
   "cell_type": "code",
   "execution_count": 154,
   "id": "02c1cd98",
   "metadata": {},
   "outputs": [
    {
     "data": {
      "text/plain": [
       "array(['2021-01-01', '2021-01-02', '2021-01-03', '2021-01-04',\n",
       "       '2021-01-05', '2021-01-06', '2021-01-07', '2021-01-08',\n",
       "       '2021-01-09', '2021-01-10', '2021-01-11', '2021-01-12',\n",
       "       '2021-01-13', '2021-01-14', '2021-01-15', '2021-01-16',\n",
       "       '2021-01-17', '2021-01-18', '2021-01-19', '2021-01-20',\n",
       "       '2021-01-21', '2021-01-22', '2021-01-23', '2021-01-24',\n",
       "       '2021-01-25', '2021-01-26', '2021-01-27', '2021-01-28',\n",
       "       '2021-01-29', '2021-01-30', '2021-01-31'], dtype='datetime64[D]')"
      ]
     },
     "execution_count": 154,
     "metadata": {},
     "output_type": "execute_result"
    }
   ],
   "source": [
    "np.arange(\"2021-01\",\"2021-02\",dtype=\"datetime64[D]\")\n",
    "#D yazdık gün olarak görmek istediğimiz için"
   ]
  },
  {
   "cell_type": "code",
   "execution_count": 155,
   "id": "1beb2696",
   "metadata": {},
   "outputs": [
    {
     "data": {
      "text/plain": [
       "array(['2021-01', '2021-02', '2021-03', '2021-04', '2021-05', '2021-06',\n",
       "       '2021-07', '2021-08', '2021-09', '2021-10', '2021-11', '2021-12',\n",
       "       '2022-01'], dtype='datetime64[M]')"
      ]
     },
     "execution_count": 155,
     "metadata": {},
     "output_type": "execute_result"
    }
   ],
   "source": [
    "np.arange(\"2021-01\",\"2022-02\",dtype=\"datetime64[M]\")\n",
    "#M yazdık ay olarak görmek istediğimiz için"
   ]
  },
  {
   "cell_type": "code",
   "execution_count": 156,
   "id": "674b3765",
   "metadata": {},
   "outputs": [
    {
     "name": "stdout",
     "output_type": "stream",
     "text": [
      "    January 2021\n",
      "Mo Tu We Th Fr Sa Su\n",
      "             1  2  3\n",
      " 4  5  6  7  8  9 10\n",
      "11 12 13 14 15 16 17\n",
      "18 19 20 21 22 23 24\n",
      "25 26 27 28 29 30 31\n",
      "\n"
     ]
    }
   ],
   "source": [
    "import calendar\n",
    "print(calendar.month(2021,1))"
   ]
  },
  {
   "cell_type": "code",
   "execution_count": null,
   "id": "fd9d4c87",
   "metadata": {},
   "outputs": [],
   "source": [
    "#Internet Hız ölçümü  \n",
    "#indirme ve yükleme  hızımızı ölçelim\n"
   ]
  },
  {
   "cell_type": "code",
   "execution_count": 157,
   "id": "10fab91b",
   "metadata": {},
   "outputs": [
    {
     "name": "stdout",
     "output_type": "stream",
     "text": [
      "Collecting speedtest-cli\n",
      "  Downloading speedtest_cli-2.1.3-py2.py3-none-any.whl (23 kB)\n",
      "Installing collected packages: speedtest-cli\n",
      "Successfully installed speedtest-cli-2.1.3\n"
     ]
    },
    {
     "name": "stderr",
     "output_type": "stream",
     "text": [
      "WARNING: Ignoring invalid distribution -tatsmodels (c:\\users\\bootcamp\\anaconda3\\lib\\site-packages)\n",
      "WARNING: Ignoring invalid distribution -tatsmodels (c:\\users\\bootcamp\\anaconda3\\lib\\site-packages)\n",
      "WARNING: Ignoring invalid distribution -tatsmodels (c:\\users\\bootcamp\\anaconda3\\lib\\site-packages)\n",
      "WARNING: Ignoring invalid distribution -tatsmodels (c:\\users\\bootcamp\\anaconda3\\lib\\site-packages)\n",
      "WARNING: Ignoring invalid distribution -tatsmodels (c:\\users\\bootcamp\\anaconda3\\lib\\site-packages)\n",
      "WARNING: Ignoring invalid distribution -tatsmodels (c:\\users\\bootcamp\\anaconda3\\lib\\site-packages)\n",
      "WARNING: Ignoring invalid distribution -tatsmodels (c:\\users\\bootcamp\\anaconda3\\lib\\site-packages)\n"
     ]
    }
   ],
   "source": [
    "!pip install speedtest-cli"
   ]
  },
  {
   "cell_type": "code",
   "execution_count": 158,
   "id": "0ed8e915",
   "metadata": {},
   "outputs": [],
   "source": [
    "import speedtest"
   ]
  },
  {
   "cell_type": "code",
   "execution_count": 162,
   "id": "231f85f2",
   "metadata": {},
   "outputs": [
    {
     "ename": "ConfigRetrievalError",
     "evalue": "HTTP Error 403: Forbidden",
     "output_type": "error",
     "traceback": [
      "\u001b[1;31m---------------------------------------------------------------------------\u001b[0m",
      "\u001b[1;31mConfigRetrievalError\u001b[0m                      Traceback (most recent call last)",
      "\u001b[1;32m<ipython-input-162-b5b0422cb1da>\u001b[0m in \u001b[0;36m<module>\u001b[1;34m\u001b[0m\n\u001b[1;32m----> 1\u001b[1;33m \u001b[0mtest\u001b[0m\u001b[1;33m=\u001b[0m\u001b[0mspeedtest\u001b[0m\u001b[1;33m.\u001b[0m\u001b[0mSpeedtest\u001b[0m\u001b[1;33m(\u001b[0m\u001b[1;33m)\u001b[0m\u001b[1;33m\u001b[0m\u001b[1;33m\u001b[0m\u001b[0m\n\u001b[0m\u001b[0;32m      2\u001b[0m \u001b[0mindirme\u001b[0m\u001b[1;33m=\u001b[0m\u001b[0mtest\u001b[0m\u001b[1;33m.\u001b[0m\u001b[0mdownload\u001b[0m\u001b[1;33m(\u001b[0m\u001b[1;33m)\u001b[0m\u001b[1;33m\u001b[0m\u001b[1;33m\u001b[0m\u001b[0m\n\u001b[0;32m      3\u001b[0m \u001b[0mgonderme\u001b[0m\u001b[1;33m=\u001b[0m\u001b[0mtest\u001b[0m\u001b[1;33m.\u001b[0m\u001b[0mupload\u001b[0m\u001b[1;33m(\u001b[0m\u001b[1;33m)\u001b[0m\u001b[1;33m\u001b[0m\u001b[1;33m\u001b[0m\u001b[0m\n\u001b[0;32m      4\u001b[0m \u001b[0mindirme\u001b[0m\u001b[1;33m=\u001b[0m\u001b[0mindirme\u001b[0m\u001b[1;33m/\u001b[0m\u001b[1;36m1000000\u001b[0m\u001b[1;33m\u001b[0m\u001b[1;33m\u001b[0m\u001b[0m\n\u001b[0;32m      5\u001b[0m \u001b[0mgonderme\u001b[0m\u001b[1;33m=\u001b[0m\u001b[0mgonderme\u001b[0m\u001b[1;33m/\u001b[0m\u001b[1;36m1000000\u001b[0m\u001b[1;33m\u001b[0m\u001b[1;33m\u001b[0m\u001b[0m\n",
      "\u001b[1;32m~\\Anaconda3\\lib\\site-packages\\speedtest.py\u001b[0m in \u001b[0;36m__init__\u001b[1;34m(self, config, source_address, timeout, secure, shutdown_event)\u001b[0m\n\u001b[0;32m   1093\u001b[0m             \u001b[0mself\u001b[0m\u001b[1;33m.\u001b[0m\u001b[0m_shutdown_event\u001b[0m \u001b[1;33m=\u001b[0m \u001b[0mFakeShutdownEvent\u001b[0m\u001b[1;33m(\u001b[0m\u001b[1;33m)\u001b[0m\u001b[1;33m\u001b[0m\u001b[1;33m\u001b[0m\u001b[0m\n\u001b[0;32m   1094\u001b[0m \u001b[1;33m\u001b[0m\u001b[0m\n\u001b[1;32m-> 1095\u001b[1;33m         \u001b[0mself\u001b[0m\u001b[1;33m.\u001b[0m\u001b[0mget_config\u001b[0m\u001b[1;33m(\u001b[0m\u001b[1;33m)\u001b[0m\u001b[1;33m\u001b[0m\u001b[1;33m\u001b[0m\u001b[0m\n\u001b[0m\u001b[0;32m   1096\u001b[0m         \u001b[1;32mif\u001b[0m \u001b[0mconfig\u001b[0m \u001b[1;32mis\u001b[0m \u001b[1;32mnot\u001b[0m \u001b[1;32mNone\u001b[0m\u001b[1;33m:\u001b[0m\u001b[1;33m\u001b[0m\u001b[1;33m\u001b[0m\u001b[0m\n\u001b[0;32m   1097\u001b[0m             \u001b[0mself\u001b[0m\u001b[1;33m.\u001b[0m\u001b[0mconfig\u001b[0m\u001b[1;33m.\u001b[0m\u001b[0mupdate\u001b[0m\u001b[1;33m(\u001b[0m\u001b[0mconfig\u001b[0m\u001b[1;33m)\u001b[0m\u001b[1;33m\u001b[0m\u001b[1;33m\u001b[0m\u001b[0m\n",
      "\u001b[1;32m~\\Anaconda3\\lib\\site-packages\\speedtest.py\u001b[0m in \u001b[0;36mget_config\u001b[1;34m(self)\u001b[0m\n\u001b[0;32m   1125\u001b[0m         \u001b[0muh\u001b[0m\u001b[1;33m,\u001b[0m \u001b[0me\u001b[0m \u001b[1;33m=\u001b[0m \u001b[0mcatch_request\u001b[0m\u001b[1;33m(\u001b[0m\u001b[0mrequest\u001b[0m\u001b[1;33m,\u001b[0m \u001b[0mopener\u001b[0m\u001b[1;33m=\u001b[0m\u001b[0mself\u001b[0m\u001b[1;33m.\u001b[0m\u001b[0m_opener\u001b[0m\u001b[1;33m)\u001b[0m\u001b[1;33m\u001b[0m\u001b[1;33m\u001b[0m\u001b[0m\n\u001b[0;32m   1126\u001b[0m         \u001b[1;32mif\u001b[0m \u001b[0me\u001b[0m\u001b[1;33m:\u001b[0m\u001b[1;33m\u001b[0m\u001b[1;33m\u001b[0m\u001b[0m\n\u001b[1;32m-> 1127\u001b[1;33m             \u001b[1;32mraise\u001b[0m \u001b[0mConfigRetrievalError\u001b[0m\u001b[1;33m(\u001b[0m\u001b[0me\u001b[0m\u001b[1;33m)\u001b[0m\u001b[1;33m\u001b[0m\u001b[1;33m\u001b[0m\u001b[0m\n\u001b[0m\u001b[0;32m   1128\u001b[0m         \u001b[0mconfigxml_list\u001b[0m \u001b[1;33m=\u001b[0m \u001b[1;33m[\u001b[0m\u001b[1;33m]\u001b[0m\u001b[1;33m\u001b[0m\u001b[1;33m\u001b[0m\u001b[0m\n\u001b[0;32m   1129\u001b[0m \u001b[1;33m\u001b[0m\u001b[0m\n",
      "\u001b[1;31mConfigRetrievalError\u001b[0m: HTTP Error 403: Forbidden"
     ]
    }
   ],
   "source": [
    "test=speedtest.Speedtest()\n",
    "indirme=test.download()\n",
    "gonderme=test.upload()\n",
    "indirme=indirme/1000000\n",
    "gonderme=gonderme/1000000\n",
    "print(\"İndirme Hızı: %d\" %((indirme)))\n",
    "print(\"Gönderme Hızı: %d\" %((gonderme)))"
   ]
  },
  {
   "cell_type": "code",
   "execution_count": null,
   "id": "0e65bbf7",
   "metadata": {},
   "outputs": [],
   "source": []
  }
 ],
 "metadata": {
  "kernelspec": {
   "display_name": "Python 3",
   "language": "python",
   "name": "python3"
  },
  "language_info": {
   "codemirror_mode": {
    "name": "ipython",
    "version": 3
   },
   "file_extension": ".py",
   "mimetype": "text/x-python",
   "name": "python",
   "nbconvert_exporter": "python",
   "pygments_lexer": "ipython3",
   "version": "3.7.7"
  }
 },
 "nbformat": 4,
 "nbformat_minor": 5
}
