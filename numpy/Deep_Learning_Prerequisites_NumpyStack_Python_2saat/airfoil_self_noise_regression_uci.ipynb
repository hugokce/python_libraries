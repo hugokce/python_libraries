{
 "cells": [
  {
   "cell_type": "code",
   "execution_count": null,
   "id": "a2f7af5f",
   "metadata": {},
   "outputs": [],
   "source": [
    "#https://github.com/lazyprogrammer/machine_learning_examples/blob/master/numpy_class/regression_example.py\n",
    "#bu kodlar referans alındı"
   ]
  },
  {
   "cell_type": "code",
   "execution_count": 1,
   "id": "6f149437",
   "metadata": {},
   "outputs": [],
   "source": [
    "import numpy as np\n",
    "import pandas as pd\n"
   ]
  },
  {
   "cell_type": "code",
   "execution_count": 3,
   "id": "37ce1a1f",
   "metadata": {},
   "outputs": [],
   "source": [
    "#https://archive.ics.uci.edu/ml/machine-learning-databases/00291/\n",
    "#UCI'dan indirdim airfoil_self_noise.dat"
   ]
  },
  {
   "cell_type": "code",
   "execution_count": 5,
   "id": "7153b1db",
   "metadata": {},
   "outputs": [],
   "source": [
    "dfairfoil = pd.read_csv('airfoil_self_noise.dat', sep='\\t', header=None)"
   ]
  },
  {
   "cell_type": "code",
   "execution_count": 7,
   "id": "1e7cb2f0",
   "metadata": {},
   "outputs": [
    {
     "data": {
      "text/html": [
       "<div>\n",
       "<style scoped>\n",
       "    .dataframe tbody tr th:only-of-type {\n",
       "        vertical-align: middle;\n",
       "    }\n",
       "\n",
       "    .dataframe tbody tr th {\n",
       "        vertical-align: top;\n",
       "    }\n",
       "\n",
       "    .dataframe thead th {\n",
       "        text-align: right;\n",
       "    }\n",
       "</style>\n",
       "<table border=\"1\" class=\"dataframe\">\n",
       "  <thead>\n",
       "    <tr style=\"text-align: right;\">\n",
       "      <th></th>\n",
       "      <th>0</th>\n",
       "      <th>1</th>\n",
       "      <th>2</th>\n",
       "      <th>3</th>\n",
       "      <th>4</th>\n",
       "      <th>5</th>\n",
       "    </tr>\n",
       "  </thead>\n",
       "  <tbody>\n",
       "    <tr>\n",
       "      <th>0</th>\n",
       "      <td>800</td>\n",
       "      <td>0.0</td>\n",
       "      <td>0.3048</td>\n",
       "      <td>71.3</td>\n",
       "      <td>0.002663</td>\n",
       "      <td>126.201</td>\n",
       "    </tr>\n",
       "    <tr>\n",
       "      <th>1</th>\n",
       "      <td>1000</td>\n",
       "      <td>0.0</td>\n",
       "      <td>0.3048</td>\n",
       "      <td>71.3</td>\n",
       "      <td>0.002663</td>\n",
       "      <td>125.201</td>\n",
       "    </tr>\n",
       "    <tr>\n",
       "      <th>2</th>\n",
       "      <td>1250</td>\n",
       "      <td>0.0</td>\n",
       "      <td>0.3048</td>\n",
       "      <td>71.3</td>\n",
       "      <td>0.002663</td>\n",
       "      <td>125.951</td>\n",
       "    </tr>\n",
       "    <tr>\n",
       "      <th>3</th>\n",
       "      <td>1600</td>\n",
       "      <td>0.0</td>\n",
       "      <td>0.3048</td>\n",
       "      <td>71.3</td>\n",
       "      <td>0.002663</td>\n",
       "      <td>127.591</td>\n",
       "    </tr>\n",
       "    <tr>\n",
       "      <th>4</th>\n",
       "      <td>2000</td>\n",
       "      <td>0.0</td>\n",
       "      <td>0.3048</td>\n",
       "      <td>71.3</td>\n",
       "      <td>0.002663</td>\n",
       "      <td>127.461</td>\n",
       "    </tr>\n",
       "  </tbody>\n",
       "</table>\n",
       "</div>"
      ],
      "text/plain": [
       "      0    1       2     3         4        5\n",
       "0   800  0.0  0.3048  71.3  0.002663  126.201\n",
       "1  1000  0.0  0.3048  71.3  0.002663  125.201\n",
       "2  1250  0.0  0.3048  71.3  0.002663  125.951\n",
       "3  1600  0.0  0.3048  71.3  0.002663  127.591\n",
       "4  2000  0.0  0.3048  71.3  0.002663  127.461"
      ]
     },
     "execution_count": 7,
     "metadata": {},
     "output_type": "execute_result"
    }
   ],
   "source": [
    "dfairfoil.head()"
   ]
  },
  {
   "cell_type": "code",
   "execution_count": 8,
   "id": "8e925ca4",
   "metadata": {},
   "outputs": [
    {
     "data": {
      "text/html": [
       "<div>\n",
       "<style scoped>\n",
       "    .dataframe tbody tr th:only-of-type {\n",
       "        vertical-align: middle;\n",
       "    }\n",
       "\n",
       "    .dataframe tbody tr th {\n",
       "        vertical-align: top;\n",
       "    }\n",
       "\n",
       "    .dataframe thead th {\n",
       "        text-align: right;\n",
       "    }\n",
       "</style>\n",
       "<table border=\"1\" class=\"dataframe\">\n",
       "  <thead>\n",
       "    <tr style=\"text-align: right;\">\n",
       "      <th></th>\n",
       "      <th>0</th>\n",
       "      <th>1</th>\n",
       "      <th>2</th>\n",
       "      <th>3</th>\n",
       "      <th>4</th>\n",
       "      <th>5</th>\n",
       "    </tr>\n",
       "  </thead>\n",
       "  <tbody>\n",
       "    <tr>\n",
       "      <th>1498</th>\n",
       "      <td>2500</td>\n",
       "      <td>15.6</td>\n",
       "      <td>0.1016</td>\n",
       "      <td>39.6</td>\n",
       "      <td>0.052849</td>\n",
       "      <td>110.264</td>\n",
       "    </tr>\n",
       "    <tr>\n",
       "      <th>1499</th>\n",
       "      <td>3150</td>\n",
       "      <td>15.6</td>\n",
       "      <td>0.1016</td>\n",
       "      <td>39.6</td>\n",
       "      <td>0.052849</td>\n",
       "      <td>109.254</td>\n",
       "    </tr>\n",
       "    <tr>\n",
       "      <th>1500</th>\n",
       "      <td>4000</td>\n",
       "      <td>15.6</td>\n",
       "      <td>0.1016</td>\n",
       "      <td>39.6</td>\n",
       "      <td>0.052849</td>\n",
       "      <td>106.604</td>\n",
       "    </tr>\n",
       "    <tr>\n",
       "      <th>1501</th>\n",
       "      <td>5000</td>\n",
       "      <td>15.6</td>\n",
       "      <td>0.1016</td>\n",
       "      <td>39.6</td>\n",
       "      <td>0.052849</td>\n",
       "      <td>106.224</td>\n",
       "    </tr>\n",
       "    <tr>\n",
       "      <th>1502</th>\n",
       "      <td>6300</td>\n",
       "      <td>15.6</td>\n",
       "      <td>0.1016</td>\n",
       "      <td>39.6</td>\n",
       "      <td>0.052849</td>\n",
       "      <td>104.204</td>\n",
       "    </tr>\n",
       "  </tbody>\n",
       "</table>\n",
       "</div>"
      ],
      "text/plain": [
       "         0     1       2     3         4        5\n",
       "1498  2500  15.6  0.1016  39.6  0.052849  110.264\n",
       "1499  3150  15.6  0.1016  39.6  0.052849  109.254\n",
       "1500  4000  15.6  0.1016  39.6  0.052849  106.604\n",
       "1501  5000  15.6  0.1016  39.6  0.052849  106.224\n",
       "1502  6300  15.6  0.1016  39.6  0.052849  104.204"
      ]
     },
     "execution_count": 8,
     "metadata": {},
     "output_type": "execute_result"
    }
   ],
   "source": [
    "dfairfoil.tail()"
   ]
  },
  {
   "cell_type": "code",
   "execution_count": 10,
   "id": "940a0c9d",
   "metadata": {},
   "outputs": [
    {
     "name": "stdout",
     "output_type": "stream",
     "text": [
      "<class 'pandas.core.frame.DataFrame'>\n",
      "RangeIndex: 1503 entries, 0 to 1502\n",
      "Data columns (total 6 columns):\n",
      " #   Column  Non-Null Count  Dtype  \n",
      "---  ------  --------------  -----  \n",
      " 0   0       1503 non-null   int64  \n",
      " 1   1       1503 non-null   float64\n",
      " 2   2       1503 non-null   float64\n",
      " 3   3       1503 non-null   float64\n",
      " 4   4       1503 non-null   float64\n",
      " 5   5       1503 non-null   float64\n",
      "dtypes: float64(5), int64(1)\n",
      "memory usage: 70.6 KB\n"
     ]
    }
   ],
   "source": [
    "dfairfoil.info()"
   ]
  },
  {
   "cell_type": "code",
   "execution_count": 12,
   "id": "ed871410",
   "metadata": {},
   "outputs": [
    {
     "data": {
      "text/plain": [
       "Int64Index([0, 1, 2, 3, 4, 5], dtype='int64')"
      ]
     },
     "execution_count": 12,
     "metadata": {},
     "output_type": "execute_result"
    }
   ],
   "source": [
    "dfairfoil.columns"
   ]
  },
  {
   "cell_type": "code",
   "execution_count": 15,
   "id": "5018cc11",
   "metadata": {},
   "outputs": [
    {
     "data": {
      "text/html": [
       "<div>\n",
       "<style scoped>\n",
       "    .dataframe tbody tr th:only-of-type {\n",
       "        vertical-align: middle;\n",
       "    }\n",
       "\n",
       "    .dataframe tbody tr th {\n",
       "        vertical-align: top;\n",
       "    }\n",
       "\n",
       "    .dataframe thead th {\n",
       "        text-align: right;\n",
       "    }\n",
       "</style>\n",
       "<table border=\"1\" class=\"dataframe\">\n",
       "  <thead>\n",
       "    <tr style=\"text-align: right;\">\n",
       "      <th></th>\n",
       "      <th>0</th>\n",
       "      <th>1</th>\n",
       "      <th>2</th>\n",
       "      <th>3</th>\n",
       "      <th>4</th>\n",
       "      <th>5</th>\n",
       "    </tr>\n",
       "  </thead>\n",
       "  <tbody>\n",
       "    <tr>\n",
       "      <th>count</th>\n",
       "      <td>1503.000000</td>\n",
       "      <td>1503.000000</td>\n",
       "      <td>1503.000000</td>\n",
       "      <td>1503.000000</td>\n",
       "      <td>1503.000000</td>\n",
       "      <td>1503.000000</td>\n",
       "    </tr>\n",
       "    <tr>\n",
       "      <th>mean</th>\n",
       "      <td>2886.380572</td>\n",
       "      <td>6.782302</td>\n",
       "      <td>0.136548</td>\n",
       "      <td>50.860745</td>\n",
       "      <td>0.011140</td>\n",
       "      <td>124.835943</td>\n",
       "    </tr>\n",
       "    <tr>\n",
       "      <th>std</th>\n",
       "      <td>3152.573137</td>\n",
       "      <td>5.918128</td>\n",
       "      <td>0.093541</td>\n",
       "      <td>15.572784</td>\n",
       "      <td>0.013150</td>\n",
       "      <td>6.898657</td>\n",
       "    </tr>\n",
       "    <tr>\n",
       "      <th>min</th>\n",
       "      <td>200.000000</td>\n",
       "      <td>0.000000</td>\n",
       "      <td>0.025400</td>\n",
       "      <td>31.700000</td>\n",
       "      <td>0.000401</td>\n",
       "      <td>103.380000</td>\n",
       "    </tr>\n",
       "    <tr>\n",
       "      <th>25%</th>\n",
       "      <td>800.000000</td>\n",
       "      <td>2.000000</td>\n",
       "      <td>0.050800</td>\n",
       "      <td>39.600000</td>\n",
       "      <td>0.002535</td>\n",
       "      <td>120.191000</td>\n",
       "    </tr>\n",
       "    <tr>\n",
       "      <th>50%</th>\n",
       "      <td>1600.000000</td>\n",
       "      <td>5.400000</td>\n",
       "      <td>0.101600</td>\n",
       "      <td>39.600000</td>\n",
       "      <td>0.004957</td>\n",
       "      <td>125.721000</td>\n",
       "    </tr>\n",
       "    <tr>\n",
       "      <th>75%</th>\n",
       "      <td>4000.000000</td>\n",
       "      <td>9.900000</td>\n",
       "      <td>0.228600</td>\n",
       "      <td>71.300000</td>\n",
       "      <td>0.015576</td>\n",
       "      <td>129.995500</td>\n",
       "    </tr>\n",
       "    <tr>\n",
       "      <th>max</th>\n",
       "      <td>20000.000000</td>\n",
       "      <td>22.200000</td>\n",
       "      <td>0.304800</td>\n",
       "      <td>71.300000</td>\n",
       "      <td>0.058411</td>\n",
       "      <td>140.987000</td>\n",
       "    </tr>\n",
       "  </tbody>\n",
       "</table>\n",
       "</div>"
      ],
      "text/plain": [
       "                  0            1            2            3            4  \\\n",
       "count   1503.000000  1503.000000  1503.000000  1503.000000  1503.000000   \n",
       "mean    2886.380572     6.782302     0.136548    50.860745     0.011140   \n",
       "std     3152.573137     5.918128     0.093541    15.572784     0.013150   \n",
       "min      200.000000     0.000000     0.025400    31.700000     0.000401   \n",
       "25%      800.000000     2.000000     0.050800    39.600000     0.002535   \n",
       "50%     1600.000000     5.400000     0.101600    39.600000     0.004957   \n",
       "75%     4000.000000     9.900000     0.228600    71.300000     0.015576   \n",
       "max    20000.000000    22.200000     0.304800    71.300000     0.058411   \n",
       "\n",
       "                 5  \n",
       "count  1503.000000  \n",
       "mean    124.835943  \n",
       "std       6.898657  \n",
       "min     103.380000  \n",
       "25%     120.191000  \n",
       "50%     125.721000  \n",
       "75%     129.995500  \n",
       "max     140.987000  "
      ]
     },
     "execution_count": 15,
     "metadata": {},
     "output_type": "execute_result"
    }
   ],
   "source": [
    "dfairfoil.describe()"
   ]
  },
  {
   "cell_type": "code",
   "execution_count": 16,
   "id": "a551f700",
   "metadata": {},
   "outputs": [
    {
     "data": {
      "text/plain": [
       "0      int64\n",
       "1    float64\n",
       "2    float64\n",
       "3    float64\n",
       "4    float64\n",
       "5    float64\n",
       "dtype: object"
      ]
     },
     "execution_count": 16,
     "metadata": {},
     "output_type": "execute_result"
    }
   ],
   "source": [
    "dfairfoil.dtypes"
   ]
  },
  {
   "cell_type": "code",
   "execution_count": 19,
   "id": "47aa6e2f",
   "metadata": {},
   "outputs": [
    {
     "data": {
      "text/plain": [
       "0      1    2       3     4         5      \n",
       "200    0.0  0.3048  31.7  0.003313  117.195    1\n",
       "3150   0.0  0.3048  71.3  0.002663  125.201    1\n",
       "       3.0  0.3048  31.7  0.005295  118.108    1\n",
       "       2.7  0.1524  71.3  0.002439  127.054    1\n",
       "                    39.6  0.002948  122.919    1\n",
       "                                              ..\n",
       "1000   3.3  0.1016  55.5  0.002211  131.129    1\n",
       "                    39.6  0.002451  131.971    1\n",
       "                    31.7  0.002514  133.012    1\n",
       "       3.0  0.3048  71.3  0.004257  129.004    1\n",
       "20000  4.8  0.0254  71.3  0.000849  119.708    1\n",
       "Length: 1503, dtype: int64"
      ]
     },
     "execution_count": 19,
     "metadata": {},
     "output_type": "execute_result"
    }
   ],
   "source": [
    "dfairfoil.value_counts()"
   ]
  },
  {
   "cell_type": "code",
   "execution_count": 20,
   "id": "9242587d",
   "metadata": {},
   "outputs": [
    {
     "data": {
      "text/plain": [
       "array([[8.00000e+02, 0.00000e+00, 3.04800e-01, 7.13000e+01, 2.66337e-03,\n",
       "        1.26201e+02],\n",
       "       [1.00000e+03, 0.00000e+00, 3.04800e-01, 7.13000e+01, 2.66337e-03,\n",
       "        1.25201e+02],\n",
       "       [1.25000e+03, 0.00000e+00, 3.04800e-01, 7.13000e+01, 2.66337e-03,\n",
       "        1.25951e+02],\n",
       "       ...,\n",
       "       [4.00000e+03, 1.56000e+01, 1.01600e-01, 3.96000e+01, 5.28487e-02,\n",
       "        1.06604e+02],\n",
       "       [5.00000e+03, 1.56000e+01, 1.01600e-01, 3.96000e+01, 5.28487e-02,\n",
       "        1.06224e+02],\n",
       "       [6.30000e+03, 1.56000e+01, 1.01600e-01, 3.96000e+01, 5.28487e-02,\n",
       "        1.04204e+02]])"
      ]
     },
     "execution_count": 20,
     "metadata": {},
     "output_type": "execute_result"
    }
   ],
   "source": [
    "dfairfoil.values"
   ]
  },
  {
   "cell_type": "code",
   "execution_count": 21,
   "id": "7e102517",
   "metadata": {},
   "outputs": [],
   "source": [
    "# get the inputs\n",
    "data = dfairfoil[[0,1,2,3,4]].values"
   ]
  },
  {
   "cell_type": "code",
   "execution_count": 22,
   "id": "9bc3db40",
   "metadata": {},
   "outputs": [],
   "source": [
    "# get the outputs\n",
    "target = dfairfoil[5].values\n",
    "# tiny update: pandas is moving from .as_matrix() to the equivalent .values"
   ]
  },
  {
   "cell_type": "code",
   "execution_count": 23,
   "id": "4efe7808",
   "metadata": {},
   "outputs": [],
   "source": [
    "from sklearn.model_selection import train_test_split"
   ]
  },
  {
   "cell_type": "code",
   "execution_count": 25,
   "id": "7e0e5ed0",
   "metadata": {},
   "outputs": [],
   "source": [
    "X_train, X_test, y_train, y_test = train_test_split(data, target, test_size=0.33)"
   ]
  },
  {
   "cell_type": "code",
   "execution_count": 26,
   "id": "09762dd5",
   "metadata": {},
   "outputs": [],
   "source": [
    "from sklearn.linear_model import LinearRegression"
   ]
  },
  {
   "cell_type": "code",
   "execution_count": 28,
   "id": "faec2029",
   "metadata": {},
   "outputs": [
    {
     "data": {
      "text/plain": [
       "LinearRegression()"
      ]
     },
     "execution_count": 28,
     "metadata": {},
     "output_type": "execute_result"
    }
   ],
   "source": [
    "modellr = LinearRegression()\n",
    "modellr.fit(X_train, y_train)"
   ]
  },
  {
   "cell_type": "code",
   "execution_count": 29,
   "id": "5a03bb91",
   "metadata": {},
   "outputs": [
    {
     "name": "stdout",
     "output_type": "stream",
     "text": [
      "0.49945086259355886\n"
     ]
    }
   ],
   "source": [
    "# evaluate the model's performance\n",
    "print(modellr.score(X_train, y_train))"
   ]
  },
  {
   "cell_type": "code",
   "execution_count": 30,
   "id": "ddb96ca3",
   "metadata": {},
   "outputs": [
    {
     "name": "stdout",
     "output_type": "stream",
     "text": [
      "0.5436982926610185\n"
     ]
    }
   ],
   "source": [
    "print(modellr.score(X_test, y_test))"
   ]
  },
  {
   "cell_type": "code",
   "execution_count": 31,
   "id": "285d0d07",
   "metadata": {},
   "outputs": [],
   "source": [
    "# how you can make predictions\n",
    "predictions = modellr.predict(X_test)"
   ]
  },
  {
   "cell_type": "code",
   "execution_count": 32,
   "id": "5d719a7e",
   "metadata": {},
   "outputs": [
    {
     "data": {
      "text/plain": [
       "array([120.58013986, 123.7819533 , 125.67544247, 116.80013154,\n",
       "       118.54016609, 134.73944789, 128.63015412, 129.74374138,\n",
       "       121.86715977, 123.84726282, 125.67599805, 133.29537026,\n",
       "       122.63660218, 123.20785703, 116.74716991, 122.28569164,\n",
       "       124.9150689 , 117.2038917 , 128.81962028, 125.90042379,\n",
       "       129.43685961, 111.3458272 , 129.61521638, 127.14154082,\n",
       "       121.35037961, 123.53427796, 120.84780288, 124.70415409,\n",
       "       128.58852369, 128.15364766, 118.33550781, 124.76188262,\n",
       "       120.56054824, 124.74942984, 127.15842569, 117.37458364,\n",
       "       126.40925272, 122.7951374 , 126.21191001, 124.25454985,\n",
       "       131.88417526, 119.6441412 , 117.98956482, 129.74808939,\n",
       "       123.3615922 , 131.28554447, 127.86871759, 131.43224986,\n",
       "       131.84964233, 123.15458069, 125.57287305, 128.75154547,\n",
       "       111.2079551 , 128.96142939, 120.70521137, 130.65925712,\n",
       "       125.74869936, 123.72347609, 124.77335044, 115.79438256,\n",
       "       126.11578043, 120.20069366, 128.044565  , 124.93196065,\n",
       "       122.97677824, 128.77574927, 122.40066803, 130.2897298 ,\n",
       "       121.32264074, 117.63426302, 121.43016462, 123.71003083,\n",
       "       118.7674515 , 122.04122474, 127.68933098, 121.02123576,\n",
       "       121.40705136, 129.34733898, 126.87239209, 127.43073547,\n",
       "       130.24042704, 118.02063041, 121.70003172, 128.46777793,\n",
       "       127.30488856, 120.55178479, 124.20710733, 125.31077539,\n",
       "       114.79765294, 123.29355662, 130.02902337, 121.97899088,\n",
       "       126.55439613, 128.19135973, 128.92700266, 122.83287534,\n",
       "       119.69914767, 133.77564487, 128.64532056, 124.0241611 ,\n",
       "       135.22845757, 122.48100713, 123.37970941, 129.77336808,\n",
       "       124.40142662, 126.06069203, 132.38327499, 118.51408025,\n",
       "       125.19972791, 127.18403772, 121.50550959, 119.33286706,\n",
       "       122.77306752, 131.39290178, 124.03499228, 127.31935073,\n",
       "       127.27983015, 115.92959758, 117.6533633 , 118.80630354,\n",
       "       123.41695907, 131.42280438, 121.53861631, 122.30157376,\n",
       "       132.66638104, 124.81998435, 117.6010972 , 123.0540722 ,\n",
       "       118.06709766, 120.41801019, 123.20189045, 126.38450422,\n",
       "       124.97330922, 125.36456677, 120.91035576, 125.92751662,\n",
       "       122.13234129, 128.8170804 , 126.47762583, 129.57254495,\n",
       "       130.40377478, 128.43910798, 123.10920558, 118.63110474,\n",
       "       127.06087026, 126.71458785, 123.17203164, 121.18846967,\n",
       "       121.67453129, 114.00226636, 121.40510187, 120.77684132,\n",
       "       125.62490567, 119.95462171, 129.32996898, 120.42749833,\n",
       "       128.17017152, 131.31439275, 128.98161298, 110.60756813,\n",
       "       124.78717018, 125.42413825, 122.10507111, 123.04644162,\n",
       "       123.26138498, 134.28811622, 121.3326383 , 122.21112742,\n",
       "       122.67901735, 122.83722336, 122.22379008, 124.35609532,\n",
       "       114.31621579, 126.91186116, 130.99204673, 109.07105083,\n",
       "       120.5244759 , 131.97708002, 131.17150016, 125.29848614,\n",
       "       126.03408565, 123.77316607, 125.51107095, 128.45225899,\n",
       "       123.54905006, 124.60755143, 127.07527102, 130.00679049,\n",
       "       123.81476747, 124.90915338, 127.12369631, 131.41919572,\n",
       "       130.96344641, 130.28832673, 118.64889096, 119.02557411,\n",
       "       129.02808889, 125.46064141, 131.94003198, 120.90005119,\n",
       "       118.59315178, 122.1911119 , 125.58105608, 122.59057361,\n",
       "       130.3121941 , 128.14621493, 127.15170745, 121.93973827,\n",
       "       131.11811959, 126.58339224, 115.99515137, 126.89721633,\n",
       "       116.79098495, 123.11595242, 122.15021063, 125.5435663 ,\n",
       "       128.57587183, 122.88776018, 133.27175831, 131.90945395,\n",
       "       119.57243311, 123.94320681, 122.69737791, 117.12582425,\n",
       "       123.66680326, 131.68421648, 130.4310901 , 122.71639383,\n",
       "       125.21204968, 119.56801521, 125.17628879, 133.67140495,\n",
       "       125.16637312, 130.50939893, 116.52127397, 131.16677485,\n",
       "       123.64159545, 128.6185022 , 122.4676639 , 124.72557182,\n",
       "       130.37925043, 132.81508547, 131.50850073, 127.21134661,\n",
       "       128.11110326, 123.41370449, 130.80804642, 126.06044486,\n",
       "       130.72697547, 131.12329327, 132.98929653, 126.51837943,\n",
       "       131.89157213, 127.83697695, 111.92647138, 122.35604039,\n",
       "       117.90466752, 114.34925784, 128.40354508, 123.02301766,\n",
       "       125.02937798, 123.5653883 , 129.48869927, 123.24247281,\n",
       "       122.44499077, 130.05086419, 112.60234829, 123.40588491,\n",
       "       118.11827611, 127.77156779, 128.51899314, 122.63172756,\n",
       "       128.22646862, 120.83161219, 120.90497635, 126.96582266,\n",
       "       120.25459781, 124.14263863, 125.8746344 , 129.47158802,\n",
       "       127.70467522, 128.13812871, 132.4244126 , 120.37695491,\n",
       "       126.58299628, 125.52247356, 130.86747777, 127.80915465,\n",
       "       121.50293906, 122.49930023, 124.95803297, 126.51148817,\n",
       "       118.38839003, 124.50982625, 124.42963514, 122.60739662,\n",
       "       124.0356931 , 117.33923303, 124.2643023 , 121.02814554,\n",
       "       121.89965512, 130.94918131, 123.65585436, 119.37482101,\n",
       "       131.1792932 , 121.83666096, 120.34945985, 127.93795038,\n",
       "       123.31466133, 121.08043294, 122.13377014, 115.90265673,\n",
       "       127.33495159, 126.6228613 , 124.79079905, 132.71541537,\n",
       "       131.78754494, 131.47447158, 122.61692211, 118.41569892,\n",
       "       133.78345831, 121.45963588, 126.22403977, 127.86330775,\n",
       "       118.28100006, 123.45642814, 125.29925607, 121.4129021 ,\n",
       "       122.76764   , 128.09839381, 125.10354706, 129.57616211,\n",
       "       130.75871612, 123.46782303, 119.77034889, 122.78544394,\n",
       "       128.45858788, 127.9180479 , 124.149304  , 121.55913866,\n",
       "       125.92613558, 126.11847943, 125.76851626, 125.44344524,\n",
       "       122.65197225, 127.36937227, 131.8589781 , 124.35987594,\n",
       "       130.12638206, 132.29015338, 125.21734694, 125.80659882,\n",
       "       123.79444145, 124.01855178, 127.38245972, 120.15225388,\n",
       "       121.4223028 , 126.21197941, 125.755515  , 131.60712332,\n",
       "       128.67282555, 121.94536936, 122.78830008, 125.22943603,\n",
       "       116.37191159, 121.88838443, 121.85534237, 124.73683227,\n",
       "       127.88478523, 130.05413377, 131.63287104, 128.58402411,\n",
       "       127.51598118, 127.53661371, 125.66729631, 125.9095339 ,\n",
       "       124.88487805, 128.35335243, 130.8676029 , 122.24884043,\n",
       "       132.9822969 , 121.54735836, 121.13186411, 131.26331158,\n",
       "       125.92271535, 129.21815106, 129.44534094, 126.37646401,\n",
       "       125.83483088, 129.31308171, 126.22757703, 126.67662801,\n",
       "       116.83682439, 136.73628288, 125.90925194, 134.7330097 ,\n",
       "       133.48770339, 118.99807671, 122.03498604, 122.91885718,\n",
       "       133.29464159, 125.08104102, 130.49590938, 133.04792101,\n",
       "       124.96896121, 120.10117006, 111.08153019, 120.9678024 ,\n",
       "       124.34912255, 124.76678795, 122.67974816, 130.02681845,\n",
       "       121.15599799, 124.16115624, 128.68294695, 126.36249774,\n",
       "       126.78685253, 121.81706934, 115.47935403, 132.09778385,\n",
       "       125.46189243, 124.99433902, 125.84381822, 130.17572877,\n",
       "       126.24276404, 117.36230081, 132.73099268, 127.63333582,\n",
       "       122.65281907, 117.76905301, 126.28620827, 121.13369897,\n",
       "       117.96706323, 136.48497867, 125.29221419, 127.815164  ,\n",
       "       127.80525639, 130.06699437, 116.11215162, 129.49300169,\n",
       "       120.31983315, 124.99858791, 130.95646674, 125.11994291,\n",
       "       124.86195834, 116.13584877, 106.05544579, 127.60473702,\n",
       "       131.65814973, 123.08220492, 128.18033851, 130.70186204,\n",
       "       129.7620111 , 122.84046362, 112.68116287, 120.14863671,\n",
       "       130.91658728, 129.28671852, 128.40494816, 128.92350069,\n",
       "       116.3968422 , 129.07168509, 126.89482351, 113.67039123,\n",
       "       129.92249444, 132.43825427, 133.84833384, 130.41758751,\n",
       "       116.92152189, 130.53163181, 126.37881833, 126.06233373,\n",
       "       128.53635124, 122.39960558, 121.82621593, 121.44248639,\n",
       "       121.31934573, 131.62852302, 125.81147341, 126.64091598,\n",
       "       124.84186656, 120.79911684, 128.78765546, 131.252406  ,\n",
       "       122.84187783, 126.56747734, 128.54630845, 129.27708391,\n",
       "       123.34307205, 127.77668761, 129.59374056, 114.88779654,\n",
       "       118.91642679, 121.10836597, 125.12137597, 115.50725294])"
      ]
     },
     "execution_count": 32,
     "metadata": {},
     "output_type": "execute_result"
    }
   ],
   "source": [
    "# what did we get?\n",
    "predictions"
   ]
  },
  {
   "cell_type": "code",
   "execution_count": 33,
   "id": "ee9be6c1",
   "metadata": {},
   "outputs": [],
   "source": [
    "# we can even use random forest to solve the same problem!\n",
    "from sklearn.ensemble import RandomForestRegressor"
   ]
  },
  {
   "cell_type": "code",
   "execution_count": 34,
   "id": "ef71bd0b",
   "metadata": {},
   "outputs": [
    {
     "data": {
      "text/plain": [
       "RandomForestRegressor()"
      ]
     },
     "execution_count": 34,
     "metadata": {},
     "output_type": "execute_result"
    }
   ],
   "source": [
    "model2rfr = RandomForestRegressor()\n",
    "model2rfr.fit(X_train, y_train)"
   ]
  },
  {
   "cell_type": "code",
   "execution_count": 35,
   "id": "446c3b05",
   "metadata": {},
   "outputs": [
    {
     "name": "stdout",
     "output_type": "stream",
     "text": [
      "0.9888784690329122\n"
     ]
    }
   ],
   "source": [
    "# evaluate the model's performance\n",
    "print(model2rfr.score(X_train, y_train))"
   ]
  },
  {
   "cell_type": "code",
   "execution_count": 36,
   "id": "71d98f4d",
   "metadata": {},
   "outputs": [
    {
     "name": "stdout",
     "output_type": "stream",
     "text": [
      "0.9293897465182851\n"
     ]
    }
   ],
   "source": [
    "print(model2rfr.score(X_test, y_test))"
   ]
  },
  {
   "cell_type": "code",
   "execution_count": 37,
   "id": "35d58b47",
   "metadata": {},
   "outputs": [],
   "source": [
    "# we can even use deep learning to solve the same problem!\n",
    "from sklearn.neural_network import MLPRegressor"
   ]
  },
  {
   "cell_type": "code",
   "execution_count": 38,
   "id": "64657afc",
   "metadata": {},
   "outputs": [],
   "source": [
    "# you'll learn why scaling is needed in a later course\n",
    "from sklearn.preprocessing import StandardScaler"
   ]
  },
  {
   "cell_type": "code",
   "execution_count": 39,
   "id": "ad2c1930",
   "metadata": {},
   "outputs": [],
   "source": [
    "scaler = StandardScaler()\n",
    "X_train2 = scaler.fit_transform(X_train)\n",
    "X_test2 = scaler.transform(X_test)\n",
    "scaler2 = StandardScaler()\n",
    "y_train2 = scaler2.fit_transform(np.expand_dims(y_train, -1)).ravel()\n",
    "y_test2 = scaler2.fit_transform(np.expand_dims(y_test, -1)).ravel()"
   ]
  },
  {
   "cell_type": "code",
   "execution_count": 40,
   "id": "cde95a76",
   "metadata": {},
   "outputs": [
    {
     "data": {
      "text/plain": [
       "MLPRegressor(max_iter=500)"
      ]
     },
     "execution_count": 40,
     "metadata": {},
     "output_type": "execute_result"
    }
   ],
   "source": [
    "modelmlpr = MLPRegressor(max_iter=500)\n",
    "modelmlpr.fit(X_train2, y_train2)"
   ]
  },
  {
   "cell_type": "code",
   "execution_count": 43,
   "id": "4b6935ba",
   "metadata": {},
   "outputs": [
    {
     "name": "stdout",
     "output_type": "stream",
     "text": [
      "0.8520386741063505\n"
     ]
    }
   ],
   "source": [
    "# evaluate the model's performance\n",
    "print(modelmlpr.score(X_train2, y_train2))"
   ]
  },
  {
   "cell_type": "code",
   "execution_count": 44,
   "id": "eab7ef7f",
   "metadata": {},
   "outputs": [
    {
     "name": "stdout",
     "output_type": "stream",
     "text": [
      "0.8250068435340872\n"
     ]
    }
   ],
   "source": [
    "print(modelmlpr.score(X_test2, y_test2))\n",
    "# not as good as a random forest!\n",
    "# but not as bad as linear regression"
   ]
  },
  {
   "cell_type": "code",
   "execution_count": null,
   "id": "ede6b3ff",
   "metadata": {},
   "outputs": [],
   "source": []
  },
  {
   "cell_type": "code",
   "execution_count": null,
   "id": "a4c99319",
   "metadata": {},
   "outputs": [],
   "source": [
    "\n",
    "\n"
   ]
  }
 ],
 "metadata": {
  "kernelspec": {
   "display_name": "Python 3",
   "language": "python",
   "name": "python3"
  },
  "language_info": {
   "codemirror_mode": {
    "name": "ipython",
    "version": 3
   },
   "file_extension": ".py",
   "mimetype": "text/x-python",
   "name": "python",
   "nbconvert_exporter": "python",
   "pygments_lexer": "ipython3",
   "version": "3.7.7"
  }
 },
 "nbformat": 4,
 "nbformat_minor": 5
}
