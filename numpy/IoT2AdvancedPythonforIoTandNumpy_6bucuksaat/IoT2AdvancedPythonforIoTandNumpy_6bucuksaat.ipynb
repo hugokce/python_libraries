{
 "cells": [
  {
   "cell_type": "code",
   "execution_count": 1,
   "id": "3c732700",
   "metadata": {},
   "outputs": [],
   "source": [
    "#https://www.udemy.com/course/draft/1949346/learn/lecture/12033600?start=0#overview\n",
    "#6,5 saat"
   ]
  },
  {
   "cell_type": "code",
   "execution_count": 3,
   "id": "0c5c0cb3",
   "metadata": {},
   "outputs": [],
   "source": [
    "#math, datetime, statistics, numpy,scipy,pandas,matplotlib\n",
    "#Exception handling, Threading, sql, sqlite, tkinter"
   ]
  },
  {
   "cell_type": "code",
   "execution_count": 4,
   "id": "2c66b691",
   "metadata": {},
   "outputs": [],
   "source": [
    "#PYcharm indirildi"
   ]
  },
  {
   "cell_type": "code",
   "execution_count": 5,
   "id": "87399c8f",
   "metadata": {},
   "outputs": [
    {
     "data": {
      "text/plain": [
       "[8, 5, 6, 2, 5, 4, 1, 4, [4, 5, 6, 4, 5], 1, 2, 3]"
      ]
     },
     "execution_count": 5,
     "metadata": {},
     "output_type": "execute_result"
    }
   ],
   "source": [
    "lst=[8,5,6,2,5,4,1]\n",
    "lst.append(4)\n",
    "lst.append([4,5,6,4,5])\n",
    "lst.extend([1,2,3])\n",
    "lst"
   ]
  },
  {
   "cell_type": "code",
   "execution_count": 6,
   "id": "8bcd08ea",
   "metadata": {},
   "outputs": [
    {
     "data": {
      "text/plain": [
       "[8, 5, 15, 6, 2, 5, 4, 1, 4, [4, 5, 6, 4, 5], 1, 2, 3]"
      ]
     },
     "execution_count": 6,
     "metadata": {},
     "output_type": "execute_result"
    }
   ],
   "source": [
    "lst.insert(2,15)  #ikinci indexi 15 yap dedik\n",
    "lst"
   ]
  },
  {
   "cell_type": "code",
   "execution_count": 7,
   "id": "233cfca7",
   "metadata": {},
   "outputs": [
    {
     "data": {
      "text/plain": [
       "3"
      ]
     },
     "execution_count": 7,
     "metadata": {},
     "output_type": "execute_result"
    }
   ],
   "source": [
    "lst.pop()"
   ]
  },
  {
   "cell_type": "code",
   "execution_count": 8,
   "id": "831ef3f6",
   "metadata": {},
   "outputs": [
    {
     "data": {
      "text/plain": [
       "[8, 5, 15, 6, 2, 5, 4, 1, 4, [4, 5, 6, 4, 5], 1, 2]"
      ]
     },
     "execution_count": 8,
     "metadata": {},
     "output_type": "execute_result"
    }
   ],
   "source": [
    "lst"
   ]
  },
  {
   "cell_type": "code",
   "execution_count": 9,
   "id": "dbfd33bd",
   "metadata": {},
   "outputs": [
    {
     "data": {
      "text/plain": [
       "[8, 5, 15, 6, 2, 5, 4, 1, 4, 1, 2]"
      ]
     },
     "execution_count": 9,
     "metadata": {},
     "output_type": "execute_result"
    }
   ],
   "source": [
    "lst.pop(-3)  #dersek [4,5,6,4,5] silinecek\n",
    "lst"
   ]
  },
  {
   "cell_type": "code",
   "execution_count": 10,
   "id": "b45e3ec1",
   "metadata": {},
   "outputs": [
    {
     "data": {
      "text/plain": [
       "53"
      ]
     },
     "execution_count": 10,
     "metadata": {},
     "output_type": "execute_result"
    }
   ],
   "source": [
    "sum(lst)"
   ]
  },
  {
   "cell_type": "code",
   "execution_count": 11,
   "id": "4b85e912",
   "metadata": {},
   "outputs": [],
   "source": [
    "lst.sort()"
   ]
  },
  {
   "cell_type": "code",
   "execution_count": 12,
   "id": "4351c49c",
   "metadata": {},
   "outputs": [
    {
     "data": {
      "text/plain": [
       "[1, 1, 2, 2, 4, 4, 5, 5, 6, 8, 15]"
      ]
     },
     "execution_count": 12,
     "metadata": {},
     "output_type": "execute_result"
    }
   ],
   "source": [
    "lst"
   ]
  },
  {
   "cell_type": "code",
   "execution_count": 13,
   "id": "de92f039",
   "metadata": {},
   "outputs": [],
   "source": [
    "lst.reverse()"
   ]
  },
  {
   "cell_type": "code",
   "execution_count": 14,
   "id": "13f8ebab",
   "metadata": {},
   "outputs": [
    {
     "data": {
      "text/plain": [
       "[15, 8, 6, 5, 5, 4, 4, 2, 2, 1, 1]"
      ]
     },
     "execution_count": 14,
     "metadata": {},
     "output_type": "execute_result"
    }
   ],
   "source": [
    "lst"
   ]
  },
  {
   "cell_type": "code",
   "execution_count": 15,
   "id": "c79d7dd6",
   "metadata": {},
   "outputs": [
    {
     "data": {
      "text/plain": [
       "[225, 64, 36, 25, 25, 16, 16, 4, 4, 1, 1]"
      ]
     },
     "execution_count": 15,
     "metadata": {},
     "output_type": "execute_result"
    }
   ],
   "source": [
    "sqlist=[e**2 for e in lst]\n",
    "sqlist"
   ]
  },
  {
   "cell_type": "code",
   "execution_count": 16,
   "id": "51547de6",
   "metadata": {},
   "outputs": [
    {
     "data": {
      "text/plain": [
       "[68.0, 71.6, 73.4, 75.2, 77.0, 78.08, 80.06, 77.0, 75.2]"
      ]
     },
     "execution_count": 16,
     "metadata": {},
     "output_type": "execute_result"
    }
   ],
   "source": [
    "temp=[20,22,23,24,25,25.6,26.7,25,24]\n",
    "F=[e*9/5+32 for e in temp]\n",
    "F"
   ]
  },
  {
   "cell_type": "code",
   "execution_count": 17,
   "id": "9d7d91b5",
   "metadata": {},
   "outputs": [
    {
     "data": {
      "text/plain": [
       "3"
      ]
     },
     "execution_count": 17,
     "metadata": {},
     "output_type": "execute_result"
    }
   ],
   "source": [
    "t=[5,1,2,4,5,2,1]\n",
    "t.index(4)"
   ]
  },
  {
   "cell_type": "code",
   "execution_count": 18,
   "id": "4c1b208c",
   "metadata": {},
   "outputs": [
    {
     "data": {
      "text/plain": [
       "5"
      ]
     },
     "execution_count": 18,
     "metadata": {},
     "output_type": "execute_result"
    }
   ],
   "source": [
    "t[0]"
   ]
  },
  {
   "cell_type": "code",
   "execution_count": 19,
   "id": "d5b38ba1",
   "metadata": {},
   "outputs": [],
   "source": [
    "#set objeleri index ile data almamızı desteklemez"
   ]
  },
  {
   "cell_type": "code",
   "execution_count": 20,
   "id": "753f41c7",
   "metadata": {},
   "outputs": [
    {
     "name": "stdout",
     "output_type": "stream",
     "text": [
      "An object of class IotDevices has been created\n"
     ]
    }
   ],
   "source": [
    "class IotDevices:\n",
    "    def __init__(self):\n",
    "        print(\"An object of class IotDevices has been created\")\n",
    "        \n",
    "Raspi=IotDevices()    "
   ]
  },
  {
   "cell_type": "code",
   "execution_count": 21,
   "id": "1d504dbb",
   "metadata": {},
   "outputs": [
    {
     "ename": "TypeError",
     "evalue": "__init__() takes 1 positional argument but 4 were given",
     "output_type": "error",
     "traceback": [
      "\u001b[1;31m---------------------------------------------------------------------------\u001b[0m",
      "\u001b[1;31mTypeError\u001b[0m                                 Traceback (most recent call last)",
      "\u001b[1;32m<ipython-input-21-48fabaf6af14>\u001b[0m in \u001b[0;36m<module>\u001b[1;34m\u001b[0m\n\u001b[1;32m----> 1\u001b[1;33m \u001b[0mRaspi\u001b[0m\u001b[1;33m=\u001b[0m\u001b[0mIotDevices\u001b[0m\u001b[1;33m(\u001b[0m\u001b[1;34m\"Raspi\"\u001b[0m\u001b[1;33m,\u001b[0m\u001b[1;34m\"Controller\"\u001b[0m\u001b[1;33m,\u001b[0m\u001b[1;36m3500\u001b[0m\u001b[1;33m)\u001b[0m\u001b[1;33m\u001b[0m\u001b[1;33m\u001b[0m\u001b[0m\n\u001b[0m",
      "\u001b[1;31mTypeError\u001b[0m: __init__() takes 1 positional argument but 4 were given"
     ]
    }
   ],
   "source": [
    "Raspi=IotDevices(\"Raspi\",\"Controller\",3500)   "
   ]
  },
  {
   "cell_type": "code",
   "execution_count": 23,
   "id": "e1f8b034",
   "metadata": {},
   "outputs": [
    {
     "name": "stdout",
     "output_type": "stream",
     "text": [
      "An object of class IotDevices has been created\n"
     ]
    }
   ],
   "source": [
    "class IotDevices:\n",
    "    def __init__(self,name,type,cost):\n",
    "        print(\"An object of class IotDevices has been created\")\n",
    "        self.name=name\n",
    "        self.type=type\n",
    "        self.cost=cost\n",
    "Raspi=IotDevices(\"Raspi\",\"Controller\",3500)   "
   ]
  },
  {
   "cell_type": "code",
   "execution_count": 24,
   "id": "13a07730",
   "metadata": {},
   "outputs": [
    {
     "name": "stdout",
     "output_type": "stream",
     "text": [
      "The device name is  Raspi\n",
      "Type is  Controller\n",
      "Cost 3500\n"
     ]
    }
   ],
   "source": [
    "print(\"The device name is \",Raspi.name)\n",
    "print(\"Type is \",Raspi.type)\n",
    "print(\"Cost\",Raspi.cost)"
   ]
  },
  {
   "cell_type": "code",
   "execution_count": 25,
   "id": "acfdec42",
   "metadata": {},
   "outputs": [
    {
     "name": "stdout",
     "output_type": "stream",
     "text": [
      "An object of class IotDevices has been created\n",
      "The device name is  Raspi\n",
      "Type is  Controller\n",
      "Cost 3500\n"
     ]
    }
   ],
   "source": [
    "device1=IotDevices(\"Raspi\",\"Controller\",3500) \n",
    "print(\"The device name is \",device1.name)\n",
    "print(\"Type is \",device1.type)\n",
    "print(\"Cost\",device1.cost)"
   ]
  },
  {
   "cell_type": "code",
   "execution_count": 26,
   "id": "18a90294",
   "metadata": {},
   "outputs": [
    {
     "name": "stdout",
     "output_type": "stream",
     "text": [
      "An object of class IotDevices has been created\n",
      "DMM 500\n"
     ]
    }
   ],
   "source": [
    "device2=IotDevices(\"DMM\",\"Equipment\",500) \n",
    "print(device2.name,device2.cost)"
   ]
  },
  {
   "cell_type": "code",
   "execution_count": 30,
   "id": "6c6017c1",
   "metadata": {},
   "outputs": [],
   "source": [
    "class IotDevices:\n",
    "    def __init__(self,name,type,cost):\n",
    "        print(\"An object of class IotDevices has been created\")\n",
    "        self.name=name\n",
    "        self.type=type\n",
    "        self.cost=cost\n",
    "\n",
    "    def printDetails(self):\n",
    "        print(\"The name of the device is \",self.name)\n",
    "        print(\"It is of type\",self.type)\n",
    "        print(\"Cost\",self.cost)"
   ]
  },
  {
   "cell_type": "code",
   "execution_count": 32,
   "id": "aedff754",
   "metadata": {},
   "outputs": [
    {
     "name": "stdout",
     "output_type": "stream",
     "text": [
      "An object of class IotDevices has been created\n",
      "An object of class IotDevices has been created\n"
     ]
    }
   ],
   "source": [
    "device1=IotDevices(\"Raspi\",\"Controller\",3500) \n",
    "device2=IotDevices(\"DMM\",\"Equipment\",500) "
   ]
  },
  {
   "cell_type": "code",
   "execution_count": 33,
   "id": "a6fc979b",
   "metadata": {},
   "outputs": [
    {
     "name": "stdout",
     "output_type": "stream",
     "text": [
      "The name of the device is  Raspi\n",
      "It is of type Controller\n",
      "Cost 3500\n",
      "The name of the device is  DMM\n",
      "It is of type Equipment\n",
      "Cost 500\n"
     ]
    }
   ],
   "source": [
    "device1.printDetails()\n",
    "device2.printDetails()"
   ]
  },
  {
   "cell_type": "code",
   "execution_count": 38,
   "id": "e8033ae1",
   "metadata": {},
   "outputs": [],
   "source": [
    "class IotDevices:\n",
    "    __count=0\n",
    "    def __init__(self,name,type,cost):\n",
    "        print(\"An object of class IotDevices has been created\")\n",
    "        self.name=name\n",
    "        self.type=type\n",
    "        self.cost=cost\n",
    "        IotDevices.__count+=1\n",
    "\n",
    "    def printDetails(self):\n",
    "        print(\"The name of the device is \",self.name)\n",
    "        print(\"It is of type\",self.type)\n",
    "        print(\"Cost\",self.cost)\n",
    "        \n",
    "    #staticmethod\n",
    "    def get_count():\n",
    "        return IotDevices.__count"
   ]
  },
  {
   "cell_type": "code",
   "execution_count": 40,
   "id": "440e13cb",
   "metadata": {},
   "outputs": [
    {
     "name": "stdout",
     "output_type": "stream",
     "text": [
      "An object of class IotDevices has been created\n",
      "Count=  3\n",
      "An object of class IotDevices has been created\n"
     ]
    },
    {
     "ename": "TypeError",
     "evalue": "get_count() takes 0 positional arguments but 1 was given",
     "output_type": "error",
     "traceback": [
      "\u001b[1;31m---------------------------------------------------------------------------\u001b[0m",
      "\u001b[1;31mTypeError\u001b[0m                                 Traceback (most recent call last)",
      "\u001b[1;32m<ipython-input-40-9c0bdd755500>\u001b[0m in \u001b[0;36m<module>\u001b[1;34m\u001b[0m\n\u001b[0;32m      2\u001b[0m \u001b[0mprint\u001b[0m\u001b[1;33m(\u001b[0m\u001b[1;34m\"Count= \"\u001b[0m\u001b[1;33m,\u001b[0m\u001b[0mIotDevices\u001b[0m\u001b[1;33m.\u001b[0m\u001b[0mget_count\u001b[0m\u001b[1;33m(\u001b[0m\u001b[1;33m)\u001b[0m\u001b[1;33m)\u001b[0m\u001b[1;33m\u001b[0m\u001b[1;33m\u001b[0m\u001b[0m\n\u001b[0;32m      3\u001b[0m \u001b[0mdevice2\u001b[0m\u001b[1;33m=\u001b[0m\u001b[0mIotDevices\u001b[0m\u001b[1;33m(\u001b[0m\u001b[1;34m\"DMM\"\u001b[0m\u001b[1;33m,\u001b[0m\u001b[1;34m\"Equipment\"\u001b[0m\u001b[1;33m,\u001b[0m\u001b[1;36m500\u001b[0m\u001b[1;33m)\u001b[0m\u001b[1;33m\u001b[0m\u001b[1;33m\u001b[0m\u001b[0m\n\u001b[1;32m----> 4\u001b[1;33m \u001b[0mprint\u001b[0m\u001b[1;33m(\u001b[0m\u001b[1;34m\"Count= \"\u001b[0m\u001b[1;33m,\u001b[0m\u001b[0mdevice2\u001b[0m\u001b[1;33m.\u001b[0m\u001b[0mget_count\u001b[0m\u001b[1;33m(\u001b[0m\u001b[1;33m)\u001b[0m\u001b[1;33m)\u001b[0m\u001b[1;33m\u001b[0m\u001b[1;33m\u001b[0m\u001b[0m\n\u001b[0m\u001b[0;32m      5\u001b[0m \u001b[0mdevice1\u001b[0m\u001b[1;33m.\u001b[0m\u001b[0mprintDetails\u001b[0m\u001b[1;33m(\u001b[0m\u001b[1;33m)\u001b[0m\u001b[1;33m\u001b[0m\u001b[1;33m\u001b[0m\u001b[0m\n\u001b[0;32m      6\u001b[0m \u001b[0mdevice2\u001b[0m\u001b[1;33m.\u001b[0m\u001b[0mprintDetails\u001b[0m\u001b[1;33m(\u001b[0m\u001b[1;33m)\u001b[0m\u001b[1;33m\u001b[0m\u001b[1;33m\u001b[0m\u001b[0m\n",
      "\u001b[1;31mTypeError\u001b[0m: get_count() takes 0 positional arguments but 1 was given"
     ]
    }
   ],
   "source": [
    "device1=IotDevices(\"Raspi\",\"Controller\",3500) \n",
    "print(\"Count= \",IotDevices.get_count())\n",
    "device2=IotDevices(\"DMM\",\"Equipment\",500)\n",
    "print(\"Count= \",device2.get_count())\n",
    "device1.printDetails()\n",
    "device2.printDetails()"
   ]
  },
  {
   "cell_type": "code",
   "execution_count": 1,
   "id": "a58eba76",
   "metadata": {},
   "outputs": [],
   "source": [
    "#Programming Aspect of Networking"
   ]
  },
  {
   "cell_type": "code",
   "execution_count": null,
   "id": "78596c62",
   "metadata": {},
   "outputs": [],
   "source": [
    "#2 adet dosya oluşturduk\n",
    "#client.py ve server.py "
   ]
  },
  {
   "cell_type": "code",
   "execution_count": null,
   "id": "a2bb8607",
   "metadata": {},
   "outputs": [],
   "source": [
    "#client.py\n",
    "#create a socket ip ve port numarası barındırsın\n",
    "#connect to socket to server socket\n",
    "#communicate\n",
    "#close the socket"
   ]
  },
  {
   "cell_type": "code",
   "execution_count": 2,
   "id": "077f45db",
   "metadata": {},
   "outputs": [],
   "source": [
    "#server.py\n",
    "#create a socket\n",
    "#bind socket to particular port number\n",
    "#listen for clients\n",
    "#accept the client connection\n",
    "#communicate\n",
    "#close active connection\n",
    "#close ther server socket"
   ]
  },
  {
   "cell_type": "code",
   "execution_count": 3,
   "id": "bb4feb36",
   "metadata": {},
   "outputs": [],
   "source": [
    "#Write client and server code"
   ]
  },
  {
   "cell_type": "code",
   "execution_count": 4,
   "id": "f41bdb16",
   "metadata": {},
   "outputs": [],
   "source": [
    "#client.py\n",
    "#import the socket module\n",
    "import socket\n",
    "client_socket=socket.socket()\n",
    "client_socket.connect((\"localhost\",2000))\n",
    "#localhostta çalışacağı için localhost dedik 2000 de porttur\n",
    "client_socket.sendall(\"Hi server. I am a client.\".encode())\n",
    "data=client_socket.recv(1000)\n",
    "print(data.decode())\n",
    "client_socket.close()"
   ]
  },
  {
   "cell_type": "code",
   "execution_count": 8,
   "id": "0420d15a",
   "metadata": {},
   "outputs": [],
   "source": [
    "#server.py\n",
    "#import socket module\n",
    "import socket\n",
    "server_socket=socket.socket()\n",
    "port_number=2000\n",
    "server_socket.bind((\"\",port_number))\n",
    "print(\"Server is bound to port number \",port_number)\n",
    "server_socket.listen()\n",
    "print(\"Server is listening for client\")\n",
    "#1234 de porttur\n",
    "conn,addr=server_socket.accept()\n",
    "print(\"Hey got a client from address\",addr)\n",
    "data=conn.recv(1000)  #byte\n",
    "print(data.decode())\n",
    "conn.sendall(\"Hey from server\".encode())\n",
    "conn.close()\n",
    "server_socket.close()"
   ]
  },
  {
   "cell_type": "code",
   "execution_count": 9,
   "id": "8edc9405",
   "metadata": {},
   "outputs": [],
   "source": [
    "#Şimdi bu haliyle çoklu işlemlere izin vermez şimdi de onu yapalım"
   ]
  },
  {
   "cell_type": "code",
   "execution_count": 10,
   "id": "77f0bac7",
   "metadata": {},
   "outputs": [],
   "source": [
    "#Multithreading"
   ]
  },
  {
   "cell_type": "code",
   "execution_count": 11,
   "id": "0082668b",
   "metadata": {},
   "outputs": [
    {
     "name": "stdout",
     "output_type": "stream",
     "text": [
      "Hi from f1 with argument0\n",
      "Hi from f1 with argument1\n",
      "Hi from f1 with argument2\n",
      "Hi from f1 with argument3\n",
      "Hi from f1 with argument4\n",
      "Hi from f1 with argument5\n",
      "Hi from f1 with argument6\n",
      "Hi from f1 with argument7\n",
      "Hi from f1 with argument8\n",
      "Hi from f1 with argument9\n",
      "Hi, f1 woke up with argument2\n",
      "Hi, f1 woke up with argument1\n",
      "Hi, f1 woke up with argument0\n",
      "Hi, f1 woke up with argument6Hi, f1 woke up with argument5Hi, f1 woke up with argument3\n",
      "Hi, f1 woke up with argument4\n",
      "\n",
      "\n",
      "Hi, f1 woke up with argument8Hi, f1 woke up with argument7\n",
      "Hi, f1 woke up with argument9\n",
      "\n"
     ]
    }
   ],
   "source": [
    "#from threading module , we need to import Thread class\n",
    "#for creating multithreading objects\n",
    "from threading import Thread  \n",
    "import time\n",
    "\n",
    "def f1(arg):\n",
    "    print(\"Hi from f1 with argument\"+str(arg))\n",
    "    time.sleep(5)\n",
    "    print(\"Hi, f1 woke up with argument\"+str(arg))\n",
    "\n",
    "\"\"\"t1=Thread(target=f1)\n",
    "t1.start()\n",
    "print(\"Hi from main\")\n",
    "time.sleep(5)\n",
    "print(\"Hi main got up\")\n",
    "t1.join()\n",
    "\"\"\"\n",
    "for i in range(10):\n",
    "    t=Thread(target=f1,args=(i,))\n",
    "    t.start()"
   ]
  },
  {
   "cell_type": "code",
   "execution_count": 12,
   "id": "62ed6153",
   "metadata": {},
   "outputs": [],
   "source": [
    "#Working with ChatBot\n",
    "#client ve server dosyalarımız var yine"
   ]
  },
  {
   "cell_type": "code",
   "execution_count": 14,
   "id": "68c668b0",
   "metadata": {},
   "outputs": [
    {
     "ename": "ConnectionRefusedError",
     "evalue": "[WinError 10061] Hedef makine etkin olarak reddettiğinden bağlantı kurulamadı",
     "output_type": "error",
     "traceback": [
      "\u001b[1;31m---------------------------------------------------------------------------\u001b[0m",
      "\u001b[1;31mConnectionRefusedError\u001b[0m                    Traceback (most recent call last)",
      "\u001b[1;32m<ipython-input-14-2955b1d8d311>\u001b[0m in \u001b[0;36m<module>\u001b[1;34m\u001b[0m\n\u001b[0;32m      4\u001b[0m \u001b[1;33m\u001b[0m\u001b[0m\n\u001b[0;32m      5\u001b[0m \u001b[0mclient_socket\u001b[0m\u001b[1;33m=\u001b[0m\u001b[0msocket\u001b[0m\u001b[1;33m.\u001b[0m\u001b[0msocket\u001b[0m\u001b[1;33m(\u001b[0m\u001b[1;33m)\u001b[0m\u001b[1;33m\u001b[0m\u001b[1;33m\u001b[0m\u001b[0m\n\u001b[1;32m----> 6\u001b[1;33m \u001b[0mclient_socket\u001b[0m\u001b[1;33m.\u001b[0m\u001b[0mconnect\u001b[0m\u001b[1;33m(\u001b[0m\u001b[1;33m(\u001b[0m\u001b[1;34m\"localhost\"\u001b[0m\u001b[1;33m,\u001b[0m\u001b[1;36m2000\u001b[0m\u001b[1;33m)\u001b[0m\u001b[1;33m)\u001b[0m\u001b[1;33m\u001b[0m\u001b[1;33m\u001b[0m\u001b[0m\n\u001b[0m\u001b[0;32m      7\u001b[0m \u001b[0mprint\u001b[0m\u001b[1;33m(\u001b[0m\u001b[1;34m\"Connected to server\"\u001b[0m\u001b[1;33m)\u001b[0m\u001b[1;33m\u001b[0m\u001b[1;33m\u001b[0m\u001b[0m\n\u001b[0;32m      8\u001b[0m \u001b[1;33m\u001b[0m\u001b[0m\n",
      "\u001b[1;31mConnectionRefusedError\u001b[0m: [WinError 10061] Hedef makine etkin olarak reddettiğinden bağlantı kurulamadı"
     ]
    }
   ],
   "source": [
    "#client.py\n",
    "import socket\n",
    "from threading import Thread\n",
    "\n",
    "client_socket=socket.socket()\n",
    "client_socket.connect((\"localhost\",2000))\n",
    "print(\"Connected to server\")\n",
    "\n",
    "def receive_data():\n",
    "    while True:\n",
    "        data=client_socket.recv(1000)\n",
    "        print(\"Server:\",data.decode())\n",
    "             \n",
    "def sending_data():\n",
    "    while True:\n",
    "        user_input=input()\n",
    "        client_socket.sendall(user_input.decode())\n",
    "    \n",
    "t=Thread(target=receive_data)\n",
    "t.start()\n",
    "sending_data()"
   ]
  },
  {
   "cell_type": "code",
   "execution_count": null,
   "id": "9da0136b",
   "metadata": {},
   "outputs": [],
   "source": []
  },
  {
   "cell_type": "code",
   "execution_count": null,
   "id": "14ceb527",
   "metadata": {},
   "outputs": [
    {
     "name": "stdout",
     "output_type": "stream",
     "text": [
      "Server is bound to port number  2000\n",
      "Server is listening to clients\n"
     ]
    }
   ],
   "source": [
    "#server.py\n",
    "import socket\n",
    "from threading import Thread\n",
    "\n",
    "server_socket=socket.socket()\n",
    "port_number=2000\n",
    "server_socket.bind((\"\",port_number))\n",
    "print(\"Server is bound to port number \",port_number)\n",
    "server_socket.listen()\n",
    "print(\"Server is listening to clients\")\n",
    "conn,addr=server_socket.accept()\n",
    "print(\"Got a client from address\",addr)\n",
    "\n",
    "def receive_data():\n",
    "    while True:\n",
    "        data=conn.recv(1000)\n",
    "        print(\"Client\",data.decode())\n",
    "        \n",
    "def send_data():\n",
    "    while True:\n",
    "        user_input=input()\n",
    "        conn.sendall(user_input.encode())\n",
    "\n",
    "t=Thread(target=receive_data)\n",
    "t.start()\n",
    "send_data()"
   ]
  },
  {
   "cell_type": "code",
   "execution_count": 13,
   "id": "4602e0b2",
   "metadata": {},
   "outputs": [],
   "source": [
    "#ChatApp \n",
    "#Creating and Importing Client Socket"
   ]
  },
  {
   "cell_type": "code",
   "execution_count": 1,
   "id": "104f7362",
   "metadata": {},
   "outputs": [],
   "source": [
    "#client.py ve server.py yine var"
   ]
  },
  {
   "cell_type": "code",
   "execution_count": null,
   "id": "0276e874",
   "metadata": {},
   "outputs": [],
   "source": [
    "#client.py\n",
    "import socket\n",
    "from threading import Thread\n",
    "\n",
    "cs=socket.socket()\n",
    "cs.connect((\"localhost\",2000))\n",
    "name=input(\"Enter your name: \")\n",
    "cs.sendall(name.encode())\n",
    "\n",
    "def receive_data():\n",
    "    while True:\n",
    "        data=cs.recv(1000)\n",
    "        print(data.decode())\n",
    "             \n",
    "def send_data():\n",
    "    while True:\n",
    "        user_input=input()\n",
    "        cs.sendall(user_input.decode())\n",
    "    \n",
    "t=Thread(target=receive_data)\n",
    "t.start()\n",
    "send_data()"
   ]
  },
  {
   "cell_type": "code",
   "execution_count": null,
   "id": "92e9e973",
   "metadata": {},
   "outputs": [],
   "source": []
  },
  {
   "cell_type": "code",
   "execution_count": null,
   "id": "7a65280a",
   "metadata": {},
   "outputs": [],
   "source": [
    "#server.py\n",
    "import socket\n",
    "from threading import Thread\n",
    "\n",
    "ss=socket.socket()\n",
    "port_number=2000\n",
    "ss.bind((\"\",port_number))\n",
    "#print(\"Server is bound to port number \",port_number)\n",
    "ss.listen()\n",
    "#print(\"Server is listening to clients\")\n",
    "clients={}\n",
    "\n",
    "\n",
    "def client_task(client_name,client_conn,client_addr):\n",
    "    while True:\n",
    "        data=client_conn.recv(1000)\n",
    "        message=client_name+\": \"+data.decode()\n",
    "        for client in clients:\n",
    "            if client!=client_name:\n",
    "                clients[client].sendall(message.encode())\n",
    "\n",
    "while True:\n",
    "    conn,addr=ss.accept()\n",
    "    print(\"Got a connection from client at address\",addr)\n",
    "    name=conn.recv(1000)\n",
    "    clients[name.decode()]=conn\n",
    "    t=Thread(target=client_task,args=(name.decode(),conn,addr))\n",
    "    t.start()\n",
    "\n",
    "\"\"\"\n",
    "def receive_data():\n",
    "    while True:\n",
    "        data=conn.recv(1000)\n",
    "        print(\"Client\",data.decode())\n",
    "        \n",
    "def send_data():\n",
    "    while True:\n",
    "        user_input=input()\n",
    "        conn.sendall(user_input.encode())\n",
    "\n",
    "t=Thread(target=receive_data)\n",
    "t.start()\n",
    "send_data()\n",
    "\"\"\""
   ]
  },
  {
   "cell_type": "code",
   "execution_count": 1,
   "id": "82243d00",
   "metadata": {},
   "outputs": [],
   "source": [
    "#Pycharm and DB"
   ]
  },
  {
   "cell_type": "code",
   "execution_count": null,
   "id": "f64d8364",
   "metadata": {},
   "outputs": [],
   "source": [
    "sqlite3 company.db #oluştururuz"
   ]
  },
  {
   "cell_type": "code",
   "execution_count": null,
   "id": "9089dd4a",
   "metadata": {},
   "outputs": [],
   "source": [
    "create table employee (id,fname,lname,salary,email,dob);"
   ]
  },
  {
   "cell_type": "code",
   "execution_count": null,
   "id": "8cfa2bea",
   "metadata": {},
   "outputs": [],
   "source": [
    ".tables  #deyince tabloları verir"
   ]
  },
  {
   "cell_type": "code",
   "execution_count": null,
   "id": "3ea07e5a",
   "metadata": {},
   "outputs": [],
   "source": [
    ".header on"
   ]
  },
  {
   "cell_type": "code",
   "execution_count": null,
   "id": "286ec437",
   "metadata": {},
   "outputs": [],
   "source": [
    "select * from employee;"
   ]
  },
  {
   "cell_type": "code",
   "execution_count": null,
   "id": "b63b6df6",
   "metadata": {},
   "outputs": [],
   "source": [
    "drop table employee;"
   ]
  },
  {
   "cell_type": "code",
   "execution_count": null,
   "id": "09b9ae0a",
   "metadata": {},
   "outputs": [],
   "source": [
    ".tables #deyince gelmiyor tablo"
   ]
  },
  {
   "cell_type": "code",
   "execution_count": null,
   "id": "cd2b00b1",
   "metadata": {},
   "outputs": [],
   "source": [
    "create table employee (id INTEGER PRIMARY_KEY AUTO_INCREMENT,fname VARCHAR(20) NOT NULL,lname VARCHAR(20),salary INT,email VARCHAR(20),dob DATE);"
   ]
  },
  {
   "cell_type": "code",
   "execution_count": null,
   "id": "e5136e85",
   "metadata": {},
   "outputs": [],
   "source": [
    ".tables"
   ]
  },
  {
   "cell_type": "code",
   "execution_count": null,
   "id": "a99e37d0",
   "metadata": {},
   "outputs": [],
   "source": [
    ".schema"
   ]
  },
  {
   "cell_type": "code",
   "execution_count": null,
   "id": "85cbd89f",
   "metadata": {},
   "outputs": [],
   "source": [
    "#Insert Values"
   ]
  },
  {
   "cell_type": "code",
   "execution_count": null,
   "id": "f0205097",
   "metadata": {},
   "outputs": [],
   "source": [
    "insert into employee (fname,email,dob) values(\"xyz\",\"xyz@company.com\",\"1984-05-18\")"
   ]
  },
  {
   "cell_type": "code",
   "execution_count": null,
   "id": "4f50c0f8",
   "metadata": {},
   "outputs": [],
   "source": [
    "insert into employee (fname,lname,email,dob) values(\"pqr\",\"st\",\"pqr@company.com\",\"1994-06-18\")"
   ]
  },
  {
   "cell_type": "code",
   "execution_count": null,
   "id": "a7fa1573",
   "metadata": {},
   "outputs": [],
   "source": [
    "insert into employee (fname,lname,email,dob) values(\"xyz\",\"st\",\"xyz@company.com\",\"1974-08-15\")"
   ]
  },
  {
   "cell_type": "code",
   "execution_count": null,
   "id": "ffbf5da4",
   "metadata": {},
   "outputs": [],
   "source": [
    ".tables"
   ]
  },
  {
   "cell_type": "code",
   "execution_count": null,
   "id": "b98cff3d",
   "metadata": {},
   "outputs": [],
   "source": [
    "select * from employee;"
   ]
  },
  {
   "cell_type": "code",
   "execution_count": null,
   "id": "a408d681",
   "metadata": {},
   "outputs": [],
   "source": [
    ".exit #ile çıkış yaptık"
   ]
  },
  {
   "cell_type": "code",
   "execution_count": null,
   "id": "179dbbb4",
   "metadata": {},
   "outputs": [],
   "source": [
    "#connecting db and python code"
   ]
  },
  {
   "cell_type": "code",
   "execution_count": null,
   "id": "bab7253f",
   "metadata": {},
   "outputs": [],
   "source": [
    "#connecto sqlite.py\n",
    "import sqlite3\n",
    "\n",
    "connection=sqlite3.connect(\"school.db\")\n",
    "\n",
    "cursor=connection.cursor()\n",
    "\n",
    "query=''' create table students (rn INTEGER,name VARCHAR(20),gender VARCHAR(1),dob DATE);'''\n",
    "cursor.execute(query)\n",
    "\n",
    "query=''' create table teachers (id INTEGER,name VARCHAR(20),gender VARCHAR(1),dob DATE);'''\n",
    "cursor.execute(query)\n",
    "\n",
    "query=''' insert into students (rn ,name,gender) values(12,\"xyz\",\"M\");'''\n",
    "cursor.execute(query)\n",
    "\n",
    "query=''' insert into students (rn ,name,gender) values(45,\"pqr\",\"F\");'''\n",
    "cursor.execute(query)\n",
    "\n",
    "query=''' insert into students (rn ,name,gender) values(54,\"abc\",\"F\");'''\n",
    "cursor.execute(query)\n",
    "\n",
    "query=''' insert into teachers (id ,name,gender) values(12,\"rst\",\"M\");'''\n",
    "cursor.execute(query)\n",
    "\n",
    "query=''' insert into teachers (id ,name,gender) values(13,\"wxy\",\"F\");'''\n",
    "cursor.execute(query)\n",
    "\n",
    "query=''' insert into teachers (id ,name,gender) values(14,\"def\",\"M\");'''\n",
    "cursor.execute(query)\n",
    "\n",
    "connection.commit()\n",
    "connection.close()"
   ]
  },
  {
   "cell_type": "code",
   "execution_count": null,
   "id": "b5f1c3ef",
   "metadata": {},
   "outputs": [],
   "source": [
    "#reading from db.py\n",
    "\n",
    "import sqlite3\n",
    "\n",
    "connection=sqlite3.connect(\"school.db\")\n",
    "\n",
    "cursor=connection.cursor()\n",
    "print(\"Student details\")\n",
    "query='select * from students where gender=\"M\";'\n",
    "cursor.execute(query)\n",
    "result=cursor.fetchall()\n",
    "#print(result)\n",
    "for student in result:\n",
    "    print(student)\n",
    "print(\"Teacher details\")\n",
    "query='select * from teachers where gender=\"F\";'\n",
    "cursor.execute(query)\n",
    "result=cursor.fetchall()\n",
    "#print(result)\n",
    "for teacher in result:\n",
    "    print(teacher)\n",
    "connection.close()"
   ]
  },
  {
   "cell_type": "code",
   "execution_count": 2,
   "id": "e54b19b5",
   "metadata": {},
   "outputs": [],
   "source": [
    "#ChatApp değişiklik yapalım"
   ]
  },
  {
   "cell_type": "code",
   "execution_count": null,
   "id": "87a6108f",
   "metadata": {},
   "outputs": [],
   "source": [
    "#client.py\n",
    "import socket\n",
    "from threading import Thread\n",
    "\n",
    "cs=socket.socket()\n",
    "cs.connect((\"localhost\",2000))\n",
    "\"\"\"client_info={}\n",
    "client_info[\"name\"] =input(\"Enter your name: \")\n",
    "client_info[\"email\"]=input(\"Enter your email: \")\n",
    "client_str=client_\n",
    "\"\"\"  #buradan vazgeçtik\n",
    "name =input(\"Enter your name: \")\n",
    "email=input(\"Enter your email: \")\n",
    "#client_info=\"name:\"+name+\",\"+\"email\"+email  kapattık sonradan\n",
    "client_info=name+\",\"+email\n",
    "cs.sendall(client_info.encode())\n",
    "\n",
    "def receive_data():\n",
    "    while True:\n",
    "        data=cs.recv(1000)\n",
    "        print(data.decode())\n",
    "             \n",
    "def send_data():\n",
    "    while True:\n",
    "        user_input=input()\n",
    "        cs.sendall(user_input.decode())\n",
    "    \n",
    "t=Thread(target=receive_data)\n",
    "t.start()\n",
    "send_data()"
   ]
  },
  {
   "cell_type": "code",
   "execution_count": null,
   "id": "d21b4f52",
   "metadata": {},
   "outputs": [],
   "source": []
  },
  {
   "cell_type": "code",
   "execution_count": null,
   "id": "27e583cf",
   "metadata": {},
   "outputs": [],
   "source": [
    "#server.py\n",
    "import sqlite3\n",
    "import socket\n",
    "from threading import Thread\n",
    "\n",
    "connection=sqlite3.connection(\"chat.db\")\n",
    "cursor=connection.cursor()\n",
    "\n",
    "#cursor.execute(\"create table clients (name VARCHAR(20),email VARCHAR(20),addr VARCHAR(20));\")\n",
    "cursor.execute('select * from clients;')\n",
    "result=cursor.fetchall()\n",
    "print(result)\n",
    "\n",
    "ss=socket.socket()\n",
    "port_number=2000\n",
    "ss.bind((\"\",port_number))\n",
    "#print(\"Server is bound to port number \",port_number)\n",
    "ss.listen()\n",
    "#print(\"Server is listening to clients\")\n",
    "clients={}\n",
    "\n",
    "\n",
    "def client_task(client_name,client_conn,client_addr):\n",
    "    while True:\n",
    "        data=client_conn.recv(1000)\n",
    "        message=client_name+\": \"+data.decode()\n",
    "        for client in clients:\n",
    "            if client!=client_name:\n",
    "                clients[client].sendall(message.encode())\n",
    "\n",
    "while True:\n",
    "    conn,addr=ss.accept()\n",
    "    #patlayınca print(addr) ve print(type(addr)) ekleyip baktık tuple verdi\n",
    "    client_info=conn.recv(1000)\n",
    "    client_info=client_info.decode()\n",
    "    client_info_lst=client_info.split(\",\")\n",
    "   # name=client_info_lst[0].split(\":\") kapattık\n",
    "    name=client_info_lst[0]\n",
    "    email=client_info_lst[1]\n",
    "    query='''INSERT INTO clients (name,email,addr) values(\"{0}\",\"{1}\",\"{2}\");'''.format(name,email,addr[0])\n",
    "    cursor.execute(query)\n",
    "    connection.commit()\n",
    "    print(\"Got a connection from client at address\",addr,\"and name\",name)\n",
    "    print(\"Clients registered as of date now\")\n",
    "    result=cursor.fetchall()\n",
    "    print(result)\n",
    "    clients[name]=conn\n",
    "    t=Thread(target=client_task,args=(name,conn,addr))\n",
    "    t.start()\n",
    "\n",
    "\"\"\"\n",
    "def receive_data():\n",
    "    while True:\n",
    "        data=conn.recv(1000)\n",
    "        print(\"Client\",data.decode())\n",
    "        \n",
    "def send_data():\n",
    "    while True:\n",
    "        user_input=input()\n",
    "        conn.sendall(user_input.encode())\n",
    "\n",
    "t=Thread(target=receive_data)\n",
    "t.start()\n",
    "send_data()\n",
    "\"\"\""
   ]
  },
  {
   "cell_type": "code",
   "execution_count": 3,
   "id": "4b5a4438",
   "metadata": {},
   "outputs": [],
   "source": [
    "client_info = \"name:xyz,email:xyz@company.com\""
   ]
  },
  {
   "cell_type": "code",
   "execution_count": 4,
   "id": "361e71ab",
   "metadata": {},
   "outputs": [
    {
     "data": {
      "text/plain": [
       "['name:xyz', 'email:xyz@company.com']"
      ]
     },
     "execution_count": 4,
     "metadata": {},
     "output_type": "execute_result"
    }
   ],
   "source": [
    "client_info.split(\",\")"
   ]
  },
  {
   "cell_type": "code",
   "execution_count": 5,
   "id": "f5761f6d",
   "metadata": {},
   "outputs": [],
   "source": [
    "client_info_lst=client_info.split(\",\")"
   ]
  },
  {
   "cell_type": "code",
   "execution_count": 6,
   "id": "c4c59686",
   "metadata": {},
   "outputs": [
    {
     "data": {
      "text/plain": [
       "['name', 'xyz']"
      ]
     },
     "execution_count": 6,
     "metadata": {},
     "output_type": "execute_result"
    }
   ],
   "source": [
    "client_info_lst[0].split(\":\")"
   ]
  },
  {
   "cell_type": "code",
   "execution_count": 8,
   "id": "8e887ae2",
   "metadata": {},
   "outputs": [
    {
     "data": {
      "text/plain": [
       "'name:xyz'"
      ]
     },
     "execution_count": 8,
     "metadata": {},
     "output_type": "execute_result"
    }
   ],
   "source": [
    "name=client_info_lst[0]\n",
    "name"
   ]
  },
  {
   "cell_type": "code",
   "execution_count": null,
   "id": "e0be2d95",
   "metadata": {},
   "outputs": [],
   "source": [
    "#üstteki client server için okuma yapalım\n",
    "\n",
    "#reading from db.py\n",
    "\n",
    "import sqlite3\n",
    "\n",
    "connection=sqlite3.connect(\"chat.db\")\n",
    "\n",
    "cursor=connection.cursor()\n",
    "print(\"Clients details\")\n",
    "query='select * from clients;'\n",
    "cursor.execute(query)\n",
    "result=cursor.fetchall()\n",
    "print(result)\n",
    "\n",
    "\"\"\"for student in result:\n",
    "    print(student)\n",
    "print(\"Teacher details\")\n",
    "query='select * from teachers where gender=\"F\";'\n",
    "cursor.execute(query)\n",
    "result=cursor.fetchall()\n",
    "#print(result)\n",
    "for teacher in result:\n",
    "    print(teacher)\n",
    "\"\"\"\n",
    "connection.close()"
   ]
  },
  {
   "cell_type": "code",
   "execution_count": null,
   "id": "adcb2ad2",
   "metadata": {},
   "outputs": [],
   "source": [
    "#Add email and client name"
   ]
  },
  {
   "cell_type": "code",
   "execution_count": null,
   "id": "78655c33",
   "metadata": {},
   "outputs": [],
   "source": [
    "#server.py\n",
    "import sqlite3\n",
    "import socket\n",
    "from threading import Thread\n",
    "\n",
    "connection=sqlite3.connection(\"chat.db\")\n",
    "cursor=connection.cursor()\n",
    "\n",
    "cursor.execute(\"drop table clients\")\n",
    "cursor.execute(\"create table clients (name VARCHAR(20),email VARCHAR(20),addr VARCHAR(20));\")\n",
    "#cursor.execute('select * from clients;')\n",
    "#result=cursor.fetchall()\n",
    "#print(result)\n",
    "\n",
    "ss=socket.socket()\n",
    "port_number=2000\n",
    "ss.bind((\"\",port_number))\n",
    "#print(\"Server is bound to port number \",port_number)\n",
    "ss.listen()\n",
    "#print(\"Server is listening to clients\")\n",
    "clients={}\n",
    "\n",
    "\n",
    "def client_task(client_name,client_conn,client_addr):\n",
    "    while True:\n",
    "        data=client_conn.recv(1000)\n",
    "        connection=sqlite3.connect(\"chat.db\")\n",
    "        cursor=connection.cursor()\n",
    "        cursor.execute('select * from clients where name=\"{}\";'.format(client_name))\n",
    "        result=cursor.fetchall()\n",
    "        print(result[0][0],\"sent a message\")\n",
    "        message=client_name+\" {()}\".format(result[0][1])+\": \"+data.decode()\n",
    "        for client in clients:\n",
    "            if client!=client_name:\n",
    "                clients[client].sendall(message.encode())\n",
    "\n",
    "while True:\n",
    "    conn,addr=ss.accept()\n",
    "    #patlayınca print(addr) ve print(type(addr)) ekleyip baktık tuple verdi\n",
    "    client_info=conn.recv(1000)\n",
    "    client_info=client_info.decode()\n",
    "    client_info_lst=client_info.split(\",\")\n",
    "   # name=client_info_lst[0].split(\":\") kapattık\n",
    "    name=client_info_lst[0]\n",
    "    email=client_info_lst[1]\n",
    "    query='''INSERT INTO clients (name,email,addr) values(\"{0}\",\"{1}\",\"{2}\");'''.format(name,email,addr[0])\n",
    "    cursor.execute(query)\n",
    "    connection.commit()\n",
    "    print(\"Got a connection from client at address\",addr,\"and name\",name)\n",
    "    print(\"Clients registered as of date now\")\n",
    "    result=cursor.fetchall()\n",
    "    print(result)\n",
    "    clients[name]=conn\n",
    "    t=Thread(target=client_task,args=(name,conn,addr))\n",
    "    t.start()\n",
    "\n",
    "\"\"\"\n",
    "def receive_data():\n",
    "    while True:\n",
    "        data=conn.recv(1000)\n",
    "        print(\"Client\",data.decode())\n",
    "        \n",
    "def send_data():\n",
    "    while True:\n",
    "        user_input=input()\n",
    "        conn.sendall(user_input.encode())\n",
    "\n",
    "t=Thread(target=receive_data)\n",
    "t.start()\n",
    "send_data()\n",
    "\"\"\""
   ]
  },
  {
   "cell_type": "code",
   "execution_count": 9,
   "id": "b591edbe",
   "metadata": {},
   "outputs": [],
   "source": [
    "#Data Analysis"
   ]
  },
  {
   "cell_type": "code",
   "execution_count": 10,
   "id": "504ed4ca",
   "metadata": {},
   "outputs": [],
   "source": [
    "import numpy as np"
   ]
  },
  {
   "cell_type": "code",
   "execution_count": 13,
   "id": "23932b07",
   "metadata": {},
   "outputs": [
    {
     "data": {
      "text/plain": [
       "[36.0, 36.0, 14.0, 39.0, 40.0, 41.0, 40.0, 38.0, 38.0, 36.0]"
      ]
     },
     "execution_count": 13,
     "metadata": {},
     "output_type": "execute_result"
    }
   ],
   "source": [
    "temp=[20.1,20,8,21.9,22.5,22.7,22.3,21.2,20.9,20.1]\n",
    "temp_far=[np.round(i*1.8) for i in temp ]\n",
    "temp_far"
   ]
  },
  {
   "cell_type": "code",
   "execution_count": 16,
   "id": "35a9cfd0",
   "metadata": {},
   "outputs": [
    {
     "name": "stdout",
     "output_type": "stream",
     "text": [
      "[24 12 57]\n",
      "<class 'numpy.ndarray'>\n"
     ]
    }
   ],
   "source": [
    "lst=[24,12,57]\n",
    "nplst=np.array(lst)\n",
    "print(nplst)\n",
    "print(type(nplst))"
   ]
  },
  {
   "cell_type": "code",
   "execution_count": 17,
   "id": "3043f6cb",
   "metadata": {},
   "outputs": [
    {
     "name": "stdout",
     "output_type": "stream",
     "text": [
      "[576, 144, 3249]\n"
     ]
    }
   ],
   "source": [
    "lst1=[e**2 for e in lst]\n",
    "print(lst1)"
   ]
  },
  {
   "cell_type": "code",
   "execution_count": 18,
   "id": "190d7b51",
   "metadata": {},
   "outputs": [],
   "source": [
    "from sys import getsizeof as size"
   ]
  },
  {
   "cell_type": "code",
   "execution_count": 19,
   "id": "cd62dff7",
   "metadata": {},
   "outputs": [
    {
     "name": "stdout",
     "output_type": "stream",
     "text": [
      "[24, 12, 57]\n"
     ]
    }
   ],
   "source": [
    "print(lst)"
   ]
  },
  {
   "cell_type": "code",
   "execution_count": 23,
   "id": "50a02795",
   "metadata": {},
   "outputs": [
    {
     "data": {
      "text/plain": [
       "88"
      ]
     },
     "execution_count": 23,
     "metadata": {},
     "output_type": "execute_result"
    }
   ],
   "source": [
    "size_of_list=size(lst)\n",
    "size_of_list"
   ]
  },
  {
   "cell_type": "code",
   "execution_count": 21,
   "id": "e59121fa",
   "metadata": {},
   "outputs": [
    {
     "data": {
      "text/plain": [
       "64"
      ]
     },
     "execution_count": 21,
     "metadata": {},
     "output_type": "execute_result"
    }
   ],
   "source": [
    "empty_lst=[]\n",
    "size(empty_lst)"
   ]
  },
  {
   "cell_type": "code",
   "execution_count": 24,
   "id": "380cdbb9",
   "metadata": {},
   "outputs": [
    {
     "data": {
      "text/plain": [
       "28"
      ]
     },
     "execution_count": 24,
     "metadata": {},
     "output_type": "execute_result"
    }
   ],
   "source": [
    "size(lst[0])"
   ]
  },
  {
   "cell_type": "code",
   "execution_count": 25,
   "id": "eb3d4365",
   "metadata": {},
   "outputs": [
    {
     "data": {
      "text/plain": [
       "172"
      ]
     },
     "execution_count": 25,
     "metadata": {},
     "output_type": "execute_result"
    }
   ],
   "source": [
    "total_size=size_of_list+len(lst)*size(lst[0])\n",
    "total_size"
   ]
  },
  {
   "cell_type": "code",
   "execution_count": null,
   "id": "54af3e6a",
   "metadata": {},
   "outputs": [],
   "source": [
    "#memory consumed by ndarray"
   ]
  },
  {
   "cell_type": "code",
   "execution_count": 26,
   "id": "bde76333",
   "metadata": {},
   "outputs": [
    {
     "name": "stdout",
     "output_type": "stream",
     "text": [
      "[24 12 57]\n"
     ]
    }
   ],
   "source": [
    "print(nplst)"
   ]
  },
  {
   "cell_type": "code",
   "execution_count": 27,
   "id": "18f2c925",
   "metadata": {},
   "outputs": [
    {
     "data": {
      "text/plain": [
       "116"
      ]
     },
     "execution_count": 27,
     "metadata": {},
     "output_type": "execute_result"
    }
   ],
   "source": [
    "size(nplst)"
   ]
  },
  {
   "cell_type": "code",
   "execution_count": 28,
   "id": "d80e76c4",
   "metadata": {},
   "outputs": [
    {
     "data": {
      "text/plain": [
       "148"
      ]
     },
     "execution_count": 28,
     "metadata": {},
     "output_type": "execute_result"
    }
   ],
   "source": [
    "lst=[24,12,57,84,45,45,12,12,14,15,13]\n",
    "nplst=np.array(lst)\n",
    "size(nplst)"
   ]
  },
  {
   "cell_type": "code",
   "execution_count": 29,
   "id": "46be1c9d",
   "metadata": {},
   "outputs": [
    {
     "data": {
      "text/plain": [
       "396"
      ]
     },
     "execution_count": 29,
     "metadata": {},
     "output_type": "execute_result"
    }
   ],
   "source": [
    "total_size=size_of_list+len(lst)*size(lst[0])\n",
    "total_size"
   ]
  },
  {
   "cell_type": "code",
   "execution_count": null,
   "id": "5622ba53",
   "metadata": {},
   "outputs": [],
   "source": [
    "#396 ile 148 arasında fark var küçülme oldu"
   ]
  },
  {
   "cell_type": "code",
   "execution_count": 30,
   "id": "1f874f0a",
   "metadata": {},
   "outputs": [],
   "source": [
    "#time comparison list and numpy array"
   ]
  },
  {
   "cell_type": "code",
   "execution_count": 31,
   "id": "a2927d51",
   "metadata": {},
   "outputs": [],
   "source": [
    "import time"
   ]
  },
  {
   "cell_type": "code",
   "execution_count": 32,
   "id": "a04e63fe",
   "metadata": {},
   "outputs": [],
   "source": [
    "def cal_time_python_version():\n",
    "    t1=time.time()\n",
    "    X=range(1000)\n",
    "    Y=range(1000)\n",
    "    Z=[X[i]+Y[i] for i in range(len(X))]\n",
    "    t2=time.time()\n",
    "    return t2-t1"
   ]
  },
  {
   "cell_type": "code",
   "execution_count": 33,
   "id": "78ff0abe",
   "metadata": {},
   "outputs": [],
   "source": [
    "def cal_time_numpy_version():\n",
    "    t1=time.time()\n",
    "    X=np.arange(1000)\n",
    "    Y=np.arange(1000)\n",
    "    Z=X+Y\n",
    "    t2=time.time()\n",
    "    return t2-t1"
   ]
  },
  {
   "cell_type": "code",
   "execution_count": 35,
   "id": "f318c678",
   "metadata": {},
   "outputs": [
    {
     "name": "stdout",
     "output_type": "stream",
     "text": [
      "0.0010001659393310547 0.0\n"
     ]
    }
   ],
   "source": [
    "print(cal_time_numpy_version(),cal_time_python_version())"
   ]
  },
  {
   "cell_type": "code",
   "execution_count": 36,
   "id": "446c59b4",
   "metadata": {},
   "outputs": [
    {
     "name": "stdout",
     "output_type": "stream",
     "text": [
      "0.0 0.0\n",
      "0.0 0.0009999275207519531\n",
      "0.0 0.0\n",
      "0.0 0.0\n",
      "0.0010035037994384766 0.0\n",
      "0.0 0.0009968280792236328\n",
      "0.0 0.0\n",
      "0.0 0.0\n",
      "0.0 0.0010008811950683594\n",
      "0.0009992122650146484 0.0010023117065429688\n"
     ]
    }
   ],
   "source": [
    "for i in range(10):\n",
    "    print(cal_time_numpy_version(),cal_time_python_version())"
   ]
  },
  {
   "cell_type": "code",
   "execution_count": 37,
   "id": "cd201df5",
   "metadata": {},
   "outputs": [],
   "source": [
    "#Create numpy arrays"
   ]
  },
  {
   "cell_type": "code",
   "execution_count": 38,
   "id": "4265fd7e",
   "metadata": {},
   "outputs": [
    {
     "data": {
      "text/plain": [
       "array([1, 2, 3, 4, 5, 6, 7, 8, 9])"
      ]
     },
     "execution_count": 38,
     "metadata": {},
     "output_type": "execute_result"
    }
   ],
   "source": [
    "a=np.arange(1,10)\n",
    "a"
   ]
  },
  {
   "cell_type": "code",
   "execution_count": 39,
   "id": "6f386a9d",
   "metadata": {},
   "outputs": [
    {
     "data": {
      "text/plain": [
       "array([0, 1, 2, 3, 4, 5, 6, 7, 8, 9])"
      ]
     },
     "execution_count": 39,
     "metadata": {},
     "output_type": "execute_result"
    }
   ],
   "source": [
    "a=np.arange(10)\n",
    "a"
   ]
  },
  {
   "cell_type": "code",
   "execution_count": 40,
   "id": "7db35aa9",
   "metadata": {},
   "outputs": [
    {
     "data": {
      "text/plain": [
       "numpy.ndarray"
      ]
     },
     "execution_count": 40,
     "metadata": {},
     "output_type": "execute_result"
    }
   ],
   "source": [
    "type(a)"
   ]
  },
  {
   "cell_type": "code",
   "execution_count": 41,
   "id": "5e4e7414",
   "metadata": {},
   "outputs": [
    {
     "data": {
      "text/plain": [
       "array([ 0.,  1.,  2.,  3.,  4.,  5.,  6.,  7.,  8.,  9., 10.])"
      ]
     },
     "execution_count": 41,
     "metadata": {},
     "output_type": "execute_result"
    }
   ],
   "source": [
    "a=np.arange(10.4)\n",
    "a"
   ]
  },
  {
   "cell_type": "code",
   "execution_count": 42,
   "id": "402f4a5c",
   "metadata": {},
   "outputs": [
    {
     "data": {
      "text/plain": [
       "array([ 0.3,  1.3,  2.3,  3.3,  4.3,  5.3,  6.3,  7.3,  8.3,  9.3, 10.3])"
      ]
     },
     "execution_count": 42,
     "metadata": {},
     "output_type": "execute_result"
    }
   ],
   "source": [
    "a=np.arange(0.3,10.5)\n",
    "a"
   ]
  },
  {
   "cell_type": "code",
   "execution_count": 43,
   "id": "888bcfd6",
   "metadata": {},
   "outputs": [
    {
     "data": {
      "text/plain": [
       "array([ 0.3,  2.3,  4.3,  6.3,  8.3, 10.3])"
      ]
     },
     "execution_count": 43,
     "metadata": {},
     "output_type": "execute_result"
    }
   ],
   "source": [
    "a=np.arange(0.3,10.5,2)\n",
    "a"
   ]
  },
  {
   "cell_type": "code",
   "execution_count": 45,
   "id": "873640ac",
   "metadata": {},
   "outputs": [
    {
     "data": {
      "text/plain": [
       "array([10.5,  8.5,  6.5,  4.5,  2.5,  0.5])"
      ]
     },
     "execution_count": 45,
     "metadata": {},
     "output_type": "execute_result"
    }
   ],
   "source": [
    "a=np.arange(10.5,0.3,-2)\n",
    "a"
   ]
  },
  {
   "cell_type": "code",
   "execution_count": 46,
   "id": "375f5b99",
   "metadata": {},
   "outputs": [
    {
     "data": {
      "text/plain": [
       "array([ 0.3,  1. ,  1.7,  2.4,  3.1,  3.8,  4.5,  5.2,  5.9,  6.6,  7.3,\n",
       "        8. ,  8.7,  9.4, 10.1])"
      ]
     },
     "execution_count": 46,
     "metadata": {},
     "output_type": "execute_result"
    }
   ],
   "source": [
    "a=np.arange(0.3,10.5,0.7)\n",
    "a"
   ]
  },
  {
   "cell_type": "code",
   "execution_count": 48,
   "id": "2de2c031",
   "metadata": {},
   "outputs": [
    {
     "data": {
      "text/plain": [
       "array([ 1.        ,  1.18367347,  1.36734694,  1.55102041,  1.73469388,\n",
       "        1.91836735,  2.10204082,  2.28571429,  2.46938776,  2.65306122,\n",
       "        2.83673469,  3.02040816,  3.20408163,  3.3877551 ,  3.57142857,\n",
       "        3.75510204,  3.93877551,  4.12244898,  4.30612245,  4.48979592,\n",
       "        4.67346939,  4.85714286,  5.04081633,  5.2244898 ,  5.40816327,\n",
       "        5.59183673,  5.7755102 ,  5.95918367,  6.14285714,  6.32653061,\n",
       "        6.51020408,  6.69387755,  6.87755102,  7.06122449,  7.24489796,\n",
       "        7.42857143,  7.6122449 ,  7.79591837,  7.97959184,  8.16326531,\n",
       "        8.34693878,  8.53061224,  8.71428571,  8.89795918,  9.08163265,\n",
       "        9.26530612,  9.44897959,  9.63265306,  9.81632653, 10.        ])"
      ]
     },
     "execution_count": 48,
     "metadata": {},
     "output_type": "execute_result"
    }
   ],
   "source": [
    "a=np.linspace(1,10)\n",
    "a\n"
   ]
  },
  {
   "cell_type": "code",
   "execution_count": 49,
   "id": "000cff94",
   "metadata": {},
   "outputs": [
    {
     "data": {
      "text/plain": [
       "numpy.ndarray"
      ]
     },
     "execution_count": 49,
     "metadata": {},
     "output_type": "execute_result"
    }
   ],
   "source": [
    "type(a)"
   ]
  },
  {
   "cell_type": "code",
   "execution_count": 50,
   "id": "18932e1f",
   "metadata": {},
   "outputs": [
    {
     "name": "stdout",
     "output_type": "stream",
     "text": [
      "[ 1.   2.5  4.   5.5  7.   8.5 10. ]\n",
      "<class 'numpy.ndarray'>\n"
     ]
    }
   ],
   "source": [
    "a=np.linspace(1,10,7)\n",
    "print(a)\n",
    "print(type(a))"
   ]
  },
  {
   "cell_type": "code",
   "execution_count": 52,
   "id": "a81525f0",
   "metadata": {},
   "outputs": [
    {
     "name": "stdout",
     "output_type": "stream",
     "text": [
      "42\n",
      "<class 'numpy.ndarray'>\n",
      "0\n"
     ]
    }
   ],
   "source": [
    "#Zero Dim\n",
    "x=np.array(42)\n",
    "print(x)\n",
    "print(type(x))\n",
    "print(np.ndim(x))"
   ]
  },
  {
   "cell_type": "code",
   "execution_count": 55,
   "id": "8be7e50a",
   "metadata": {},
   "outputs": [
    {
     "name": "stdout",
     "output_type": "stream",
     "text": [
      "[1 2 3 2 1 4 5 2 1 2 3]\n",
      "[1.1 2.5 6.2 1.2 1.5 8.5]\n",
      "int32\n",
      "float64\n",
      "1\n",
      "1\n",
      "1 1\n"
     ]
    }
   ],
   "source": [
    "#1 dim\n",
    "A=np.array([1,2,3,2,1,4,5,2,1,2,3])\n",
    "B=np.array([1.1,2.5,6.2,1.2,1.5,8.5])\n",
    "print(A)\n",
    "print(B)\n",
    "print(A.dtype)\n",
    "print(B.dtype)\n",
    "print(A.ndim)\n",
    "print(B.ndim)\n",
    "print(np.ndim(A),np.ndim(B))"
   ]
  },
  {
   "cell_type": "code",
   "execution_count": 56,
   "id": "14c08e86",
   "metadata": {},
   "outputs": [],
   "source": [
    "#Two and multidimensional array"
   ]
  },
  {
   "cell_type": "code",
   "execution_count": 57,
   "id": "1baa1d2b",
   "metadata": {},
   "outputs": [
    {
     "name": "stdout",
     "output_type": "stream",
     "text": [
      "[[1 2 3]\n",
      " [4 5 6]\n",
      " [7 8 9]]\n",
      "2\n"
     ]
    }
   ],
   "source": [
    "A=np.array([[1,2,3],[4,5,6],[7,8,9]])\n",
    "print(A)\n",
    "print(A.ndim)"
   ]
  },
  {
   "cell_type": "code",
   "execution_count": 58,
   "id": "3ef581aa",
   "metadata": {},
   "outputs": [
    {
     "name": "stdout",
     "output_type": "stream",
     "text": [
      "[[[ 1  2]\n",
      "  [ 3  4]]\n",
      "\n",
      " [[ 4  5]\n",
      "  [ 6  7]]\n",
      "\n",
      " [[ 7  8]\n",
      "  [ 9 10]]]\n",
      "3\n"
     ]
    }
   ],
   "source": [
    "A=np.array([[[1,2],[3,4]],\n",
    "            [[4,5],[6,7]],\n",
    "            [[7,8],[9,10]]])\n",
    "print(A)\n",
    "print(A.ndim)"
   ]
  },
  {
   "cell_type": "code",
   "execution_count": 60,
   "id": "64f0a05a",
   "metadata": {},
   "outputs": [
    {
     "name": "stdout",
     "output_type": "stream",
     "text": [
      "(6, 3)\n",
      "(6, 3)\n"
     ]
    }
   ],
   "source": [
    "#shape of array\n",
    "x=np.array([[67,12,15],\n",
    "           [77,56,45],\n",
    "           [45,78,45],\n",
    "           [45,12,15],\n",
    "           [78,98,45],\n",
    "           [45,58,59]]\n",
    ")\n",
    "print(np.shape(x))\n",
    "print(x.shape)"
   ]
  },
  {
   "cell_type": "code",
   "execution_count": 62,
   "id": "16421e6c",
   "metadata": {},
   "outputs": [
    {
     "name": "stdout",
     "output_type": "stream",
     "text": [
      "[[67 12 15 77 56 45]\n",
      " [45 78 45 45 12 15]\n",
      " [78 98 45 45 58 59]]\n"
     ]
    }
   ],
   "source": [
    "x.shape=(3,6)\n",
    "print(x)"
   ]
  },
  {
   "cell_type": "code",
   "execution_count": 63,
   "id": "663103ba",
   "metadata": {},
   "outputs": [
    {
     "name": "stdout",
     "output_type": "stream",
     "text": [
      "[[67 12 15]\n",
      " [77 56 45]\n",
      " [45 78 45]\n",
      " [45 12 15]\n",
      " [78 98 45]\n",
      " [45 58 59]]\n"
     ]
    }
   ],
   "source": [
    "x.shape=(6,3)\n",
    "print(x)"
   ]
  },
  {
   "cell_type": "code",
   "execution_count": 64,
   "id": "48d6cf0c",
   "metadata": {},
   "outputs": [
    {
     "name": "stdout",
     "output_type": "stream",
     "text": [
      "(6, 4)\n",
      "(6, 4)\n"
     ]
    }
   ],
   "source": [
    "x=np.array([[67,12,15,12],\n",
    "           [77,56,45,18],\n",
    "           [45,78,45,19],\n",
    "           [45,12,15,18],\n",
    "           [78,98,45,54],\n",
    "           [45,58,59,14]]\n",
    ")\n",
    "print(np.shape(x))\n",
    "print(x.shape)"
   ]
  },
  {
   "cell_type": "code",
   "execution_count": 65,
   "id": "a7cdf055",
   "metadata": {},
   "outputs": [
    {
     "name": "stdout",
     "output_type": "stream",
     "text": [
      "[[67 12 15 12]\n",
      " [77 56 45 18]\n",
      " [45 78 45 19]\n",
      " [45 12 15 18]\n",
      " [78 98 45 54]\n",
      " [45 58 59 14]]\n"
     ]
    }
   ],
   "source": [
    "x.shape=(6,4)\n",
    "print(x)"
   ]
  },
  {
   "cell_type": "code",
   "execution_count": 66,
   "id": "41052b55",
   "metadata": {},
   "outputs": [
    {
     "data": {
      "text/plain": [
       "array([45, 78, 45, 19])"
      ]
     },
     "execution_count": 66,
     "metadata": {},
     "output_type": "execute_result"
    }
   ],
   "source": [
    "x[2]"
   ]
  },
  {
   "cell_type": "code",
   "execution_count": 67,
   "id": "83530219",
   "metadata": {},
   "outputs": [
    {
     "data": {
      "text/plain": [
       "45"
      ]
     },
     "execution_count": 67,
     "metadata": {},
     "output_type": "execute_result"
    }
   ],
   "source": [
    "x[2][2]"
   ]
  },
  {
   "cell_type": "code",
   "execution_count": 69,
   "id": "1f0e7306",
   "metadata": {},
   "outputs": [
    {
     "data": {
      "text/plain": [
       "array([45, 78, 45, 19])"
      ]
     },
     "execution_count": 69,
     "metadata": {},
     "output_type": "execute_result"
    }
   ],
   "source": [
    "temp=x[2]\n",
    "temp"
   ]
  },
  {
   "cell_type": "code",
   "execution_count": 70,
   "id": "4f6177bc",
   "metadata": {},
   "outputs": [
    {
     "data": {
      "text/plain": [
       "45"
      ]
     },
     "execution_count": 70,
     "metadata": {},
     "output_type": "execute_result"
    }
   ],
   "source": [
    "temp[2]"
   ]
  },
  {
   "cell_type": "code",
   "execution_count": 71,
   "id": "97b7b044",
   "metadata": {},
   "outputs": [
    {
     "data": {
      "text/plain": [
       "45"
      ]
     },
     "execution_count": 71,
     "metadata": {},
     "output_type": "execute_result"
    }
   ],
   "source": [
    "x[2,2]"
   ]
  },
  {
   "cell_type": "code",
   "execution_count": 72,
   "id": "c68e66ac",
   "metadata": {},
   "outputs": [
    {
     "data": {
      "text/plain": [
       "array([45, 58, 59, 14])"
      ]
     },
     "execution_count": 72,
     "metadata": {},
     "output_type": "execute_result"
    }
   ],
   "source": [
    "x[-1]"
   ]
  },
  {
   "cell_type": "code",
   "execution_count": 73,
   "id": "2227668c",
   "metadata": {},
   "outputs": [
    {
     "data": {
      "text/plain": [
       "59"
      ]
     },
     "execution_count": 73,
     "metadata": {},
     "output_type": "execute_result"
    }
   ],
   "source": [
    "x[-1,-2]"
   ]
  },
  {
   "cell_type": "code",
   "execution_count": 74,
   "id": "3954a353",
   "metadata": {},
   "outputs": [
    {
     "data": {
      "text/plain": [
       "array([4, 5])"
      ]
     },
     "execution_count": 74,
     "metadata": {},
     "output_type": "execute_result"
    }
   ],
   "source": [
    "y=np.array([8,9,5,4,5,2,1,2,0,2,4,7])\n",
    "y[3:5]"
   ]
  },
  {
   "cell_type": "code",
   "execution_count": 75,
   "id": "3e666559",
   "metadata": {},
   "outputs": [
    {
     "data": {
      "text/plain": [
       "array([8, 9, 5, 4, 5, 2])"
      ]
     },
     "execution_count": 75,
     "metadata": {},
     "output_type": "execute_result"
    }
   ],
   "source": [
    "y[:6]"
   ]
  },
  {
   "cell_type": "code",
   "execution_count": 76,
   "id": "e934fdb2",
   "metadata": {},
   "outputs": [
    {
     "data": {
      "text/plain": [
       "array([4, 5, 2, 1, 2, 0, 2, 4, 7])"
      ]
     },
     "execution_count": 76,
     "metadata": {},
     "output_type": "execute_result"
    }
   ],
   "source": [
    "y[3:]"
   ]
  },
  {
   "cell_type": "code",
   "execution_count": 77,
   "id": "622400c4",
   "metadata": {
    "scrolled": false
   },
   "outputs": [
    {
     "data": {
      "text/plain": [
       "array([[45, 18],\n",
       "       [45, 19]])"
      ]
     },
     "execution_count": 77,
     "metadata": {},
     "output_type": "execute_result"
    }
   ],
   "source": [
    "x[1:3,2:4]"
   ]
  },
  {
   "cell_type": "code",
   "execution_count": 78,
   "id": "9e6b41a5",
   "metadata": {},
   "outputs": [
    {
     "data": {
      "text/plain": [
       "array([[45, 18],\n",
       "       [45, 19],\n",
       "       [15, 18],\n",
       "       [45, 54],\n",
       "       [59, 14]])"
      ]
     },
     "execution_count": 78,
     "metadata": {},
     "output_type": "execute_result"
    }
   ],
   "source": [
    "x[1:,2:4]"
   ]
  },
  {
   "cell_type": "code",
   "execution_count": 79,
   "id": "590ecf37",
   "metadata": {},
   "outputs": [
    {
     "data": {
      "text/plain": [
       "array([[67, 12, 15, 12],\n",
       "       [77, 56, 45, 18],\n",
       "       [45, 78, 45, 19],\n",
       "       [45, 12, 15, 18],\n",
       "       [78, 98, 45, 54],\n",
       "       [45, 58, 59, 14]])"
      ]
     },
     "execution_count": 79,
     "metadata": {},
     "output_type": "execute_result"
    }
   ],
   "source": [
    "x[:,:4]"
   ]
  },
  {
   "cell_type": "code",
   "execution_count": 80,
   "id": "85656e38",
   "metadata": {},
   "outputs": [
    {
     "data": {
      "text/plain": [
       "array([[15, 12],\n",
       "       [45, 18],\n",
       "       [45, 19],\n",
       "       [15, 18],\n",
       "       [45, 54],\n",
       "       [59, 14]])"
      ]
     },
     "execution_count": 80,
     "metadata": {},
     "output_type": "execute_result"
    }
   ],
   "source": [
    "x[:,2:]"
   ]
  },
  {
   "cell_type": "code",
   "execution_count": 81,
   "id": "e8c964de",
   "metadata": {},
   "outputs": [
    {
     "data": {
      "text/plain": [
       "array([[67, 12, 15, 12],\n",
       "       [77, 56, 45, 18],\n",
       "       [45, 78, 45, 19],\n",
       "       [45, 12, 15, 18],\n",
       "       [78, 98, 45, 54],\n",
       "       [45, 58, 59, 14]])"
      ]
     },
     "execution_count": 81,
     "metadata": {},
     "output_type": "execute_result"
    }
   ],
   "source": [
    "x[:,:]"
   ]
  },
  {
   "cell_type": "code",
   "execution_count": 83,
   "id": "02115166",
   "metadata": {},
   "outputs": [
    {
     "data": {
      "text/plain": [
       "array([4, 2, 2, 2, 7])"
      ]
     },
     "execution_count": 83,
     "metadata": {},
     "output_type": "execute_result"
    }
   ],
   "source": [
    "y[3::2]"
   ]
  },
  {
   "cell_type": "code",
   "execution_count": 86,
   "id": "8a83b676",
   "metadata": {},
   "outputs": [
    {
     "data": {
      "text/plain": [
       "array([[67, 12, 15, 12],\n",
       "       [45, 78, 45, 19],\n",
       "       [78, 98, 45, 54]])"
      ]
     },
     "execution_count": 86,
     "metadata": {},
     "output_type": "execute_result"
    }
   ],
   "source": [
    "x[::2,:]"
   ]
  },
  {
   "cell_type": "code",
   "execution_count": 87,
   "id": "73976a9f",
   "metadata": {},
   "outputs": [
    {
     "data": {
      "text/plain": [
       "array([[67, 15],\n",
       "       [45, 45],\n",
       "       [78, 45]])"
      ]
     },
     "execution_count": 87,
     "metadata": {},
     "output_type": "execute_result"
    }
   ],
   "source": [
    "x[::2,::2]  #2 satır atla 2 sütun atla göster"
   ]
  },
  {
   "cell_type": "code",
   "execution_count": 88,
   "id": "4a651818",
   "metadata": {},
   "outputs": [
    {
     "data": {
      "text/plain": [
       "array([[67, 12],\n",
       "       [45, 19],\n",
       "       [78, 54]])"
      ]
     },
     "execution_count": 88,
     "metadata": {},
     "output_type": "execute_result"
    }
   ],
   "source": [
    "x[::2,::3] "
   ]
  },
  {
   "cell_type": "code",
   "execution_count": 89,
   "id": "a356fe35",
   "metadata": {},
   "outputs": [],
   "source": [
    "#array of ones and zeros"
   ]
  },
  {
   "cell_type": "code",
   "execution_count": 92,
   "id": "bac5d16e",
   "metadata": {},
   "outputs": [
    {
     "name": "stdout",
     "output_type": "stream",
     "text": [
      "[[1 1 1 1 1 1 1 1 1 1]\n",
      " [1 1 1 1 1 1 1 1 1 1]\n",
      " [1 1 1 1 1 1 1 1 1 1]\n",
      " [1 1 1 1 1 1 1 1 1 1]\n",
      " [1 1 1 1 1 1 1 1 1 1]\n",
      " [1 1 1 1 1 1 1 1 1 1]\n",
      " [1 1 1 1 1 1 1 1 1 1]\n",
      " [1 1 1 1 1 1 1 1 1 1]]\n"
     ]
    }
   ],
   "source": [
    "O=np.ones((8,10),dtype=int)\n",
    "print(O)"
   ]
  },
  {
   "cell_type": "code",
   "execution_count": 91,
   "id": "608cb56a",
   "metadata": {},
   "outputs": [
    {
     "data": {
      "text/plain": [
       "array([[0., 0., 0., 0., 0., 0., 0., 0., 0., 0., 0., 0., 0., 0., 0.],\n",
       "       [0., 0., 0., 0., 0., 0., 0., 0., 0., 0., 0., 0., 0., 0., 0.],\n",
       "       [0., 0., 0., 0., 0., 0., 0., 0., 0., 0., 0., 0., 0., 0., 0.],\n",
       "       [0., 0., 0., 0., 0., 0., 0., 0., 0., 0., 0., 0., 0., 0., 0.],\n",
       "       [0., 0., 0., 0., 0., 0., 0., 0., 0., 0., 0., 0., 0., 0., 0.],\n",
       "       [0., 0., 0., 0., 0., 0., 0., 0., 0., 0., 0., 0., 0., 0., 0.],\n",
       "       [0., 0., 0., 0., 0., 0., 0., 0., 0., 0., 0., 0., 0., 0., 0.],\n",
       "       [0., 0., 0., 0., 0., 0., 0., 0., 0., 0., 0., 0., 0., 0., 0.],\n",
       "       [0., 0., 0., 0., 0., 0., 0., 0., 0., 0., 0., 0., 0., 0., 0.],\n",
       "       [0., 0., 0., 0., 0., 0., 0., 0., 0., 0., 0., 0., 0., 0., 0.]])"
      ]
     },
     "execution_count": 91,
     "metadata": {},
     "output_type": "execute_result"
    }
   ],
   "source": [
    "Z=np.zeros((10,15))\n",
    "Z"
   ]
  },
  {
   "cell_type": "code",
   "execution_count": 97,
   "id": "07ba4c5d",
   "metadata": {},
   "outputs": [
    {
     "name": "stdout",
     "output_type": "stream",
     "text": [
      "Enter the shape of the array3,4\n",
      "[[0 0 0 0]\n",
      " [0 1 2 3]\n",
      " [0 2 4 6]]\n"
     ]
    }
   ],
   "source": [
    "row,col=[int(e) for e in input(\"Enter the shape of the array\").split(\",\")]\n",
    "A=np.ones((row,col),dtype=int)\n",
    "\n",
    "for i in range(row):\n",
    "    for j in range(col):\n",
    "        A[i,j]=i*j\n",
    "print(A)"
   ]
  },
  {
   "cell_type": "code",
   "execution_count": 98,
   "id": "964e166a",
   "metadata": {},
   "outputs": [
    {
     "name": "stdout",
     "output_type": "stream",
     "text": [
      "Enter the shape of the array5,9\n",
      "[[ 0  0  0  0  0  0  0  0  0]\n",
      " [ 0  1  2  3  4  5  6  7  8]\n",
      " [ 0  2  4  6  8 10 12 14 16]\n",
      " [ 0  3  6  9 12 15 18 21 24]\n",
      " [ 0  4  8 12 16 20 24 28 32]]\n"
     ]
    }
   ],
   "source": [
    "row,col=[int(e) for e in input(\"Enter the shape of the array\").split(\",\")]\n",
    "A=np.ones((row,col),dtype=int)\n",
    "\n",
    "for i in range(row):\n",
    "    for j in range(col):\n",
    "        A[i,j]=i*j\n",
    "print(A)"
   ]
  },
  {
   "cell_type": "code",
   "execution_count": 99,
   "id": "8edbc5fd",
   "metadata": {},
   "outputs": [
    {
     "name": "stdout",
     "output_type": "stream",
     "text": [
      "[1 1 1 1 1 1 1]\n",
      "[0 0 0 0 0 0 0]\n"
     ]
    }
   ],
   "source": [
    "x=np.array([2,5,18,12,14,1,15])\n",
    "X=np.ones_like(x)\n",
    "print(X)\n",
    "Y=np.zeros_like(x)\n",
    "print(Y)"
   ]
  },
  {
   "cell_type": "code",
   "execution_count": 100,
   "id": "c7623eff",
   "metadata": {},
   "outputs": [
    {
     "data": {
      "text/plain": [
       "array([ 2,  5, 18, 12, 14,  1, 15])"
      ]
     },
     "execution_count": 100,
     "metadata": {},
     "output_type": "execute_result"
    }
   ],
   "source": [
    "y=x.copy()\n",
    "y"
   ]
  },
  {
   "cell_type": "code",
   "execution_count": 103,
   "id": "1b8915cd",
   "metadata": {},
   "outputs": [
    {
     "data": {
      "text/plain": [
       "array([[1, 0, 0, 0, 0],\n",
       "       [0, 1, 0, 0, 0],\n",
       "       [0, 0, 1, 0, 0],\n",
       "       [0, 0, 0, 1, 0],\n",
       "       [0, 0, 0, 0, 1]])"
      ]
     },
     "execution_count": 103,
     "metadata": {},
     "output_type": "execute_result"
    }
   ],
   "source": [
    "np.identity(5,dtype=int)"
   ]
  },
  {
   "cell_type": "code",
   "execution_count": 104,
   "id": "bd5ab66e",
   "metadata": {},
   "outputs": [
    {
     "data": {
      "text/plain": [
       "array([[1., 0., 0., 0., 0., 0., 0., 0., 0.],\n",
       "       [0., 1., 0., 0., 0., 0., 0., 0., 0.],\n",
       "       [0., 0., 1., 0., 0., 0., 0., 0., 0.],\n",
       "       [0., 0., 0., 1., 0., 0., 0., 0., 0.],\n",
       "       [0., 0., 0., 0., 1., 0., 0., 0., 0.]])"
      ]
     },
     "execution_count": 104,
     "metadata": {},
     "output_type": "execute_result"
    }
   ],
   "source": [
    "np.eye(5,9)"
   ]
  },
  {
   "cell_type": "code",
   "execution_count": 105,
   "id": "a552514d",
   "metadata": {},
   "outputs": [
    {
     "data": {
      "text/plain": [
       "array([[1, 0, 0, 0, 0, 0, 0, 0, 0],\n",
       "       [0, 1, 0, 0, 0, 0, 0, 0, 0],\n",
       "       [0, 0, 1, 0, 0, 0, 0, 0, 0],\n",
       "       [0, 0, 0, 1, 0, 0, 0, 0, 0],\n",
       "       [0, 0, 0, 0, 1, 0, 0, 0, 0]])"
      ]
     },
     "execution_count": 105,
     "metadata": {},
     "output_type": "execute_result"
    }
   ],
   "source": [
    "np.eye(5,9,dtype=int)"
   ]
  },
  {
   "cell_type": "code",
   "execution_count": 106,
   "id": "7515e882",
   "metadata": {},
   "outputs": [
    {
     "data": {
      "text/plain": [
       "array([[0, 1, 0, 0, 0, 0, 0, 0, 0],\n",
       "       [0, 0, 1, 0, 0, 0, 0, 0, 0],\n",
       "       [0, 0, 0, 1, 0, 0, 0, 0, 0],\n",
       "       [0, 0, 0, 0, 1, 0, 0, 0, 0],\n",
       "       [0, 0, 0, 0, 0, 1, 0, 0, 0]])"
      ]
     },
     "execution_count": 106,
     "metadata": {},
     "output_type": "execute_result"
    }
   ],
   "source": [
    "np.eye(5,9,k=1,dtype=int)  #1 kolon sağdan başladı"
   ]
  },
  {
   "cell_type": "code",
   "execution_count": 107,
   "id": "dd1514a8",
   "metadata": {},
   "outputs": [
    {
     "data": {
      "text/plain": [
       "array([[0, 0, 0, 0, 0, 0, 0, 0, 0],\n",
       "       [1, 0, 0, 0, 0, 0, 0, 0, 0],\n",
       "       [0, 1, 0, 0, 0, 0, 0, 0, 0],\n",
       "       [0, 0, 1, 0, 0, 0, 0, 0, 0],\n",
       "       [0, 0, 0, 1, 0, 0, 0, 0, 0]])"
      ]
     },
     "execution_count": 107,
     "metadata": {},
     "output_type": "execute_result"
    }
   ],
   "source": [
    "np.eye(5,9,k=-1,dtype=int)  #1 satır alttan başladı"
   ]
  },
  {
   "cell_type": "code",
   "execution_count": 110,
   "id": "068bb161",
   "metadata": {},
   "outputs": [
    {
     "data": {
      "text/plain": [
       "array([ 2,  5, 18, 12, 14,  1, 15])"
      ]
     },
     "execution_count": 110,
     "metadata": {},
     "output_type": "execute_result"
    }
   ],
   "source": [
    "x"
   ]
  },
  {
   "cell_type": "code",
   "execution_count": 108,
   "id": "3c40e7ef",
   "metadata": {},
   "outputs": [
    {
     "data": {
      "text/plain": [
       "array([ 5,  8, 21, 15, 17,  4, 18])"
      ]
     },
     "execution_count": 108,
     "metadata": {},
     "output_type": "execute_result"
    }
   ],
   "source": [
    "x+3"
   ]
  },
  {
   "cell_type": "code",
   "execution_count": 109,
   "id": "61402037",
   "metadata": {},
   "outputs": [
    {
     "data": {
      "text/plain": [
       "array([1, 2, 9, 6, 7, 0, 7], dtype=int32)"
      ]
     },
     "execution_count": 109,
     "metadata": {},
     "output_type": "execute_result"
    }
   ],
   "source": [
    "x//2"
   ]
  },
  {
   "cell_type": "code",
   "execution_count": 111,
   "id": "6b3fa43f",
   "metadata": {},
   "outputs": [
    {
     "data": {
      "text/plain": [
       "array([  4,  25, 324, 144, 196,   1, 225], dtype=int32)"
      ]
     },
     "execution_count": 111,
     "metadata": {},
     "output_type": "execute_result"
    }
   ],
   "source": [
    "x**2"
   ]
  },
  {
   "cell_type": "code",
   "execution_count": 113,
   "id": "2556a98a",
   "metadata": {},
   "outputs": [
    {
     "name": "stdout",
     "output_type": "stream",
     "text": [
      "[[11 12 13]\n",
      " [21 22 23]\n",
      " [31 32 33]]\n",
      "[[1 1 1]\n",
      " [1 1 1]\n",
      " [1 1 1]]\n"
     ]
    }
   ],
   "source": [
    "A=np.array([[11,12,13],[21,22,23],[31,32,33]])\n",
    "B=np.ones((3,3),dtype=int)\n",
    "print(A)\n",
    "print(B)"
   ]
  },
  {
   "cell_type": "code",
   "execution_count": 114,
   "id": "979b2886",
   "metadata": {},
   "outputs": [
    {
     "data": {
      "text/plain": [
       "array([[12, 13, 14],\n",
       "       [22, 23, 24],\n",
       "       [32, 33, 34]])"
      ]
     },
     "execution_count": 114,
     "metadata": {},
     "output_type": "execute_result"
    }
   ],
   "source": [
    "A+B"
   ]
  },
  {
   "cell_type": "code",
   "execution_count": 115,
   "id": "4331fc7e",
   "metadata": {},
   "outputs": [
    {
     "data": {
      "text/plain": [
       "array([[10, 11, 12],\n",
       "       [20, 21, 22],\n",
       "       [30, 31, 32]])"
      ]
     },
     "execution_count": 115,
     "metadata": {},
     "output_type": "execute_result"
    }
   ],
   "source": [
    "A-B"
   ]
  },
  {
   "cell_type": "code",
   "execution_count": 116,
   "id": "e27b3dfd",
   "metadata": {},
   "outputs": [
    {
     "data": {
      "text/plain": [
       "array([[11, 12, 13],\n",
       "       [21, 22, 23],\n",
       "       [31, 32, 33]])"
      ]
     },
     "execution_count": 116,
     "metadata": {},
     "output_type": "execute_result"
    }
   ],
   "source": [
    "A*B"
   ]
  },
  {
   "cell_type": "code",
   "execution_count": 117,
   "id": "d6061af5",
   "metadata": {},
   "outputs": [],
   "source": [
    "#Matrix multiplication"
   ]
  },
  {
   "cell_type": "code",
   "execution_count": 118,
   "id": "489769ff",
   "metadata": {},
   "outputs": [
    {
     "data": {
      "text/plain": [
       "array([[11, 12, 13],\n",
       "       [21, 22, 23],\n",
       "       [31, 32, 33]], dtype=int32)"
      ]
     },
     "execution_count": 118,
     "metadata": {},
     "output_type": "execute_result"
    }
   ],
   "source": [
    "A//B"
   ]
  },
  {
   "cell_type": "code",
   "execution_count": 119,
   "id": "de9efa19",
   "metadata": {},
   "outputs": [
    {
     "data": {
      "text/plain": [
       "array([[11, 12, 13],\n",
       "       [21, 22, 23],\n",
       "       [31, 32, 33]], dtype=int32)"
      ]
     },
     "execution_count": 119,
     "metadata": {},
     "output_type": "execute_result"
    }
   ],
   "source": [
    "A**B"
   ]
  },
  {
   "cell_type": "code",
   "execution_count": 120,
   "id": "0926b5c4",
   "metadata": {},
   "outputs": [
    {
     "data": {
      "text/plain": [
       "array([[36, 36, 36],\n",
       "       [66, 66, 66],\n",
       "       [96, 96, 96]])"
      ]
     },
     "execution_count": 120,
     "metadata": {},
     "output_type": "execute_result"
    }
   ],
   "source": [
    "np.dot(A,B)"
   ]
  },
  {
   "cell_type": "code",
   "execution_count": 121,
   "id": "67e244ef",
   "metadata": {},
   "outputs": [
    {
     "name": "stdout",
     "output_type": "stream",
     "text": [
      "[[[3 1 2]\n",
      "  [5 2 1]\n",
      "  [4 1 1]]\n",
      "\n",
      " [[3 2 4]\n",
      "  [2 1 5]\n",
      "  [3 5 4]]\n",
      "\n",
      " [[2 1 4]\n",
      "  [5 4 1]\n",
      "  [6 5 1]]]\n",
      "[[[1 1 1]\n",
      "  [1 1 1]\n",
      "  [1 1 1]]\n",
      "\n",
      " [[1 1 1]\n",
      "  [1 1 1]\n",
      "  [1 1 1]]\n",
      "\n",
      " [[1 1 1]\n",
      "  [1 1 1]\n",
      "  [1 1 1]]]\n"
     ]
    }
   ],
   "source": [
    "X=np.array([[[3,1,2],\n",
    "           [5,2,1],\n",
    "           [4,1,1]],\n",
    "            [[3,2,4],\n",
    "            [2,1,5],\n",
    "            [3,5,4]],\n",
    "            [[2,1,4],\n",
    "            [5,4,1],\n",
    "            [6,5,1]]])\n",
    "Y=np.ones_like(X)\n",
    "print(X)\n",
    "print(Y)"
   ]
  },
  {
   "cell_type": "code",
   "execution_count": 122,
   "id": "430c2882",
   "metadata": {},
   "outputs": [
    {
     "data": {
      "text/plain": [
       "array([[[[ 6,  6,  6],\n",
       "         [ 6,  6,  6],\n",
       "         [ 6,  6,  6]],\n",
       "\n",
       "        [[ 8,  8,  8],\n",
       "         [ 8,  8,  8],\n",
       "         [ 8,  8,  8]],\n",
       "\n",
       "        [[ 6,  6,  6],\n",
       "         [ 6,  6,  6],\n",
       "         [ 6,  6,  6]]],\n",
       "\n",
       "\n",
       "       [[[ 9,  9,  9],\n",
       "         [ 9,  9,  9],\n",
       "         [ 9,  9,  9]],\n",
       "\n",
       "        [[ 8,  8,  8],\n",
       "         [ 8,  8,  8],\n",
       "         [ 8,  8,  8]],\n",
       "\n",
       "        [[12, 12, 12],\n",
       "         [12, 12, 12],\n",
       "         [12, 12, 12]]],\n",
       "\n",
       "\n",
       "       [[[ 7,  7,  7],\n",
       "         [ 7,  7,  7],\n",
       "         [ 7,  7,  7]],\n",
       "\n",
       "        [[10, 10, 10],\n",
       "         [10, 10, 10],\n",
       "         [10, 10, 10]],\n",
       "\n",
       "        [[12, 12, 12],\n",
       "         [12, 12, 12],\n",
       "         [12, 12, 12]]]])"
      ]
     },
     "execution_count": 122,
     "metadata": {},
     "output_type": "execute_result"
    }
   ],
   "source": [
    "np.dot(X,Y)"
   ]
  },
  {
   "cell_type": "code",
   "execution_count": 123,
   "id": "7f70c1c4",
   "metadata": {},
   "outputs": [
    {
     "name": "stdout",
     "output_type": "stream",
     "text": [
      "[[36 36 36]\n",
      " [66 66 66]\n",
      " [96 96 96]]\n"
     ]
    }
   ],
   "source": [
    "MA=np.mat(A)\n",
    "MB=np.mat(B)\n",
    "print(MA*MB)"
   ]
  },
  {
   "cell_type": "code",
   "execution_count": 124,
   "id": "0338ff3c",
   "metadata": {},
   "outputs": [],
   "source": [
    "#Comparison operations"
   ]
  },
  {
   "cell_type": "code",
   "execution_count": 125,
   "id": "9583c6a1",
   "metadata": {},
   "outputs": [
    {
     "name": "stdout",
     "output_type": "stream",
     "text": [
      "[[ True False  True]\n",
      " [False  True False]\n",
      " [False False  True]]\n"
     ]
    }
   ],
   "source": [
    "A=np.array([[1,2,3],\n",
    "           [4,5,6],\n",
    "           [7,8,9]])\n",
    "B=np.array([[1,5,3],\n",
    "            [3,5,2],\n",
    "            [4,9,9]])\n",
    "print(A==B)"
   ]
  },
  {
   "cell_type": "code",
   "execution_count": 126,
   "id": "830271fa",
   "metadata": {},
   "outputs": [
    {
     "data": {
      "text/plain": [
       "False"
      ]
     },
     "execution_count": 126,
     "metadata": {},
     "output_type": "execute_result"
    }
   ],
   "source": [
    "np.array_equal(A,B)"
   ]
  },
  {
   "cell_type": "code",
   "execution_count": 127,
   "id": "59620463",
   "metadata": {},
   "outputs": [
    {
     "data": {
      "text/plain": [
       "True"
      ]
     },
     "execution_count": 127,
     "metadata": {},
     "output_type": "execute_result"
    }
   ],
   "source": [
    "np.array_equal(A,A)"
   ]
  },
  {
   "cell_type": "code",
   "execution_count": 132,
   "id": "0230d5a2",
   "metadata": {},
   "outputs": [
    {
     "name": "stdout",
     "output_type": "stream",
     "text": [
      "[[ True False]\n",
      " [False False]]\n"
     ]
    }
   ],
   "source": [
    "a=np.array([[True,True],\n",
    "           [False,False]])\n",
    "b=np.array([[True,False],\n",
    "           [True,False]])\n",
    "print(np.logical_and(a,b))"
   ]
  },
  {
   "cell_type": "code",
   "execution_count": 135,
   "id": "c838a7b5",
   "metadata": {},
   "outputs": [
    {
     "name": "stdout",
     "output_type": "stream",
     "text": [
      "[[False False]\n",
      " [ True  True]]\n"
     ]
    }
   ],
   "source": [
    "print(np.logical_not(a))"
   ]
  },
  {
   "cell_type": "code",
   "execution_count": 137,
   "id": "1c720c73",
   "metadata": {},
   "outputs": [
    {
     "name": "stdout",
     "output_type": "stream",
     "text": [
      "[[ True  True]\n",
      " [ True  True]]\n"
     ]
    }
   ],
   "source": [
    "print(np.logical_or(a,b))"
   ]
  },
  {
   "cell_type": "code",
   "execution_count": 131,
   "id": "547ad90e",
   "metadata": {},
   "outputs": [
    {
     "name": "stdout",
     "output_type": "stream",
     "text": [
      "[[ True  True]\n",
      " [ True  True]]\n"
     ]
    }
   ],
   "source": [
    "print(np.logical_xor(a,b))"
   ]
  },
  {
   "cell_type": "code",
   "execution_count": null,
   "id": "7d61789a",
   "metadata": {},
   "outputs": [],
   "source": []
  },
  {
   "cell_type": "code",
   "execution_count": null,
   "id": "8fabc04f",
   "metadata": {},
   "outputs": [],
   "source": []
  },
  {
   "cell_type": "code",
   "execution_count": null,
   "id": "a8ab2359",
   "metadata": {},
   "outputs": [],
   "source": []
  },
  {
   "cell_type": "code",
   "execution_count": null,
   "id": "58db9735",
   "metadata": {},
   "outputs": [],
   "source": []
  },
  {
   "cell_type": "code",
   "execution_count": null,
   "id": "dc8b1e6f",
   "metadata": {},
   "outputs": [],
   "source": []
  },
  {
   "cell_type": "code",
   "execution_count": null,
   "id": "ec174f96",
   "metadata": {},
   "outputs": [],
   "source": []
  }
 ],
 "metadata": {
  "kernelspec": {
   "display_name": "Python 3",
   "language": "python",
   "name": "python3"
  },
  "language_info": {
   "codemirror_mode": {
    "name": "ipython",
    "version": 3
   },
   "file_extension": ".py",
   "mimetype": "text/x-python",
   "name": "python",
   "nbconvert_exporter": "python",
   "pygments_lexer": "ipython3",
   "version": "3.7.7"
  }
 },
 "nbformat": 4,
 "nbformat_minor": 5
}
