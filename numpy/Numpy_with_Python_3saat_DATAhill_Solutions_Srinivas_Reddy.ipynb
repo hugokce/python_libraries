{
 "cells": [
  {
   "cell_type": "code",
   "execution_count": 1,
   "id": "ede6bc60",
   "metadata": {},
   "outputs": [],
   "source": [
    "#https://www.udemy.com/course/numpy-with-python/learn/lecture/17677106?start=15#overview\n",
    "\n",
    "#3 saat\n",
    "\n",
    "#NumPy+with+Python+-+DATAhill+Solutions.pdf indirildi\n",
    "#DATA+SCIENCE+with+DA,+ML,+DL,+AI+using+Python+&++R.pdf indirildi\n",
    "\n",
    "#Anaconda kullanıyor\n",
    "\n"
   ]
  },
  {
   "cell_type": "code",
   "execution_count": 2,
   "id": "8ca7593e",
   "metadata": {},
   "outputs": [
    {
     "name": "stdout",
     "output_type": "stream",
     "text": [
      "1.21.6\n"
     ]
    }
   ],
   "source": [
    "import numpy as np\n",
    "print(np.__version__)\n",
    "\n"
   ]
  },
  {
   "cell_type": "code",
   "execution_count": 6,
   "id": "536e4f19",
   "metadata": {},
   "outputs": [
    {
     "name": "stdout",
     "output_type": "stream",
     "text": [
      "[1, 2, 3, 4, 5]\n",
      "[1 2 3 4 5]\n",
      "[101 102 103 104 105]\n"
     ]
    }
   ],
   "source": [
    "a=[1,2,3,4,5]\n",
    "print(a)\n",
    "type(a)  \n",
    "# [1,2,3,4,5]\n",
    "b=np.array(a)\n",
    "print(b) #  [1 2 3 4 5]\n",
    "print(b+100)"
   ]
  },
  {
   "cell_type": "code",
   "execution_count": 7,
   "id": "049ee524",
   "metadata": {},
   "outputs": [
    {
     "data": {
      "text/plain": [
       "dtype('int32')"
      ]
     },
     "execution_count": 7,
     "metadata": {},
     "output_type": "execute_result"
    }
   ],
   "source": [
    "b.shape # 5 verir 5 eleman var içinde\n",
    "b.dtype #(int32) verir"
   ]
  },
  {
   "cell_type": "code",
   "execution_count": 10,
   "id": "3d10b70a",
   "metadata": {},
   "outputs": [
    {
     "name": "stdout",
     "output_type": "stream",
     "text": [
      "[[ 1  2  3  4  5  6  7  8  9 10]]\n"
     ]
    },
    {
     "data": {
      "text/plain": [
       "dtype('int32')"
      ]
     },
     "execution_count": 10,
     "metadata": {},
     "output_type": "execute_result"
    }
   ],
   "source": [
    "a= np.array([1,2,3,4,5,6,7,8,9,10],ndmin=2)\n",
    "print(a) #-->  [[1 2 3 4 5 6 7 8 9 10]]  verir\n",
    "a.shape #(1,10) verir\n",
    "a.dtype #int32 verir"
   ]
  },
  {
   "cell_type": "code",
   "execution_count": 12,
   "id": "eb613075",
   "metadata": {},
   "outputs": [
    {
     "name": "stdout",
     "output_type": "stream",
     "text": [
      "[ 1.+0.j  2.+0.j  3.+0.j  4.+0.j  5.+0.j  6.+0.j  7.+0.j  8.+0.j  9.+0.j\n",
      " 10.+0.j]\n"
     ]
    }
   ],
   "source": [
    "a= np.array([1,2,3,4,5,6,7,8,9,10],dtype=complex)\n",
    "#dersek dtype complex123 gelir\n",
    "#ayrıca yanına +0j eklenir\n",
    "print(a)\n"
   ]
  },
  {
   "cell_type": "code",
   "execution_count": 13,
   "id": "547bd3ed",
   "metadata": {},
   "outputs": [
    {
     "name": "stdout",
     "output_type": "stream",
     "text": [
      "[[1 2 3]\n",
      " [4 5 6]]\n"
     ]
    },
    {
     "data": {
      "text/plain": [
       "(2, 3)"
      ]
     },
     "execution_count": 13,
     "metadata": {},
     "output_type": "execute_result"
    }
   ],
   "source": [
    "a= np.array([[1,2,3],[4,5,6]])\n",
    "print(a) # [[1 2 3] [4 5 6]]\n",
    "a.shape # (2,3) verir"
   ]
  },
  {
   "cell_type": "code",
   "execution_count": 15,
   "id": "c5565199",
   "metadata": {},
   "outputs": [
    {
     "name": "stdout",
     "output_type": "stream",
     "text": [
      "[[[ 1  2  3]\n",
      "  [ 4  5  6]]\n",
      "\n",
      " [[ 7  8  9]\n",
      "  [10 11 12]]]\n"
     ]
    },
    {
     "data": {
      "text/plain": [
       "(2, 2, 3)"
      ]
     },
     "execution_count": 15,
     "metadata": {},
     "output_type": "execute_result"
    }
   ],
   "source": [
    "a= np.array([[[1,2,3],[4,5,6]],[[7,8,9],[10,11,12]]])\n",
    "print(a)  \n",
    "a.shape # (2,2,3) verir\n",
    "\n"
   ]
  },
  {
   "cell_type": "code",
   "execution_count": 17,
   "id": "823a66d6",
   "metadata": {},
   "outputs": [
    {
     "name": "stdout",
     "output_type": "stream",
     "text": [
      "[[ 1  2  3]\n",
      " [ 4  5  6]\n",
      " [ 7  8  9]\n",
      " [10 11 12]]\n"
     ]
    },
    {
     "data": {
      "text/plain": [
       "(4, 3)"
      ]
     },
     "execution_count": 17,
     "metadata": {},
     "output_type": "execute_result"
    }
   ],
   "source": [
    "a= np.array([[1,2,3],[4,5,6],[7,8,9],[10,11,12]])\n",
    "print(a)  \n",
    "a.shape # (4,3) verir\n"
   ]
  },
  {
   "cell_type": "code",
   "execution_count": 18,
   "id": "27cd01e4",
   "metadata": {},
   "outputs": [
    {
     "name": "stdout",
     "output_type": "stream",
     "text": [
      "[[1 2 3]\n",
      " [4 5 6]]\n",
      "[[1 2]\n",
      " [3 4]\n",
      " [5 6]]\n"
     ]
    }
   ],
   "source": [
    "a= np.array([[1,2,3],[4,5,6]])\n",
    "print(a)  #[[1 2 3] [4 5 6]]\n",
    "a.shape =(3,2) #verirsek\n",
    "a.shape #(3,2) verir\n",
    "print(a) #[[1 2] [3 4] [5 6]] verir\n",
    "\n"
   ]
  },
  {
   "cell_type": "code",
   "execution_count": 20,
   "id": "0f9aeaa8",
   "metadata": {},
   "outputs": [
    {
     "name": "stdout",
     "output_type": "stream",
     "text": [
      "[[1 2 3]\n",
      " [4 5 6]]\n",
      "[[1 2]\n",
      " [3 4]\n",
      " [5 6]]\n"
     ]
    }
   ],
   "source": [
    "#Numpy Array devam:\n",
    "\n",
    "a= np.array([[1,2,3],[4,5,6]])\n",
    "print(a) # [[1 2 3] [4 5 6]]\n",
    "a.reshape(3,2)\n",
    "#ama a'ya bunu eşitlemezsek işlemez a yine 2,3 olarak devam eder\n",
    "a=a.reshape(3,2)\n",
    "print(a)\n",
    "\n"
   ]
  },
  {
   "cell_type": "code",
   "execution_count": 21,
   "id": "e826c0d3",
   "metadata": {},
   "outputs": [
    {
     "name": "stdout",
     "output_type": "stream",
     "text": [
      "2\n"
     ]
    }
   ],
   "source": [
    "print(a.ndim) #  dersek 2 döner 2 boyut var."
   ]
  },
  {
   "cell_type": "code",
   "execution_count": 23,
   "id": "2f4ff644",
   "metadata": {},
   "outputs": [
    {
     "name": "stdout",
     "output_type": "stream",
     "text": [
      "[1 2 3 4 5 6]\n",
      "[[1 2]\n",
      " [3 4]\n",
      " [5 6]]\n",
      "2\n"
     ]
    }
   ],
   "source": [
    "a= np.array([1,2,3,4,5,6])\n",
    "print(a)\n",
    "a=a.reshape(3,2)\n",
    "print(a) # [[1 2] [3 4] [5 6]]\n",
    "print(a.ndim)  #2\n",
    "\n"
   ]
  },
  {
   "cell_type": "code",
   "execution_count": 26,
   "id": "5cb2beac",
   "metadata": {},
   "outputs": [
    {
     "data": {
      "text/plain": [
       "array([[1, 2],\n",
       "       [3, 4],\n",
       "       [5, 6]])"
      ]
     },
     "execution_count": 26,
     "metadata": {},
     "output_type": "execute_result"
    }
   ],
   "source": [
    "#np.empty(shape, dtype=float,order='C')  c row-major demektir\n",
    "#bir de F var o da column-major order demektir\n",
    "np.empty([3,2])  # 3*2lik çok küçük tesadüfi sayılardan oluşan\n",
    "#array oluşturur\n",
    "np.empty([3,2],dtype=int)\n",
    "#array([[1,2],[3,4],[5,6]])# verir\n",
    "\n"
   ]
  },
  {
   "cell_type": "code",
   "execution_count": 28,
   "id": "06da45de",
   "metadata": {},
   "outputs": [
    {
     "data": {
      "text/plain": [
       "array([[0, 0],\n",
       "       [0, 0],\n",
       "       [0, 0]])"
      ]
     },
     "execution_count": 28,
     "metadata": {},
     "output_type": "execute_result"
    }
   ],
   "source": [
    "np.zeros([3,2],dtype=int)\n",
    "#array([[0,0],[0,0],[0,0]]) verir\n",
    "\n"
   ]
  },
  {
   "cell_type": "code",
   "execution_count": 29,
   "id": "b0147b32",
   "metadata": {},
   "outputs": [
    {
     "data": {
      "text/plain": [
       "array([[1, 1],\n",
       "       [1, 1],\n",
       "       [1, 1]])"
      ]
     },
     "execution_count": 29,
     "metadata": {},
     "output_type": "execute_result"
    }
   ],
   "source": [
    "np.ones([3,2],dtype=int)\n",
    "#array([[1,1],[1,1],[1,1]]) verir\n",
    "\n"
   ]
  },
  {
   "cell_type": "code",
   "execution_count": 31,
   "id": "9af7ccd9",
   "metadata": {},
   "outputs": [
    {
     "name": "stdout",
     "output_type": "stream",
     "text": [
      "[1, 2, 3, 4, 5]\n",
      "[1 2 3 4 5]\n"
     ]
    }
   ],
   "source": [
    "a=[1,2,3,4,5]\n",
    "print(a)\n",
    "type(a) #  [1,2,3,4,5]\n",
    "b=np.asarray(a,dtype=int)\n",
    "print(b) #  [1 2 3 4 5]\n",
    "\n"
   ]
  },
  {
   "cell_type": "code",
   "execution_count": 32,
   "id": "fead7eaf",
   "metadata": {},
   "outputs": [
    {
     "name": "stdout",
     "output_type": "stream",
     "text": [
      "[0 1 2 3 4]\n",
      "[0. 1. 2. 3. 4.]\n",
      "[ 1  2  3  4  5  6  7  8  9 10]\n",
      "[1 3 5 7 9]\n"
     ]
    }
   ],
   "source": [
    "#np.arange(start,end,step) kullanımı\n",
    "np.arange(5) #dersek array([0,1,2,3,4]) verir\n",
    "print(np.arange(5)) #dersek [0 1 2 3 4] verir\n",
    "print(np.arange(5,dtype=float)) #[0. 1. 2. 3. 4.] verir\n",
    "print(np.arange(1,11)) #[1 2 3 4 5 6 7 8 9 10] döner\n",
    "print(np.arange(1,11,2)) #[1 3 5 7 9] döner\n",
    "\n"
   ]
  },
  {
   "cell_type": "code",
   "execution_count": 45,
   "id": "39e0d3c1",
   "metadata": {},
   "outputs": [
    {
     "name": "stdout",
     "output_type": "stream",
     "text": [
      "[ 1. 11.]\n",
      "[ 1.    3.25  5.5   7.75 10.  ]\n",
      "[ 1.    5.75 10.5  15.25 20.  ]\n",
      "[ 1.  6. 11. 16. 21.]\n",
      "[ 1.          3.22222222  5.44444444  7.66666667  9.88888889 12.11111111\n",
      " 14.33333333 16.55555556 18.77777778 21.        ]\n",
      "[ 1.          3.22222222  5.44444444  7.66666667  9.88888889 12.11111111\n",
      " 14.33333333 16.55555556 18.77777778 21.        ]\n",
      "[ 1.  3.  5.  7.  9. 11. 13. 15. 17. 19.]\n",
      "[ 1.          3.22222222  5.44444444  7.66666667  9.88888889 12.11111111\n",
      " 14.33333333 16.55555556 18.77777778 21.        ]\n",
      "(array([ 1.        ,  3.22222222,  5.44444444,  7.66666667,  9.88888889,\n",
      "       12.11111111, 14.33333333, 16.55555556, 18.77777778, 21.        ]), 2.2222222222222223)\n"
     ]
    }
   ],
   "source": [
    "#linspace() kullanımı\n",
    "print(np.linspace(1,11,2)) # [1. 11.] döner \n",
    "print(np.linspace(1,10,5)) #[1. 3.25 5.5 5.75 10.] döner \n",
    "print(np.linspace(1,20,5)) \n",
    "print(np.linspace(1,21,5))\n",
    "print(np.linspace(1,21,10))\n",
    "print(np.linspace(1,21,10,endpoint=True))\n",
    "print(np.linspace(1,21,10,endpoint=False))\n",
    "print(np.linspace(1,21,10,retstep=False))\n",
    "print(np.linspace(1,21,10,retstep=True))"
   ]
  },
  {
   "cell_type": "code",
   "execution_count": 46,
   "id": "4b04159e",
   "metadata": {},
   "outputs": [],
   "source": [
    "#Indexing ve Slicing "
   ]
  },
  {
   "cell_type": "code",
   "execution_count": 49,
   "id": "687d94a2",
   "metadata": {},
   "outputs": [
    {
     "name": "stdout",
     "output_type": "stream",
     "text": [
      "[0 1 2 3 4 5 6 7 8 9]\n",
      "slice(2, 7, 2)\n"
     ]
    }
   ],
   "source": [
    "a=np.arange(10)\n",
    "print(a)\n",
    "print(slice(2,7,2))"
   ]
  },
  {
   "cell_type": "code",
   "execution_count": 51,
   "id": "d10fc728",
   "metadata": {},
   "outputs": [],
   "source": [
    "#a[position]\n",
    "#a[begin:end]\n",
    "#a[begin:end:step]\n",
    "#a[begin:end:step,begin:end:step]"
   ]
  },
  {
   "cell_type": "code",
   "execution_count": 61,
   "id": "23a34176",
   "metadata": {},
   "outputs": [
    {
     "name": "stdout",
     "output_type": "stream",
     "text": [
      "[0 1 2 3 4 5 6 7 8 9]\n"
     ]
    },
    {
     "data": {
      "text/plain": [
       "5"
      ]
     },
     "execution_count": 61,
     "metadata": {},
     "output_type": "execute_result"
    }
   ],
   "source": [
    "a=np.arange(10)\n",
    "print(a)\n",
    "a[5]\n"
   ]
  },
  {
   "cell_type": "code",
   "execution_count": 62,
   "id": "8c55c055",
   "metadata": {},
   "outputs": [
    {
     "data": {
      "text/plain": [
       "array([2, 3, 4, 5])"
      ]
     },
     "execution_count": 62,
     "metadata": {},
     "output_type": "execute_result"
    }
   ],
   "source": [
    "a[2:6]"
   ]
  },
  {
   "cell_type": "code",
   "execution_count": 59,
   "id": "6d7b2eaa",
   "metadata": {},
   "outputs": [
    {
     "name": "stdout",
     "output_type": "stream",
     "text": [
      "10\n"
     ]
    }
   ],
   "source": [
    "a=np.array(10)\n",
    "print(a)\n"
   ]
  },
  {
   "cell_type": "code",
   "execution_count": 75,
   "id": "6db06fba",
   "metadata": {},
   "outputs": [
    {
     "name": "stdout",
     "output_type": "stream",
     "text": [
      "['DS' 'DA' 'ML' 'Python' 'R' 'AI']\n",
      "['Python' 'R' 'AI']\n",
      "['DS' 'DA' 'ML' 'Python']\n",
      "['DA' 'Python']\n",
      "['AI' 'Python' 'DA']\n",
      "['DS' 'Python' 'R']\n"
     ]
    }
   ],
   "source": [
    "a=np.array(['DS','DA','ML','Python','R','AI'])\n",
    "print(a)\n",
    "a[1]\n",
    "print(a[3:6])\n",
    "print(a[:4])\n",
    "print(a[1:5:2])\n",
    "print(a[-1:-6:-2])\n",
    "print(a[[0,3,4]])\n"
   ]
  },
  {
   "cell_type": "code",
   "execution_count": 76,
   "id": "d984441f",
   "metadata": {},
   "outputs": [
    {
     "name": "stdout",
     "output_type": "stream",
     "text": [
      "['DS' 'DA' 'ML' 'Python' 'R' 'AI']\n"
     ]
    },
    {
     "data": {
      "text/plain": [
       "1"
      ]
     },
     "execution_count": 76,
     "metadata": {},
     "output_type": "execute_result"
    }
   ],
   "source": [
    "a=np.array(['DS','DA','ML','Python','R','AI'])\n",
    "print(a)\n",
    "a.ndim"
   ]
  },
  {
   "cell_type": "code",
   "execution_count": 78,
   "id": "10f17319",
   "metadata": {},
   "outputs": [
    {
     "data": {
      "text/plain": [
       "(6,)"
      ]
     },
     "execution_count": 78,
     "metadata": {},
     "output_type": "execute_result"
    }
   ],
   "source": [
    "a.shape"
   ]
  },
  {
   "cell_type": "code",
   "execution_count": 83,
   "id": "ee3fbe62",
   "metadata": {},
   "outputs": [
    {
     "name": "stdout",
     "output_type": "stream",
     "text": [
      "['DS' 'DA' 'ML']\n",
      "['DS' 'ML' 'R']\n",
      "['AI' 'Python' 'DA']\n",
      "['AI' 'Python' 'DA']\n"
     ]
    }
   ],
   "source": [
    "print(a[0:3])\n",
    "print(a[::2])\n",
    "print(a[-1:-6:-2])\n",
    "print(a[::-2])"
   ]
  },
  {
   "cell_type": "code",
   "execution_count": 84,
   "id": "5a6c705a",
   "metadata": {},
   "outputs": [
    {
     "name": "stdout",
     "output_type": "stream",
     "text": [
      "[['DS' 'DA' 'ML' 'Python']\n",
      " ['R' 'AI' 'Weka' 'DM']\n",
      " ['C' 'Java' 'Dotnet' 'C#']]\n"
     ]
    },
    {
     "data": {
      "text/plain": [
       "(3, 4)"
      ]
     },
     "execution_count": 84,
     "metadata": {},
     "output_type": "execute_result"
    }
   ],
   "source": [
    "a=np.array([['DS','DA','ML','Python'],['R','AI','Weka','DM'],['C','Java','Dotnet','C#']])\n",
    "print(a)\n",
    "a.shape"
   ]
  },
  {
   "cell_type": "code",
   "execution_count": 107,
   "id": "dd027999",
   "metadata": {},
   "outputs": [
    {
     "name": "stdout",
     "output_type": "stream",
     "text": [
      "DS\n",
      "['DS' 'DA' 'ML' 'Python']\n",
      "['DS' 'DA' 'ML' 'Python']\n",
      "[['AI' 'Weka']\n",
      " ['Java' 'Dotnet']]\n",
      "[['DS' 'Python']\n",
      " ['C' 'C#']]\n",
      "['DS' 'C#']\n",
      "[['DS' 'DA' 'ML' 'Python']\n",
      " ['C' 'Java' 'Dotnet' 'C#']]\n",
      "['DS' 'C#']\n"
     ]
    }
   ],
   "source": [
    "print(a[0,0])\n",
    "#print(a[0][0])\n",
    "print(a[0,])\n",
    "print(a[0,0:4:1])\n",
    "print(a[1:3,1:3])\n",
    "print(a[0:3:2,0:4:3])\n",
    "print(a[[0,2],[0,3]])\n",
    "print(a[[0,2],])\n",
    "print(a[(0,2),(0,3)])"
   ]
  },
  {
   "cell_type": "code",
   "execution_count": 108,
   "id": "898b5bbd",
   "metadata": {},
   "outputs": [
    {
     "name": "stdout",
     "output_type": "stream",
     "text": [
      "[11 22 33 44 55]\n"
     ]
    }
   ],
   "source": [
    "a=np.array([1,2,3,4,5])\n",
    "b=np.array([10,20,30,40,50])\n",
    "print(a+b)"
   ]
  },
  {
   "cell_type": "code",
   "execution_count": 112,
   "id": "bfe59a26",
   "metadata": {},
   "outputs": [
    {
     "name": "stdout",
     "output_type": "stream",
     "text": [
      "[[11 22 33 44]\n",
      " [15 26 37 48]]\n",
      "[[1 5]\n",
      " [2 6]\n",
      " [3 7]\n",
      " [4 8]]\n"
     ]
    }
   ],
   "source": [
    "a=np.array([[1,2,3,4],[5,6,7,8]])\n",
    "b=np.array([10,20,30,40])\n",
    "print(a+b)\n",
    "print(a.T)  #transpoze ettik"
   ]
  },
  {
   "cell_type": "code",
   "execution_count": 113,
   "id": "99f1d0ce",
   "metadata": {},
   "outputs": [],
   "source": [
    "#Statistical Functions , Operators and Random Numbers"
   ]
  },
  {
   "cell_type": "code",
   "execution_count": 118,
   "id": "d4e05534",
   "metadata": {},
   "outputs": [
    {
     "name": "stdout",
     "output_type": "stream",
     "text": [
      "[[1 2 3 4]\n",
      " [5 6 7 8]]\n",
      "1\n",
      "8\n",
      "4.5\n",
      "4.5\n",
      "2.29128784747792\n"
     ]
    }
   ],
   "source": [
    "a=np.array([[1,2,3,4],[5,6,7,8]])\n",
    "b=np.array([10,20,30,40])\n",
    "print(a)\n",
    "print(np.min(a))\n",
    "print(np.max(a))\n",
    "print(np.mean(a))\n",
    "print(np.median(a))\n",
    "print(np.std(a))"
   ]
  },
  {
   "cell_type": "code",
   "execution_count": 120,
   "id": "02c36096",
   "metadata": {},
   "outputs": [],
   "source": [
    "#Arithmetic Operators"
   ]
  },
  {
   "cell_type": "code",
   "execution_count": 126,
   "id": "e62fe55d",
   "metadata": {},
   "outputs": [
    {
     "name": "stdout",
     "output_type": "stream",
     "text": [
      "[[1 2 3 4]\n",
      " [5 6 7 8]]\n",
      "[[11 22 33 44]\n",
      " [15 26 37 48]]\n",
      "[[ -9 -18 -27 -36]\n",
      " [ -5 -14 -23 -32]]\n",
      "[[          1     1048576 -1010140999           0]\n",
      " [    9765625 -1190133760  1878557649           0]]\n",
      "[ 100  400  900 1600]\n",
      "[[ 10  40  90 160]\n",
      " [ 50 120 210 320]]\n",
      "[[0.1        0.1        0.1        0.1       ]\n",
      " [0.5        0.3        0.23333333 0.2       ]]\n"
     ]
    }
   ],
   "source": [
    "a=np.array([[1,2,3,4],[5,6,7,8]])\n",
    "b=np.array([10,20,30,40])\n",
    "print(a)\n",
    "print(np.add(a,b))\n",
    "print(np.subtract(a,b))\n",
    "print(np.power(a,b))\n",
    "print(np.power(b,2))\n",
    "print(np.multiply(a,b))\n",
    "print(np.divide(a,b))"
   ]
  },
  {
   "cell_type": "code",
   "execution_count": 127,
   "id": "f5fc2129",
   "metadata": {},
   "outputs": [],
   "source": [
    "#np.linalg komutu"
   ]
  },
  {
   "cell_type": "code",
   "execution_count": 130,
   "id": "a38e9f49",
   "metadata": {},
   "outputs": [
    {
     "name": "stdout",
     "output_type": "stream",
     "text": [
      "[[1 2]\n",
      " [3 4]]\n"
     ]
    },
    {
     "data": {
      "text/plain": [
       "array([[ 70, 100],\n",
       "       [150, 220]])"
      ]
     },
     "execution_count": 130,
     "metadata": {},
     "output_type": "execute_result"
    }
   ],
   "source": [
    "a=np.array([[1,2],[3,4]])\n",
    "b=np.array([[10,20],[30,40]])\n",
    "print(a)\n",
    "np.dot(a,b)\n",
    "# 1 2     10 20\n",
    "# 3 4     30 40\n",
    "#1*10 + 2*30 = 70\n",
    "#1*20 + 2*40 = 100\n",
    "#3*10 + 4*30 = 150\n",
    "#3*20 + 4*40 = 220"
   ]
  },
  {
   "cell_type": "code",
   "execution_count": 134,
   "id": "9730b025",
   "metadata": {},
   "outputs": [
    {
     "data": {
      "text/plain": [
       "array([[ 70, 100],\n",
       "       [150, 220]])"
      ]
     },
     "execution_count": 134,
     "metadata": {},
     "output_type": "execute_result"
    }
   ],
   "source": [
    "a=np.array([[1,2],[3,4]])\n",
    "b=np.array([[10,20],[30,40]])\n",
    "np.matmul(a,b)\n",
    "#matrix multiplication "
   ]
  },
  {
   "cell_type": "code",
   "execution_count": 135,
   "id": "0bd776b7",
   "metadata": {},
   "outputs": [
    {
     "data": {
      "text/plain": [
       "array([[37, 40],\n",
       "       [85, 92]])"
      ]
     },
     "execution_count": 135,
     "metadata": {},
     "output_type": "execute_result"
    }
   ],
   "source": [
    "a=np.array([[1,2],[3,4]])\n",
    "b=np.array([[11,12],[13,14]])\n",
    "np.matmul(a,b)"
   ]
  },
  {
   "cell_type": "code",
   "execution_count": 137,
   "id": "ae207b94",
   "metadata": {},
   "outputs": [
    {
     "name": "stdout",
     "output_type": "stream",
     "text": [
      "[[1 2]\n",
      " [3 4]]\n"
     ]
    },
    {
     "data": {
      "text/plain": [
       "130"
      ]
     },
     "execution_count": 137,
     "metadata": {},
     "output_type": "execute_result"
    }
   ],
   "source": [
    "a=np.array([[1,2],[3,4]])\n",
    "b=np.array([[11,12],[13,14]])\n",
    "print(a)\n",
    "np.vdot(a,b)\n",
    "# 1 2     11 12\n",
    "# 3 4     13 14\n",
    "#1*11 + 2*12  + 3*13 + 4*14  --> 130 "
   ]
  },
  {
   "cell_type": "code",
   "execution_count": 139,
   "id": "2a79725d",
   "metadata": {},
   "outputs": [
    {
     "name": "stdout",
     "output_type": "stream",
     "text": [
      "[[1 2]\n",
      " [3 4]]\n"
     ]
    },
    {
     "data": {
      "text/plain": [
       "array([[35, 41],\n",
       "       [81, 95]])"
      ]
     },
     "execution_count": 139,
     "metadata": {},
     "output_type": "execute_result"
    }
   ],
   "source": [
    "a=np.array([[1,2],[3,4]])\n",
    "b=np.array([[11,12],[13,14]])\n",
    "print(a)\n",
    "np.inner(a,b)\n",
    "# 1 2     11 12\n",
    "# 3 4     13 14\n",
    "#1*11 + 2*12  --> 35\n",
    "#1*13 + 2*14  --> 41 \n",
    "#3*11 + 4*12  --> 81\n",
    "#3*13 + 4*14  --> 95"
   ]
  },
  {
   "cell_type": "code",
   "execution_count": 142,
   "id": "8501bdf1",
   "metadata": {},
   "outputs": [
    {
     "name": "stdout",
     "output_type": "stream",
     "text": [
      "[[1 2]\n",
      " [3 4]]\n"
     ]
    },
    {
     "data": {
      "text/plain": [
       "-2.0000000000000004"
      ]
     },
     "execution_count": 142,
     "metadata": {},
     "output_type": "execute_result"
    }
   ],
   "source": [
    "a=np.array([[1,2],[3,4]])\n",
    "b=np.array([[11,12],[13,14]])\n",
    "print(a)\n",
    "np.linalg.det(a)\n",
    "# 1 2     \n",
    "# 3 4     \n",
    "# 1*4 - 2*3 "
   ]
  },
  {
   "cell_type": "code",
   "execution_count": 143,
   "id": "e3871f02",
   "metadata": {},
   "outputs": [
    {
     "data": {
      "text/plain": [
       "array([[0.30610779, 0.85094388],\n",
       "       [0.15105222, 0.74710752]])"
      ]
     },
     "execution_count": 143,
     "metadata": {},
     "output_type": "execute_result"
    }
   ],
   "source": [
    "np.random.rand(2,2)"
   ]
  },
  {
   "cell_type": "code",
   "execution_count": 144,
   "id": "0b036730",
   "metadata": {},
   "outputs": [],
   "source": [
    "# rand randint random() choice RandomState seed() "
   ]
  },
  {
   "cell_type": "code",
   "execution_count": null,
   "id": "ad805f87",
   "metadata": {},
   "outputs": [],
   "source": []
  }
 ],
 "metadata": {
  "kernelspec": {
   "display_name": "Python 3",
   "language": "python",
   "name": "python3"
  },
  "language_info": {
   "codemirror_mode": {
    "name": "ipython",
    "version": 3
   },
   "file_extension": ".py",
   "mimetype": "text/x-python",
   "name": "python",
   "nbconvert_exporter": "python",
   "pygments_lexer": "ipython3",
   "version": "3.7.7"
  }
 },
 "nbformat": 4,
 "nbformat_minor": 5
}
