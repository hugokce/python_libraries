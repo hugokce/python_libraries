{
 "cells": [
  {
   "cell_type": "code",
   "execution_count": 1,
   "id": "32b97c7f",
   "metadata": {},
   "outputs": [],
   "source": [
    "#https://www.udemy.com/course/numpy-with-python/learn/lecture/17677106?start=15#overview\n",
    "\n",
    "#3 saat\n",
    "\n",
    "#NumPy+with+Python+-+DATAhill+Solutions.pdf indirildi\n",
    "#DATA+SCIENCE+with+DA,+ML,+DL,+AI+using+Python+&++R.pdf indirildi\n",
    "\n",
    "#Anaconda kullanıyor\n",
    "\n"
   ]
  },
  {
   "cell_type": "code",
   "execution_count": 2,
   "id": "8a2e93d4",
   "metadata": {},
   "outputs": [
    {
     "name": "stdout",
     "output_type": "stream",
     "text": [
      "1.21.6\n"
     ]
    }
   ],
   "source": [
    "import numpy as np\n",
    "print(np.__version__)\n",
    "\n"
   ]
  },
  {
   "cell_type": "code",
   "execution_count": 6,
   "id": "d77deede",
   "metadata": {},
   "outputs": [
    {
     "name": "stdout",
     "output_type": "stream",
     "text": [
      "[1, 2, 3, 4, 5]\n",
      "[1 2 3 4 5]\n",
      "[101 102 103 104 105]\n"
     ]
    }
   ],
   "source": [
    "a=[1,2,3,4,5]\n",
    "print(a)\n",
    "type(a)  \n",
    "# [1,2,3,4,5]\n",
    "b=np.array(a)\n",
    "print(b) #  [1 2 3 4 5]\n",
    "print(b+100)"
   ]
  },
  {
   "cell_type": "code",
   "execution_count": 7,
   "id": "bd491ac7",
   "metadata": {},
   "outputs": [
    {
     "data": {
      "text/plain": [
       "dtype('int32')"
      ]
     },
     "execution_count": 7,
     "metadata": {},
     "output_type": "execute_result"
    }
   ],
   "source": [
    "b.shape # 5 verir 5 eleman var içinde\n",
    "b.dtype #(int32) verir"
   ]
  },
  {
   "cell_type": "code",
   "execution_count": 10,
   "id": "7382e2ee",
   "metadata": {},
   "outputs": [
    {
     "name": "stdout",
     "output_type": "stream",
     "text": [
      "[[ 1  2  3  4  5  6  7  8  9 10]]\n"
     ]
    },
    {
     "data": {
      "text/plain": [
       "dtype('int32')"
      ]
     },
     "execution_count": 10,
     "metadata": {},
     "output_type": "execute_result"
    }
   ],
   "source": [
    "a= np.array([1,2,3,4,5,6,7,8,9,10],ndmin=2)\n",
    "print(a) #-->  [[1 2 3 4 5 6 7 8 9 10]]  verir\n",
    "a.shape #(1,10) verir\n",
    "a.dtype #int32 verir"
   ]
  },
  {
   "cell_type": "code",
   "execution_count": 12,
   "id": "ff620613",
   "metadata": {},
   "outputs": [
    {
     "name": "stdout",
     "output_type": "stream",
     "text": [
      "[ 1.+0.j  2.+0.j  3.+0.j  4.+0.j  5.+0.j  6.+0.j  7.+0.j  8.+0.j  9.+0.j\n",
      " 10.+0.j]\n"
     ]
    }
   ],
   "source": [
    "a= np.array([1,2,3,4,5,6,7,8,9,10],dtype=complex)\n",
    "#dersek dtype complex123 gelir\n",
    "#ayrıca yanına +0j eklenir\n",
    "print(a)\n"
   ]
  },
  {
   "cell_type": "code",
   "execution_count": 13,
   "id": "5299838c",
   "metadata": {},
   "outputs": [
    {
     "name": "stdout",
     "output_type": "stream",
     "text": [
      "[[1 2 3]\n",
      " [4 5 6]]\n"
     ]
    },
    {
     "data": {
      "text/plain": [
       "(2, 3)"
      ]
     },
     "execution_count": 13,
     "metadata": {},
     "output_type": "execute_result"
    }
   ],
   "source": [
    "a= np.array([[1,2,3],[4,5,6]])\n",
    "print(a) # [[1 2 3] [4 5 6]]\n",
    "a.shape # (2,3) verir"
   ]
  },
  {
   "cell_type": "code",
   "execution_count": 15,
   "id": "0361da02",
   "metadata": {},
   "outputs": [
    {
     "name": "stdout",
     "output_type": "stream",
     "text": [
      "[[[ 1  2  3]\n",
      "  [ 4  5  6]]\n",
      "\n",
      " [[ 7  8  9]\n",
      "  [10 11 12]]]\n"
     ]
    },
    {
     "data": {
      "text/plain": [
       "(2, 2, 3)"
      ]
     },
     "execution_count": 15,
     "metadata": {},
     "output_type": "execute_result"
    }
   ],
   "source": [
    "a= np.array([[[1,2,3],[4,5,6]],[[7,8,9],[10,11,12]]])\n",
    "print(a)  \n",
    "a.shape # (2,2,3) verir\n",
    "\n"
   ]
  },
  {
   "cell_type": "code",
   "execution_count": 17,
   "id": "eb1ec588",
   "metadata": {},
   "outputs": [
    {
     "name": "stdout",
     "output_type": "stream",
     "text": [
      "[[ 1  2  3]\n",
      " [ 4  5  6]\n",
      " [ 7  8  9]\n",
      " [10 11 12]]\n"
     ]
    },
    {
     "data": {
      "text/plain": [
       "(4, 3)"
      ]
     },
     "execution_count": 17,
     "metadata": {},
     "output_type": "execute_result"
    }
   ],
   "source": [
    "a= np.array([[1,2,3],[4,5,6],[7,8,9],[10,11,12]])\n",
    "print(a)  \n",
    "a.shape # (4,3) verir\n"
   ]
  },
  {
   "cell_type": "code",
   "execution_count": 18,
   "id": "f9078913",
   "metadata": {},
   "outputs": [
    {
     "name": "stdout",
     "output_type": "stream",
     "text": [
      "[[1 2 3]\n",
      " [4 5 6]]\n",
      "[[1 2]\n",
      " [3 4]\n",
      " [5 6]]\n"
     ]
    }
   ],
   "source": [
    "a= np.array([[1,2,3],[4,5,6]])\n",
    "print(a)  #[[1 2 3] [4 5 6]]\n",
    "a.shape =(3,2) #verirsek\n",
    "a.shape #(3,2) verir\n",
    "print(a) #[[1 2] [3 4] [5 6]] verir\n",
    "\n"
   ]
  },
  {
   "cell_type": "code",
   "execution_count": 20,
   "id": "efc93caa",
   "metadata": {},
   "outputs": [
    {
     "name": "stdout",
     "output_type": "stream",
     "text": [
      "[[1 2 3]\n",
      " [4 5 6]]\n",
      "[[1 2]\n",
      " [3 4]\n",
      " [5 6]]\n"
     ]
    }
   ],
   "source": [
    "#Numpy Array devam:\n",
    "\n",
    "a= np.array([[1,2,3],[4,5,6]])\n",
    "print(a) # [[1 2 3] [4 5 6]]\n",
    "a.reshape(3,2)\n",
    "#ama a'ya bunu eşitlemezsek işlemez a yine 2,3 olarak devam eder\n",
    "a=a.reshape(3,2)\n",
    "print(a)\n",
    "\n"
   ]
  },
  {
   "cell_type": "code",
   "execution_count": 21,
   "id": "8d6583aa",
   "metadata": {},
   "outputs": [
    {
     "name": "stdout",
     "output_type": "stream",
     "text": [
      "2\n"
     ]
    }
   ],
   "source": [
    "print(a.ndim) #  dersek 2 döner 2 boyut var."
   ]
  },
  {
   "cell_type": "code",
   "execution_count": 23,
   "id": "1648ffaa",
   "metadata": {},
   "outputs": [
    {
     "name": "stdout",
     "output_type": "stream",
     "text": [
      "[1 2 3 4 5 6]\n",
      "[[1 2]\n",
      " [3 4]\n",
      " [5 6]]\n",
      "2\n"
     ]
    }
   ],
   "source": [
    "a= np.array([1,2,3,4,5,6])\n",
    "print(a)\n",
    "a=a.reshape(3,2)\n",
    "print(a) # [[1 2] [3 4] [5 6]]\n",
    "print(a.ndim)  #2\n",
    "\n"
   ]
  },
  {
   "cell_type": "code",
   "execution_count": 26,
   "id": "9b1bec5c",
   "metadata": {},
   "outputs": [
    {
     "data": {
      "text/plain": [
       "array([[1, 2],\n",
       "       [3, 4],\n",
       "       [5, 6]])"
      ]
     },
     "execution_count": 26,
     "metadata": {},
     "output_type": "execute_result"
    }
   ],
   "source": [
    "#np.empty(shape, dtype=float,order='C')  c row-major demektir\n",
    "#bir de F var o da column-major order demektir\n",
    "np.empty([3,2])  # 3*2lik çok küçük tesadüfi sayılardan oluşan\n",
    "#array oluşturur\n",
    "np.empty([3,2],dtype=int)\n",
    "#array([[1,2],[3,4],[5,6]])# verir\n",
    "\n"
   ]
  },
  {
   "cell_type": "code",
   "execution_count": 28,
   "id": "7ce8aa7e",
   "metadata": {},
   "outputs": [
    {
     "data": {
      "text/plain": [
       "array([[0, 0],\n",
       "       [0, 0],\n",
       "       [0, 0]])"
      ]
     },
     "execution_count": 28,
     "metadata": {},
     "output_type": "execute_result"
    }
   ],
   "source": [
    "np.zeros([3,2],dtype=int)\n",
    "#array([[0,0],[0,0],[0,0]]) verir\n",
    "\n"
   ]
  },
  {
   "cell_type": "code",
   "execution_count": 29,
   "id": "dc0d5f8f",
   "metadata": {},
   "outputs": [
    {
     "data": {
      "text/plain": [
       "array([[1, 1],\n",
       "       [1, 1],\n",
       "       [1, 1]])"
      ]
     },
     "execution_count": 29,
     "metadata": {},
     "output_type": "execute_result"
    }
   ],
   "source": [
    "np.ones([3,2],dtype=int)\n",
    "#array([[1,1],[1,1],[1,1]]) verir\n",
    "\n"
   ]
  },
  {
   "cell_type": "code",
   "execution_count": 31,
   "id": "57fcfdc4",
   "metadata": {},
   "outputs": [
    {
     "name": "stdout",
     "output_type": "stream",
     "text": [
      "[1, 2, 3, 4, 5]\n",
      "[1 2 3 4 5]\n"
     ]
    }
   ],
   "source": [
    "a=[1,2,3,4,5]\n",
    "print(a)\n",
    "type(a) #  [1,2,3,4,5]\n",
    "b=np.asarray(a,dtype=int)\n",
    "print(b) #  [1 2 3 4 5]\n",
    "\n"
   ]
  },
  {
   "cell_type": "code",
   "execution_count": 32,
   "id": "71e1210d",
   "metadata": {},
   "outputs": [
    {
     "name": "stdout",
     "output_type": "stream",
     "text": [
      "[0 1 2 3 4]\n",
      "[0. 1. 2. 3. 4.]\n",
      "[ 1  2  3  4  5  6  7  8  9 10]\n",
      "[1 3 5 7 9]\n"
     ]
    }
   ],
   "source": [
    "#np.arange(start,end,step) kullanımı\n",
    "np.arange(5) #dersek array([0,1,2,3,4]) verir\n",
    "print(np.arange(5)) #dersek [0 1 2 3 4] verir\n",
    "print(np.arange(5,dtype=float)) #[0. 1. 2. 3. 4.] verir\n",
    "print(np.arange(1,11)) #[1 2 3 4 5 6 7 8 9 10] döner\n",
    "print(np.arange(1,11,2)) #[1 3 5 7 9] döner\n",
    "\n"
   ]
  },
  {
   "cell_type": "code",
   "execution_count": 33,
   "id": "4266ddf5",
   "metadata": {},
   "outputs": [
    {
     "name": "stdout",
     "output_type": "stream",
     "text": [
      "[ 1. 11.]\n",
      "[ 1.    3.25  5.5   7.75 10.  ]\n"
     ]
    }
   ],
   "source": [
    "#linspace() kullanımı\n",
    "print(np.linspace(1,11,2)) # [1. 11.] döner \n",
    "print(np.linspace(1,10,5)) #[1. 3.25 5.5 5.75 10.] döner \n",
    "\n"
   ]
  },
  {
   "cell_type": "code",
   "execution_count": null,
   "id": "09e89c63",
   "metadata": {},
   "outputs": [],
   "source": []
  }
 ],
 "metadata": {
  "kernelspec": {
   "display_name": "Python 3",
   "language": "python",
   "name": "python3"
  },
  "language_info": {
   "codemirror_mode": {
    "name": "ipython",
    "version": 3
   },
   "file_extension": ".py",
   "mimetype": "text/x-python",
   "name": "python",
   "nbconvert_exporter": "python",
   "pygments_lexer": "ipython3",
   "version": "3.7.7"
  }
 },
 "nbformat": 4,
 "nbformat_minor": 5
}
